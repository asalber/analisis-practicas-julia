{
  "cells": [
    {
      "cell_type": "markdown",
      "metadata": {},
      "source": [
        "---\n",
        "title: Funciones elementales\n",
        "lang: es\n",
        "#jupyter: julia-1.11\n",
        "---\n",
        "\n",
        "\n",
        "\n",
        "\n",
        "\n",
        "\n",
        "\n",
        "\n",
        "## Ejercicios Resueltos\n",
        "\n",
        "Para la realización de esta práctica se requieren los siguientes paquetes:\n"
      ],
      "id": "1122db43"
    },
    {
      "cell_type": "code",
      "metadata": {},
      "source": [
        "using Plots  # Para el dibujo de gráficas.\n",
        "using Makie # Para obtener gráficos interactivos.\n",
        "using SymPy # Para el cálculo simbólico.\n",
        "using MTH229 # Para restringir la gráfica de una función a su dominio.\n",
        "using LaTeXStrings  # Para usar código LaTeX en los gráficos.\n",
        "using Latexify  # Para convertir expresiones a código LaTeX."
      ],
      "id": "1b19a30c",
      "execution_count": null,
      "outputs": []
    },
    {
      "cell_type": "markdown",
      "metadata": {},
      "source": [
        ":::{#exr-grafica-funcion-tabla}\n",
        "La siguiente tabla contiene el número de bacterias en un cultivo cada hora que pasa.\n",
        "\n",
        "| Horas | Bacterias |\n",
        "|:-:|:-:|\n",
        "| 0 | 1 |\n",
        "| 1 | 2 |\n",
        "| 2 | 4 |\n",
        "| 3 | 8 |\n",
        "| 4 | 16 |\n",
        "| 5 | 32 |\n",
        "| 6 | 64 |\n",
        "| 7 | 128 |\n",
        "\n",
        "Dibujar una gráfica con la evolución del la población de bacterias.\n",
        "\n",
        ":::{.callout-note collapse=\"true\"}\n",
        "## Ayuda\n",
        "Definir los valores de las horas en un vector `x` y el número de bacterias en otro `y` y luego utilizar la función [`scater(x,y)`](https://aprendeconalf.es/manual-julia/graficos.html#a%C3%B1adir-puntos-a-una-gr%C3%A1fica) del paquete `Makie`, o [`scatter(x,y)`](https://aprendeconalf.es/manual-julia/graficos.html#a%C3%B1adir-puntos-a-una-gr%C3%A1fica) del paquete `Plots` para dibujar una gráfica de puntos.\n",
        ":::\n",
        "\n",
        ":::{.callout-tip collapse=\"true\"}\n",
        "## Solución\n",
        "\n",
        ":::{.panel-tabset}\n",
        "\n",
        "## Makie\n"
      ],
      "id": "e27d9b8a"
    },
    {
      "cell_type": "code",
      "metadata": {},
      "source": [
        "using GLMakie\n",
        "horas = 0:7\n",
        "bacterias = [1, 2, 4, 8, 16, 32, 64, 128]\n",
        "fig = Figure()\n",
        "ax = Axis(fig[1,1], xlabel=\"Horas\", ylabel=\"Bacterias\", title=\"Evolución de la población de bacterias\")\n",
        "Makie.scatter!(ax, horas, bacterias)\n",
        "fig"
      ],
      "id": "eeeb9042",
      "execution_count": null,
      "outputs": []
    },
    {
      "cell_type": "markdown",
      "metadata": {},
      "source": [
        "## Plots\n"
      ],
      "id": "66343fce"
    },
    {
      "cell_type": "code",
      "metadata": {},
      "source": [
        "using Plots\n",
        "horas = 0:7\n",
        "bacterias = [1, 2, 4, 8, 16, 32, 64, 128]\n",
        "Plots.scatter(horas, bacterias, xlab=\"Horas\", ylab=\"Bacterias\", title=\"Evolución de la población de bacterias\", legend=false)"
      ],
      "id": "e77407c4",
      "execution_count": null,
      "outputs": []
    },
    {
      "cell_type": "markdown",
      "metadata": {},
      "source": [
        ":::\n",
        ":::\n",
        "\n",
        "¿Los pares dados en la tabla forman una función?\n",
        "\n",
        ":::{.callout-tip collapse=\"true\"}\n",
        "## Solución\n",
        "Si, porque para cada hora hay a lo sumo un número de bacterias con el que se relaciona.\n",
        ":::\n",
        "\n",
        "¿Qué fórmula crees que explica la evolución del número de bacterias en función de las horas que pasan? Dibuja en la gráfica anterior la función con esa fórmula.\n",
        "\n",
        ":::{.callout-note collapse=\"true\"}\n",
        "## Ayuda\n",
        "Para añadir una nueva gráfica a una anterior se añade un signo de exclamación `!` a la función de graficación. Para una gráfica de líneas, utilizar la función  [`lines!`](https://aprendeconalf.es/manual-julia/graficos.html#diagrama-de-l%C3%ADneas) del paquete `Makie`, o [`plot!`](https://aprendeconalf.es/manual-julia/graficos.html#gr%C3%A1fica-de-una-funci%C3%B3n-de-una-variable) del paquete `Plots`, pasándole el nombre de la función si se ha definido previamente o la [definición anónima de la función](https://aprendeconalf.es/manual-julia/funciones.html#funciones-an%C3%B3nimas) \n",
        ":::\n",
        "\n",
        ":::{.callout-tip collapse=\"true\"}\n",
        "## Solución\n",
        ":::{.panel-tabset}\n",
        "\n",
        "## Makie\n"
      ],
      "id": "da212613"
    },
    {
      "cell_type": "code",
      "metadata": {},
      "source": [
        "Makie.lines!(ax, 0..7, x -> 2^x)\n",
        "fig"
      ],
      "id": "c4fd65d5",
      "execution_count": null,
      "outputs": []
    },
    {
      "cell_type": "markdown",
      "metadata": {},
      "source": [
        "## Plots\n"
      ],
      "id": "41a910b1"
    },
    {
      "cell_type": "code",
      "metadata": {},
      "source": [
        "using Plots\n",
        "Plots.plot!(x -> 2^x)"
      ],
      "id": "85c4f94d",
      "execution_count": null,
      "outputs": []
    },
    {
      "cell_type": "markdown",
      "metadata": {},
      "source": [
        ":::\n",
        ":::\n",
        ":::\n",
        "\n",
        ":::{#exr-resolucion-grafica-ecuacion}\n",
        "En el lanzamiento vertical de un objeto, la posición que ocupa el objeto en cada instante $t$, viene dado por la función\n",
        "\n",
        "$$\n",
        "y(t) =  y_0+v_0t+\\frac{1}{2}gt^2\n",
        "$$\n",
        "\n",
        "donde $y_0$ es la altura inicial del objeto, $v_0$ la velocidad inicial con que se lanza, y $g$ es la aceleración de la gravedad. Una pelota se lanza verticalmente desde la ventada de un edificio a 5 m de altura, con una velocidad inicial de $10$ m/s. Dibujar la gráfica de la posición de la pelota en función del tiempo, tomando una aceleración de la gravedad $g=-9.8$ m/s².\n",
        "\n",
        ":::{.callout-note collapse=\"true\"}\n",
        "## Ayuda\n",
        "Declarar $t$ como una variable simbólica usando el paquete [`SymPy`](https://docs.juliahub.com/SymPy/KzewI/1.0.29/introduction/#Symbols-1), definir después las constantes $y_0$, $v_0$ y $g$, y luego definir la función $y(t)$ mediante la fórmula dada.\n",
        "\n",
        "Para dibujar la gráfica de la función, usar la función [lines!](https://aprendeconalf.es/manual-julia/graficos.html#diagrama-de-l%C3%ADneas) del paquete `Makie` o la función `plot` del paquete `Plots`, pasándole el nombre de la función. Como no tienen sentido los instantes negativos, ni las posiciones negativas, restringir la ventana de graficación a valores de $t$ y de $y$ positivos usando los parámetros [`xlim`](https://aprendeconalf.es/manual-julia/graficos.html#ventana-de-graficaci%C3%B3n) e [`ylim`](https://aprendeconalf.es/manual-julia/graficos.html#ventana-de-graficaci%C3%B3n).\n",
        ":::\n",
        "\n",
        ":::{.callout-tip collapse=\"true\"}\n",
        "## Solución\n",
        ":::{.panel-tabset}\n",
        "\n",
        "## Makie\n"
      ],
      "id": "81f4bcdd"
    },
    {
      "cell_type": "code",
      "metadata": {},
      "source": [
        "using GLMakie, SymPy\n",
        "@syms t  #Declaramos t como una variable simbólica\n",
        "y₀ = 5\n",
        "v₀ = 10\n",
        "const gravedad = -9.8  #Declaramos la gravedad como una constante\n",
        "y0(t) = y₀+v₀*t+ 1/2*gravedad*t^2\n",
        "fig = Figure()\n",
        "ax = Axis(fig[1,1], limits=(0, 3, 0, 15), xlabel=\"Tiempo (s)\", ylabel=\"Altura (m)\")\n",
        "Makie.lines!(ax, 0..3, y0, label=\"Pelota\")\n",
        "fig"
      ],
      "id": "a9eb0146",
      "execution_count": null,
      "outputs": []
    },
    {
      "cell_type": "markdown",
      "metadata": {},
      "source": [
        "## Plots\n"
      ],
      "id": "9329e6d5"
    },
    {
      "cell_type": "code",
      "metadata": {},
      "source": [
        "using Plots, SymPy\n",
        "@syms t  #Declaramos t como una variable simbólica\n",
        "y₀ = 5\n",
        "v₀ = 10\n",
        "const gravedad = -9.8  #Declaramos la gravedad como una constante\n",
        "y0(t) = y₀+v₀*t+ 1/2*gravedad*t^2\n",
        "Plots.plot(y0, xlims=(0,3), ylims=(0,15), label=\"Pelota\", xlab=\"Tiempo (s)\", ylab=\"Altura (m)\")"
      ],
      "id": "46739d19",
      "execution_count": null,
      "outputs": []
    },
    {
      "cell_type": "markdown",
      "metadata": {},
      "source": [
        ":::\n",
        ":::\n",
        "\n",
        "Al mismo tiempo que se lanza la pelota, un ascensor exterior baja por la fachada del mismo edificio desde una altura de $8$ m con una velocidad constante de $2$ m/s. Dibujar la gráfica de la posición del ascensor junto a la gráfica de la pelota.\n",
        "\n",
        ":::{.callout-note collapse=\"true\"}\n",
        "## Ayuda\n",
        "La función que define la posición del ascensor que baja desde una altura $y_1$ con una velocidad constante $v_1$ en cada instante $t$ es $y(t) = y_1-v_1t$.\n",
        ":::\n",
        "\n",
        ":::{.callout-tip collapse=\"true\"}\n",
        "## Solución\n",
        ":::{.panel-tabset}\n",
        "\n",
        "## Makie\n"
      ],
      "id": "aac1eec2"
    },
    {
      "cell_type": "code",
      "metadata": {},
      "source": [
        "y₁ = 8\n",
        "v₁ = 2\n",
        "y1(t) = y₁-v₁*t\n",
        "Makie.lines!(ax, 0..3, y1, label=\"Ascensor\")\n",
        "axislegend()\n",
        "fig"
      ],
      "id": "47877489",
      "execution_count": null,
      "outputs": []
    },
    {
      "cell_type": "markdown",
      "metadata": {},
      "source": [
        "## Plots\n"
      ],
      "id": "09b873c0"
    },
    {
      "cell_type": "code",
      "metadata": {},
      "source": [
        "y₁ = 8\n",
        "v₁ = 2\n",
        "y1(t) = y₁-v₁*t\n",
        "Plots.plot!(y1, label=\"Ascensor\")"
      ],
      "id": "f85b30c9",
      "execution_count": null,
      "outputs": []
    },
    {
      "cell_type": "markdown",
      "metadata": {},
      "source": [
        ":::\n",
        ":::\n",
        "\n",
        "¿En qué instantes el ascensor estará a la misma altura de la pelota? Dibujar los puntos correspondientes a esos instantes en la gráfica anterior.\n",
        "\n",
        ":::{.callout-tip collapse=\"true\"}\n",
        "## Solución\n",
        ":::{.panel-tabset}\n",
        "\n",
        "## Makie\n"
      ],
      "id": "e6c44b06"
    },
    {
      "cell_type": "code",
      "metadata": {},
      "source": [
        "sol = float(solve(y0(t)-y1(t)))\n",
        "Makie.scatter!(ax, sol, y1.(sol), color = :red, label=\"Intersección\")\n",
        "fig"
      ],
      "id": "453ac5c8",
      "execution_count": null,
      "outputs": []
    },
    {
      "cell_type": "markdown",
      "metadata": {},
      "source": [
        "## Plots\n"
      ],
      "id": "36f504b0"
    },
    {
      "cell_type": "code",
      "metadata": {},
      "source": [
        "sol = solve(y0(t)-y1(t))\n",
        "print(\"Instantes: \", sol)\n",
        "Plots.scatter!(sol, y1.(sol), label=\"Intersección\")"
      ],
      "id": "88a20016",
      "execution_count": null,
      "outputs": []
    },
    {
      "cell_type": "markdown",
      "metadata": {},
      "source": [
        ":::\n",
        ":::\n",
        ":::\n",
        "\n",
        ":::{#exr-grafica-funcion-polinomica}\n",
        "El volumen de un globo esférico depende del radio según la función $v(r)= \\frac{4}{3}\\pi r^3$. Calcular la función que expresa el radio en función del volumen y dibujar su gráfica.\n",
        "\n",
        ":::{.callout-note collapse=\"true\"}\n",
        "## Ayuda\n",
        "Declarar las variables simbólicas `r` y `v` usando el paquete `SymPy` y definir la función `vol(r)` que expresa el volumen del globo en función del radio.\n",
        "\n",
        "Después utilizar la función [`solve`](https://docs.juliahub.com/SymPy/KzewI/1.0.29/introduction/#The-solve-function-1) del paquete `SymPy` para despejar `r` de la ecuación `v-vol(r)=0`.\n",
        ":::\n",
        "\n",
        ":::{.callout-tip collapse=\"true\"}\n",
        "## Solución\n",
        ":::{.panel-tabset}\n",
        "\n",
        "## Makie\n"
      ],
      "id": "2769bd4b"
    },
    {
      "cell_type": "code",
      "metadata": {},
      "source": [
        "using GLMakie, SymPy\n",
        "@syms r v\n",
        "vol(r) = 4/3*pi*r^3\n",
        "rad = lambdify(solve(v-vol(r),r)[1])\n",
        "fig = Figure()\n",
        "ax = Axis(fig[1,1], xlabel=\"Volumen (m³)\", ylabel=\"Radio (m)\")\n",
        "Makie.lines!(ax, 0..10, rad)\n",
        "fig"
      ],
      "id": "18b3a9f8",
      "execution_count": null,
      "outputs": []
    },
    {
      "cell_type": "markdown",
      "metadata": {},
      "source": [
        "## Plots\n"
      ],
      "id": "c0418a24"
    },
    {
      "cell_type": "code",
      "metadata": {},
      "source": [
        "using Plots, SymPy\n",
        "@syms r v\n",
        "vol(r) = 4/3*pi*r^3\n",
        "rad2 = solve(v-vol(r),r)[1]\n",
        "Plots.plot(rad2, xlim=(0,10), xlab=\"Volumen (m³)\", ylab=\"Radio (m)\", legend=false)"
      ],
      "id": "394ed172",
      "execution_count": null,
      "outputs": []
    },
    {
      "cell_type": "markdown",
      "metadata": {},
      "source": [
        ":::\n",
        ":::\n",
        "\n",
        "Si empezamos a introducir helio en el globo de manera que su volumen a los $t$ minutos viene dado por la función $v(t)=t^2+2t$, dibujar la gráfica de la función que da el radio en cada instante.\n",
        "\n",
        ":::{.callout-note collapse=\"true\"}\n",
        "## Ayuda\n",
        "Declarar las variables simbólicas `t` usando el paquete `SymPy` y definir la función `vol(t)` que expresa el volumen del globo en función del tiempo.\n",
        "\n",
        "Después utilizar a el operador de composición $\\circ$ para componer la función del volumen con la función del radio.\n",
        ":::\n",
        "\n",
        ":::{.callout-tip collapse=\"true\"}\n",
        "## Solución\n",
        ":::{.panel-tabset}\n",
        "\n",
        "## Makie\n"
      ],
      "id": "789a1df9"
    },
    {
      "cell_type": "code",
      "metadata": {},
      "source": [
        "using GLMakie\n",
        "vol(t)=t^2+2t\n",
        "fig = Figure()\n",
        "ax = Axis(fig[1,1], xlabel = \"Tiempo (min)\", ylabel = \"Radio (m)\")\n",
        "Makie.lines!(ax, 0..10, rad∘vol)\n",
        "fig"
      ],
      "id": "16bf847e",
      "execution_count": null,
      "outputs": []
    },
    {
      "cell_type": "markdown",
      "metadata": {},
      "source": [
        "## Plots\n"
      ],
      "id": "9ab326e7"
    },
    {
      "cell_type": "code",
      "metadata": {},
      "source": [
        "using Plots, SymPy\n",
        "@syms t\n",
        "vol(t)=t^2+2t\n",
        "Plots.plot(rad2∘vol, xlim = (0,10), xlab = \"Tiempo (min)\", ylab = \"Radio (m)\", legend = false)"
      ],
      "id": "75d4a207",
      "execution_count": null,
      "outputs": []
    },
    {
      "cell_type": "markdown",
      "metadata": {},
      "source": [
        ":::\n",
        ":::\n",
        "\n",
        "Si el globo explota cuando el radio alcanza los 3 m, ¿cuándo explotará el globo?\n",
        "\n",
        ":::{.callout-tip collapse=\"true\"}\n",
        "## Solución\n"
      ],
      "id": "83e88c6a"
    },
    {
      "cell_type": "code",
      "metadata": {},
      "source": [
        "sol = solve((rad∘vol)(t)-3)"
      ],
      "id": "523f553b",
      "execution_count": null,
      "outputs": []
    },
    {
      "cell_type": "code",
      "metadata": {},
      "source": [
        "#| echo: false\n",
        "using Markdown\n",
        "\n",
        "md\"El globo explotará a los $(sol[2]) minutos.\""
      ],
      "id": "9b914f33",
      "execution_count": null,
      "outputs": []
    },
    {
      "cell_type": "markdown",
      "metadata": {},
      "source": [
        ":::\n",
        ":::\n",
        "\n",
        ":::{#exr-grafica-funcion-polinomica}\n",
        "Dibujar la gráfica de la función \n",
        "\n",
        "$$\n",
        "f(x) = 2x^3-3x^2-12x+4\n",
        "$$\n",
        "\n",
        "en el intervalo $[-3,4]$ y determinar, observando la gráfica, lo siguiente:\n",
        "\n",
        ":::{.callout-note collapse=\"true\"}\n",
        "## Ayuda\n",
        "Definir la función y usar la función usar la función [`lines!`](https://aprendeconalf.es/manual-julia/graficos.html#diagrama-de-l%C3%ADneas) del paquete `Makie` o [`plot`](https://docs.juliaplots.org/latest/tutorial/#Basic-Plotting:-Line-Plots) del paquete `Plots`.\n",
        ":::\n",
        "\n",
        ":::{.callout-tip collapse=\"true\"}\n",
        "## Solución\n",
        ":::{.panel-tabset}\n",
        "\n",
        "## Makie\n"
      ],
      "id": "22778b86"
    },
    {
      "cell_type": "code",
      "metadata": {},
      "source": [
        "using GLMakie\n",
        "f(x) = 2x^3-3x^2-12x+4\n",
        "fig = Figure()\n",
        "ax = Axis(fig[1,1])\n",
        "Makie.lines!(ax, -3..4, f, label = L\"$f(x) = 2x^3-3x^2-12x+4$\")\n",
        "axislegend()\n",
        "fig"
      ],
      "id": "0cde894f",
      "execution_count": null,
      "outputs": []
    },
    {
      "cell_type": "markdown",
      "metadata": {},
      "source": [
        "## Plots\n"
      ],
      "id": "6a1f96a6"
    },
    {
      "cell_type": "code",
      "metadata": {},
      "source": [
        "using Plots, LaTeXStrings\n",
        "f(x) = 2x^3-3x^2-12x+4\n",
        "Plots.plot(f, -3, 4, label=L\"$f(x) = 2x^3-3x^2-12x+4$\")"
      ],
      "id": "4ff0000f",
      "execution_count": null,
      "outputs": []
    },
    {
      "cell_type": "markdown",
      "metadata": {},
      "source": [
        ":::\n",
        ":::\n",
        "\n",
        "a. Dominio\n",
        "\n",
        ":::{.callout-tip collapse=\"true\"}\n",
        "## Solución\n",
        "$\\operatorname{Dom}(f)=\\mathbb{R}$\n",
        ":::\n",
        "\n",
        "b. Imagen\n",
        "\n",
        ":::{.callout-tip collapse=\"true\"}\n",
        "## Solución\n",
        "$\\operatorname{Im}(f)=\\mathbb{R}$\n",
        ":::\n",
        "\n",
        "c. Raíces\n",
        "\n",
        ":::{.callout-tip collapse=\"true\"}\n",
        "## Solución\n"
      ],
      "id": "64704761"
    },
    {
      "cell_type": "code",
      "metadata": {},
      "source": [
        "using SymPy\n",
        "@syms x\n",
        "f(x) = 2x^3-3x^2-12x+4\n",
        "raices = solve(f(x))  # Solución exacta\n",
        "print(raices)\n",
        "N(raices)  # Solución aproximada con decimales"
      ],
      "id": "2d68708d",
      "execution_count": null,
      "outputs": []
    },
    {
      "cell_type": "markdown",
      "metadata": {},
      "source": [
        "Hay tres raíces en $x=-2$, $x=0.31$ y $x=3.19$ aproximadamente.\n",
        ":::\n",
        "\n",
        "d. Signo\n",
        "\n",
        ":::{.callout-tip collapse=\"true\"}\n",
        "## Solución\n",
        "Intervalos con $f(x)$ negativa: $(-\\infty, -2)\\cup (0.31,3.19)$.  \n",
        "Intervalos con $f(x)$ positiva: $(-2,0.31)\\cup (3.19,\\infty)$.\n",
        ":::\n",
        "\n",
        "e. Crecimiento\n",
        "\n",
        ":::{.callout-tip collapse=\"true\"}\n",
        "## Solución\n",
        "Intervalos con $f(x)$ creciente: $(-\\infty, -1)\\cup (2,\\infty)$.  \n",
        "Intervalos con $f(x)$ decreciente: $(-1,2)$.\n",
        ":::\n",
        "\n",
        "f. Extremos\n",
        "\n",
        ":::{.callout-tip collapse=\"true\"}\n",
        "## Solución\n",
        "Máximo relativo en $x=-1$ y el valor máximo es $f(-1)=11$.  \n",
        "Mínimo relativo en $x=2$ y el valor del mínimo es $f(2)=-16$.\n",
        ":::\n",
        "\n",
        "g. Concavidad\n",
        "\n",
        ":::{.callout-tip collapse=\"true\"}\n",
        "## Solución\n",
        "Intervalos de concavidad hacia arriba: $(0.5,\\infty)$.  \n",
        "Intervalos de concavidad hacia abajo: $(-\\infty, 0.5)$.\n",
        ":::\n",
        "\n",
        "h. Puntos de inflexión\n",
        "\n",
        ":::{.callout-tip collapse=\"true\"}\n",
        "## Solución\n",
        "Punto de inflexión en $x=0.5$.\n",
        ":::\n",
        ":::\n",
        "\n",
        ":::{#exr-grafica-funcion-racional}\n",
        "Dibujar la gráfica de la función \n",
        "\n",
        "$$\n",
        "g(t) = \\frac{t^4+19t^2-5}{t^4+9t^2-10}\n",
        "$$\n",
        "\n",
        "en el intervalo $[-8,8]$ y determinar, observando la gráfica, lo siguiente:\n",
        "\n",
        ":::{.callout-note collapse=\"true\"}\n",
        "## Ayuda\n",
        "Usar la función `lines` del paquete `Makie`, o la función `plot` del paquete `Plots` con el parámetro `aspect_ratio=1.0` para que los ejes tengan la misma escala. \n",
        "\n",
        "Para respetar las discontinuidades autilizar la función `rangeclamp()` del paquete `MTH229`.\n",
        ":::\n",
        "\n",
        ":::{.callout-tip collapse=\"true\"}\n",
        "## Solución\n",
        ":::{.panel-tabset}\n",
        "\n",
        "## Makie\n"
      ],
      "id": "caecc183"
    },
    {
      "cell_type": "code",
      "metadata": {},
      "source": [
        "using GLMakie\n",
        "g(t) = (t^4+19t^2-5) / (t^4+9t^2-10)\n",
        "fig = Figure()\n",
        "ax = Axis(fig[1,1])\n",
        "Makie.lines!(ax, -8..8, rangeclamp(g), label = L\"$g(t) = \\frac{t^4+19t^2-5}{t^4+9t^2-10}$\")\n",
        "axislegend()\n",
        "fig"
      ],
      "id": "26fecf62",
      "execution_count": null,
      "outputs": []
    },
    {
      "cell_type": "markdown",
      "metadata": {},
      "source": [
        "## Plots\n"
      ],
      "id": "0bcd06e2"
    },
    {
      "cell_type": "code",
      "metadata": {},
      "source": [
        "using Plots\n",
        "g(t) = (t^4+19t^2-5) / (t^4+9t^2-10)\n",
        "Plots.plot(rangeclamp(g), -8, 8, aspect_ratio=1.0, ylims=(-5,5) , xticks =Vector(-10:10), yticks = Vector(-5:5), label=L\"$g(t) = \\frac{t^4+19t^2-5}{t^4+9t^2-10}$\")"
      ],
      "id": "5e848ea5",
      "execution_count": null,
      "outputs": []
    },
    {
      "cell_type": "markdown",
      "metadata": {},
      "source": [
        ":::\n",
        ":::\n",
        "\n",
        "a. Dominio. ¿Qué pasa si aplicamos la función a algún valor fuera de su dominio?\n",
        "\n",
        ":::{.callout-tip collapse=\"true\"}\n",
        "## Solución\n",
        "$\\operatorname{Dom}(f)=\\mathbb{R}\\setminus\\{-1,1\\}$\n"
      ],
      "id": "79181fc7"
    },
    {
      "cell_type": "code",
      "metadata": {},
      "source": [
        "g(-1), g(1)"
      ],
      "id": "8f46748e",
      "execution_count": null,
      "outputs": []
    },
    {
      "cell_type": "markdown",
      "metadata": {},
      "source": [
        "Como se observa, al aplicar la función a $-1$ y $1$ se obtiene $\\infty$.\n",
        ":::\n",
        "\n",
        "b. Imagen\n",
        "\n",
        ":::{.callout-tip collapse=\"true\"}\n",
        "## Solución\n",
        "$\\operatorname{Im}(f)=\\mathbb{R}\\setminus (0.5,1]$\n",
        ":::\n",
        "\n",
        "c. Asíntotas. Dibujarlas.\n",
        "\n",
        ":::{.callout-note collapse=\"true\"}\n",
        "## Ayuda\n",
        "Buscar las asíntotas verticales en los puntos fuera del dominio de la función.\n",
        "\n",
        "Para dibujar asíntotas verticales usar la función\n",
        "[`vlines!`](https://docs.makie.org/stable/reference/plots/hvlines/index.html) del paquete `Makie`, o [`vline`](https://docs.juliaplots.org/latest/api/#Plots.vline-Tuple) del paquete `Plots`, y para dibujar las asíntotas horizontales usar la función [`hlines!`](https://docs.makie.org/stable/reference/plots/hvlines/index.html) del paquete `Makie`, o [`hline`](https://docs.juliaplots.org/latest/api/#Plots.hline-Tuple) del paquete `Plots`.\n",
        ":::\n",
        "\n",
        ":::{.callout-tip collapse=\"true\"}\n",
        "## Solución\n",
        ":::{.panel-tabset}\n",
        "\n",
        "## Makie\n"
      ],
      "id": "9b158798"
    },
    {
      "cell_type": "code",
      "metadata": {},
      "source": [
        "av = Makie.vlines!(ax, [-1,1], color = :red)\n",
        "ah = Makie.hlines!([1], color = :green)\n",
        "axislegend(ax, [av, ah], [\"Asíntotas verticales\", \"Asíntotas Horizontales\"], position = :rb)\n",
        "fig"
      ],
      "id": "aab64e1d",
      "execution_count": null,
      "outputs": []
    },
    {
      "cell_type": "markdown",
      "metadata": {},
      "source": [
        "## Plots\n"
      ],
      "id": "1c1944db"
    },
    {
      "cell_type": "code",
      "metadata": {},
      "source": [
        "Plots.vline!([-1,1], label=\"Asíntotas verticales\")\n",
        "Plots.hline!([1], label=\"Asíntotas horizontales\", legend=:bottomright)"
      ],
      "id": "c20fa43a",
      "execution_count": null,
      "outputs": []
    },
    {
      "cell_type": "markdown",
      "metadata": {},
      "source": [
        "Asíntotas verticales en $x=-1$ y $x=1$.  \n",
        "Asíntotas horizontales en $y=1$.  \n",
        "No hay asíntotas oblicuas.\n",
        ":::\n",
        ":::\n",
        "\n",
        "d. Raíces\n",
        "\n",
        ":::{.callout-tip collapse=\"true\"}\n",
        "## Solución\n",
        "Hay dos raíces en $x=-0.5$ y $x=0.5$ aproximadamente.\n",
        ":::\n",
        "\n",
        "e. Signo\n",
        "\n",
        ":::{.callout-tip collapse=\"true\"}\n",
        "## Solución\n",
        "Intervalos con $f(x)$ positiva: $(-\\infty,-1)\\cup (-0.5,0.5)\\cup (1,\\infty)$.  \n",
        "Intervalos con $f(x)$ negativa: $(-1,-0.5)\\cup (0.5,1)$.\n",
        ":::\n",
        "\n",
        "e. Crecimiento\n",
        "\n",
        ":::{.callout-tip collapse=\"true\"}\n",
        "## Solución\n",
        "Intervalos con $f(x)$ creciente: $(-\\infty, -1)\\cup (-1,0)$.  \n",
        "Intervalos con $f(x)$ decreciente: $(0,1)\\cup (1,\\infty)$.\n",
        ":::\n",
        "\n",
        "f. Extremos\n",
        "\n",
        ":::{.callout-tip collapse=\"true\"}\n",
        "## Solución\n",
        "Máximo relativo en $x=0$ y el valor máximo es $g(0)=0.5$.  \n",
        "No hay mínimos relativos.\n",
        ":::\n",
        "\n",
        "g. Concavidad\n",
        "\n",
        ":::{.callout-tip collapse=\"true\"}\n",
        "## Solución\n",
        "Intervalos de concavidad hacia arriba: $(-\\infty,-1)\\cup (1,\\infty)$.  \n",
        "Intervalos de concavidad hacia abajo: $(-1,1)$.\n",
        ":::\n",
        "\n",
        "h. Puntos de inflexión\n",
        "\n",
        ":::{.callout-tip collapse=\"true\"}\n",
        "## Solución\n",
        "No hay puntos de inflexión.\n",
        ":::\n",
        "\n",
        ":::\n",
        "\n",
        ":::{#exr-funciones-exponenciales}\n",
        "Dibujar la gráficas de las siguientes funciones exponenciales $2^x$, $e^x$, $0.5^x$, $0.7^x$ y responder a las siguientes preguntas comparando las gráficas.\n",
        "\n",
        ":::{.callout-tip collapse=\"true\"}\n",
        "## Solución\n",
        ":::{.panel-tabset}\n",
        "\n",
        "## Makie\n"
      ],
      "id": "7cb214d8"
    },
    {
      "cell_type": "code",
      "metadata": {},
      "source": [
        "using GLMakie\n",
        "fig = Figure()\n",
        "ax = Axis(fig[1,1])\n",
        "Makie.lines!(ax, -2..2, x -> 2^x, label=L\"$2^x$\")\n",
        "Makie.lines!(ax, -2..2, exp, label=L\"$e^x$\")\n",
        "Makie.lines!(ax, -2..2, x -> 0.5^x, label=L\"$0.5^x$\")\n",
        "Makie.lines!(ax, -2..2, x -> 0.7^x, label=L\"$0.7^x$\")\n",
        "axislegend(position = :lt)\n",
        "fig"
      ],
      "id": "e3bc734f",
      "execution_count": null,
      "outputs": []
    },
    {
      "cell_type": "markdown",
      "metadata": {},
      "source": [
        "## Plots\n"
      ],
      "id": "3bdf68e3"
    },
    {
      "cell_type": "code",
      "metadata": {},
      "source": [
        "using Plots, LaTeXStrings\n",
        "Plots.plot(2^x, -2, 2, label=L\"$2^x$\")\n",
        "Plots.plot!(exp(x), label=L\"$e^x$\")\n",
        "Plots.plot!(0.5^x, label=L\"$2^x$\")\n",
        "Plots.plot!(0.7^x, label=L\"$2^x$\")"
      ],
      "id": "48347f96",
      "execution_count": null,
      "outputs": []
    },
    {
      "cell_type": "markdown",
      "metadata": {},
      "source": [
        ":::\n",
        ":::\n",
        "\n",
        "a. ¿Cuál es el dominio de una función exponencial?\n",
        "\n",
        ":::{.callout-tip collapse=\"true\"}\n",
        "## Solución\n",
        "$\\mathbb{R}$.\n",
        ":::\n",
        "\n",
        "b. ¿Cuál es la imagen de una función exponencial?\n",
        "\n",
        ":::{.callout-tip collapse=\"true\"}\n",
        "## Solución\n",
        "$\\mathbb{R}^+$.\n",
        ":::\n",
        "\n",
        "c. ¿Cómo es el crecimiento de una función exponencial?\n",
        "\n",
        ":::{.callout-tip collapse=\"true\"}\n",
        "## Solución\n",
        "$a^x$ es creciente si $a>1$ y decreciente si $0<a<1$.\n",
        ":::\n",
        "\n",
        "d. ¿Tienen extremos una función exponencial?\n",
        "\n",
        ":::{.callout-tip collapse=\"true\"}\n",
        "## Solución\n",
        "No\n",
        ":::\n",
        "\n",
        "e. ¿Cómo es la curvatura de una función exponencial?\n",
        "\n",
        ":::{.callout-tip collapse=\"true\"}\n",
        "## Solución\n",
        "Es cóncava hacia arriba.\n",
        ":::\n",
        "\n",
        ":::\n",
        "\n",
        ":::{#exr-funciones-trigonométricas}\n",
        "Dibujar la gráficas de las funciones trigonométricas $\\operatorname{sen}(x)$, $\\operatorname{sen}(x+2)$, $\\operatorname{sen}(x)+2$, $\\operatorname{sen}(2x)$ y $2\\operatorname{sen}(x)$, y completar la siguiente tabla estudiando su periodo y amplitud. \n",
        "\n",
        "| Función | Periodo | Amplitud |\n",
        "|-|-|-| \n",
        "| $\\operatorname{sen}(x)$ | | | \n",
        "| $\\operatorname{sen}(x+2)$ | | | \n",
        "| $\\operatorname{sen}(x)+2$ | | | \n",
        "| $\\operatorname{sen}(2x)$ | | | \n",
        "| $2\\operatorname{sen}(x)$ | | | \n",
        "\n",
        "¿Qué conclusiones sacas?\n",
        "\n",
        ":::{.callout-note collapse=\"true\"}\n",
        "## Ayuda\n",
        "El periodo es el mínimo intervalo en el que la gráfica de la función se repite, y la amplitud es la mitad de la diferencia entre el máximo y el mínimo de la función.\n",
        ":::\n",
        "\n",
        ":::{.callout-tip collapse=\"true\"}\n",
        "## Solución\n",
        ":::{.panel-tabset}\n",
        "\n",
        "## Makie\n"
      ],
      "id": "49fca77c"
    },
    {
      "cell_type": "code",
      "metadata": {},
      "source": [
        "using GLMakie\n",
        "fig = Figure()\n",
        "ax = Axis(fig[1,1])\n",
        "Makie.lines!(ax, -2pi..2pi, x -> sin(x+2), label=L\"$\\sin(x+2)$\")\n",
        "Makie.lines!(ax, -2pi..2pi, x -> sin(x)+2, label=L\"$\\sin(x)+2$\")\n",
        "Makie.lines!(ax, -2pi..2pi, x -> sin(2x), label=L\"$\\sin(2x)$\")\n",
        "Makie.lines!(ax, -2pi..2pi, x -> 2sin(x), label=L\"$2\\sin(x)$\")\n",
        "axislegend()\n",
        "fig"
      ],
      "id": "ea5233b7",
      "execution_count": null,
      "outputs": []
    },
    {
      "cell_type": "markdown",
      "metadata": {},
      "source": [
        "## Plots\n"
      ],
      "id": "32c460b4"
    },
    {
      "cell_type": "code",
      "metadata": {},
      "source": [
        "using Plots, LaTeXStrings\n",
        "Plots.plot(sin(x), -2*pi, 2*pi, label=L\"$\\operatorname{sen}(x)$\")\n",
        "Plots.plot!(sin(x+2), label=L\"$\\operatorname{sen}(x+2)$\")\n",
        "Plots.plot!(sin(x)+2, label=L\"$\\operatorname{sen}(x)+2$\")\n",
        "Plots.plot!(sin(2x), label=L\"$\\operatorname{sen}(2x)$\")\n",
        "Plots.plot!(2sin(x), label=L\"$2\\operatorname{sen}(x)$\")"
      ],
      "id": "3b22e381",
      "execution_count": null,
      "outputs": []
    },
    {
      "cell_type": "markdown",
      "metadata": {},
      "source": [
        "| Función | Periodo | Amplitud |\n",
        "|-|-|-| \n",
        "| $\\operatorname{sen}(x)$ | $2\\pi$ | 1 | \n",
        "| $\\operatorname{sen}(x+2)$ | $2\\pi$ | 1 | \n",
        "| $\\operatorname{sen}(x)+2$ | $2\\pi$ | 1 | \n",
        "| $\\operatorname{sen}(2x)$ | $\\pi$ | 1 | \n",
        "| $2\\operatorname{sen}(x)$ | $2\\pi$ | 2 | \n",
        "\n",
        "Se observa que al sumar una constante a la función seno o a su argumento, el periodo y la amplitud no cambian. Sin embargo, si se multiplica por una constante el seno, cambia la amplitud, y si se multiplica su argumento, cambia el periodo.\n",
        ":::\n",
        ":::\n",
        ":::\n",
        "\n",
        ":::{#exr-funciones-a-trozos}\n",
        "Dibujar la gráfica de la función a trozos\n",
        "\n",
        "$$\n",
        "h(x)=\n",
        "\\begin{cases}\n",
        "-2x & \\mbox{si } x\\leq 0;\\\\\n",
        "x^2 & \\mbox{si } 0< x \\leq 2;\\\\ \n",
        "4 & \\mbox{si } 2< x\n",
        "\\end{cases}\n",
        "$$\n",
        "\n",
        ":::{.callout-note collapse=\"true\"}\n",
        "## Ayuda\n",
        "Usar el [operador condicional](https://aprendeconalf.es/manual-julia/estructuras-control.html#operador-condicional) anidado.\n",
        ":::\n",
        "\n",
        ":::{.callout-tip collapse=\"true\"}\n",
        "## Solución\n",
        ":::{.panel-tabset}\n",
        "\n",
        "## Makie\n"
      ],
      "id": "270aaad4"
    },
    {
      "cell_type": "code",
      "metadata": {},
      "source": [
        "using GLMakie\n",
        "h(x) = x<=0 ? -2x : x<=2 ? x^2 : 4\n",
        "Makie.lines(-5..5, h)"
      ],
      "id": "3e0addfe",
      "execution_count": null,
      "outputs": []
    },
    {
      "cell_type": "markdown",
      "metadata": {},
      "source": [
        "## Plots\n"
      ],
      "id": "dda900d9"
    },
    {
      "cell_type": "code",
      "metadata": {},
      "source": [
        "using Plots\n",
        "h(x) = x<=0 ? -2x : x<=2 ? x^2 : 4\n",
        "Plots.plot(h, legend = false)"
      ],
      "id": "df496362",
      "execution_count": null,
      "outputs": []
    },
    {
      "cell_type": "markdown",
      "metadata": {},
      "source": [
        ":::\n",
        ":::\n",
        ":::\n",
        "\n",
        ":::{#exr-funciones-parametricas}\n",
        "Una hormiga se mueve sobre el plano real de manera que en cada instante $t$ su posición viene dada por las funciones\n",
        "\n",
        "$$\n",
        "\\begin{cases}\n",
        "x=\\operatorname{sen}(t) \\\\\n",
        "y=\\operatorname{sen}(2t)\n",
        "\\end{cases}\n",
        "$$\n",
        "\n",
        "Dibujar la gráfica de la trayectoria de la hormiga.\n",
        "\n",
        ":::{.callout-tip collapse=\"true\"}\n",
        "## Solución\n",
        ":::{.panel-tabset}\n",
        "\n",
        "## Makie\n"
      ],
      "id": "91617c50"
    },
    {
      "cell_type": "code",
      "metadata": {},
      "source": [
        "using GLMakie\n",
        "u1(t)=sin(t)\n",
        "v1(t)=sin(2t)\n",
        "ts = range(0, 4pi, 200)\n",
        "Makie.lines(u1.(ts), v1.(ts))"
      ],
      "id": "e867f4e3",
      "execution_count": null,
      "outputs": []
    },
    {
      "cell_type": "markdown",
      "metadata": {},
      "source": [
        "## Plots\n"
      ],
      "id": "0451c79b"
    },
    {
      "cell_type": "code",
      "metadata": {},
      "source": [
        "using Plots\n",
        "u1(t)=sin(t)\n",
        "v1(t)=sin(2t)\n",
        "Plots.plot(u1, v1, 0, 4pi, aspect_ratio=1.0, legend = false)"
      ],
      "id": "4d7c21c9",
      "execution_count": null,
      "outputs": []
    },
    {
      "cell_type": "markdown",
      "metadata": {},
      "source": [
        ":::\n",
        ":::\n",
        ":::\n",
        "\n",
        "\n",
        "## Ejercicios propuestos\n"
      ],
      "id": "a437f186"
    },
    {
      "cell_type": "code",
      "metadata": {
        "results": "hidden"
      },
      "source": [
        "#| echo: false\n",
        "using QuizQuestions\n",
        "nothing"
      ],
      "id": "11e6d9dd",
      "execution_count": null,
      "outputs": []
    },
    {
      "cell_type": "markdown",
      "metadata": {},
      "source": [
        ":::{#exr-dominio-imagen}\n",
        "¿Cuáles de las siguientes funciones tienen dominio $\\mathbb{R}$ e imagen $\\mathbb{R}^+\\cup\\{0\\}$?\n"
      ],
      "id": "863a1961"
    },
    {
      "cell_type": "code",
      "metadata": {
        "hold": true
      },
      "source": [
        "#| echo: false\n",
        "choices = (L\"$|x|$\", L\"$2^x$\", L\"$1/x^2$\", L\"$\\sqrt(x)$\", L\"$x^4-2x^3+4x$\")\n",
        "answers = [1,5]\n",
        "multiq(choices, answers)"
      ],
      "id": "386b490a",
      "execution_count": null,
      "outputs": []
    },
    {
      "cell_type": "markdown",
      "metadata": {},
      "source": [
        ":::\n",
        "\n",
        ":::{#exr-funciones-logaritmicas}\n",
        "Dibujar las gráficas de las funciones logarítmicas $\\ln(x)$, $\\log_2(x)$ y $\\log_{0.5}(x)$ y contestar a las siguientes preguntas.\n",
        "\n",
        "a. ¿Cuál es el dominio de una función logarítmica?\n"
      ],
      "id": "848fbb96"
    },
    {
      "cell_type": "code",
      "metadata": {
        "hold": true
      },
      "source": [
        "#| echo: false\n",
        "using LaTeXStrings\n",
        "choices = (L\"$\\mathbb{R}$\", L\"$\\mathbb{R}\\setminus\\{0\\}$\", L\"$\\mathbb{R}^+\\cup \\{0\\}$\", L\"$\\mathbb{R}^+$\", \"Las otras opciones son falsas.\" )\n",
        "answer = 4\n",
        "radioq(choices, answer)"
      ],
      "id": "71aff905",
      "execution_count": null,
      "outputs": []
    },
    {
      "cell_type": "markdown",
      "metadata": {},
      "source": [
        "b. ¿Cuál es la imagen de una función logarítmica?\n"
      ],
      "id": "cf14268a"
    },
    {
      "cell_type": "code",
      "metadata": {
        "hold": true
      },
      "source": [
        "#| echo: false\n",
        "using LaTeXStrings\n",
        "choices = (L\"$\\mathbb{R}$\", L\"$\\mathbb{R}\\setminus\\{0\\}$\", L\"$\\mathbb{R}^+$\", L\"$\\mathbb{R}^-$\", \"Las otras opciones son falsas.\" )\n",
        "answer = 1\n",
        "radioq(choices, answer)"
      ],
      "id": "15531c2c",
      "execution_count": null,
      "outputs": []
    },
    {
      "cell_type": "markdown",
      "metadata": {},
      "source": [
        "c. ¿Cómo es el crecimiento la función logarítmica $\\log_a(x)$?\n"
      ],
      "id": "3ab4aff0"
    },
    {
      "cell_type": "code",
      "metadata": {
        "hold": true
      },
      "source": [
        "#| echo: false\n",
        "using LaTeXStrings\n",
        "choices = (L\"Creciente si $a>1$\", L\"Creciente si $a<1$\", L\"Decreciente si $0 < a <1$\", L\"Creciente si $0 < a < 1$\")\n",
        "answers = [1,3]\n",
        "multiq(choices, answers)"
      ],
      "id": "bfa770e5",
      "execution_count": null,
      "outputs": []
    },
    {
      "cell_type": "markdown",
      "metadata": {},
      "source": [
        "d. ¿Cómo es la concavidad la función logarítmica $\\log_a(x)$?\n"
      ],
      "id": "db4e1bd8"
    },
    {
      "cell_type": "code",
      "metadata": {
        "hold": true
      },
      "source": [
        "#| echo: false\n",
        "using LaTeXStrings\n",
        "choices = (L\"Cóncava hacia arriba si $a>1$\", L\"Cóncava hacia abajo si $a<1$\", L\"Cóncava hacia arriba si $0 < a < 1$\", L\"Cóncava hacia abajo si $0 < a < 1$\")\n",
        "answers = [2,3]\n",
        "multiq(choices, answers)"
      ],
      "id": "8b9e143d",
      "execution_count": null,
      "outputs": []
    },
    {
      "cell_type": "markdown",
      "metadata": {},
      "source": [
        ":::\n",
        "\n",
        ":::{#exr-funciones-trigonométricas}\n",
        "¿Cuál es el periodo y la amplitud de la función $2\\cos(x/2)$? \n"
      ],
      "id": "0de4c704"
    },
    {
      "cell_type": "code",
      "metadata": {
        "hold": true
      },
      "source": [
        "#| echo: false\n",
        "choices = (\"2π y 1\", \"π y 2\", \"2π y 2\", \"4π y 1\", \"4π y 2\")\n",
        "answer = 5\n",
        "radioq(choices, answer)"
      ],
      "id": "1e73685d",
      "execution_count": null,
      "outputs": []
    },
    {
      "cell_type": "markdown",
      "metadata": {},
      "source": [
        ":::\n",
        "\n",
        "\n",
        ":::{#exr-sucesiones-propuesto-3}\n",
        "¿Cuál de las gráficas corresponde a la siguiente función paramétrica?\n",
        "\n",
        "$$\n",
        "f(t)=\n",
        "\\begin{cases}\n",
        "\\operatorname{sen}(2t)-\\cos(t) \\\\\n",
        "\\operatorname{sen}(t)+\\cos(t)\n",
        "\\end{cases}\n",
        "$$\n"
      ],
      "id": "f5eff721"
    },
    {
      "cell_type": "code",
      "metadata": {},
      "source": [
        "#| echo: false\n",
        "using Plots\n",
        "u0(t)=sin(t)\n",
        "v0(t)=cos(t)\n",
        "v1(t) = 2cos(t)\n",
        "v2(t) = sin(t)+cos(t)\n",
        "u1(t) = sin(2t)-cos(t)\n",
        "u2(t) = cos(2t)\n",
        "p1 = Plots.plot(u0, v0, 0, 2pi, aspect_ratio=1.0, legend=false)\n",
        "p2 = Plots.plot(u1, v2, 0, 2pi, aspect_ratio=1.0, legend=false)\n",
        "p3 = Plots.plot(u0, v2, 0, 2pi, aspect_ratio=1.0, legend=false)\n",
        "p4 = Plots.plot(u2, v2, 0, 2pi, aspect_ratio=1.0, legend=false)\n",
        "l = @layout [a b; c d]\n",
        "p = Plots.plot(p1, p2, p3, p4, layout=l)\n",
        "imgfile = \"img/funciones-elementales/graficas-funciones-parametricas.png\"\n",
        "savefig(p, imgfile)\n",
        "hotspotq(imgfile, (1/2,1), (1/2,1))"
      ],
      "id": "5995f116",
      "execution_count": null,
      "outputs": []
    },
    {
      "cell_type": "markdown",
      "metadata": {},
      "source": [
        ":::\n"
      ],
      "id": "96175e7c"
    }
  ],
  "metadata": {
    "kernelspec": {
      "name": "julia-1.11",
      "language": "julia",
      "display_name": "Julia 1.11.1",
      "path": "/home/alf/.local/share/jupyter/kernels/julia-1.11"
    }
  },
  "nbformat": 4,
  "nbformat_minor": 5
}