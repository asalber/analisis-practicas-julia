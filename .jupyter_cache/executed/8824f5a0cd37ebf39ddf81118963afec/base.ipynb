{
 "cells": [
  {
   "cell_type": "code",
   "execution_count": 1,
   "id": "df5d5599",
   "metadata": {},
   "outputs": [],
   "source": [
    "import IJulia\n",
    "\n",
    "# The julia kernel has built in support for Revise.jl, so this is the \n",
    "# recommended approach for long-running sessions:\n",
    "# https://github.com/JuliaLang/IJulia.jl/blob/9b10fa9b879574bbf720f5285029e07758e50a5e/src/kernel.jl#L46-L51\n",
    "\n",
    "# Users should enable revise within .julia/config/startup_ijulia.jl:\n",
    "# https://timholy.github.io/Revise.jl/stable/config/#Using-Revise-automatically-within-Jupyter/IJulia-1\n",
    "\n",
    "# clear console history\n",
    "IJulia.clear_history()\n",
    "\n",
    "fig_width = 7\n",
    "fig_height = 5\n",
    "fig_format = :retina\n",
    "fig_dpi = 96\n",
    "\n",
    "# no retina format type, use svg for high quality type/marks\n",
    "if fig_format == :retina\n",
    "  fig_format = :svg\n",
    "elseif fig_format == :pdf\n",
    "  fig_dpi = 96\n",
    "  # Enable PDF support for IJulia\n",
    "  IJulia.register_mime(MIME(\"application/pdf\"))\n",
    "end\n",
    "\n",
    "# convert inches to pixels\n",
    "fig_width = fig_width * fig_dpi\n",
    "fig_height = fig_height * fig_dpi\n",
    "\n",
    "# Intialize Plots w/ default fig width/height\n",
    "try\n",
    "  import Plots\n",
    "\n",
    "  # Plots.jl doesn't support PDF output for versions < 1.28.1\n",
    "  # so use png (if the DPI remains the default of 300 then set to 96)\n",
    "  if (Plots._current_plots_version < v\"1.28.1\") & (fig_format == :pdf)\n",
    "    Plots.gr(size=(fig_width, fig_height), fmt = :png, dpi = fig_dpi)\n",
    "  else\n",
    "    Plots.gr(size=(fig_width, fig_height), fmt = fig_format, dpi = fig_dpi)\n",
    "  end\n",
    "catch e\n",
    "  # @warn \"Plots init\" exception=(e, catch_backtrace())\n",
    "end\n",
    "\n",
    "# Initialize CairoMakie with default fig width/height\n",
    "try\n",
    "  import CairoMakie\n",
    "  \n",
    "  CairoMakie.activate!(type = string(fig_format))\n",
    "  CairoMakie.update_theme!(resolution=(fig_width, fig_height))\n",
    "catch e\n",
    "    # @warn \"CairoMakie init\" exception=(e, catch_backtrace())\n",
    "end\n",
    "  \n",
    "# Set run_path if specified\n",
    "try\n",
    "  run_path = raw\"/run/media/alf/datos/misrepositorios/docencia/analisis-practicas-julia\"\n",
    "  if !isempty(run_path)\n",
    "    cd(run_path)\n",
    "  end\n",
    "catch e\n",
    "  @warn \"Run path init:\" exception=(e, catch_backtrace())\n",
    "end\n",
    "\n",
    "\n",
    "# emulate old Pkg.installed beahvior, see\n",
    "# https://discourse.julialang.org/t/how-to-use-pkg-dependencies-instead-of-pkg-installed/36416/9\n",
    "import Pkg\n",
    "function isinstalled(pkg::String)\n",
    "  any(x -> x.name == pkg && x.is_direct_dep, values(Pkg.dependencies()))\n",
    "end\n",
    "\n",
    "# ojs_define\n",
    "if isinstalled(\"JSON\") && isinstalled(\"DataFrames\")\n",
    "  import JSON, DataFrames\n",
    "  global function ojs_define(; kwargs...)\n",
    "    convert(x) = x\n",
    "    convert(x::DataFrames.AbstractDataFrame) = Tables.rows(x)\n",
    "    content = Dict(\"contents\" => [Dict(\"name\" => k, \"value\" => convert(v)) for (k, v) in kwargs])\n",
    "    tag = \"<script type='ojs-define'>$(JSON.json(content))</script>\"\n",
    "    IJulia.display(MIME(\"text/html\"), tag)\n",
    "  end\n",
    "elseif isinstalled(\"JSON\")\n",
    "  import JSON\n",
    "  global function ojs_define(; kwargs...)\n",
    "    content = Dict(\"contents\" => [Dict(\"name\" => k, \"value\" => v) for (k, v) in kwargs])\n",
    "    tag = \"<script type='ojs-define'>$(JSON.json(content))</script>\"\n",
    "    IJulia.display(MIME(\"text/html\"), tag)\n",
    "  end\n",
    "else\n",
    "  global function ojs_define(; kwargs...)\n",
    "    @warn \"JSON package not available. Please install the JSON.jl package to use ojs_define.\"\n",
    "  end\n",
    "end\n",
    "\n",
    "\n",
    "# don't return kernel dependencies (b/c Revise should take care of dependencies)\n",
    "nothing\n"
   ]
  },
  {
   "cell_type": "code",
   "execution_count": 2,
   "id": "bb609ff4",
   "metadata": {},
   "outputs": [],
   "source": [
    "using SymPy  # Para el cálculo simbólico de límites.\n",
    "using Plots  # Para el dibujo de gráficas.\n",
    "#plotlyjs() # Para obtener gráficos interactivos.\n",
    "using LaTeXStrings  # Para usar código LaTeX en los gráficos."
   ]
  },
  {
   "cell_type": "code",
   "execution_count": 3,
   "id": "c7831a3a",
   "metadata": {
    "md-indent": "    "
   },
   "outputs": [
    {
     "data": {
      "text/plain": [
       "0.2850000000000001"
      ]
     },
     "execution_count": 47,
     "metadata": {},
     "output_type": "execute_result"
    }
   ],
   "source": [
    "f(x) = x^2\n",
    "Δx = 1/10\n",
    "areas_inf = [f((i-1)*Δx)*Δx for i = 1:10]\n",
    "sum_inf = sum(areas_inf)"
   ]
  },
  {
   "cell_type": "code",
   "execution_count": 4,
   "id": "d6026961",
   "metadata": {
    "md-indent": "    "
   },
   "outputs": [
    {
     "data": {
      "text/plain": [
       "0.3850000000000001"
      ]
     },
     "execution_count": 48,
     "metadata": {},
     "output_type": "execute_result"
    }
   ],
   "source": [
    "f(x) = x^2\n",
    "Δx = 1/10\n",
    "areas_sup = [f(i*Δx)*Δx for i = 1:10]\n",
    "sum_sup = sum(areas_sup)"
   ]
  },
  {
   "cell_type": "code",
   "execution_count": 5,
   "id": "5ee35752",
   "metadata": {
    "md-indent": "    "
   },
   "outputs": [
    {
     "data": {
      "text/plain": [
       "0.10000000000000003"
      ]
     },
     "execution_count": 49,
     "metadata": {},
     "output_type": "execute_result"
    }
   ],
   "source": [
    "error = sum_sup - sum_inf"
   ]
  },
  {
   "cell_type": "code",
   "execution_count": 6,
   "id": "c6c5e650",
   "metadata": {
    "md-indent": "    "
   },
   "outputs": [
    {
     "name": "stdout",
     "output_type": "stream",
     "text": [
      "┌──────────────┬───────────┐\n",
      "│\u001b[1m Aproximación \u001b[0m│\u001b[1m     Error \u001b[0m│\n",
      "├──────────────┼───────────┤\n",
      "│        0.335 │       0.1 │\n",
      "│     0.334711 │ 0.0909091 │\n",
      "│     0.334491 │ 0.0833333 │\n",
      "│      0.33432 │ 0.0769231 │\n",
      "│     0.334184 │ 0.0714286 │\n",
      "│     0.334074 │ 0.0666667 │\n",
      "│     0.333984 │    0.0625 │\n",
      "│      0.33391 │ 0.0588235 │\n",
      "│     0.333848 │ 0.0555556 │\n",
      "│     0.333795 │ 0.0526316 │\n",
      "│      0.33375 │      0.05 │\n",
      "│     0.333711 │  0.047619 │\n",
      "│     0.333678 │ 0.0454545 │\n",
      "│     0.333648 │ 0.0434783 │\n",
      "│     0.333623 │ 0.0416667 │\n",
      "│       0.3336 │      0.04 │\n",
      "│      0.33358 │ 0.0384615 │\n",
      "│     0.333562 │  0.037037 │\n",
      "│     0.333546 │ 0.0357143 │\n",
      "│     0.333532 │ 0.0344828 │\n",
      "│     0.333519 │ 0.0333333 │\n",
      "│     0.333507 │ 0.0322581 │\n",
      "│     0.333496 │   0.03125 │\n",
      "│     0.333486 │  0.030303 │\n",
      "│     0.333478 │ 0.0294118 │\n",
      "│     0.333469 │ 0.0285714 │\n",
      "│     0.333462 │ 0.0277778 │\n",
      "│     0.333455 │  0.027027 │\n",
      "│     0.333449 │ 0.0263158 │\n",
      "│     0.333443 │  0.025641 │\n",
      "│     0.333438 │     0.025 │\n",
      "│     0.333432 │ 0.0243902 │\n",
      "│     0.333428 │ 0.0238095 │\n",
      "│     0.333423 │ 0.0232558 │\n",
      "│     0.333419 │ 0.0227273 │\n",
      "│     0.333416 │ 0.0222222 │\n",
      "│     0.333412 │ 0.0217391 │\n",
      "│     0.333409 │ 0.0212766 │\n",
      "│     0.333406 │ 0.0208333 │\n",
      "│     0.333403 │ 0.0204082 │\n",
      "│       0.3334 │      0.02 │\n",
      "│     0.333397 │ 0.0196078 │\n",
      "│     0.333395 │ 0.0192308 │\n",
      "│     0.333393 │ 0.0188679 │\n",
      "│      0.33339 │ 0.0185185 │\n",
      "│     0.333388 │ 0.0181818 │\n",
      "│     0.333386 │ 0.0178571 │\n",
      "│     0.333385 │ 0.0175439 │\n",
      "│     0.333383 │ 0.0172414 │\n",
      "│     0.333381 │ 0.0169492 │\n",
      "│      0.33338 │ 0.0166667 │\n",
      "│     0.333378 │ 0.0163934 │\n",
      "│     0.333377 │  0.016129 │\n",
      "│     0.333375 │  0.015873 │\n",
      "│     0.333374 │  0.015625 │\n",
      "│     0.333373 │ 0.0153846 │\n",
      "│     0.333372 │ 0.0151515 │\n",
      "│      0.33337 │ 0.0149254 │\n",
      "│     0.333369 │ 0.0147059 │\n",
      "│     0.333368 │ 0.0144928 │\n",
      "│     0.333367 │ 0.0142857 │\n",
      "│     0.333366 │ 0.0140845 │\n",
      "│     0.333365 │ 0.0138889 │\n",
      "│     0.333365 │ 0.0136986 │\n",
      "│     0.333364 │ 0.0135135 │\n",
      "│     0.333363 │ 0.0133333 │\n",
      "│     0.333362 │ 0.0131579 │\n",
      "│     0.333361 │  0.012987 │\n",
      "│     0.333361 │ 0.0128205 │\n",
      "│      0.33336 │ 0.0126582 │\n",
      "│     0.333359 │    0.0125 │\n",
      "│     0.333359 │ 0.0123457 │\n",
      "│     0.333358 │ 0.0121951 │\n",
      "│     0.333358 │ 0.0120482 │\n",
      "│     0.333357 │ 0.0119048 │\n",
      "│     0.333356 │ 0.0117647 │\n",
      "│     0.333356 │ 0.0116279 │\n",
      "│     0.333355 │ 0.0114943 │\n",
      "│     0.333355 │ 0.0113636 │\n",
      "│     0.333354 │  0.011236 │\n",
      "│     0.333354 │ 0.0111111 │\n",
      "│     0.333353 │  0.010989 │\n",
      "│     0.333353 │ 0.0108696 │\n",
      "│     0.333353 │ 0.0107527 │\n",
      "│     0.333352 │ 0.0106383 │\n",
      "│     0.333352 │ 0.0105263 │\n",
      "│     0.333351 │ 0.0104167 │\n",
      "│     0.333351 │ 0.0103093 │\n",
      "│     0.333351 │ 0.0102041 │\n",
      "│      0.33335 │  0.010101 │\n",
      "│      0.33335 │      0.01 │\n",
      "└──────────────┴───────────┘\n"
     ]
    }
   ],
   "source": [
    "using PrettyTables\n",
    "f(x) = x^2\n",
    "function area_inf(a, b, n)\n",
    "    Δx = (b-a)/n\n",
    "    return sum([f(a+(i-1)*Δx)*Δx for i = 1:n])\n",
    "end\n",
    "\n",
    "function area_sup(a, b, n)\n",
    "    Δx = (b-a)/n\n",
    "    return sum([f(a+i*Δx)*Δx for i = 1:n])\n",
    "end\n",
    "\n",
    "function area(a, b, n)\n",
    "    area = (area_inf(a, b, n) + area_sup(a, b, n)) / 2\n",
    "    error = area_sup(a, b, n) - area_inf(a, b, n)\n",
    "    return area, error\n",
    "end\n",
    "\n",
    "areas = [area(0, 1, n) for n=10:100]\n",
    "pretty_table(hcat(first.(areas), last.(areas)); header = [\"Aproximación\", \"Error\"])"
   ]
  },
  {
   "cell_type": "code",
   "execution_count": 7,
   "id": "be9ea9d0",
   "metadata": {
    "md-indent": "    "
   },
   "outputs": [
    {
     "data": {
      "text/latex": [
       "$\\frac{x^{3} \\log{\\left(x \\right)}}{3} - \\frac{x^{3}}{9}$"
      ],
      "text/plain": [
       " 3           3\n",
       "x ⋅log(x)   x \n",
       "───────── - ──\n",
       "    3       9 "
      ]
     },
     "execution_count": 51,
     "metadata": {},
     "output_type": "execute_result"
    }
   ],
   "source": [
    "using SymPy\n",
    "@vars x real=true\n",
    "integrate(x^2*ln(x))"
   ]
  },
  {
   "cell_type": "code",
   "execution_count": 8,
   "id": "371b4af5",
   "metadata": {
    "md-indent": "    "
   },
   "outputs": [
    {
     "data": {
      "text/latex": [
       "$\\log{\\left(x \\right)} \\log{\\left(\\log{\\left(x \\right)} \\right)} - \\log{\\left(x \\right)}$"
      ],
      "text/plain": [
       "log(x)⋅log(log(x)) - log(x)"
      ]
     },
     "execution_count": 52,
     "metadata": {},
     "output_type": "execute_result"
    }
   ],
   "source": [
    "integrate(ln(ln(x))/x)"
   ]
  },
  {
   "cell_type": "code",
   "execution_count": 9,
   "id": "9529eae5",
   "metadata": {
    "md-indent": "    "
   },
   "outputs": [
    {
     "data": {
      "text/latex": [
       "$\\frac{4 x - 7}{3 x^{2} + 3 x + 3} + \\frac{8 \\sqrt{3} \\operatorname{atan}{\\left(\\frac{2 \\sqrt{3} x}{3} + \\frac{\\sqrt{3}}{3} \\right)}}{9}$"
      ],
      "text/plain": [
       "                          ⎛2⋅√3⋅x   √3⎞\n",
       "                 8⋅√3⋅atan⎜────── + ──⎟\n",
       "   4⋅x - 7                ⎝  3      3 ⎠\n",
       "────────────── + ──────────────────────\n",
       "   2                       9           \n",
       "3⋅x  + 3⋅x + 3                         "
      ]
     },
     "execution_count": 53,
     "metadata": {},
     "output_type": "execute_result"
    }
   ],
   "source": [
    "integrate((6x+5)/(x^2+x+1)^2)"
   ]
  },
  {
   "cell_type": "code",
   "execution_count": 10,
   "id": "5784749b",
   "metadata": {
    "md-indent": "    "
   },
   "outputs": [
    {
     "data": {
      "text/latex": [
       "$\\begin{cases} \\frac{x^{a + 1}}{a + 1} & \\text{for}\\: a \\neq -1 \\\\\\log{\\left(x \\right)} & \\text{otherwise} \\end{cases}$"
      ],
      "text/plain": [
       "⎧ a + 1            \n",
       "⎪x                 \n",
       "⎪──────  for a ≠ -1\n",
       "⎨a + 1             \n",
       "⎪                  \n",
       "⎪log(x)  otherwise \n",
       "⎩                  "
      ]
     },
     "execution_count": 54,
     "metadata": {},
     "output_type": "execute_result"
    }
   ],
   "source": [
    "@vars a real=true\n",
    "integrate(x^a, x)"
   ]
  },
  {
   "cell_type": "code",
   "execution_count": 11,
   "id": "0a28699a",
   "metadata": {
    "md-indent": "    "
   },
   "outputs": [
    {
     "data": {
      "text/latex": [
       "$\\frac{x \\sqrt{x^{2} \\log{\\left(x \\right)}^{2} + 1} \\log{\\left(x \\right)}}{2} + \\frac{\\operatorname{asinh}{\\left(x \\log{\\left(x \\right)} \\right)}}{2}$"
      ],
      "text/plain": [
       "     ________________                         \n",
       "    ╱  2    2                                 \n",
       "x⋅╲╱  x ⋅log (x) + 1 ⋅log(x)   asinh(x⋅log(x))\n",
       "──────────────────────────── + ───────────────\n",
       "             2                        2       "
      ]
     },
     "execution_count": 55,
     "metadata": {},
     "output_type": "execute_result"
    }
   ],
   "source": [
    "@vars x real=true\n",
    "j(x) = (1 + log(x)) * sqrt(1 + (x*log(x))^2 )\n",
    "# El cálculo directo de la integral no funciona.\n",
    "integrate(j(x))\n",
    "# Ayudamos a SymPy con la sustitución.\n",
    "u(x) = x*log(x)\n",
    "@vars y dy real=true\n",
    "# Definimos la nueva función con el cambio de variable.\n",
    "g(y) = j(x)(u(x) => y, diff(u(x), x) => 1)\n",
    "# Integramos la nueva función y deshacemos el cambio de variable.\n",
    "integrate(g(y))(y => u(x))"
   ]
  },
  {
   "cell_type": "code",
   "execution_count": 12,
   "id": "a0689b5d",
   "metadata": {
    "md-indent": "    "
   },
   "outputs": [
    {
     "data": {
      "text/latex": [
       "$0.25$"
      ],
      "text/plain": [
       "0.250000000000000"
      ]
     },
     "execution_count": 56,
     "metadata": {},
     "output_type": "execute_result"
    }
   ],
   "source": [
    "using SymPy\n",
    "@vars x real=true\n",
    "integrate(x^3/x^2+x+1, -1/2, 0)"
   ]
  },
  {
   "cell_type": "code",
   "execution_count": 13,
   "id": "4d17f4dd",
   "metadata": {
    "md-indent": "    "
   },
   "outputs": [
    {
     "data": {
      "text/latex": [
       "$- 2 \\sqrt{3} + 4 \\operatorname{acosh}{\\left(2 \\right)}$"
      ],
      "text/plain": [
       "-2⋅√3 + 4⋅acosh(2)"
      ]
     },
     "execution_count": 57,
     "metadata": {},
     "output_type": "execute_result"
    }
   ],
   "source": [
    "integrate(sqrt(16-x^2)/x, 2, 4)"
   ]
  },
  {
   "cell_type": "code",
   "execution_count": 14,
   "id": "749273ed",
   "metadata": {
    "md-indent": "    "
   },
   "outputs": [
    {
     "data": {
      "text/latex": [
       "$\\frac{\\sqrt{2} \\pi}{8}$"
      ],
      "text/plain": [
       "√2⋅π\n",
       "────\n",
       " 8  "
      ]
     },
     "execution_count": 58,
     "metadata": {},
     "output_type": "execute_result"
    }
   ],
   "source": [
    "integrate(1/(3+cos(2x)), 0, PI/2)"
   ]
  },
  {
   "cell_type": "code",
   "execution_count": 15,
   "id": "24cc1664",
   "metadata": {
    "md-indent": "    "
   },
   "outputs": [
    {
     "data": {
      "text/latex": [
       "$\\frac{43}{2}$"
      ],
      "text/plain": [
       "43/2"
      ]
     },
     "execution_count": 59,
     "metadata": {},
     "output_type": "execute_result"
    }
   ],
   "source": [
    "using SymPy\n",
    "@vars x real = true\n",
    "# Calculamos primero las raíces de la función\n",
    "f(x) = x^2-7x+6\n",
    "solve(f(x))\n",
    "# Descomponemos el intervalo de integración en los subintervalos [2,6] (función negativa) y [6,7] (función positiva) y calculamos las integrales por separado\n",
    "-integrate(f, 2, 6) + integrate(f, 6, 7)"
   ]
  },
  {
   "cell_type": "code",
   "execution_count": 16,
   "id": "51291ce3",
   "metadata": {
    "md-indent": "    "
   },
   "outputs": [
    {
     "data": {
      "text/latex": [
       "$\\frac{43}{2}$"
      ],
      "text/plain": [
       "43/2"
      ]
     },
     "execution_count": 60,
     "metadata": {},
     "output_type": "execute_result"
    }
   ],
   "source": [
    "integrate(abs(f(x)), 2, 7)"
   ]
  },
  {
   "cell_type": "code",
   "execution_count": 17,
   "id": "bbb584e1",
   "metadata": {},
   "outputs": [
    {
     "data": {
      "image/svg+xml": [
       "<?xml version=\"1.0\" encoding=\"utf-8\"?>\n",
       "<svg xmlns=\"http://www.w3.org/2000/svg\" xmlns:xlink=\"http://www.w3.org/1999/xlink\" width=\"672\" height=\"480\" viewBox=\"0 0 2688 1920\">\n",
       "<defs>\n",
       "  <clipPath id=\"clip690\">\n",
       "    <rect x=\"0\" y=\"0\" width=\"2688\" height=\"1920\"/>\n",
       "  </clipPath>\n",
       "</defs>\n",
       "<path clip-path=\"url(#clip690)\" d=\"\n",
       "M0 1920 L2688 1920 L2688 0 L0 0  Z\n",
       "  \" fill=\"#ffffff\" fill-rule=\"evenodd\" fill-opacity=\"1\"/>\n",
       "<defs>\n",
       "  <clipPath id=\"clip691\">\n",
       "    <rect x=\"537\" y=\"0\" width=\"1883\" height=\"1883\"/>\n",
       "  </clipPath>\n",
       "</defs>\n",
       "<defs>\n",
       "  <clipPath id=\"clip692\">\n",
       "    <rect x=\"196\" y=\"47\" width=\"2445\" height=\"1755\"/>\n",
       "  </clipPath>\n",
       "</defs>\n",
       "<path clip-path=\"url(#clip690)\" d=\"\n",
       "M196.816 1800.78 L2640.76 1800.78 L2640.76 47.2441 L196.816 47.2441  Z\n",
       "  \" fill=\"#ffffff\" fill-rule=\"evenodd\" fill-opacity=\"1\"/>\n",
       "<polyline clip-path=\"url(#clip692)\" style=\"stroke:#000000; stroke-linecap:round; stroke-linejoin:round; stroke-width:2; stroke-opacity:0.1; fill:none\" points=\"\n",
       "  265.984,1800.78 265.984,47.2441 \n",
       "  \"/>\n",
       "<polyline clip-path=\"url(#clip692)\" style=\"stroke:#000000; stroke-linecap:round; stroke-linejoin:round; stroke-width:2; stroke-opacity:0.1; fill:none\" points=\"\n",
       "  727.105,1800.78 727.105,47.2441 \n",
       "  \"/>\n",
       "<polyline clip-path=\"url(#clip692)\" style=\"stroke:#000000; stroke-linecap:round; stroke-linejoin:round; stroke-width:2; stroke-opacity:0.1; fill:none\" points=\"\n",
       "  1188.23,1800.78 1188.23,47.2441 \n",
       "  \"/>\n",
       "<polyline clip-path=\"url(#clip692)\" style=\"stroke:#000000; stroke-linecap:round; stroke-linejoin:round; stroke-width:2; stroke-opacity:0.1; fill:none\" points=\"\n",
       "  1649.35,1800.78 1649.35,47.2441 \n",
       "  \"/>\n",
       "<polyline clip-path=\"url(#clip692)\" style=\"stroke:#000000; stroke-linecap:round; stroke-linejoin:round; stroke-width:2; stroke-opacity:0.1; fill:none\" points=\"\n",
       "  2110.47,1800.78 2110.47,47.2441 \n",
       "  \"/>\n",
       "<polyline clip-path=\"url(#clip692)\" style=\"stroke:#000000; stroke-linecap:round; stroke-linejoin:round; stroke-width:2; stroke-opacity:0.1; fill:none\" points=\"\n",
       "  2571.59,1800.78 2571.59,47.2441 \n",
       "  \"/>\n",
       "<polyline clip-path=\"url(#clip690)\" style=\"stroke:#000000; stroke-linecap:round; stroke-linejoin:round; stroke-width:4; stroke-opacity:1; fill:none\" points=\"\n",
       "  196.816,1800.78 2640.76,1800.78 \n",
       "  \"/>\n",
       "<polyline clip-path=\"url(#clip690)\" style=\"stroke:#000000; stroke-linecap:round; stroke-linejoin:round; stroke-width:4; stroke-opacity:1; fill:none\" points=\"\n",
       "  265.984,1800.78 265.984,1781.88 \n",
       "  \"/>\n",
       "<polyline clip-path=\"url(#clip690)\" style=\"stroke:#000000; stroke-linecap:round; stroke-linejoin:round; stroke-width:4; stroke-opacity:1; fill:none\" points=\"\n",
       "  727.105,1800.78 727.105,1781.88 \n",
       "  \"/>\n",
       "<polyline clip-path=\"url(#clip690)\" style=\"stroke:#000000; stroke-linecap:round; stroke-linejoin:round; stroke-width:4; stroke-opacity:1; fill:none\" points=\"\n",
       "  1188.23,1800.78 1188.23,1781.88 \n",
       "  \"/>\n",
       "<polyline clip-path=\"url(#clip690)\" style=\"stroke:#000000; stroke-linecap:round; stroke-linejoin:round; stroke-width:4; stroke-opacity:1; fill:none\" points=\"\n",
       "  1649.35,1800.78 1649.35,1781.88 \n",
       "  \"/>\n",
       "<polyline clip-path=\"url(#clip690)\" style=\"stroke:#000000; stroke-linecap:round; stroke-linejoin:round; stroke-width:4; stroke-opacity:1; fill:none\" points=\"\n",
       "  2110.47,1800.78 2110.47,1781.88 \n",
       "  \"/>\n",
       "<polyline clip-path=\"url(#clip690)\" style=\"stroke:#000000; stroke-linecap:round; stroke-linejoin:round; stroke-width:4; stroke-opacity:1; fill:none\" points=\"\n",
       "  2571.59,1800.78 2571.59,1781.88 \n",
       "  \"/>\n",
       "<path clip-path=\"url(#clip690)\" d=\"M260.637 1861.55 L276.956 1861.55 L276.956 1865.48 L255.012 1865.48 L255.012 1861.55 Q257.674 1858.79 262.257 1854.16 Q266.864 1849.51 268.044 1848.17 Q270.29 1845.65 271.169 1843.91 Q272.072 1842.15 272.072 1840.46 Q272.072 1837.71 270.128 1835.97 Q268.206 1834.23 265.104 1834.23 Q262.905 1834.23 260.452 1835 Q258.021 1835.76 255.243 1837.31 L255.243 1832.59 Q258.067 1831.46 260.521 1830.88 Q262.975 1830.3 265.012 1830.3 Q270.382 1830.3 273.577 1832.98 Q276.771 1835.67 276.771 1840.16 Q276.771 1842.29 275.961 1844.21 Q275.174 1846.11 273.067 1848.7 Q272.489 1849.37 269.387 1852.59 Q266.285 1855.78 260.637 1861.55 Z\" fill=\"#000000\" fill-rule=\"evenodd\" fill-opacity=\"1\" /><path clip-path=\"url(#clip690)\" d=\"M731.353 1846.85 Q734.709 1847.57 736.584 1849.84 Q738.482 1852.1 738.482 1855.44 Q738.482 1860.55 734.964 1863.35 Q731.445 1866.15 724.964 1866.15 Q722.788 1866.15 720.473 1865.71 Q718.181 1865.3 715.728 1864.44 L715.728 1859.93 Q717.672 1861.06 719.987 1861.64 Q722.302 1862.22 724.825 1862.22 Q729.223 1862.22 731.515 1860.48 Q733.829 1858.75 733.829 1855.44 Q733.829 1852.38 731.677 1850.67 Q729.547 1848.93 725.728 1848.93 L721.7 1848.93 L721.7 1845.09 L725.913 1845.09 Q729.362 1845.09 731.19 1843.72 Q733.019 1842.34 733.019 1839.74 Q733.019 1837.08 731.121 1835.67 Q729.246 1834.23 725.728 1834.23 Q723.806 1834.23 721.607 1834.65 Q719.408 1835.07 716.769 1835.95 L716.769 1831.78 Q719.431 1831.04 721.746 1830.67 Q724.084 1830.3 726.144 1830.3 Q731.468 1830.3 734.57 1832.73 Q737.672 1835.14 737.672 1839.26 Q737.672 1842.13 736.028 1844.12 Q734.385 1846.09 731.353 1846.85 Z\" fill=\"#000000\" fill-rule=\"evenodd\" fill-opacity=\"1\" /><path clip-path=\"url(#clip690)\" d=\"M1191.23 1835 L1179.43 1853.45 L1191.23 1853.45 L1191.23 1835 M1190.01 1830.92 L1195.89 1830.92 L1195.89 1853.45 L1200.82 1853.45 L1200.82 1857.34 L1195.89 1857.34 L1195.89 1865.48 L1191.23 1865.48 L1191.23 1857.34 L1175.63 1857.34 L1175.63 1852.82 L1190.01 1830.92 Z\" fill=\"#000000\" fill-rule=\"evenodd\" fill-opacity=\"1\" /><path clip-path=\"url(#clip690)\" d=\"M1639.62 1830.92 L1657.98 1830.92 L1657.98 1834.86 L1643.91 1834.86 L1643.91 1843.33 Q1644.93 1842.98 1645.94 1842.82 Q1646.96 1842.64 1647.98 1842.64 Q1653.77 1842.64 1657.15 1845.81 Q1660.53 1848.98 1660.53 1854.4 Q1660.53 1859.97 1657.05 1863.08 Q1653.58 1866.15 1647.26 1866.15 Q1645.09 1866.15 1642.82 1865.78 Q1640.57 1865.41 1638.17 1864.67 L1638.17 1859.97 Q1640.25 1861.11 1642.47 1861.66 Q1644.69 1862.22 1647.17 1862.22 Q1651.18 1862.22 1653.51 1860.11 Q1655.85 1858.01 1655.85 1854.4 Q1655.85 1850.78 1653.51 1848.68 Q1651.18 1846.57 1647.17 1846.57 Q1645.3 1846.57 1643.42 1846.99 Q1641.57 1847.4 1639.62 1848.28 L1639.62 1830.92 Z\" fill=\"#000000\" fill-rule=\"evenodd\" fill-opacity=\"1\" /><path clip-path=\"url(#clip690)\" d=\"M2110.87 1846.34 Q2107.72 1846.34 2105.87 1848.49 Q2104.04 1850.65 2104.04 1854.4 Q2104.04 1858.12 2105.87 1860.3 Q2107.72 1862.45 2110.87 1862.45 Q2114.02 1862.45 2115.85 1860.3 Q2117.7 1858.12 2117.7 1854.4 Q2117.7 1850.65 2115.85 1848.49 Q2114.02 1846.34 2110.87 1846.34 M2120.15 1831.69 L2120.15 1835.95 Q2118.4 1835.11 2116.59 1834.67 Q2114.81 1834.23 2113.05 1834.23 Q2108.42 1834.23 2105.96 1837.36 Q2103.53 1840.48 2103.19 1846.8 Q2104.55 1844.79 2106.61 1843.72 Q2108.67 1842.64 2111.15 1842.64 Q2116.36 1842.64 2119.37 1845.81 Q2122.4 1848.96 2122.4 1854.4 Q2122.4 1859.72 2119.25 1862.94 Q2116.1 1866.15 2110.87 1866.15 Q2104.88 1866.15 2101.71 1861.57 Q2098.53 1856.96 2098.53 1848.24 Q2098.53 1840.04 2102.42 1835.18 Q2106.31 1830.3 2112.86 1830.3 Q2114.62 1830.3 2116.4 1830.65 Q2118.21 1830.99 2120.15 1831.69 Z\" fill=\"#000000\" fill-rule=\"evenodd\" fill-opacity=\"1\" /><path clip-path=\"url(#clip690)\" d=\"M2560.48 1830.92 L2582.7 1830.92 L2582.7 1832.91 L2570.15 1865.48 L2565.27 1865.48 L2577.07 1834.86 L2560.48 1834.86 L2560.48 1830.92 Z\" fill=\"#000000\" fill-rule=\"evenodd\" fill-opacity=\"1\" /><polyline clip-path=\"url(#clip692)\" style=\"stroke:#000000; stroke-linecap:round; stroke-linejoin:round; stroke-width:2; stroke-opacity:0.1; fill:none\" points=\"\n",
       "  196.816,1582.36 2640.76,1582.36 \n",
       "  \"/>\n",
       "<polyline clip-path=\"url(#clip692)\" style=\"stroke:#000000; stroke-linecap:round; stroke-linejoin:round; stroke-width:2; stroke-opacity:0.1; fill:none\" points=\"\n",
       "  196.816,1244.75 2640.76,1244.75 \n",
       "  \"/>\n",
       "<polyline clip-path=\"url(#clip692)\" style=\"stroke:#000000; stroke-linecap:round; stroke-linejoin:round; stroke-width:2; stroke-opacity:0.1; fill:none\" points=\"\n",
       "  196.816,907.138 2640.76,907.138 \n",
       "  \"/>\n",
       "<polyline clip-path=\"url(#clip692)\" style=\"stroke:#000000; stroke-linecap:round; stroke-linejoin:round; stroke-width:2; stroke-opacity:0.1; fill:none\" points=\"\n",
       "  196.816,569.527 2640.76,569.527 \n",
       "  \"/>\n",
       "<polyline clip-path=\"url(#clip692)\" style=\"stroke:#000000; stroke-linecap:round; stroke-linejoin:round; stroke-width:2; stroke-opacity:0.1; fill:none\" points=\"\n",
       "  196.816,231.917 2640.76,231.917 \n",
       "  \"/>\n",
       "<polyline clip-path=\"url(#clip690)\" style=\"stroke:#000000; stroke-linecap:round; stroke-linejoin:round; stroke-width:4; stroke-opacity:1; fill:none\" points=\"\n",
       "  196.816,1800.78 196.816,47.2441 \n",
       "  \"/>\n",
       "<polyline clip-path=\"url(#clip690)\" style=\"stroke:#000000; stroke-linecap:round; stroke-linejoin:round; stroke-width:4; stroke-opacity:1; fill:none\" points=\"\n",
       "  196.816,1582.36 215.714,1582.36 \n",
       "  \"/>\n",
       "<polyline clip-path=\"url(#clip690)\" style=\"stroke:#000000; stroke-linecap:round; stroke-linejoin:round; stroke-width:4; stroke-opacity:1; fill:none\" points=\"\n",
       "  196.816,1244.75 215.714,1244.75 \n",
       "  \"/>\n",
       "<polyline clip-path=\"url(#clip690)\" style=\"stroke:#000000; stroke-linecap:round; stroke-linejoin:round; stroke-width:4; stroke-opacity:1; fill:none\" points=\"\n",
       "  196.816,907.138 215.714,907.138 \n",
       "  \"/>\n",
       "<polyline clip-path=\"url(#clip690)\" style=\"stroke:#000000; stroke-linecap:round; stroke-linejoin:round; stroke-width:4; stroke-opacity:1; fill:none\" points=\"\n",
       "  196.816,569.527 215.714,569.527 \n",
       "  \"/>\n",
       "<polyline clip-path=\"url(#clip690)\" style=\"stroke:#000000; stroke-linecap:round; stroke-linejoin:round; stroke-width:4; stroke-opacity:1; fill:none\" points=\"\n",
       "  196.816,231.917 215.714,231.917 \n",
       "  \"/>\n",
       "<path clip-path=\"url(#clip690)\" d=\"M49.5521 1582.81 L79.2279 1582.81 L79.2279 1586.75 L49.5521 1586.75 L49.5521 1582.81 Z\" fill=\"#000000\" fill-rule=\"evenodd\" fill-opacity=\"1\" /><path clip-path=\"url(#clip690)\" d=\"M89.3667 1565.08 L107.723 1565.08 L107.723 1569.01 L93.6491 1569.01 L93.6491 1577.49 Q94.6676 1577.14 95.6861 1576.98 Q96.7047 1576.79 97.7232 1576.79 Q103.51 1576.79 106.89 1579.96 Q110.269 1583.14 110.269 1588.55 Q110.269 1594.13 106.797 1597.23 Q103.325 1600.31 97.0056 1600.31 Q94.8297 1600.31 92.5612 1599.94 Q90.3158 1599.57 87.9084 1598.83 L87.9084 1594.13 Q89.9917 1595.26 92.2139 1595.82 Q94.4361 1596.38 96.913 1596.38 Q100.918 1596.38 103.256 1594.27 Q105.593 1592.16 105.593 1588.55 Q105.593 1584.94 103.256 1582.83 Q100.918 1580.73 96.913 1580.73 Q95.038 1580.73 93.163 1581.14 Q91.3112 1581.56 89.3667 1582.44 L89.3667 1565.08 Z\" fill=\"#000000\" fill-rule=\"evenodd\" fill-opacity=\"1\" /><path clip-path=\"url(#clip690)\" d=\"M119.482 1593.76 L124.367 1593.76 L124.367 1599.64 L119.482 1599.64 L119.482 1593.76 Z\" fill=\"#000000\" fill-rule=\"evenodd\" fill-opacity=\"1\" /><path clip-path=\"url(#clip690)\" d=\"M144.552 1568.16 Q140.941 1568.16 139.112 1571.72 Q137.306 1575.26 137.306 1582.39 Q137.306 1589.5 139.112 1593.07 Q140.941 1596.61 144.552 1596.61 Q148.186 1596.61 149.991 1593.07 Q151.82 1589.5 151.82 1582.39 Q151.82 1575.26 149.991 1571.72 Q148.186 1568.16 144.552 1568.16 M144.552 1564.45 Q150.362 1564.45 153.417 1569.06 Q156.496 1573.64 156.496 1582.39 Q156.496 1591.12 153.417 1595.73 Q150.362 1600.31 144.552 1600.31 Q138.741 1600.31 135.663 1595.73 Q132.607 1591.12 132.607 1582.39 Q132.607 1573.64 135.663 1569.06 Q138.741 1564.45 144.552 1564.45 Z\" fill=\"#000000\" fill-rule=\"evenodd\" fill-opacity=\"1\" /><path clip-path=\"url(#clip690)\" d=\"M50.5475 1245.2 L80.2233 1245.2 L80.2233 1249.14 L50.5475 1249.14 L50.5475 1245.2 Z\" fill=\"#000000\" fill-rule=\"evenodd\" fill-opacity=\"1\" /><path clip-path=\"url(#clip690)\" d=\"M94.3436 1258.09 L110.663 1258.09 L110.663 1262.03 L88.7186 1262.03 L88.7186 1258.09 Q91.3806 1255.34 95.9639 1250.71 Q100.57 1246.06 101.751 1244.71 Q103.996 1242.19 104.876 1240.45 Q105.779 1238.7 105.779 1237.01 Q105.779 1234.25 103.834 1232.52 Q101.913 1230.78 98.8111 1230.78 Q96.6121 1230.78 94.1584 1231.54 Q91.7278 1232.31 88.9501 1233.86 L88.9501 1229.14 Q91.7741 1228 94.2278 1227.42 Q96.6815 1226.84 98.7185 1226.84 Q104.089 1226.84 107.283 1229.53 Q110.478 1232.21 110.478 1236.7 Q110.478 1238.83 109.668 1240.76 Q108.881 1242.65 106.774 1245.25 Q106.195 1245.92 103.094 1249.14 Q99.9917 1252.33 94.3436 1258.09 Z\" fill=\"#000000\" fill-rule=\"evenodd\" fill-opacity=\"1\" /><path clip-path=\"url(#clip690)\" d=\"M120.478 1256.15 L125.362 1256.15 L125.362 1262.03 L120.478 1262.03 L120.478 1256.15 Z\" fill=\"#000000\" fill-rule=\"evenodd\" fill-opacity=\"1\" /><path clip-path=\"url(#clip690)\" d=\"M135.593 1227.47 L153.95 1227.47 L153.95 1231.4 L139.876 1231.4 L139.876 1239.88 Q140.894 1239.53 141.913 1239.37 Q142.931 1239.18 143.95 1239.18 Q149.737 1239.18 153.116 1242.35 Q156.496 1245.52 156.496 1250.94 Q156.496 1256.52 153.024 1259.62 Q149.552 1262.7 143.232 1262.7 Q141.056 1262.7 138.788 1262.33 Q136.542 1261.96 134.135 1261.22 L134.135 1256.52 Q136.218 1257.65 138.441 1258.21 Q140.663 1258.77 143.14 1258.77 Q147.144 1258.77 149.482 1256.66 Q151.82 1254.55 151.82 1250.94 Q151.82 1247.33 149.482 1245.22 Q147.144 1243.12 143.14 1243.12 Q141.265 1243.12 139.39 1243.53 Q137.538 1243.95 135.593 1244.83 L135.593 1227.47 Z\" fill=\"#000000\" fill-rule=\"evenodd\" fill-opacity=\"1\" /><path clip-path=\"url(#clip690)\" d=\"M99.3204 892.937 Q95.7093 892.937 93.8806 896.502 Q92.075 900.043 92.075 907.173 Q92.075 914.279 93.8806 917.844 Q95.7093 921.386 99.3204 921.386 Q102.955 921.386 104.76 917.844 Q106.589 914.279 106.589 907.173 Q106.589 900.043 104.76 896.502 Q102.955 892.937 99.3204 892.937 M99.3204 889.233 Q105.131 889.233 108.186 893.84 Q111.265 898.423 111.265 907.173 Q111.265 915.9 108.186 920.506 Q105.131 925.089 99.3204 925.089 Q93.5102 925.089 90.4315 920.506 Q87.376 915.9 87.376 907.173 Q87.376 898.423 90.4315 893.84 Q93.5102 889.233 99.3204 889.233 Z\" fill=\"#000000\" fill-rule=\"evenodd\" fill-opacity=\"1\" /><path clip-path=\"url(#clip690)\" d=\"M119.482 918.539 L124.367 918.539 L124.367 924.418 L119.482 924.418 L119.482 918.539 Z\" fill=\"#000000\" fill-rule=\"evenodd\" fill-opacity=\"1\" /><path clip-path=\"url(#clip690)\" d=\"M144.552 892.937 Q140.941 892.937 139.112 896.502 Q137.306 900.043 137.306 907.173 Q137.306 914.279 139.112 917.844 Q140.941 921.386 144.552 921.386 Q148.186 921.386 149.991 917.844 Q151.82 914.279 151.82 907.173 Q151.82 900.043 149.991 896.502 Q148.186 892.937 144.552 892.937 M144.552 889.233 Q150.362 889.233 153.417 893.84 Q156.496 898.423 156.496 907.173 Q156.496 915.9 153.417 920.506 Q150.362 925.089 144.552 925.089 Q138.741 925.089 135.663 920.506 Q132.607 915.9 132.607 907.173 Q132.607 898.423 135.663 893.84 Q138.741 889.233 144.552 889.233 Z\" fill=\"#000000\" fill-rule=\"evenodd\" fill-opacity=\"1\" /><path clip-path=\"url(#clip690)\" d=\"M94.3436 582.872 L110.663 582.872 L110.663 586.807 L88.7186 586.807 L88.7186 582.872 Q91.3806 580.118 95.9639 575.488 Q100.57 570.835 101.751 569.493 Q103.996 566.97 104.876 565.233 Q105.779 563.474 105.779 561.784 Q105.779 559.03 103.834 557.294 Q101.913 555.558 98.8111 555.558 Q96.6121 555.558 94.1584 556.322 Q91.7278 557.085 88.9501 558.636 L88.9501 553.914 Q91.7741 552.78 94.2278 552.201 Q96.6815 551.622 98.7185 551.622 Q104.089 551.622 107.283 554.308 Q110.478 556.993 110.478 561.484 Q110.478 563.613 109.668 565.534 Q108.881 567.433 106.774 570.025 Q106.195 570.696 103.094 573.914 Q99.9917 577.108 94.3436 582.872 Z\" fill=\"#000000\" fill-rule=\"evenodd\" fill-opacity=\"1\" /><path clip-path=\"url(#clip690)\" d=\"M120.478 580.928 L125.362 580.928 L125.362 586.807 L120.478 586.807 L120.478 580.928 Z\" fill=\"#000000\" fill-rule=\"evenodd\" fill-opacity=\"1\" /><path clip-path=\"url(#clip690)\" d=\"M135.593 552.247 L153.95 552.247 L153.95 556.183 L139.876 556.183 L139.876 564.655 Q140.894 564.308 141.913 564.146 Q142.931 563.96 143.95 563.96 Q149.737 563.96 153.116 567.132 Q156.496 570.303 156.496 575.72 Q156.496 581.298 153.024 584.4 Q149.552 587.479 143.232 587.479 Q141.056 587.479 138.788 587.108 Q136.542 586.738 134.135 585.997 L134.135 581.298 Q136.218 582.432 138.441 582.988 Q140.663 583.544 143.14 583.544 Q147.144 583.544 149.482 581.437 Q151.82 579.331 151.82 575.72 Q151.82 572.108 149.482 570.002 Q147.144 567.896 143.14 567.896 Q141.265 567.896 139.39 568.312 Q137.538 568.729 135.593 569.608 L135.593 552.247 Z\" fill=\"#000000\" fill-rule=\"evenodd\" fill-opacity=\"1\" /><path clip-path=\"url(#clip690)\" d=\"M89.3667 214.637 L107.723 214.637 L107.723 218.572 L93.6491 218.572 L93.6491 227.044 Q94.6676 226.697 95.6861 226.535 Q96.7047 226.35 97.7232 226.35 Q103.51 226.35 106.89 229.521 Q110.269 232.692 110.269 238.109 Q110.269 243.688 106.797 246.789 Q103.325 249.868 97.0056 249.868 Q94.8297 249.868 92.5612 249.498 Q90.3158 249.127 87.9084 248.387 L87.9084 243.688 Q89.9917 244.822 92.2139 245.377 Q94.4361 245.933 96.913 245.933 Q100.918 245.933 103.256 243.826 Q105.593 241.72 105.593 238.109 Q105.593 234.498 103.256 232.391 Q100.918 230.285 96.913 230.285 Q95.038 230.285 93.163 230.701 Q91.3112 231.118 89.3667 231.998 L89.3667 214.637 Z\" fill=\"#000000\" fill-rule=\"evenodd\" fill-opacity=\"1\" /><path clip-path=\"url(#clip690)\" d=\"M119.482 243.317 L124.367 243.317 L124.367 249.197 L119.482 249.197 L119.482 243.317 Z\" fill=\"#000000\" fill-rule=\"evenodd\" fill-opacity=\"1\" /><path clip-path=\"url(#clip690)\" d=\"M144.552 217.715 Q140.941 217.715 139.112 221.28 Q137.306 224.822 137.306 231.951 Q137.306 239.058 139.112 242.623 Q140.941 246.164 144.552 246.164 Q148.186 246.164 149.991 242.623 Q151.82 239.058 151.82 231.951 Q151.82 224.822 149.991 221.28 Q148.186 217.715 144.552 217.715 M144.552 214.012 Q150.362 214.012 153.417 218.618 Q156.496 223.202 156.496 231.951 Q156.496 240.678 153.417 245.285 Q150.362 249.868 144.552 249.868 Q138.741 249.868 135.663 245.285 Q132.607 240.678 132.607 231.951 Q132.607 223.202 135.663 218.618 Q138.741 214.012 144.552 214.012 Z\" fill=\"#000000\" fill-rule=\"evenodd\" fill-opacity=\"1\" /><path clip-path=\"url(#clip692)\" d=\"\n",
       "M265.984 1447.32 L269.737 1450.6 L273.489 1453.87 L277.242 1457.13 L280.995 1460.36 L315.694 1489.42 L350.393 1516.95 L385.092 1542.95 L419.791 1567.42 L461.496 1594.81 \n",
       "  L503.201 1619.99 L538.463 1639.56 L573.724 1657.54 L612.028 1675.29 L650.331 1691.18 L685.644 1704.17 L720.956 1715.58 L758.815 1726.05 L796.674 1734.7 L840.537 1742.45 \n",
       "  L884.4 1747.76 L923.381 1750.42 L962.361 1751.15 L996.543 1750.2 L1030.73 1747.77 L1067.99 1743.43 L1105.26 1737.33 L1142.75 1729.41 L1180.24 1719.7 L1221.69 1706.89 \n",
       "  L1263.14 1691.9 L1302.58 1675.61 L1342.01 1657.34 L1383.02 1636.26 L1424.03 1613.03 L1458.55 1591.83 L1493.06 1569.11 L1535.21 1539.32 L1577.35 1507.28 L1615.96 1475.94 \n",
       "  L1654.56 1442.71 L1690.22 1410.34 L1725.87 1376.36 L1761.99 1340.29 L1798.11 1302.56 L1838.59 1258.31 L1879.07 1211.97 L1915.75 1168.19 L1952.43 1122.7 L1994.42 1068.51 \n",
       "  L2036.42 1012.09 L2075.3 957.846 L2114.19 901.685 L2152.52 844.435 L2190.86 785.32 L2228.08 726.137 L2265.3 665.195 L2303.45 600.895 L2341.61 534.745 L2383.41 460.148 \n",
       "  L2425.22 383.33 L2485.94 267.786 L2546.67 147.558 L2559.13 122.314 L2571.59 96.8724 L2571.59 907.138 L2559.13 907.138 L2546.67 907.138 L2485.94 907.138 L2425.22 907.138 \n",
       "  L2383.41 907.138 L2341.61 907.138 L2303.45 907.138 L2265.3 907.138 L2228.08 907.138 L2190.86 907.138 L2152.52 907.138 L2114.19 907.138 L2075.3 907.138 L2036.42 907.138 \n",
       "  L1994.42 907.138 L1952.43 907.138 L1915.75 907.138 L1879.07 907.138 L1838.59 907.138 L1798.11 907.138 L1761.99 907.138 L1725.87 907.138 L1690.22 907.138 L1654.56 907.138 \n",
       "  L1615.96 907.138 L1577.35 907.138 L1535.21 907.138 L1493.06 907.138 L1458.55 907.138 L1424.03 907.138 L1383.02 907.138 L1342.01 907.138 L1302.58 907.138 L1263.14 907.138 \n",
       "  L1221.69 907.138 L1180.24 907.138 L1142.75 907.138 L1105.26 907.138 L1067.99 907.138 L1030.73 907.138 L996.543 907.138 L962.361 907.138 L923.381 907.138 L884.4 907.138 \n",
       "  L840.537 907.138 L796.674 907.138 L758.815 907.138 L720.956 907.138 L685.644 907.138 L650.331 907.138 L612.028 907.138 L573.724 907.138 L538.463 907.138 L503.201 907.138 \n",
       "  L461.496 907.138 L419.791 907.138 L385.092 907.138 L350.393 907.138 L315.694 907.138 L280.995 907.138 L277.242 907.138 L273.489 907.138 L269.737 907.138 L265.984 907.138 \n",
       "   Z\n",
       "  \" fill=\"#009af9\" fill-rule=\"evenodd\" fill-opacity=\"0.3\"/>\n",
       "<polyline clip-path=\"url(#clip692)\" style=\"stroke:#009af9; stroke-linecap:round; stroke-linejoin:round; stroke-width:4; stroke-opacity:1; fill:none\" points=\"\n",
       "  265.984,1447.32 269.737,1450.6 273.489,1453.87 277.242,1457.13 280.995,1460.36 315.694,1489.42 350.393,1516.95 385.092,1542.95 419.791,1567.42 461.496,1594.81 \n",
       "  503.201,1619.99 538.463,1639.56 573.724,1657.54 612.028,1675.29 650.331,1691.18 685.644,1704.17 720.956,1715.58 758.815,1726.05 796.674,1734.7 840.537,1742.45 \n",
       "  884.4,1747.76 923.381,1750.42 962.361,1751.15 996.543,1750.2 1030.73,1747.77 1067.99,1743.43 1105.26,1737.33 1142.75,1729.41 1180.24,1719.7 1221.69,1706.89 \n",
       "  1263.14,1691.9 1302.58,1675.61 1342.01,1657.34 1383.02,1636.26 1424.03,1613.03 1458.55,1591.83 1493.06,1569.11 1535.21,1539.32 1577.35,1507.28 1615.96,1475.94 \n",
       "  1654.56,1442.71 1690.22,1410.34 1725.87,1376.36 1761.99,1340.29 1798.11,1302.56 1838.59,1258.31 1879.07,1211.97 1915.75,1168.19 1952.43,1122.7 1994.42,1068.51 \n",
       "  2036.42,1012.09 2075.3,957.846 2114.19,901.685 2152.52,844.435 2190.86,785.32 2228.08,726.137 2265.3,665.195 2303.45,600.895 2341.61,534.745 2383.41,460.148 \n",
       "  2425.22,383.33 2485.94,267.786 2546.67,147.558 2559.13,122.314 2571.59,96.8724 \n",
       "  \"/>\n",
       "<path clip-path=\"url(#clip690)\" d=\"\n",
       "M278.281 209.375 L925.812 209.375 L925.812 105.695 L278.281 105.695  Z\n",
       "  \" fill=\"#ffffff\" fill-rule=\"evenodd\" fill-opacity=\"1\"/>\n",
       "<polyline clip-path=\"url(#clip690)\" style=\"stroke:#000000; stroke-linecap:round; stroke-linejoin:round; stroke-width:4; stroke-opacity:1; fill:none\" points=\"\n",
       "  278.281,209.375 925.812,209.375 925.812,105.695 278.281,105.695 278.281,209.375 \n",
       "  \"/>\n",
       "<path clip-path=\"url(#clip690)\" d=\"\n",
       "M305.436 178.271 L468.365 178.271 L468.365 136.799 L305.436 136.799 L305.436 178.271  Z\n",
       "  \" fill=\"#009af9\" fill-rule=\"evenodd\" fill-opacity=\"0.3\"/>\n",
       "<polyline clip-path=\"url(#clip690)\" style=\"stroke:#009af9; stroke-linecap:round; stroke-linejoin:round; stroke-width:4; stroke-opacity:1; fill:none\" points=\"\n",
       "  305.436,136.799 468.365,136.799 \n",
       "  \"/>\n",
       "<path clip-path=\"url(#clip690)\" d=\"M519.434 139.326 Q519.434 140.615 518.614 141.411 Q517.818 142.207 516.811 142.207 Q516.085 142.207 515.546 141.762 Q515.031 141.317 515.031 140.544 Q515.031 139.748 515.64 138.905 Q516.249 138.062 517.631 137.944 Q516.717 137.078 515.265 137.078 Q514.539 137.078 513.93 137.546 Q513.344 137.991 513.016 138.717 Q512.665 139.467 511.869 143.706 Q511.611 145.088 511.377 146.423 Q511.143 147.758 510.861 149.164 L514.843 149.164 Q515.359 149.164 515.569 149.187 Q515.78 149.211 515.944 149.328 Q516.132 149.445 516.132 149.703 Q516.132 150.358 515.827 150.522 Q515.546 150.663 514.703 150.663 L510.58 150.663 L507.699 165.864 Q507.629 166.309 507.325 167.714 Q507.044 169.096 506.364 171.368 Q505.685 173.664 505.006 175.022 Q504.631 175.795 504.139 176.521 Q503.671 177.271 502.992 178.02 Q502.312 178.77 501.422 179.215 Q500.532 179.683 499.595 179.683 Q498.003 179.683 496.761 178.793 Q495.52 177.903 495.52 176.381 Q495.52 175.092 496.316 174.296 Q497.136 173.5 498.143 173.5 Q498.869 173.5 499.384 173.945 Q499.923 174.39 499.923 175.163 Q499.923 175.491 499.806 175.865 Q499.689 176.24 499.431 176.662 Q499.174 177.107 498.612 177.411 Q498.049 177.716 497.276 177.763 Q498.19 178.629 499.595 178.629 Q500.04 178.629 500.438 178.442 Q500.837 178.278 501.165 177.856 Q501.516 177.435 501.774 177.013 Q502.031 176.615 502.289 175.842 Q502.546 175.092 502.71 174.53 Q502.874 173.968 503.085 172.961 Q503.319 171.954 503.437 171.345 Q503.554 170.759 503.764 169.612 L507.348 150.663 L504.186 150.663 Q503.624 150.663 503.39 150.639 Q503.179 150.616 503.015 150.499 Q502.851 150.358 502.851 150.077 Q502.851 149.632 503.038 149.445 Q503.249 149.234 503.483 149.211 Q503.718 149.164 504.28 149.164 L507.606 149.164 Q508.73 143.238 509.175 141.645 Q509.69 139.959 510.487 138.788 Q511.283 137.593 512.173 137.031 Q513.063 136.469 513.789 136.258 Q514.539 136.024 515.265 136.024 Q516.904 136.024 518.169 136.914 Q519.434 137.78 519.434 139.326 Z\" fill=\"#000000\" fill-rule=\"evenodd\" fill-opacity=\"1\" /><path clip-path=\"url(#clip690)\" d=\"M525.893 157.854 Q525.893 149.749 528.914 143.214 Q530.203 140.474 532.006 138.179 Q533.81 135.883 535.004 134.876 Q536.199 133.869 536.527 133.869 Q536.995 133.869 537.018 134.337 Q537.018 134.572 536.386 135.157 Q528.657 143.027 528.68 157.854 Q528.68 172.727 536.199 180.292 Q537.018 181.112 537.018 181.37 Q537.018 181.838 536.527 181.838 Q536.199 181.838 535.051 180.878 Q533.903 179.917 532.123 177.716 Q530.343 175.514 529.055 172.82 Q525.893 166.286 525.893 157.854 Z\" fill=\"#000000\" fill-rule=\"evenodd\" fill-opacity=\"1\" /><path clip-path=\"url(#clip690)\" d=\"M564.556 151.811 Q564.556 153.122 563.736 153.872 Q562.917 154.598 561.98 154.598 Q561.09 154.598 560.621 154.083 Q560.153 153.567 560.153 152.911 Q560.153 152.021 560.808 151.248 Q561.464 150.475 562.448 150.311 Q561.488 149.703 560.059 149.703 Q559.122 149.703 558.302 150.194 Q557.506 150.686 557.014 151.319 Q556.546 151.951 556.124 152.865 Q555.726 153.755 555.562 154.293 Q555.421 154.809 555.304 155.371 L553.665 161.929 Q552.868 165.044 552.868 166.145 Q552.868 167.504 553.524 168.417 Q554.18 169.307 555.492 169.307 Q556.007 169.307 556.592 169.167 Q557.178 169.003 557.928 168.581 Q558.7 168.136 559.38 167.48 Q560.082 166.801 560.762 165.653 Q561.441 164.506 561.886 163.03 Q562.026 162.515 562.495 162.515 Q563.08 162.515 563.08 162.983 Q563.08 163.381 562.753 164.224 Q562.448 165.044 561.769 166.122 Q561.113 167.176 560.246 168.136 Q559.38 169.073 558.091 169.729 Q556.803 170.385 555.398 170.385 Q553.384 170.385 552.048 169.307 Q550.713 168.23 550.222 166.731 Q550.104 166.941 549.94 167.223 Q549.777 167.504 549.285 168.136 Q548.816 168.745 548.277 169.213 Q547.739 169.658 546.896 170.01 Q546.076 170.385 545.186 170.385 Q544.061 170.385 543.054 170.057 Q542.071 169.729 541.368 168.979 Q540.665 168.23 540.665 167.199 Q540.665 166.051 541.438 165.255 Q542.234 164.435 543.312 164.435 Q543.991 164.435 544.53 164.833 Q545.092 165.232 545.092 166.098 Q545.092 167.059 544.436 167.785 Q543.78 168.511 542.843 168.698 Q543.804 169.307 545.233 169.307 Q546.778 169.307 547.996 167.949 Q549.214 166.59 549.8 164.318 Q551.252 158.861 551.814 156.425 Q552.376 153.965 552.376 152.911 Q552.376 151.928 552.119 151.248 Q551.861 150.569 551.416 150.265 Q550.994 149.937 550.596 149.82 Q550.222 149.703 549.8 149.703 Q549.097 149.703 548.301 149.984 Q547.528 150.265 546.591 150.92 Q545.678 151.553 544.811 152.865 Q543.944 154.176 543.359 155.98 Q543.242 156.518 542.726 156.518 Q542.164 156.495 542.164 156.027 Q542.164 155.628 542.469 154.809 Q542.797 153.965 543.452 152.911 Q544.132 151.857 544.998 150.92 Q545.888 149.96 547.177 149.304 Q548.488 148.649 549.894 148.649 Q550.526 148.649 551.135 148.789 Q551.767 148.906 552.517 149.257 Q553.29 149.609 553.969 150.382 Q554.648 151.155 555.07 152.279 Q555.351 151.74 555.726 151.225 Q556.124 150.71 556.733 150.077 Q557.365 149.421 558.232 149.047 Q559.122 148.649 560.106 148.649 Q561.066 148.649 562.003 148.906 Q562.94 149.14 563.736 149.913 Q564.556 150.663 564.556 151.811 Z\" fill=\"#000000\" fill-rule=\"evenodd\" fill-opacity=\"1\" /><path clip-path=\"url(#clip690)\" d=\"M569.176 181.37 Q569.176 181.135 569.785 180.55 Q577.514 172.68 577.514 157.854 Q577.514 142.98 570.089 135.462 Q569.176 134.595 569.176 134.337 Q569.176 133.869 569.644 133.869 Q569.972 133.869 571.12 134.829 Q572.291 135.79 574.048 137.991 Q575.828 140.193 577.139 142.887 Q580.301 149.421 580.301 157.854 Q580.301 165.958 577.28 172.493 Q575.992 175.233 574.188 177.528 Q572.385 179.824 571.19 180.831 Q569.996 181.838 569.644 181.838 Q569.176 181.838 569.176 181.37 Z\" fill=\"#000000\" fill-rule=\"evenodd\" fill-opacity=\"1\" /><path clip-path=\"url(#clip690)\" d=\"M600.908 162.561 Q600.954 161.976 601.868 161.976 L631.263 161.976 Q632.645 161.976 632.668 162.515 Q632.668 163.1 631.357 163.077 L602.196 163.077 Q600.908 163.1 600.908 162.561 M600.908 153.192 Q600.908 152.607 601.915 152.63 L631.216 152.63 Q632.645 152.63 632.668 153.192 Q632.668 153.731 631.45 153.731 L601.868 153.731 Q600.908 153.731 600.908 153.192 Z\" fill=\"#000000\" fill-rule=\"evenodd\" fill-opacity=\"1\" /><path clip-path=\"url(#clip690)\" d=\"M675.067 151.811 Q675.067 153.122 674.247 153.872 Q673.427 154.598 672.49 154.598 Q671.6 154.598 671.132 154.083 Q670.663 153.567 670.663 152.911 Q670.663 152.021 671.319 151.248 Q671.975 150.475 672.959 150.311 Q671.998 149.703 670.569 149.703 Q669.633 149.703 668.813 150.194 Q668.016 150.686 667.525 151.319 Q667.056 151.951 666.634 152.865 Q666.236 153.755 666.072 154.293 Q665.932 154.809 665.815 155.371 L664.175 161.929 Q663.379 165.044 663.379 166.145 Q663.379 167.504 664.035 168.417 Q664.69 169.307 666.002 169.307 Q666.517 169.307 667.103 169.167 Q667.688 169.003 668.438 168.581 Q669.211 168.136 669.89 167.48 Q670.593 166.801 671.272 165.653 Q671.951 164.506 672.396 163.03 Q672.537 162.515 673.005 162.515 Q673.591 162.515 673.591 162.983 Q673.591 163.381 673.263 164.224 Q672.959 165.044 672.279 166.122 Q671.623 167.176 670.757 168.136 Q669.89 169.073 668.602 169.729 Q667.314 170.385 665.908 170.385 Q663.894 170.385 662.559 169.307 Q661.224 168.23 660.732 166.731 Q660.615 166.941 660.451 167.223 Q660.287 167.504 659.795 168.136 Q659.327 168.745 658.788 169.213 Q658.249 169.658 657.406 170.01 Q656.586 170.385 655.696 170.385 Q654.572 170.385 653.565 170.057 Q652.581 169.729 651.878 168.979 Q651.176 168.23 651.176 167.199 Q651.176 166.051 651.949 165.255 Q652.745 164.435 653.822 164.435 Q654.502 164.435 655.04 164.833 Q655.603 165.232 655.603 166.098 Q655.603 167.059 654.947 167.785 Q654.291 168.511 653.354 168.698 Q654.314 169.307 655.743 169.307 Q657.289 169.307 658.507 167.949 Q659.725 166.59 660.31 164.318 Q661.763 158.861 662.325 156.425 Q662.887 153.965 662.887 152.911 Q662.887 151.928 662.629 151.248 Q662.372 150.569 661.927 150.265 Q661.505 149.937 661.107 149.82 Q660.732 149.703 660.31 149.703 Q659.608 149.703 658.811 149.984 Q658.038 150.265 657.102 150.92 Q656.188 151.553 655.321 152.865 Q654.455 154.176 653.869 155.98 Q653.752 156.518 653.237 156.518 Q652.675 156.495 652.675 156.027 Q652.675 155.628 652.979 154.809 Q653.307 153.965 653.963 152.911 Q654.642 151.857 655.509 150.92 Q656.399 149.96 657.687 149.304 Q658.999 148.649 660.404 148.649 Q661.037 148.649 661.645 148.789 Q662.278 148.906 663.027 149.257 Q663.8 149.609 664.48 150.382 Q665.159 151.155 665.58 152.279 Q665.862 151.74 666.236 151.225 Q666.634 150.71 667.243 150.077 Q667.876 149.421 668.742 149.047 Q669.633 148.649 670.616 148.649 Q671.577 148.649 672.514 148.906 Q673.45 149.14 674.247 149.913 Q675.067 150.663 675.067 151.811 Z\" fill=\"#000000\" fill-rule=\"evenodd\" fill-opacity=\"1\" /><path clip-path=\"url(#clip690)\" d=\"M679.956 155.49 Q679.956 154.884 680.005 154.703 Q680.07 154.523 680.333 154.244 L686.776 147.063 Q690.301 143.095 690.301 139.636 Q690.301 137.389 689.121 135.783 Q687.957 134.176 685.809 134.176 Q684.333 134.176 683.087 135.078 Q681.841 135.979 681.267 137.586 Q681.366 137.553 681.71 137.553 Q682.546 137.553 683.005 138.078 Q683.481 138.603 683.481 139.308 Q683.481 140.209 682.89 140.652 Q682.317 141.078 681.743 141.078 Q681.513 141.078 681.202 141.029 Q680.907 140.98 680.431 140.521 Q679.956 140.045 679.956 139.209 Q679.956 136.865 681.726 134.996 Q683.514 133.126 686.235 133.126 Q689.318 133.126 691.334 134.963 Q693.367 136.783 693.367 139.636 Q693.367 140.636 693.056 141.554 Q692.761 142.456 692.351 143.161 Q691.957 143.866 690.875 144.997 Q689.793 146.128 688.924 146.932 Q688.055 147.735 686.104 149.44 L682.546 152.9 L688.596 152.9 Q691.547 152.9 691.777 152.637 Q692.105 152.162 692.515 149.653 L693.367 149.653 L692.416 155.49 L679.956 155.49 Z\" fill=\"#000000\" fill-rule=\"evenodd\" fill-opacity=\"1\" /><path clip-path=\"url(#clip690)\" d=\"M743.333 157.174 Q743.614 157.455 743.614 157.854 Q743.614 158.252 743.333 158.533 Q743.052 158.814 742.654 158.814 L712.626 158.814 Q712.228 158.814 711.947 158.533 Q711.666 158.252 711.666 157.854 Q711.666 157.455 711.947 157.174 Q712.228 156.893 712.626 156.893 L742.654 156.893 Q743.052 156.893 743.333 157.174 Z\" fill=\"#000000\" fill-rule=\"evenodd\" fill-opacity=\"1\" /><path clip-path=\"url(#clip690)\" d=\"M761.934 147.29 L763.504 137.429 L764.698 137.429 Q764.839 138.015 765.073 138.272 Q765.33 138.53 766.689 138.741 Q768.071 138.952 770.858 138.952 L782.499 138.952 Q782.499 140.052 782.078 140.638 L775.589 149.749 Q773.528 152.63 772.615 157.947 Q772.076 161.507 772.1 165.817 L772.1 168.253 Q772.1 170.9 769.874 170.9 Q767.673 170.9 767.673 168.253 Q767.673 159.095 773.575 150.218 Q774.208 149.304 776.526 146.049 Q778.869 142.793 778.962 142.652 L769.031 142.652 Q764.675 142.652 764.323 142.933 Q763.855 143.355 763.129 147.29 L761.934 147.29 Z\" fill=\"#000000\" fill-rule=\"evenodd\" fill-opacity=\"1\" /><path clip-path=\"url(#clip690)\" d=\"M808.045 151.811 Q808.045 153.122 807.226 153.872 Q806.406 154.598 805.469 154.598 Q804.579 154.598 804.11 154.083 Q803.642 153.567 803.642 152.911 Q803.642 152.021 804.298 151.248 Q804.954 150.475 805.937 150.311 Q804.977 149.703 803.548 149.703 Q802.611 149.703 801.792 150.194 Q800.995 150.686 800.503 151.319 Q800.035 151.951 799.613 152.865 Q799.215 153.755 799.051 154.293 Q798.911 154.809 798.793 155.371 L797.154 161.929 Q796.358 165.044 796.358 166.145 Q796.358 167.504 797.013 168.417 Q797.669 169.307 798.981 169.307 Q799.496 169.307 800.082 169.167 Q800.667 169.003 801.417 168.581 Q802.19 168.136 802.869 167.48 Q803.572 166.801 804.251 165.653 Q804.93 164.506 805.375 163.03 Q805.516 162.515 805.984 162.515 Q806.57 162.515 806.57 162.983 Q806.57 163.381 806.242 164.224 Q805.937 165.044 805.258 166.122 Q804.602 167.176 803.736 168.136 Q802.869 169.073 801.581 169.729 Q800.293 170.385 798.887 170.385 Q796.873 170.385 795.538 169.307 Q794.203 168.23 793.711 166.731 Q793.594 166.941 793.43 167.223 Q793.266 167.504 792.774 168.136 Q792.305 168.745 791.767 169.213 Q791.228 169.658 790.385 170.01 Q789.565 170.385 788.675 170.385 Q787.551 170.385 786.544 170.057 Q785.56 169.729 784.857 168.979 Q784.154 168.23 784.154 167.199 Q784.154 166.051 784.927 165.255 Q785.724 164.435 786.801 164.435 Q787.48 164.435 788.019 164.833 Q788.581 165.232 788.581 166.098 Q788.581 167.059 787.925 167.785 Q787.27 168.511 786.333 168.698 Q787.293 169.307 788.722 169.307 Q790.268 169.307 791.486 167.949 Q792.704 166.59 793.289 164.318 Q794.741 158.861 795.304 156.425 Q795.866 153.965 795.866 152.911 Q795.866 151.928 795.608 151.248 Q795.35 150.569 794.905 150.265 Q794.484 149.937 794.086 149.82 Q793.711 149.703 793.289 149.703 Q792.587 149.703 791.79 149.984 Q791.017 150.265 790.08 150.92 Q789.167 151.553 788.3 152.865 Q787.434 154.176 786.848 155.98 Q786.731 156.518 786.216 156.518 Q785.653 156.495 785.653 156.027 Q785.653 155.628 785.958 154.809 Q786.286 153.965 786.942 152.911 Q787.621 151.857 788.488 150.92 Q789.378 149.96 790.666 149.304 Q791.978 148.649 793.383 148.649 Q794.015 148.649 794.624 148.789 Q795.257 148.906 796.006 149.257 Q796.779 149.609 797.458 150.382 Q798.138 151.155 798.559 152.279 Q798.84 151.74 799.215 151.225 Q799.613 150.71 800.222 150.077 Q800.855 149.421 801.721 149.047 Q802.611 148.649 803.595 148.649 Q804.555 148.649 805.492 148.906 Q806.429 149.14 807.226 149.913 Q808.045 150.663 808.045 151.811 Z\" fill=\"#000000\" fill-rule=\"evenodd\" fill-opacity=\"1\" /><path clip-path=\"url(#clip690)\" d=\"M825.733 158.439 Q824.632 158.439 824.632 157.854 Q824.632 157.268 825.78 157.268 Q825.921 157.268 826.155 157.291 Q826.413 157.315 826.459 157.315 L839.974 157.315 L839.974 143.753 Q839.974 143.706 839.951 143.496 Q839.927 143.261 839.927 143.121 Q839.927 141.973 840.489 141.973 Q841.075 141.973 841.075 143.121 L841.075 157.315 L854.613 157.315 Q854.66 157.315 854.894 157.291 Q855.128 157.268 855.269 157.268 Q856.37 157.268 856.37 157.854 Q856.393 158.439 855.222 158.439 Q855.082 158.439 854.871 158.416 Q854.66 158.392 854.613 158.392 L841.075 158.392 L841.075 172.633 Q841.075 173.734 840.489 173.734 Q839.927 173.734 839.927 172.586 Q839.927 172.446 839.951 172.211 Q839.974 172.001 839.974 171.954 L839.974 158.392 L826.459 158.392 Q826.413 158.392 826.131 158.416 Q825.874 158.439 825.733 158.439 Z\" fill=\"#000000\" fill-rule=\"evenodd\" fill-opacity=\"1\" /><path clip-path=\"url(#clip690)\" d=\"M874.901 154.691 Q874.901 147.149 878.742 142.535 Q882.583 137.898 887.525 137.898 Q890.406 137.898 891.999 139.373 Q893.615 140.825 893.615 143.074 Q893.615 144.315 892.889 144.854 Q892.163 145.393 891.413 145.393 Q890.547 145.393 889.867 144.807 Q889.188 144.222 889.188 143.168 Q889.188 141.013 891.835 141.013 Q890.594 139.092 887.619 139.092 Q886.705 139.092 885.769 139.373 Q884.832 139.631 883.614 140.521 Q882.396 141.411 881.459 142.816 Q880.522 144.222 879.866 146.868 Q879.21 149.515 879.21 152.958 L879.21 154.106 Q881.178 149.351 885.206 149.375 Q889.235 149.375 892.022 152.443 Q894.81 155.511 894.81 160.055 Q894.81 164.716 891.905 167.808 Q889.001 170.9 884.925 170.9 Q883.098 170.9 881.435 170.127 Q879.796 169.377 878.25 167.644 Q876.728 165.911 875.814 162.585 Q874.901 159.259 874.901 154.691 M879.304 159.001 Q879.304 163.709 880.171 165.958 Q880.311 166.332 880.616 166.848 Q880.944 167.363 881.482 168.042 Q882.044 168.698 882.958 169.143 Q883.871 169.565 884.925 169.565 Q888.134 169.565 889.68 166.45 Q890.5 164.716 890.5 160.008 Q890.5 155.207 889.633 153.45 Q888.158 150.475 885.16 150.475 Q883.145 150.475 881.74 151.857 Q880.358 153.239 879.819 155.09 Q879.304 156.94 879.304 159.001 Z\" fill=\"#000000\" fill-rule=\"evenodd\" fill-opacity=\"1\" /></svg>\n"
      ]
     },
     "execution_count": 61,
     "metadata": {},
     "output_type": "execute_result"
    }
   ],
   "source": [
    "using Plots, SymPy, LaTeXStrings\n",
    "@vars x real = true\n",
    "f(x) = x^2-7x+6\n",
    "plot(f, 2, 7, fillrange = 0, fillalpha = 0.3, label = L\"$f(x)=x^2-7x+6$\")"
   ]
  },
  {
   "cell_type": "code",
   "execution_count": 18,
   "id": "6249b018",
   "metadata": {},
   "outputs": [
    {
     "data": {
      "text/latex": [
       "$\\frac{43}{2}$"
      ],
      "text/plain": [
       "43/2"
      ]
     },
     "execution_count": 62,
     "metadata": {},
     "output_type": "execute_result"
    }
   ],
   "source": [
    "# Calculamos primero las raíces de la función\n",
    "solve(f(x))\n",
    "# Descomponemos el intervalo de integración en los subintervalos [2,6] (función negativa) y [6,7] (función positiva) y calculamos las integrales por separado\n",
    "-integrate(f, 2, 6) + integrate(f, 6, 7)"
   ]
  },
  {
   "cell_type": "code",
   "execution_count": 19,
   "id": "1206698b",
   "metadata": {},
   "outputs": [
    {
     "data": {
      "text/latex": [
       "$\\frac{43}{2}$"
      ],
      "text/plain": [
       "43/2"
      ]
     },
     "execution_count": 63,
     "metadata": {},
     "output_type": "execute_result"
    }
   ],
   "source": [
    "integrate(abs(f(x)), 2, 7)"
   ]
  },
  {
   "cell_type": "code",
   "execution_count": 20,
   "id": "14c53ee6",
   "metadata": {
    "results": "hidden"
   },
   "outputs": [],
   "source": [
    "#| echo: false\n",
    "using QuizQuestions\n",
    "nothing"
   ]
  }
 ],
 "metadata": {
  "kernelspec": {
   "display_name": "Julia 1.8.2",
   "language": "julia",
   "name": "julia-1.8"
  }
 },
 "nbformat": 4,
 "nbformat_minor": 5
}