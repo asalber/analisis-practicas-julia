{
 "cells": [
  {
   "cell_type": "code",
   "execution_count": 1,
   "id": "381104c8",
   "metadata": {},
   "outputs": [],
   "source": [
    "import IJulia\n",
    "\n",
    "# The julia kernel has built in support for Revise.jl, so this is the \n",
    "# recommended approach for long-running sessions:\n",
    "# https://github.com/JuliaLang/IJulia.jl/blob/9b10fa9b879574bbf720f5285029e07758e50a5e/src/kernel.jl#L46-L51\n",
    "\n",
    "# Users should enable revise within .julia/config/startup_ijulia.jl:\n",
    "# https://timholy.github.io/Revise.jl/stable/config/#Using-Revise-automatically-within-Jupyter/IJulia-1\n",
    "\n",
    "# clear console history\n",
    "IJulia.clear_history()\n",
    "\n",
    "fig_width = 5\n",
    "fig_height = 4\n",
    "fig_format = :png\n",
    "fig_dpi = 96\n",
    "\n",
    "# no retina format type, use svg for high quality type/marks\n",
    "if fig_format == :retina\n",
    "  fig_format = :svg\n",
    "elseif fig_format == :pdf\n",
    "  fig_dpi = 96\n",
    "  # Enable PDF support for IJulia\n",
    "  IJulia.register_mime(MIME(\"application/pdf\"))\n",
    "end\n",
    "\n",
    "# convert inches to pixels\n",
    "fig_width = fig_width * fig_dpi\n",
    "fig_height = fig_height * fig_dpi\n",
    "\n",
    "# Intialize Plots w/ default fig width/height\n",
    "try\n",
    "  import Plots\n",
    "\n",
    "  # Plots.jl doesn't support PDF output for versions < 1.28.1\n",
    "  # so use png (if the DPI remains the default of 300 then set to 96)\n",
    "  if (Plots._current_plots_version < v\"1.28.1\") & (fig_format == :pdf)\n",
    "    Plots.gr(size=(fig_width, fig_height), fmt = :png, dpi = fig_dpi)\n",
    "  else\n",
    "    Plots.gr(size=(fig_width, fig_height), fmt = fig_format, dpi = fig_dpi)\n",
    "  end\n",
    "catch e\n",
    "  # @warn \"Plots init\" exception=(e, catch_backtrace())\n",
    "end\n",
    "\n",
    "# Initialize CairoMakie with default fig width/height\n",
    "try\n",
    "  import CairoMakie\n",
    "  \n",
    "  CairoMakie.activate!(type = string(fig_format))\n",
    "  CairoMakie.update_theme!(resolution=(fig_width, fig_height))\n",
    "catch e\n",
    "    # @warn \"CairoMakie init\" exception=(e, catch_backtrace())\n",
    "end\n",
    "  \n",
    "# Set run_path if specified\n",
    "try\n",
    "  run_path = raw\"/run/media/alf/datos/misrepositorios/docencia/analisis-practicas-julia\"\n",
    "  if !isempty(run_path)\n",
    "    cd(run_path)\n",
    "  end\n",
    "catch e\n",
    "  @warn \"Run path init:\" exception=(e, catch_backtrace())\n",
    "end\n",
    "\n",
    "\n",
    "# emulate old Pkg.installed beahvior, see\n",
    "# https://discourse.julialang.org/t/how-to-use-pkg-dependencies-instead-of-pkg-installed/36416/9\n",
    "import Pkg\n",
    "function isinstalled(pkg::String)\n",
    "  any(x -> x.name == pkg && x.is_direct_dep, values(Pkg.dependencies()))\n",
    "end\n",
    "\n",
    "# ojs_define\n",
    "if isinstalled(\"JSON\") && isinstalled(\"DataFrames\")\n",
    "  import JSON, DataFrames\n",
    "  global function ojs_define(; kwargs...)\n",
    "    convert(x) = x\n",
    "    convert(x::DataFrames.AbstractDataFrame) = Tables.rows(x)\n",
    "    content = Dict(\"contents\" => [Dict(\"name\" => k, \"value\" => convert(v)) for (k, v) in kwargs])\n",
    "    tag = \"<script type='ojs-define'>$(JSON.json(content))</script>\"\n",
    "    IJulia.display(MIME(\"text/html\"), tag)\n",
    "  end\n",
    "elseif isinstalled(\"JSON\")\n",
    "  import JSON\n",
    "  global function ojs_define(; kwargs...)\n",
    "    content = Dict(\"contents\" => [Dict(\"name\" => k, \"value\" => v) for (k, v) in kwargs])\n",
    "    tag = \"<script type='ojs-define'>$(JSON.json(content))</script>\"\n",
    "    IJulia.display(MIME(\"text/html\"), tag)\n",
    "  end\n",
    "else\n",
    "  global function ojs_define(; kwargs...)\n",
    "    @warn \"JSON package not available. Please install the JSON.jl package to use ojs_define.\"\n",
    "  end\n",
    "end\n",
    "\n",
    "\n",
    "# don't return kernel dependencies (b/c Revise should take care of dependencies)\n",
    "nothing\n"
   ]
  },
  {
   "cell_type": "code",
   "execution_count": 2,
   "id": "f657339e",
   "metadata": {},
   "outputs": [],
   "source": [
    "using SymPy  # Para el cálculo simbólico de integrales.\n",
    "using QuadGK # Para el cálculo numérico de integrales.\n",
    "using Plots  # Para el dibujo de gráficas.\n",
    "#plotlyjs() # Para obtener gráficos interactivos.\n",
    "using LaTeXStrings  # Para usar código LaTeX en los gráficos."
   ]
  },
  {
   "cell_type": "code",
   "execution_count": 3,
   "id": "8466f91c",
   "metadata": {
    "md-indent": "    "
   },
   "outputs": [
    {
     "data": {
      "text/plain": [
       "0.2850000000000001"
      ]
     },
     "execution_count": 3,
     "metadata": {},
     "output_type": "execute_result"
    }
   ],
   "source": [
    "f(x) = x^2\n",
    "Δx = 1/10\n",
    "areas_inf = [f((i-1)*Δx)*Δx for i = 1:10]\n",
    "sum_inf = sum(areas_inf)"
   ]
  },
  {
   "cell_type": "code",
   "execution_count": 4,
   "id": "7f987c9c",
   "metadata": {
    "md-indent": "    "
   },
   "outputs": [
    {
     "data": {
      "text/plain": [
       "0.3850000000000001"
      ]
     },
     "execution_count": 4,
     "metadata": {},
     "output_type": "execute_result"
    }
   ],
   "source": [
    "f(x) = x^2\n",
    "Δx = 1/10\n",
    "areas_sup = [f(i*Δx)*Δx for i = 1:10]\n",
    "sum_sup = sum(areas_sup)"
   ]
  },
  {
   "cell_type": "code",
   "execution_count": 5,
   "id": "3cab3c0c",
   "metadata": {
    "md-indent": "    "
   },
   "outputs": [
    {
     "data": {
      "text/plain": [
       "0.10000000000000003"
      ]
     },
     "execution_count": 5,
     "metadata": {},
     "output_type": "execute_result"
    }
   ],
   "source": [
    "error = sum_sup - sum_inf"
   ]
  },
  {
   "cell_type": "code",
   "execution_count": 6,
   "id": "4fc554c0",
   "metadata": {
    "md-indent": "    "
   },
   "outputs": [
    {
     "name": "stdout",
     "output_type": "stream",
     "text": [
      "┌──────────────┬───────────┐\n",
      "│\u001b[1m Aproximación \u001b[0m│\u001b[1m     Error \u001b[0m│\n",
      "├──────────────┼───────────┤\n",
      "│        0.335 │       0.1 │\n",
      "│     0.334711 │ 0.0909091 │\n",
      "│     0.334491 │ 0.0833333 │\n",
      "│      0.33432 │ 0.0769231 │\n",
      "│     0.334184 │ 0.0714286 │\n",
      "│     0.334074 │ 0.0666667 │\n",
      "│     0.333984 │    0.0625 │\n",
      "│      0.33391 │ 0.0588235 │\n",
      "│     0.333848 │ 0.0555556 │\n",
      "│     0.333795 │ 0.0526316 │\n",
      "│      0.33375 │      0.05 │\n",
      "│     0.333711 │  0.047619 │\n",
      "│     0.333678 │ 0.0454545 │\n",
      "│     0.333648 │ 0.0434783 │\n",
      "│     0.333623 │ 0.0416667 │\n",
      "│       0.3336 │      0.04 │\n",
      "│      0.33358 │ 0.0384615 │\n",
      "│     0.333562 │  0.037037 │\n",
      "│     0.333546 │ 0.0357143 │\n",
      "│     0.333532 │ 0.0344828 │\n",
      "│     0.333519 │ 0.0333333 │\n",
      "│     0.333507 │ 0.0322581 │\n",
      "│     0.333496 │   0.03125 │\n",
      "│     0.333486 │  0.030303 │\n",
      "│     0.333478 │ 0.0294118 │\n",
      "│     0.333469 │ 0.0285714 │\n",
      "│     0.333462 │ 0.0277778 │\n",
      "│     0.333455 │  0.027027 │\n",
      "│     0.333449 │ 0.0263158 │\n",
      "│     0.333443 │  0.025641 │\n",
      "│     0.333438 │     0.025 │\n",
      "│     0.333432 │ 0.0243902 │\n",
      "│     0.333428 │ 0.0238095 │\n",
      "│     0.333423 │ 0.0232558 │\n",
      "│     0.333419 │ 0.0227273 │\n",
      "│     0.333416 │ 0.0222222 │\n",
      "│     0.333412 │ 0.0217391 │\n",
      "│     0.333409 │ 0.0212766 │\n",
      "│     0.333406 │ 0.0208333 │\n",
      "│     0.333403 │ 0.0204082 │\n",
      "│       0.3334 │      0.02 │\n",
      "│     0.333397 │ 0.0196078 │\n",
      "│     0.333395 │ 0.0192308 │\n",
      "│     0.333393 │ 0.0188679 │\n",
      "│      0.33339 │ 0.0185185 │\n",
      "│     0.333388 │ 0.0181818 │\n",
      "│     0.333386 │ 0.0178571 │\n",
      "│     0.333385 │ 0.0175439 │\n",
      "│     0.333383 │ 0.0172414 │\n",
      "│     0.333381 │ 0.0169492 │\n",
      "│      0.33338 │ 0.0166667 │\n",
      "│     0.333378 │ 0.0163934 │\n",
      "│     0.333377 │  0.016129 │\n",
      "│     0.333375 │  0.015873 │\n",
      "│     0.333374 │  0.015625 │\n",
      "│     0.333373 │ 0.0153846 │\n",
      "│     0.333372 │ 0.0151515 │\n",
      "│      0.33337 │ 0.0149254 │\n",
      "│     0.333369 │ 0.0147059 │\n",
      "│     0.333368 │ 0.0144928 │\n",
      "│     0.333367 │ 0.0142857 │\n",
      "│     0.333366 │ 0.0140845 │\n",
      "│     0.333365 │ 0.0138889 │\n",
      "│     0.333365 │ 0.0136986 │\n",
      "│     0.333364 │ 0.0135135 │\n",
      "│     0.333363 │ 0.0133333 │\n",
      "│     0.333362 │ 0.0131579 │\n",
      "│     0.333361 │  0.012987 │\n",
      "│     0.333361 │ 0.0128205 │\n",
      "│      0.33336 │ 0.0126582 │\n",
      "│     0.333359 │    0.0125 │\n",
      "│     0.333359 │ 0.0123457 │\n",
      "│     0.333358 │ 0.0121951 │\n",
      "│     0.333358 │ 0.0120482 │\n",
      "│     0.333357 │ 0.0119048 │\n",
      "│     0.333356 │ 0.0117647 │\n",
      "│     0.333356 │ 0.0116279 │\n",
      "│     0.333355 │ 0.0114943 │\n",
      "│     0.333355 │ 0.0113636 │\n",
      "│     0.333354 │  0.011236 │\n",
      "│     0.333354 │ 0.0111111 │\n",
      "│     0.333353 │  0.010989 │\n",
      "│     0.333353 │ 0.0108696 │\n",
      "│     0.333353 │ 0.0107527 │\n",
      "│     0.333352 │ 0.0106383 │\n",
      "│     0.333352 │ 0.0105263 │\n",
      "│     0.333351 │ 0.0104167 │\n",
      "│     0.333351 │ 0.0103093 │\n",
      "│     0.333351 │ 0.0102041 │\n",
      "│      0.33335 │  0.010101 │\n",
      "│      0.33335 │      0.01 │\n",
      "└──────────────┴───────────┘\n"
     ]
    }
   ],
   "source": [
    "using PrettyTables\n",
    "f(x) = x^2\n",
    "function area_inf(a, b, n)\n",
    "    Δx = (b-a)/n\n",
    "    return sum([f(a+(i-1)*Δx)*Δx for i = 1:n])\n",
    "end\n",
    "\n",
    "function area_sup(a, b, n)\n",
    "    Δx = (b-a)/n\n",
    "    return sum([f(a+i*Δx)*Δx for i = 1:n])\n",
    "end\n",
    "\n",
    "function area(a, b, n)\n",
    "    area = (area_inf(a, b, n) + area_sup(a, b, n)) / 2\n",
    "    error = area_sup(a, b, n) - area_inf(a, b, n)\n",
    "    return area, error\n",
    "end\n",
    "\n",
    "areas = [area(0, 1, n) for n=10:100]\n",
    "pretty_table(hcat(first.(areas), last.(areas)); header = [\"Aproximación\", \"Error\"])"
   ]
  },
  {
   "cell_type": "code",
   "execution_count": 7,
   "id": "873164cd",
   "metadata": {
    "md-indent": "    "
   },
   "outputs": [
    {
     "data": {
      "text/latex": [
       "$\\frac{x^{3} \\log{\\left(x \\right)}}{3} - \\frac{x^{3}}{9}$"
      ],
      "text/plain": [
       " 3           3\n",
       "x ⋅log(x)   x \n",
       "───────── - ──\n",
       "    3       9 "
      ]
     },
     "execution_count": 7,
     "metadata": {},
     "output_type": "execute_result"
    }
   ],
   "source": [
    "using SymPy\n",
    "@vars x real=true\n",
    "primitiva = integrate(x^2*ln(x))"
   ]
  },
  {
   "cell_type": "code",
   "execution_count": 8,
   "id": "732a14e7",
   "metadata": {
    "md-indent": "    "
   },
   "outputs": [
    {
     "data": {
      "text/latex": [
       "$x^{2} \\log{\\left(x \\right)}$"
      ],
      "text/plain": [
       " 2       \n",
       "x ⋅log(x)"
      ]
     },
     "execution_count": 8,
     "metadata": {},
     "output_type": "execute_result"
    }
   ],
   "source": [
    "diff(primitiva)"
   ]
  },
  {
   "cell_type": "code",
   "execution_count": 9,
   "id": "01bb78fb",
   "metadata": {
    "md-indent": "    "
   },
   "outputs": [
    {
     "data": {
      "text/latex": [
       "$\\log{\\left(x \\right)} \\log{\\left(\\log{\\left(x \\right)} \\right)} - \\log{\\left(x \\right)}$"
      ],
      "text/plain": [
       "log(x)⋅log(log(x)) - log(x)"
      ]
     },
     "execution_count": 9,
     "metadata": {},
     "output_type": "execute_result"
    }
   ],
   "source": [
    "integrate(ln(ln(x))/x)"
   ]
  },
  {
   "cell_type": "code",
   "execution_count": 10,
   "id": "4581bcba",
   "metadata": {
    "md-indent": "    "
   },
   "outputs": [
    {
     "data": {
      "text/latex": [
       "$\\frac{5 x + 2}{2 \\left(x^{2} + 1\\right)} + \\frac{5}{4 \\left(x + 1\\right)} + \\frac{9}{4 \\left(x - 1\\right)} - \\frac{6}{x}$"
      ],
      "text/plain": [
       " 5⋅x + 2         5           9       6\n",
       "────────── + ───────── + ───────── - ─\n",
       "  ⎛ 2    ⎞   4⋅(x + 1)   4⋅(x - 1)   x\n",
       "2⋅⎝x  + 1⎠                            "
      ]
     },
     "execution_count": 10,
     "metadata": {},
     "output_type": "execute_result"
    }
   ],
   "source": [
    "h(x) = (2x^3+x^2+6)/(x^5-x)\n",
    "# Descomposición en fracciones simples.\n",
    "apart(h(x))"
   ]
  },
  {
   "cell_type": "code",
   "execution_count": 11,
   "id": "13680fd8",
   "metadata": {
    "md-indent": "    "
   },
   "outputs": [
    {
     "data": {
      "text/latex": [
       "$- 6 \\log{\\left(x \\right)} + \\frac{9 \\log{\\left(x - 1 \\right)}}{4} + \\frac{5 \\log{\\left(x + 1 \\right)}}{4} + \\frac{5 \\log{\\left(x^{2} + 1 \\right)}}{4} + \\operatorname{atan}{\\left(x \\right)}$"
      ],
      "text/plain": [
       "                                               ⎛ 2    ⎞          \n",
       "            9⋅log(x - 1)   5⋅log(x + 1)   5⋅log⎝x  + 1⎠          \n",
       "-6⋅log(x) + ──────────── + ──────────── + ───────────── + atan(x)\n",
       "                 4              4               4                "
      ]
     },
     "execution_count": 11,
     "metadata": {},
     "output_type": "execute_result"
    }
   ],
   "source": [
    "integrate(h(x))"
   ]
  },
  {
   "cell_type": "code",
   "execution_count": 12,
   "id": "e5b4b2f9",
   "metadata": {
    "md-indent": "    "
   },
   "outputs": [
    {
     "data": {
      "text/latex": [
       "$\\begin{cases} \\frac{x^{a + 1}}{a + 1} & \\text{for}\\: a \\neq -1 \\\\\\log{\\left(x \\right)} & \\text{otherwise} \\end{cases}$"
      ],
      "text/plain": [
       "⎧ a + 1            \n",
       "⎪x                 \n",
       "⎪──────  for a ≠ -1\n",
       "⎨a + 1             \n",
       "⎪                  \n",
       "⎪log(x)  otherwise \n",
       "⎩                  "
      ]
     },
     "execution_count": 12,
     "metadata": {},
     "output_type": "execute_result"
    }
   ],
   "source": [
    "@vars a real=true\n",
    "integrate(x^a, x)"
   ]
  },
  {
   "cell_type": "code",
   "execution_count": 13,
   "id": "41c4ed20",
   "metadata": {
    "md-indent": "    "
   },
   "outputs": [
    {
     "data": {
      "text/latex": [
       "$\\frac{x \\sqrt{x^{2} \\log{\\left(x \\right)}^{2} + 1} \\log{\\left(x \\right)}}{2} + \\frac{\\operatorname{asinh}{\\left(x \\log{\\left(x \\right)} \\right)}}{2}$"
      ],
      "text/plain": [
       "     ________________                         \n",
       "    ╱  2    2                                 \n",
       "x⋅╲╱  x ⋅log (x) + 1 ⋅log(x)   asinh(x⋅log(x))\n",
       "──────────────────────────── + ───────────────\n",
       "             2                        2       "
      ]
     },
     "execution_count": 13,
     "metadata": {},
     "output_type": "execute_result"
    }
   ],
   "source": [
    "@vars x real=true\n",
    "j(x) = (1 + log(x)) * sqrt(1 + (x*log(x))^2 )\n",
    "# El cálculo directo de la integral no funciona.\n",
    "integrate(j(x))\n",
    "# Ayudamos a SymPy con la sustitución.\n",
    "u(x) = x*log(x)\n",
    "@vars y dy real=true\n",
    "# Definimos la nueva función con el cambio de variable.\n",
    "g(y) = j(x)(u(x) => y, diff(u(x), x) => 1)\n",
    "# Integramos la nueva función y deshacemos el cambio de variable.\n",
    "integrate(g(y))(y => u(x))"
   ]
  },
  {
   "cell_type": "code",
   "execution_count": 14,
   "id": "abffe65e",
   "metadata": {
    "md-indent": "    "
   },
   "outputs": [
    {
     "data": {
      "text/latex": [
       "$0.25$"
      ],
      "text/plain": [
       "0.250000000000000"
      ]
     },
     "execution_count": 14,
     "metadata": {},
     "output_type": "execute_result"
    }
   ],
   "source": [
    "using SymPy\n",
    "@vars x real=true\n",
    "integrate(x^3/x^2+x+1, -1/2, 0)"
   ]
  },
  {
   "cell_type": "code",
   "execution_count": 15,
   "id": "bd2c170d",
   "metadata": {
    "md-indent": "    "
   },
   "outputs": [
    {
     "data": {
      "text/latex": [
       "$- 2 \\sqrt{3} + 4 \\operatorname{acosh}{\\left(2 \\right)}$"
      ],
      "text/plain": [
       "-2⋅√3 + 4⋅acosh(2)"
      ]
     },
     "execution_count": 15,
     "metadata": {},
     "output_type": "execute_result"
    }
   ],
   "source": [
    "integrate(sqrt(16-x^2)/x, 2, 4)"
   ]
  },
  {
   "cell_type": "code",
   "execution_count": 16,
   "id": "26310744",
   "metadata": {
    "md-indent": "    "
   },
   "outputs": [
    {
     "data": {
      "text/latex": [
       "$\\frac{\\sqrt{2} \\pi}{8}$"
      ],
      "text/plain": [
       "√2⋅π\n",
       "────\n",
       " 8  "
      ]
     },
     "execution_count": 16,
     "metadata": {},
     "output_type": "execute_result"
    }
   ],
   "source": [
    "integrate(1/(3+cos(2x)), 0, PI/2)"
   ]
  },
  {
   "cell_type": "code",
   "execution_count": 17,
   "id": "dc5b0a77",
   "metadata": {},
   "outputs": [
    {
     "data": {
      "text/latex": [
       "$\\int_{0}^{1} x^{x}\\, dx$"
      ],
      "text/plain": [
       "1      \n",
       "⌠      \n",
       "⎮  x   \n",
       "⎮ x  dx\n",
       "⌡      \n",
       "0      "
      ]
     },
     "execution_count": 17,
     "metadata": {},
     "output_type": "execute_result"
    }
   ],
   "source": [
    "using SymPy\n",
    "@vars x real=true\n",
    "f(x) = x^x\n",
    "integrate(f(x), 0, 1)"
   ]
  },
  {
   "cell_type": "code",
   "execution_count": 18,
   "id": "16a2388f",
   "metadata": {},
   "outputs": [
    {
     "data": {
      "text/plain": [
       "(0.783430510710741, 7.598588099878845e-11)"
      ]
     },
     "execution_count": 18,
     "metadata": {},
     "output_type": "execute_result"
    }
   ],
   "source": [
    "using QuadGK\n",
    "quadgk(f(x), 0, 1, rtol = 10^-10)"
   ]
  },
  {
   "cell_type": "code",
   "execution_count": 19,
   "id": "2f541a87",
   "metadata": {},
   "outputs": [
    {
     "data": {
      "image/png": "[encoded data removed]"
     },
     "execution_count": 19,
     "metadata": {},
     "output_type": "execute_result"
    }
   ],
   "source": [
    "using Plots, SymPy, LaTeXStrings\n",
    "@vars x real = true\n",
    "f(x) = x^2-7x+6\n",
    "plot(f, 2, 7, fillrange = 0, fillalpha = 0.3, label = L\"$f(x)=x^2-7x+6$\")"
   ]
  },
  {
   "cell_type": "code",
   "execution_count": 20,
   "id": "6150cea3",
   "metadata": {},
   "outputs": [
    {
     "data": {
      "text/latex": [
       "$\\frac{43}{2}$"
      ],
      "text/plain": [
       "43/2"
      ]
     },
     "execution_count": 20,
     "metadata": {},
     "output_type": "execute_result"
    }
   ],
   "source": [
    "# Calculamos primero las raíces de la función\n",
    "solve(f(x))\n",
    "# Descomponemos el intervalo de integración en los subintervalos [2,6] (función negativa) y [6,7] (función positiva) y calculamos las integrales por separado\n",
    "-integrate(f, 2, 6) + integrate(f, 6, 7)"
   ]
  },
  {
   "cell_type": "code",
   "execution_count": 21,
   "id": "51869eb2",
   "metadata": {},
   "outputs": [
    {
     "data": {
      "text/latex": [
       "$\\frac{43}{2}$"
      ],
      "text/plain": [
       "43/2"
      ]
     },
     "execution_count": 21,
     "metadata": {},
     "output_type": "execute_result"
    }
   ],
   "source": [
    "integrate(abs(f(x)), 2, 7)"
   ]
  },
  {
   "cell_type": "code",
   "execution_count": 22,
   "id": "80b68f1a",
   "metadata": {},
   "outputs": [
    {
     "data": {
      "text/latex": [
       "$\\frac{64}{3}$"
      ],
      "text/plain": [
       "64/3"
      ]
     },
     "execution_count": 22,
     "metadata": {},
     "output_type": "execute_result"
    }
   ],
   "source": [
    "using Plots, SymPy, LaTeXStrings\n",
    "@vars x real = true\n",
    "f(x) = -x^2+6x\n",
    "g(x) = x^2-2x\n",
    "# Calculamos primero los puntos de corte de la función.\n",
    "raices = solve(f(x)-g(x))\n",
    "# Descomponemos el intervalo de integración en los subintervalos [2,6] (función negativa) y [6,7] (función positiva) y calculamos las integrales por separado\n",
    "sol = integrate(f(x)-g(x), raices[1], raices[2])"
   ]
  },
  {
   "cell_type": "code",
   "execution_count": 23,
   "id": "117ebaac",
   "metadata": {},
   "outputs": [
    {
     "data": {
      "image/png": "[encoded data removed]"
     },
     "execution_count": 23,
     "metadata": {},
     "output_type": "execute_result"
    }
   ],
   "source": [
    "using Plots, SymPy, LaTeXStrings\n",
    "@vars x real = true\n",
    "f(x) = -x^2+6x\n",
    "g(x) = x^2-2x\n",
    "plot(f, -1, 5, label = L\"$f(x)=-x^2+6x$\")\n",
    "plot!(g, 0, 4, fillrange = f, fillalpha = 0.3, label = \"\")\n",
    "plot!(g, label = L\"$g(x)=x^2-2x$\")\n",
    "annotate!(2, 4, sol)"
   ]
  },
  {
   "cell_type": "code",
   "execution_count": 24,
   "id": "25cd5ed9",
   "metadata": {},
   "outputs": [
    {
     "data": {
      "image/png": "[encoded data removed]"
     },
     "execution_count": 24,
     "metadata": {},
     "output_type": "execute_result"
    }
   ],
   "source": [
    "using Plots, SymPy, LaTeXStrings\n",
    "@vars x real = true\n",
    "f(x) = exp(-x)\n",
    "plot(f(x), 0, 10, label = L\"$f(x)=e^{-x}$\")"
   ]
  },
  {
   "cell_type": "code",
   "execution_count": 25,
   "id": "77b08ed7",
   "metadata": {},
   "outputs": [
    {
     "data": {
      "text/latex": [
       "$1$"
      ],
      "text/plain": [
       "1"
      ]
     },
     "execution_count": 25,
     "metadata": {},
     "output_type": "execute_result"
    }
   ],
   "source": [
    "integrate(f(x), 0, oo)"
   ]
  },
  {
   "cell_type": "code",
   "execution_count": 26,
   "id": "8adb7463",
   "metadata": {},
   "outputs": [
    {
     "data": {
      "text/latex": [
       "$\\frac{1}{2}$"
      ],
      "text/plain": [
       "1/2"
      ]
     },
     "execution_count": 26,
     "metadata": {},
     "output_type": "execute_result"
    }
   ],
   "source": [
    "using SymPy\n",
    "@vars x real = true\n",
    "f(x) = sin(x)^2\n",
    "1/(2*PI) * integrate(f(x), 0, 2PI)"
   ]
  },
  {
   "cell_type": "code",
   "execution_count": 27,
   "id": "758a3f7a",
   "metadata": {},
   "outputs": [
    {
     "data": {
      "image/png": "[encoded data removed]"
     },
     "execution_count": 27,
     "metadata": {},
     "output_type": "execute_result"
    }
   ],
   "source": [
    "using SymPy, Plots\n",
    "@vars x real = true\n",
    "f(x) = sin(x)+2\n",
    "plot(f, 0, 2pi, ylim=(0,3), fillrange = 0, fillalpha = 0.3, label = \"\")"
   ]
  },
  {
   "cell_type": "code",
   "execution_count": 28,
   "id": "a8659c76",
   "metadata": {},
   "outputs": [
    {
     "data": {
      "text/plain": [
       "88.82643960980422410690317029966353336734417982417697812151367494195434357891355"
      ]
     },
     "execution_count": 28,
     "metadata": {},
     "output_type": "execute_result"
    }
   ],
   "source": [
    "N(integrate(pi*f(x)^2, 0, 2pi))"
   ]
  },
  {
   "cell_type": "code",
   "execution_count": 29,
   "id": "444718f4",
   "metadata": {},
   "outputs": [
    {
     "data": {
      "image/png": "[encoded data removed]"
     },
     "execution_count": 29,
     "metadata": {},
     "output_type": "execute_result"
    }
   ],
   "source": [
    "using SymPy, Plots\n",
    "@vars x real = true\n",
    "f(x) = sqrt(1-(x-2)^2)\n",
    "plot(f(x), 0, 4, fillrange = 0, fillalpha = 0.3, aspect_ratio = 1, label = \"\")\n",
    "plot!(-f(x), 0, 4, fillrange = 0, fillalpha = 0.3, aspect_ratio = 1, label = \"\")"
   ]
  },
  {
   "cell_type": "code",
   "execution_count": 30,
   "id": "0b5d0b3a",
   "metadata": {},
   "outputs": [
    {
     "data": {
      "text/latex": [
       "$4 \\pi^{2}$"
      ],
      "text/plain": [
       "   2\n",
       "4⋅π "
      ]
     },
     "execution_count": 30,
     "metadata": {},
     "output_type": "execute_result"
    }
   ],
   "source": [
    "2 * integrate(2PI*x*f(x), 1, 3)"
   ]
  },
  {
   "cell_type": "code",
   "execution_count": 31,
   "id": "2a6b8b17",
   "metadata": {},
   "outputs": [
    {
     "data": {
      "image/png": "[encoded data removed]"
     },
     "execution_count": 31,
     "metadata": {},
     "output_type": "execute_result"
    }
   ],
   "source": [
    "using SymPy, Plots\n",
    "@vars x real = true\n",
    "f(x) = sin(x/2)\n",
    "plot(f(x), 0, 100, aspect_ratio = 1, label = \"\")"
   ]
  },
  {
   "cell_type": "code",
   "execution_count": 32,
   "id": "47b1e73c",
   "metadata": {},
   "outputs": [
    {
     "data": {
      "text/plain": [
       "(105.954416730336, 1.2200227161862642e-6)"
      ]
     },
     "execution_count": 32,
     "metadata": {},
     "output_type": "execute_result"
    }
   ],
   "source": [
    "using QuadGK\n",
    "quadgk(sqrt(1+diff(f(x))^2), 0, 100)"
   ]
  },
  {
   "cell_type": "code",
   "execution_count": 33,
   "id": "0a51ef3d",
   "metadata": {
    "results": "hidden"
   },
   "outputs": [],
   "source": [
    "#| echo: false\n",
    "using QuizQuestions, SymPy\n",
    "nothing"
   ]
  },
  {
   "cell_type": "code",
   "execution_count": 34,
   "id": "55e1156c",
   "metadata": {
    "hold": true
   },
   "outputs": [
    {
     "data": {
      "text/html": [
       "<script>\n",
       "if (typeof quizquestions_scorecard === 'undefined') {\n",
       "   quizquestions_scorecard = {};\n",
       "}\n",
       "var ID = \"KemLnsvA\"\n",
       "if (typeof quizquestions_scorecard[ID] === 'undefined') {\n",
       "      quizquestions_scorecard[ID] = {attempts: 0, correct: false};\n",
       "}\n",
       "</script>\n",
       "<form class=\"mx-2 my-3 mw-100\" name='WeaveQuestion' data-id='KemLnsvA' data-controltype=''>\n",
       "  <div class='form-group '>\n",
       "    <div class='controls'>\n",
       "      <div class=\"form\" id=\"controls_KemLnsvA\">\n",
       "        <div style=\"padding-top: 5px\">\n",
       "    </br>\n",
       "<div class=\"input-group\">\n",
       "    <input id=\"KemLnsvA\" type=\"number\" class=\"form-control\" placeholder=\"Respuesta numérica\">\n",
       "    <span  class=\"input-group-append\" href=\"#\" title=\"Introducir hasta 5 decimales\">&nbsp;🎁</span>\n",
       "</div>\n",
       "\n",
       "    \n",
       "        </div>\n",
       "      </div>\n",
       "      <div id='KemLnsvA_message' style=\"padding-bottom: 15px\"></div>\n",
       "    </div>\n",
       "  </div>\n",
       "</form>\n",
       "\n",
       "<script text='text/javascript'>\n",
       "document.getElementById(\"KemLnsvA\").addEventListener(\"change\", function() {\n",
       "  var correct = (Math.abs(this.value - 2.828427124746189986581074985903742114776176941671864896353359475981464956924204) <= 1.0e-5);\n",
       "  var msgBox = document.getElementById('KemLnsvA_message');\n",
       "  \n",
       "    quizquestions_scorecard[\"KemLnsvA\"][\"attempts\"] += 1;\n",
       "\n",
       "  if(correct) {\n",
       "    msgBox.innerHTML = \"<div class='pluto-output admonition note alert alert-success'><span> 👍&nbsp; Correcto </span></div>\";\n",
       "    var explanation = document.getElementById(\"explanation_KemLnsvA\")\n",
       "    if (explanation != null) {\n",
       "       explanation.style.display = \"none\";\n",
       "    }\n",
       "      quizquestions_scorecard[\"KemLnsvA\"][\"correct\"] = true;\n",
       "  if (typeof score_summary !== 'undefined') {\n",
       "     score_summary()\n",
       "  }\n",
       "\n",
       "\n",
       "  } else {\n",
       "    msgBox.innerHTML = \"<div class='pluto-output admonition alert alert-danger'><span>👎&nbsp; Incorrecto </span></div>\";\n",
       "    var explanation = document.getElementById(\"explanation_KemLnsvA\")\n",
       "    if (explanation != null) {\n",
       "       explanation.style.display = \"block\";\n",
       "    }\n",
       "      quizquestions_scorecard[\"KemLnsvA\"][\"correct\"] = false;\n",
       "  if (typeof score_summary !== 'undefined') {\n",
       "     score_summary()\n",
       "  }\n",
       "\n",
       "  }\n",
       "\n",
       "});\n",
       "\n",
       "</script>\n"
      ],
      "text/latex": [
       "\\vspace{18pt}*Hint: *\n",
       "\n",
       "Introducir hasta 5 decimales\n",
       "\n"
      ],
      "text/plain": [
       "QuizQuestions.Numericq(2.828427124746189986581074985903742114776176941671864896353359475981464956924204, 1.0e-5, \"\", \"\", \"Introducir hasta 5 decimales\", \"\", nothing)"
      ]
     },
     "execution_count": 34,
     "metadata": {},
     "output_type": "execute_result"
    }
   ],
   "source": [
    "#| echo: false\n",
    "@vars x real = true\n",
    "f(x) = sin(x)\n",
    "g(x) = cos(x)\n",
    "sol = N(integrate(abs(f(x)-g(x)), 0, pi))\n",
    "numericq(sol, 1e-5, hint=\"Introducir hasta 5 decimales\")"
   ]
  },
  {
   "cell_type": "code",
   "execution_count": 35,
   "id": "d1d3f644",
   "metadata": {
    "hold": true
   },
   "outputs": [
    {
     "data": {
      "text/html": [
       "<script>\n",
       "if (typeof quizquestions_scorecard === 'undefined') {\n",
       "   quizquestions_scorecard = {};\n",
       "}\n",
       "var ID = \"DpcA2EE2\"\n",
       "if (typeof quizquestions_scorecard[ID] === 'undefined') {\n",
       "      quizquestions_scorecard[ID] = {attempts: 0, correct: false};\n",
       "}\n",
       "</script>\n",
       "<form class=\"mx-2 my-3 mw-100\" name='WeaveQuestion' data-id='DpcA2EE2' data-controltype=''>\n",
       "  <div class='form-group '>\n",
       "    <div class='controls'>\n",
       "      <div class=\"form\" id=\"controls_DpcA2EE2\">\n",
       "        <div style=\"padding-top: 5px\">\n",
       "    </br>\n",
       "<div class=\"input-group\">\n",
       "    <input id=\"DpcA2EE2\" type=\"number\" class=\"form-control\" placeholder=\"Respuesta numérica\">\n",
       "    <span  class=\"input-group-append\" href=\"#\" title=\"Introducir hasta 5 decimales\">&nbsp;🎁</span>\n",
       "</div>\n",
       "\n",
       "    \n",
       "        </div>\n",
       "      </div>\n",
       "      <div id='DpcA2EE2_message' style=\"padding-bottom: 15px\"></div>\n",
       "    </div>\n",
       "  </div>\n",
       "</form>\n",
       "\n",
       "<script text='text/javascript'>\n",
       "document.getElementById(\"DpcA2EE2\").addEventListener(\"change\", function() {\n",
       "  var correct = (Math.abs(this.value - 0.999999999999999986409302776619059759057679898798192459517020044702050192775919) <= 1.0e-5);\n",
       "  var msgBox = document.getElementById('DpcA2EE2_message');\n",
       "  \n",
       "    quizquestions_scorecard[\"DpcA2EE2\"][\"attempts\"] += 1;\n",
       "\n",
       "  if(correct) {\n",
       "    msgBox.innerHTML = \"<div class='pluto-output admonition note alert alert-success'><span> 👍&nbsp; Correcto </span></div>\";\n",
       "    var explanation = document.getElementById(\"explanation_DpcA2EE2\")\n",
       "    if (explanation != null) {\n",
       "       explanation.style.display = \"none\";\n",
       "    }\n",
       "      quizquestions_scorecard[\"DpcA2EE2\"][\"correct\"] = true;\n",
       "  if (typeof score_summary !== 'undefined') {\n",
       "     score_summary()\n",
       "  }\n",
       "\n",
       "\n",
       "  } else {\n",
       "    msgBox.innerHTML = \"<div class='pluto-output admonition alert alert-danger'><span>👎&nbsp; Incorrecto </span></div>\";\n",
       "    var explanation = document.getElementById(\"explanation_DpcA2EE2\")\n",
       "    if (explanation != null) {\n",
       "       explanation.style.display = \"block\";\n",
       "    }\n",
       "      quizquestions_scorecard[\"DpcA2EE2\"][\"correct\"] = false;\n",
       "  if (typeof score_summary !== 'undefined') {\n",
       "     score_summary()\n",
       "  }\n",
       "\n",
       "  }\n",
       "\n",
       "});\n",
       "\n",
       "</script>\n"
      ],
      "text/latex": [
       "\\vspace{18pt}*Hint: *\n",
       "\n",
       "Introducir hasta 5 decimales\n",
       "\n"
      ],
      "text/plain": [
       "QuizQuestions.Numericq(0.999999999999999986409302776619059759057679898798192459517020044702050192775919, 1.0e-5, \"\", \"\", \"Introducir hasta 5 decimales\", \"\", nothing)"
      ]
     },
     "execution_count": 35,
     "metadata": {},
     "output_type": "execute_result"
    }
   ],
   "source": [
    "#| echo: false\n",
    "using QuadGK\n",
    "@vars x real = true\n",
    "f(x) = exp(-1/2 * x^2)/sqrt(2*pi)\n",
    "sol = N(integrate(f(x), -oo, oo))\n",
    "numericq(sol, 1e-5, hint=\"Introducir hasta 5 decimales\")"
   ]
  },
  {
   "cell_type": "code",
   "execution_count": 36,
   "id": "45077934",
   "metadata": {
    "hold": true
   },
   "outputs": [
    {
     "data": {
      "text/html": [
       "<script>\n",
       "if (typeof quizquestions_scorecard === 'undefined') {\n",
       "   quizquestions_scorecard = {};\n",
       "}\n",
       "var ID = \"VopY2zkH\"\n",
       "if (typeof quizquestions_scorecard[ID] === 'undefined') {\n",
       "      quizquestions_scorecard[ID] = {attempts: 0, correct: false};\n",
       "}\n",
       "</script>\n",
       "<form class=\"mx-2 my-3 mw-100\" name='WeaveQuestion' data-id='VopY2zkH' data-controltype=''>\n",
       "  <div class='form-group '>\n",
       "    <div class='controls'>\n",
       "      <div class=\"form\" id=\"controls_VopY2zkH\">\n",
       "        <div style=\"padding-top: 5px\">\n",
       "    </br>\n",
       "<div class=\"input-group\">\n",
       "    <input id=\"VopY2zkH\" type=\"number\" class=\"form-control\" placeholder=\"Respuesta numérica\">\n",
       "    <span  class=\"input-group-append\" href=\"#\" title=\"Introducir hasta 5 decimales\">&nbsp;🎁</span>\n",
       "</div>\n",
       "\n",
       "    \n",
       "        </div>\n",
       "      </div>\n",
       "      <div id='VopY2zkH_message' style=\"padding-bottom: 15px\"></div>\n",
       "    </div>\n",
       "  </div>\n",
       "</form>\n",
       "\n",
       "<script text='text/javascript'>\n",
       "document.getElementById(\"VopY2zkH\").addEventListener(\"change\", function() {\n",
       "  var correct = (Math.abs(this.value - 13.90662400696743681222462499568062378797049503798810312867680827917643712792353) <= 1.0e-5);\n",
       "  var msgBox = document.getElementById('VopY2zkH_message');\n",
       "  \n",
       "    quizquestions_scorecard[\"VopY2zkH\"][\"attempts\"] += 1;\n",
       "\n",
       "  if(correct) {\n",
       "    msgBox.innerHTML = \"<div class='pluto-output admonition note alert alert-success'><span> 👍&nbsp; Correcto </span></div>\";\n",
       "    var explanation = document.getElementById(\"explanation_VopY2zkH\")\n",
       "    if (explanation != null) {\n",
       "       explanation.style.display = \"none\";\n",
       "    }\n",
       "      quizquestions_scorecard[\"VopY2zkH\"][\"correct\"] = true;\n",
       "  if (typeof score_summary !== 'undefined') {\n",
       "     score_summary()\n",
       "  }\n",
       "\n",
       "\n",
       "  } else {\n",
       "    msgBox.innerHTML = \"<div class='pluto-output admonition alert alert-danger'><span>👎&nbsp; Incorrecto </span></div>\";\n",
       "    var explanation = document.getElementById(\"explanation_VopY2zkH\")\n",
       "    if (explanation != null) {\n",
       "       explanation.style.display = \"block\";\n",
       "    }\n",
       "      quizquestions_scorecard[\"VopY2zkH\"][\"correct\"] = false;\n",
       "  if (typeof score_summary !== 'undefined') {\n",
       "     score_summary()\n",
       "  }\n",
       "\n",
       "  }\n",
       "\n",
       "});\n",
       "\n",
       "</script>\n"
      ],
      "text/latex": [
       "\\vspace{18pt}*Hint: *\n",
       "\n",
       "Introducir hasta 5 decimales\n",
       "\n"
      ],
      "text/plain": [
       "QuizQuestions.Numericq(13.90662400696743681222462499568062378797049503798810312867680827917643712792353, 1.0e-5, \"\", \"\", \"Introducir hasta 5 decimales\", \"\", nothing)"
      ]
     },
     "execution_count": 36,
     "metadata": {},
     "output_type": "execute_result"
    }
   ],
   "source": [
    "#| echo: false\n",
    "@vars t real = true\n",
    "T(t) = 100t*exp(-t)\n",
    "sol = N(1/5 * integrate(T(t), 1, 5))\n",
    "numericq(sol, 1e-5, hint=\"Introducir hasta 5 decimales\")"
   ]
  },
  {
   "cell_type": "code",
   "execution_count": 37,
   "id": "68cf6be2",
   "metadata": {
    "hold": true
   },
   "outputs": [
    {
     "data": {
      "text/html": [
       "<script>\n",
       "if (typeof quizquestions_scorecard === 'undefined') {\n",
       "   quizquestions_scorecard = {};\n",
       "}\n",
       "var ID = \"o0nqO6Vw\"\n",
       "if (typeof quizquestions_scorecard[ID] === 'undefined') {\n",
       "      quizquestions_scorecard[ID] = {attempts: 0, correct: false};\n",
       "}\n",
       "</script>\n",
       "<form class=\"mx-2 my-3 mw-100\" name='WeaveQuestion' data-id='o0nqO6Vw' data-controltype=''>\n",
       "  <div class='form-group '>\n",
       "    <div class='controls'>\n",
       "      <div class=\"form\" id=\"controls_o0nqO6Vw\">\n",
       "        <div style=\"padding-top: 5px\">\n",
       "    </br>\n",
       "<div class=\"input-group\">\n",
       "    <input id=\"o0nqO6Vw\" type=\"number\" class=\"form-control\" placeholder=\"Respuesta numérica\">\n",
       "    <span  class=\"input-group-append\" href=\"#\" title=\"Introducir hasta 5 decimales\">&nbsp;🎁</span>\n",
       "</div>\n",
       "\n",
       "    \n",
       "        </div>\n",
       "      </div>\n",
       "      <div id='o0nqO6Vw_message' style=\"padding-bottom: 15px\"></div>\n",
       "    </div>\n",
       "  </div>\n",
       "</form>\n",
       "\n",
       "<script text='text/javascript'>\n",
       "document.getElementById(\"o0nqO6Vw\").addEventListener(\"change\", function() {\n",
       "  var correct = (Math.abs(this.value - 2.08438122197499) <= 1.0e-5);\n",
       "  var msgBox = document.getElementById('o0nqO6Vw_message');\n",
       "  \n",
       "    quizquestions_scorecard[\"o0nqO6Vw\"][\"attempts\"] += 1;\n",
       "\n",
       "  if(correct) {\n",
       "    msgBox.innerHTML = \"<div class='pluto-output admonition note alert alert-success'><span> 👍&nbsp; Correcto </span></div>\";\n",
       "    var explanation = document.getElementById(\"explanation_o0nqO6Vw\")\n",
       "    if (explanation != null) {\n",
       "       explanation.style.display = \"none\";\n",
       "    }\n",
       "      quizquestions_scorecard[\"o0nqO6Vw\"][\"correct\"] = true;\n",
       "  if (typeof score_summary !== 'undefined') {\n",
       "     score_summary()\n",
       "  }\n",
       "\n",
       "\n",
       "  } else {\n",
       "    msgBox.innerHTML = \"<div class='pluto-output admonition alert alert-danger'><span>👎&nbsp; Incorrecto </span></div>\";\n",
       "    var explanation = document.getElementById(\"explanation_o0nqO6Vw\")\n",
       "    if (explanation != null) {\n",
       "       explanation.style.display = \"block\";\n",
       "    }\n",
       "      quizquestions_scorecard[\"o0nqO6Vw\"][\"correct\"] = false;\n",
       "  if (typeof score_summary !== 'undefined') {\n",
       "     score_summary()\n",
       "  }\n",
       "\n",
       "  }\n",
       "\n",
       "});\n",
       "\n",
       "</script>\n"
      ],
      "text/latex": [
       "\\vspace{18pt}*Hint: *\n",
       "\n",
       "Introducir hasta 5 decimales\n",
       "\n"
      ],
      "text/plain": [
       "QuizQuestions.Numericq(2.08438122197499, 1.0e-5, \"\", \"\", \"Introducir hasta 5 decimales\", \"\", nothing)"
      ]
     },
     "execution_count": 37,
     "metadata": {},
     "output_type": "execute_result"
    }
   ],
   "source": [
    "#| echo: false\n",
    "@vars x real = true\n",
    "c(x) = 2cosh(x/2)\n",
    "sol = quadgk(sqrt(1+diff(c)^2), -1, 1)\n",
    "numericq(sol[1], 1e-5, hint=\"Introducir hasta 5 decimales\")"
   ]
  }
 ],
 "metadata": {
  "kernelspec": {
   "display_name": "Julia 1.8.2",
   "language": "julia",
   "name": "julia-1.8"
  },
  "language_info": {
   "file_extension": ".jl",
   "mimetype": "application/julia",
   "name": "julia",
   "version": "1.8.5"
  }
 },
 "nbformat": 4,
 "nbformat_minor": 5
}