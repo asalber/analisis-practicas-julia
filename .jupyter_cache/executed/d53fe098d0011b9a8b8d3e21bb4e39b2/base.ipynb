{
 "cells": [
  {
   "cell_type": "code",
   "execution_count": 1,
   "id": "30adbea4",
   "metadata": {},
   "outputs": [],
   "source": [
    "import IJulia\n",
    "\n",
    "# The julia kernel has built in support for Revise.jl, so this is the \n",
    "# recommended approach for long-running sessions:\n",
    "# https://github.com/JuliaLang/IJulia.jl/blob/9b10fa9b879574bbf720f5285029e07758e50a5e/src/kernel.jl#L46-L51\n",
    "\n",
    "# Users should enable revise within .julia/config/startup_ijulia.jl:\n",
    "# https://timholy.github.io/Revise.jl/stable/config/#Using-Revise-automatically-within-Jupyter/IJulia-1\n",
    "\n",
    "# clear console history\n",
    "IJulia.clear_history()\n",
    "\n",
    "fig_width = 5\n",
    "fig_height = 4\n",
    "fig_format = :png\n",
    "fig_dpi = 96\n",
    "\n",
    "# no retina format type, use svg for high quality type/marks\n",
    "if fig_format == :retina\n",
    "  fig_format = :svg\n",
    "elseif fig_format == :pdf\n",
    "  fig_dpi = 96\n",
    "  # Enable PDF support for IJulia\n",
    "  IJulia.register_mime(MIME(\"application/pdf\"))\n",
    "end\n",
    "\n",
    "# convert inches to pixels\n",
    "fig_width = fig_width * fig_dpi\n",
    "fig_height = fig_height * fig_dpi\n",
    "\n",
    "# Intialize Plots w/ default fig width/height\n",
    "try\n",
    "  import Plots\n",
    "\n",
    "  # Plots.jl doesn't support PDF output for versions < 1.28.1\n",
    "  # so use png (if the DPI remains the default of 300 then set to 96)\n",
    "  if (Plots._current_plots_version < v\"1.28.1\") & (fig_format == :pdf)\n",
    "    Plots.gr(size=(fig_width, fig_height), fmt = :png, dpi = fig_dpi)\n",
    "  else\n",
    "    Plots.gr(size=(fig_width, fig_height), fmt = fig_format, dpi = fig_dpi)\n",
    "  end\n",
    "catch e\n",
    "  # @warn \"Plots init\" exception=(e, catch_backtrace())\n",
    "end\n",
    "\n",
    "# Initialize CairoMakie with default fig width/height\n",
    "try\n",
    "  import CairoMakie\n",
    "  \n",
    "  CairoMakie.activate!(type = string(fig_format))\n",
    "  CairoMakie.update_theme!(resolution=(fig_width, fig_height))\n",
    "catch e\n",
    "    # @warn \"CairoMakie init\" exception=(e, catch_backtrace())\n",
    "end\n",
    "  \n",
    "# Set run_path if specified\n",
    "try\n",
    "  run_path = raw\"/run/media/alf/datos/misrepositorios/docencia/analisis-practicas-julia\"\n",
    "  if !isempty(run_path)\n",
    "    cd(run_path)\n",
    "  end\n",
    "catch e\n",
    "  @warn \"Run path init:\" exception=(e, catch_backtrace())\n",
    "end\n",
    "\n",
    "\n",
    "# emulate old Pkg.installed beahvior, see\n",
    "# https://discourse.julialang.org/t/how-to-use-pkg-dependencies-instead-of-pkg-installed/36416/9\n",
    "import Pkg\n",
    "function isinstalled(pkg::String)\n",
    "  any(x -> x.name == pkg && x.is_direct_dep, values(Pkg.dependencies()))\n",
    "end\n",
    "\n",
    "# ojs_define\n",
    "if isinstalled(\"JSON\") && isinstalled(\"DataFrames\")\n",
    "  import JSON, DataFrames\n",
    "  global function ojs_define(; kwargs...)\n",
    "    convert(x) = x\n",
    "    convert(x::DataFrames.AbstractDataFrame) = Tables.rows(x)\n",
    "    content = Dict(\"contents\" => [Dict(\"name\" => k, \"value\" => convert(v)) for (k, v) in kwargs])\n",
    "    tag = \"<script type='ojs-define'>$(JSON.json(content))</script>\"\n",
    "    IJulia.display(MIME(\"text/html\"), tag)\n",
    "  end\n",
    "elseif isinstalled(\"JSON\")\n",
    "  import JSON\n",
    "  global function ojs_define(; kwargs...)\n",
    "    content = Dict(\"contents\" => [Dict(\"name\" => k, \"value\" => v) for (k, v) in kwargs])\n",
    "    tag = \"<script type='ojs-define'>$(JSON.json(content))</script>\"\n",
    "    IJulia.display(MIME(\"text/html\"), tag)\n",
    "  end\n",
    "else\n",
    "  global function ojs_define(; kwargs...)\n",
    "    @warn \"JSON package not available. Please install the JSON.jl package to use ojs_define.\"\n",
    "  end\n",
    "end\n",
    "\n",
    "\n",
    "# don't return kernel dependencies (b/c Revise should take care of dependencies)\n",
    "nothing\n"
   ]
  },
  {
   "cell_type": "code",
   "execution_count": 2,
   "id": "865cd5d3",
   "metadata": {},
   "outputs": [],
   "source": [
    "#| output: false\n",
    "using SymPy  # Para el cálculo simbólico.\n",
    "using HCubature # Para el cálculo numérico de integrales múltiples."
   ]
  },
  {
   "cell_type": "code",
   "execution_count": 3,
   "id": "f7dee44b",
   "metadata": {
    "md-indent": "    "
   },
   "outputs": [
    {
     "data": {
      "text/plain": [
       "(50.0, 7.105427357601002e-15)"
      ]
     },
     "execution_count": 3,
     "metadata": {},
     "output_type": "execute_result"
    }
   ],
   "source": [
    "using HCubature\n",
    "f(x, y) = 10\n",
    "f(v) = f(v...)\n",
    "hcubature(f, [0,0], [1,5])"
   ]
  },
  {
   "cell_type": "code",
   "execution_count": 4,
   "id": "2ca63ed3",
   "metadata": {
    "md-indent": "    "
   },
   "outputs": [
    {
     "data": {
      "text/plain": [
       "(25.0, 3.552713678800501e-15)"
      ]
     },
     "execution_count": 4,
     "metadata": {},
     "output_type": "execute_result"
    }
   ],
   "source": [
    "f(x, y) = 10x\n",
    "f(v) = f(v...)\n",
    "hcubature(f, [0,0], [1,5])"
   ]
  },
  {
   "cell_type": "code",
   "execution_count": 5,
   "id": "5f4e2c09",
   "metadata": {
    "md-indent": "    "
   },
   "outputs": [
    {
     "data": {
      "text/plain": [
       "(31.41598951201623, 4.6813472010342655e-7)"
      ]
     },
     "execution_count": 5,
     "metadata": {},
     "output_type": "execute_result"
    }
   ],
   "source": [
    "f(x, y) = x^2+y^2<1 ? 10 : 0\n",
    "f(v) = f(v...)\n",
    "hcubature(f, [-1,-1], [1,1])"
   ]
  },
  {
   "cell_type": "code",
   "execution_count": 6,
   "id": "2d1a9007",
   "metadata": {
    "md-indent": "    "
   },
   "outputs": [
    {
     "data": {
      "text/plain": [
       "(2.0943951101375893, 3.12087277156216e-8)"
      ]
     },
     "execution_count": 6,
     "metadata": {},
     "output_type": "execute_result"
    }
   ],
   "source": [
    "f(x, y) = x^2+y^2<1 ? sqrt(1-x^2-y^2) : 0\n",
    "f(v) = f(v...)\n",
    "hcubature(f, [-1,-1], [1,1])"
   ]
  },
  {
   "cell_type": "code",
   "execution_count": 7,
   "id": "3a4d0da1",
   "metadata": {
    "md-indent": "    "
   },
   "outputs": [
    {
     "data": {
      "text/latex": [
       "$3$"
      ],
      "text/plain": [
       "3"
      ]
     },
     "execution_count": 7,
     "metadata": {},
     "output_type": "execute_result"
    }
   ],
   "source": [
    "using SymPy\n",
    "@syms x y\n",
    "f(x, y) = x + y\n",
    "integrate(f(x,y), (y, 0, 2), (x, 0, 1))"
   ]
  },
  {
   "cell_type": "code",
   "execution_count": 8,
   "id": "1da9c758",
   "metadata": {
    "md-indent": "    "
   },
   "outputs": [
    {
     "data": {
      "text/latex": [
       "$3$"
      ],
      "text/plain": [
       "3"
      ]
     },
     "execution_count": 8,
     "metadata": {},
     "output_type": "execute_result"
    }
   ],
   "source": [
    "integrate(f(x,y), (x, 0, 1), (y, 0, 2))"
   ]
  },
  {
   "cell_type": "code",
   "execution_count": 9,
   "id": "645a918d",
   "metadata": {
    "md-indent": "    "
   },
   "outputs": [
    {
     "data": {
      "text/latex": [
       "$\\frac{9}{2}$"
      ],
      "text/plain": [
       "9/2"
      ]
     },
     "execution_count": 9,
     "metadata": {},
     "output_type": "execute_result"
    }
   ],
   "source": [
    "@syms z\n",
    "f(x, y, z) = x * y * z\n",
    "integrate(f(x,y,z), (z, 0, 3), (y, 0, 2), (x, 0, 1))"
   ]
  },
  {
   "cell_type": "code",
   "execution_count": 10,
   "id": "0d787242",
   "metadata": {
    "md-indent": "    "
   },
   "outputs": [
    {
     "data": {
      "text/latex": [
       "$\\frac{9}{2}$"
      ],
      "text/plain": [
       "9/2"
      ]
     },
     "execution_count": 10,
     "metadata": {},
     "output_type": "execute_result"
    }
   ],
   "source": [
    "@syms z\n",
    "f(x, y, z) = x * y * z\n",
    "integrate(f(x,y,z), (y, 0, 2), (x, 0, 1), (z, 0, 3))"
   ]
  },
  {
   "cell_type": "code",
   "execution_count": 11,
   "id": "a17035e3",
   "metadata": {
    "md-indent": "    "
   },
   "outputs": [
    {
     "data": {
      "text/latex": [
       "$- e^{2} + \\frac{1}{3} + \\frac{2 e^{3}}{3}$"
      ],
      "text/plain": [
       "              3\n",
       "   2   1   2⋅ℯ \n",
       "- ℯ  + ─ + ────\n",
       "       3    3  "
      ]
     },
     "execution_count": 11,
     "metadata": {},
     "output_type": "execute_result"
    }
   ],
   "source": [
    "using SymPy\n",
    "@syms x y\n",
    "f(x, y) = exp(x+y)\n",
    "integrate(f(x,y), (y, 0, x/2), (x, 0, 2))"
   ]
  },
  {
   "cell_type": "code",
   "execution_count": 12,
   "id": "e1dc2412",
   "metadata": {
    "md-indent": "    "
   },
   "outputs": [
    {
     "data": {
      "text/latex": [
       "$- e^{2} + \\frac{1}{3} + \\frac{2 e^{3}}{3}$"
      ],
      "text/plain": [
       "              3\n",
       "   2   1   2⋅ℯ \n",
       "- ℯ  + ─ + ────\n",
       "       3    3  "
      ]
     },
     "execution_count": 12,
     "metadata": {},
     "output_type": "execute_result"
    }
   ],
   "source": [
    "integrate(f(x,y), (x, 2y, 2), (y, 0, 1))"
   ]
  },
  {
   "cell_type": "code",
   "execution_count": 13,
   "id": "e22e9ffd",
   "metadata": {
    "md-indent": "    "
   },
   "outputs": [
    {
     "data": {
      "text/latex": [
       "$\\frac{1}{40}$"
      ],
      "text/plain": [
       "1/40"
      ]
     },
     "execution_count": 13,
     "metadata": {},
     "output_type": "execute_result"
    }
   ],
   "source": [
    "f(x, y) = x^2*y\n",
    "integrate(f(x,y), (y, x, sqrt(x)), (x, 0, 1))"
   ]
  },
  {
   "cell_type": "code",
   "execution_count": 14,
   "id": "6b062c40",
   "metadata": {
    "md-indent": "    "
   },
   "outputs": [
    {
     "data": {
      "text/latex": [
       "$\\frac{1}{40}$"
      ],
      "text/plain": [
       "1/40"
      ]
     },
     "execution_count": 14,
     "metadata": {},
     "output_type": "execute_result"
    }
   ],
   "source": [
    "integrate(f(x,y), (x, y^2, y), (y, 0, 1))"
   ]
  },
  {
   "cell_type": "code",
   "execution_count": 15,
   "id": "d3337a30",
   "metadata": {
    "md-indent": "    "
   },
   "outputs": [
    {
     "data": {
      "text/latex": [
       "$- \\frac{\\sqrt{2} \\sqrt{\\pi} \\left(- \\frac{\\sqrt{2} \\sin{\\left(1 \\right)} \\Gamma\\left(\\frac{1}{4}\\right)}{8 \\sqrt{\\pi} \\Gamma\\left(\\frac{5}{4}\\right)} + \\frac{C\\left(\\frac{\\sqrt{2}}{\\sqrt{\\pi}}\\right) \\Gamma\\left(\\frac{1}{4}\\right)}{4 \\Gamma\\left(\\frac{5}{4}\\right)}\\right) \\Gamma\\left(\\frac{1}{4}\\right)}{8 \\Gamma\\left(\\frac{5}{4}\\right)} + \\frac{\\sqrt{2} \\sqrt{\\pi} C\\left(\\frac{\\sqrt{2}}{\\sqrt{\\pi}}\\right) \\Gamma\\left(\\frac{1}{4}\\right)}{8 \\Gamma\\left(\\frac{5}{4}\\right)}$"
      ],
      "text/plain": [
       "        ⎛                      ⎛√2⎞       ⎞                            \n",
       "        ⎜                     C⎜──⎟⋅Γ(1/4)⎟                            \n",
       "        ⎜  √2⋅sin(1)⋅Γ(1/4)    ⎝√π⎠       ⎟                 ⎛√2⎞       \n",
       "  √2⋅√π⋅⎜- ──────────────── + ────────────⎟⋅Γ(1/4)   √2⋅√π⋅C⎜──⎟⋅Γ(1/4)\n",
       "        ⎝    8⋅√π⋅Γ(5/4)        4⋅Γ(5/4)  ⎠                 ⎝√π⎠       \n",
       "- ──────────────────────────────────────────────── + ──────────────────\n",
       "                      8⋅Γ(5/4)                            8⋅Γ(5/4)     "
      ]
     },
     "execution_count": 15,
     "metadata": {},
     "output_type": "execute_result"
    }
   ],
   "source": [
    "f(x, y) = cos(x^2)\n",
    "integrate(f(x,y), (x, y, 1), (y, 0, 1))"
   ]
  },
  {
   "cell_type": "code",
   "execution_count": 16,
   "id": "f6eccb3d",
   "metadata": {
    "md-indent": "    "
   },
   "outputs": [
    {
     "data": {
      "text/latex": [
       "$\\frac{\\sin{\\left(1 \\right)}}{2}$"
      ],
      "text/plain": [
       "sin(1)\n",
       "──────\n",
       "  2   "
      ]
     },
     "execution_count": 16,
     "metadata": {},
     "output_type": "execute_result"
    }
   ],
   "source": [
    "integrate(f(x,y), (y, 0, x), (x, 0, 1))"
   ]
  },
  {
   "cell_type": "code",
   "execution_count": 17,
   "id": "79ed1faf",
   "metadata": {
    "md-indent": "    "
   },
   "outputs": [
    {
     "data": {
      "text/latex": [
       "$6$"
      ],
      "text/plain": [
       "6"
      ]
     },
     "execution_count": 17,
     "metadata": {},
     "output_type": "execute_result"
    }
   ],
   "source": [
    "using SymPy\n",
    "@syms x y z\n",
    "f(x, y) = solve(x+2y+3z-6, z)[1]\n",
    "g(x) = solve(f(x,y), y)\n",
    "integrate(f(x,y), (y, 0, g(x)), (x, 0, 6))"
   ]
  },
  {
   "cell_type": "code",
   "execution_count": 18,
   "id": "4875714f",
   "metadata": {
    "md-indent": "    "
   },
   "outputs": [
    {
     "data": {
      "text/plain": [
       "(1.0, 0.0)"
      ]
     },
     "execution_count": 18,
     "metadata": {},
     "output_type": "execute_result"
    }
   ],
   "source": [
    "using HCubature\n",
    "f(x, y) = abs(x*y)\n",
    "f(v) = f(v...)\n",
    "hcubature(f, [-1,-1], [1,1])"
   ]
  },
  {
   "cell_type": "code",
   "execution_count": 19,
   "id": "47d5c4e9",
   "metadata": {},
   "outputs": [
    {
     "data": {
      "text/latex": [
       "$- \\frac{1197 \\sqrt{2} \\pi}{32}$"
      ],
      "text/plain": [
       "-1197⋅√2⋅π \n",
       "───────────\n",
       "     32    "
      ]
     },
     "execution_count": 19,
     "metadata": {},
     "output_type": "execute_result"
    }
   ],
   "source": [
    "using SymPy\n",
    "@syms x y\n",
    "# Función de la superficie\n",
    "f(x, y) = x^2/2 + y^2/2 - 10 \n",
    "# Función de la región de integración\n",
    "g(x, y) = 2x^2 + y^2 - 9\n",
    "# Límites de integración en y\n",
    "soly = solve(g(x, y), y)\n",
    "# Límites de integración en x\n",
    "solx = solve(g(x, 0))\n",
    "integrate(f(x, y), (y, soly[1], soly[2]), (x, solx[1], solx[2]))"
   ]
  },
  {
   "cell_type": "code",
   "execution_count": 20,
   "id": "14b982b5",
   "metadata": {},
   "outputs": [
    {
     "data": {
      "text/latex": [
       "$- \\frac{\\pi}{2}$"
      ],
      "text/plain": [
       "-π \n",
       "───\n",
       " 2 "
      ]
     },
     "execution_count": 20,
     "metadata": {},
     "output_type": "execute_result"
    }
   ],
   "source": [
    "using SymPy\n",
    "@syms x y\n",
    "f(x, y) = x^2 + y^2\n",
    "g(x, y) = 2x\n",
    "sol = solve(f(x,y)-g(x,y), y)\n",
    "integrate(g(x,y)-f(x,y), (y, sol[1], sol[2]), (x, 0, 2))"
   ]
  },
  {
   "cell_type": "code",
   "execution_count": 21,
   "id": "0ed224d9",
   "metadata": {},
   "outputs": [
    {
     "data": {
      "text/latex": [
       "$\\frac{16 \\pi}{3}$"
      ],
      "text/plain": [
       "16⋅π\n",
       "────\n",
       " 3  "
      ]
     },
     "execution_count": 21,
     "metadata": {},
     "output_type": "execute_result"
    }
   ],
   "source": [
    "using SymPy\n",
    "@syms x y r θ\n",
    "f(x, y) = 2*sqrt(x^2+y^2)\n",
    "g(r, θ) = f(r*cos(θ), r*sin(θ))\n",
    "solr = solve(g(r,θ)-4, r)\n",
    "integrate(4 - g(r,θ)*r, (r, 0, solr[2]), (θ, 0, 2PI))"
   ]
  },
  {
   "cell_type": "code",
   "execution_count": 22,
   "id": "6d3d66d1",
   "metadata": {},
   "outputs": [
    {
     "data": {
      "text/latex": [
       "$4 \\sqrt{5} \\pi$"
      ],
      "text/plain": [
       "4⋅√5⋅π"
      ]
     },
     "execution_count": 22,
     "metadata": {},
     "output_type": "execute_result"
    }
   ],
   "source": [
    "soly = solve(f(x,y)-4, y)\n",
    "solx = solve(f(x,0)-4)\n",
    "integrate(sqrt(diff(f(x,y), x)^2 + diff(f(x,y), y)^2 +1), (y, soly[1], soly[2]), (x, solx[1], solx[2]))"
   ]
  },
  {
   "cell_type": "code",
   "execution_count": 23,
   "id": "369cda03",
   "metadata": {
    "md-indent": "    "
   },
   "outputs": [
    {
     "data": {
      "text/latex": [
       "$\\frac{460 \\sqrt{15}}{729}$"
      ],
      "text/plain": [
       "460⋅√15\n",
       "───────\n",
       "  729  "
      ]
     },
     "execution_count": 23,
     "metadata": {},
     "output_type": "execute_result"
    }
   ],
   "source": [
    "using SymPy\n",
    "@syms x y\n",
    "d(x,y) = x^2 * y^2\n",
    "g(x) = 2 - x^2\n",
    "h(x) = -3 + 2x^2\n",
    "sol = solve(g(x)-h(x), x)\n",
    "m = integrate(d(x,y), (y, h(x), g(x)), (x, sol[1], sol[2]))"
   ]
  },
  {
   "cell_type": "code",
   "execution_count": 24,
   "id": "782ee22d",
   "metadata": {
    "md-indent": "    "
   },
   "outputs": [
    {
     "data": {
      "text/latex": [
       "$0$"
      ],
      "text/plain": [
       "0"
      ]
     },
     "execution_count": 24,
     "metadata": {},
     "output_type": "execute_result"
    }
   ],
   "source": [
    "# Momento con respecto a y\n",
    "my = integrate(x*d(x,y), (y, h(x), g(x)), (x, sol[1], sol[2]))\n",
    "# Centro de masas en x.\n",
    "my / m"
   ]
  },
  {
   "cell_type": "code",
   "execution_count": 25,
   "id": "a6953552",
   "metadata": {
    "md-indent": "    "
   },
   "outputs": [
    {
     "data": {
      "text/latex": [
       "$- \\frac{4159}{5313}$"
      ],
      "text/plain": [
       "-4159 \n",
       "──────\n",
       " 5313 "
      ]
     },
     "execution_count": 25,
     "metadata": {},
     "output_type": "execute_result"
    }
   ],
   "source": [
    "# Momento con respecto a x\n",
    "mx = integrate(y*d(x,y), (y, h(x), g(x)), (x, sol[1], sol[2]))\n",
    "# Centro de masas en y.\n",
    "mx / m"
   ]
  },
  {
   "cell_type": "code",
   "execution_count": 26,
   "id": "328dd410",
   "metadata": {
    "results": "hidden"
   },
   "outputs": [],
   "source": [
    "#| echo: false\n",
    "#| output: false\n",
    "using QuizQuestions, SymPy\n",
    "nothing"
   ]
  },
  {
   "cell_type": "code",
   "execution_count": 27,
   "id": "80615c19",
   "metadata": {},
   "outputs": [
    {
     "data": {
      "text/html": [
       "<script>\n",
       "var ID = \"AVADTKi5\"\n",
       "</script>\n",
       "<form class=\"mx-2 my-3 mw-100\" name='WeaveQuestion' data-id='AVADTKi5' data-controltype=''>\n",
       "  <div class='form-group '>\n",
       "    <div class='controls'>\n",
       "      <div class=\"form\" id=\"controls_AVADTKi5\" correct='-1' attempts='0'>\n",
       "        <div style=\"padding-top: 5px\">\n",
       "    </br>\n",
       "<div class=\"input-group\" aria-label=\"Input form: Numeric answer\">\n",
       "    <input id=\"AVADTKi5\" type=\"number\" class=\"form-control\" placeholder=\"Numeric answer\" aria-label=\"Numeric answer\">\n",
       "    <span  class=\"input-group-append\" href=\"#\" title=\"Introducir hasta 5 decimales\">&nbsp;🎁</span>\n",
       "</div>\n",
       "\n",
       "    \n",
       "        </div>\n",
       "      </div>\n",
       "      <div id='AVADTKi5_message' style=\"padding-bottom: 15px\"></div>\n",
       "    </div>\n",
       "  </div>\n",
       "</form>\n",
       "<script>\n",
       "document.getElementById('controls_AVADTKi5').addEventListener(\"quizquestion_answer\", (e) => {\n",
       "\t      var o = document.getElementById('controls_AVADTKi5')\n",
       "\t      var atts = Number(o.getAttribute(\"attempts\"))\n",
       "\t      o.setAttribute(\"correct\",  e.detail.correct);\n",
       "\t      o.setAttribute(\"attempts\", atts + 1)\n",
       "\t  }, true)\n",
       "</script>\n",
       "\n",
       "<script text='text/javascript'>\n",
       "document.getElementById(\"AVADTKi5\").addEventListener(\"change\", function() {\n",
       "  var correct = (Math.abs(this.value - 32.90525553101446) <= 1.0e-5);\n",
       "  var msgBox = document.getElementById('AVADTKi5_message');\n",
       "  \n",
       "  if(correct) {\n",
       "    msgBox.innerHTML = \"<div class='pluto-output admonition note alert alert-success'><span> 👍&nbsp; Correct </span></div>\";\n",
       "    var explanation = document.getElementById(\"explanation_AVADTKi5\")\n",
       "    if (explanation != null) {\n",
       "       explanation.style.display = \"none\";\n",
       "    }\n",
       "      const correct_answer   = new CustomEvent(\"quizquestion_answer\", {bubbles:true, detail:{correct: 1}});\n",
       "  this.dispatchEvent(correct_answer);\n",
       "  //typeof correct_answer   != \"undefined\" && this.dispatchEvent(correct_answer);\n",
       "\n",
       "  } else {\n",
       "    msgBox.innerHTML = \"<div class='pluto-output admonition alert alert-danger'><span>👎&nbsp; Incorrect </span></div>\";\n",
       "    var explanation = document.getElementById(\"explanation_AVADTKi5\")\n",
       "    if (explanation != null) {\n",
       "       explanation.style.display = \"block\";\n",
       "    }\n",
       "      const incorrect_answer = new CustomEvent(\"quizquestion_answer\", {bubbles:true, detail:{correct: 0}});\n",
       "  this.dispatchEvent(incorrect_answer);\n",
       "  //typeof incorrect_answer != \"undefined\" && this.dispatchEvent(incorrect_answer);\n",
       "\n",
       "  }\n",
       "\n",
       "});\n",
       "\n",
       "</script>\n"
      ],
      "text/latex": [
       "\\vspace{18pt}*Hint: *\n",
       "\n",
       "Introducir hasta 5 decimales\n",
       "\n"
      ],
      "text/plain": [
       "QuizQuestions.Numericq(32.90525553101446, 1.0e-5, \"\", \"\", \"Introducir hasta 5 decimales\", \"\", nothing)"
      ]
     },
     "execution_count": 27,
     "metadata": {},
     "output_type": "execute_result"
    }
   ],
   "source": [
    "#| echo: false\n",
    "using SymPy\n",
    "@syms x, y::real\n",
    "f(x, y) = exp(x^2)\n",
    "sol = N(integrate(f(x,y), (y, -x/2, 1), (x, -2, 2)))\n",
    "numericq(sol, 1e-5, hint=\"Introducir hasta 5 decimales\")"
   ]
  },
  {
   "cell_type": "code",
   "execution_count": 28,
   "id": "362f640a",
   "metadata": {},
   "outputs": [
    {
     "data": {
      "text/html": [
       "<script>\n",
       "var ID = \"WOJVui59\"\n",
       "</script>\n",
       "<form class=\"mx-2 my-3 mw-100\" name='WeaveQuestion' data-id='WOJVui59' data-controltype=''>\n",
       "  <div class='form-group '>\n",
       "    <div class='controls'>\n",
       "      <div class=\"form\" id=\"controls_WOJVui59\" correct='-1' attempts='0'>\n",
       "        <div style=\"padding-top: 5px\">\n",
       "    </br>\n",
       "<div class=\"input-group\" aria-label=\"Input form: Numeric answer\">\n",
       "    <input id=\"WOJVui59\" type=\"number\" class=\"form-control\" placeholder=\"Numeric answer\" aria-label=\"Numeric answer\">\n",
       "    <span  class=\"input-group-append\" href=\"#\" title=\"Introducir hasta 5 decimales\">&nbsp;🎁</span>\n",
       "</div>\n",
       "\n",
       "    \n",
       "        </div>\n",
       "      </div>\n",
       "      <div id='WOJVui59_message' style=\"padding-bottom: 15px\"></div>\n",
       "    </div>\n",
       "  </div>\n",
       "</form>\n",
       "<script>\n",
       "document.getElementById('controls_WOJVui59').addEventListener(\"quizquestion_answer\", (e) => {\n",
       "\t      var o = document.getElementById('controls_WOJVui59')\n",
       "\t      var atts = Number(o.getAttribute(\"attempts\"))\n",
       "\t      o.setAttribute(\"correct\",  e.detail.correct);\n",
       "\t      o.setAttribute(\"attempts\", atts + 1)\n",
       "\t  }, true)\n",
       "</script>\n",
       "\n",
       "<script text='text/javascript'>\n",
       "document.getElementById(\"WOJVui59\").addEventListener(\"change\", function() {\n",
       "  var correct = (Math.abs(this.value - 32) <= 1.0e-5);\n",
       "  var msgBox = document.getElementById('WOJVui59_message');\n",
       "  \n",
       "  if(correct) {\n",
       "    msgBox.innerHTML = \"<div class='pluto-output admonition note alert alert-success'><span> 👍&nbsp; Correct </span></div>\";\n",
       "    var explanation = document.getElementById(\"explanation_WOJVui59\")\n",
       "    if (explanation != null) {\n",
       "       explanation.style.display = \"none\";\n",
       "    }\n",
       "      const correct_answer   = new CustomEvent(\"quizquestion_answer\", {bubbles:true, detail:{correct: 1}});\n",
       "  this.dispatchEvent(correct_answer);\n",
       "  //typeof correct_answer   != \"undefined\" && this.dispatchEvent(correct_answer);\n",
       "\n",
       "  } else {\n",
       "    msgBox.innerHTML = \"<div class='pluto-output admonition alert alert-danger'><span>👎&nbsp; Incorrect </span></div>\";\n",
       "    var explanation = document.getElementById(\"explanation_WOJVui59\")\n",
       "    if (explanation != null) {\n",
       "       explanation.style.display = \"block\";\n",
       "    }\n",
       "      const incorrect_answer = new CustomEvent(\"quizquestion_answer\", {bubbles:true, detail:{correct: 0}});\n",
       "  this.dispatchEvent(incorrect_answer);\n",
       "  //typeof incorrect_answer != \"undefined\" && this.dispatchEvent(incorrect_answer);\n",
       "\n",
       "  }\n",
       "\n",
       "});\n",
       "\n",
       "</script>\n"
      ],
      "text/latex": [
       "\\vspace{18pt}*Hint: *\n",
       "\n",
       "Introducir hasta 5 decimales\n",
       "\n"
      ],
      "text/plain": [
       "QuizQuestions.Numericq(32, 1.0e-5, \"\", \"\", \"Introducir hasta 5 decimales\", \"\", nothing)"
      ]
     },
     "execution_count": 28,
     "metadata": {},
     "output_type": "execute_result"
    }
   ],
   "source": [
    "#| echo: false\n",
    "using SymPy\n",
    "@syms x, y, z::real\n",
    "solz = solve(z^2-4+x, z)\n",
    "soly = solve(y^2-4+x, y)\n",
    "solx = solve(-4+x)\n",
    "sol = N(integrate(solz[2]-solz[1], (y, soly[1], soly[2]), (x, 0, solx[1])))\n",
    "numericq(sol, 1e-5, hint=\"Introducir hasta 5 decimales\")"
   ]
  },
  {
   "cell_type": "code",
   "execution_count": 29,
   "id": "097f4473",
   "metadata": {},
   "outputs": [
    {
     "data": {
      "text/html": [
       "<script>\n",
       "var ID = \"eJCrZV65\"\n",
       "</script>\n",
       "<form class=\"mx-2 my-3 mw-100\" name='WeaveQuestion' data-id='eJCrZV65' data-controltype=''>\n",
       "  <div class='form-group '>\n",
       "    <div class='controls'>\n",
       "      <div class=\"form\" id=\"controls_eJCrZV65\" correct='-1' attempts='0'>\n",
       "        <div style=\"padding-top: 5px\">\n",
       "    </br>\n",
       "<div class=\"input-group\" aria-label=\"Input form: Numeric answer\">\n",
       "    <input id=\"eJCrZV65\" type=\"number\" class=\"form-control\" placeholder=\"Numeric answer\" aria-label=\"Numeric answer\">\n",
       "    <span  class=\"input-group-append\" href=\"#\" title=\"Introducir hasta 5 decimales\">&nbsp;🎁</span>\n",
       "</div>\n",
       "\n",
       "    \n",
       "        </div>\n",
       "      </div>\n",
       "      <div id='eJCrZV65_message' style=\"padding-bottom: 15px\"></div>\n",
       "    </div>\n",
       "  </div>\n",
       "</form>\n",
       "<script>\n",
       "document.getElementById('controls_eJCrZV65').addEventListener(\"quizquestion_answer\", (e) => {\n",
       "\t      var o = document.getElementById('controls_eJCrZV65')\n",
       "\t      var atts = Number(o.getAttribute(\"attempts\"))\n",
       "\t      o.setAttribute(\"correct\",  e.detail.correct);\n",
       "\t      o.setAttribute(\"attempts\", atts + 1)\n",
       "\t  }, true)\n",
       "</script>\n",
       "\n",
       "<script text='text/javascript'>\n",
       "document.getElementById(\"eJCrZV65\").addEventListener(\"change\", function() {\n",
       "  var correct = (Math.abs(this.value - 3.42958314) <= 1.0e-5);\n",
       "  var msgBox = document.getElementById('eJCrZV65_message');\n",
       "  \n",
       "  if(correct) {\n",
       "    msgBox.innerHTML = \"<div class='pluto-output admonition note alert alert-success'><span> 👍&nbsp; Correct </span></div>\";\n",
       "    var explanation = document.getElementById(\"explanation_eJCrZV65\")\n",
       "    if (explanation != null) {\n",
       "       explanation.style.display = \"none\";\n",
       "    }\n",
       "      const correct_answer   = new CustomEvent(\"quizquestion_answer\", {bubbles:true, detail:{correct: 1}});\n",
       "  this.dispatchEvent(correct_answer);\n",
       "  //typeof correct_answer   != \"undefined\" && this.dispatchEvent(correct_answer);\n",
       "\n",
       "  } else {\n",
       "    msgBox.innerHTML = \"<div class='pluto-output admonition alert alert-danger'><span>👎&nbsp; Incorrect </span></div>\";\n",
       "    var explanation = document.getElementById(\"explanation_eJCrZV65\")\n",
       "    if (explanation != null) {\n",
       "       explanation.style.display = \"block\";\n",
       "    }\n",
       "      const incorrect_answer = new CustomEvent(\"quizquestion_answer\", {bubbles:true, detail:{correct: 0}});\n",
       "  this.dispatchEvent(incorrect_answer);\n",
       "  //typeof incorrect_answer != \"undefined\" && this.dispatchEvent(incorrect_answer);\n",
       "\n",
       "  }\n",
       "\n",
       "});\n",
       "\n",
       "</script>\n"
      ],
      "text/latex": [
       "\\vspace{18pt}*Hint: *\n",
       "\n",
       "Introducir hasta 5 decimales\n",
       "\n"
      ],
      "text/plain": [
       "QuizQuestions.Numericq(3.42958314, 1.0e-5, \"\", \"\", \"Introducir hasta 5 decimales\", \"\", nothing)"
      ]
     },
     "execution_count": 29,
     "metadata": {},
     "output_type": "execute_result"
    }
   ],
   "source": [
    "#| echo: false\n",
    "using HCubature\n",
    "f(x, y) = x^2+y^2 <= 1 ? log(cos(x*y)+2) : 0\n",
    "f(v) = f(v...)\n",
    "#sol = hcubature(f, [-1,-1], [1, 1])\n",
    "numericq(3.42958314, 1e-5, hint=\"Introducir hasta 5 decimales\")"
   ]
  },
  {
   "cell_type": "code",
   "execution_count": 30,
   "id": "f077b4ec",
   "metadata": {},
   "outputs": [
    {
     "data": {
      "text/html": [
       "<script>\n",
       "var ID = \"8G7CtGXG\"\n",
       "</script>\n",
       "<form class=\"mx-2 my-3 mw-100\" name='WeaveQuestion' data-id='8G7CtGXG' data-controltype=''>\n",
       "  <div class='form-group '>\n",
       "    <div class='controls'>\n",
       "      <div class=\"form\" id=\"controls_8G7CtGXG\" correct='-1' attempts='0'>\n",
       "        <div style=\"padding-top: 5px\">\n",
       "    </br>\n",
       "<div class=\"input-group\" aria-label=\"Input form: Numeric answer\">\n",
       "    <input id=\"8G7CtGXG\" type=\"number\" class=\"form-control\" placeholder=\"Numeric answer\" aria-label=\"Numeric answer\">\n",
       "    <span  class=\"input-group-append\" href=\"#\" title=\"Introducir hasta 5 decimales\">&nbsp;🎁</span>\n",
       "</div>\n",
       "\n",
       "    \n",
       "        </div>\n",
       "      </div>\n",
       "      <div id='8G7CtGXG_message' style=\"padding-bottom: 15px\"></div>\n",
       "    </div>\n",
       "  </div>\n",
       "</form>\n",
       "<script>\n",
       "document.getElementById('controls_8G7CtGXG').addEventListener(\"quizquestion_answer\", (e) => {\n",
       "\t      var o = document.getElementById('controls_8G7CtGXG')\n",
       "\t      var atts = Number(o.getAttribute(\"attempts\"))\n",
       "\t      o.setAttribute(\"correct\",  e.detail.correct);\n",
       "\t      o.setAttribute(\"attempts\", atts + 1)\n",
       "\t  }, true)\n",
       "</script>\n",
       "\n",
       "<script text='text/javascript'>\n",
       "document.getElementById(\"8G7CtGXG\").addEventListener(\"change\", function() {\n",
       "  var correct = (Math.abs(this.value - 1.2823707050179478) <= 1.0e-5);\n",
       "  var msgBox = document.getElementById('8G7CtGXG_message');\n",
       "  \n",
       "  if(correct) {\n",
       "    msgBox.innerHTML = \"<div class='pluto-output admonition note alert alert-success'><span> 👍&nbsp; Correct </span></div>\";\n",
       "    var explanation = document.getElementById(\"explanation_8G7CtGXG\")\n",
       "    if (explanation != null) {\n",
       "       explanation.style.display = \"none\";\n",
       "    }\n",
       "      const correct_answer   = new CustomEvent(\"quizquestion_answer\", {bubbles:true, detail:{correct: 1}});\n",
       "  this.dispatchEvent(correct_answer);\n",
       "  //typeof correct_answer   != \"undefined\" && this.dispatchEvent(correct_answer);\n",
       "\n",
       "  } else {\n",
       "    msgBox.innerHTML = \"<div class='pluto-output admonition alert alert-danger'><span>👎&nbsp; Incorrect </span></div>\";\n",
       "    var explanation = document.getElementById(\"explanation_8G7CtGXG\")\n",
       "    if (explanation != null) {\n",
       "       explanation.style.display = \"block\";\n",
       "    }\n",
       "      const incorrect_answer = new CustomEvent(\"quizquestion_answer\", {bubbles:true, detail:{correct: 0}});\n",
       "  this.dispatchEvent(incorrect_answer);\n",
       "  //typeof incorrect_answer != \"undefined\" && this.dispatchEvent(incorrect_answer);\n",
       "\n",
       "  }\n",
       "\n",
       "});\n",
       "\n",
       "</script>\n"
      ],
      "text/latex": [
       "\\vspace{18pt}*Hint: *\n",
       "\n",
       "Introducir hasta 5 decimales\n",
       "\n"
      ],
      "text/plain": [
       "QuizQuestions.Numericq(1.2823707050179478, 1.0e-5, \"\", \"\", \"Introducir hasta 5 decimales\", \"\", nothing)"
      ]
     },
     "execution_count": 30,
     "metadata": {},
     "output_type": "execute_result"
    }
   ],
   "source": [
    "#| echo: false\n",
    "using SymPy, HCubature\n",
    "@syms x y\n",
    "f(x, y) = sqrt(x+y)\n",
    "#sol = N(integrate(sqrt(diff(f(x,y), x)^2 + diff(f(x,y), y)^2 +1), (x, 0, 1), (y, 0, 1)))\n",
    "numericq(1.2823707050179478, 1e-5, hint=\"Introducir hasta 5 decimales\")"
   ]
  },
  {
   "cell_type": "code",
   "execution_count": 31,
   "id": "68ee5deb",
   "metadata": {},
   "outputs": [
    {
     "data": {
      "text/html": [
       "<script>\n",
       "var ID = \"Sun3Ld0D\"\n",
       "</script>\n",
       "<form class=\"mx-2 my-3 mw-100\" name='WeaveQuestion' data-id='Sun3Ld0D' data-controltype=''>\n",
       "  <div class='form-group '>\n",
       "    <div class='controls'>\n",
       "      <div class=\"form\" id=\"controls_Sun3Ld0D\" correct='-1' attempts='0'>\n",
       "        <div style=\"padding-top: 5px\">\n",
       "    </br>\n",
       "<div class=\"input-group\" aria-label=\"Input form: Numeric answer\">\n",
       "    <input id=\"Sun3Ld0D\" type=\"number\" class=\"form-control\" placeholder=\"Numeric answer\" aria-label=\"Numeric answer\">\n",
       "    <span  class=\"input-group-append\" href=\"#\" title=\"Introducir hasta 5 decimales\">&nbsp;🎁</span>\n",
       "</div>\n",
       "\n",
       "    \n",
       "        </div>\n",
       "      </div>\n",
       "      <div id='Sun3Ld0D_message' style=\"padding-bottom: 15px\"></div>\n",
       "    </div>\n",
       "  </div>\n",
       "</form>\n",
       "<script>\n",
       "document.getElementById('controls_Sun3Ld0D').addEventListener(\"quizquestion_answer\", (e) => {\n",
       "\t      var o = document.getElementById('controls_Sun3Ld0D')\n",
       "\t      var atts = Number(o.getAttribute(\"attempts\"))\n",
       "\t      o.setAttribute(\"correct\",  e.detail.correct);\n",
       "\t      o.setAttribute(\"attempts\", atts + 1)\n",
       "\t  }, true)\n",
       "</script>\n",
       "\n",
       "<script text='text/javascript'>\n",
       "document.getElementById(\"Sun3Ld0D\").addEventListener(\"change\", function() {\n",
       "  var correct = (Math.abs(this.value - 0.5313566449) <= 1.0e-5);\n",
       "  var msgBox = document.getElementById('Sun3Ld0D_message');\n",
       "  \n",
       "  if(correct) {\n",
       "    msgBox.innerHTML = \"<div class='pluto-output admonition note alert alert-success'><span> 👍&nbsp; Correct </span></div>\";\n",
       "    var explanation = document.getElementById(\"explanation_Sun3Ld0D\")\n",
       "    if (explanation != null) {\n",
       "       explanation.style.display = \"none\";\n",
       "    }\n",
       "      const correct_answer   = new CustomEvent(\"quizquestion_answer\", {bubbles:true, detail:{correct: 1}});\n",
       "  this.dispatchEvent(correct_answer);\n",
       "  //typeof correct_answer   != \"undefined\" && this.dispatchEvent(correct_answer);\n",
       "\n",
       "  } else {\n",
       "    msgBox.innerHTML = \"<div class='pluto-output admonition alert alert-danger'><span>👎&nbsp; Incorrect </span></div>\";\n",
       "    var explanation = document.getElementById(\"explanation_Sun3Ld0D\")\n",
       "    if (explanation != null) {\n",
       "       explanation.style.display = \"block\";\n",
       "    }\n",
       "      const incorrect_answer = new CustomEvent(\"quizquestion_answer\", {bubbles:true, detail:{correct: 0}});\n",
       "  this.dispatchEvent(incorrect_answer);\n",
       "  //typeof incorrect_answer != \"undefined\" && this.dispatchEvent(incorrect_answer);\n",
       "\n",
       "  }\n",
       "\n",
       "});\n",
       "\n",
       "</script>\n"
      ],
      "text/latex": [
       "\\vspace{18pt}*Hint: *\n",
       "\n",
       "Introducir hasta 5 decimales\n",
       "\n"
      ],
      "text/plain": [
       "QuizQuestions.Numericq(0.5313566449, 1.0e-5, \"\", \"\", \"Introducir hasta 5 decimales\", \"\", nothing)"
      ]
     },
     "execution_count": 31,
     "metadata": {},
     "output_type": "execute_result"
    }
   ],
   "source": [
    "#| echo: false\n",
    "# using SymPy\n",
    "# @syms x y\n",
    "# f(x, y) = ln(x+2y+1)\n",
    "# m = integrate(f(x,y), (y, x^2, sqrt(x)), (x, 0, 1))\n",
    "# my = integrate(x * f(x,y), (y, x^2, sqrt(x)), (x, 0, 1))\n",
    "# sol = N(my / m)\n",
    "numericq(0.5313566449, 1e-5, hint=\"Introducir hasta 5 decimales\")"
   ]
  },
  {
   "cell_type": "code",
   "execution_count": 32,
   "id": "b24026a7",
   "metadata": {},
   "outputs": [
    {
     "data": {
      "text/html": [
       "<script>\n",
       "var ID = \"CyX9dAb3\"\n",
       "</script>\n",
       "<form class=\"mx-2 my-3 mw-100\" name='WeaveQuestion' data-id='CyX9dAb3' data-controltype=''>\n",
       "  <div class='form-group '>\n",
       "    <div class='controls'>\n",
       "      <div class=\"form\" id=\"controls_CyX9dAb3\" correct='-1' attempts='0'>\n",
       "        <div style=\"padding-top: 5px\">\n",
       "    </br>\n",
       "<div class=\"input-group\" aria-label=\"Input form: Numeric answer\">\n",
       "    <input id=\"CyX9dAb3\" type=\"number\" class=\"form-control\" placeholder=\"Numeric answer\" aria-label=\"Numeric answer\">\n",
       "    <span  class=\"input-group-append\" href=\"#\" title=\"Introducir hasta 5 decimales\">&nbsp;🎁</span>\n",
       "</div>\n",
       "\n",
       "    \n",
       "        </div>\n",
       "      </div>\n",
       "      <div id='CyX9dAb3_message' style=\"padding-bottom: 15px\"></div>\n",
       "    </div>\n",
       "  </div>\n",
       "</form>\n",
       "<script>\n",
       "document.getElementById('controls_CyX9dAb3').addEventListener(\"quizquestion_answer\", (e) => {\n",
       "\t      var o = document.getElementById('controls_CyX9dAb3')\n",
       "\t      var atts = Number(o.getAttribute(\"attempts\"))\n",
       "\t      o.setAttribute(\"correct\",  e.detail.correct);\n",
       "\t      o.setAttribute(\"attempts\", atts + 1)\n",
       "\t  }, true)\n",
       "</script>\n",
       "\n",
       "<script text='text/javascript'>\n",
       "document.getElementById(\"CyX9dAb3\").addEventListener(\"change\", function() {\n",
       "  var correct = (Math.abs(this.value - 0.5354903136) <= 1.0e-5);\n",
       "  var msgBox = document.getElementById('CyX9dAb3_message');\n",
       "  \n",
       "  if(correct) {\n",
       "    msgBox.innerHTML = \"<div class='pluto-output admonition note alert alert-success'><span> 👍&nbsp; Correct </span></div>\";\n",
       "    var explanation = document.getElementById(\"explanation_CyX9dAb3\")\n",
       "    if (explanation != null) {\n",
       "       explanation.style.display = \"none\";\n",
       "    }\n",
       "      const correct_answer   = new CustomEvent(\"quizquestion_answer\", {bubbles:true, detail:{correct: 1}});\n",
       "  this.dispatchEvent(correct_answer);\n",
       "  //typeof correct_answer   != \"undefined\" && this.dispatchEvent(correct_answer);\n",
       "\n",
       "  } else {\n",
       "    msgBox.innerHTML = \"<div class='pluto-output admonition alert alert-danger'><span>👎&nbsp; Incorrect </span></div>\";\n",
       "    var explanation = document.getElementById(\"explanation_CyX9dAb3\")\n",
       "    if (explanation != null) {\n",
       "       explanation.style.display = \"block\";\n",
       "    }\n",
       "      const incorrect_answer = new CustomEvent(\"quizquestion_answer\", {bubbles:true, detail:{correct: 0}});\n",
       "  this.dispatchEvent(incorrect_answer);\n",
       "  //typeof incorrect_answer != \"undefined\" && this.dispatchEvent(incorrect_answer);\n",
       "\n",
       "  }\n",
       "\n",
       "});\n",
       "\n",
       "</script>\n"
      ],
      "text/latex": [
       "\\vspace{18pt}*Hint: *\n",
       "\n",
       "Introducir hasta 5 decimales\n",
       "\n"
      ],
      "text/plain": [
       "QuizQuestions.Numericq(0.5354903136, 1.0e-5, \"\", \"\", \"Introducir hasta 5 decimales\", \"\", nothing)"
      ]
     },
     "execution_count": 32,
     "metadata": {},
     "output_type": "execute_result"
    }
   ],
   "source": [
    "#| echo: false\n",
    "# mx = integrate(y * f(x,y), (y, x^2, sqrt(x)), (x, 0, 1))\n",
    "# sol = N(mx / m)\n",
    "numericq(0.5354903136, 1e-5, hint=\"Introducir hasta 5 decimales\")"
   ]
  }
 ],
 "metadata": {
  "kernelspec": {
   "display_name": "Julia 1.9.2",
   "language": "julia",
   "name": "julia-1.9"
  },
  "language_info": {
   "file_extension": ".jl",
   "mimetype": "application/julia",
   "name": "julia",
   "version": "1.10.0"
  }
 },
 "nbformat": 4,
 "nbformat_minor": 5
}