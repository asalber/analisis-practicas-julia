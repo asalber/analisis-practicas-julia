{
 "cells": [
  {
   "cell_type": "code",
   "execution_count": 1,
   "id": "2fcdcbfd",
   "metadata": {},
   "outputs": [],
   "source": [
    "import IJulia\n",
    "\n",
    "# The julia kernel has built in support for Revise.jl, so this is the \n",
    "# recommended approach for long-running sessions:\n",
    "# https://github.com/JuliaLang/IJulia.jl/blob/9b10fa9b879574bbf720f5285029e07758e50a5e/src/kernel.jl#L46-L51\n",
    "\n",
    "# Users should enable revise within .julia/config/startup_ijulia.jl:\n",
    "# https://timholy.github.io/Revise.jl/stable/config/#Using-Revise-automatically-within-Jupyter/IJulia-1\n",
    "\n",
    "# clear console history\n",
    "IJulia.clear_history()\n",
    "\n",
    "fig_width = 7\n",
    "fig_height = 5\n",
    "fig_format = :retina\n",
    "fig_dpi = 96\n",
    "\n",
    "# no retina format type, use svg for high quality type/marks\n",
    "if fig_format == :retina\n",
    "  fig_format = :svg\n",
    "elseif fig_format == :pdf\n",
    "  fig_dpi = 96\n",
    "  # Enable PDF support for IJulia\n",
    "  IJulia.register_mime(MIME(\"application/pdf\"))\n",
    "end\n",
    "\n",
    "# convert inches to pixels\n",
    "fig_width = fig_width * fig_dpi\n",
    "fig_height = fig_height * fig_dpi\n",
    "\n",
    "# Intialize Plots w/ default fig width/height\n",
    "try\n",
    "  import Plots\n",
    "\n",
    "  # Plots.jl doesn't support PDF output for versions < 1.28.1\n",
    "  # so use png (if the DPI remains the default of 300 then set to 96)\n",
    "  if (Plots._current_plots_version < v\"1.28.1\") & (fig_format == :pdf)\n",
    "    Plots.gr(size=(fig_width, fig_height), fmt = :png, dpi = fig_dpi)\n",
    "  else\n",
    "    Plots.gr(size=(fig_width, fig_height), fmt = fig_format, dpi = fig_dpi)\n",
    "  end\n",
    "catch e\n",
    "  # @warn \"Plots init\" exception=(e, catch_backtrace())\n",
    "end\n",
    "\n",
    "# Initialize CairoMakie with default fig width/height\n",
    "try\n",
    "  import CairoMakie\n",
    "  \n",
    "  CairoMakie.activate!(type = string(fig_format))\n",
    "  CairoMakie.update_theme!(resolution=(fig_width, fig_height))\n",
    "catch e\n",
    "    # @warn \"CairoMakie init\" exception=(e, catch_backtrace())\n",
    "end\n",
    "  \n",
    "# Set run_path if specified\n",
    "try\n",
    "  run_path = raw\"/run/media/alf/datos/misrepositorios/docencia/analisis-practicas-julia\"\n",
    "  if !isempty(run_path)\n",
    "    cd(run_path)\n",
    "  end\n",
    "catch e\n",
    "  @warn \"Run path init:\" exception=(e, catch_backtrace())\n",
    "end\n",
    "\n",
    "\n",
    "# emulate old Pkg.installed beahvior, see\n",
    "# https://discourse.julialang.org/t/how-to-use-pkg-dependencies-instead-of-pkg-installed/36416/9\n",
    "import Pkg\n",
    "function isinstalled(pkg::String)\n",
    "  any(x -> x.name == pkg && x.is_direct_dep, values(Pkg.dependencies()))\n",
    "end\n",
    "\n",
    "# ojs_define\n",
    "if isinstalled(\"JSON\") && isinstalled(\"DataFrames\")\n",
    "  import JSON, DataFrames\n",
    "  global function ojs_define(; kwargs...)\n",
    "    convert(x) = x\n",
    "    convert(x::DataFrames.AbstractDataFrame) = Tables.rows(x)\n",
    "    content = Dict(\"contents\" => [Dict(\"name\" => k, \"value\" => convert(v)) for (k, v) in kwargs])\n",
    "    tag = \"<script type='ojs-define'>$(JSON.json(content))</script>\"\n",
    "    IJulia.display(MIME(\"text/html\"), tag)\n",
    "  end\n",
    "elseif isinstalled(\"JSON\")\n",
    "  import JSON\n",
    "  global function ojs_define(; kwargs...)\n",
    "    content = Dict(\"contents\" => [Dict(\"name\" => k, \"value\" => v) for (k, v) in kwargs])\n",
    "    tag = \"<script type='ojs-define'>$(JSON.json(content))</script>\"\n",
    "    IJulia.display(MIME(\"text/html\"), tag)\n",
    "  end\n",
    "else\n",
    "  global function ojs_define(; kwargs...)\n",
    "    @warn \"JSON package not available. Please install the JSON.jl package to use ojs_define.\"\n",
    "  end\n",
    "end\n",
    "\n",
    "\n",
    "# don't return kernel dependencies (b/c Revise should take care of dependencies)\n",
    "nothing\n"
   ]
  },
  {
   "cell_type": "code",
   "execution_count": 2,
   "id": "5746fd60",
   "metadata": {},
   "outputs": [],
   "source": [
    "using SymPy  # Para el cálculo simbólico de integrales.\n",
    "using QuadGK # Para el cálculo numérico de integrales.\n",
    "using Plots  # Para el dibujo de gráficas.\n",
    "#plotlyjs() # Para obtener gráficos interactivos.\n",
    "using LaTeXStrings  # Para usar código LaTeX en los gráficos."
   ]
  },
  {
   "cell_type": "code",
   "execution_count": 3,
   "id": "fc381660",
   "metadata": {
    "md-indent": "    "
   },
   "outputs": [
    {
     "data": {
      "text/plain": [
       "0.2850000000000001"
      ]
     },
     "execution_count": 29,
     "metadata": {},
     "output_type": "execute_result"
    }
   ],
   "source": [
    "f(x) = x^2\n",
    "Δx = 1/10\n",
    "areas_inf = [f((i-1)*Δx)*Δx for i = 1:10]\n",
    "sum_inf = sum(areas_inf)"
   ]
  },
  {
   "cell_type": "code",
   "execution_count": 4,
   "id": "14de02fc",
   "metadata": {
    "md-indent": "    "
   },
   "outputs": [
    {
     "data": {
      "text/plain": [
       "0.3850000000000001"
      ]
     },
     "execution_count": 30,
     "metadata": {},
     "output_type": "execute_result"
    }
   ],
   "source": [
    "f(x) = x^2\n",
    "Δx = 1/10\n",
    "areas_sup = [f(i*Δx)*Δx for i = 1:10]\n",
    "sum_sup = sum(areas_sup)"
   ]
  },
  {
   "cell_type": "code",
   "execution_count": 5,
   "id": "42d9e5e9",
   "metadata": {
    "md-indent": "    "
   },
   "outputs": [
    {
     "data": {
      "text/plain": [
       "0.10000000000000003"
      ]
     },
     "execution_count": 31,
     "metadata": {},
     "output_type": "execute_result"
    }
   ],
   "source": [
    "error = sum_sup - sum_inf"
   ]
  },
  {
   "cell_type": "code",
   "execution_count": 6,
   "id": "667749c0",
   "metadata": {
    "md-indent": "    "
   },
   "outputs": [
    {
     "name": "stdout",
     "output_type": "stream",
     "text": [
      "┌──────────────┬───────────┐\n",
      "│\u001b[1m Aproximación \u001b[0m│\u001b[1m     Error \u001b[0m│\n",
      "├──────────────┼───────────┤\n",
      "│        0.335 │       0.1 │\n",
      "│     0.334711 │ 0.0909091 │\n",
      "│     0.334491 │ 0.0833333 │\n",
      "│      0.33432 │ 0.0769231 │\n",
      "│     0.334184 │ 0.0714286 │\n",
      "│     0.334074 │ 0.0666667 │\n",
      "│     0.333984 │    0.0625 │\n",
      "│      0.33391 │ 0.0588235 │\n",
      "│     0.333848 │ 0.0555556 │\n",
      "│     0.333795 │ 0.0526316 │\n",
      "│      0.33375 │      0.05 │\n",
      "│     0.333711 │  0.047619 │\n",
      "│     0.333678 │ 0.0454545 │\n",
      "│     0.333648 │ 0.0434783 │\n",
      "│     0.333623 │ 0.0416667 │\n",
      "│       0.3336 │      0.04 │\n",
      "│      0.33358 │ 0.0384615 │\n",
      "│     0.333562 │  0.037037 │\n",
      "│     0.333546 │ 0.0357143 │\n",
      "│     0.333532 │ 0.0344828 │\n",
      "│     0.333519 │ 0.0333333 │\n",
      "│     0.333507 │ 0.0322581 │\n",
      "│     0.333496 │   0.03125 │\n",
      "│     0.333486 │  0.030303 │\n",
      "│     0.333478 │ 0.0294118 │\n",
      "│     0.333469 │ 0.0285714 │\n",
      "│     0.333462 │ 0.0277778 │\n",
      "│     0.333455 │  0.027027 │\n",
      "│     0.333449 │ 0.0263158 │\n",
      "│     0.333443 │  0.025641 │\n",
      "│     0.333438 │     0.025 │\n",
      "│     0.333432 │ 0.0243902 │\n",
      "│     0.333428 │ 0.0238095 │\n",
      "│     0.333423 │ 0.0232558 │\n",
      "│     0.333419 │ 0.0227273 │\n",
      "│     0.333416 │ 0.0222222 │\n",
      "│     0.333412 │ 0.0217391 │\n",
      "│     0.333409 │ 0.0212766 │\n",
      "│     0.333406 │ 0.0208333 │\n",
      "│     0.333403 │ 0.0204082 │\n",
      "│       0.3334 │      0.02 │\n",
      "│     0.333397 │ 0.0196078 │\n",
      "│     0.333395 │ 0.0192308 │\n",
      "│     0.333393 │ 0.0188679 │\n",
      "│      0.33339 │ 0.0185185 │\n",
      "│     0.333388 │ 0.0181818 │\n",
      "│     0.333386 │ 0.0178571 │\n",
      "│     0.333385 │ 0.0175439 │\n",
      "│     0.333383 │ 0.0172414 │\n",
      "│     0.333381 │ 0.0169492 │\n",
      "│      0.33338 │ 0.0166667 │\n",
      "│     0.333378 │ 0.0163934 │\n",
      "│     0.333377 │  0.016129 │\n",
      "│     0.333375 │  0.015873 │\n",
      "│     0.333374 │  0.015625 │\n",
      "│     0.333373 │ 0.0153846 │\n",
      "│     0.333372 │ 0.0151515 │\n",
      "│      0.33337 │ 0.0149254 │\n",
      "│     0.333369 │ 0.0147059 │\n",
      "│     0.333368 │ 0.0144928 │\n",
      "│     0.333367 │ 0.0142857 │\n",
      "│     0.333366 │ 0.0140845 │\n",
      "│     0.333365 │ 0.0138889 │\n",
      "│     0.333365 │ 0.0136986 │\n",
      "│     0.333364 │ 0.0135135 │\n",
      "│     0.333363 │ 0.0133333 │\n",
      "│     0.333362 │ 0.0131579 │\n",
      "│     0.333361 │  0.012987 │\n",
      "│     0.333361 │ 0.0128205 │\n",
      "│      0.33336 │ 0.0126582 │\n",
      "│     0.333359 │    0.0125 │\n",
      "│     0.333359 │ 0.0123457 │\n",
      "│     0.333358 │ 0.0121951 │\n",
      "│     0.333358 │ 0.0120482 │\n",
      "│     0.333357 │ 0.0119048 │\n",
      "│     0.333356 │ 0.0117647 │\n",
      "│     0.333356 │ 0.0116279 │\n",
      "│     0.333355 │ 0.0114943 │\n",
      "│     0.333355 │ 0.0113636 │\n",
      "│     0.333354 │  0.011236 │\n",
      "│     0.333354 │ 0.0111111 │\n",
      "│     0.333353 │  0.010989 │\n",
      "│     0.333353 │ 0.0108696 │\n",
      "│     0.333353 │ 0.0107527 │\n",
      "│     0.333352 │ 0.0106383 │\n",
      "│     0.333352 │ 0.0105263 │\n",
      "│     0.333351 │ 0.0104167 │\n",
      "│     0.333351 │ 0.0103093 │\n",
      "│     0.333351 │ 0.0102041 │\n",
      "│      0.33335 │  0.010101 │\n",
      "│      0.33335 │      0.01 │\n",
      "└──────────────┴───────────┘\n"
     ]
    }
   ],
   "source": [
    "using PrettyTables\n",
    "f(x) = x^2\n",
    "function area_inf(a, b, n)\n",
    "    Δx = (b-a)/n\n",
    "    return sum([f(a+(i-1)*Δx)*Δx for i = 1:n])\n",
    "end\n",
    "\n",
    "function area_sup(a, b, n)\n",
    "    Δx = (b-a)/n\n",
    "    return sum([f(a+i*Δx)*Δx for i = 1:n])\n",
    "end\n",
    "\n",
    "function area(a, b, n)\n",
    "    area = (area_inf(a, b, n) + area_sup(a, b, n)) / 2\n",
    "    error = area_sup(a, b, n) - area_inf(a, b, n)\n",
    "    return area, error\n",
    "end\n",
    "\n",
    "areas = [area(0, 1, n) for n=10:100]\n",
    "pretty_table(hcat(first.(areas), last.(areas)); header = [\"Aproximación\", \"Error\"])"
   ]
  },
  {
   "cell_type": "code",
   "execution_count": 7,
   "id": "4b8900d5",
   "metadata": {
    "md-indent": "    "
   },
   "outputs": [
    {
     "data": {
      "text/latex": [
       "$\\frac{x^{3} \\log{\\left(x \\right)}}{3} - \\frac{x^{3}}{9}$"
      ],
      "text/plain": [
       " 3           3\n",
       "x ⋅log(x)   x \n",
       "───────── - ──\n",
       "    3       9 "
      ]
     },
     "execution_count": 33,
     "metadata": {},
     "output_type": "execute_result"
    }
   ],
   "source": [
    "using SymPy\n",
    "@vars x real=true\n",
    "integrate(x^2*ln(x))"
   ]
  },
  {
   "cell_type": "code",
   "execution_count": 8,
   "id": "8674cf5c",
   "metadata": {
    "md-indent": "    "
   },
   "outputs": [
    {
     "data": {
      "text/latex": [
       "$\\log{\\left(x \\right)} \\log{\\left(\\log{\\left(x \\right)} \\right)} - \\log{\\left(x \\right)}$"
      ],
      "text/plain": [
       "log(x)⋅log(log(x)) - log(x)"
      ]
     },
     "execution_count": 34,
     "metadata": {},
     "output_type": "execute_result"
    }
   ],
   "source": [
    "integrate(ln(ln(x))/x)"
   ]
  },
  {
   "cell_type": "code",
   "execution_count": 9,
   "id": "dfd3d7f3",
   "metadata": {
    "md-indent": "    "
   },
   "outputs": [
    {
     "data": {
      "text/latex": [
       "$- 6 \\log{\\left(x \\right)} + \\frac{9 \\log{\\left(x - 1 \\right)}}{4} + \\frac{5 \\log{\\left(x + 1 \\right)}}{4} + \\frac{5 \\log{\\left(x^{2} + 1 \\right)}}{4} + \\operatorname{atan}{\\left(x \\right)}$"
      ],
      "text/plain": [
       "                                               ⎛ 2    ⎞          \n",
       "            9⋅log(x - 1)   5⋅log(x + 1)   5⋅log⎝x  + 1⎠          \n",
       "-6⋅log(x) + ──────────── + ──────────── + ───────────── + atan(x)\n",
       "                 4              4               4                "
      ]
     },
     "execution_count": 35,
     "metadata": {},
     "output_type": "execute_result"
    }
   ],
   "source": [
    "h(x) = (2x^3+x^2+6)/(x^5-x)\n",
    "# Descomposición en fracciones simples.\n",
    "apart(h(x))\n",
    "integrate(h(x))"
   ]
  },
  {
   "cell_type": "code",
   "execution_count": 10,
   "id": "31c532c5",
   "metadata": {
    "md-indent": "    "
   },
   "outputs": [
    {
     "data": {
      "text/latex": [
       "$\\begin{cases} \\frac{x^{a + 1}}{a + 1} & \\text{for}\\: a \\neq -1 \\\\\\log{\\left(x \\right)} & \\text{otherwise} \\end{cases}$"
      ],
      "text/plain": [
       "⎧ a + 1            \n",
       "⎪x                 \n",
       "⎪──────  for a ≠ -1\n",
       "⎨a + 1             \n",
       "⎪                  \n",
       "⎪log(x)  otherwise \n",
       "⎩                  "
      ]
     },
     "execution_count": 36,
     "metadata": {},
     "output_type": "execute_result"
    }
   ],
   "source": [
    "@vars a real=true\n",
    "integrate(x^a, x)"
   ]
  },
  {
   "cell_type": "code",
   "execution_count": 11,
   "id": "054ec2b7",
   "metadata": {
    "md-indent": "    "
   },
   "outputs": [
    {
     "data": {
      "text/latex": [
       "$\\frac{x \\sqrt{x^{2} \\log{\\left(x \\right)}^{2} + 1} \\log{\\left(x \\right)}}{2} + \\frac{\\operatorname{asinh}{\\left(x \\log{\\left(x \\right)} \\right)}}{2}$"
      ],
      "text/plain": [
       "     ________________                         \n",
       "    ╱  2    2                                 \n",
       "x⋅╲╱  x ⋅log (x) + 1 ⋅log(x)   asinh(x⋅log(x))\n",
       "──────────────────────────── + ───────────────\n",
       "             2                        2       "
      ]
     },
     "execution_count": 37,
     "metadata": {},
     "output_type": "execute_result"
    }
   ],
   "source": [
    "@vars x real=true\n",
    "j(x) = (1 + log(x)) * sqrt(1 + (x*log(x))^2 )\n",
    "# El cálculo directo de la integral no funciona.\n",
    "integrate(j(x))\n",
    "# Ayudamos a SymPy con la sustitución.\n",
    "u(x) = x*log(x)\n",
    "@vars y dy real=true\n",
    "# Definimos la nueva función con el cambio de variable.\n",
    "g(y) = j(x)(u(x) => y, diff(u(x), x) => 1)\n",
    "# Integramos la nueva función y deshacemos el cambio de variable.\n",
    "integrate(g(y))(y => u(x))"
   ]
  },
  {
   "cell_type": "code",
   "execution_count": 12,
   "id": "cc9ba90d",
   "metadata": {
    "md-indent": "    "
   },
   "outputs": [
    {
     "data": {
      "text/latex": [
       "$0.25$"
      ],
      "text/plain": [
       "0.250000000000000"
      ]
     },
     "execution_count": 38,
     "metadata": {},
     "output_type": "execute_result"
    }
   ],
   "source": [
    "using SymPy\n",
    "@vars x real=true\n",
    "integrate(x^3/x^2+x+1, -1/2, 0)"
   ]
  },
  {
   "cell_type": "code",
   "execution_count": 13,
   "id": "72f03b2d",
   "metadata": {
    "md-indent": "    "
   },
   "outputs": [
    {
     "data": {
      "text/latex": [
       "$- 2 \\sqrt{3} + 4 \\operatorname{acosh}{\\left(2 \\right)}$"
      ],
      "text/plain": [
       "-2⋅√3 + 4⋅acosh(2)"
      ]
     },
     "execution_count": 39,
     "metadata": {},
     "output_type": "execute_result"
    }
   ],
   "source": [
    "integrate(sqrt(16-x^2)/x, 2, 4)"
   ]
  },
  {
   "cell_type": "code",
   "execution_count": 14,
   "id": "6300ca67",
   "metadata": {
    "md-indent": "    "
   },
   "outputs": [
    {
     "data": {
      "text/latex": [
       "$\\frac{\\sqrt{2} \\pi}{8}$"
      ],
      "text/plain": [
       "√2⋅π\n",
       "────\n",
       " 8  "
      ]
     },
     "execution_count": 40,
     "metadata": {},
     "output_type": "execute_result"
    }
   ],
   "source": [
    "integrate(1/(3+cos(2x)), 0, PI/2)"
   ]
  },
  {
   "cell_type": "code",
   "execution_count": 15,
   "id": "2f74a12a",
   "metadata": {},
   "outputs": [
    {
     "data": {
      "text/latex": [
       "$\\int_{0}^{1} x^{x}\\, dx$"
      ],
      "text/plain": [
       "1      \n",
       "⌠      \n",
       "⎮  x   \n",
       "⎮ x  dx\n",
       "⌡      \n",
       "0      "
      ]
     },
     "execution_count": 41,
     "metadata": {},
     "output_type": "execute_result"
    }
   ],
   "source": [
    "using SymPy\n",
    "@vars x real=true\n",
    "f(x) = x^x\n",
    "integrate(f(x), 0, 1)"
   ]
  },
  {
   "cell_type": "code",
   "execution_count": 16,
   "id": "f407b342",
   "metadata": {},
   "outputs": [
    {
     "data": {
      "text/plain": [
       "(0.783430510710741, 7.598588099878845e-11)"
      ]
     },
     "execution_count": 42,
     "metadata": {},
     "output_type": "execute_result"
    }
   ],
   "source": [
    "using QuadGK\n",
    "quadgk(f(x), 0, 1, rtol = 10^-10)"
   ]
  },
  {
   "cell_type": "code",
   "execution_count": 17,
   "id": "948ddc04",
   "metadata": {},
   "outputs": [
    {
     "data": {
      "image/svg+xml": [
       "<?xml version=\"1.0\" encoding=\"utf-8\"?>\n",
       "<svg xmlns=\"http://www.w3.org/2000/svg\" xmlns:xlink=\"http://www.w3.org/1999/xlink\" width=\"672\" height=\"480\" viewBox=\"0 0 2688 1920\">\n",
       "<defs>\n",
       "  <clipPath id=\"clip580\">\n",
       "    <rect x=\"0\" y=\"0\" width=\"2688\" height=\"1920\"/>\n",
       "  </clipPath>\n",
       "</defs>\n",
       "<path clip-path=\"url(#clip580)\" d=\"\n",
       "M0 1920 L2688 1920 L2688 0 L0 0  Z\n",
       "  \" fill=\"#ffffff\" fill-rule=\"evenodd\" fill-opacity=\"1\"/>\n",
       "<defs>\n",
       "  <clipPath id=\"clip581\">\n",
       "    <rect x=\"537\" y=\"0\" width=\"1883\" height=\"1883\"/>\n",
       "  </clipPath>\n",
       "</defs>\n",
       "<defs>\n",
       "  <clipPath id=\"clip582\">\n",
       "    <rect x=\"159\" y=\"47\" width=\"2482\" height=\"1755\"/>\n",
       "  </clipPath>\n",
       "</defs>\n",
       "<path clip-path=\"url(#clip580)\" d=\"\n",
       "M196.816 1800.78 L2640.76 1800.78 L2640.76 47.2441 L196.816 47.2441  Z\n",
       "  \" fill=\"#ffffff\" fill-rule=\"evenodd\" fill-opacity=\"1\"/>\n",
       "<defs>\n",
       "  <clipPath id=\"clip583\">\n",
       "    <rect x=\"196\" y=\"47\" width=\"2445\" height=\"1755\"/>\n",
       "  </clipPath>\n",
       "</defs>\n",
       "<polyline clip-path=\"url(#clip583)\" style=\"stroke:#000000; stroke-linecap:round; stroke-linejoin:round; stroke-width:2; stroke-opacity:0.1; fill:none\" points=\"\n",
       "  265.984,1800.78 265.984,47.2441 \n",
       "  \"/>\n",
       "<polyline clip-path=\"url(#clip583)\" style=\"stroke:#000000; stroke-linecap:round; stroke-linejoin:round; stroke-width:2; stroke-opacity:0.1; fill:none\" points=\"\n",
       "  727.105,1800.78 727.105,47.2441 \n",
       "  \"/>\n",
       "<polyline clip-path=\"url(#clip583)\" style=\"stroke:#000000; stroke-linecap:round; stroke-linejoin:round; stroke-width:2; stroke-opacity:0.1; fill:none\" points=\"\n",
       "  1188.23,1800.78 1188.23,47.2441 \n",
       "  \"/>\n",
       "<polyline clip-path=\"url(#clip583)\" style=\"stroke:#000000; stroke-linecap:round; stroke-linejoin:round; stroke-width:2; stroke-opacity:0.1; fill:none\" points=\"\n",
       "  1649.35,1800.78 1649.35,47.2441 \n",
       "  \"/>\n",
       "<polyline clip-path=\"url(#clip583)\" style=\"stroke:#000000; stroke-linecap:round; stroke-linejoin:round; stroke-width:2; stroke-opacity:0.1; fill:none\" points=\"\n",
       "  2110.47,1800.78 2110.47,47.2441 \n",
       "  \"/>\n",
       "<polyline clip-path=\"url(#clip583)\" style=\"stroke:#000000; stroke-linecap:round; stroke-linejoin:round; stroke-width:2; stroke-opacity:0.1; fill:none\" points=\"\n",
       "  2571.59,1800.78 2571.59,47.2441 \n",
       "  \"/>\n",
       "<polyline clip-path=\"url(#clip580)\" style=\"stroke:#000000; stroke-linecap:round; stroke-linejoin:round; stroke-width:4; stroke-opacity:1; fill:none\" points=\"\n",
       "  196.816,1800.78 2640.76,1800.78 \n",
       "  \"/>\n",
       "<polyline clip-path=\"url(#clip580)\" style=\"stroke:#000000; stroke-linecap:round; stroke-linejoin:round; stroke-width:4; stroke-opacity:1; fill:none\" points=\"\n",
       "  265.984,1800.78 265.984,1781.88 \n",
       "  \"/>\n",
       "<polyline clip-path=\"url(#clip580)\" style=\"stroke:#000000; stroke-linecap:round; stroke-linejoin:round; stroke-width:4; stroke-opacity:1; fill:none\" points=\"\n",
       "  727.105,1800.78 727.105,1781.88 \n",
       "  \"/>\n",
       "<polyline clip-path=\"url(#clip580)\" style=\"stroke:#000000; stroke-linecap:round; stroke-linejoin:round; stroke-width:4; stroke-opacity:1; fill:none\" points=\"\n",
       "  1188.23,1800.78 1188.23,1781.88 \n",
       "  \"/>\n",
       "<polyline clip-path=\"url(#clip580)\" style=\"stroke:#000000; stroke-linecap:round; stroke-linejoin:round; stroke-width:4; stroke-opacity:1; fill:none\" points=\"\n",
       "  1649.35,1800.78 1649.35,1781.88 \n",
       "  \"/>\n",
       "<polyline clip-path=\"url(#clip580)\" style=\"stroke:#000000; stroke-linecap:round; stroke-linejoin:round; stroke-width:4; stroke-opacity:1; fill:none\" points=\"\n",
       "  2110.47,1800.78 2110.47,1781.88 \n",
       "  \"/>\n",
       "<polyline clip-path=\"url(#clip580)\" style=\"stroke:#000000; stroke-linecap:round; stroke-linejoin:round; stroke-width:4; stroke-opacity:1; fill:none\" points=\"\n",
       "  2571.59,1800.78 2571.59,1781.88 \n",
       "  \"/>\n",
       "<path clip-path=\"url(#clip580)\" d=\"M260.637 1861.55 L276.956 1861.55 L276.956 1865.48 L255.012 1865.48 L255.012 1861.55 Q257.674 1858.79 262.257 1854.16 Q266.864 1849.51 268.044 1848.17 Q270.29 1845.65 271.169 1843.91 Q272.072 1842.15 272.072 1840.46 Q272.072 1837.71 270.128 1835.97 Q268.206 1834.23 265.104 1834.23 Q262.905 1834.23 260.452 1835 Q258.021 1835.76 255.243 1837.31 L255.243 1832.59 Q258.067 1831.46 260.521 1830.88 Q262.975 1830.3 265.012 1830.3 Q270.382 1830.3 273.577 1832.98 Q276.771 1835.67 276.771 1840.16 Q276.771 1842.29 275.961 1844.21 Q275.174 1846.11 273.067 1848.7 Q272.489 1849.37 269.387 1852.59 Q266.285 1855.78 260.637 1861.55 Z\" fill=\"#000000\" fill-rule=\"evenodd\" fill-opacity=\"1\" /><path clip-path=\"url(#clip580)\" d=\"M731.353 1846.85 Q734.709 1847.57 736.584 1849.84 Q738.482 1852.1 738.482 1855.44 Q738.482 1860.55 734.964 1863.35 Q731.445 1866.15 724.964 1866.15 Q722.788 1866.15 720.473 1865.71 Q718.181 1865.3 715.728 1864.44 L715.728 1859.93 Q717.672 1861.06 719.987 1861.64 Q722.302 1862.22 724.825 1862.22 Q729.223 1862.22 731.515 1860.48 Q733.829 1858.75 733.829 1855.44 Q733.829 1852.38 731.677 1850.67 Q729.547 1848.93 725.728 1848.93 L721.7 1848.93 L721.7 1845.09 L725.913 1845.09 Q729.362 1845.09 731.19 1843.72 Q733.019 1842.34 733.019 1839.74 Q733.019 1837.08 731.121 1835.67 Q729.246 1834.23 725.728 1834.23 Q723.806 1834.23 721.607 1834.65 Q719.408 1835.07 716.769 1835.95 L716.769 1831.78 Q719.431 1831.04 721.746 1830.67 Q724.084 1830.3 726.144 1830.3 Q731.468 1830.3 734.57 1832.73 Q737.672 1835.14 737.672 1839.26 Q737.672 1842.13 736.028 1844.12 Q734.385 1846.09 731.353 1846.85 Z\" fill=\"#000000\" fill-rule=\"evenodd\" fill-opacity=\"1\" /><path clip-path=\"url(#clip580)\" d=\"M1191.23 1835 L1179.43 1853.45 L1191.23 1853.45 L1191.23 1835 M1190.01 1830.92 L1195.89 1830.92 L1195.89 1853.45 L1200.82 1853.45 L1200.82 1857.34 L1195.89 1857.34 L1195.89 1865.48 L1191.23 1865.48 L1191.23 1857.34 L1175.63 1857.34 L1175.63 1852.82 L1190.01 1830.92 Z\" fill=\"#000000\" fill-rule=\"evenodd\" fill-opacity=\"1\" /><path clip-path=\"url(#clip580)\" d=\"M1639.62 1830.92 L1657.98 1830.92 L1657.98 1834.86 L1643.91 1834.86 L1643.91 1843.33 Q1644.93 1842.98 1645.94 1842.82 Q1646.96 1842.64 1647.98 1842.64 Q1653.77 1842.64 1657.15 1845.81 Q1660.53 1848.98 1660.53 1854.4 Q1660.53 1859.97 1657.05 1863.08 Q1653.58 1866.15 1647.26 1866.15 Q1645.09 1866.15 1642.82 1865.78 Q1640.57 1865.41 1638.17 1864.67 L1638.17 1859.97 Q1640.25 1861.11 1642.47 1861.66 Q1644.69 1862.22 1647.17 1862.22 Q1651.18 1862.22 1653.51 1860.11 Q1655.85 1858.01 1655.85 1854.4 Q1655.85 1850.78 1653.51 1848.68 Q1651.18 1846.57 1647.17 1846.57 Q1645.3 1846.57 1643.42 1846.99 Q1641.57 1847.4 1639.62 1848.28 L1639.62 1830.92 Z\" fill=\"#000000\" fill-rule=\"evenodd\" fill-opacity=\"1\" /><path clip-path=\"url(#clip580)\" d=\"M2110.87 1846.34 Q2107.72 1846.34 2105.87 1848.49 Q2104.04 1850.65 2104.04 1854.4 Q2104.04 1858.12 2105.87 1860.3 Q2107.72 1862.45 2110.87 1862.45 Q2114.02 1862.45 2115.85 1860.3 Q2117.7 1858.12 2117.7 1854.4 Q2117.7 1850.65 2115.85 1848.49 Q2114.02 1846.34 2110.87 1846.34 M2120.15 1831.69 L2120.15 1835.95 Q2118.4 1835.11 2116.59 1834.67 Q2114.81 1834.23 2113.05 1834.23 Q2108.42 1834.23 2105.96 1837.36 Q2103.53 1840.48 2103.19 1846.8 Q2104.55 1844.79 2106.61 1843.72 Q2108.67 1842.64 2111.15 1842.64 Q2116.36 1842.64 2119.37 1845.81 Q2122.4 1848.96 2122.4 1854.4 Q2122.4 1859.72 2119.25 1862.94 Q2116.1 1866.15 2110.87 1866.15 Q2104.88 1866.15 2101.71 1861.57 Q2098.53 1856.96 2098.53 1848.24 Q2098.53 1840.04 2102.42 1835.18 Q2106.31 1830.3 2112.86 1830.3 Q2114.62 1830.3 2116.4 1830.65 Q2118.21 1830.99 2120.15 1831.69 Z\" fill=\"#000000\" fill-rule=\"evenodd\" fill-opacity=\"1\" /><path clip-path=\"url(#clip580)\" d=\"M2560.48 1830.92 L2582.7 1830.92 L2582.7 1832.91 L2570.15 1865.48 L2565.27 1865.48 L2577.07 1834.86 L2560.48 1834.86 L2560.48 1830.92 Z\" fill=\"#000000\" fill-rule=\"evenodd\" fill-opacity=\"1\" /><polyline clip-path=\"url(#clip583)\" style=\"stroke:#000000; stroke-linecap:round; stroke-linejoin:round; stroke-width:2; stroke-opacity:0.1; fill:none\" points=\"\n",
       "  196.816,1582.36 2640.76,1582.36 \n",
       "  \"/>\n",
       "<polyline clip-path=\"url(#clip583)\" style=\"stroke:#000000; stroke-linecap:round; stroke-linejoin:round; stroke-width:2; stroke-opacity:0.1; fill:none\" points=\"\n",
       "  196.816,1244.75 2640.76,1244.75 \n",
       "  \"/>\n",
       "<polyline clip-path=\"url(#clip583)\" style=\"stroke:#000000; stroke-linecap:round; stroke-linejoin:round; stroke-width:2; stroke-opacity:0.1; fill:none\" points=\"\n",
       "  196.816,907.138 2640.76,907.138 \n",
       "  \"/>\n",
       "<polyline clip-path=\"url(#clip583)\" style=\"stroke:#000000; stroke-linecap:round; stroke-linejoin:round; stroke-width:2; stroke-opacity:0.1; fill:none\" points=\"\n",
       "  196.816,569.527 2640.76,569.527 \n",
       "  \"/>\n",
       "<polyline clip-path=\"url(#clip583)\" style=\"stroke:#000000; stroke-linecap:round; stroke-linejoin:round; stroke-width:2; stroke-opacity:0.1; fill:none\" points=\"\n",
       "  196.816,231.917 2640.76,231.917 \n",
       "  \"/>\n",
       "<polyline clip-path=\"url(#clip580)\" style=\"stroke:#000000; stroke-linecap:round; stroke-linejoin:round; stroke-width:4; stroke-opacity:1; fill:none\" points=\"\n",
       "  196.816,1800.78 196.816,47.2441 \n",
       "  \"/>\n",
       "<polyline clip-path=\"url(#clip580)\" style=\"stroke:#000000; stroke-linecap:round; stroke-linejoin:round; stroke-width:4; stroke-opacity:1; fill:none\" points=\"\n",
       "  196.816,1582.36 215.714,1582.36 \n",
       "  \"/>\n",
       "<polyline clip-path=\"url(#clip580)\" style=\"stroke:#000000; stroke-linecap:round; stroke-linejoin:round; stroke-width:4; stroke-opacity:1; fill:none\" points=\"\n",
       "  196.816,1244.75 215.714,1244.75 \n",
       "  \"/>\n",
       "<polyline clip-path=\"url(#clip580)\" style=\"stroke:#000000; stroke-linecap:round; stroke-linejoin:round; stroke-width:4; stroke-opacity:1; fill:none\" points=\"\n",
       "  196.816,907.138 215.714,907.138 \n",
       "  \"/>\n",
       "<polyline clip-path=\"url(#clip580)\" style=\"stroke:#000000; stroke-linecap:round; stroke-linejoin:round; stroke-width:4; stroke-opacity:1; fill:none\" points=\"\n",
       "  196.816,569.527 215.714,569.527 \n",
       "  \"/>\n",
       "<polyline clip-path=\"url(#clip580)\" style=\"stroke:#000000; stroke-linecap:round; stroke-linejoin:round; stroke-width:4; stroke-opacity:1; fill:none\" points=\"\n",
       "  196.816,231.917 215.714,231.917 \n",
       "  \"/>\n",
       "<path clip-path=\"url(#clip580)\" d=\"M49.5521 1582.81 L79.2279 1582.81 L79.2279 1586.75 L49.5521 1586.75 L49.5521 1582.81 Z\" fill=\"#000000\" fill-rule=\"evenodd\" fill-opacity=\"1\" /><path clip-path=\"url(#clip580)\" d=\"M89.3667 1565.08 L107.723 1565.08 L107.723 1569.01 L93.6491 1569.01 L93.6491 1577.49 Q94.6676 1577.14 95.6861 1576.98 Q96.7047 1576.79 97.7232 1576.79 Q103.51 1576.79 106.89 1579.96 Q110.269 1583.14 110.269 1588.55 Q110.269 1594.13 106.797 1597.23 Q103.325 1600.31 97.0056 1600.31 Q94.8297 1600.31 92.5612 1599.94 Q90.3158 1599.57 87.9084 1598.83 L87.9084 1594.13 Q89.9917 1595.26 92.2139 1595.82 Q94.4361 1596.38 96.913 1596.38 Q100.918 1596.38 103.256 1594.27 Q105.593 1592.16 105.593 1588.55 Q105.593 1584.94 103.256 1582.83 Q100.918 1580.73 96.913 1580.73 Q95.038 1580.73 93.163 1581.14 Q91.3112 1581.56 89.3667 1582.44 L89.3667 1565.08 Z\" fill=\"#000000\" fill-rule=\"evenodd\" fill-opacity=\"1\" /><path clip-path=\"url(#clip580)\" d=\"M119.482 1593.76 L124.367 1593.76 L124.367 1599.64 L119.482 1599.64 L119.482 1593.76 Z\" fill=\"#000000\" fill-rule=\"evenodd\" fill-opacity=\"1\" /><path clip-path=\"url(#clip580)\" d=\"M144.552 1568.16 Q140.941 1568.16 139.112 1571.72 Q137.306 1575.26 137.306 1582.39 Q137.306 1589.5 139.112 1593.07 Q140.941 1596.61 144.552 1596.61 Q148.186 1596.61 149.991 1593.07 Q151.82 1589.5 151.82 1582.39 Q151.82 1575.26 149.991 1571.72 Q148.186 1568.16 144.552 1568.16 M144.552 1564.45 Q150.362 1564.45 153.417 1569.06 Q156.496 1573.64 156.496 1582.39 Q156.496 1591.12 153.417 1595.73 Q150.362 1600.31 144.552 1600.31 Q138.741 1600.31 135.663 1595.73 Q132.607 1591.12 132.607 1582.39 Q132.607 1573.64 135.663 1569.06 Q138.741 1564.45 144.552 1564.45 Z\" fill=\"#000000\" fill-rule=\"evenodd\" fill-opacity=\"1\" /><path clip-path=\"url(#clip580)\" d=\"M50.5475 1245.2 L80.2233 1245.2 L80.2233 1249.14 L50.5475 1249.14 L50.5475 1245.2 Z\" fill=\"#000000\" fill-rule=\"evenodd\" fill-opacity=\"1\" /><path clip-path=\"url(#clip580)\" d=\"M94.3436 1258.09 L110.663 1258.09 L110.663 1262.03 L88.7186 1262.03 L88.7186 1258.09 Q91.3806 1255.34 95.9639 1250.71 Q100.57 1246.06 101.751 1244.71 Q103.996 1242.19 104.876 1240.45 Q105.779 1238.7 105.779 1237.01 Q105.779 1234.25 103.834 1232.52 Q101.913 1230.78 98.8111 1230.78 Q96.6121 1230.78 94.1584 1231.54 Q91.7278 1232.31 88.9501 1233.86 L88.9501 1229.14 Q91.7741 1228 94.2278 1227.42 Q96.6815 1226.84 98.7185 1226.84 Q104.089 1226.84 107.283 1229.53 Q110.478 1232.21 110.478 1236.7 Q110.478 1238.83 109.668 1240.76 Q108.881 1242.65 106.774 1245.25 Q106.195 1245.92 103.094 1249.14 Q99.9917 1252.33 94.3436 1258.09 Z\" fill=\"#000000\" fill-rule=\"evenodd\" fill-opacity=\"1\" /><path clip-path=\"url(#clip580)\" d=\"M120.478 1256.15 L125.362 1256.15 L125.362 1262.03 L120.478 1262.03 L120.478 1256.15 Z\" fill=\"#000000\" fill-rule=\"evenodd\" fill-opacity=\"1\" /><path clip-path=\"url(#clip580)\" d=\"M135.593 1227.47 L153.95 1227.47 L153.95 1231.4 L139.876 1231.4 L139.876 1239.88 Q140.894 1239.53 141.913 1239.37 Q142.931 1239.18 143.95 1239.18 Q149.737 1239.18 153.116 1242.35 Q156.496 1245.52 156.496 1250.94 Q156.496 1256.52 153.024 1259.62 Q149.552 1262.7 143.232 1262.7 Q141.056 1262.7 138.788 1262.33 Q136.542 1261.96 134.135 1261.22 L134.135 1256.52 Q136.218 1257.65 138.441 1258.21 Q140.663 1258.77 143.14 1258.77 Q147.144 1258.77 149.482 1256.66 Q151.82 1254.55 151.82 1250.94 Q151.82 1247.33 149.482 1245.22 Q147.144 1243.12 143.14 1243.12 Q141.265 1243.12 139.39 1243.53 Q137.538 1243.95 135.593 1244.83 L135.593 1227.47 Z\" fill=\"#000000\" fill-rule=\"evenodd\" fill-opacity=\"1\" /><path clip-path=\"url(#clip580)\" d=\"M99.3204 892.937 Q95.7093 892.937 93.8806 896.502 Q92.075 900.043 92.075 907.173 Q92.075 914.279 93.8806 917.844 Q95.7093 921.386 99.3204 921.386 Q102.955 921.386 104.76 917.844 Q106.589 914.279 106.589 907.173 Q106.589 900.043 104.76 896.502 Q102.955 892.937 99.3204 892.937 M99.3204 889.233 Q105.131 889.233 108.186 893.84 Q111.265 898.423 111.265 907.173 Q111.265 915.9 108.186 920.506 Q105.131 925.089 99.3204 925.089 Q93.5102 925.089 90.4315 920.506 Q87.376 915.9 87.376 907.173 Q87.376 898.423 90.4315 893.84 Q93.5102 889.233 99.3204 889.233 Z\" fill=\"#000000\" fill-rule=\"evenodd\" fill-opacity=\"1\" /><path clip-path=\"url(#clip580)\" d=\"M119.482 918.539 L124.367 918.539 L124.367 924.418 L119.482 924.418 L119.482 918.539 Z\" fill=\"#000000\" fill-rule=\"evenodd\" fill-opacity=\"1\" /><path clip-path=\"url(#clip580)\" d=\"M144.552 892.937 Q140.941 892.937 139.112 896.502 Q137.306 900.043 137.306 907.173 Q137.306 914.279 139.112 917.844 Q140.941 921.386 144.552 921.386 Q148.186 921.386 149.991 917.844 Q151.82 914.279 151.82 907.173 Q151.82 900.043 149.991 896.502 Q148.186 892.937 144.552 892.937 M144.552 889.233 Q150.362 889.233 153.417 893.84 Q156.496 898.423 156.496 907.173 Q156.496 915.9 153.417 920.506 Q150.362 925.089 144.552 925.089 Q138.741 925.089 135.663 920.506 Q132.607 915.9 132.607 907.173 Q132.607 898.423 135.663 893.84 Q138.741 889.233 144.552 889.233 Z\" fill=\"#000000\" fill-rule=\"evenodd\" fill-opacity=\"1\" /><path clip-path=\"url(#clip580)\" d=\"M94.3436 582.872 L110.663 582.872 L110.663 586.807 L88.7186 586.807 L88.7186 582.872 Q91.3806 580.118 95.9639 575.488 Q100.57 570.835 101.751 569.493 Q103.996 566.97 104.876 565.233 Q105.779 563.474 105.779 561.784 Q105.779 559.03 103.834 557.294 Q101.913 555.558 98.8111 555.558 Q96.6121 555.558 94.1584 556.322 Q91.7278 557.085 88.9501 558.636 L88.9501 553.914 Q91.7741 552.78 94.2278 552.201 Q96.6815 551.622 98.7185 551.622 Q104.089 551.622 107.283 554.308 Q110.478 556.993 110.478 561.484 Q110.478 563.613 109.668 565.534 Q108.881 567.433 106.774 570.025 Q106.195 570.696 103.094 573.914 Q99.9917 577.108 94.3436 582.872 Z\" fill=\"#000000\" fill-rule=\"evenodd\" fill-opacity=\"1\" /><path clip-path=\"url(#clip580)\" d=\"M120.478 580.928 L125.362 580.928 L125.362 586.807 L120.478 586.807 L120.478 580.928 Z\" fill=\"#000000\" fill-rule=\"evenodd\" fill-opacity=\"1\" /><path clip-path=\"url(#clip580)\" d=\"M135.593 552.247 L153.95 552.247 L153.95 556.183 L139.876 556.183 L139.876 564.655 Q140.894 564.308 141.913 564.146 Q142.931 563.96 143.95 563.96 Q149.737 563.96 153.116 567.132 Q156.496 570.303 156.496 575.72 Q156.496 581.298 153.024 584.4 Q149.552 587.479 143.232 587.479 Q141.056 587.479 138.788 587.108 Q136.542 586.738 134.135 585.997 L134.135 581.298 Q136.218 582.432 138.441 582.988 Q140.663 583.544 143.14 583.544 Q147.144 583.544 149.482 581.437 Q151.82 579.331 151.82 575.72 Q151.82 572.108 149.482 570.002 Q147.144 567.896 143.14 567.896 Q141.265 567.896 139.39 568.312 Q137.538 568.729 135.593 569.608 L135.593 552.247 Z\" fill=\"#000000\" fill-rule=\"evenodd\" fill-opacity=\"1\" /><path clip-path=\"url(#clip580)\" d=\"M89.3667 214.637 L107.723 214.637 L107.723 218.572 L93.6491 218.572 L93.6491 227.044 Q94.6676 226.697 95.6861 226.535 Q96.7047 226.35 97.7232 226.35 Q103.51 226.35 106.89 229.521 Q110.269 232.692 110.269 238.109 Q110.269 243.688 106.797 246.789 Q103.325 249.868 97.0056 249.868 Q94.8297 249.868 92.5612 249.498 Q90.3158 249.127 87.9084 248.387 L87.9084 243.688 Q89.9917 244.822 92.2139 245.377 Q94.4361 245.933 96.913 245.933 Q100.918 245.933 103.256 243.826 Q105.593 241.72 105.593 238.109 Q105.593 234.498 103.256 232.391 Q100.918 230.285 96.913 230.285 Q95.038 230.285 93.163 230.701 Q91.3112 231.118 89.3667 231.998 L89.3667 214.637 Z\" fill=\"#000000\" fill-rule=\"evenodd\" fill-opacity=\"1\" /><path clip-path=\"url(#clip580)\" d=\"M119.482 243.317 L124.367 243.317 L124.367 249.197 L119.482 249.197 L119.482 243.317 Z\" fill=\"#000000\" fill-rule=\"evenodd\" fill-opacity=\"1\" /><path clip-path=\"url(#clip580)\" d=\"M144.552 217.715 Q140.941 217.715 139.112 221.28 Q137.306 224.822 137.306 231.951 Q137.306 239.058 139.112 242.623 Q140.941 246.164 144.552 246.164 Q148.186 246.164 149.991 242.623 Q151.82 239.058 151.82 231.951 Q151.82 224.822 149.991 221.28 Q148.186 217.715 144.552 217.715 M144.552 214.012 Q150.362 214.012 153.417 218.618 Q156.496 223.202 156.496 231.951 Q156.496 240.678 153.417 245.285 Q150.362 249.868 144.552 249.868 Q138.741 249.868 135.663 245.285 Q132.607 240.678 132.607 231.951 Q132.607 223.202 135.663 218.618 Q138.741 214.012 144.552 214.012 Z\" fill=\"#000000\" fill-rule=\"evenodd\" fill-opacity=\"1\" /><path clip-path=\"url(#clip583)\" d=\"\n",
       "M265.984 1447.32 L269.737 1450.6 L273.489 1453.87 L277.242 1457.13 L280.995 1460.36 L315.694 1489.42 L350.393 1516.95 L385.092 1542.95 L419.791 1567.42 L461.496 1594.81 \n",
       "  L503.201 1619.99 L538.463 1639.56 L573.724 1657.54 L612.028 1675.29 L650.331 1691.18 L685.644 1704.17 L720.956 1715.58 L758.815 1726.05 L796.674 1734.7 L840.537 1742.45 \n",
       "  L884.4 1747.76 L923.381 1750.42 L962.361 1751.15 L996.543 1750.2 L1030.73 1747.77 L1067.99 1743.43 L1105.26 1737.33 L1142.75 1729.41 L1180.24 1719.7 L1221.69 1706.89 \n",
       "  L1263.14 1691.9 L1302.58 1675.61 L1342.01 1657.34 L1383.02 1636.26 L1424.03 1613.03 L1458.55 1591.83 L1493.06 1569.11 L1535.21 1539.32 L1577.35 1507.28 L1615.96 1475.94 \n",
       "  L1654.56 1442.71 L1690.22 1410.34 L1725.87 1376.36 L1761.99 1340.29 L1798.11 1302.56 L1838.59 1258.31 L1879.07 1211.97 L1915.75 1168.19 L1952.43 1122.7 L1994.42 1068.51 \n",
       "  L2036.42 1012.09 L2075.3 957.846 L2114.19 901.685 L2152.52 844.435 L2190.86 785.32 L2228.08 726.137 L2265.3 665.195 L2303.45 600.895 L2341.61 534.745 L2383.41 460.148 \n",
       "  L2425.22 383.33 L2485.94 267.786 L2546.67 147.558 L2559.13 122.314 L2571.59 96.8724 L2571.59 907.138 L2559.13 907.138 L2546.67 907.138 L2485.94 907.138 L2425.22 907.138 \n",
       "  L2383.41 907.138 L2341.61 907.138 L2303.45 907.138 L2265.3 907.138 L2228.08 907.138 L2190.86 907.138 L2152.52 907.138 L2114.19 907.138 L2075.3 907.138 L2036.42 907.138 \n",
       "  L1994.42 907.138 L1952.43 907.138 L1915.75 907.138 L1879.07 907.138 L1838.59 907.138 L1798.11 907.138 L1761.99 907.138 L1725.87 907.138 L1690.22 907.138 L1654.56 907.138 \n",
       "  L1615.96 907.138 L1577.35 907.138 L1535.21 907.138 L1493.06 907.138 L1458.55 907.138 L1424.03 907.138 L1383.02 907.138 L1342.01 907.138 L1302.58 907.138 L1263.14 907.138 \n",
       "  L1221.69 907.138 L1180.24 907.138 L1142.75 907.138 L1105.26 907.138 L1067.99 907.138 L1030.73 907.138 L996.543 907.138 L962.361 907.138 L923.381 907.138 L884.4 907.138 \n",
       "  L840.537 907.138 L796.674 907.138 L758.815 907.138 L720.956 907.138 L685.644 907.138 L650.331 907.138 L612.028 907.138 L573.724 907.138 L538.463 907.138 L503.201 907.138 \n",
       "  L461.496 907.138 L419.791 907.138 L385.092 907.138 L350.393 907.138 L315.694 907.138 L280.995 907.138 L277.242 907.138 L273.489 907.138 L269.737 907.138 L265.984 907.138 \n",
       "   Z\n",
       "  \" fill=\"#009af9\" fill-rule=\"evenodd\" fill-opacity=\"0.3\"/>\n",
       "<polyline clip-path=\"url(#clip583)\" style=\"stroke:#009af9; stroke-linecap:round; stroke-linejoin:round; stroke-width:4; stroke-opacity:1; fill:none\" points=\"\n",
       "  265.984,1447.32 269.737,1450.6 273.489,1453.87 277.242,1457.13 280.995,1460.36 315.694,1489.42 350.393,1516.95 385.092,1542.95 419.791,1567.42 461.496,1594.81 \n",
       "  503.201,1619.99 538.463,1639.56 573.724,1657.54 612.028,1675.29 650.331,1691.18 685.644,1704.17 720.956,1715.58 758.815,1726.05 796.674,1734.7 840.537,1742.45 \n",
       "  884.4,1747.76 923.381,1750.42 962.361,1751.15 996.543,1750.2 1030.73,1747.77 1067.99,1743.43 1105.26,1737.33 1142.75,1729.41 1180.24,1719.7 1221.69,1706.89 \n",
       "  1263.14,1691.9 1302.58,1675.61 1342.01,1657.34 1383.02,1636.26 1424.03,1613.03 1458.55,1591.83 1493.06,1569.11 1535.21,1539.32 1577.35,1507.28 1615.96,1475.94 \n",
       "  1654.56,1442.71 1690.22,1410.34 1725.87,1376.36 1761.99,1340.29 1798.11,1302.56 1838.59,1258.31 1879.07,1211.97 1915.75,1168.19 1952.43,1122.7 1994.42,1068.51 \n",
       "  2036.42,1012.09 2075.3,957.846 2114.19,901.685 2152.52,844.435 2190.86,785.32 2228.08,726.137 2265.3,665.195 2303.45,600.895 2341.61,534.745 2383.41,460.148 \n",
       "  2425.22,383.33 2485.94,267.786 2546.67,147.558 2559.13,122.314 2571.59,96.8724 \n",
       "  \"/>\n",
       "<path clip-path=\"url(#clip580)\" d=\"\n",
       "M278.281 209.375 L925.812 209.375 L925.812 105.695 L278.281 105.695  Z\n",
       "  \" fill=\"#ffffff\" fill-rule=\"evenodd\" fill-opacity=\"1\"/>\n",
       "<polyline clip-path=\"url(#clip580)\" style=\"stroke:#000000; stroke-linecap:round; stroke-linejoin:round; stroke-width:4; stroke-opacity:1; fill:none\" points=\"\n",
       "  278.281,209.375 925.812,209.375 925.812,105.695 278.281,105.695 278.281,209.375 \n",
       "  \"/>\n",
       "<path clip-path=\"url(#clip580)\" d=\"\n",
       "M305.436 178.271 L468.365 178.271 L468.365 136.799 L305.436 136.799 L305.436 178.271  Z\n",
       "  \" fill=\"#009af9\" fill-rule=\"evenodd\" fill-opacity=\"0.3\"/>\n",
       "<polyline clip-path=\"url(#clip580)\" style=\"stroke:#009af9; stroke-linecap:round; stroke-linejoin:round; stroke-width:4; stroke-opacity:1; fill:none\" points=\"\n",
       "  305.436,136.799 468.365,136.799 \n",
       "  \"/>\n",
       "<path clip-path=\"url(#clip580)\" d=\"M519.434 139.326 Q519.434 140.615 518.614 141.411 Q517.818 142.207 516.811 142.207 Q516.085 142.207 515.546 141.762 Q515.031 141.317 515.031 140.544 Q515.031 139.748 515.64 138.905 Q516.249 138.062 517.631 137.944 Q516.717 137.078 515.265 137.078 Q514.539 137.078 513.93 137.546 Q513.344 137.991 513.016 138.717 Q512.665 139.467 511.869 143.706 Q511.611 145.088 511.377 146.423 Q511.143 147.758 510.861 149.164 L514.843 149.164 Q515.359 149.164 515.569 149.187 Q515.78 149.211 515.944 149.328 Q516.132 149.445 516.132 149.703 Q516.132 150.358 515.827 150.522 Q515.546 150.663 514.703 150.663 L510.58 150.663 L507.699 165.864 Q507.629 166.309 507.325 167.714 Q507.044 169.096 506.364 171.368 Q505.685 173.664 505.006 175.022 Q504.631 175.795 504.139 176.521 Q503.671 177.271 502.992 178.02 Q502.312 178.77 501.422 179.215 Q500.532 179.683 499.595 179.683 Q498.003 179.683 496.761 178.793 Q495.52 177.903 495.52 176.381 Q495.52 175.092 496.316 174.296 Q497.136 173.5 498.143 173.5 Q498.869 173.5 499.384 173.945 Q499.923 174.39 499.923 175.163 Q499.923 175.491 499.806 175.865 Q499.689 176.24 499.431 176.662 Q499.174 177.107 498.612 177.411 Q498.049 177.716 497.276 177.763 Q498.19 178.629 499.595 178.629 Q500.04 178.629 500.438 178.442 Q500.837 178.278 501.165 177.856 Q501.516 177.435 501.774 177.013 Q502.031 176.615 502.289 175.842 Q502.546 175.092 502.71 174.53 Q502.874 173.968 503.085 172.961 Q503.319 171.954 503.437 171.345 Q503.554 170.759 503.764 169.612 L507.348 150.663 L504.186 150.663 Q503.624 150.663 503.39 150.639 Q503.179 150.616 503.015 150.499 Q502.851 150.358 502.851 150.077 Q502.851 149.632 503.038 149.445 Q503.249 149.234 503.483 149.211 Q503.718 149.164 504.28 149.164 L507.606 149.164 Q508.73 143.238 509.175 141.645 Q509.69 139.959 510.487 138.788 Q511.283 137.593 512.173 137.031 Q513.063 136.469 513.789 136.258 Q514.539 136.024 515.265 136.024 Q516.904 136.024 518.169 136.914 Q519.434 137.78 519.434 139.326 Z\" fill=\"#000000\" fill-rule=\"evenodd\" fill-opacity=\"1\" /><path clip-path=\"url(#clip580)\" d=\"M525.893 157.854 Q525.893 149.749 528.914 143.214 Q530.203 140.474 532.006 138.179 Q533.81 135.883 535.004 134.876 Q536.199 133.869 536.527 133.869 Q536.995 133.869 537.018 134.337 Q537.018 134.572 536.386 135.157 Q528.657 143.027 528.68 157.854 Q528.68 172.727 536.199 180.292 Q537.018 181.112 537.018 181.37 Q537.018 181.838 536.527 181.838 Q536.199 181.838 535.051 180.878 Q533.903 179.917 532.123 177.716 Q530.343 175.514 529.055 172.82 Q525.893 166.286 525.893 157.854 Z\" fill=\"#000000\" fill-rule=\"evenodd\" fill-opacity=\"1\" /><path clip-path=\"url(#clip580)\" d=\"M564.556 151.811 Q564.556 153.122 563.736 153.872 Q562.917 154.598 561.98 154.598 Q561.09 154.598 560.621 154.083 Q560.153 153.567 560.153 152.911 Q560.153 152.021 560.808 151.248 Q561.464 150.475 562.448 150.311 Q561.488 149.703 560.059 149.703 Q559.122 149.703 558.302 150.194 Q557.506 150.686 557.014 151.319 Q556.546 151.951 556.124 152.865 Q555.726 153.755 555.562 154.293 Q555.421 154.809 555.304 155.371 L553.665 161.929 Q552.868 165.044 552.868 166.145 Q552.868 167.504 553.524 168.417 Q554.18 169.307 555.492 169.307 Q556.007 169.307 556.592 169.167 Q557.178 169.003 557.928 168.581 Q558.7 168.136 559.38 167.48 Q560.082 166.801 560.762 165.653 Q561.441 164.506 561.886 163.03 Q562.026 162.515 562.495 162.515 Q563.08 162.515 563.08 162.983 Q563.08 163.381 562.753 164.224 Q562.448 165.044 561.769 166.122 Q561.113 167.176 560.246 168.136 Q559.38 169.073 558.091 169.729 Q556.803 170.385 555.398 170.385 Q553.384 170.385 552.048 169.307 Q550.713 168.23 550.222 166.731 Q550.104 166.941 549.94 167.223 Q549.777 167.504 549.285 168.136 Q548.816 168.745 548.277 169.213 Q547.739 169.658 546.896 170.01 Q546.076 170.385 545.186 170.385 Q544.061 170.385 543.054 170.057 Q542.071 169.729 541.368 168.979 Q540.665 168.23 540.665 167.199 Q540.665 166.051 541.438 165.255 Q542.234 164.435 543.312 164.435 Q543.991 164.435 544.53 164.833 Q545.092 165.232 545.092 166.098 Q545.092 167.059 544.436 167.785 Q543.78 168.511 542.843 168.698 Q543.804 169.307 545.233 169.307 Q546.778 169.307 547.996 167.949 Q549.214 166.59 549.8 164.318 Q551.252 158.861 551.814 156.425 Q552.376 153.965 552.376 152.911 Q552.376 151.928 552.119 151.248 Q551.861 150.569 551.416 150.265 Q550.994 149.937 550.596 149.82 Q550.222 149.703 549.8 149.703 Q549.097 149.703 548.301 149.984 Q547.528 150.265 546.591 150.92 Q545.678 151.553 544.811 152.865 Q543.944 154.176 543.359 155.98 Q543.242 156.518 542.726 156.518 Q542.164 156.495 542.164 156.027 Q542.164 155.628 542.469 154.809 Q542.797 153.965 543.452 152.911 Q544.132 151.857 544.998 150.92 Q545.888 149.96 547.177 149.304 Q548.488 148.649 549.894 148.649 Q550.526 148.649 551.135 148.789 Q551.767 148.906 552.517 149.257 Q553.29 149.609 553.969 150.382 Q554.648 151.155 555.07 152.279 Q555.351 151.74 555.726 151.225 Q556.124 150.71 556.733 150.077 Q557.365 149.421 558.232 149.047 Q559.122 148.649 560.106 148.649 Q561.066 148.649 562.003 148.906 Q562.94 149.14 563.736 149.913 Q564.556 150.663 564.556 151.811 Z\" fill=\"#000000\" fill-rule=\"evenodd\" fill-opacity=\"1\" /><path clip-path=\"url(#clip580)\" d=\"M569.176 181.37 Q569.176 181.135 569.785 180.55 Q577.514 172.68 577.514 157.854 Q577.514 142.98 570.089 135.462 Q569.176 134.595 569.176 134.337 Q569.176 133.869 569.644 133.869 Q569.972 133.869 571.12 134.829 Q572.291 135.79 574.048 137.991 Q575.828 140.193 577.139 142.887 Q580.301 149.421 580.301 157.854 Q580.301 165.958 577.28 172.493 Q575.992 175.233 574.188 177.528 Q572.385 179.824 571.19 180.831 Q569.996 181.838 569.644 181.838 Q569.176 181.838 569.176 181.37 Z\" fill=\"#000000\" fill-rule=\"evenodd\" fill-opacity=\"1\" /><path clip-path=\"url(#clip580)\" d=\"M600.908 162.561 Q600.954 161.976 601.868 161.976 L631.263 161.976 Q632.645 161.976 632.668 162.515 Q632.668 163.1 631.357 163.077 L602.196 163.077 Q600.908 163.1 600.908 162.561 M600.908 153.192 Q600.908 152.607 601.915 152.63 L631.216 152.63 Q632.645 152.63 632.668 153.192 Q632.668 153.731 631.45 153.731 L601.868 153.731 Q600.908 153.731 600.908 153.192 Z\" fill=\"#000000\" fill-rule=\"evenodd\" fill-opacity=\"1\" /><path clip-path=\"url(#clip580)\" d=\"M675.067 151.811 Q675.067 153.122 674.247 153.872 Q673.427 154.598 672.49 154.598 Q671.6 154.598 671.132 154.083 Q670.663 153.567 670.663 152.911 Q670.663 152.021 671.319 151.248 Q671.975 150.475 672.959 150.311 Q671.998 149.703 670.569 149.703 Q669.633 149.703 668.813 150.194 Q668.016 150.686 667.525 151.319 Q667.056 151.951 666.634 152.865 Q666.236 153.755 666.072 154.293 Q665.932 154.809 665.815 155.371 L664.175 161.929 Q663.379 165.044 663.379 166.145 Q663.379 167.504 664.035 168.417 Q664.69 169.307 666.002 169.307 Q666.517 169.307 667.103 169.167 Q667.688 169.003 668.438 168.581 Q669.211 168.136 669.89 167.48 Q670.593 166.801 671.272 165.653 Q671.951 164.506 672.396 163.03 Q672.537 162.515 673.005 162.515 Q673.591 162.515 673.591 162.983 Q673.591 163.381 673.263 164.224 Q672.959 165.044 672.279 166.122 Q671.623 167.176 670.757 168.136 Q669.89 169.073 668.602 169.729 Q667.314 170.385 665.908 170.385 Q663.894 170.385 662.559 169.307 Q661.224 168.23 660.732 166.731 Q660.615 166.941 660.451 167.223 Q660.287 167.504 659.795 168.136 Q659.327 168.745 658.788 169.213 Q658.249 169.658 657.406 170.01 Q656.586 170.385 655.696 170.385 Q654.572 170.385 653.565 170.057 Q652.581 169.729 651.878 168.979 Q651.176 168.23 651.176 167.199 Q651.176 166.051 651.949 165.255 Q652.745 164.435 653.822 164.435 Q654.502 164.435 655.04 164.833 Q655.603 165.232 655.603 166.098 Q655.603 167.059 654.947 167.785 Q654.291 168.511 653.354 168.698 Q654.314 169.307 655.743 169.307 Q657.289 169.307 658.507 167.949 Q659.725 166.59 660.31 164.318 Q661.763 158.861 662.325 156.425 Q662.887 153.965 662.887 152.911 Q662.887 151.928 662.629 151.248 Q662.372 150.569 661.927 150.265 Q661.505 149.937 661.107 149.82 Q660.732 149.703 660.31 149.703 Q659.608 149.703 658.811 149.984 Q658.038 150.265 657.102 150.92 Q656.188 151.553 655.321 152.865 Q654.455 154.176 653.869 155.98 Q653.752 156.518 653.237 156.518 Q652.675 156.495 652.675 156.027 Q652.675 155.628 652.979 154.809 Q653.307 153.965 653.963 152.911 Q654.642 151.857 655.509 150.92 Q656.399 149.96 657.687 149.304 Q658.999 148.649 660.404 148.649 Q661.037 148.649 661.645 148.789 Q662.278 148.906 663.027 149.257 Q663.8 149.609 664.48 150.382 Q665.159 151.155 665.58 152.279 Q665.862 151.74 666.236 151.225 Q666.634 150.71 667.243 150.077 Q667.876 149.421 668.742 149.047 Q669.633 148.649 670.616 148.649 Q671.577 148.649 672.514 148.906 Q673.45 149.14 674.247 149.913 Q675.067 150.663 675.067 151.811 Z\" fill=\"#000000\" fill-rule=\"evenodd\" fill-opacity=\"1\" /><path clip-path=\"url(#clip580)\" d=\"M679.956 155.49 Q679.956 154.884 680.005 154.703 Q680.07 154.523 680.333 154.244 L686.776 147.063 Q690.301 143.095 690.301 139.636 Q690.301 137.389 689.121 135.783 Q687.957 134.176 685.809 134.176 Q684.333 134.176 683.087 135.078 Q681.841 135.979 681.267 137.586 Q681.366 137.553 681.71 137.553 Q682.546 137.553 683.005 138.078 Q683.481 138.603 683.481 139.308 Q683.481 140.209 682.89 140.652 Q682.317 141.078 681.743 141.078 Q681.513 141.078 681.202 141.029 Q680.907 140.98 680.431 140.521 Q679.956 140.045 679.956 139.209 Q679.956 136.865 681.726 134.996 Q683.514 133.126 686.235 133.126 Q689.318 133.126 691.334 134.963 Q693.367 136.783 693.367 139.636 Q693.367 140.636 693.056 141.554 Q692.761 142.456 692.351 143.161 Q691.957 143.866 690.875 144.997 Q689.793 146.128 688.924 146.932 Q688.055 147.735 686.104 149.44 L682.546 152.9 L688.596 152.9 Q691.547 152.9 691.777 152.637 Q692.105 152.162 692.515 149.653 L693.367 149.653 L692.416 155.49 L679.956 155.49 Z\" fill=\"#000000\" fill-rule=\"evenodd\" fill-opacity=\"1\" /><path clip-path=\"url(#clip580)\" d=\"M743.333 157.174 Q743.614 157.455 743.614 157.854 Q743.614 158.252 743.333 158.533 Q743.052 158.814 742.654 158.814 L712.626 158.814 Q712.228 158.814 711.947 158.533 Q711.666 158.252 711.666 157.854 Q711.666 157.455 711.947 157.174 Q712.228 156.893 712.626 156.893 L742.654 156.893 Q743.052 156.893 743.333 157.174 Z\" fill=\"#000000\" fill-rule=\"evenodd\" fill-opacity=\"1\" /><path clip-path=\"url(#clip580)\" d=\"M761.934 147.29 L763.504 137.429 L764.698 137.429 Q764.839 138.015 765.073 138.272 Q765.33 138.53 766.689 138.741 Q768.071 138.952 770.858 138.952 L782.499 138.952 Q782.499 140.052 782.078 140.638 L775.589 149.749 Q773.528 152.63 772.615 157.947 Q772.076 161.507 772.1 165.817 L772.1 168.253 Q772.1 170.9 769.874 170.9 Q767.673 170.9 767.673 168.253 Q767.673 159.095 773.575 150.218 Q774.208 149.304 776.526 146.049 Q778.869 142.793 778.962 142.652 L769.031 142.652 Q764.675 142.652 764.323 142.933 Q763.855 143.355 763.129 147.29 L761.934 147.29 Z\" fill=\"#000000\" fill-rule=\"evenodd\" fill-opacity=\"1\" /><path clip-path=\"url(#clip580)\" d=\"M808.045 151.811 Q808.045 153.122 807.226 153.872 Q806.406 154.598 805.469 154.598 Q804.579 154.598 804.11 154.083 Q803.642 153.567 803.642 152.911 Q803.642 152.021 804.298 151.248 Q804.954 150.475 805.937 150.311 Q804.977 149.703 803.548 149.703 Q802.611 149.703 801.792 150.194 Q800.995 150.686 800.503 151.319 Q800.035 151.951 799.613 152.865 Q799.215 153.755 799.051 154.293 Q798.911 154.809 798.793 155.371 L797.154 161.929 Q796.358 165.044 796.358 166.145 Q796.358 167.504 797.013 168.417 Q797.669 169.307 798.981 169.307 Q799.496 169.307 800.082 169.167 Q800.667 169.003 801.417 168.581 Q802.19 168.136 802.869 167.48 Q803.572 166.801 804.251 165.653 Q804.93 164.506 805.375 163.03 Q805.516 162.515 805.984 162.515 Q806.57 162.515 806.57 162.983 Q806.57 163.381 806.242 164.224 Q805.937 165.044 805.258 166.122 Q804.602 167.176 803.736 168.136 Q802.869 169.073 801.581 169.729 Q800.293 170.385 798.887 170.385 Q796.873 170.385 795.538 169.307 Q794.203 168.23 793.711 166.731 Q793.594 166.941 793.43 167.223 Q793.266 167.504 792.774 168.136 Q792.305 168.745 791.767 169.213 Q791.228 169.658 790.385 170.01 Q789.565 170.385 788.675 170.385 Q787.551 170.385 786.544 170.057 Q785.56 169.729 784.857 168.979 Q784.154 168.23 784.154 167.199 Q784.154 166.051 784.927 165.255 Q785.724 164.435 786.801 164.435 Q787.48 164.435 788.019 164.833 Q788.581 165.232 788.581 166.098 Q788.581 167.059 787.925 167.785 Q787.27 168.511 786.333 168.698 Q787.293 169.307 788.722 169.307 Q790.268 169.307 791.486 167.949 Q792.704 166.59 793.289 164.318 Q794.741 158.861 795.304 156.425 Q795.866 153.965 795.866 152.911 Q795.866 151.928 795.608 151.248 Q795.35 150.569 794.905 150.265 Q794.484 149.937 794.086 149.82 Q793.711 149.703 793.289 149.703 Q792.587 149.703 791.79 149.984 Q791.017 150.265 790.08 150.92 Q789.167 151.553 788.3 152.865 Q787.434 154.176 786.848 155.98 Q786.731 156.518 786.216 156.518 Q785.653 156.495 785.653 156.027 Q785.653 155.628 785.958 154.809 Q786.286 153.965 786.942 152.911 Q787.621 151.857 788.488 150.92 Q789.378 149.96 790.666 149.304 Q791.978 148.649 793.383 148.649 Q794.015 148.649 794.624 148.789 Q795.257 148.906 796.006 149.257 Q796.779 149.609 797.458 150.382 Q798.138 151.155 798.559 152.279 Q798.84 151.74 799.215 151.225 Q799.613 150.71 800.222 150.077 Q800.855 149.421 801.721 149.047 Q802.611 148.649 803.595 148.649 Q804.555 148.649 805.492 148.906 Q806.429 149.14 807.226 149.913 Q808.045 150.663 808.045 151.811 Z\" fill=\"#000000\" fill-rule=\"evenodd\" fill-opacity=\"1\" /><path clip-path=\"url(#clip580)\" d=\"M825.733 158.439 Q824.632 158.439 824.632 157.854 Q824.632 157.268 825.78 157.268 Q825.921 157.268 826.155 157.291 Q826.413 157.315 826.459 157.315 L839.974 157.315 L839.974 143.753 Q839.974 143.706 839.951 143.496 Q839.927 143.261 839.927 143.121 Q839.927 141.973 840.489 141.973 Q841.075 141.973 841.075 143.121 L841.075 157.315 L854.613 157.315 Q854.66 157.315 854.894 157.291 Q855.128 157.268 855.269 157.268 Q856.37 157.268 856.37 157.854 Q856.393 158.439 855.222 158.439 Q855.082 158.439 854.871 158.416 Q854.66 158.392 854.613 158.392 L841.075 158.392 L841.075 172.633 Q841.075 173.734 840.489 173.734 Q839.927 173.734 839.927 172.586 Q839.927 172.446 839.951 172.211 Q839.974 172.001 839.974 171.954 L839.974 158.392 L826.459 158.392 Q826.413 158.392 826.131 158.416 Q825.874 158.439 825.733 158.439 Z\" fill=\"#000000\" fill-rule=\"evenodd\" fill-opacity=\"1\" /><path clip-path=\"url(#clip580)\" d=\"M874.901 154.691 Q874.901 147.149 878.742 142.535 Q882.583 137.898 887.525 137.898 Q890.406 137.898 891.999 139.373 Q893.615 140.825 893.615 143.074 Q893.615 144.315 892.889 144.854 Q892.163 145.393 891.413 145.393 Q890.547 145.393 889.867 144.807 Q889.188 144.222 889.188 143.168 Q889.188 141.013 891.835 141.013 Q890.594 139.092 887.619 139.092 Q886.705 139.092 885.769 139.373 Q884.832 139.631 883.614 140.521 Q882.396 141.411 881.459 142.816 Q880.522 144.222 879.866 146.868 Q879.21 149.515 879.21 152.958 L879.21 154.106 Q881.178 149.351 885.206 149.375 Q889.235 149.375 892.022 152.443 Q894.81 155.511 894.81 160.055 Q894.81 164.716 891.905 167.808 Q889.001 170.9 884.925 170.9 Q883.098 170.9 881.435 170.127 Q879.796 169.377 878.25 167.644 Q876.728 165.911 875.814 162.585 Q874.901 159.259 874.901 154.691 M879.304 159.001 Q879.304 163.709 880.171 165.958 Q880.311 166.332 880.616 166.848 Q880.944 167.363 881.482 168.042 Q882.044 168.698 882.958 169.143 Q883.871 169.565 884.925 169.565 Q888.134 169.565 889.68 166.45 Q890.5 164.716 890.5 160.008 Q890.5 155.207 889.633 153.45 Q888.158 150.475 885.16 150.475 Q883.145 150.475 881.74 151.857 Q880.358 153.239 879.819 155.09 Q879.304 156.94 879.304 159.001 Z\" fill=\"#000000\" fill-rule=\"evenodd\" fill-opacity=\"1\" /></svg>\n"
      ]
     },
     "execution_count": 43,
     "metadata": {},
     "output_type": "execute_result"
    }
   ],
   "source": [
    "using Plots, SymPy, LaTeXStrings\n",
    "@vars x real = true\n",
    "f(x) = x^2-7x+6\n",
    "plot(f, 2, 7, fillrange = 0, fillalpha = 0.3, label = L\"$f(x)=x^2-7x+6$\")"
   ]
  },
  {
   "cell_type": "code",
   "execution_count": 18,
   "id": "131ce2a6",
   "metadata": {},
   "outputs": [
    {
     "data": {
      "text/latex": [
       "$\\frac{43}{2}$"
      ],
      "text/plain": [
       "43/2"
      ]
     },
     "execution_count": 44,
     "metadata": {},
     "output_type": "execute_result"
    }
   ],
   "source": [
    "# Calculamos primero las raíces de la función\n",
    "solve(f(x))\n",
    "# Descomponemos el intervalo de integración en los subintervalos [2,6] (función negativa) y [6,7] (función positiva) y calculamos las integrales por separado\n",
    "-integrate(f, 2, 6) + integrate(f, 6, 7)"
   ]
  },
  {
   "cell_type": "code",
   "execution_count": 19,
   "id": "e9c17dd3",
   "metadata": {},
   "outputs": [
    {
     "data": {
      "text/latex": [
       "$\\frac{43}{2}$"
      ],
      "text/plain": [
       "43/2"
      ]
     },
     "execution_count": 45,
     "metadata": {},
     "output_type": "execute_result"
    }
   ],
   "source": [
    "integrate(abs(f(x)), 2, 7)"
   ]
  },
  {
   "cell_type": "code",
   "execution_count": 20,
   "id": "461e1e9d",
   "metadata": {},
   "outputs": [
    {
     "data": {
      "text/latex": [
       "$\\frac{64}{3}$"
      ],
      "text/plain": [
       "64/3"
      ]
     },
     "execution_count": 46,
     "metadata": {},
     "output_type": "execute_result"
    }
   ],
   "source": [
    "using Plots, SymPy, LaTeXStrings\n",
    "@vars x real = true\n",
    "f(x) = -x^2+6x\n",
    "g(x) = x^2-2x\n",
    "# Calculamos primero los puntos de corte de la función.\n",
    "raices = solve(f(x)-g(x))\n",
    "# Descomponemos el intervalo de integración en los subintervalos [2,6] (función negativa) y [6,7] (función positiva) y calculamos las integrales por separado\n",
    "sol = integrate(f(x)-g(x), raices[1], raices[2])"
   ]
  },
  {
   "cell_type": "code",
   "execution_count": 21,
   "id": "01120a54",
   "metadata": {},
   "outputs": [
    {
     "data": {
      "image/svg+xml": [
       "<?xml version=\"1.0\" encoding=\"utf-8\"?>\n",
       "<svg xmlns=\"http://www.w3.org/2000/svg\" xmlns:xlink=\"http://www.w3.org/1999/xlink\" width=\"672\" height=\"480\" viewBox=\"0 0 2688 1920\">\n",
       "<defs>\n",
       "  <clipPath id=\"clip620\">\n",
       "    <rect x=\"0\" y=\"0\" width=\"2688\" height=\"1920\"/>\n",
       "  </clipPath>\n",
       "</defs>\n",
       "<path clip-path=\"url(#clip620)\" d=\"\n",
       "M0 1920 L2688 1920 L2688 0 L0 0  Z\n",
       "  \" fill=\"#ffffff\" fill-rule=\"evenodd\" fill-opacity=\"1\"/>\n",
       "<defs>\n",
       "  <clipPath id=\"clip621\">\n",
       "    <rect x=\"537\" y=\"0\" width=\"1883\" height=\"1883\"/>\n",
       "  </clipPath>\n",
       "</defs>\n",
       "<defs>\n",
       "  <clipPath id=\"clip622\">\n",
       "    <rect x=\"196\" y=\"47\" width=\"2445\" height=\"1755\"/>\n",
       "  </clipPath>\n",
       "</defs>\n",
       "<path clip-path=\"url(#clip620)\" d=\"\n",
       "M150.589 1800.78 L2640.76 1800.78 L2640.76 47.2441 L150.589 47.2441  Z\n",
       "  \" fill=\"#ffffff\" fill-rule=\"evenodd\" fill-opacity=\"1\"/>\n",
       "<defs>\n",
       "  <clipPath id=\"clip623\">\n",
       "    <rect x=\"150\" y=\"47\" width=\"2491\" height=\"1755\"/>\n",
       "  </clipPath>\n",
       "</defs>\n",
       "<polyline clip-path=\"url(#clip623)\" style=\"stroke:#000000; stroke-linecap:round; stroke-linejoin:round; stroke-width:2; stroke-opacity:0.1; fill:none\" points=\"\n",
       "  221.066,1800.78 221.066,47.2441 \n",
       "  \"/>\n",
       "<polyline clip-path=\"url(#clip623)\" style=\"stroke:#000000; stroke-linecap:round; stroke-linejoin:round; stroke-width:2; stroke-opacity:0.1; fill:none\" points=\"\n",
       "  612.601,1800.78 612.601,47.2441 \n",
       "  \"/>\n",
       "<polyline clip-path=\"url(#clip623)\" style=\"stroke:#000000; stroke-linecap:round; stroke-linejoin:round; stroke-width:2; stroke-opacity:0.1; fill:none\" points=\"\n",
       "  1004.14,1800.78 1004.14,47.2441 \n",
       "  \"/>\n",
       "<polyline clip-path=\"url(#clip623)\" style=\"stroke:#000000; stroke-linecap:round; stroke-linejoin:round; stroke-width:2; stroke-opacity:0.1; fill:none\" points=\"\n",
       "  1395.67,1800.78 1395.67,47.2441 \n",
       "  \"/>\n",
       "<polyline clip-path=\"url(#clip623)\" style=\"stroke:#000000; stroke-linecap:round; stroke-linejoin:round; stroke-width:2; stroke-opacity:0.1; fill:none\" points=\"\n",
       "  1787.21,1800.78 1787.21,47.2441 \n",
       "  \"/>\n",
       "<polyline clip-path=\"url(#clip623)\" style=\"stroke:#000000; stroke-linecap:round; stroke-linejoin:round; stroke-width:2; stroke-opacity:0.1; fill:none\" points=\"\n",
       "  2178.74,1800.78 2178.74,47.2441 \n",
       "  \"/>\n",
       "<polyline clip-path=\"url(#clip623)\" style=\"stroke:#000000; stroke-linecap:round; stroke-linejoin:round; stroke-width:2; stroke-opacity:0.1; fill:none\" points=\"\n",
       "  2570.28,1800.78 2570.28,47.2441 \n",
       "  \"/>\n",
       "<polyline clip-path=\"url(#clip620)\" style=\"stroke:#000000; stroke-linecap:round; stroke-linejoin:round; stroke-width:4; stroke-opacity:1; fill:none\" points=\"\n",
       "  150.589,1800.78 2640.76,1800.78 \n",
       "  \"/>\n",
       "<polyline clip-path=\"url(#clip620)\" style=\"stroke:#000000; stroke-linecap:round; stroke-linejoin:round; stroke-width:4; stroke-opacity:1; fill:none\" points=\"\n",
       "  221.066,1800.78 221.066,1781.88 \n",
       "  \"/>\n",
       "<polyline clip-path=\"url(#clip620)\" style=\"stroke:#000000; stroke-linecap:round; stroke-linejoin:round; stroke-width:4; stroke-opacity:1; fill:none\" points=\"\n",
       "  612.601,1800.78 612.601,1781.88 \n",
       "  \"/>\n",
       "<polyline clip-path=\"url(#clip620)\" style=\"stroke:#000000; stroke-linecap:round; stroke-linejoin:round; stroke-width:4; stroke-opacity:1; fill:none\" points=\"\n",
       "  1004.14,1800.78 1004.14,1781.88 \n",
       "  \"/>\n",
       "<polyline clip-path=\"url(#clip620)\" style=\"stroke:#000000; stroke-linecap:round; stroke-linejoin:round; stroke-width:4; stroke-opacity:1; fill:none\" points=\"\n",
       "  1395.67,1800.78 1395.67,1781.88 \n",
       "  \"/>\n",
       "<polyline clip-path=\"url(#clip620)\" style=\"stroke:#000000; stroke-linecap:round; stroke-linejoin:round; stroke-width:4; stroke-opacity:1; fill:none\" points=\"\n",
       "  1787.21,1800.78 1787.21,1781.88 \n",
       "  \"/>\n",
       "<polyline clip-path=\"url(#clip620)\" style=\"stroke:#000000; stroke-linecap:round; stroke-linejoin:round; stroke-width:4; stroke-opacity:1; fill:none\" points=\"\n",
       "  2178.74,1800.78 2178.74,1781.88 \n",
       "  \"/>\n",
       "<polyline clip-path=\"url(#clip620)\" style=\"stroke:#000000; stroke-linecap:round; stroke-linejoin:round; stroke-width:4; stroke-opacity:1; fill:none\" points=\"\n",
       "  2570.28,1800.78 2570.28,1781.88 \n",
       "  \"/>\n",
       "<path clip-path=\"url(#clip620)\" d=\"M190.823 1848.65 L220.499 1848.65 L220.499 1852.59 L190.823 1852.59 L190.823 1848.65 Z\" fill=\"#000000\" fill-rule=\"evenodd\" fill-opacity=\"1\" /><path clip-path=\"url(#clip620)\" d=\"M231.401 1861.55 L239.04 1861.55 L239.04 1835.18 L230.73 1836.85 L230.73 1832.59 L238.994 1830.92 L243.67 1830.92 L243.67 1861.55 L251.309 1861.55 L251.309 1865.48 L231.401 1865.48 L231.401 1861.55 Z\" fill=\"#000000\" fill-rule=\"evenodd\" fill-opacity=\"1\" /><path clip-path=\"url(#clip620)\" d=\"M612.601 1834 Q608.99 1834 607.162 1837.57 Q605.356 1841.11 605.356 1848.24 Q605.356 1855.34 607.162 1858.91 Q608.99 1862.45 612.601 1862.45 Q616.236 1862.45 618.041 1858.91 Q619.87 1855.34 619.87 1848.24 Q619.87 1841.11 618.041 1837.57 Q616.236 1834 612.601 1834 M612.601 1830.3 Q618.412 1830.3 621.467 1834.9 Q624.546 1839.49 624.546 1848.24 Q624.546 1856.96 621.467 1861.57 Q618.412 1866.15 612.601 1866.15 Q606.791 1866.15 603.713 1861.57 Q600.657 1856.96 600.657 1848.24 Q600.657 1839.49 603.713 1834.9 Q606.791 1830.3 612.601 1830.3 Z\" fill=\"#000000\" fill-rule=\"evenodd\" fill-opacity=\"1\" /><path clip-path=\"url(#clip620)\" d=\"M994.519 1861.55 L1002.16 1861.55 L1002.16 1835.18 L993.848 1836.85 L993.848 1832.59 L1002.11 1830.92 L1006.79 1830.92 L1006.79 1861.55 L1014.43 1861.55 L1014.43 1865.48 L994.519 1865.48 L994.519 1861.55 Z\" fill=\"#000000\" fill-rule=\"evenodd\" fill-opacity=\"1\" /><path clip-path=\"url(#clip620)\" d=\"M1390.33 1861.55 L1406.64 1861.55 L1406.64 1865.48 L1384.7 1865.48 L1384.7 1861.55 Q1387.36 1858.79 1391.95 1854.16 Q1396.55 1849.51 1397.73 1848.17 Q1399.98 1845.65 1400.86 1843.91 Q1401.76 1842.15 1401.76 1840.46 Q1401.76 1837.71 1399.82 1835.97 Q1397.89 1834.23 1394.79 1834.23 Q1392.59 1834.23 1390.14 1835 Q1387.71 1835.76 1384.93 1837.31 L1384.93 1832.59 Q1387.76 1831.46 1390.21 1830.88 Q1392.66 1830.3 1394.7 1830.3 Q1400.07 1830.3 1403.27 1832.98 Q1406.46 1835.67 1406.46 1840.16 Q1406.46 1842.29 1405.65 1844.21 Q1404.86 1846.11 1402.76 1848.7 Q1402.18 1849.37 1399.08 1852.59 Q1395.97 1855.78 1390.33 1861.55 Z\" fill=\"#000000\" fill-rule=\"evenodd\" fill-opacity=\"1\" /><path clip-path=\"url(#clip620)\" d=\"M1791.46 1846.85 Q1794.81 1847.57 1796.69 1849.84 Q1798.59 1852.1 1798.59 1855.44 Q1798.59 1860.55 1795.07 1863.35 Q1791.55 1866.15 1785.07 1866.15 Q1782.89 1866.15 1780.58 1865.71 Q1778.28 1865.3 1775.83 1864.44 L1775.83 1859.93 Q1777.78 1861.06 1780.09 1861.64 Q1782.41 1862.22 1784.93 1862.22 Q1789.33 1862.22 1791.62 1860.48 Q1793.93 1858.75 1793.93 1855.44 Q1793.93 1852.38 1791.78 1850.67 Q1789.65 1848.93 1785.83 1848.93 L1781.8 1848.93 L1781.8 1845.09 L1786.02 1845.09 Q1789.47 1845.09 1791.29 1843.72 Q1793.12 1842.34 1793.12 1839.74 Q1793.12 1837.08 1791.22 1835.67 Q1789.35 1834.23 1785.83 1834.23 Q1783.91 1834.23 1781.71 1834.65 Q1779.51 1835.07 1776.87 1835.95 L1776.87 1831.78 Q1779.53 1831.04 1781.85 1830.67 Q1784.19 1830.3 1786.25 1830.3 Q1791.57 1830.3 1794.67 1832.73 Q1797.78 1835.14 1797.78 1839.26 Q1797.78 1842.13 1796.13 1844.12 Q1794.49 1846.09 1791.46 1846.85 Z\" fill=\"#000000\" fill-rule=\"evenodd\" fill-opacity=\"1\" /><path clip-path=\"url(#clip620)\" d=\"M2181.75 1835 L2169.95 1853.45 L2181.75 1853.45 L2181.75 1835 M2180.53 1830.92 L2186.41 1830.92 L2186.41 1853.45 L2191.34 1853.45 L2191.34 1857.34 L2186.41 1857.34 L2186.41 1865.48 L2181.75 1865.48 L2181.75 1857.34 L2166.15 1857.34 L2166.15 1852.82 L2180.53 1830.92 Z\" fill=\"#000000\" fill-rule=\"evenodd\" fill-opacity=\"1\" /><path clip-path=\"url(#clip620)\" d=\"M2560.56 1830.92 L2578.91 1830.92 L2578.91 1834.86 L2564.84 1834.86 L2564.84 1843.33 Q2565.86 1842.98 2566.88 1842.82 Q2567.9 1842.64 2568.91 1842.64 Q2574.7 1842.64 2578.08 1845.81 Q2581.46 1848.98 2581.46 1854.4 Q2581.46 1859.97 2577.99 1863.08 Q2574.52 1866.15 2568.2 1866.15 Q2566.02 1866.15 2563.75 1865.78 Q2561.51 1865.41 2559.1 1864.67 L2559.1 1859.97 Q2561.18 1861.11 2563.4 1861.66 Q2565.63 1862.22 2568.1 1862.22 Q2572.11 1862.22 2574.45 1860.11 Q2576.78 1858.01 2576.78 1854.4 Q2576.78 1850.78 2574.45 1848.68 Q2572.11 1846.57 2568.1 1846.57 Q2566.23 1846.57 2564.35 1846.99 Q2562.5 1847.4 2560.56 1848.28 L2560.56 1830.92 Z\" fill=\"#000000\" fill-rule=\"evenodd\" fill-opacity=\"1\" /><polyline clip-path=\"url(#clip623)\" style=\"stroke:#000000; stroke-linecap:round; stroke-linejoin:round; stroke-width:2; stroke-opacity:0.1; fill:none\" points=\"\n",
       "  150.589,1600.76 2640.76,1600.76 \n",
       "  \"/>\n",
       "<polyline clip-path=\"url(#clip623)\" style=\"stroke:#000000; stroke-linecap:round; stroke-linejoin:round; stroke-width:2; stroke-opacity:0.1; fill:none\" points=\"\n",
       "  150.589,1224.79 2640.76,1224.79 \n",
       "  \"/>\n",
       "<polyline clip-path=\"url(#clip623)\" style=\"stroke:#000000; stroke-linecap:round; stroke-linejoin:round; stroke-width:2; stroke-opacity:0.1; fill:none\" points=\"\n",
       "  150.589,848.817 2640.76,848.817 \n",
       "  \"/>\n",
       "<polyline clip-path=\"url(#clip623)\" style=\"stroke:#000000; stroke-linecap:round; stroke-linejoin:round; stroke-width:2; stroke-opacity:0.1; fill:none\" points=\"\n",
       "  150.589,472.845 2640.76,472.845 \n",
       "  \"/>\n",
       "<polyline clip-path=\"url(#clip623)\" style=\"stroke:#000000; stroke-linecap:round; stroke-linejoin:round; stroke-width:2; stroke-opacity:0.1; fill:none\" points=\"\n",
       "  150.589,96.8724 2640.76,96.8724 \n",
       "  \"/>\n",
       "<polyline clip-path=\"url(#clip620)\" style=\"stroke:#000000; stroke-linecap:round; stroke-linejoin:round; stroke-width:4; stroke-opacity:1; fill:none\" points=\"\n",
       "  150.589,1800.78 150.589,47.2441 \n",
       "  \"/>\n",
       "<polyline clip-path=\"url(#clip620)\" style=\"stroke:#000000; stroke-linecap:round; stroke-linejoin:round; stroke-width:4; stroke-opacity:1; fill:none\" points=\"\n",
       "  150.589,1600.76 169.487,1600.76 \n",
       "  \"/>\n",
       "<polyline clip-path=\"url(#clip620)\" style=\"stroke:#000000; stroke-linecap:round; stroke-linejoin:round; stroke-width:4; stroke-opacity:1; fill:none\" points=\"\n",
       "  150.589,1224.79 169.487,1224.79 \n",
       "  \"/>\n",
       "<polyline clip-path=\"url(#clip620)\" style=\"stroke:#000000; stroke-linecap:round; stroke-linejoin:round; stroke-width:4; stroke-opacity:1; fill:none\" points=\"\n",
       "  150.589,848.817 169.487,848.817 \n",
       "  \"/>\n",
       "<polyline clip-path=\"url(#clip620)\" style=\"stroke:#000000; stroke-linecap:round; stroke-linejoin:round; stroke-width:4; stroke-opacity:1; fill:none\" points=\"\n",
       "  150.589,472.845 169.487,472.845 \n",
       "  \"/>\n",
       "<polyline clip-path=\"url(#clip620)\" style=\"stroke:#000000; stroke-linecap:round; stroke-linejoin:round; stroke-width:4; stroke-opacity:1; fill:none\" points=\"\n",
       "  150.589,96.8724 169.487,96.8724 \n",
       "  \"/>\n",
       "<path clip-path=\"url(#clip620)\" d=\"M49.5521 1601.21 L79.2279 1601.21 L79.2279 1605.15 L49.5521 1605.15 L49.5521 1601.21 Z\" fill=\"#000000\" fill-rule=\"evenodd\" fill-opacity=\"1\" /><path clip-path=\"url(#clip620)\" d=\"M89.3667 1583.48 L107.723 1583.48 L107.723 1587.42 L93.6491 1587.42 L93.6491 1595.89 Q94.6676 1595.54 95.6861 1595.38 Q96.7047 1595.19 97.7232 1595.19 Q103.51 1595.19 106.89 1598.37 Q110.269 1601.54 110.269 1606.95 Q110.269 1612.53 106.797 1615.63 Q103.325 1618.71 97.0056 1618.71 Q94.8297 1618.71 92.5612 1618.34 Q90.3158 1617.97 87.9084 1617.23 L87.9084 1612.53 Q89.9917 1613.67 92.2139 1614.22 Q94.4361 1614.78 96.913 1614.78 Q100.918 1614.78 103.256 1612.67 Q105.593 1610.57 105.593 1606.95 Q105.593 1603.34 103.256 1601.24 Q100.918 1599.13 96.913 1599.13 Q95.038 1599.13 93.163 1599.55 Q91.3112 1599.96 89.3667 1600.84 L89.3667 1583.48 Z\" fill=\"#000000\" fill-rule=\"evenodd\" fill-opacity=\"1\" /><path clip-path=\"url(#clip620)\" d=\"M98.325 1210.59 Q94.7139 1210.59 92.8852 1214.15 Q91.0797 1217.69 91.0797 1224.82 Q91.0797 1231.93 92.8852 1235.5 Q94.7139 1239.04 98.325 1239.04 Q101.959 1239.04 103.765 1235.5 Q105.593 1231.93 105.593 1224.82 Q105.593 1217.69 103.765 1214.15 Q101.959 1210.59 98.325 1210.59 M98.325 1206.88 Q104.135 1206.88 107.191 1211.49 Q110.269 1216.07 110.269 1224.82 Q110.269 1233.55 107.191 1238.16 Q104.135 1242.74 98.325 1242.74 Q92.5149 1242.74 89.4362 1238.16 Q86.3806 1233.55 86.3806 1224.82 Q86.3806 1216.07 89.4362 1211.49 Q92.5149 1206.88 98.325 1206.88 Z\" fill=\"#000000\" fill-rule=\"evenodd\" fill-opacity=\"1\" /><path clip-path=\"url(#clip620)\" d=\"M89.3667 831.537 L107.723 831.537 L107.723 835.472 L93.6491 835.472 L93.6491 843.945 Q94.6676 843.597 95.6861 843.435 Q96.7047 843.25 97.7232 843.25 Q103.51 843.25 106.89 846.421 Q110.269 849.593 110.269 855.009 Q110.269 860.588 106.797 863.69 Q103.325 866.769 97.0056 866.769 Q94.8297 866.769 92.5612 866.398 Q90.3158 866.028 87.9084 865.287 L87.9084 860.588 Q89.9917 861.722 92.2139 862.278 Q94.4361 862.833 96.913 862.833 Q100.918 862.833 103.256 860.727 Q105.593 858.62 105.593 855.009 Q105.593 851.398 103.256 849.292 Q100.918 847.185 96.913 847.185 Q95.038 847.185 93.163 847.602 Q91.3112 848.019 89.3667 848.898 L89.3667 831.537 Z\" fill=\"#000000\" fill-rule=\"evenodd\" fill-opacity=\"1\" /><path clip-path=\"url(#clip620)\" d=\"M58.9734 486.19 L66.6122 486.19 L66.6122 459.824 L58.3021 461.491 L58.3021 457.231 L66.5659 455.565 L71.2418 455.565 L71.2418 486.19 L78.8807 486.19 L78.8807 490.125 L58.9734 490.125 L58.9734 486.19 Z\" fill=\"#000000\" fill-rule=\"evenodd\" fill-opacity=\"1\" /><path clip-path=\"url(#clip620)\" d=\"M98.325 458.644 Q94.7139 458.644 92.8852 462.208 Q91.0797 465.75 91.0797 472.88 Q91.0797 479.986 92.8852 483.551 Q94.7139 487.092 98.325 487.092 Q101.959 487.092 103.765 483.551 Q105.593 479.986 105.593 472.88 Q105.593 465.75 103.765 462.208 Q101.959 458.644 98.325 458.644 M98.325 454.94 Q104.135 454.94 107.191 459.546 Q110.269 464.13 110.269 472.88 Q110.269 481.606 107.191 486.213 Q104.135 490.796 98.325 490.796 Q92.5149 490.796 89.4362 486.213 Q86.3806 481.606 86.3806 472.88 Q86.3806 464.13 89.4362 459.546 Q92.5149 454.94 98.325 454.94 Z\" fill=\"#000000\" fill-rule=\"evenodd\" fill-opacity=\"1\" /><path clip-path=\"url(#clip620)\" d=\"M59.9687 110.217 L67.6076 110.217 L67.6076 83.8517 L59.2974 85.5183 L59.2974 81.2591 L67.5613 79.5924 L72.2372 79.5924 L72.2372 110.217 L79.876 110.217 L79.876 114.152 L59.9687 114.152 L59.9687 110.217 Z\" fill=\"#000000\" fill-rule=\"evenodd\" fill-opacity=\"1\" /><path clip-path=\"url(#clip620)\" d=\"M89.3667 79.5924 L107.723 79.5924 L107.723 83.5276 L93.6491 83.5276 L93.6491 91.9998 Q94.6676 91.6526 95.6861 91.4905 Q96.7047 91.3053 97.7232 91.3053 Q103.51 91.3053 106.89 94.4766 Q110.269 97.6479 110.269 103.065 Q110.269 108.643 106.797 111.745 Q103.325 114.824 97.0056 114.824 Q94.8297 114.824 92.5612 114.453 Q90.3158 114.083 87.9084 113.342 L87.9084 108.643 Q89.9917 109.777 92.2139 110.333 Q94.4361 110.889 96.913 110.889 Q100.918 110.889 103.256 108.782 Q105.593 106.676 105.593 103.065 Q105.593 99.4535 103.256 97.347 Q100.918 95.2405 96.913 95.2405 Q95.038 95.2405 93.163 95.6572 Q91.3112 96.0738 89.3667 96.9535 L89.3667 79.5924 Z\" fill=\"#000000\" fill-rule=\"evenodd\" fill-opacity=\"1\" /><polyline clip-path=\"url(#clip623)\" style=\"stroke:#009af9; stroke-linecap:round; stroke-linejoin:round; stroke-width:4; stroke-opacity:1; fill:none\" points=\"\n",
       "  221.066,1751.15 224.889,1745.28 228.713,1739.43 232.537,1733.59 236.36,1727.77 271.716,1674.59 307.071,1622.64 342.426,1571.92 377.782,1522.42 420.276,1464.55 \n",
       "  462.77,1408.45 498.698,1362.4 534.627,1317.62 573.655,1270.41 612.683,1224.7 648.663,1183.87 684.644,1144.32 723.219,1103.33 761.794,1063.79 806.486,1019.81 \n",
       "  851.179,977.795 890.897,942.098 930.615,907.949 965.443,879.276 1000.27,851.793 1038.25,823.186 1076.22,795.993 1114.42,770.066 1152.61,745.57 1194.85,720.153 \n",
       "  1237.08,696.486 1277.27,675.591 1317.45,656.281 1359.23,637.882 1401.01,621.197 1436.18,608.478 1471.36,596.973 1514.3,584.573 1557.24,573.981 1596.57,565.865 \n",
       "  1635.91,559.268 1672.24,554.523 1708.57,551.073 1745.37,548.898 1782.17,548.052 1823.42,548.682 1864.66,550.982 1902.03,554.506 1939.41,559.401 1982.2,566.688 \n",
       "  2024.99,575.772 2064.61,585.783 2104.23,597.335 2143.29,610.231 2182.35,624.624 2220.27,640.03 2258.2,656.847 2297.07,675.552 2335.95,695.739 2378.55,719.559 \n",
       "  2421.14,745.158 2483.02,785.516 2544.89,829.63 2557.59,839.145 2570.28,848.817 \n",
       "  \"/>\n",
       "<path clip-path=\"url(#clip623)\" d=\"\n",
       "M612.601 1224.79 L617.7 1226.74 L622.798 1228.66 L669.938 1245.2 L717.079 1259.57 L745.408 1267.15 L773.738 1273.95 L797.69 1279.08 L821.642 1283.65 L847.661 1287.97 \n",
       "  L873.679 1291.64 L897.666 1294.42 L921.653 1296.65 L947.37 1298.4 L973.087 1299.51 L1002.88 1299.98 L1032.68 1299.58 L1059.16 1298.5 L1085.63 1296.73 L1108.85 1294.61 \n",
       "  L1132.07 1291.96 L1157.39 1288.46 L1182.7 1284.34 L1208.17 1279.56 L1233.63 1274.15 L1261.79 1267.42 L1289.95 1259.92 L1316.73 1252.05 L1343.52 1243.49 L1371.38 1233.83 \n",
       "  L1399.23 1223.42 L1422.68 1214.06 L1446.13 1204.16 L1474.76 1191.35 L1503.38 1177.73 L1529.61 1164.55 L1555.83 1150.69 L1580.05 1137.3 L1604.27 1123.32 L1628.8 1108.58 \n",
       "  L1653.34 1093.25 L1680.83 1075.37 L1708.33 1056.75 L1733.25 1039.23 L1758.16 1021.11 L1786.69 999.606 L1815.21 977.307 L1841.63 955.948 L1868.04 933.905 L1894.08 911.504 \n",
       "  L1920.12 888.437 L1945.4 865.404 L1970.69 841.744 L1996.61 816.839 L2022.52 791.275 L2050.92 762.51 L2079.32 732.954 L2120.57 688.61 L2161.82 642.596 L2170.28 632.95 \n",
       "  L2178.74 623.234 L2178.74 623.234 L2170.28 620.018 L2161.82 616.873 L2120.57 602.548 L2079.32 589.893 L2050.92 582.151 L2022.52 575.2 L1996.61 569.547 L1970.69 564.552 \n",
       "  L1945.4 560.315 L1920.12 556.705 L1894.08 553.642 L1868.04 551.244 L1841.63 549.492 L1815.21 548.424 L1786.69 548.039 L1758.16 548.453 L1733.25 549.468 L1708.33 551.091 \n",
       "  L1680.83 553.59 L1653.34 556.83 L1628.8 560.347 L1604.27 564.455 L1580.05 569.089 L1555.83 574.299 L1529.61 580.589 L1503.38 587.553 L1474.76 595.926 L1446.13 605.102 \n",
       "  L1422.68 613.218 L1399.23 621.872 L1371.38 632.855 L1343.52 644.598 L1316.73 656.61 L1289.95 669.327 L1261.79 683.45 L1233.63 698.352 L1208.17 712.499 L1182.7 727.283 \n",
       "  L1157.39 742.61 L1132.07 758.565 L1108.85 773.753 L1085.63 789.469 L1059.16 808.037 L1032.68 827.292 L1002.88 849.782 L973.087 873.143 L947.37 894.006 L921.653 915.518 \n",
       "  L897.666 936.168 L873.679 957.383 L847.661 981.032 L821.642 1005.35 L797.69 1028.32 L773.738 1051.85 L745.408 1080.41 L717.079 1109.75 L669.938 1160.33 L622.798 1213.09 \n",
       "  L617.7 1218.93 L612.601 1224.79  Z\n",
       "  \" fill=\"#e26f46\" fill-rule=\"evenodd\" fill-opacity=\"0.3\"/>\n",
       "<polyline clip-path=\"url(#clip623)\" style=\"stroke:#e26f46; stroke-linecap:round; stroke-linejoin:round; stroke-width:4; stroke-opacity:1; fill:none\" points=\"\n",
       "  612.601,1224.79 617.7,1226.74 622.798,1228.66 669.938,1245.2 717.079,1259.57 745.408,1267.15 773.738,1273.95 797.69,1279.08 821.642,1283.65 847.661,1287.97 \n",
       "  873.679,1291.64 897.666,1294.42 921.653,1296.65 947.37,1298.4 973.087,1299.51 1002.88,1299.98 1032.68,1299.58 1059.16,1298.5 1085.63,1296.73 1108.85,1294.61 \n",
       "  1132.07,1291.96 1157.39,1288.46 1182.7,1284.34 1208.17,1279.56 1233.63,1274.15 1261.79,1267.42 1289.95,1259.92 1316.73,1252.05 1343.52,1243.49 1371.38,1233.83 \n",
       "  1399.23,1223.42 1422.68,1214.06 1446.13,1204.16 1474.76,1191.35 1503.38,1177.73 1529.61,1164.55 1555.83,1150.69 1580.05,1137.3 1604.27,1123.32 1628.8,1108.58 \n",
       "  1653.34,1093.25 1680.83,1075.37 1708.33,1056.75 1733.25,1039.23 1758.16,1021.11 1786.69,999.606 1815.21,977.307 1841.63,955.948 1868.04,933.905 1894.08,911.504 \n",
       "  1920.12,888.437 1945.4,865.404 1970.69,841.744 1996.61,816.839 2022.52,791.275 2050.92,762.51 2079.32,732.954 2120.57,688.61 2161.82,642.596 2170.28,632.95 \n",
       "  2178.74,623.234 \n",
       "  \"/>\n",
       "<polyline clip-path=\"url(#clip623)\" style=\"stroke:#3da44d; stroke-linecap:round; stroke-linejoin:round; stroke-width:4; stroke-opacity:1; fill:none\" points=\"\n",
       "  221.066,999.206 224.889,1002.14 228.713,1005.05 232.537,1007.95 236.36,1010.84 271.716,1036.86 307.071,1061.65 342.426,1085.21 377.782,1107.55 420.276,1132.77 \n",
       "  462.77,1156.23 498.698,1174.68 534.627,1191.86 573.655,1209.09 612.683,1224.82 648.663,1238 684.644,1249.92 723.219,1261.28 761.794,1271.18 806.486,1280.82 \n",
       "  851.179,1288.51 890.897,1293.69 930.615,1297.33 965.443,1299.25 1000.27,1299.98 1038.25,1299.41 1076.22,1297.44 1114.42,1294.02 1152.61,1289.17 1194.85,1282.14 \n",
       "  1237.08,1273.37 1277.27,1263.39 1317.45,1251.83 1359.23,1238.14 1401.01,1222.72 1436.18,1208.42 1471.36,1192.91 1514.3,1172.32 1557.24,1149.93 1596.57,1127.83 \n",
       "  1635.91,1104.21 1672.24,1081.04 1708.57,1056.58 1745.37,1030.49 1782.17,1003.06 1823.42,970.749 1864.66,936.766 1902.03,904.531 1939.41,870.926 1982.2,830.768 \n",
       "  2024.99,788.813 2064.61,748.365 2104.23,706.378 2143.29,663.475 2182.35,619.076 2220.27,574.536 2258.2,528.585 2297.07,480.015 2335.95,429.962 2378.55,373.422 \n",
       "  2421.14,315.101 2483.02,227.21 2544.89,135.562 2557.59,116.296 2570.28,96.8724 \n",
       "  \"/>\n",
       "<path clip-path=\"url(#clip620)\" d=\"\n",
       "M233.595 261.215 L862.76 261.215 L862.76 105.695 L233.595 105.695  Z\n",
       "  \" fill=\"#ffffff\" fill-rule=\"evenodd\" fill-opacity=\"1\"/>\n",
       "<polyline clip-path=\"url(#clip620)\" style=\"stroke:#000000; stroke-linecap:round; stroke-linejoin:round; stroke-width:4; stroke-opacity:1; fill:none\" points=\"\n",
       "  233.595,261.215 862.76,261.215 862.76,105.695 233.595,105.695 233.595,261.215 \n",
       "  \"/>\n",
       "<polyline clip-path=\"url(#clip620)\" style=\"stroke:#009af9; stroke-linecap:round; stroke-linejoin:round; stroke-width:4; stroke-opacity:1; fill:none\" points=\"\n",
       "  261.263,157.535 427.275,157.535 \n",
       "  \"/>\n",
       "<path clip-path=\"url(#clip620)\" d=\"M478.857 139.326 Q478.857 140.615 478.038 141.411 Q477.241 142.207 476.234 142.207 Q475.508 142.207 474.969 141.762 Q474.454 141.317 474.454 140.544 Q474.454 139.748 475.063 138.905 Q475.672 138.062 477.054 137.944 Q476.14 137.078 474.688 137.078 Q473.962 137.078 473.353 137.546 Q472.768 137.991 472.44 138.717 Q472.088 139.467 471.292 143.706 Q471.034 145.088 470.8 146.423 Q470.566 147.758 470.285 149.164 L474.267 149.164 Q474.782 149.164 474.993 149.187 Q475.203 149.211 475.367 149.328 Q475.555 149.445 475.555 149.703 Q475.555 150.358 475.25 150.522 Q474.969 150.663 474.126 150.663 L470.004 150.663 L467.123 165.864 Q467.052 166.309 466.748 167.714 Q466.467 169.096 465.788 171.368 Q465.108 173.664 464.429 175.022 Q464.054 175.795 463.563 176.521 Q463.094 177.271 462.415 178.02 Q461.736 178.77 460.846 179.215 Q459.955 179.683 459.019 179.683 Q457.426 179.683 456.184 178.793 Q454.943 177.903 454.943 176.381 Q454.943 175.092 455.739 174.296 Q456.559 173.5 457.566 173.5 Q458.292 173.5 458.808 173.945 Q459.346 174.39 459.346 175.163 Q459.346 175.491 459.229 175.865 Q459.112 176.24 458.855 176.662 Q458.597 177.107 458.035 177.411 Q457.473 177.716 456.7 177.763 Q457.613 178.629 459.019 178.629 Q459.464 178.629 459.862 178.442 Q460.26 178.278 460.588 177.856 Q460.939 177.435 461.197 177.013 Q461.455 176.615 461.712 175.842 Q461.97 175.092 462.134 174.53 Q462.298 173.968 462.509 172.961 Q462.743 171.954 462.86 171.345 Q462.977 170.759 463.188 169.612 L466.771 150.663 L463.609 150.663 Q463.047 150.663 462.813 150.639 Q462.602 150.616 462.438 150.499 Q462.274 150.358 462.274 150.077 Q462.274 149.632 462.462 149.445 Q462.672 149.234 462.907 149.211 Q463.141 149.164 463.703 149.164 L467.029 149.164 Q468.153 143.238 468.598 141.645 Q469.114 139.959 469.91 138.788 Q470.706 137.593 471.596 137.031 Q472.486 136.469 473.213 136.258 Q473.962 136.024 474.688 136.024 Q476.328 136.024 477.593 136.914 Q478.857 137.78 478.857 139.326 Z\" fill=\"#000000\" fill-rule=\"evenodd\" fill-opacity=\"1\" /><path clip-path=\"url(#clip620)\" d=\"M485.316 157.854 Q485.316 149.749 488.338 143.214 Q489.626 140.474 491.429 138.179 Q493.233 135.883 494.427 134.876 Q495.622 133.869 495.95 133.869 Q496.418 133.869 496.442 134.337 Q496.442 134.572 495.809 135.157 Q488.08 143.027 488.103 157.854 Q488.103 172.727 495.622 180.292 Q496.442 181.112 496.442 181.37 Q496.442 181.838 495.95 181.838 Q495.622 181.838 494.474 180.878 Q493.327 179.917 491.547 177.716 Q489.766 175.514 488.478 172.82 Q485.316 166.286 485.316 157.854 Z\" fill=\"#000000\" fill-rule=\"evenodd\" fill-opacity=\"1\" /><path clip-path=\"url(#clip620)\" d=\"M523.979 151.811 Q523.979 153.122 523.16 153.872 Q522.34 154.598 521.403 154.598 Q520.513 154.598 520.044 154.083 Q519.576 153.567 519.576 152.911 Q519.576 152.021 520.232 151.248 Q520.888 150.475 521.871 150.311 Q520.911 149.703 519.482 149.703 Q518.545 149.703 517.726 150.194 Q516.929 150.686 516.437 151.319 Q515.969 151.951 515.547 152.865 Q515.149 153.755 514.985 154.293 Q514.845 154.809 514.728 155.371 L513.088 161.929 Q512.292 165.044 512.292 166.145 Q512.292 167.504 512.947 168.417 Q513.603 169.307 514.915 169.307 Q515.43 169.307 516.016 169.167 Q516.601 169.003 517.351 168.581 Q518.124 168.136 518.803 167.48 Q519.506 166.801 520.185 165.653 Q520.864 164.506 521.309 163.03 Q521.45 162.515 521.918 162.515 Q522.504 162.515 522.504 162.983 Q522.504 163.381 522.176 164.224 Q521.871 165.044 521.192 166.122 Q520.536 167.176 519.67 168.136 Q518.803 169.073 517.515 169.729 Q516.227 170.385 514.821 170.385 Q512.807 170.385 511.472 169.307 Q510.137 168.23 509.645 166.731 Q509.528 166.941 509.364 167.223 Q509.2 167.504 508.708 168.136 Q508.24 168.745 507.701 169.213 Q507.162 169.658 506.319 170.01 Q505.499 170.385 504.609 170.385 Q503.485 170.385 502.478 170.057 Q501.494 169.729 500.791 168.979 Q500.089 168.23 500.089 167.199 Q500.089 166.051 500.861 165.255 Q501.658 164.435 502.735 164.435 Q503.414 164.435 503.953 164.833 Q504.515 165.232 504.515 166.098 Q504.515 167.059 503.86 167.785 Q503.204 168.511 502.267 168.698 Q503.227 169.307 504.656 169.307 Q506.202 169.307 507.42 167.949 Q508.638 166.59 509.223 164.318 Q510.675 158.861 511.238 156.425 Q511.8 153.965 511.8 152.911 Q511.8 151.928 511.542 151.248 Q511.284 150.569 510.839 150.265 Q510.418 149.937 510.02 149.82 Q509.645 149.703 509.223 149.703 Q508.521 149.703 507.724 149.984 Q506.951 150.265 506.014 150.92 Q505.101 151.553 504.234 152.865 Q503.368 154.176 502.782 155.98 Q502.665 156.518 502.15 156.518 Q501.588 156.495 501.588 156.027 Q501.588 155.628 501.892 154.809 Q502.22 153.965 502.876 152.911 Q503.555 151.857 504.422 150.92 Q505.312 149.96 506.6 149.304 Q507.912 148.649 509.317 148.649 Q509.949 148.649 510.558 148.789 Q511.191 148.906 511.94 149.257 Q512.713 149.609 513.392 150.382 Q514.072 151.155 514.493 152.279 Q514.774 151.74 515.149 151.225 Q515.547 150.71 516.156 150.077 Q516.789 149.421 517.655 149.047 Q518.545 148.649 519.529 148.649 Q520.489 148.649 521.426 148.906 Q522.363 149.14 523.16 149.913 Q523.979 150.663 523.979 151.811 Z\" fill=\"#000000\" fill-rule=\"evenodd\" fill-opacity=\"1\" /><path clip-path=\"url(#clip620)\" d=\"M528.599 181.37 Q528.599 181.135 529.208 180.55 Q536.937 172.68 536.937 157.854 Q536.937 142.98 529.513 135.462 Q528.599 134.595 528.599 134.337 Q528.599 133.869 529.068 133.869 Q529.395 133.869 530.543 134.829 Q531.714 135.79 533.471 137.991 Q535.251 140.193 536.563 142.887 Q539.725 149.421 539.725 157.854 Q539.725 165.958 536.703 172.493 Q535.415 175.233 533.611 177.528 Q531.808 179.824 530.613 180.831 Q529.419 181.838 529.068 181.838 Q528.599 181.838 528.599 181.37 Z\" fill=\"#000000\" fill-rule=\"evenodd\" fill-opacity=\"1\" /><path clip-path=\"url(#clip620)\" d=\"M560.331 162.561 Q560.378 161.976 561.291 161.976 L590.686 161.976 Q592.068 161.976 592.092 162.515 Q592.092 163.1 590.78 163.077 L561.619 163.077 Q560.331 163.1 560.331 162.561 M560.331 153.192 Q560.331 152.607 561.338 152.63 L590.639 152.63 Q592.068 152.63 592.092 153.192 Q592.092 153.731 590.874 153.731 L561.291 153.731 Q560.331 153.731 560.331 153.192 Z\" fill=\"#000000\" fill-rule=\"evenodd\" fill-opacity=\"1\" /><path clip-path=\"url(#clip620)\" d=\"M655.578 157.174 Q655.859 157.455 655.859 157.854 Q655.859 158.252 655.578 158.533 Q655.296 158.814 654.898 158.814 L624.871 158.814 Q624.473 158.814 624.191 158.533 Q623.91 158.252 623.91 157.854 Q623.91 157.455 624.191 157.174 Q624.473 156.893 624.871 156.893 L654.898 156.893 Q655.296 156.893 655.578 157.174 Z\" fill=\"#000000\" fill-rule=\"evenodd\" fill-opacity=\"1\" /><path clip-path=\"url(#clip620)\" d=\"M698.069 151.811 Q698.069 153.122 697.25 153.872 Q696.43 154.598 695.493 154.598 Q694.603 154.598 694.134 154.083 Q693.666 153.567 693.666 152.911 Q693.666 152.021 694.322 151.248 Q694.978 150.475 695.961 150.311 Q695.001 149.703 693.572 149.703 Q692.635 149.703 691.816 150.194 Q691.019 150.686 690.527 151.319 Q690.059 151.951 689.637 152.865 Q689.239 153.755 689.075 154.293 Q688.935 154.809 688.818 155.371 L687.178 161.929 Q686.382 165.044 686.382 166.145 Q686.382 167.504 687.037 168.417 Q687.693 169.307 689.005 169.307 Q689.52 169.307 690.106 169.167 Q690.691 169.003 691.441 168.581 Q692.214 168.136 692.893 167.48 Q693.596 166.801 694.275 165.653 Q694.954 164.506 695.399 163.03 Q695.54 162.515 696.008 162.515 Q696.594 162.515 696.594 162.983 Q696.594 163.381 696.266 164.224 Q695.961 165.044 695.282 166.122 Q694.626 167.176 693.76 168.136 Q692.893 169.073 691.605 169.729 Q690.317 170.385 688.911 170.385 Q686.897 170.385 685.562 169.307 Q684.227 168.23 683.735 166.731 Q683.618 166.941 683.454 167.223 Q683.29 167.504 682.798 168.136 Q682.33 168.745 681.791 169.213 Q681.252 169.658 680.409 170.01 Q679.589 170.385 678.699 170.385 Q677.575 170.385 676.568 170.057 Q675.584 169.729 674.881 168.979 Q674.179 168.23 674.179 167.199 Q674.179 166.051 674.951 165.255 Q675.748 164.435 676.825 164.435 Q677.505 164.435 678.043 164.833 Q678.605 165.232 678.605 166.098 Q678.605 167.059 677.95 167.785 Q677.294 168.511 676.357 168.698 Q677.317 169.307 678.746 169.307 Q680.292 169.307 681.51 167.949 Q682.728 166.59 683.313 164.318 Q684.765 158.861 685.328 156.425 Q685.89 153.965 685.89 152.911 Q685.89 151.928 685.632 151.248 Q685.374 150.569 684.929 150.265 Q684.508 149.937 684.11 149.82 Q683.735 149.703 683.313 149.703 Q682.611 149.703 681.814 149.984 Q681.041 150.265 680.104 150.92 Q679.191 151.553 678.324 152.865 Q677.458 154.176 676.872 155.98 Q676.755 156.518 676.24 156.518 Q675.678 156.495 675.678 156.027 Q675.678 155.628 675.982 154.809 Q676.31 153.965 676.966 152.911 Q677.645 151.857 678.512 150.92 Q679.402 149.96 680.69 149.304 Q682.002 148.649 683.407 148.649 Q684.039 148.649 684.648 148.789 Q685.281 148.906 686.03 149.257 Q686.803 149.609 687.482 150.382 Q688.162 151.155 688.583 152.279 Q688.864 151.74 689.239 151.225 Q689.637 150.71 690.246 150.077 Q690.879 149.421 691.745 149.047 Q692.635 148.649 693.619 148.649 Q694.579 148.649 695.516 148.906 Q696.453 149.14 697.25 149.913 Q698.069 150.663 698.069 151.811 Z\" fill=\"#000000\" fill-rule=\"evenodd\" fill-opacity=\"1\" /><path clip-path=\"url(#clip620)\" d=\"M702.959 155.49 Q702.959 154.884 703.008 154.703 Q703.073 154.523 703.336 154.244 L709.779 147.063 Q713.304 143.095 713.304 139.636 Q713.304 137.389 712.124 135.783 Q710.96 134.176 708.812 134.176 Q707.336 134.176 706.09 135.078 Q704.844 135.979 704.27 137.586 Q704.369 137.553 704.713 137.553 Q705.549 137.553 706.008 138.078 Q706.484 138.603 706.484 139.308 Q706.484 140.209 705.893 140.652 Q705.32 141.078 704.746 141.078 Q704.516 141.078 704.205 141.029 Q703.909 140.98 703.434 140.521 Q702.959 140.045 702.959 139.209 Q702.959 136.865 704.729 134.996 Q706.516 133.126 709.238 133.126 Q712.32 133.126 714.337 134.963 Q716.37 136.783 716.37 139.636 Q716.37 140.636 716.059 141.554 Q715.764 142.456 715.354 143.161 Q714.96 143.866 713.878 144.997 Q712.796 146.128 711.927 146.932 Q711.058 147.735 709.107 149.44 L705.549 152.9 L711.599 152.9 Q714.55 152.9 714.78 152.637 Q715.108 152.162 715.518 149.653 L716.37 149.653 L715.419 155.49 L702.959 155.49 Z\" fill=\"#000000\" fill-rule=\"evenodd\" fill-opacity=\"1\" /><path clip-path=\"url(#clip620)\" d=\"M735.77 158.439 Q734.669 158.439 734.669 157.854 Q734.669 157.268 735.817 157.268 Q735.957 157.268 736.191 157.291 Q736.449 157.315 736.496 157.315 L750.011 157.315 L750.011 143.753 Q750.011 143.706 749.987 143.496 Q749.964 143.261 749.964 143.121 Q749.964 141.973 750.526 141.973 Q751.111 141.973 751.111 143.121 L751.111 157.315 L764.65 157.315 Q764.696 157.315 764.931 157.291 Q765.165 157.268 765.305 157.268 Q766.406 157.268 766.406 157.854 Q766.43 158.439 765.259 158.439 Q765.118 158.439 764.907 158.416 Q764.696 158.392 764.65 158.392 L751.111 158.392 L751.111 172.633 Q751.111 173.734 750.526 173.734 Q749.964 173.734 749.964 172.586 Q749.964 172.446 749.987 172.211 Q750.011 172.001 750.011 171.954 L750.011 158.392 L736.496 158.392 Q736.449 158.392 736.168 158.416 Q735.91 158.439 735.77 158.439 Z\" fill=\"#000000\" fill-rule=\"evenodd\" fill-opacity=\"1\" /><path clip-path=\"url(#clip620)\" d=\"M784.937 154.691 Q784.937 147.149 788.778 142.535 Q792.62 137.898 797.562 137.898 Q800.443 137.898 802.035 139.373 Q803.652 140.825 803.652 143.074 Q803.652 144.315 802.925 144.854 Q802.199 145.393 801.45 145.393 Q800.583 145.393 799.904 144.807 Q799.225 144.222 799.225 143.168 Q799.225 141.013 801.871 141.013 Q800.63 139.092 797.655 139.092 Q796.742 139.092 795.805 139.373 Q794.868 139.631 793.65 140.521 Q792.432 141.411 791.495 142.816 Q790.558 144.222 789.903 146.868 Q789.247 149.515 789.247 152.958 L789.247 154.106 Q791.214 149.351 795.243 149.375 Q799.272 149.375 802.059 152.443 Q804.846 155.511 804.846 160.055 Q804.846 164.716 801.942 167.808 Q799.037 170.9 794.962 170.9 Q793.135 170.9 791.472 170.127 Q789.832 169.377 788.286 167.644 Q786.764 165.911 785.851 162.585 Q784.937 159.259 784.937 154.691 M789.34 159.001 Q789.34 163.709 790.207 165.958 Q790.348 166.332 790.652 166.848 Q790.98 167.363 791.519 168.042 Q792.081 168.698 792.994 169.143 Q793.908 169.565 794.962 169.565 Q798.171 169.565 799.717 166.45 Q800.536 164.716 800.536 160.008 Q800.536 155.207 799.67 153.45 Q798.194 150.475 795.196 150.475 Q793.182 150.475 791.776 151.857 Q790.394 153.239 789.856 155.09 Q789.34 156.94 789.34 159.001 Z\" fill=\"#000000\" fill-rule=\"evenodd\" fill-opacity=\"1\" /><path clip-path=\"url(#clip620)\" d=\"M831.816 151.811 Q831.816 153.122 830.996 153.872 Q830.177 154.598 829.24 154.598 Q828.35 154.598 827.881 154.083 Q827.413 153.567 827.413 152.911 Q827.413 152.021 828.069 151.248 Q828.724 150.475 829.708 150.311 Q828.748 149.703 827.319 149.703 Q826.382 149.703 825.562 150.194 Q824.766 150.686 824.274 151.319 Q823.806 151.951 823.384 152.865 Q822.986 153.755 822.822 154.293 Q822.681 154.809 822.564 155.371 L820.925 161.929 Q820.128 165.044 820.128 166.145 Q820.128 167.504 820.784 168.417 Q821.44 169.307 822.752 169.307 Q823.267 169.307 823.853 169.167 Q824.438 169.003 825.188 168.581 Q825.961 168.136 826.64 167.48 Q827.343 166.801 828.022 165.653 Q828.701 164.506 829.146 163.03 Q829.287 162.515 829.755 162.515 Q830.341 162.515 830.341 162.983 Q830.341 163.381 830.013 164.224 Q829.708 165.044 829.029 166.122 Q828.373 167.176 827.506 168.136 Q826.64 169.073 825.352 169.729 Q824.063 170.385 822.658 170.385 Q820.644 170.385 819.309 169.307 Q817.974 168.23 817.482 166.731 Q817.365 166.941 817.201 167.223 Q817.037 167.504 816.545 168.136 Q816.076 168.745 815.538 169.213 Q814.999 169.658 814.156 170.01 Q813.336 170.385 812.446 170.385 Q811.322 170.385 810.314 170.057 Q809.331 169.729 808.628 168.979 Q807.925 168.23 807.925 167.199 Q807.925 166.051 808.698 165.255 Q809.495 164.435 810.572 164.435 Q811.251 164.435 811.79 164.833 Q812.352 165.232 812.352 166.098 Q812.352 167.059 811.696 167.785 Q811.04 168.511 810.104 168.698 Q811.064 169.307 812.493 169.307 Q814.039 169.307 815.257 167.949 Q816.474 166.59 817.06 164.318 Q818.512 158.861 819.074 156.425 Q819.637 153.965 819.637 152.911 Q819.637 151.928 819.379 151.248 Q819.121 150.569 818.676 150.265 Q818.255 149.937 817.856 149.82 Q817.482 149.703 817.06 149.703 Q816.357 149.703 815.561 149.984 Q814.788 150.265 813.851 150.92 Q812.938 151.553 812.071 152.865 Q811.204 154.176 810.619 155.98 Q810.502 156.518 809.986 156.518 Q809.424 156.495 809.424 156.027 Q809.424 155.628 809.729 154.809 Q810.057 153.965 810.713 152.911 Q811.392 151.857 812.258 150.92 Q813.149 149.96 814.437 149.304 Q815.748 148.649 817.154 148.649 Q817.786 148.649 818.395 148.789 Q819.028 148.906 819.777 149.257 Q820.55 149.609 821.229 150.382 Q821.909 151.155 822.33 152.279 Q822.611 151.74 822.986 151.225 Q823.384 150.71 823.993 150.077 Q824.626 149.421 825.492 149.047 Q826.382 148.649 827.366 148.649 Q828.326 148.649 829.263 148.906 Q830.2 149.14 830.996 149.913 Q831.816 150.663 831.816 151.811 Z\" fill=\"#000000\" fill-rule=\"evenodd\" fill-opacity=\"1\" /><polyline clip-path=\"url(#clip620)\" style=\"stroke:#3da44d; stroke-linecap:round; stroke-linejoin:round; stroke-width:4; stroke-opacity:1; fill:none\" points=\"\n",
       "  261.263,209.375 427.275,209.375 \n",
       "  \"/>\n",
       "<path clip-path=\"url(#clip620)\" d=\"M476.96 202.737 Q476.96 202.76 476.82 203.604 L471.479 224.895 Q471.198 226.019 470.402 227.143 Q469.629 228.291 468.388 229.275 Q467.17 230.282 465.296 230.891 Q463.445 231.523 461.314 231.523 Q457.918 231.523 456.419 230.797 Q454.943 230.094 454.943 228.595 Q454.943 227.284 455.763 226.534 Q456.583 225.808 457.52 225.808 Q458.41 225.808 458.878 226.323 Q459.346 226.839 459.346 227.495 Q459.346 228.221 458.855 228.947 Q458.363 229.696 457.379 229.977 Q458.948 230.469 461.22 230.469 Q466.022 230.469 468.083 225.387 Q468.13 225.316 468.13 225.293 L469.723 218.945 L469.652 218.899 Q469.254 219.367 468.622 219.906 Q468.013 220.421 466.701 221.053 Q465.389 221.686 464.101 221.686 Q461.408 221.686 459.557 219.625 Q457.73 217.54 457.73 214.097 Q457.73 211.591 458.738 209.085 Q459.768 206.555 461.361 204.705 Q462.977 202.831 465.038 201.66 Q467.123 200.489 469.137 200.489 Q470.542 200.489 471.737 201.332 Q472.932 202.151 473.587 203.51 Q473.704 202.386 474.337 201.917 Q474.993 201.449 475.555 201.449 Q476.187 201.449 476.562 201.8 Q476.96 202.128 476.96 202.737 M473.025 205.665 Q473.025 205.524 472.932 205.15 Q472.838 204.751 472.557 204.119 Q472.299 203.487 471.901 202.924 Q471.503 202.362 470.777 201.964 Q470.074 201.543 469.184 201.543 Q467.732 201.543 466.28 202.76 Q464.827 203.955 463.82 205.805 Q462.883 207.586 461.993 211.029 Q461.127 214.472 461.127 216.228 Q461.127 217.962 461.876 219.297 Q462.626 220.632 464.242 220.632 Q466.116 220.632 468.13 218.899 Q470.215 217.095 470.566 215.549 L472.885 206.391 Q473.025 205.829 473.025 205.665 Z\" fill=\"#000000\" fill-rule=\"evenodd\" fill-opacity=\"1\" /><path clip-path=\"url(#clip620)\" d=\"M483.538 209.694 Q483.538 201.589 486.559 195.054 Q487.847 192.314 489.651 190.019 Q491.455 187.723 492.649 186.716 Q493.844 185.709 494.172 185.709 Q494.64 185.709 494.663 186.177 Q494.663 186.412 494.031 186.997 Q486.302 194.867 486.325 209.694 Q486.325 224.567 493.844 232.132 Q494.663 232.952 494.663 233.21 Q494.663 233.678 494.172 233.678 Q493.844 233.678 492.696 232.718 Q491.548 231.757 489.768 229.556 Q487.988 227.354 486.7 224.66 Q483.538 218.126 483.538 209.694 Z\" fill=\"#000000\" fill-rule=\"evenodd\" fill-opacity=\"1\" /><path clip-path=\"url(#clip620)\" d=\"M522.201 203.651 Q522.201 204.962 521.381 205.712 Q520.561 206.438 519.625 206.438 Q518.734 206.438 518.266 205.923 Q517.798 205.407 517.798 204.751 Q517.798 203.861 518.453 203.088 Q519.109 202.315 520.093 202.151 Q519.133 201.543 517.704 201.543 Q516.767 201.543 515.947 202.034 Q515.151 202.526 514.659 203.159 Q514.191 203.791 513.769 204.705 Q513.371 205.595 513.207 206.133 Q513.066 206.649 512.949 207.211 L511.31 213.769 Q510.513 216.884 510.513 217.985 Q510.513 219.344 511.169 220.257 Q511.825 221.147 513.137 221.147 Q513.652 221.147 514.237 221.007 Q514.823 220.843 515.572 220.421 Q516.345 219.976 517.025 219.32 Q517.727 218.641 518.407 217.493 Q519.086 216.346 519.531 214.87 Q519.671 214.355 520.14 214.355 Q520.725 214.355 520.725 214.823 Q520.725 215.221 520.397 216.064 Q520.093 216.884 519.414 217.962 Q518.758 219.016 517.891 219.976 Q517.025 220.913 515.736 221.569 Q514.448 222.225 513.043 222.225 Q511.029 222.225 509.693 221.147 Q508.358 220.07 507.866 218.571 Q507.749 218.781 507.585 219.063 Q507.421 219.344 506.93 219.976 Q506.461 220.585 505.922 221.053 Q505.384 221.498 504.54 221.85 Q503.721 222.225 502.831 222.225 Q501.706 222.225 500.699 221.897 Q499.715 221.569 499.013 220.819 Q498.31 220.07 498.31 219.039 Q498.31 217.891 499.083 217.095 Q499.879 216.275 500.957 216.275 Q501.636 216.275 502.175 216.673 Q502.737 217.072 502.737 217.938 Q502.737 218.899 502.081 219.625 Q501.425 220.351 500.488 220.538 Q501.449 221.147 502.878 221.147 Q504.423 221.147 505.641 219.789 Q506.859 218.43 507.445 216.158 Q508.897 210.701 509.459 208.265 Q510.021 205.805 510.021 204.751 Q510.021 203.768 509.764 203.088 Q509.506 202.409 509.061 202.105 Q508.639 201.777 508.241 201.66 Q507.866 201.543 507.445 201.543 Q506.742 201.543 505.946 201.824 Q505.173 202.105 504.236 202.76 Q503.323 203.393 502.456 204.705 Q501.589 206.016 501.004 207.82 Q500.887 208.358 500.371 208.358 Q499.809 208.335 499.809 207.867 Q499.809 207.468 500.114 206.649 Q500.442 205.805 501.097 204.751 Q501.777 203.697 502.643 202.76 Q503.533 201.8 504.822 201.144 Q506.133 200.489 507.539 200.489 Q508.171 200.489 508.78 200.629 Q509.412 200.746 510.162 201.097 Q510.935 201.449 511.614 202.222 Q512.293 202.995 512.715 204.119 Q512.996 203.58 513.371 203.065 Q513.769 202.55 514.378 201.917 Q515.01 201.261 515.877 200.887 Q516.767 200.489 517.751 200.489 Q518.711 200.489 519.648 200.746 Q520.585 200.98 521.381 201.753 Q522.201 202.503 522.201 203.651 Z\" fill=\"#000000\" fill-rule=\"evenodd\" fill-opacity=\"1\" /><path clip-path=\"url(#clip620)\" d=\"M526.821 233.21 Q526.821 232.975 527.43 232.39 Q535.159 224.52 535.159 209.694 Q535.159 194.82 527.734 187.302 Q526.821 186.435 526.821 186.177 Q526.821 185.709 527.289 185.709 Q527.617 185.709 528.765 186.669 Q529.936 187.63 531.693 189.831 Q533.473 192.033 534.784 194.727 Q537.946 201.261 537.946 209.694 Q537.946 217.798 534.925 224.333 Q533.637 227.073 531.833 229.368 Q530.03 231.664 528.835 232.671 Q527.64 233.678 527.289 233.678 Q526.821 233.678 526.821 233.21 Z\" fill=\"#000000\" fill-rule=\"evenodd\" fill-opacity=\"1\" /><path clip-path=\"url(#clip620)\" d=\"M558.552 214.401 Q558.599 213.816 559.513 213.816 L588.908 213.816 Q590.29 213.816 590.313 214.355 Q590.313 214.94 589.002 214.917 L559.841 214.917 Q558.552 214.94 558.552 214.401 M558.552 205.032 Q558.552 204.447 559.56 204.47 L588.861 204.47 Q590.29 204.47 590.313 205.032 Q590.313 205.571 589.095 205.571 L559.513 205.571 Q558.552 205.571 558.552 205.032 Z\" fill=\"#000000\" fill-rule=\"evenodd\" fill-opacity=\"1\" /><path clip-path=\"url(#clip620)\" d=\"M632.711 203.651 Q632.711 204.962 631.892 205.712 Q631.072 206.438 630.135 206.438 Q629.245 206.438 628.777 205.923 Q628.308 205.407 628.308 204.751 Q628.308 203.861 628.964 203.088 Q629.62 202.315 630.603 202.151 Q629.643 201.543 628.214 201.543 Q627.277 201.543 626.458 202.034 Q625.661 202.526 625.169 203.159 Q624.701 203.791 624.279 204.705 Q623.881 205.595 623.717 206.133 Q623.577 206.649 623.46 207.211 L621.82 213.769 Q621.024 216.884 621.024 217.985 Q621.024 219.344 621.68 220.257 Q622.335 221.147 623.647 221.147 Q624.162 221.147 624.748 221.007 Q625.333 220.843 626.083 220.421 Q626.856 219.976 627.535 219.32 Q628.238 218.641 628.917 217.493 Q629.596 216.346 630.041 214.87 Q630.182 214.355 630.65 214.355 Q631.236 214.355 631.236 214.823 Q631.236 215.221 630.908 216.064 Q630.603 216.884 629.924 217.962 Q629.268 219.016 628.402 219.976 Q627.535 220.913 626.247 221.569 Q624.959 222.225 623.553 222.225 Q621.539 222.225 620.204 221.147 Q618.869 220.07 618.377 218.571 Q618.26 218.781 618.096 219.063 Q617.932 219.344 617.44 219.976 Q616.972 220.585 616.433 221.053 Q615.894 221.498 615.051 221.85 Q614.231 222.225 613.341 222.225 Q612.217 222.225 611.21 221.897 Q610.226 221.569 609.523 220.819 Q608.821 220.07 608.821 219.039 Q608.821 217.891 609.594 217.095 Q610.39 216.275 611.467 216.275 Q612.147 216.275 612.685 216.673 Q613.247 217.072 613.247 217.938 Q613.247 218.899 612.592 219.625 Q611.936 220.351 610.999 220.538 Q611.959 221.147 613.388 221.147 Q614.934 221.147 616.152 219.789 Q617.37 218.43 617.955 216.158 Q619.408 210.701 619.97 208.265 Q620.532 205.805 620.532 204.751 Q620.532 203.768 620.274 203.088 Q620.017 202.409 619.572 202.105 Q619.15 201.777 618.752 201.66 Q618.377 201.543 617.955 201.543 Q617.253 201.543 616.456 201.824 Q615.683 202.105 614.746 202.76 Q613.833 203.393 612.966 204.705 Q612.1 206.016 611.514 207.82 Q611.397 208.358 610.882 208.358 Q610.32 208.335 610.32 207.867 Q610.32 207.468 610.624 206.649 Q610.952 205.805 611.608 204.751 Q612.287 203.697 613.154 202.76 Q614.044 201.8 615.332 201.144 Q616.644 200.489 618.049 200.489 Q618.681 200.489 619.29 200.629 Q619.923 200.746 620.672 201.097 Q621.445 201.449 622.125 202.222 Q622.804 202.995 623.225 204.119 Q623.506 203.58 623.881 203.065 Q624.279 202.55 624.888 201.917 Q625.521 201.261 626.387 200.887 Q627.277 200.489 628.261 200.489 Q629.222 200.489 630.158 200.746 Q631.095 200.98 631.892 201.753 Q632.711 202.503 632.711 203.651 Z\" fill=\"#000000\" fill-rule=\"evenodd\" fill-opacity=\"1\" /><path clip-path=\"url(#clip620)\" d=\"M637.601 207.33 Q637.601 206.724 637.65 206.543 Q637.715 206.363 637.978 206.084 L644.421 198.903 Q647.946 194.935 647.946 191.476 Q647.946 189.229 646.766 187.623 Q645.602 186.016 643.454 186.016 Q641.978 186.016 640.732 186.918 Q639.486 187.819 638.912 189.426 Q639.011 189.393 639.355 189.393 Q640.191 189.393 640.65 189.918 Q641.126 190.443 641.126 191.148 Q641.126 192.049 640.535 192.492 Q639.962 192.918 639.388 192.918 Q639.158 192.918 638.847 192.869 Q638.552 192.82 638.076 192.361 Q637.601 191.885 637.601 191.049 Q637.601 188.705 639.371 186.836 Q641.158 184.966 643.88 184.966 Q646.963 184.966 648.979 186.803 Q651.012 188.623 651.012 191.476 Q651.012 192.476 650.701 193.394 Q650.406 194.296 649.996 195.001 Q649.602 195.706 648.52 196.837 Q647.438 197.968 646.569 198.772 Q645.7 199.575 643.749 201.28 L640.191 204.74 L646.241 204.74 Q649.192 204.74 649.422 204.477 Q649.75 204.002 650.16 201.493 L651.012 201.493 L650.061 207.33 L637.601 207.33 Z\" fill=\"#000000\" fill-rule=\"evenodd\" fill-opacity=\"1\" /><path clip-path=\"url(#clip620)\" d=\"M700.978 209.014 Q701.259 209.295 701.259 209.694 Q701.259 210.092 700.978 210.373 Q700.697 210.654 700.299 210.654 L670.271 210.654 Q669.873 210.654 669.592 210.373 Q669.311 210.092 669.311 209.694 Q669.311 209.295 669.592 209.014 Q669.873 208.733 670.271 208.733 L700.299 208.733 Q700.697 208.733 700.978 209.014 Z\" fill=\"#000000\" fill-rule=\"evenodd\" fill-opacity=\"1\" /><path clip-path=\"url(#clip620)\" d=\"M719.579 221.686 Q719.579 220.819 719.649 220.562 Q719.743 220.304 720.118 219.906 L729.323 209.647 Q734.359 203.978 734.359 199.036 Q734.359 195.827 732.672 193.532 Q731.009 191.237 727.941 191.237 Q725.833 191.237 724.053 192.525 Q722.273 193.813 721.453 196.109 Q721.593 196.062 722.085 196.062 Q723.28 196.062 723.936 196.811 Q724.615 197.561 724.615 198.568 Q724.615 199.856 723.772 200.489 Q722.952 201.097 722.132 201.097 Q721.804 201.097 721.359 201.027 Q720.938 200.957 720.258 200.301 Q719.579 199.622 719.579 198.427 Q719.579 195.078 722.109 192.408 Q724.662 189.738 728.55 189.738 Q732.953 189.738 735.834 192.361 Q738.739 194.961 738.739 199.036 Q738.739 200.465 738.294 201.777 Q737.872 203.065 737.287 204.072 Q736.724 205.079 735.178 206.695 Q733.633 208.312 732.391 209.459 Q731.15 210.607 728.363 213.043 L723.28 217.985 L731.923 217.985 Q736.139 217.985 736.467 217.61 Q736.935 216.931 737.521 213.347 L738.739 213.347 L737.38 221.686 L719.579 221.686 Z\" fill=\"#000000\" fill-rule=\"evenodd\" fill-opacity=\"1\" /><path clip-path=\"url(#clip620)\" d=\"M766.458 203.651 Q766.458 204.962 765.638 205.712 Q764.819 206.438 763.882 206.438 Q762.992 206.438 762.523 205.923 Q762.055 205.407 762.055 204.751 Q762.055 203.861 762.711 203.088 Q763.367 202.315 764.35 202.151 Q763.39 201.543 761.961 201.543 Q761.024 201.543 760.204 202.034 Q759.408 202.526 758.916 203.159 Q758.448 203.791 758.026 204.705 Q757.628 205.595 757.464 206.133 Q757.324 206.649 757.206 207.211 L755.567 213.769 Q754.77 216.884 754.77 217.985 Q754.77 219.344 755.426 220.257 Q756.082 221.147 757.394 221.147 Q757.909 221.147 758.495 221.007 Q759.08 220.843 759.83 220.421 Q760.603 219.976 761.282 219.32 Q761.985 218.641 762.664 217.493 Q763.343 216.346 763.788 214.87 Q763.929 214.355 764.397 214.355 Q764.983 214.355 764.983 214.823 Q764.983 215.221 764.655 216.064 Q764.35 216.884 763.671 217.962 Q763.015 219.016 762.149 219.976 Q761.282 220.913 759.994 221.569 Q758.705 222.225 757.3 222.225 Q755.286 222.225 753.951 221.147 Q752.616 220.07 752.124 218.571 Q752.007 218.781 751.843 219.063 Q751.679 219.344 751.187 219.976 Q750.718 220.585 750.18 221.053 Q749.641 221.498 748.798 221.85 Q747.978 222.225 747.088 222.225 Q745.964 222.225 744.956 221.897 Q743.973 221.569 743.27 220.819 Q742.567 220.07 742.567 219.039 Q742.567 217.891 743.34 217.095 Q744.137 216.275 745.214 216.275 Q745.893 216.275 746.432 216.673 Q746.994 217.072 746.994 217.938 Q746.994 218.899 746.338 219.625 Q745.683 220.351 744.746 220.538 Q745.706 221.147 747.135 221.147 Q748.681 221.147 749.899 219.789 Q751.117 218.43 751.702 216.158 Q753.154 210.701 753.716 208.265 Q754.279 205.805 754.279 204.751 Q754.279 203.768 754.021 203.088 Q753.763 202.409 753.318 202.105 Q752.897 201.777 752.499 201.66 Q752.124 201.543 751.702 201.543 Q750.999 201.543 750.203 201.824 Q749.43 202.105 748.493 202.76 Q747.58 203.393 746.713 204.705 Q745.847 206.016 745.261 207.82 Q745.144 208.358 744.629 208.358 Q744.066 208.335 744.066 207.867 Q744.066 207.468 744.371 206.649 Q744.699 205.805 745.355 204.751 Q746.034 203.697 746.901 202.76 Q747.791 201.8 749.079 201.144 Q750.39 200.489 751.796 200.489 Q752.428 200.489 753.037 200.629 Q753.67 200.746 754.419 201.097 Q755.192 201.449 755.871 202.222 Q756.551 202.995 756.972 204.119 Q757.253 203.58 757.628 203.065 Q758.026 202.55 758.635 201.917 Q759.268 201.261 760.134 200.887 Q761.024 200.489 762.008 200.489 Q762.968 200.489 763.905 200.746 Q764.842 200.98 765.638 201.753 Q766.458 202.503 766.458 203.651 Z\" fill=\"#000000\" fill-rule=\"evenodd\" fill-opacity=\"1\" /><path clip-path=\"url(#clip620)\" d=\"M1330.33 920.751 Q1324.82 920.751 1321.58 924.518 Q1318.38 928.285 1318.38 934.848 Q1318.38 941.37 1321.58 945.178 Q1324.82 948.945 1330.33 948.945 Q1335.84 948.945 1339.04 945.178 Q1342.28 941.37 1342.28 934.848 Q1342.28 928.285 1339.04 924.518 Q1335.84 920.751 1330.33 920.751 M1346.58 895.108 L1346.58 902.562 Q1343.5 901.104 1340.34 900.334 Q1337.22 899.564 1334.14 899.564 Q1326.04 899.564 1321.74 905.033 Q1317.49 910.502 1316.88 921.561 Q1319.27 918.037 1322.88 916.173 Q1326.48 914.269 1330.82 914.269 Q1339.93 914.269 1345.2 919.819 Q1350.51 925.328 1350.51 934.848 Q1350.51 944.165 1345 949.796 Q1339.49 955.426 1330.33 955.426 Q1319.84 955.426 1314.29 947.406 Q1308.74 939.344 1308.74 924.072 Q1308.74 909.732 1315.55 901.225 Q1322.35 892.678 1333.82 892.678 Q1336.89 892.678 1340.01 893.286 Q1343.17 893.893 1346.58 895.108 Z\" fill=\"#000000\" fill-rule=\"evenodd\" fill-opacity=\"1\" /><path clip-path=\"url(#clip620)\" d=\"M1387.08 900.901 L1366.43 933.187 L1387.08 933.187 L1387.08 900.901 M1384.94 893.772 L1395.23 893.772 L1395.23 933.187 L1403.86 933.187 L1403.86 939.993 L1395.23 939.993 L1395.23 954.252 L1387.08 954.252 L1387.08 939.993 L1359.78 939.993 L1359.78 932.093 L1384.94 893.772 Z\" fill=\"#000000\" fill-rule=\"evenodd\" fill-opacity=\"1\" /><path clip-path=\"url(#clip620)\" d=\"M1429.58 893.772 L1436.47 893.772 L1415.4 961.948 L1408.51 961.948 L1429.58 893.772 Z\" fill=\"#000000\" fill-rule=\"evenodd\" fill-opacity=\"1\" /><path clip-path=\"url(#clip620)\" d=\"M1470.13 921.642 Q1476 922.898 1479.28 926.868 Q1482.61 930.837 1482.61 936.671 Q1482.61 945.623 1476.45 950.525 Q1470.29 955.426 1458.95 955.426 Q1455.14 955.426 1451.09 954.657 Q1447.08 953.928 1442.78 952.429 L1442.78 944.53 Q1446.19 946.514 1450.24 947.527 Q1454.29 948.54 1458.7 948.54 Q1466.4 948.54 1470.41 945.502 Q1474.46 942.464 1474.46 936.671 Q1474.46 931.324 1470.7 928.326 Q1466.97 925.288 1460.28 925.288 L1453.24 925.288 L1453.24 918.563 L1460.61 918.563 Q1466.64 918.563 1469.84 916.173 Q1473.04 913.743 1473.04 909.206 Q1473.04 904.547 1469.72 902.076 Q1466.44 899.564 1460.28 899.564 Q1456.92 899.564 1453.07 900.294 Q1449.23 901.023 1444.61 902.562 L1444.61 895.271 Q1449.27 893.974 1453.32 893.326 Q1457.41 892.678 1461.01 892.678 Q1470.33 892.678 1475.76 896.931 Q1481.19 901.144 1481.19 908.355 Q1481.19 913.378 1478.31 916.862 Q1475.43 920.305 1470.13 921.642 Z\" fill=\"#000000\" fill-rule=\"evenodd\" fill-opacity=\"1\" /></svg>\n"
      ]
     },
     "execution_count": 47,
     "metadata": {},
     "output_type": "execute_result"
    }
   ],
   "source": [
    "using Plots, SymPy, LaTeXStrings\n",
    "@vars x real = true\n",
    "f(x) = -x^2+6x\n",
    "g(x) = x^2-2x\n",
    "plot(f, -1, 5, label = L\"$f(x)=-x^2+6x$\")\n",
    "plot!(g, 0, 4, fillrange = f, fillalpha = 0.3, label = \"\")\n",
    "plot!(g, label = L\"$g(x)=x^2-2x$\")\n",
    "annotate!(2, 4, sol)"
   ]
  },
  {
   "cell_type": "code",
   "execution_count": 22,
   "id": "da43bc10",
   "metadata": {},
   "outputs": [
    {
     "data": {
      "image/svg+xml": [
       "<?xml version=\"1.0\" encoding=\"utf-8\"?>\n",
       "<svg xmlns=\"http://www.w3.org/2000/svg\" xmlns:xlink=\"http://www.w3.org/1999/xlink\" width=\"672\" height=\"480\" viewBox=\"0 0 2688 1920\">\n",
       "<defs>\n",
       "  <clipPath id=\"clip660\">\n",
       "    <rect x=\"0\" y=\"0\" width=\"2688\" height=\"1920\"/>\n",
       "  </clipPath>\n",
       "</defs>\n",
       "<path clip-path=\"url(#clip660)\" d=\"\n",
       "M0 1920 L2688 1920 L2688 0 L0 0  Z\n",
       "  \" fill=\"#ffffff\" fill-rule=\"evenodd\" fill-opacity=\"1\"/>\n",
       "<defs>\n",
       "  <clipPath id=\"clip661\">\n",
       "    <rect x=\"537\" y=\"0\" width=\"1883\" height=\"1883\"/>\n",
       "  </clipPath>\n",
       "</defs>\n",
       "<defs>\n",
       "  <clipPath id=\"clip662\">\n",
       "    <rect x=\"150\" y=\"47\" width=\"2491\" height=\"1755\"/>\n",
       "  </clipPath>\n",
       "</defs>\n",
       "<path clip-path=\"url(#clip660)\" d=\"\n",
       "M159.478 1800.78 L2640.76 1800.78 L2640.76 47.2441 L159.478 47.2441  Z\n",
       "  \" fill=\"#ffffff\" fill-rule=\"evenodd\" fill-opacity=\"1\"/>\n",
       "<defs>\n",
       "  <clipPath id=\"clip663\">\n",
       "    <rect x=\"159\" y=\"47\" width=\"2482\" height=\"1755\"/>\n",
       "  </clipPath>\n",
       "</defs>\n",
       "<polyline clip-path=\"url(#clip663)\" style=\"stroke:#000000; stroke-linecap:round; stroke-linejoin:round; stroke-width:2; stroke-opacity:0.1; fill:none\" points=\"\n",
       "  463.786,1800.78 463.786,47.2441 \n",
       "  \"/>\n",
       "<polyline clip-path=\"url(#clip663)\" style=\"stroke:#000000; stroke-linecap:round; stroke-linejoin:round; stroke-width:2; stroke-opacity:0.1; fill:none\" points=\"\n",
       "  931.951,1800.78 931.951,47.2441 \n",
       "  \"/>\n",
       "<polyline clip-path=\"url(#clip663)\" style=\"stroke:#000000; stroke-linecap:round; stroke-linejoin:round; stroke-width:2; stroke-opacity:0.1; fill:none\" points=\"\n",
       "  1400.12,1800.78 1400.12,47.2441 \n",
       "  \"/>\n",
       "<polyline clip-path=\"url(#clip663)\" style=\"stroke:#000000; stroke-linecap:round; stroke-linejoin:round; stroke-width:2; stroke-opacity:0.1; fill:none\" points=\"\n",
       "  1868.28,1800.78 1868.28,47.2441 \n",
       "  \"/>\n",
       "<polyline clip-path=\"url(#clip663)\" style=\"stroke:#000000; stroke-linecap:round; stroke-linejoin:round; stroke-width:2; stroke-opacity:0.1; fill:none\" points=\"\n",
       "  2336.45,1800.78 2336.45,47.2441 \n",
       "  \"/>\n",
       "<polyline clip-path=\"url(#clip660)\" style=\"stroke:#000000; stroke-linecap:round; stroke-linejoin:round; stroke-width:4; stroke-opacity:1; fill:none\" points=\"\n",
       "  159.478,1800.78 2640.76,1800.78 \n",
       "  \"/>\n",
       "<polyline clip-path=\"url(#clip660)\" style=\"stroke:#000000; stroke-linecap:round; stroke-linejoin:round; stroke-width:4; stroke-opacity:1; fill:none\" points=\"\n",
       "  463.786,1800.78 463.786,1781.88 \n",
       "  \"/>\n",
       "<polyline clip-path=\"url(#clip660)\" style=\"stroke:#000000; stroke-linecap:round; stroke-linejoin:round; stroke-width:4; stroke-opacity:1; fill:none\" points=\"\n",
       "  931.951,1800.78 931.951,1781.88 \n",
       "  \"/>\n",
       "<polyline clip-path=\"url(#clip660)\" style=\"stroke:#000000; stroke-linecap:round; stroke-linejoin:round; stroke-width:4; stroke-opacity:1; fill:none\" points=\"\n",
       "  1400.12,1800.78 1400.12,1781.88 \n",
       "  \"/>\n",
       "<polyline clip-path=\"url(#clip660)\" style=\"stroke:#000000; stroke-linecap:round; stroke-linejoin:round; stroke-width:4; stroke-opacity:1; fill:none\" points=\"\n",
       "  1868.28,1800.78 1868.28,1781.88 \n",
       "  \"/>\n",
       "<polyline clip-path=\"url(#clip660)\" style=\"stroke:#000000; stroke-linecap:round; stroke-linejoin:round; stroke-width:4; stroke-opacity:1; fill:none\" points=\"\n",
       "  2336.45,1800.78 2336.45,1781.88 \n",
       "  \"/>\n",
       "<path clip-path=\"url(#clip660)\" d=\"M432.687 1848.65 L462.362 1848.65 L462.362 1852.59 L432.687 1852.59 L432.687 1848.65 Z\" fill=\"#000000\" fill-rule=\"evenodd\" fill-opacity=\"1\" /><path clip-path=\"url(#clip660)\" d=\"M485.302 1835 L473.496 1853.45 L485.302 1853.45 L485.302 1835 M484.075 1830.92 L489.955 1830.92 L489.955 1853.45 L494.885 1853.45 L494.885 1857.34 L489.955 1857.34 L489.955 1865.48 L485.302 1865.48 L485.302 1857.34 L469.7 1857.34 L469.7 1852.82 L484.075 1830.92 Z\" fill=\"#000000\" fill-rule=\"evenodd\" fill-opacity=\"1\" /><path clip-path=\"url(#clip660)\" d=\"M901.894 1848.65 L931.57 1848.65 L931.57 1852.59 L901.894 1852.59 L901.894 1848.65 Z\" fill=\"#000000\" fill-rule=\"evenodd\" fill-opacity=\"1\" /><path clip-path=\"url(#clip660)\" d=\"M945.69 1861.55 L962.009 1861.55 L962.009 1865.48 L940.065 1865.48 L940.065 1861.55 Q942.727 1858.79 947.31 1854.16 Q951.917 1849.51 953.097 1848.17 Q955.343 1845.65 956.222 1843.91 Q957.125 1842.15 957.125 1840.46 Q957.125 1837.71 955.181 1835.97 Q953.259 1834.23 950.157 1834.23 Q947.958 1834.23 945.505 1835 Q943.074 1835.76 940.296 1837.31 L940.296 1832.59 Q943.12 1831.46 945.574 1830.88 Q948.028 1830.3 950.065 1830.3 Q955.435 1830.3 958.63 1832.98 Q961.824 1835.67 961.824 1840.16 Q961.824 1842.29 961.014 1844.21 Q960.227 1846.11 958.12 1848.7 Q957.542 1849.37 954.44 1852.59 Q951.338 1855.78 945.69 1861.55 Z\" fill=\"#000000\" fill-rule=\"evenodd\" fill-opacity=\"1\" /><path clip-path=\"url(#clip660)\" d=\"M1400.12 1834 Q1396.51 1834 1394.68 1837.57 Q1392.87 1841.11 1392.87 1848.24 Q1392.87 1855.34 1394.68 1858.91 Q1396.51 1862.45 1400.12 1862.45 Q1403.75 1862.45 1405.56 1858.91 Q1407.39 1855.34 1407.39 1848.24 Q1407.39 1841.11 1405.56 1837.57 Q1403.75 1834 1400.12 1834 M1400.12 1830.3 Q1405.93 1830.3 1408.98 1834.9 Q1412.06 1839.49 1412.06 1848.24 Q1412.06 1856.96 1408.98 1861.57 Q1405.93 1866.15 1400.12 1866.15 Q1394.31 1866.15 1391.23 1861.57 Q1388.17 1856.96 1388.17 1848.24 Q1388.17 1839.49 1391.23 1834.9 Q1394.31 1830.3 1400.12 1830.3 Z\" fill=\"#000000\" fill-rule=\"evenodd\" fill-opacity=\"1\" /><path clip-path=\"url(#clip660)\" d=\"M1862.94 1861.55 L1879.25 1861.55 L1879.25 1865.48 L1857.31 1865.48 L1857.31 1861.55 Q1859.97 1858.79 1864.56 1854.16 Q1869.16 1849.51 1870.34 1848.17 Q1872.59 1845.65 1873.47 1843.91 Q1874.37 1842.15 1874.37 1840.46 Q1874.37 1837.71 1872.43 1835.97 Q1870.5 1834.23 1867.4 1834.23 Q1865.2 1834.23 1862.75 1835 Q1860.32 1835.76 1857.54 1837.31 L1857.54 1832.59 Q1860.37 1831.46 1862.82 1830.88 Q1865.27 1830.3 1867.31 1830.3 Q1872.68 1830.3 1875.88 1832.98 Q1879.07 1835.67 1879.07 1840.16 Q1879.07 1842.29 1878.26 1844.21 Q1877.47 1846.11 1875.37 1848.7 Q1874.79 1849.37 1871.69 1852.59 Q1868.58 1855.78 1862.94 1861.55 Z\" fill=\"#000000\" fill-rule=\"evenodd\" fill-opacity=\"1\" /><path clip-path=\"url(#clip660)\" d=\"M2339.46 1835 L2327.65 1853.45 L2339.46 1853.45 L2339.46 1835 M2338.23 1830.92 L2344.11 1830.92 L2344.11 1853.45 L2349.04 1853.45 L2349.04 1857.34 L2344.11 1857.34 L2344.11 1865.48 L2339.46 1865.48 L2339.46 1857.34 L2323.86 1857.34 L2323.86 1852.82 L2338.23 1830.92 Z\" fill=\"#000000\" fill-rule=\"evenodd\" fill-opacity=\"1\" /><polyline clip-path=\"url(#clip663)\" style=\"stroke:#000000; stroke-linecap:round; stroke-linejoin:round; stroke-width:2; stroke-opacity:0.1; fill:none\" points=\"\n",
       "  159.478,1751.16 2640.76,1751.16 \n",
       "  \"/>\n",
       "<polyline clip-path=\"url(#clip663)\" style=\"stroke:#000000; stroke-linecap:round; stroke-linejoin:round; stroke-width:2; stroke-opacity:0.1; fill:none\" points=\"\n",
       "  159.478,1336.39 2640.76,1336.39 \n",
       "  \"/>\n",
       "<polyline clip-path=\"url(#clip663)\" style=\"stroke:#000000; stroke-linecap:round; stroke-linejoin:round; stroke-width:2; stroke-opacity:0.1; fill:none\" points=\"\n",
       "  159.478,921.626 2640.76,921.626 \n",
       "  \"/>\n",
       "<polyline clip-path=\"url(#clip663)\" style=\"stroke:#000000; stroke-linecap:round; stroke-linejoin:round; stroke-width:2; stroke-opacity:0.1; fill:none\" points=\"\n",
       "  159.478,506.86 2640.76,506.86 \n",
       "  \"/>\n",
       "<polyline clip-path=\"url(#clip663)\" style=\"stroke:#000000; stroke-linecap:round; stroke-linejoin:round; stroke-width:2; stroke-opacity:0.1; fill:none\" points=\"\n",
       "  159.478,92.0947 2640.76,92.0947 \n",
       "  \"/>\n",
       "<polyline clip-path=\"url(#clip660)\" style=\"stroke:#000000; stroke-linecap:round; stroke-linejoin:round; stroke-width:4; stroke-opacity:1; fill:none\" points=\"\n",
       "  159.478,1800.78 159.478,47.2441 \n",
       "  \"/>\n",
       "<polyline clip-path=\"url(#clip660)\" style=\"stroke:#000000; stroke-linecap:round; stroke-linejoin:round; stroke-width:4; stroke-opacity:1; fill:none\" points=\"\n",
       "  159.478,1751.16 178.376,1751.16 \n",
       "  \"/>\n",
       "<polyline clip-path=\"url(#clip660)\" style=\"stroke:#000000; stroke-linecap:round; stroke-linejoin:round; stroke-width:4; stroke-opacity:1; fill:none\" points=\"\n",
       "  159.478,1336.39 178.376,1336.39 \n",
       "  \"/>\n",
       "<polyline clip-path=\"url(#clip660)\" style=\"stroke:#000000; stroke-linecap:round; stroke-linejoin:round; stroke-width:4; stroke-opacity:1; fill:none\" points=\"\n",
       "  159.478,921.626 178.376,921.626 \n",
       "  \"/>\n",
       "<polyline clip-path=\"url(#clip660)\" style=\"stroke:#000000; stroke-linecap:round; stroke-linejoin:round; stroke-width:4; stroke-opacity:1; fill:none\" points=\"\n",
       "  159.478,506.86 178.376,506.86 \n",
       "  \"/>\n",
       "<polyline clip-path=\"url(#clip660)\" style=\"stroke:#000000; stroke-linecap:round; stroke-linejoin:round; stroke-width:4; stroke-opacity:1; fill:none\" points=\"\n",
       "  159.478,92.0947 178.376,92.0947 \n",
       "  \"/>\n",
       "<path clip-path=\"url(#clip660)\" d=\"M61.9826 1736.96 Q58.3715 1736.96 56.5428 1740.52 Q54.7373 1744.06 54.7373 1751.19 Q54.7373 1758.3 56.5428 1761.86 Q58.3715 1765.4 61.9826 1765.4 Q65.6169 1765.4 67.4224 1761.86 Q69.2511 1758.3 69.2511 1751.19 Q69.2511 1744.06 67.4224 1740.52 Q65.6169 1736.96 61.9826 1736.96 M61.9826 1733.25 Q67.7928 1733.25 70.8483 1737.86 Q73.927 1742.44 73.927 1751.19 Q73.927 1759.92 70.8483 1764.53 Q67.7928 1769.11 61.9826 1769.11 Q56.1725 1769.11 53.0938 1764.53 Q50.0382 1759.92 50.0382 1751.19 Q50.0382 1742.44 53.0938 1737.86 Q56.1725 1733.25 61.9826 1733.25 Z\" fill=\"#000000\" fill-rule=\"evenodd\" fill-opacity=\"1\" /><path clip-path=\"url(#clip660)\" d=\"M82.1445 1762.56 L87.0288 1762.56 L87.0288 1768.44 L82.1445 1768.44 L82.1445 1762.56 Z\" fill=\"#000000\" fill-rule=\"evenodd\" fill-opacity=\"1\" /><path clip-path=\"url(#clip660)\" d=\"M107.214 1736.96 Q103.603 1736.96 101.774 1740.52 Q99.9685 1744.06 99.9685 1751.19 Q99.9685 1758.3 101.774 1761.86 Q103.603 1765.4 107.214 1765.4 Q110.848 1765.4 112.654 1761.86 Q114.482 1758.3 114.482 1751.19 Q114.482 1744.06 112.654 1740.52 Q110.848 1736.96 107.214 1736.96 M107.214 1733.25 Q113.024 1733.25 116.08 1737.86 Q119.158 1742.44 119.158 1751.19 Q119.158 1759.92 116.08 1764.53 Q113.024 1769.11 107.214 1769.11 Q101.404 1769.11 98.325 1764.53 Q95.2695 1759.92 95.2695 1751.19 Q95.2695 1742.44 98.325 1737.86 Q101.404 1733.25 107.214 1733.25 Z\" fill=\"#000000\" fill-rule=\"evenodd\" fill-opacity=\"1\" /><path clip-path=\"url(#clip660)\" d=\"M63.2095 1322.19 Q59.5984 1322.19 57.7697 1325.76 Q55.9641 1329.3 55.9641 1336.43 Q55.9641 1343.53 57.7697 1347.1 Q59.5984 1350.64 63.2095 1350.64 Q66.8437 1350.64 68.6492 1347.1 Q70.4779 1343.53 70.4779 1336.43 Q70.4779 1329.3 68.6492 1325.76 Q66.8437 1322.19 63.2095 1322.19 M63.2095 1318.49 Q69.0196 1318.49 72.0752 1323.09 Q75.1538 1327.68 75.1538 1336.43 Q75.1538 1345.15 72.0752 1349.76 Q69.0196 1354.34 63.2095 1354.34 Q57.3993 1354.34 54.3206 1349.76 Q51.2651 1345.15 51.2651 1336.43 Q51.2651 1327.68 54.3206 1323.09 Q57.3993 1318.49 63.2095 1318.49 Z\" fill=\"#000000\" fill-rule=\"evenodd\" fill-opacity=\"1\" /><path clip-path=\"url(#clip660)\" d=\"M83.3714 1347.79 L88.2556 1347.79 L88.2556 1353.67 L83.3714 1353.67 L83.3714 1347.79 Z\" fill=\"#000000\" fill-rule=\"evenodd\" fill-opacity=\"1\" /><path clip-path=\"url(#clip660)\" d=\"M99.2509 1349.74 L106.89 1349.74 L106.89 1323.37 L98.5796 1325.04 L98.5796 1320.78 L106.843 1319.11 L111.519 1319.11 L111.519 1349.74 L119.158 1349.74 L119.158 1353.67 L99.2509 1353.67 L99.2509 1349.74 Z\" fill=\"#000000\" fill-rule=\"evenodd\" fill-opacity=\"1\" /><path clip-path=\"url(#clip660)\" d=\"M63.5798 907.425 Q59.9687 907.425 58.14 910.989 Q56.3345 914.531 56.3345 921.661 Q56.3345 928.767 58.14 932.332 Q59.9687 935.874 63.5798 935.874 Q67.2141 935.874 69.0196 932.332 Q70.8483 928.767 70.8483 921.661 Q70.8483 914.531 69.0196 910.989 Q67.2141 907.425 63.5798 907.425 M63.5798 903.721 Q69.39 903.721 72.4455 908.327 Q75.5242 912.911 75.5242 921.661 Q75.5242 930.387 72.4455 934.994 Q69.39 939.577 63.5798 939.577 Q57.7697 939.577 54.691 934.994 Q51.6354 930.387 51.6354 921.661 Q51.6354 912.911 54.691 908.327 Q57.7697 903.721 63.5798 903.721 Z\" fill=\"#000000\" fill-rule=\"evenodd\" fill-opacity=\"1\" /><path clip-path=\"url(#clip660)\" d=\"M83.7418 933.026 L88.626 933.026 L88.626 938.906 L83.7418 938.906 L83.7418 933.026 Z\" fill=\"#000000\" fill-rule=\"evenodd\" fill-opacity=\"1\" /><path clip-path=\"url(#clip660)\" d=\"M102.839 934.971 L119.158 934.971 L119.158 938.906 L97.2139 938.906 L97.2139 934.971 Q99.8759 932.216 104.459 927.587 Q109.066 922.934 110.246 921.591 Q112.492 919.068 113.371 917.332 Q114.274 915.573 114.274 913.883 Q114.274 911.128 112.33 909.392 Q110.408 907.656 107.306 907.656 Q105.107 907.656 102.654 908.42 Q100.223 909.184 97.4454 910.735 L97.4454 906.013 Q100.269 904.878 102.723 904.3 Q105.177 903.721 107.214 903.721 Q112.584 903.721 115.779 906.406 Q118.973 909.091 118.973 913.582 Q118.973 915.712 118.163 917.633 Q117.376 919.531 115.269 922.124 Q114.691 922.795 111.589 926.012 Q108.487 929.207 102.839 934.971 Z\" fill=\"#000000\" fill-rule=\"evenodd\" fill-opacity=\"1\" /><path clip-path=\"url(#clip660)\" d=\"M62.6308 492.659 Q59.0197 492.659 57.191 496.224 Q55.3854 499.765 55.3854 506.895 Q55.3854 514.002 57.191 517.566 Q59.0197 521.108 62.6308 521.108 Q66.265 521.108 68.0705 517.566 Q69.8992 514.002 69.8992 506.895 Q69.8992 499.765 68.0705 496.224 Q66.265 492.659 62.6308 492.659 M62.6308 488.955 Q68.4409 488.955 71.4965 493.562 Q74.5751 498.145 74.5751 506.895 Q74.5751 515.622 71.4965 520.228 Q68.4409 524.812 62.6308 524.812 Q56.8206 524.812 53.7419 520.228 Q50.6864 515.622 50.6864 506.895 Q50.6864 498.145 53.7419 493.562 Q56.8206 488.955 62.6308 488.955 Z\" fill=\"#000000\" fill-rule=\"evenodd\" fill-opacity=\"1\" /><path clip-path=\"url(#clip660)\" d=\"M82.7927 518.261 L87.6769 518.261 L87.6769 524.14 L82.7927 524.14 L82.7927 518.261 Z\" fill=\"#000000\" fill-rule=\"evenodd\" fill-opacity=\"1\" /><path clip-path=\"url(#clip660)\" d=\"M112.029 505.506 Q115.385 506.224 117.26 508.492 Q119.158 510.761 119.158 514.094 Q119.158 519.21 115.64 522.011 Q112.121 524.812 105.64 524.812 Q103.464 524.812 101.149 524.372 Q98.8574 523.955 96.4037 523.099 L96.4037 518.585 Q98.3482 519.719 100.663 520.298 Q102.978 520.876 105.501 520.876 Q109.899 520.876 112.191 519.14 Q114.505 517.404 114.505 514.094 Q114.505 511.039 112.353 509.326 Q110.223 507.59 106.404 507.59 L102.376 507.59 L102.376 503.747 L106.589 503.747 Q110.038 503.747 111.867 502.381 Q113.695 500.992 113.695 498.4 Q113.695 495.738 111.797 494.326 Q109.922 492.891 106.404 492.891 Q104.482 492.891 102.283 493.307 Q100.084 493.724 97.4454 494.603 L97.4454 490.437 Q100.107 489.696 102.422 489.326 Q104.76 488.955 106.82 488.955 Q112.144 488.955 115.246 491.386 Q118.348 493.793 118.348 497.914 Q118.348 500.784 116.705 502.775 Q115.061 504.742 112.029 505.506 Z\" fill=\"#000000\" fill-rule=\"evenodd\" fill-opacity=\"1\" /><path clip-path=\"url(#clip660)\" d=\"M61.4965 77.8934 Q57.8854 77.8934 56.0567 81.4582 Q54.2512 84.9999 54.2512 92.1295 Q54.2512 99.2359 56.0567 102.801 Q57.8854 106.342 61.4965 106.342 Q65.1307 106.342 66.9363 102.801 Q68.765 99.2359 68.765 92.1295 Q68.765 84.9999 66.9363 81.4582 Q65.1307 77.8934 61.4965 77.8934 M61.4965 74.1898 Q67.3067 74.1898 70.3622 78.7962 Q73.4409 83.3795 73.4409 92.1295 Q73.4409 100.856 70.3622 105.463 Q67.3067 110.046 61.4965 110.046 Q55.6864 110.046 52.6077 105.463 Q49.5521 100.856 49.5521 92.1295 Q49.5521 83.3795 52.6077 78.7962 Q55.6864 74.1898 61.4965 74.1898 Z\" fill=\"#000000\" fill-rule=\"evenodd\" fill-opacity=\"1\" /><path clip-path=\"url(#clip660)\" d=\"M81.6584 103.495 L86.5427 103.495 L86.5427 109.375 L81.6584 109.375 L81.6584 103.495 Z\" fill=\"#000000\" fill-rule=\"evenodd\" fill-opacity=\"1\" /><path clip-path=\"url(#clip660)\" d=\"M109.575 78.8888 L97.7695 97.3378 L109.575 97.3378 L109.575 78.8888 M108.348 74.8147 L114.228 74.8147 L114.228 97.3378 L119.158 97.3378 L119.158 101.227 L114.228 101.227 L114.228 109.375 L109.575 109.375 L109.575 101.227 L93.9732 101.227 L93.9732 96.7128 L108.348 74.8147 Z\" fill=\"#000000\" fill-rule=\"evenodd\" fill-opacity=\"1\" /><polyline clip-path=\"url(#clip663)\" style=\"stroke:#009af9; stroke-linecap:round; stroke-linejoin:round; stroke-width:4; stroke-opacity:1; fill:none\" points=\"\n",
       "  229.703,1751.15 244.943,1751.15 385.86,1751.02 470.544,1750.53 542.144,1749.15 581.033,1747.53 619.922,1744.75 655.774,1740.61 691.626,1734.19 710.845,1729.48 \n",
       "  730.064,1723.65 749.282,1716.48 768.501,1707.73 790.767,1695.28 813.034,1679.9 835.301,1661.11 857.567,1638.39 877.355,1614.47 897.143,1586.66 907.037,1571.18 \n",
       "  916.931,1554.6 926.825,1536.87 936.719,1517.96 954.071,1481.84 971.424,1441.83 988.776,1397.83 1006.13,1349.77 1015.59,1321.87 1025.05,1292.78 1034.51,1262.52 \n",
       "  1043.97,1231.11 1053.42,1198.59 1062.88,1164.98 1072.34,1130.35 1081.8,1094.75 1100.83,1020.44 1119.86,943.067 1138.9,863.395 1157.93,782.292 1178.97,692.15 \n",
       "  1200.01,602.937 1221.05,516.226 1242.09,433.656 1252.1,396.307 1262.11,360.444 1272.12,326.24 1282.13,293.862 1292.14,263.472 1302.15,235.222 1312.16,209.259 \n",
       "  1322.17,185.716 1332.58,163.936 1342.99,145.032 1353.4,129.112 1363.81,116.271 1374.21,106.582 1384.62,100.103 1395.03,96.8724 1405.44,96.9093 1414.2,99.4736 \n",
       "  1422.96,104.343 1431.72,111.496 1440.48,120.904 1449.25,132.527 1458.01,146.317 1466.77,162.217 1475.53,180.161 1486.23,204.735 1496.92,232.1 1507.62,262.094 \n",
       "  1518.32,294.54 1529.01,329.251 1539.71,366.031 1550.41,404.674 1561.1,444.969 1580.7,522.367 1600.3,603.254 1619.9,686.306 1639.5,770.249 1657.6,847.53 \n",
       "  1675.7,923.686 1693.8,997.939 1711.9,1069.62 1730.23,1139.02 1748.57,1204.71 1766.9,1266.34 1785.24,1323.65 1795.51,1353.81 1805.78,1382.56 1816.06,1409.89 \n",
       "  1826.33,1435.79 1836.61,1460.3 1846.88,1483.41 1857.16,1505.16 1867.43,1525.58 1886.05,1559.31 1904.67,1589.03 1923.29,1615 1941.91,1637.54 1963.23,1659.51 \n",
       "  1984.55,1677.85 2005.87,1693 2027.18,1705.4 2046.92,1714.78 2066.66,1722.45 2086.4,1728.65 2106.14,1733.65 2145.06,1740.7 2183.98,1745.08 2221.77,1747.66 \n",
       "  2259.56,1749.2 2337.04,1750.61 2421.92,1751.04 2545.23,1751.15 2570.53,1751.15 \n",
       "  \"/>\n",
       "<path clip-path=\"url(#clip660)\" d=\"\n",
       "M1947.9 340.811 L2558.05 340.811 L2558.05 105.695 L1947.9 105.695  Z\n",
       "  \" fill=\"#ffffff\" fill-rule=\"evenodd\" fill-opacity=\"1\"/>\n",
       "<polyline clip-path=\"url(#clip660)\" style=\"stroke:#000000; stroke-linecap:round; stroke-linejoin:round; stroke-width:4; stroke-opacity:1; fill:none\" points=\"\n",
       "  1947.9,340.811 2558.05,340.811 2558.05,105.695 1947.9,105.695 1947.9,340.811 \n",
       "  \"/>\n",
       "<polyline clip-path=\"url(#clip660)\" style=\"stroke:#009af9; stroke-linecap:round; stroke-linejoin:round; stroke-width:4; stroke-opacity:1; fill:none\" points=\"\n",
       "  1975.47,223.253 2140.89,223.253 \n",
       "  \"/>\n",
       "<path clip-path=\"url(#clip660)\" d=\"M2192.37 206.46 Q2192.37 207.748 2191.55 208.545 Q2190.76 209.341 2189.75 209.341 Q2189.02 209.341 2188.49 208.896 Q2187.97 208.451 2187.97 207.678 Q2187.97 206.882 2188.58 206.039 Q2189.19 205.195 2190.57 205.078 Q2189.66 204.212 2188.2 204.212 Q2187.48 204.212 2186.87 204.68 Q2186.28 205.125 2185.96 205.851 Q2185.6 206.601 2184.81 210.84 Q2184.55 212.222 2184.32 213.557 Q2184.08 214.892 2183.8 216.298 L2187.78 216.298 Q2188.3 216.298 2188.51 216.321 Q2188.72 216.344 2188.88 216.462 Q2189.07 216.579 2189.07 216.836 Q2189.07 217.492 2188.77 217.656 Q2188.49 217.797 2187.64 217.797 L2183.52 217.797 L2180.64 232.998 Q2180.57 233.443 2180.26 234.848 Q2179.98 236.23 2179.3 238.502 Q2178.62 240.797 2177.95 242.156 Q2177.57 242.929 2177.08 243.655 Q2176.61 244.404 2175.93 245.154 Q2175.25 245.904 2174.36 246.349 Q2173.47 246.817 2172.53 246.817 Q2170.94 246.817 2169.7 245.927 Q2168.46 245.037 2168.46 243.514 Q2168.46 242.226 2169.26 241.43 Q2170.08 240.633 2171.08 240.633 Q2171.81 240.633 2172.32 241.079 Q2172.86 241.524 2172.86 242.296 Q2172.86 242.624 2172.75 242.999 Q2172.63 243.374 2172.37 243.796 Q2172.11 244.241 2171.55 244.545 Q2170.99 244.85 2170.22 244.896 Q2171.13 245.763 2172.53 245.763 Q2172.98 245.763 2173.38 245.576 Q2173.78 245.412 2174.1 244.99 Q2174.46 244.568 2174.71 244.147 Q2174.97 243.749 2175.23 242.976 Q2175.49 242.226 2175.65 241.664 Q2175.81 241.102 2176.02 240.095 Q2176.26 239.088 2176.38 238.479 Q2176.49 237.893 2176.7 236.745 L2180.29 217.797 L2177.13 217.797 Q2176.56 217.797 2176.33 217.773 Q2176.12 217.75 2175.95 217.633 Q2175.79 217.492 2175.79 217.211 Q2175.79 216.766 2175.98 216.579 Q2176.19 216.368 2176.42 216.344 Q2176.66 216.298 2177.22 216.298 L2180.55 216.298 Q2181.67 210.372 2182.11 208.779 Q2182.63 207.093 2183.43 205.921 Q2184.22 204.727 2185.11 204.165 Q2186 203.603 2186.73 203.392 Q2187.48 203.158 2188.2 203.158 Q2189.84 203.158 2191.11 204.048 Q2192.37 204.914 2192.37 206.46 Z\" fill=\"#000000\" fill-rule=\"evenodd\" fill-opacity=\"1\" /><path clip-path=\"url(#clip660)\" d=\"M2198.83 224.987 Q2198.83 216.883 2201.85 210.348 Q2203.14 207.608 2204.95 205.312 Q2206.75 203.017 2207.94 202.01 Q2209.14 201.003 2209.47 201.003 Q2209.93 201.003 2209.96 201.471 Q2209.96 201.705 2209.33 202.291 Q2201.6 210.161 2201.62 224.987 Q2201.62 239.861 2209.14 247.426 Q2209.96 248.246 2209.96 248.503 Q2209.96 248.972 2209.47 248.972 Q2209.14 248.972 2207.99 248.012 Q2206.84 247.051 2205.06 244.85 Q2203.28 242.648 2201.99 239.954 Q2198.83 233.419 2198.83 224.987 Z\" fill=\"#000000\" fill-rule=\"evenodd\" fill-opacity=\"1\" /><path clip-path=\"url(#clip660)\" d=\"M2237.5 218.944 Q2237.5 220.256 2236.68 221.005 Q2235.86 221.732 2234.92 221.732 Q2234.03 221.732 2233.56 221.216 Q2233.09 220.701 2233.09 220.045 Q2233.09 219.155 2233.75 218.382 Q2234.4 217.609 2235.39 217.445 Q2234.43 216.836 2233 216.836 Q2232.06 216.836 2231.24 217.328 Q2230.45 217.82 2229.95 218.452 Q2229.49 219.085 2229.06 219.998 Q2228.67 220.888 2228.5 221.427 Q2228.36 221.942 2228.24 222.505 L2226.6 229.063 Q2225.81 232.178 2225.81 233.279 Q2225.81 234.637 2226.46 235.551 Q2227.12 236.441 2228.43 236.441 Q2228.95 236.441 2229.53 236.3 Q2230.12 236.136 2230.87 235.715 Q2231.64 235.27 2232.32 234.614 Q2233.02 233.935 2233.7 232.787 Q2234.38 231.639 2234.83 230.164 Q2234.97 229.648 2235.43 229.648 Q2236.02 229.648 2236.02 230.117 Q2236.02 230.515 2235.69 231.358 Q2235.39 232.178 2234.71 233.255 Q2234.05 234.309 2233.19 235.27 Q2232.32 236.207 2231.03 236.862 Q2229.74 237.518 2228.34 237.518 Q2226.32 237.518 2224.99 236.441 Q2223.65 235.363 2223.16 233.864 Q2223.04 234.075 2222.88 234.356 Q2222.72 234.637 2222.22 235.27 Q2221.76 235.879 2221.22 236.347 Q2220.68 236.792 2219.84 237.144 Q2219.02 237.518 2218.13 237.518 Q2217 237.518 2215.99 237.19 Q2215.01 236.862 2214.31 236.113 Q2213.6 235.363 2213.6 234.333 Q2213.6 233.185 2214.38 232.389 Q2215.17 231.569 2216.25 231.569 Q2216.93 231.569 2217.47 231.967 Q2218.03 232.365 2218.03 233.232 Q2218.03 234.192 2217.38 234.918 Q2216.72 235.644 2215.78 235.832 Q2216.74 236.441 2218.17 236.441 Q2219.72 236.441 2220.94 235.082 Q2222.15 233.724 2222.74 231.452 Q2224.19 225.994 2224.75 223.559 Q2225.32 221.099 2225.32 220.045 Q2225.32 219.061 2225.06 218.382 Q2224.8 217.703 2224.36 217.398 Q2223.93 217.07 2223.54 216.953 Q2223.16 216.836 2222.74 216.836 Q2222.04 216.836 2221.24 217.117 Q2220.47 217.398 2219.53 218.054 Q2218.62 218.687 2217.75 219.998 Q2216.88 221.31 2216.3 223.113 Q2216.18 223.652 2215.67 223.652 Q2215.1 223.629 2215.1 223.16 Q2215.1 222.762 2215.41 221.942 Q2215.74 221.099 2216.39 220.045 Q2217.07 218.991 2217.94 218.054 Q2218.83 217.094 2220.12 216.438 Q2221.43 215.782 2222.83 215.782 Q2223.47 215.782 2224.07 215.923 Q2224.71 216.04 2225.46 216.391 Q2226.23 216.743 2226.91 217.516 Q2227.59 218.288 2228.01 219.413 Q2228.29 218.874 2228.67 218.359 Q2229.06 217.843 2229.67 217.211 Q2230.3 216.555 2231.17 216.18 Q2232.06 215.782 2233.05 215.782 Q2234.01 215.782 2234.94 216.04 Q2235.88 216.274 2236.68 217.047 Q2237.5 217.797 2237.5 218.944 Z\" fill=\"#000000\" fill-rule=\"evenodd\" fill-opacity=\"1\" /><path clip-path=\"url(#clip660)\" d=\"M2242.12 248.503 Q2242.12 248.269 2242.72 247.684 Q2250.45 239.814 2250.45 224.987 Q2250.45 210.114 2243.03 202.595 Q2242.12 201.729 2242.12 201.471 Q2242.12 201.003 2242.58 201.003 Q2242.91 201.003 2244.06 201.963 Q2245.23 202.923 2246.99 205.125 Q2248.77 207.327 2250.08 210.02 Q2253.24 216.555 2253.24 224.987 Q2253.24 233.091 2250.22 239.626 Q2248.93 242.367 2247.13 244.662 Q2245.32 246.958 2244.13 247.965 Q2242.94 248.972 2242.58 248.972 Q2242.12 248.972 2242.12 248.503 Z\" fill=\"#000000\" fill-rule=\"evenodd\" fill-opacity=\"1\" /><path clip-path=\"url(#clip660)\" d=\"M2273.85 229.695 Q2273.89 229.11 2274.81 229.11 L2304.2 229.11 Q2305.58 229.11 2305.61 229.648 Q2305.61 230.234 2304.3 230.21 L2275.14 230.21 Q2273.85 230.234 2273.85 229.695 M2273.85 220.326 Q2273.85 219.741 2274.85 219.764 L2304.16 219.764 Q2305.58 219.764 2305.61 220.326 Q2305.61 220.865 2304.39 220.865 L2274.81 220.865 Q2273.85 220.865 2273.85 220.326 Z\" fill=\"#000000\" fill-rule=\"evenodd\" fill-opacity=\"1\" /><path clip-path=\"url(#clip660)\" d=\"M2369.08 186.196 L2369.08 184.697 Q2374.84 184.697 2377.81 181.629 Q2378.63 181.629 2378.77 181.816 Q2378.91 182.004 2378.91 182.87 L2378.91 209.783 Q2378.91 211.211 2379.62 211.656 Q2380.32 212.101 2383.39 212.101 L2384.91 212.101 L2384.91 213.577 Q2383.22 213.437 2377.13 213.437 Q2371.04 213.437 2369.38 213.577 L2369.38 212.101 L2370.9 212.101 Q2373.92 212.101 2374.65 211.68 Q2375.38 211.235 2375.38 209.783 L2375.38 184.931 Q2372.87 186.196 2369.08 186.196 Z\" fill=\"#000000\" fill-rule=\"evenodd\" fill-opacity=\"1\" /><path clip-path=\"url(#clip660)\" d=\"\n",
       "M2334.36 226.377 L2423.63 226.377 L2423.63 223.817 L2334.36 223.817  Z\n",
       "  \" fill=\"#000000\" fill-rule=\"evenodd\" fill-opacity=\"1\"/>\n",
       "<path clip-path=\"url(#clip660)\" d=\"M2334.36 269.043 L2340.59 259.427 L2343.13 272.187 L2343.6 274.512 Q2343.71 273.904 2344.02 272.874 Q2344.37 271.817 2344.42 271.553 L2352.8 239.401 Q2352.85 239.19 2352.93 238.847 Q2353.03 238.477 2353.09 238.345 Q2353.14 238.212 2353.22 237.948 Q2353.3 237.684 2353.35 237.605 Q2353.4 237.499 2353.48 237.314 Q2353.56 237.129 2353.67 237.076 Q2353.77 237.024 2353.91 236.918 Q2354.04 236.812 2354.2 236.786 Q2354.38 236.759 2354.57 236.733 Q2354.75 236.707 2355.01 236.707 L2359.74 236.707 Q2361.41 236.707 2361.41 237.79 Q2361.41 238.873 2359.8 238.873 L2355.17 238.873 L2344.26 280.588 Q2344.1 281.196 2343.97 281.434 Q2343.87 281.672 2343.5 281.883 Q2343.13 282.094 2342.47 282.094 L2341.94 282.094 L2338.48 264.896 L2335.23 269.915 L2334.36 269.043 Z\" fill=\"#000000\" fill-rule=\"evenodd\" fill-opacity=\"1\" /><path clip-path=\"url(#clip660)\" d=\"\n",
       "M2359.63 238.865 L2418.51 238.865 L2418.51 236.617 L2359.63 236.617  Z\n",
       "  \" fill=\"#000000\" fill-rule=\"evenodd\" fill-opacity=\"1\"/>\n",
       "<path clip-path=\"url(#clip660)\" d=\"M2364.75 281.705 Q2364.75 280.839 2364.82 280.581 Q2364.91 280.323 2365.29 279.925 L2374.49 269.666 Q2379.53 263.998 2379.53 259.056 Q2379.53 255.847 2377.84 253.552 Q2376.18 251.256 2373.11 251.256 Q2371 251.256 2369.22 252.544 Q2367.44 253.833 2366.62 256.128 Q2366.76 256.081 2367.26 256.081 Q2368.45 256.081 2369.11 256.831 Q2369.79 257.58 2369.79 258.587 Q2369.79 259.876 2368.94 260.508 Q2368.12 261.117 2367.3 261.117 Q2366.98 261.117 2366.53 261.047 Q2366.11 260.976 2365.43 260.321 Q2364.75 259.641 2364.75 258.447 Q2364.75 255.097 2367.28 252.427 Q2369.83 249.757 2373.72 249.757 Q2378.12 249.757 2381.01 252.38 Q2383.91 254.98 2383.91 259.056 Q2383.91 260.485 2383.46 261.796 Q2383.04 263.084 2382.46 264.092 Q2381.9 265.099 2380.35 266.715 Q2378.8 268.331 2377.56 269.479 Q2376.32 270.627 2373.53 273.062 L2368.45 278.005 L2377.09 278.005 Q2381.31 278.005 2381.64 277.63 Q2382.11 276.951 2382.69 273.367 L2383.91 273.367 L2382.55 281.705 L2364.75 281.705 Z\" fill=\"#000000\" fill-rule=\"evenodd\" fill-opacity=\"1\" /><path clip-path=\"url(#clip660)\" d=\"M2413.64 262.171 Q2413.64 263.811 2411.3 263.811 L2405.82 263.811 Q2404.98 267.699 2404.98 271.446 Q2404.98 275.92 2406.36 279.363 Q2406.64 280.042 2406.64 280.417 Q2406.64 281.12 2406.01 281.682 Q2405.4 282.244 2404.67 282.244 Q2404.06 282.244 2403.67 281.776 Q2403.29 281.307 2402.96 279.832 Q2402.56 278.098 2402.56 276.178 Q2402.56 273.882 2402.94 271.681 Q2403.31 269.455 2404.58 263.811 L2399.17 263.811 L2396.47 274.421 Q2395.51 278.005 2395.19 279.105 Q2394.98 279.761 2394.91 279.972 Q2394.84 280.183 2394.62 280.698 Q2394.44 281.19 2394.3 281.377 Q2394.16 281.541 2393.92 281.799 Q2393.69 282.08 2393.41 282.15 Q2393.13 282.244 2392.77 282.244 Q2392.24 282.244 2391.81 281.893 Q2391.39 281.565 2391.39 280.932 Q2391.39 280.511 2391.77 279.785 Q2396.22 270.181 2397.9 263.811 L2395.19 263.811 Q2391.44 263.811 2389.1 267.511 Q2388.72 268.003 2388.51 268.05 Q2388.42 268.073 2388.32 268.073 Q2388.07 268.073 2387.9 267.956 Q2387.76 267.839 2387.76 267.722 L2387.74 267.605 Q2387.74 267.464 2388.09 266.832 Q2388.46 266.176 2389.17 265.169 Q2389.89 264.162 2390.67 263.295 Q2391.42 262.499 2392.14 262.007 Q2392.89 261.492 2393.59 261.304 Q2394.3 261.117 2394.69 261.07 Q2395.09 261.023 2395.66 261.023 L2411.72 261.023 Q2412.33 261.023 2412.66 261.07 Q2412.99 261.094 2413.32 261.375 Q2413.64 261.632 2413.64 262.171 Z\" fill=\"#000000\" fill-rule=\"evenodd\" fill-opacity=\"1\" /><path clip-path=\"url(#clip660)\" d=\"M2447 231.428 Q2447.19 231.639 2447.19 231.85 Q2447.19 232.061 2446.72 232.67 Q2446.27 233.279 2445.31 234.099 Q2444.35 234.918 2443.11 235.691 Q2441.87 236.464 2440.04 236.98 Q2438.22 237.518 2436.3 237.518 Q2432.85 237.518 2430.79 235.059 Q2428.75 232.6 2428.75 228.829 Q2428.75 226.416 2429.55 224.285 Q2430.35 222.13 2431.63 220.607 Q2432.95 219.085 2434.59 217.984 Q2436.25 216.86 2437.98 216.321 Q2439.72 215.782 2441.33 215.782 Q2443.7 215.782 2445.08 216.977 Q2446.46 218.171 2446.46 219.858 Q2446.46 220.256 2446.34 220.748 Q2446.25 221.24 2445.92 222.013 Q2445.62 222.786 2444.82 223.559 Q2444.02 224.308 2442.85 224.8 Q2440.25 225.901 2435.52 225.901 L2432.97 225.901 Q2432.22 228.922 2432.22 230.89 Q2432.22 231.663 2432.36 232.459 Q2432.5 233.232 2432.88 234.216 Q2433.27 235.199 2434.16 235.832 Q2435.08 236.441 2436.39 236.441 Q2436.81 236.441 2437.26 236.417 Q2437.72 236.394 2438.9 236.136 Q2440.09 235.879 2441.14 235.434 Q2442.2 234.989 2443.53 234.028 Q2444.89 233.045 2445.97 231.71 Q2446.34 231.218 2446.6 231.218 Q2446.81 231.218 2447 231.428 M2444.87 219.858 Q2444.87 218.57 2443.91 217.703 Q2442.97 216.836 2441.33 216.836 Q2440.82 216.836 2440.18 216.953 Q2439.55 217.07 2438.5 217.562 Q2437.47 218.054 2436.55 218.874 Q2435.64 219.67 2434.73 221.24 Q2433.81 222.786 2433.27 224.847 L2435.24 224.847 Q2435.92 224.847 2436.41 224.847 Q2436.9 224.823 2437.98 224.73 Q2439.08 224.636 2439.88 224.472 Q2440.68 224.285 2441.68 223.91 Q2442.69 223.535 2443.32 223.043 Q2443.98 222.528 2444.42 221.708 Q2444.87 220.888 2444.87 219.858 Z\" fill=\"#000000\" fill-rule=\"evenodd\" fill-opacity=\"1\" /><path clip-path=\"url(#clip660)\" d=\"M2481.46 181.157 Q2481.66 181.353 2481.66 181.632 Q2481.66 181.911 2481.46 182.107 Q2481.26 182.304 2480.99 182.304 L2459.97 182.304 Q2459.69 182.304 2459.49 182.107 Q2459.29 181.911 2459.29 181.632 Q2459.29 181.353 2459.49 181.157 Q2459.69 180.96 2459.97 180.96 L2480.99 180.96 Q2481.26 180.96 2481.46 181.157 Z\" fill=\"#000000\" fill-rule=\"evenodd\" fill-opacity=\"1\" /><path clip-path=\"url(#clip660)\" d=\"M2501.89 177.402 Q2501.89 178.32 2501.31 178.845 Q2500.74 179.353 2500.08 179.353 Q2499.46 179.353 2499.13 178.992 Q2498.8 178.632 2498.8 178.173 Q2498.8 177.549 2499.26 177.008 Q2499.72 176.467 2500.41 176.353 Q2499.74 175.926 2498.74 175.926 Q2498.08 175.926 2497.51 176.271 Q2496.95 176.615 2496.61 177.058 Q2496.28 177.5 2495.98 178.14 Q2495.71 178.763 2495.59 179.14 Q2495.49 179.501 2495.41 179.894 L2494.26 184.485 Q2493.71 186.665 2493.71 187.436 Q2493.71 188.387 2494.16 189.026 Q2494.62 189.65 2495.54 189.65 Q2495.9 189.65 2496.31 189.551 Q2496.72 189.436 2497.25 189.141 Q2497.79 188.83 2498.26 188.371 Q2498.76 187.895 2499.23 187.092 Q2499.71 186.288 2500.02 185.255 Q2500.12 184.895 2500.44 184.895 Q2500.85 184.895 2500.85 185.223 Q2500.85 185.501 2500.62 186.092 Q2500.41 186.665 2499.94 187.42 Q2499.48 188.157 2498.87 188.83 Q2498.26 189.486 2497.36 189.945 Q2496.46 190.404 2495.48 190.404 Q2494.07 190.404 2493.13 189.65 Q2492.2 188.895 2491.85 187.846 Q2491.77 187.994 2491.66 188.19 Q2491.54 188.387 2491.2 188.83 Q2490.87 189.256 2490.49 189.584 Q2490.12 189.895 2489.52 190.141 Q2488.95 190.404 2488.33 190.404 Q2487.54 190.404 2486.84 190.174 Q2486.15 189.945 2485.66 189.42 Q2485.16 188.895 2485.16 188.174 Q2485.16 187.371 2485.7 186.813 Q2486.26 186.239 2487.02 186.239 Q2487.49 186.239 2487.87 186.518 Q2488.26 186.797 2488.26 187.403 Q2488.26 188.076 2487.8 188.584 Q2487.34 189.092 2486.69 189.223 Q2487.36 189.65 2488.36 189.65 Q2489.44 189.65 2490.3 188.699 Q2491.15 187.748 2491.56 186.157 Q2492.57 182.337 2492.97 180.632 Q2493.36 178.91 2493.36 178.173 Q2493.36 177.484 2493.18 177.008 Q2493 176.533 2492.69 176.32 Q2492.39 176.09 2492.12 176.008 Q2491.85 175.926 2491.56 175.926 Q2491.07 175.926 2490.51 176.123 Q2489.97 176.32 2489.31 176.779 Q2488.67 177.222 2488.07 178.14 Q2487.46 179.058 2487.05 180.32 Q2486.97 180.697 2486.61 180.697 Q2486.21 180.681 2486.21 180.353 Q2486.21 180.074 2486.43 179.501 Q2486.66 178.91 2487.11 178.173 Q2487.59 177.435 2488.2 176.779 Q2488.82 176.107 2489.72 175.648 Q2490.64 175.188 2491.62 175.188 Q2492.07 175.188 2492.49 175.287 Q2492.94 175.369 2493.46 175.615 Q2494 175.861 2494.48 176.402 Q2494.95 176.943 2495.25 177.73 Q2495.44 177.353 2495.71 176.992 Q2495.98 176.631 2496.41 176.189 Q2496.85 175.73 2497.46 175.467 Q2498.08 175.188 2498.77 175.188 Q2499.44 175.188 2500.1 175.369 Q2500.76 175.533 2501.31 176.074 Q2501.89 176.599 2501.89 177.402 Z\" fill=\"#000000\" fill-rule=\"evenodd\" fill-opacity=\"1\" /><path clip-path=\"url(#clip660)\" d=\"M2505.31 179.978 Q2505.31 179.553 2505.34 179.427 Q2505.39 179.301 2505.57 179.105 L2510.08 174.079 Q2512.55 171.301 2512.55 168.879 Q2512.55 167.307 2511.73 166.182 Q2510.91 165.058 2509.41 165.058 Q2508.37 165.058 2507.5 165.689 Q2506.63 166.32 2506.23 167.445 Q2506.3 167.422 2506.54 167.422 Q2507.12 167.422 2507.44 167.789 Q2507.78 168.156 2507.78 168.65 Q2507.78 169.281 2507.36 169.591 Q2506.96 169.889 2506.56 169.889 Q2506.4 169.889 2506.18 169.855 Q2505.98 169.821 2505.64 169.499 Q2505.31 169.166 2505.31 168.581 Q2505.31 166.94 2506.55 165.631 Q2507.8 164.323 2509.71 164.323 Q2511.86 164.323 2513.27 165.608 Q2514.7 166.882 2514.7 168.879 Q2514.7 169.58 2514.48 170.222 Q2514.27 170.853 2513.99 171.347 Q2513.71 171.84 2512.95 172.632 Q2512.2 173.424 2511.59 173.987 Q2510.98 174.549 2509.61 175.743 L2507.12 178.164 L2511.36 178.164 Q2513.42 178.164 2513.58 177.981 Q2513.81 177.648 2514.1 175.892 L2514.7 175.892 L2514.03 179.978 L2505.31 179.978 Z\" fill=\"#000000\" fill-rule=\"evenodd\" fill-opacity=\"1\" /><path clip-path=\"url(#clip660)\" d=\"\n",
       "M2459.29 199.354 L2521.77 199.354 L2521.77 197.562 L2459.29 197.562  Z\n",
       "  \" fill=\"#000000\" fill-rule=\"evenodd\" fill-opacity=\"1\"/>\n",
       "<path clip-path=\"url(#clip660)\" d=\"M2481.69 228.67 Q2481.69 228.063 2481.74 227.883 Q2481.81 227.703 2482.07 227.424 L2488.51 220.243 Q2492.04 216.275 2492.04 212.815 Q2492.04 210.569 2490.86 208.962 Q2489.69 207.356 2487.55 207.356 Q2486.07 207.356 2484.83 208.257 Q2483.58 209.159 2483.01 210.766 Q2483.1 210.733 2483.45 210.733 Q2484.28 210.733 2484.74 211.258 Q2485.22 211.783 2485.22 212.488 Q2485.22 213.389 2484.63 213.832 Q2484.05 214.258 2483.48 214.258 Q2483.25 214.258 2482.94 214.209 Q2482.64 214.16 2482.17 213.701 Q2481.69 213.225 2481.69 212.389 Q2481.69 210.045 2483.46 208.175 Q2485.25 206.306 2487.97 206.306 Q2491.06 206.306 2493.07 208.143 Q2495.11 209.963 2495.11 212.815 Q2495.11 213.816 2494.79 214.734 Q2494.5 215.636 2494.09 216.341 Q2493.7 217.046 2492.61 218.177 Q2491.53 219.308 2490.66 220.112 Q2489.79 220.915 2487.84 222.62 L2484.28 226.08 L2490.33 226.08 Q2493.29 226.08 2493.52 225.817 Q2493.84 225.342 2494.25 222.833 L2495.11 222.833 L2494.15 228.67 L2481.69 228.67 Z\" fill=\"#000000\" fill-rule=\"evenodd\" fill-opacity=\"1\" /></svg>\n"
      ]
     },
     "execution_count": 48,
     "metadata": {},
     "output_type": "execute_result"
    }
   ],
   "source": [
    "using Plots, SymPy, LaTeXStrings\n",
    "@vars x real = true\n",
    "f(x) = exp(-1/2 * x^2)/sqrt(2*pi)\n",
    "plot(f(x), label = L\"$f(x)=\\frac{1}{\\sqrt{2\\pi}}e^{\\frac{-x^2}{2}}$\")"
   ]
  },
  {
   "cell_type": "code",
   "execution_count": 23,
   "id": "3de46093",
   "metadata": {},
   "outputs": [
    {
     "data": {
      "text/plain": [
       "(1.00000000000326, 1.439558499702924e-8)"
      ]
     },
     "execution_count": 49,
     "metadata": {},
     "output_type": "execute_result"
    }
   ],
   "source": [
    "N(integrate(f(x), -oo, oo))\n",
    "quadgk(f(x), -Inf, Inf)"
   ]
  },
  {
   "cell_type": "code",
   "execution_count": 24,
   "id": "25997d85",
   "metadata": {
    "results": "hidden"
   },
   "outputs": [],
   "source": [
    "#| echo: false\n",
    "using QuizQuestions, SymPy\n",
    "nothing"
   ]
  },
  {
   "cell_type": "code",
   "execution_count": 25,
   "id": "321f5ad7",
   "metadata": {
    "hold": true
   },
   "outputs": [
    {
     "data": {
      "text/html": [
       "<script>\n",
       "if (typeof quizquestions_scorecard === 'undefined') {\n",
       "   quizquestions_scorecard = {};\n",
       "}\n",
       "var ID = \"yE7mDzye\"\n",
       "if (typeof quizquestions_scorecard[ID] === 'undefined') {\n",
       "      quizquestions_scorecard[ID] = {attempts: 0, correct: false};\n",
       "}\n",
       "</script>\n",
       "<form class=\"mx-2 my-3 mw-100\" name='WeaveQuestion' data-id='yE7mDzye' data-controltype=''>\n",
       "  <div class='form-group '>\n",
       "    <div class='controls'>\n",
       "      <div class=\"form\" id=\"controls_yE7mDzye\">\n",
       "        <div style=\"padding-top: 5px\">\n",
       "    </br>\n",
       "<div class=\"input-group\">\n",
       "    <input id=\"yE7mDzye\" type=\"number\" class=\"form-control\" placeholder=\"Respuesta numérica\">\n",
       "    <span  class=\"input-group-append\" href=\"#\" title=\"Introducir hasta 5 decimales\">&nbsp;🎁</span>\n",
       "</div>\n",
       "\n",
       "    \n",
       "        </div>\n",
       "      </div>\n",
       "      <div id='yE7mDzye_message' style=\"padding-bottom: 15px\"></div>\n",
       "    </div>\n",
       "  </div>\n",
       "</form>\n",
       "\n",
       "<script text='text/javascript'>\n",
       "document.getElementById(\"yE7mDzye\").addEventListener(\"change\", function() {\n",
       "  var correct = (Math.abs(this.value - 2.828427124746189986581074985903742114776176941671864896353359475981464956924204) <= 1.0e-5);\n",
       "  var msgBox = document.getElementById('yE7mDzye_message');\n",
       "  \n",
       "    quizquestions_scorecard[\"yE7mDzye\"][\"attempts\"] += 1;\n",
       "\n",
       "  if(correct) {\n",
       "    msgBox.innerHTML = \"<div class='pluto-output admonition note alert alert-success'><span> 👍&nbsp; Correcto </span></div>\";\n",
       "    var explanation = document.getElementById(\"explanation_yE7mDzye\")\n",
       "    if (explanation != null) {\n",
       "       explanation.style.display = \"none\";\n",
       "    }\n",
       "      quizquestions_scorecard[\"yE7mDzye\"][\"correct\"] = true;\n",
       "  if (typeof score_summary !== 'undefined') {\n",
       "     score_summary()\n",
       "  }\n",
       "\n",
       "\n",
       "  } else {\n",
       "    msgBox.innerHTML = \"<div class='pluto-output admonition alert alert-danger'><span>👎&nbsp; Incorrecto </span></div>\";\n",
       "    var explanation = document.getElementById(\"explanation_yE7mDzye\")\n",
       "    if (explanation != null) {\n",
       "       explanation.style.display = \"block\";\n",
       "    }\n",
       "      quizquestions_scorecard[\"yE7mDzye\"][\"correct\"] = false;\n",
       "  if (typeof score_summary !== 'undefined') {\n",
       "     score_summary()\n",
       "  }\n",
       "\n",
       "  }\n",
       "\n",
       "});\n",
       "\n",
       "</script>\n"
      ],
      "text/latex": [
       "\\vspace{18pt}*Hint: *\n",
       "\n",
       "Introducir hasta 5 decimales\n",
       "\n"
      ],
      "text/plain": [
       "QuizQuestions.Numericq(2.828427124746189986581074985903742114776176941671864896353359475981464956924204, 1.0e-5, \"\", \"\", \"Introducir hasta 5 decimales\", \"\", nothing)"
      ]
     },
     "execution_count": 51,
     "metadata": {},
     "output_type": "execute_result"
    }
   ],
   "source": [
    "#| echo: false\n",
    "@vars x real = true\n",
    "f(x) = sin(x)\n",
    "g(x) = cos(x)\n",
    "sol = N(integrate(abs(f(x)-g(x)), 0, pi))\n",
    "numericq(sol, 1e-5, hint=\"Introducir hasta 5 decimales\")"
   ]
  },
  {
   "cell_type": "code",
   "execution_count": 26,
   "id": "ed5b4f3a",
   "metadata": {
    "hold": true
   },
   "outputs": [
    {
     "data": {
      "text/html": [
       "<script>\n",
       "if (typeof quizquestions_scorecard === 'undefined') {\n",
       "   quizquestions_scorecard = {};\n",
       "}\n",
       "var ID = \"VL5h0k6E\"\n",
       "if (typeof quizquestions_scorecard[ID] === 'undefined') {\n",
       "      quizquestions_scorecard[ID] = {attempts: 0, correct: false};\n",
       "}\n",
       "</script>\n",
       "<form class=\"mx-2 my-3 mw-100\" name='WeaveQuestion' data-id='VL5h0k6E' data-controltype=''>\n",
       "  <div class='form-group '>\n",
       "    <div class='controls'>\n",
       "      <div class=\"form\" id=\"controls_VL5h0k6E\">\n",
       "        <div style=\"padding-top: 5px\">\n",
       "    </br>\n",
       "<div class=\"input-group\">\n",
       "    <input id=\"VL5h0k6E\" type=\"number\" class=\"form-control\" placeholder=\"Respuesta numérica\">\n",
       "    <span  class=\"input-group-append\" href=\"#\" title=\"Introducir hasta 5 decimales\">&nbsp;🎁</span>\n",
       "</div>\n",
       "\n",
       "    \n",
       "        </div>\n",
       "      </div>\n",
       "      <div id='VL5h0k6E_message' style=\"padding-bottom: 15px\"></div>\n",
       "    </div>\n",
       "  </div>\n",
       "</form>\n",
       "\n",
       "<script text='text/javascript'>\n",
       "document.getElementById(\"VL5h0k6E\").addEventListener(\"change\", function() {\n",
       "  var correct = (Math.abs(this.value - 0.999999999999999986409302776619059759057679898798192459517020044702050192775919) <= 1.0e-5);\n",
       "  var msgBox = document.getElementById('VL5h0k6E_message');\n",
       "  \n",
       "    quizquestions_scorecard[\"VL5h0k6E\"][\"attempts\"] += 1;\n",
       "\n",
       "  if(correct) {\n",
       "    msgBox.innerHTML = \"<div class='pluto-output admonition note alert alert-success'><span> 👍&nbsp; Correcto </span></div>\";\n",
       "    var explanation = document.getElementById(\"explanation_VL5h0k6E\")\n",
       "    if (explanation != null) {\n",
       "       explanation.style.display = \"none\";\n",
       "    }\n",
       "      quizquestions_scorecard[\"VL5h0k6E\"][\"correct\"] = true;\n",
       "  if (typeof score_summary !== 'undefined') {\n",
       "     score_summary()\n",
       "  }\n",
       "\n",
       "\n",
       "  } else {\n",
       "    msgBox.innerHTML = \"<div class='pluto-output admonition alert alert-danger'><span>👎&nbsp; Incorrecto </span></div>\";\n",
       "    var explanation = document.getElementById(\"explanation_VL5h0k6E\")\n",
       "    if (explanation != null) {\n",
       "       explanation.style.display = \"block\";\n",
       "    }\n",
       "      quizquestions_scorecard[\"VL5h0k6E\"][\"correct\"] = false;\n",
       "  if (typeof score_summary !== 'undefined') {\n",
       "     score_summary()\n",
       "  }\n",
       "\n",
       "  }\n",
       "\n",
       "});\n",
       "\n",
       "</script>\n"
      ],
      "text/latex": [
       "\\vspace{18pt}*Hint: *\n",
       "\n",
       "Introducir hasta 5 decimales\n",
       "\n"
      ],
      "text/plain": [
       "QuizQuestions.Numericq(0.999999999999999986409302776619059759057679898798192459517020044702050192775919, 1.0e-5, \"\", \"\", \"Introducir hasta 5 decimales\", \"\", nothing)"
      ]
     },
     "execution_count": 52,
     "metadata": {},
     "output_type": "execute_result"
    }
   ],
   "source": [
    "#| echo: false\n",
    "using QuadGK\n",
    "@vars x real = true\n",
    "f(x) = exp(-1/2 * x^2)/sqrt(2*pi)\n",
    "sol = N(integrate(f(x), -oo, oo))\n",
    "numericq(sol, 1e-5, hint=\"Introducir hasta 5 decimales\")"
   ]
  }
 ],
 "metadata": {
  "kernelspec": {
   "display_name": "Julia 1.8.2",
   "language": "julia",
   "name": "julia-1.8"
  }
 },
 "nbformat": 4,
 "nbformat_minor": 5
}