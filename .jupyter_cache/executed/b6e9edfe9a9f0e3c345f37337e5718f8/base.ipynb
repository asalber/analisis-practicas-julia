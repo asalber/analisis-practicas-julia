{
 "cells": [
  {
   "cell_type": "code",
   "execution_count": 1,
   "id": "0d986fe7",
   "metadata": {},
   "outputs": [],
   "source": [
    "import IJulia\n",
    "\n",
    "# The julia kernel has built in support for Revise.jl, so this is the \n",
    "# recommended approach for long-running sessions:\n",
    "# https://github.com/JuliaLang/IJulia.jl/blob/9b10fa9b879574bbf720f5285029e07758e50a5e/src/kernel.jl#L46-L51\n",
    "\n",
    "# Users should enable revise within .julia/config/startup_ijulia.jl:\n",
    "# https://timholy.github.io/Revise.jl/stable/config/#Using-Revise-automatically-within-Jupyter/IJulia-1\n",
    "\n",
    "# clear console history\n",
    "IJulia.clear_history()\n",
    "\n",
    "fig_width = 5\n",
    "fig_height = 4\n",
    "fig_format = :png\n",
    "fig_dpi = 96\n",
    "\n",
    "# no retina format type, use svg for high quality type/marks\n",
    "if fig_format == :retina\n",
    "  fig_format = :svg\n",
    "elseif fig_format == :pdf\n",
    "  fig_dpi = 96\n",
    "  # Enable PDF support for IJulia\n",
    "  IJulia.register_mime(MIME(\"application/pdf\"))\n",
    "end\n",
    "\n",
    "# convert inches to pixels\n",
    "fig_width = fig_width * fig_dpi\n",
    "fig_height = fig_height * fig_dpi\n",
    "\n",
    "# Intialize Plots w/ default fig width/height\n",
    "try\n",
    "  import Plots\n",
    "\n",
    "  # Plots.jl doesn't support PDF output for versions < 1.28.1\n",
    "  # so use png (if the DPI remains the default of 300 then set to 96)\n",
    "  if (Plots._current_plots_version < v\"1.28.1\") & (fig_format == :pdf)\n",
    "    Plots.gr(size=(fig_width, fig_height), fmt = :png, dpi = fig_dpi)\n",
    "  else\n",
    "    Plots.gr(size=(fig_width, fig_height), fmt = fig_format, dpi = fig_dpi)\n",
    "  end\n",
    "catch e\n",
    "  # @warn \"Plots init\" exception=(e, catch_backtrace())\n",
    "end\n",
    "\n",
    "# Initialize CairoMakie with default fig width/height\n",
    "try\n",
    "  import CairoMakie\n",
    "  \n",
    "  CairoMakie.activate!(type = string(fig_format))\n",
    "  CairoMakie.update_theme!(resolution=(fig_width, fig_height))\n",
    "catch e\n",
    "    # @warn \"CairoMakie init\" exception=(e, catch_backtrace())\n",
    "end\n",
    "  \n",
    "# Set run_path if specified\n",
    "try\n",
    "  run_path = raw\"/run/media/alf/datos/misrepositorios/docencia/analisis-practicas-julia\"\n",
    "  if !isempty(run_path)\n",
    "    cd(run_path)\n",
    "  end\n",
    "catch e\n",
    "  @warn \"Run path init:\" exception=(e, catch_backtrace())\n",
    "end\n",
    "\n",
    "\n",
    "# emulate old Pkg.installed beahvior, see\n",
    "# https://discourse.julialang.org/t/how-to-use-pkg-dependencies-instead-of-pkg-installed/36416/9\n",
    "import Pkg\n",
    "function isinstalled(pkg::String)\n",
    "  any(x -> x.name == pkg && x.is_direct_dep, values(Pkg.dependencies()))\n",
    "end\n",
    "\n",
    "# ojs_define\n",
    "if isinstalled(\"JSON\") && isinstalled(\"DataFrames\")\n",
    "  import JSON, DataFrames\n",
    "  global function ojs_define(; kwargs...)\n",
    "    convert(x) = x\n",
    "    convert(x::DataFrames.AbstractDataFrame) = Tables.rows(x)\n",
    "    content = Dict(\"contents\" => [Dict(\"name\" => k, \"value\" => convert(v)) for (k, v) in kwargs])\n",
    "    tag = \"<script type='ojs-define'>$(JSON.json(content))</script>\"\n",
    "    IJulia.display(MIME(\"text/html\"), tag)\n",
    "  end\n",
    "elseif isinstalled(\"JSON\")\n",
    "  import JSON\n",
    "  global function ojs_define(; kwargs...)\n",
    "    content = Dict(\"contents\" => [Dict(\"name\" => k, \"value\" => v) for (k, v) in kwargs])\n",
    "    tag = \"<script type='ojs-define'>$(JSON.json(content))</script>\"\n",
    "    IJulia.display(MIME(\"text/html\"), tag)\n",
    "  end\n",
    "else\n",
    "  global function ojs_define(; kwargs...)\n",
    "    @warn \"JSON package not available. Please install the JSON.jl package to use ojs_define.\"\n",
    "  end\n",
    "end\n",
    "\n",
    "\n",
    "# don't return kernel dependencies (b/c Revise should take care of dependencies)\n",
    "nothing\n"
   ]
  },
  {
   "cell_type": "code",
   "execution_count": 2,
   "id": "ea73240f",
   "metadata": {},
   "outputs": [],
   "source": [
    "using SymPy  # Para el cálculo simbólico de límites.\n",
    "using Plots  # Para el dibujo de gráficas.\n",
    "#plotlyjs() # Para obtener gráficos interactivos.\n",
    "using MTH229 # Para restringir la gráfica de una función a su dominio.\n",
    "using LaTeXStrings  # Para usar código LaTeX en los gráficos."
   ]
  },
  {
   "cell_type": "code",
   "execution_count": 3,
   "id": "01ba6b98",
   "metadata": {},
   "outputs": [
    {
     "name": "stdout",
     "output_type": "stream",
     "text": [
      "[9.610000000000001, 9.302499999999998, 9.20111111111111, 9.150625, 9.1204, 9.100277777777777, 9.085918367346938, 9.075156250000001, 9.06679012345679, 9.060099999999998]"
     ]
    }
   ],
   "source": [
    "f(x) = x^2\n",
    "a = 3\n",
    "print([f(a+1/10i) for i = 1:10])"
   ]
  },
  {
   "cell_type": "code",
   "execution_count": 4,
   "id": "ae9e403e",
   "metadata": {},
   "outputs": [
    {
     "name": "stdout",
     "output_type": "stream",
     "text": [
      "[8.41, 8.7025, 8.801111111111112, 8.850625, 8.8804, 8.900277777777777, 8.914489795918367, 8.925156249999999, 8.933456790123458, 8.940100000000001]"
     ]
    }
   ],
   "source": [
    "print([f(a-1/10i) for i = 1:10])"
   ]
  },
  {
   "cell_type": "code",
   "execution_count": 5,
   "id": "06041f3b",
   "metadata": {},
   "outputs": [
    {
     "data": {
      "image/png": "[encoded data removed]"
     },
     "execution_count": 5,
     "metadata": {},
     "output_type": "execute_result"
    }
   ],
   "source": [
    "xd = [a+1/10i for i=1:10]\n",
    "scatter(xd, f.(xd), label=\"Aproximación por la derecha\")\n",
    "xi = [a-1/10i for i=1:10]\n",
    "scatter!(xi, f.(xi), label=\"Aproximación por la izquierda\", legend=:topleft)"
   ]
  },
  {
   "cell_type": "code",
   "execution_count": 6,
   "id": "233c3a3a",
   "metadata": {},
   "outputs": [
    {
     "name": "stdout",
     "output_type": "stream",
     "text": [
      "Límite por la izquierda: 9\n",
      "Límite por la derecha: 9\n"
     ]
    }
   ],
   "source": [
    "@vars x real=true\n",
    "li = limit(f(x), x=>3, dir=\"-\")\n",
    "println(\"Límite por la izquierda: \", li)\n",
    "ld = limit(f(x), x=>3, dir=\"+\")\n",
    "println(\"Límite por la derecha: \", ld)"
   ]
  },
  {
   "cell_type": "code",
   "execution_count": 7,
   "id": "48da1b9e",
   "metadata": {},
   "outputs": [
    {
     "name": "stdout",
     "output_type": "stream",
     "text": [
      "[2.5937424601000023, 2.7048138294215285, 2.7169239322355936, 2.7181459268249255, 2.718268237192297, 2.7182804690957534, 2.7182816941320813, 2.7182817983473577, 2.71828205201156, 2.7182820532347876]"
     ]
    }
   ],
   "source": [
    "g(x) = (1+x)^(1/x)\n",
    "a = 0\n",
    "print([g(a+1/10^i) for i = 1:10])"
   ]
  },
  {
   "cell_type": "code",
   "execution_count": 8,
   "id": "8b296825",
   "metadata": {},
   "outputs": [
    {
     "name": "stdout",
     "output_type": "stream",
     "text": [
      "[2.867971990792441, 2.7319990264290284, 2.7196422164428524, 2.71841775501015, 2.718295419980405, 2.7182831876793716, 2.7182819629423656, 2.7182818557091664, 2.7182817529399266, 2.718282053506616]"
     ]
    }
   ],
   "source": [
    "print([g(a-1/10^i) for i = 1:10])"
   ]
  },
  {
   "cell_type": "code",
   "execution_count": 9,
   "id": "7299e3f1",
   "metadata": {},
   "outputs": [
    {
     "name": "stdout",
     "output_type": "stream",
     "text": [
      "Límite por la izquierda: E\n",
      "Límite por la derecha: E\n"
     ]
    }
   ],
   "source": [
    "@vars x real=true\n",
    "li = limit(g(x), x=>0, dir=\"-\")\n",
    "println(\"Límite por la izquierda: \", li)\n",
    "ld = limit(g(x), x=>0, dir=\"+\")\n",
    "println(\"Límite por la derecha: \", ld)"
   ]
  },
  {
   "cell_type": "code",
   "execution_count": 10,
   "id": "6cb3ab74",
   "metadata": {},
   "outputs": [
    {
     "data": {
      "image/png": "[encoded data removed]"
     },
     "execution_count": 10,
     "metadata": {},
     "output_type": "execute_result"
    }
   ],
   "source": [
    "using Plots\n",
    "f(x) = (1+2/x)^(x/2)\n",
    "plot(f, xlims=(-10,10), ylims=(0,6))"
   ]
  },
  {
   "cell_type": "code",
   "execution_count": 11,
   "id": "d69a7d76",
   "metadata": {},
   "outputs": [
    {
     "name": "stdout",
     "output_type": "stream",
     "text": [
      "Límite por la izquieda en -2: oo\n",
      "Límite por la izquieda en -2: "
     ]
    },
    {
     "name": "stdout",
     "output_type": "stream",
     "text": [
      "-oo\n",
      "Límite en -∞: E\n",
      "Límite en ∞: E\n"
     ]
    },
    {
     "name": "stdout",
     "output_type": "stream",
     "text": [
      "Límite en 2: 2\n",
      "Límite en 0: 1\n"
     ]
    }
   ],
   "source": [
    "using SymPy\n",
    "@vars x real=true\n",
    "println(\"Límite por la izquieda en -2: \", limit(f(x), x=>-2, dir=\"-\"))\n",
    "println(\"Límite por la izquieda en -2: \", limit(f(x), x=>-2, dir=\"+\"))\n",
    "println(\"Límite en -∞: \", limit(f(x), x=>-oo))\n",
    "println(\"Límite en ∞: \", limit(f(x), x=>oo))\n",
    "println(\"Límite en 2: \", limit(f(x), x=>2))\n",
    "println(\"Límite en 0: \", limit(f(x), x=>0))"
   ]
  },
  {
   "cell_type": "code",
   "execution_count": 12,
   "id": "331d260c",
   "metadata": {},
   "outputs": [
    {
     "data": {
      "text/latex": [
       "$\\left\\langle -1, 1\\right\\rangle$"
      ],
      "text/plain": [
       "<-1, 1>"
      ]
     },
     "execution_count": 12,
     "metadata": {},
     "output_type": "execute_result"
    }
   ],
   "source": [
    "using SymPy\n",
    "@vars x real=true\n",
    "limit(sin(1/x), x=>0)"
   ]
  },
  {
   "cell_type": "code",
   "execution_count": 13,
   "id": "baf52dbd",
   "metadata": {},
   "outputs": [
    {
     "data": {
      "text/latex": [
       "$0$"
      ],
      "text/plain": [
       "0"
      ]
     },
     "execution_count": 13,
     "metadata": {},
     "output_type": "execute_result"
    }
   ],
   "source": [
    "limit(x*sin(1/x), x=>0)"
   ]
  },
  {
   "cell_type": "code",
   "execution_count": 14,
   "id": "041fd15f",
   "metadata": {},
   "outputs": [
    {
     "data": {
      "text/latex": [
       "$0$"
      ],
      "text/plain": [
       "0"
      ]
     },
     "execution_count": 14,
     "metadata": {},
     "output_type": "execute_result"
    }
   ],
   "source": [
    "limit(ℯ^(-x)*sin(x), x=>oo)"
   ]
  },
  {
   "cell_type": "code",
   "execution_count": 15,
   "id": "0b3ac41f",
   "metadata": {},
   "outputs": [
    {
     "data": {
      "text/latex": [
       "$\\cos{\\left(a \\right)}$"
      ],
      "text/plain": [
       "cos(a)"
      ]
     },
     "execution_count": 15,
     "metadata": {},
     "output_type": "execute_result"
    }
   ],
   "source": [
    "@vars a real=true\n",
    "limit((sin(x)-sin(a))/(x-a), x=>a)"
   ]
  },
  {
   "cell_type": "code",
   "execution_count": 16,
   "id": "68664b15",
   "metadata": {},
   "outputs": [
    {
     "data": {
      "text/plain": [
       "NaN"
      ]
     },
     "execution_count": 16,
     "metadata": {},
     "output_type": "execute_result"
    }
   ],
   "source": [
    "f(x)=sin(x)/x\n",
    "f(0)"
   ]
  },
  {
   "cell_type": "code",
   "execution_count": 17,
   "id": "4f75ec7f",
   "metadata": {},
   "outputs": [
    {
     "data": {
      "text/latex": [
       "$1$"
      ],
      "text/plain": [
       "1"
      ]
     },
     "execution_count": 17,
     "metadata": {},
     "output_type": "execute_result"
    }
   ],
   "source": [
    "@vars x real=true\n",
    "f(x)=sin(x)/x\n",
    "limit(f(x), x=>0)"
   ]
  },
  {
   "cell_type": "code",
   "execution_count": 18,
   "id": "c60e5ae1",
   "metadata": {},
   "outputs": [
    {
     "data": {
      "image/png": "[encoded data removed]"
     },
     "execution_count": 18,
     "metadata": {},
     "output_type": "execute_result"
    }
   ],
   "source": [
    "using Plots\n",
    "plot(f)"
   ]
  },
  {
   "cell_type": "code",
   "execution_count": 19,
   "id": "e1179256",
   "metadata": {},
   "outputs": [
    {
     "data": {
      "text/plain": [
       "Inf"
      ]
     },
     "execution_count": 19,
     "metadata": {},
     "output_type": "execute_result"
    }
   ],
   "source": [
    "g(x)=cos(x)/(x-pi/2)\n",
    "g(pi/2)"
   ]
  },
  {
   "cell_type": "code",
   "execution_count": 20,
   "id": "ace44d88",
   "metadata": {},
   "outputs": [
    {
     "data": {
      "text/latex": [
       "$\\infty$"
      ],
      "text/plain": [
       "∞"
      ]
     },
     "execution_count": 20,
     "metadata": {},
     "output_type": "execute_result"
    }
   ],
   "source": [
    "limit(g(x), x=>pi/2)"
   ]
  },
  {
   "cell_type": "code",
   "execution_count": 21,
   "id": "cc9e3447",
   "metadata": {},
   "outputs": [
    {
     "data": {
      "image/png": "[encoded data removed]"
     },
     "execution_count": 21,
     "metadata": {},
     "output_type": "execute_result"
    }
   ],
   "source": [
    "using Plots\n",
    "plot(g)"
   ]
  },
  {
   "cell_type": "code",
   "execution_count": 22,
   "id": "fc9175ae",
   "metadata": {},
   "outputs": [
    {
     "data": {
      "text/latex": [
       "$-1$"
      ],
      "text/plain": [
       "-1"
      ]
     },
     "execution_count": 22,
     "metadata": {},
     "output_type": "execute_result"
    }
   ],
   "source": [
    "g(x)=cos(x)/(x-Sym(pi)/2)\n",
    "limit(g(x), x=>Sym(pi)/2)"
   ]
  },
  {
   "cell_type": "code",
   "execution_count": 23,
   "id": "70ccc1d8",
   "metadata": {},
   "outputs": [
    {
     "data": {
      "image/png": "[encoded data removed]"
     },
     "execution_count": 23,
     "metadata": {},
     "output_type": "execute_result"
    }
   ],
   "source": [
    "using Plots, MTH229, LaTeXStrings\n",
    "@vars x real=true\n",
    "g1(x) = x/(x-2)\n",
    "g2(x) = x^2/(2x-6)\n",
    "g(x) = x<=0 ? g1(x) : g2(x)\n",
    "plot(rangeclamp(g), xlims=(-5,10), ylims=(-5,10), xticks=-5:10, label = L\"g(x)\", legend=:topleft)"
   ]
  },
  {
   "cell_type": "code",
   "execution_count": 24,
   "id": "2b5f8be6",
   "metadata": {},
   "outputs": [
    {
     "name": "stdout",
     "output_type": "stream",
     "text": [
      "Puntos fuera del dominio de la rama negativa: Sym[2]\n",
      "Puntos fuera del dominio de la rama positiva: Sym[3]\n"
     ]
    }
   ],
   "source": [
    "println(\"Puntos fuera del dominio de la rama negativa: \", solve(x-2))\n",
    "println(\"Puntos fuera del dominio de la rama positiva: \", solve(2x-6))"
   ]
  },
  {
   "cell_type": "code",
   "execution_count": 25,
   "id": "40bd94d0",
   "metadata": {},
   "outputs": [
    {
     "name": "stdout",
     "output_type": "stream",
     "text": [
      "Límte en 3 por la izquierda: -oo\n",
      "Límte en 3 por la derecha: oo\n"
     ]
    }
   ],
   "source": [
    "println(\"Límte en 3 por la izquierda: \", limit(g(x), x=>3, dir=\"-\"))\n",
    "println(\"Límte en 3 por la derecha: \", limit(g(x), x=>3, dir=\"+\"))"
   ]
  },
  {
   "cell_type": "code",
   "execution_count": 26,
   "id": "3af7403d",
   "metadata": {},
   "outputs": [
    {
     "data": {
      "image/png": "[encoded data removed]"
     },
     "execution_count": 26,
     "metadata": {},
     "output_type": "execute_result"
    }
   ],
   "source": [
    "vline!([3], label = L\"Asíntota vertical $x=3$\")"
   ]
  },
  {
   "cell_type": "code",
   "execution_count": 27,
   "id": "3b13e331",
   "metadata": {},
   "outputs": [
    {
     "name": "stdout",
     "output_type": "stream",
     "text": [
      "Límite en -∞: 1\n",
      "Límite en ∞: oo\n"
     ]
    }
   ],
   "source": [
    "println(\"Límite en -∞: \", limit(g1(x), x=>-oo))\n",
    "println(\"Límite en ∞: \", limit(g2(x), x=>oo))"
   ]
  },
  {
   "cell_type": "code",
   "execution_count": 28,
   "id": "a35eeda5",
   "metadata": {},
   "outputs": [
    {
     "data": {
      "image/png": "[encoded data removed]"
     },
     "execution_count": 28,
     "metadata": {},
     "output_type": "execute_result"
    }
   ],
   "source": [
    "hline!([1], label = L\"Asíntota horizontal $y=1$\")"
   ]
  },
  {
   "cell_type": "code",
   "execution_count": 29,
   "id": "7d58032c",
   "metadata": {},
   "outputs": [
    {
     "data": {
      "text/latex": [
       "$\\frac{1}{2}$"
      ],
      "text/plain": [
       "1/2"
      ]
     },
     "execution_count": 29,
     "metadata": {},
     "output_type": "execute_result"
    }
   ],
   "source": [
    "limit(g2(x)/x, x=>oo)"
   ]
  },
  {
   "cell_type": "code",
   "execution_count": 30,
   "id": "2b028efb",
   "metadata": {},
   "outputs": [
    {
     "data": {
      "text/latex": [
       "$\\frac{3}{2}$"
      ],
      "text/plain": [
       "3/2"
      ]
     },
     "execution_count": 30,
     "metadata": {},
     "output_type": "execute_result"
    }
   ],
   "source": [
    "limit(g2(x)-x/2, x=>oo)"
   ]
  },
  {
   "cell_type": "code",
   "execution_count": 31,
   "id": "4fe49240",
   "metadata": {},
   "outputs": [
    {
     "data": {
      "image/png": "[encoded data removed]"
     },
     "execution_count": 31,
     "metadata": {},
     "output_type": "execute_result"
    }
   ],
   "source": [
    "plot!(3/2+x/2, label = L\"Asíntota oblicua $y=\\frac{3}{2}+\\frac{1}{2}x$\")"
   ]
  },
  {
   "cell_type": "code",
   "execution_count": 32,
   "id": "1996a443",
   "metadata": {},
   "outputs": [
    {
     "data": {
      "text/latex": [
       "$\\left[ \\begin{array}{r}3\\end{array} \\right]$\n"
      ],
      "text/plain": [
       "1-element Vector{Sym}:\n",
       " 3"
      ]
     },
     "execution_count": 32,
     "metadata": {},
     "output_type": "execute_result"
    }
   ],
   "source": [
    "@vars x a real=true\n",
    "h1(x) = (2x^2-2x)/(3x^2+x)\n",
    "h2(x) = (tan(x)-a*x)/x \n",
    "l1 = limit(h1(x), x=>0, dir=\"-\")\n",
    "l2 = limit(h2(x),x=>0, dir=\"+\")\n",
    "solve(Eq(l1,l2))"
   ]
  },
  {
   "cell_type": "code",
   "execution_count": 33,
   "id": "8e1a326e",
   "metadata": {},
   "outputs": [
    {
     "data": {
      "image/png": "[encoded data removed]"
     },
     "execution_count": 33,
     "metadata": {},
     "output_type": "execute_result"
    }
   ],
   "source": [
    "using Plots, MTH229, LaTeXStrings\n",
    "@syms x::real\n",
    "f1(x) = (x+1)/(x^2-1)\n",
    "f2(x) = 1/exp(1/(x^2-1))\n",
    "plot(f1, -4, 0, ylim=(-2,8), legend=false)\n",
    "plot!(rangeclamp(f2), 0, 4)"
   ]
  },
  {
   "cell_type": "code",
   "execution_count": 34,
   "id": "b7106b6f",
   "metadata": {},
   "outputs": [
    {
     "data": {
      "text/latex": [
       "$\\left[ \\begin{array}{r}-1\\\\1\\end{array} \\right]$\n"
      ],
      "text/plain": [
       "2-element Vector{Sym}:\n",
       " -1\n",
       "  1"
      ]
     },
     "execution_count": 34,
     "metadata": {},
     "output_type": "execute_result"
    }
   ],
   "source": [
    "solve(x^2-1)"
   ]
  },
  {
   "cell_type": "code",
   "execution_count": 35,
   "id": "c6acfeaa",
   "metadata": {},
   "outputs": [
    {
     "name": "stdout",
     "output_type": "stream",
     "text": [
      "Límite en -1 por la izquierda: -1/2\n",
      "Límite en -1 por la derecha: -1/2\n"
     ]
    }
   ],
   "source": [
    "println(\"Límite en -1 por la izquierda: \", limit(f1(x), x=> -1, dir=\"-\"))\n",
    "println(\"Límite en -1 por la derecha: \", limit(f1(x), x=> -1, dir=\"+\"))"
   ]
  },
  {
   "cell_type": "code",
   "execution_count": 36,
   "id": "c635243e",
   "metadata": {},
   "outputs": [
    {
     "name": "stdout",
     "output_type": "stream",
     "text": [
      "Límite en 1 por la izquierda: oo\n",
      "Límite en 1 por la derecha: "
     ]
    },
    {
     "name": "stdout",
     "output_type": "stream",
     "text": [
      "0\n"
     ]
    }
   ],
   "source": [
    "println(\"Límite en 1 por la izquierda: \", limit(f2(x), x=>1, dir=\"-\"))\n",
    "println(\"Límite en 1 por la derecha: \", limit(f2(x), x=>1, dir=\"+\"))"
   ]
  },
  {
   "cell_type": "code",
   "execution_count": 37,
   "id": "265c4692",
   "metadata": {},
   "outputs": [
    {
     "name": "stdout",
     "output_type": "stream",
     "text": [
      "Límite en 1 por la izquierda: -1\n",
      "Límite en 1 por la derecha: E\n"
     ]
    }
   ],
   "source": [
    "println(\"Límite en 1 por la izquierda: \", limit(f1(x), x=>0, dir=\"-\"))\n",
    "println(\"Límite en 1 por la derecha: \", limit(f2(x), x=>0, dir=\"+\"))"
   ]
  },
  {
   "cell_type": "code",
   "execution_count": 38,
   "id": "10f82397",
   "metadata": {},
   "outputs": [
    {
     "name": "stdout",
     "output_type": "stream",
     "text": [
      "0.6496996753558051"
     ]
    }
   ],
   "source": [
    "function raices_biseccion(f, a, b, error=1e-10)\n",
    "  if f(a) == 0 return(a) end\n",
    "  if f(b) == 0 return(b) end\n",
    "  if f(a) * f(b) > 0 error(\"Las imágenes de los extremos del intervalo no tienen signo distinto.\") end\n",
    "  c = (a+b)/2\n",
    "  while abs(b-a) > error\n",
    "    if f(c) == 0 return(c) end\n",
    "    if f(a) * f(c) < 0\n",
    "       b = c\n",
    "    else\n",
    "       a = c\n",
    "    end\n",
    "    c = (a+b)/2\n",
    "  end\n",
    "  c\n",
    "end\n",
    "\n",
    "f(x)=x^5+3x^4-2x^3+6x-4\n",
    "print(raices_biseccion(f, 0, 1))"
   ]
  },
  {
   "cell_type": "code",
   "execution_count": 39,
   "id": "7f5c1b0a",
   "metadata": {
    "results": "hidden"
   },
   "outputs": [],
   "source": [
    "#| echo: false\n",
    "using QuizQuestions\n",
    "nothing"
   ]
  },
  {
   "cell_type": "code",
   "execution_count": 40,
   "id": "7d12b826",
   "metadata": {
    "hold": true
   },
   "outputs": [
    {
     "data": {
      "text/html": [
       "<script>\n",
       "if (typeof quizquestions_scorecard === 'undefined') {\n",
       "   quizquestions_scorecard = {};\n",
       "}\n",
       "var ID = \"Js7PsIHk\"\n",
       "if (typeof quizquestions_scorecard[ID] === 'undefined') {\n",
       "      quizquestions_scorecard[ID] = {attempts: 0, correct: false};\n",
       "}\n",
       "</script>\n",
       "<form class=\"mx-2 my-3 mw-100\" name='WeaveQuestion' data-id='Js7PsIHk' data-controltype=''>\n",
       "  <div class='form-group '>\n",
       "    <div class='controls'>\n",
       "      <div class=\"form\" id=\"controls_Js7PsIHk\">\n",
       "        <div style=\"padding-top: 5px\">\n",
       "    </br>\n",
       "<div class=\"input-group\">\n",
       "    <input id=\"Js7PsIHk\" type=\"number\" class=\"form-control\" placeholder=\"Respuesta numérica\">\n",
       "    <span  class=\"input-group-append\" href=\"#\" title=\"Introducir hasta 10 decimales\">&nbsp;🎁</span>\n",
       "</div>\n",
       "\n",
       "    \n",
       "        </div>\n",
       "      </div>\n",
       "      <div id='Js7PsIHk_message' style=\"padding-bottom: 15px\"></div>\n",
       "    </div>\n",
       "  </div>\n",
       "</form>\n",
       "\n",
       "<script text='text/javascript'>\n",
       "document.getElementById(\"Js7PsIHk\").addEventListener(\"change\", function() {\n",
       "  var correct = (Math.abs(this.value - 2.6130352902246763) <= 1.0e-10);\n",
       "  var msgBox = document.getElementById('Js7PsIHk_message');\n",
       "  \n",
       "    quizquestions_scorecard[\"Js7PsIHk\"][\"attempts\"] += 1;\n",
       "\n",
       "  if(correct) {\n",
       "    msgBox.innerHTML = \"<div class='pluto-output admonition note alert alert-success'><span> 👍&nbsp; Correcto </span></div>\";\n",
       "    var explanation = document.getElementById(\"explanation_Js7PsIHk\")\n",
       "    if (explanation != null) {\n",
       "       explanation.style.display = \"none\";\n",
       "    }\n",
       "      quizquestions_scorecard[\"Js7PsIHk\"][\"correct\"] = true;\n",
       "  if (typeof score_summary !== 'undefined') {\n",
       "     score_summary()\n",
       "  }\n",
       "\n",
       "\n",
       "  } else {\n",
       "    msgBox.innerHTML = \"<div class='pluto-output admonition alert alert-danger'><span>👎&nbsp; Incorrecto </span></div>\";\n",
       "    var explanation = document.getElementById(\"explanation_Js7PsIHk\")\n",
       "    if (explanation != null) {\n",
       "       explanation.style.display = \"block\";\n",
       "    }\n",
       "      quizquestions_scorecard[\"Js7PsIHk\"][\"correct\"] = false;\n",
       "  if (typeof score_summary !== 'undefined') {\n",
       "     score_summary()\n",
       "  }\n",
       "\n",
       "  }\n",
       "\n",
       "});\n",
       "\n",
       "</script>\n"
      ],
      "text/latex": [
       "\\vspace{18pt}*Hint: *\n",
       "\n",
       "Introducir hasta 10 decimales\n",
       "\n"
      ],
      "text/plain": [
       "QuizQuestions.Numericq(2.6130352902246763, 1.0e-10, \"\", \"\", \"Introducir hasta 10 decimales\", \"\", nothing)"
      ]
     },
     "execution_count": 40,
     "metadata": {},
     "output_type": "execute_result"
    }
   ],
   "source": [
    "#| echo: false\n",
    "f(x) = (1+1/x)^x\n",
    "numericq(f(12), 1e-10, hint=\"Introducir hasta 10 decimales\")"
   ]
  },
  {
   "cell_type": "code",
   "execution_count": 41,
   "id": "6143788e",
   "metadata": {
    "hold": true
   },
   "outputs": [
    {
     "data": {
      "text/html": [
       "<script>\n",
       "if (typeof quizquestions_scorecard === 'undefined') {\n",
       "   quizquestions_scorecard = {};\n",
       "}\n",
       "var ID = \"NPbsVp9b\"\n",
       "if (typeof quizquestions_scorecard[ID] === 'undefined') {\n",
       "      quizquestions_scorecard[ID] = {attempts: 0, correct: false};\n",
       "}\n",
       "</script>\n",
       "<form class=\"mx-2 my-3 mw-100\" name='WeaveQuestion' data-id='NPbsVp9b' data-controltype=''>\n",
       "  <div class='form-group '>\n",
       "    <div class='controls'>\n",
       "      <div class=\"form\" id=\"controls_NPbsVp9b\">\n",
       "        <div style=\"padding-top: 5px\">\n",
       "    </br>\n",
       "<div class=\"input-group\">\n",
       "    <input id=\"NPbsVp9b\" type=\"number\" class=\"form-control\" placeholder=\"Respuesta numérica\">\n",
       "    <span  class=\"input-group-append\" href=\"#\" title=\"Introducir hasta 10 decimales\">&nbsp;🎁</span>\n",
       "</div>\n",
       "\n",
       "    \n",
       "        </div>\n",
       "      </div>\n",
       "      <div id='NPbsVp9b_message' style=\"padding-bottom: 15px\"></div>\n",
       "    </div>\n",
       "  </div>\n",
       "</form>\n",
       "\n",
       "<script text='text/javascript'>\n",
       "document.getElementById(\"NPbsVp9b\").addEventListener(\"change\", function() {\n",
       "  var correct = (Math.abs(this.value - 2.7145674820219727) <= 1.0e-10);\n",
       "  var msgBox = document.getElementById('NPbsVp9b_message');\n",
       "  \n",
       "    quizquestions_scorecard[\"NPbsVp9b\"][\"attempts\"] += 1;\n",
       "\n",
       "  if(correct) {\n",
       "    msgBox.innerHTML = \"<div class='pluto-output admonition note alert alert-success'><span> 👍&nbsp; Correcto </span></div>\";\n",
       "    var explanation = document.getElementById(\"explanation_NPbsVp9b\")\n",
       "    if (explanation != null) {\n",
       "       explanation.style.display = \"none\";\n",
       "    }\n",
       "      quizquestions_scorecard[\"NPbsVp9b\"][\"correct\"] = true;\n",
       "  if (typeof score_summary !== 'undefined') {\n",
       "     score_summary()\n",
       "  }\n",
       "\n",
       "\n",
       "  } else {\n",
       "    msgBox.innerHTML = \"<div class='pluto-output admonition alert alert-danger'><span>👎&nbsp; Incorrecto </span></div>\";\n",
       "    var explanation = document.getElementById(\"explanation_NPbsVp9b\")\n",
       "    if (explanation != null) {\n",
       "       explanation.style.display = \"block\";\n",
       "    }\n",
       "      quizquestions_scorecard[\"NPbsVp9b\"][\"correct\"] = false;\n",
       "  if (typeof score_summary !== 'undefined') {\n",
       "     score_summary()\n",
       "  }\n",
       "\n",
       "  }\n",
       "\n",
       "});\n",
       "\n",
       "</script>\n"
      ],
      "text/latex": [
       "\\vspace{18pt}*Hint: *\n",
       "\n",
       "Introducir hasta 10 decimales\n",
       "\n"
      ],
      "text/plain": [
       "QuizQuestions.Numericq(2.7145674820219727, 1.0e-10, \"\", \"\", \"Introducir hasta 10 decimales\", \"\", nothing)"
      ]
     },
     "execution_count": 41,
     "metadata": {},
     "output_type": "execute_result"
    }
   ],
   "source": [
    "#| echo: false\n",
    "f(x) = (1+1/x)^x\n",
    "numericq(f(365), 1e-10, hint=\"Introducir hasta 10 decimales\")"
   ]
  },
  {
   "cell_type": "code",
   "execution_count": 42,
   "id": "863ac8fd",
   "metadata": {},
   "outputs": [
    {
     "data": {
      "text/html": [
       "<script>\n",
       "if (typeof quizquestions_scorecard === 'undefined') {\n",
       "   quizquestions_scorecard = {};\n",
       "}\n",
       "var ID = \"nPXBwoxt\"\n",
       "if (typeof quizquestions_scorecard[ID] === 'undefined') {\n",
       "      quizquestions_scorecard[ID] = {attempts: 0, correct: false};\n",
       "}\n",
       "</script>\n",
       "<form class=\"mx-2 my-3 mw-100\" name='WeaveQuestion' data-id='nPXBwoxt' data-controltype=''>\n",
       "  <div class='form-group '>\n",
       "    <div class='controls'>\n",
       "      <div class=\"form\" id=\"controls_nPXBwoxt\">\n",
       "        <div style=\"padding-top: 5px\">\n",
       "    <div class=\"form-check\">\n",
       "    <label class=\"form-check-label\" for=\"radio_nPXBwoxt_1\">\n",
       "      <input class=\"form-check-input\" type=\"radio\" name=\"radio_nPXBwoxt\"\n",
       "              id=\"radio_nPXBwoxt_1\" value=\"1\">\n",
       "      </input>\n",
       "      <span class=\"label-body px-1\">\n",
       "        \\(e^{-1}\\)\n",
       "      </span>\n",
       "    </label>\n",
       "</div>\n",
       "<div class=\"form-check\">\n",
       "    <label class=\"form-check-label\" for=\"radio_nPXBwoxt_2\">\n",
       "      <input class=\"form-check-input\" type=\"radio\" name=\"radio_nPXBwoxt\"\n",
       "              id=\"radio_nPXBwoxt_2\" value=\"2\">\n",
       "      </input>\n",
       "      <span class=\"label-body px-1\">\n",
       "        e\n",
       "      </span>\n",
       "    </label>\n",
       "</div>\n",
       "<div class=\"form-check\">\n",
       "    <label class=\"form-check-label\" for=\"radio_nPXBwoxt_3\">\n",
       "      <input class=\"form-check-input\" type=\"radio\" name=\"radio_nPXBwoxt\"\n",
       "              id=\"radio_nPXBwoxt_3\" value=\"3\">\n",
       "      </input>\n",
       "      <span class=\"label-body px-1\">\n",
       "        2.7182818284590\n",
       "      </span>\n",
       "    </label>\n",
       "</div>\n",
       "<div class=\"form-check\">\n",
       "    <label class=\"form-check-label\" for=\"radio_nPXBwoxt_4\">\n",
       "      <input class=\"form-check-input\" type=\"radio\" name=\"radio_nPXBwoxt\"\n",
       "              id=\"radio_nPXBwoxt_4\" value=\"4\">\n",
       "      </input>\n",
       "      <span class=\"label-body px-1\">\n",
       "        \\(e^2\\)\n",
       "      </span>\n",
       "    </label>\n",
       "</div>\n",
       "<div class=\"form-check\">\n",
       "    <label class=\"form-check-label\" for=\"radio_nPXBwoxt_5\">\n",
       "      <input class=\"form-check-input\" type=\"radio\" name=\"radio_nPXBwoxt\"\n",
       "              id=\"radio_nPXBwoxt_5\" value=\"5\">\n",
       "      </input>\n",
       "      <span class=\"label-body px-1\">\n",
       "        3\n",
       "      </span>\n",
       "    </label>\n",
       "</div>\n",
       "\n",
       "    \n",
       "        </div>\n",
       "      </div>\n",
       "      <div id='nPXBwoxt_message' style=\"padding-bottom: 15px\"></div>\n",
       "    </div>\n",
       "  </div>\n",
       "</form>\n",
       "\n",
       "<script text='text/javascript'>\n",
       "document.querySelectorAll('input[name=\"radio_nPXBwoxt\"]').forEach(function(rb) {\n",
       "rb.addEventListener(\"change\", function() {\n",
       "    var correct = rb.value == 2;\n",
       "    var msgBox = document.getElementById('nPXBwoxt_message');\n",
       "    \n",
       "    quizquestions_scorecard[\"nPXBwoxt\"][\"attempts\"] += 1;\n",
       "\n",
       "  if(correct) {\n",
       "    msgBox.innerHTML = \"<div class='pluto-output admonition note alert alert-success'><span> 👍&nbsp; Correcto </span></div>\";\n",
       "    var explanation = document.getElementById(\"explanation_nPXBwoxt\")\n",
       "    if (explanation != null) {\n",
       "       explanation.style.display = \"none\";\n",
       "    }\n",
       "      quizquestions_scorecard[\"nPXBwoxt\"][\"correct\"] = true;\n",
       "  if (typeof score_summary !== 'undefined') {\n",
       "     score_summary()\n",
       "  }\n",
       "\n",
       "\n",
       "  } else {\n",
       "    msgBox.innerHTML = \"<div class='pluto-output admonition alert alert-danger'><span>👎&nbsp; Incorrecto </span></div>\";\n",
       "    var explanation = document.getElementById(\"explanation_nPXBwoxt\")\n",
       "    if (explanation != null) {\n",
       "       explanation.style.display = \"block\";\n",
       "    }\n",
       "      quizquestions_scorecard[\"nPXBwoxt\"][\"correct\"] = false;\n",
       "  if (typeof score_summary !== 'undefined') {\n",
       "     score_summary()\n",
       "  }\n",
       "\n",
       "  }\n",
       "\n",
       "})});\n",
       "\n",
       "</script>\n"
      ],
      "text/latex": [
       "${\\quad\\Box}$ $$e^{-1}$$\n",
       "${\\quad\\Box}$ e\n",
       "\n",
       "${\\quad\\Box}$ 2.7182818284590\n",
       "\n",
       "${\\quad\\Box}$ $$e^2$$\n",
       "${\\quad\\Box}$ 3\n",
       "\n"
      ],
      "text/plain": [
       "QuizQuestions.Radioq((L\"$e^{-1}$\", \"e\", \"2.7182818284590\", L\"$e^2$\", \"3\"), 2, [1, 2, 3, 4, 5], (L\"$e^{-1}$\", \"e\", \"2.7182818284590\", L\"$e^2$\", \"3\"), \"\", \"\", \"\", false)"
      ]
     },
     "execution_count": 42,
     "metadata": {},
     "output_type": "execute_result"
    }
   ],
   "source": [
    "#| echo: false\n",
    "choices = (\"3\", \"2.7182818284590\", \"e\", L\"e^2\", L\"e^{-1}\")\n",
    "answer = 3\n",
    "radioq(choices, answer)"
   ]
  },
  {
   "cell_type": "code",
   "execution_count": 43,
   "id": "1866cdc6",
   "metadata": {},
   "outputs": [
    {
     "data": {
      "text/html": [
       "<script>\n",
       "if (typeof quizquestions_scorecard === 'undefined') {\n",
       "   quizquestions_scorecard = {};\n",
       "}\n",
       "var ID = \"iXqmkTws\"\n",
       "if (typeof quizquestions_scorecard[ID] === 'undefined') {\n",
       "      quizquestions_scorecard[ID] = {attempts: 0, correct: false};\n",
       "}\n",
       "</script>\n",
       "<form class=\"mx-2 my-3 mw-100\" name='WeaveQuestion' data-id='iXqmkTws' data-controltype=''>\n",
       "  <div class='form-group '>\n",
       "    <div class='controls'>\n",
       "      <div class=\"form\" id=\"controls_iXqmkTws\">\n",
       "        <div style=\"padding-top: 5px\">\n",
       "    </br>\n",
       "<div class=\"input-group\">\n",
       "    <input id=\"iXqmkTws\" type=\"number\" class=\"form-control\" placeholder=\"Respuesta numérica\">\n",
       "</div>\n",
       "\n",
       "    \n",
       "        </div>\n",
       "      </div>\n",
       "      <div id='iXqmkTws_message' style=\"padding-bottom: 15px\"></div>\n",
       "    </div>\n",
       "  </div>\n",
       "</form>\n",
       "\n",
       "<script text='text/javascript'>\n",
       "document.getElementById(\"iXqmkTws\").addEventListener(\"change\", function() {\n",
       "  var correct = (Math.abs(this.value - 0) <= 1.0e-5);\n",
       "  var msgBox = document.getElementById('iXqmkTws_message');\n",
       "  \n",
       "    quizquestions_scorecard[\"iXqmkTws\"][\"attempts\"] += 1;\n",
       "\n",
       "  if(correct) {\n",
       "    msgBox.innerHTML = \"<div class='pluto-output admonition note alert alert-success'><span> 👍&nbsp; Correcto </span></div>\";\n",
       "    var explanation = document.getElementById(\"explanation_iXqmkTws\")\n",
       "    if (explanation != null) {\n",
       "       explanation.style.display = \"none\";\n",
       "    }\n",
       "      quizquestions_scorecard[\"iXqmkTws\"][\"correct\"] = true;\n",
       "  if (typeof score_summary !== 'undefined') {\n",
       "     score_summary()\n",
       "  }\n",
       "\n",
       "\n",
       "  } else {\n",
       "    msgBox.innerHTML = \"<div class='pluto-output admonition alert alert-danger'><span>👎&nbsp; Incorrecto </span></div>\";\n",
       "    var explanation = document.getElementById(\"explanation_iXqmkTws\")\n",
       "    if (explanation != null) {\n",
       "       explanation.style.display = \"block\";\n",
       "    }\n",
       "      quizquestions_scorecard[\"iXqmkTws\"][\"correct\"] = false;\n",
       "  if (typeof score_summary !== 'undefined') {\n",
       "     score_summary()\n",
       "  }\n",
       "\n",
       "  }\n",
       "\n",
       "});\n",
       "\n",
       "</script>\n"
      ],
      "text/latex": [
       "\\vspace{18pt}"
      ],
      "text/plain": [
       "QuizQuestions.Numericq(0, 1.0e-5, \"\", \"\", \"\", \"\", nothing)"
      ]
     },
     "execution_count": 43,
     "metadata": {},
     "output_type": "execute_result"
    }
   ],
   "source": [
    "#| echo: false\n",
    "@syms x::real\n",
    "f(x) = (sin(x)-cos(x))/(tan(x))\n",
    "l = limit(f(x), x=>Sym(pi)/4)\n",
    "numericq(l, 1e-5)"
   ]
  },
  {
   "cell_type": "code",
   "execution_count": 44,
   "id": "debc608f",
   "metadata": {},
   "outputs": [
    {
     "data": {
      "text/html": [
       "<script>\n",
       "if (typeof quizquestions_scorecard === 'undefined') {\n",
       "   quizquestions_scorecard = {};\n",
       "}\n",
       "var ID = \"qWh1FUfu\"\n",
       "if (typeof quizquestions_scorecard[ID] === 'undefined') {\n",
       "      quizquestions_scorecard[ID] = {attempts: 0, correct: false};\n",
       "}\n",
       "</script>\n",
       "<form class=\"mx-2 my-3 mw-100\" name='WeaveQuestion' data-id='qWh1FUfu' data-controltype=''>\n",
       "  <div class='form-group '>\n",
       "    <div class='controls'>\n",
       "      <div class=\"form\" id=\"controls_qWh1FUfu\">\n",
       "        <div style=\"padding-top: 5px\">\n",
       "    </br>\n",
       "<div class=\"input-group\">\n",
       "    <input id=\"qWh1FUfu\" type=\"number\" class=\"form-control\" placeholder=\"Respuesta numérica\">\n",
       "</div>\n",
       "\n",
       "    \n",
       "        </div>\n",
       "      </div>\n",
       "      <div id='qWh1FUfu_message' style=\"padding-bottom: 15px\"></div>\n",
       "    </div>\n",
       "  </div>\n",
       "</form>\n",
       "\n",
       "<script text='text/javascript'>\n",
       "document.getElementById(\"qWh1FUfu\").addEventListener(\"change\", function() {\n",
       "  var correct = (Math.abs(this.value - -3/2) <= 0.001);\n",
       "  var msgBox = document.getElementById('qWh1FUfu_message');\n",
       "  \n",
       "    quizquestions_scorecard[\"qWh1FUfu\"][\"attempts\"] += 1;\n",
       "\n",
       "  if(correct) {\n",
       "    msgBox.innerHTML = \"<div class='pluto-output admonition note alert alert-success'><span> 👍&nbsp; Correcto </span></div>\";\n",
       "    var explanation = document.getElementById(\"explanation_qWh1FUfu\")\n",
       "    if (explanation != null) {\n",
       "       explanation.style.display = \"none\";\n",
       "    }\n",
       "      quizquestions_scorecard[\"qWh1FUfu\"][\"correct\"] = true;\n",
       "  if (typeof score_summary !== 'undefined') {\n",
       "     score_summary()\n",
       "  }\n",
       "\n",
       "\n",
       "  } else {\n",
       "    msgBox.innerHTML = \"<div class='pluto-output admonition alert alert-danger'><span>👎&nbsp; Incorrecto </span></div>\";\n",
       "    var explanation = document.getElementById(\"explanation_qWh1FUfu\")\n",
       "    if (explanation != null) {\n",
       "       explanation.style.display = \"block\";\n",
       "    }\n",
       "      quizquestions_scorecard[\"qWh1FUfu\"][\"correct\"] = false;\n",
       "  if (typeof score_summary !== 'undefined') {\n",
       "     score_summary()\n",
       "  }\n",
       "\n",
       "  }\n",
       "\n",
       "});\n",
       "\n",
       "</script>\n"
      ],
      "text/latex": [
       "\\vspace{18pt}"
      ],
      "text/plain": [
       "QuizQuestions.Numericq(-3/2, 0.001, \"\", \"\", \"\", \"\", nothing)"
      ]
     },
     "execution_count": 44,
     "metadata": {},
     "output_type": "execute_result"
    }
   ],
   "source": [
    "#| echo: false\n",
    "@syms x::real\n",
    "f(x) = sqrt(x^2+x+1)-sqrt(x^2-2x-1)\n",
    "l = limit(f(x), x=>-oo)\n",
    "numericq(l)"
   ]
  },
  {
   "cell_type": "code",
   "execution_count": 45,
   "id": "07069202",
   "metadata": {},
   "outputs": [
    {
     "data": {
      "text/html": [
       "<script>\n",
       "if (typeof quizquestions_scorecard === 'undefined') {\n",
       "   quizquestions_scorecard = {};\n",
       "}\n",
       "var ID = \"SNgNAIL0\"\n",
       "if (typeof quizquestions_scorecard[ID] === 'undefined') {\n",
       "      quizquestions_scorecard[ID] = {attempts: 0, correct: false};\n",
       "}\n",
       "</script>\n",
       "<form class=\"mx-2 my-3 mw-100\" name='WeaveQuestion' data-id='SNgNAIL0' data-controltype=''>\n",
       "  <div class='form-group '>\n",
       "    <div class='controls'>\n",
       "      <div class=\"form\" id=\"controls_SNgNAIL0\">\n",
       "        <div style=\"padding-top: 5px\">\n",
       "    <div class=\"form-check\">\n",
       "    <label class=\"form-check-label\" for=\"radio_SNgNAIL0_1\">\n",
       "      <input class=\"form-check-input\" type=\"radio\" name=\"radio_SNgNAIL0\"\n",
       "              id=\"radio_SNgNAIL0_1\" value=\"1\">\n",
       "      </input>\n",
       "      <span class=\"label-body px-1\">\n",
       "        \\(-\\infty\\)\n",
       "      </span>\n",
       "    </label>\n",
       "</div>\n",
       "<div class=\"form-check\">\n",
       "    <label class=\"form-check-label\" for=\"radio_SNgNAIL0_2\">\n",
       "      <input class=\"form-check-input\" type=\"radio\" name=\"radio_SNgNAIL0\"\n",
       "              id=\"radio_SNgNAIL0_2\" value=\"2\">\n",
       "      </input>\n",
       "      <span class=\"label-body px-1\">\n",
       "        0\n",
       "      </span>\n",
       "    </label>\n",
       "</div>\n",
       "<div class=\"form-check\">\n",
       "    <label class=\"form-check-label\" for=\"radio_SNgNAIL0_3\">\n",
       "      <input class=\"form-check-input\" type=\"radio\" name=\"radio_SNgNAIL0\"\n",
       "              id=\"radio_SNgNAIL0_3\" value=\"3\">\n",
       "      </input>\n",
       "      <span class=\"label-body px-1\">\n",
       "        \\(1\\)\n",
       "      </span>\n",
       "    </label>\n",
       "</div>\n",
       "<div class=\"form-check\">\n",
       "    <label class=\"form-check-label\" for=\"radio_SNgNAIL0_4\">\n",
       "      <input class=\"form-check-input\" type=\"radio\" name=\"radio_SNgNAIL0\"\n",
       "              id=\"radio_SNgNAIL0_4\" value=\"4\">\n",
       "      </input>\n",
       "      <span class=\"label-body px-1\">\n",
       "        \\(\\infty\\)\n",
       "      </span>\n",
       "    </label>\n",
       "</div>\n",
       "<div class=\"form-check\">\n",
       "    <label class=\"form-check-label\" for=\"radio_SNgNAIL0_5\">\n",
       "      <input class=\"form-check-input\" type=\"radio\" name=\"radio_SNgNAIL0\"\n",
       "              id=\"radio_SNgNAIL0_5\" value=\"5\">\n",
       "      </input>\n",
       "      <span class=\"label-body px-1\">\n",
       "        NaN\n",
       "      </span>\n",
       "    </label>\n",
       "</div>\n",
       "\n",
       "    \n",
       "        </div>\n",
       "      </div>\n",
       "      <div id='SNgNAIL0_message' style=\"padding-bottom: 15px\"></div>\n",
       "    </div>\n",
       "  </div>\n",
       "</form>\n",
       "\n",
       "<script text='text/javascript'>\n",
       "document.querySelectorAll('input[name=\"radio_SNgNAIL0\"]').forEach(function(rb) {\n",
       "rb.addEventListener(\"change\", function() {\n",
       "    var correct = rb.value == 1;\n",
       "    var msgBox = document.getElementById('SNgNAIL0_message');\n",
       "    \n",
       "    quizquestions_scorecard[\"SNgNAIL0\"][\"attempts\"] += 1;\n",
       "\n",
       "  if(correct) {\n",
       "    msgBox.innerHTML = \"<div class='pluto-output admonition note alert alert-success'><span> 👍&nbsp; Correcto </span></div>\";\n",
       "    var explanation = document.getElementById(\"explanation_SNgNAIL0\")\n",
       "    if (explanation != null) {\n",
       "       explanation.style.display = \"none\";\n",
       "    }\n",
       "      quizquestions_scorecard[\"SNgNAIL0\"][\"correct\"] = true;\n",
       "  if (typeof score_summary !== 'undefined') {\n",
       "     score_summary()\n",
       "  }\n",
       "\n",
       "\n",
       "  } else {\n",
       "    msgBox.innerHTML = \"<div class='pluto-output admonition alert alert-danger'><span>👎&nbsp; Incorrecto </span></div>\";\n",
       "    var explanation = document.getElementById(\"explanation_SNgNAIL0\")\n",
       "    if (explanation != null) {\n",
       "       explanation.style.display = \"block\";\n",
       "    }\n",
       "      quizquestions_scorecard[\"SNgNAIL0\"][\"correct\"] = false;\n",
       "  if (typeof score_summary !== 'undefined') {\n",
       "     score_summary()\n",
       "  }\n",
       "\n",
       "  }\n",
       "\n",
       "})});\n",
       "\n",
       "</script>\n"
      ],
      "text/latex": [
       "${\\quad\\Box}$ $$-\\infty$$\n",
       "${\\quad\\Box}$ 0\n",
       "\n",
       "${\\quad\\Box}$ $$1$$\n",
       "${\\quad\\Box}$ $$\\infty$$\n",
       "${\\quad\\Box}$ NaN\n",
       "\n"
      ],
      "text/plain": [
       "QuizQuestions.Radioq((L\"$-\\infty$\", \"0\", L\"$1$\", L\"$\\infty$\", \"NaN\"), 1, [1, 2, 3, 4, 5], (L\"$-\\infty$\", \"0\", L\"$1$\", L\"$\\infty$\", \"NaN\"), \"\", \"\", \"\", false)"
      ]
     },
     "execution_count": 45,
     "metadata": {},
     "output_type": "execute_result"
    }
   ],
   "source": [
    "#| echo: false\n",
    "choices = (L\"$\\infty$\", L\"$-\\infty$\", L\"1\", \"0\", \"NaN\")\n",
    "answer = 2\n",
    "radioq(choices, answer)"
   ]
  },
  {
   "cell_type": "code",
   "execution_count": 46,
   "id": "bc607cd7",
   "metadata": {},
   "outputs": [
    {
     "data": {
      "text/html": [
       "<script>\n",
       "if (typeof quizquestions_scorecard === 'undefined') {\n",
       "   quizquestions_scorecard = {};\n",
       "}\n",
       "var ID = \"c2uD7CBq\"\n",
       "if (typeof quizquestions_scorecard[ID] === 'undefined') {\n",
       "      quizquestions_scorecard[ID] = {attempts: 0, correct: false};\n",
       "}\n",
       "</script>\n",
       "<form class=\"mx-2 my-3 mw-100\" name='WeaveQuestion' data-id='c2uD7CBq' data-controltype=''>\n",
       "  <div class='form-group '>\n",
       "    <div class='controls'>\n",
       "      <div class=\"form\" id=\"controls_c2uD7CBq\">\n",
       "        <div style=\"padding-top: 5px\">\n",
       "    <div class=\"form-check\">\n",
       "    <label class=\"form-check-label\" for=\"radio_c2uD7CBq_1\">\n",
       "      <input class=\"form-check-input\" type=\"radio\" name=\"radio_c2uD7CBq\"\n",
       "              id=\"radio_c2uD7CBq_1\" value=\"1\">\n",
       "      </input>\n",
       "      <span class=\"label-body px-1\">\n",
       "        \\(e^a\\)\n",
       "      </span>\n",
       "    </label>\n",
       "</div>\n",
       "<div class=\"form-check\">\n",
       "    <label class=\"form-check-label\" for=\"radio_c2uD7CBq_2\">\n",
       "      <input class=\"form-check-input\" type=\"radio\" name=\"radio_c2uD7CBq\"\n",
       "              id=\"radio_c2uD7CBq_2\" value=\"2\">\n",
       "      </input>\n",
       "      <span class=\"label-body px-1\">\n",
       "        \\(\\ln(a)\\)\n",
       "      </span>\n",
       "    </label>\n",
       "</div>\n",
       "<div class=\"form-check\">\n",
       "    <label class=\"form-check-label\" for=\"radio_c2uD7CBq_3\">\n",
       "      <input class=\"form-check-input\" type=\"radio\" name=\"radio_c2uD7CBq\"\n",
       "              id=\"radio_c2uD7CBq_3\" value=\"3\">\n",
       "      </input>\n",
       "      <span class=\"label-body px-1\">\n",
       "        \\(\\sqrt{a}\\)\n",
       "      </span>\n",
       "    </label>\n",
       "</div>\n",
       "<div class=\"form-check\">\n",
       "    <label class=\"form-check-label\" for=\"radio_c2uD7CBq_4\">\n",
       "      <input class=\"form-check-input\" type=\"radio\" name=\"radio_c2uD7CBq\"\n",
       "              id=\"radio_c2uD7CBq_4\" value=\"4\">\n",
       "      </input>\n",
       "      <span class=\"label-body px-1\">\n",
       "        \\(1/a\\)\n",
       "      </span>\n",
       "    </label>\n",
       "</div>\n",
       "<div class=\"form-check\">\n",
       "    <label class=\"form-check-label\" for=\"radio_c2uD7CBq_5\">\n",
       "      <input class=\"form-check-input\" type=\"radio\" name=\"radio_c2uD7CBq\"\n",
       "              id=\"radio_c2uD7CBq_5\" value=\"5\">\n",
       "      </input>\n",
       "      <span class=\"label-body px-1\">\n",
       "        Las otras opciones son falsas.\n",
       "      </span>\n",
       "    </label>\n",
       "</div>\n",
       "\n",
       "    \n",
       "        </div>\n",
       "      </div>\n",
       "      <div id='c2uD7CBq_message' style=\"padding-bottom: 15px\"></div>\n",
       "    </div>\n",
       "  </div>\n",
       "</form>\n",
       "\n",
       "<script text='text/javascript'>\n",
       "document.querySelectorAll('input[name=\"radio_c2uD7CBq\"]').forEach(function(rb) {\n",
       "rb.addEventListener(\"change\", function() {\n",
       "    var correct = rb.value == 2;\n",
       "    var msgBox = document.getElementById('c2uD7CBq_message');\n",
       "    \n",
       "    quizquestions_scorecard[\"c2uD7CBq\"][\"attempts\"] += 1;\n",
       "\n",
       "  if(correct) {\n",
       "    msgBox.innerHTML = \"<div class='pluto-output admonition note alert alert-success'><span> 👍&nbsp; Correcto </span></div>\";\n",
       "    var explanation = document.getElementById(\"explanation_c2uD7CBq\")\n",
       "    if (explanation != null) {\n",
       "       explanation.style.display = \"none\";\n",
       "    }\n",
       "      quizquestions_scorecard[\"c2uD7CBq\"][\"correct\"] = true;\n",
       "  if (typeof score_summary !== 'undefined') {\n",
       "     score_summary()\n",
       "  }\n",
       "\n",
       "\n",
       "  } else {\n",
       "    msgBox.innerHTML = \"<div class='pluto-output admonition alert alert-danger'><span>👎&nbsp; Incorrecto </span></div>\";\n",
       "    var explanation = document.getElementById(\"explanation_c2uD7CBq\")\n",
       "    if (explanation != null) {\n",
       "       explanation.style.display = \"block\";\n",
       "    }\n",
       "      quizquestions_scorecard[\"c2uD7CBq\"][\"correct\"] = false;\n",
       "  if (typeof score_summary !== 'undefined') {\n",
       "     score_summary()\n",
       "  }\n",
       "\n",
       "  }\n",
       "\n",
       "})});\n",
       "\n",
       "</script>\n"
      ],
      "text/latex": [
       "${\\quad\\Box}$ $$e^a$$\n",
       "${\\quad\\Box}$ $$\\ln(a)$$\n",
       "${\\quad\\Box}$ $$\\sqrt{a}$$\n",
       "${\\quad\\Box}$ $$1/a$$\n",
       "${\\quad\\Box}$ Las otras opciones son falsas.\n",
       "\n"
      ],
      "text/plain": [
       "QuizQuestions.Radioq((L\"$e^a$\", L\"$\\ln(a)$\", L\"$\\sqrt{a}$\", L\"$1/a$\", \"Las otras opciones son falsas.\"), 2, [1, 2, 3, 4, 5], (L\"$e^a$\", L\"$\\ln(a)$\", L\"$\\sqrt{a}$\", L\"$1/a$\", \"Las otras opciones son falsas.\"), \"\", \"\", \"\", false)"
      ]
     },
     "execution_count": 46,
     "metadata": {},
     "output_type": "execute_result"
    }
   ],
   "source": [
    "#| echo: false\n",
    "choices = (L\"1/a\", L\"e^a\", L\"$\\sqrt{a}$\", L\"\\ln(a)\", \"Las otras opciones son falsas.\")\n",
    "answer = 4\n",
    "radioq(choices, answer)"
   ]
  },
  {
   "cell_type": "code",
   "execution_count": 47,
   "id": "b7bd81a5",
   "metadata": {},
   "outputs": [
    {
     "data": {
      "text/html": [
       "<script>\n",
       "if (typeof quizquestions_scorecard === 'undefined') {\n",
       "   quizquestions_scorecard = {};\n",
       "}\n",
       "var ID = \"eOreTPhI\"\n",
       "if (typeof quizquestions_scorecard[ID] === 'undefined') {\n",
       "      quizquestions_scorecard[ID] = {attempts: 0, correct: false};\n",
       "}\n",
       "</script>\n",
       "<form class=\"mx-2 my-3 mw-100\" name='WeaveQuestion' data-id='eOreTPhI' data-controltype=''>\n",
       "  <div class='form-group '>\n",
       "    <div class='controls'>\n",
       "      <div class=\"form\" id=\"controls_eOreTPhI\">\n",
       "        <div style=\"padding-top: 5px\">\n",
       "    <div class=\"form-check\">\n",
       "  <label>\n",
       "    <input class=\"form-check-input\" type=\"checkbox\" name=\"check_eOreTPhI\"\n",
       "              id=\"check_eOreTPhI_1\" value=\"1\">\n",
       "      <span class=\"label-body\">\n",
       "        \\(y=\\frac{x-1}{3}\\)\n",
       "      </span>\n",
       "    </input>\n",
       "  </label>\n",
       "</div>\n",
       "<div class=\"form-check\">\n",
       "  <label>\n",
       "    <input class=\"form-check-input\" type=\"checkbox\" name=\"check_eOreTPhI\"\n",
       "              id=\"check_eOreTPhI_2\" value=\"2\">\n",
       "      <span class=\"label-body\">\n",
       "        \\(x=-1\\)\n",
       "      </span>\n",
       "    </input>\n",
       "  </label>\n",
       "</div>\n",
       "<div class=\"form-check\">\n",
       "  <label>\n",
       "    <input class=\"form-check-input\" type=\"checkbox\" name=\"check_eOreTPhI\"\n",
       "              id=\"check_eOreTPhI_3\" value=\"3\">\n",
       "      <span class=\"label-body\">\n",
       "        \\(y=3x+1\\)\n",
       "      </span>\n",
       "    </input>\n",
       "  </label>\n",
       "</div>\n",
       "<div class=\"form-check\">\n",
       "  <label>\n",
       "    <input class=\"form-check-input\" type=\"checkbox\" name=\"check_eOreTPhI\"\n",
       "              id=\"check_eOreTPhI_4\" value=\"4\">\n",
       "      <span class=\"label-body\">\n",
       "        \\(y=\\frac{1}{3}+\\frac{1}{3}x\\)\n",
       "      </span>\n",
       "    </input>\n",
       "  </label>\n",
       "</div>\n",
       "<div class=\"form-check\">\n",
       "  <label>\n",
       "    <input class=\"form-check-input\" type=\"checkbox\" name=\"check_eOreTPhI\"\n",
       "              id=\"check_eOreTPhI_5\" value=\"5\">\n",
       "      <span class=\"label-body\">\n",
       "        \\(y=1\\)\n",
       "      </span>\n",
       "    </input>\n",
       "  </label>\n",
       "</div>\n",
       "\n",
       "    \n",
       "        </div>\n",
       "      </div>\n",
       "      <div id='eOreTPhI_message' style=\"padding-bottom: 15px\"></div>\n",
       "    </div>\n",
       "  </div>\n",
       "</form>\n",
       "\n",
       "<script text='text/javascript'>\n",
       "document.querySelectorAll('input[name=\"check_eOreTPhI\"]').forEach(function(rb) {\n",
       "rb.addEventListener(\"change\", function() {\n",
       "    var choice_buttons = document.getElementsByName(\"check_eOreTPhI\");\n",
       "    var selected = [];\n",
       "    for (var i=0; i < choice_buttons.length; i++) {\n",
       "        if (choice_buttons[i].checked) {\n",
       "           selected.push(i+1)\n",
       "        }\n",
       "    }\n",
       "    var a = selected;\n",
       "    var b = [1, 2];\n",
       "    // https://stackoverflow.com/questions/7837456/how-to-compare-arrays-in-javascript\n",
       "    var  correct =  (a.length === b.length && a.find((v,i) => v !== b[i]) === undefined)\n",
       "    var msgBox = document.getElementById('eOreTPhI_message');\n",
       "    \n",
       "    quizquestions_scorecard[\"eOreTPhI\"][\"attempts\"] += 1;\n",
       "\n",
       "  if(correct) {\n",
       "    msgBox.innerHTML = \"<div class='pluto-output admonition note alert alert-success'><span> 👍&nbsp; Correcto </span></div>\";\n",
       "    var explanation = document.getElementById(\"explanation_eOreTPhI\")\n",
       "    if (explanation != null) {\n",
       "       explanation.style.display = \"none\";\n",
       "    }\n",
       "      quizquestions_scorecard[\"eOreTPhI\"][\"correct\"] = true;\n",
       "  if (typeof score_summary !== 'undefined') {\n",
       "     score_summary()\n",
       "  }\n",
       "\n",
       "\n",
       "  } else {\n",
       "    msgBox.innerHTML = \"<div class='pluto-output admonition alert alert-danger'><span>👎&nbsp; Todavía no es correcto </span></div>\";\n",
       "    var explanation = document.getElementById(\"explanation_eOreTPhI\")\n",
       "    if (explanation != null) {\n",
       "       explanation.style.display = \"block\";\n",
       "    }\n",
       "      quizquestions_scorecard[\"eOreTPhI\"][\"correct\"] = false;\n",
       "  if (typeof score_summary !== 'undefined') {\n",
       "     score_summary()\n",
       "  }\n",
       "\n",
       "  }\n",
       "\n",
       "})});\n",
       "\n",
       "</script>\n"
      ],
      "text/latex": [
       "${\\quad\\Box}$ $$y=\\frac{x-1}{3}$$\n",
       "${\\quad\\Box}$ $$x=-1$$\n",
       "${\\quad\\Box}$ $$y=3x+1$$\n",
       "${\\quad\\Box}$ $$y=\\frac{1}{3}+\\frac{1}{3}x$$\n",
       "${\\quad\\Box}$ $$y=1$$\n",
       "(\\emph{Select one or more})\n",
       "\n",
       "\n"
      ],
      "text/plain": [
       "QuizQuestions.Multiq((L\"$y=\\frac{x-1}{3}$\", L\"$x=-1$\", L\"$y=3x+1$\", L\"$y=\\frac{1}{3}+\\frac{1}{3}x$\", L\"$y=1$\"), [1, 2], [1, 2, 3, 4, 5], (L\"$y=\\frac{x-1}{3}$\", L\"$x=-1$\", L\"$y=3x+1$\", L\"$y=\\frac{1}{3}+\\frac{1}{3}x$\", L\"$y=1$\"), \"\", \"\", \"\", false)"
      ]
     },
     "execution_count": 47,
     "metadata": {},
     "output_type": "execute_result"
    }
   ],
   "source": [
    "#| echo: false\n",
    "choices = (L\"$x=-1$\", L\"$y=1$\", L\"$y=3x+1$\", L\"$y=\\frac{1}{3}+\\frac{1}{3}x$\", L\"$y=\\frac{x-1}{3}$\")\n",
    "answers = [1,5]\n",
    "multiq(choices, answers)"
   ]
  },
  {
   "cell_type": "code",
   "execution_count": 48,
   "id": "c1191aa0",
   "metadata": {},
   "outputs": [
    {
     "data": {
      "text/html": [
       "<script>\n",
       "if (typeof quizquestions_scorecard === 'undefined') {\n",
       "   quizquestions_scorecard = {};\n",
       "}\n",
       "var ID = \"Tke4MLWt\"\n",
       "if (typeof quizquestions_scorecard[ID] === 'undefined') {\n",
       "      quizquestions_scorecard[ID] = {attempts: 0, correct: false};\n",
       "}\n",
       "</script>\n",
       "<form class=\"mx-2 my-3 mw-100\" name='WeaveQuestion' data-id='Tke4MLWt' data-controltype=''>\n",
       "  <div class='form-group '>\n",
       "    <div class='controls'>\n",
       "      <div class=\"form\" id=\"controls_Tke4MLWt\">\n",
       "        <div style=\"padding-top: 5px\">\n",
       "    </br>\n",
       "<div class=\"input-group\">\n",
       "    <input id=\"Tke4MLWt\" type=\"number\" class=\"form-control\" placeholder=\"Respuesta numérica\">\n",
       "</div>\n",
       "\n",
       "    \n",
       "        </div>\n",
       "      </div>\n",
       "      <div id='Tke4MLWt_message' style=\"padding-bottom: 15px\"></div>\n",
       "    </div>\n",
       "  </div>\n",
       "</form>\n",
       "\n",
       "<script text='text/javascript'>\n",
       "document.getElementById(\"Tke4MLWt\").addEventListener(\"change\", function() {\n",
       "  var correct = (Math.abs(this.value - 2) <= 0.001);\n",
       "  var msgBox = document.getElementById('Tke4MLWt_message');\n",
       "  \n",
       "    quizquestions_scorecard[\"Tke4MLWt\"][\"attempts\"] += 1;\n",
       "\n",
       "  if(correct) {\n",
       "    msgBox.innerHTML = \"<div class='pluto-output admonition note alert alert-success'><span> 👍&nbsp; Correcto </span></div>\";\n",
       "    var explanation = document.getElementById(\"explanation_Tke4MLWt\")\n",
       "    if (explanation != null) {\n",
       "       explanation.style.display = \"none\";\n",
       "    }\n",
       "      quizquestions_scorecard[\"Tke4MLWt\"][\"correct\"] = true;\n",
       "  if (typeof score_summary !== 'undefined') {\n",
       "     score_summary()\n",
       "  }\n",
       "\n",
       "\n",
       "  } else {\n",
       "    msgBox.innerHTML = \"<div class='pluto-output admonition alert alert-danger'><span>👎&nbsp; Incorrecto </span></div>\";\n",
       "    var explanation = document.getElementById(\"explanation_Tke4MLWt\")\n",
       "    if (explanation != null) {\n",
       "       explanation.style.display = \"block\";\n",
       "    }\n",
       "      quizquestions_scorecard[\"Tke4MLWt\"][\"correct\"] = false;\n",
       "  if (typeof score_summary !== 'undefined') {\n",
       "     score_summary()\n",
       "  }\n",
       "\n",
       "  }\n",
       "\n",
       "});\n",
       "\n",
       "</script>\n"
      ],
      "text/latex": [
       "\\vspace{18pt}"
      ],
      "text/plain": [
       "QuizQuestions.Numericq(2, 0.001, \"\", \"\", \"\", \"\", nothing)"
      ]
     },
     "execution_count": 48,
     "metadata": {},
     "output_type": "execute_result"
    }
   ],
   "source": [
    "#| echo: false\n",
    "@syms x::real\n",
    "f(x) = (exp(x)-exp(-x))/x\n",
    "l = limit(f(x), x=>0)\n",
    "numericq(l)"
   ]
  },
  {
   "cell_type": "code",
   "execution_count": 49,
   "id": "4205485c",
   "metadata": {},
   "outputs": [
    {
     "data": {
      "text/html": [
       "<script>\n",
       "if (typeof quizquestions_scorecard === 'undefined') {\n",
       "   quizquestions_scorecard = {};\n",
       "}\n",
       "var ID = \"jJuAb8EW\"\n",
       "if (typeof quizquestions_scorecard[ID] === 'undefined') {\n",
       "      quizquestions_scorecard[ID] = {attempts: 0, correct: false};\n",
       "}\n",
       "</script>\n",
       "<form class=\"mx-2 my-3 mw-100\" name='WeaveQuestion' data-id='jJuAb8EW' data-controltype=''>\n",
       "  <div class='form-group '>\n",
       "    <div class='controls'>\n",
       "      <div class=\"form\" id=\"controls_jJuAb8EW\">\n",
       "        <div style=\"padding-top: 5px\">\n",
       "    <div class=\"form-check\">\n",
       "    <label class=\"form-check-label\" for=\"radio_jJuAb8EW_1\">\n",
       "      <input class=\"form-check-input\" type=\"radio\" name=\"radio_jJuAb8EW\"\n",
       "              id=\"radio_jJuAb8EW_1\" value=\"1\">\n",
       "      </input>\n",
       "      <span class=\"label-body px-1\">\n",
       "        No hay ningún valor de de \\(a\\) que haga la función continua\n",
       "      </span>\n",
       "    </label>\n",
       "</div>\n",
       "<div class=\"form-check\">\n",
       "    <label class=\"form-check-label\" for=\"radio_jJuAb8EW_2\">\n",
       "      <input class=\"form-check-input\" type=\"radio\" name=\"radio_jJuAb8EW\"\n",
       "              id=\"radio_jJuAb8EW_2\" value=\"2\">\n",
       "      </input>\n",
       "      <span class=\"label-body px-1\">\n",
       "        \\(-2+\\frac{\\sqrt{2}}{2}\\)\n",
       "      </span>\n",
       "    </label>\n",
       "</div>\n",
       "<div class=\"form-check\">\n",
       "    <label class=\"form-check-label\" for=\"radio_jJuAb8EW_3\">\n",
       "      <input class=\"form-check-input\" type=\"radio\" name=\"radio_jJuAb8EW\"\n",
       "              id=\"radio_jJuAb8EW_3\" value=\"3\">\n",
       "      </input>\n",
       "      <span class=\"label-body px-1\">\n",
       "        \\(-2 - \\frac{\\sqrt{2}}{2}\\)\n",
       "      </span>\n",
       "    </label>\n",
       "</div>\n",
       "<div class=\"form-check\">\n",
       "    <label class=\"form-check-label\" for=\"radio_jJuAb8EW_4\">\n",
       "      <input class=\"form-check-input\" type=\"radio\" name=\"radio_jJuAb8EW\"\n",
       "              id=\"radio_jJuAb8EW_4\" value=\"4\">\n",
       "      </input>\n",
       "      <span class=\"label-body px-1\">\n",
       "        \\(2-\\sqrt{2}\\)\n",
       "      </span>\n",
       "    </label>\n",
       "</div>\n",
       "<div class=\"form-check\">\n",
       "    <label class=\"form-check-label\" for=\"radio_jJuAb8EW_5\">\n",
       "      <input class=\"form-check-input\" type=\"radio\" name=\"radio_jJuAb8EW\"\n",
       "              id=\"radio_jJuAb8EW_5\" value=\"5\">\n",
       "      </input>\n",
       "      <span class=\"label-body px-1\">\n",
       "        \\(-2\\)\n",
       "      </span>\n",
       "    </label>\n",
       "</div>\n",
       "\n",
       "    \n",
       "        </div>\n",
       "      </div>\n",
       "      <div id='jJuAb8EW_message' style=\"padding-bottom: 15px\"></div>\n",
       "    </div>\n",
       "  </div>\n",
       "</form>\n",
       "\n",
       "<script text='text/javascript'>\n",
       "document.querySelectorAll('input[name=\"radio_jJuAb8EW\"]').forEach(function(rb) {\n",
       "rb.addEventListener(\"change\", function() {\n",
       "    var correct = rb.value == 3;\n",
       "    var msgBox = document.getElementById('jJuAb8EW_message');\n",
       "    \n",
       "    quizquestions_scorecard[\"jJuAb8EW\"][\"attempts\"] += 1;\n",
       "\n",
       "  if(correct) {\n",
       "    msgBox.innerHTML = \"<div class='pluto-output admonition note alert alert-success'><span> 👍&nbsp; Correcto </span></div>\";\n",
       "    var explanation = document.getElementById(\"explanation_jJuAb8EW\")\n",
       "    if (explanation != null) {\n",
       "       explanation.style.display = \"none\";\n",
       "    }\n",
       "      quizquestions_scorecard[\"jJuAb8EW\"][\"correct\"] = true;\n",
       "  if (typeof score_summary !== 'undefined') {\n",
       "     score_summary()\n",
       "  }\n",
       "\n",
       "\n",
       "  } else {\n",
       "    msgBox.innerHTML = \"<div class='pluto-output admonition alert alert-danger'><span>👎&nbsp; Incorrecto </span></div>\";\n",
       "    var explanation = document.getElementById(\"explanation_jJuAb8EW\")\n",
       "    if (explanation != null) {\n",
       "       explanation.style.display = \"block\";\n",
       "    }\n",
       "      quizquestions_scorecard[\"jJuAb8EW\"][\"correct\"] = false;\n",
       "  if (typeof score_summary !== 'undefined') {\n",
       "     score_summary()\n",
       "  }\n",
       "\n",
       "  }\n",
       "\n",
       "})});\n",
       "\n",
       "</script>\n"
      ],
      "text/latex": [
       "${\\quad\\Box}$ No hay ningún valor de de $a$ que haga la función continua\n",
       "\n",
       "${\\quad\\Box}$ $$-2+\\frac{\\sqrt{2}}{2}$$\n",
       "${\\quad\\Box}$ $$-2 - \\frac{\\sqrt{2}}{2}$$\n",
       "${\\quad\\Box}$ $$2-\\sqrt{2}$$\n",
       "${\\quad\\Box}$ $$-2$$\n"
      ],
      "text/plain": [
       "QuizQuestions.Radioq((L\"No hay ningún valor de de $a$ que haga la función continua\", L\"$-2+\\frac{\\sqrt{2}}{2}$\", L\"$-2 - \\frac{\\sqrt{2}}{2}$\", L\"$2-\\sqrt{2}$\", L\"$-2$\"), 3, [1, 2, 3, 4, 5], (L\"No hay ningún valor de de $a$ que haga la función continua\", L\"$-2+\\frac{\\sqrt{2}}{2}$\", L\"$-2 - \\frac{\\sqrt{2}}{2}$\", L\"$2-\\sqrt{2}$\", L\"$-2$\"), \"\", \"\", \"\", false)"
      ]
     },
     "execution_count": 49,
     "metadata": {},
     "output_type": "execute_result"
    }
   ],
   "source": [
    "#| echo: false\n",
    "using Latexify\n",
    "@vars a real=true\n",
    "h1(x) = x^3-x-2\n",
    "h2(x) = cos(x-Sym(pi)/4)+a \n",
    "l1 = limit(h1(x), x=>0, dir=\"-\")\n",
    "l2 = limit(h2(x),x=>0, dir=\"+\")\n",
    "sol=solve(Eq(l1,l2))\n",
    "choices = (latexify(sol[1]), L\"$2-\\sqrt{2}$\", L\"$-2$\", L\"$-2+\\frac{\\sqrt{2}}{2}$\", L\"No hay ningún valor de de $a$ que haga la función continua\")\n",
    "answer = 1\n",
    "radioq(choices, answer)"
   ]
  },
  {
   "cell_type": "code",
   "execution_count": 50,
   "id": "a4bd26fd",
   "metadata": {},
   "outputs": [
    {
     "data": {
      "text/html": [
       "<script>\n",
       "if (typeof quizquestions_scorecard === 'undefined') {\n",
       "   quizquestions_scorecard = {};\n",
       "}\n",
       "var ID = \"Um40g1BL\"\n",
       "if (typeof quizquestions_scorecard[ID] === 'undefined') {\n",
       "      quizquestions_scorecard[ID] = {attempts: 0, correct: false};\n",
       "}\n",
       "</script>\n",
       "<form class=\"mx-2 my-3 mw-100\" name='WeaveQuestion' data-id='Um40g1BL' data-controltype=''>\n",
       "  <div class='form-group '>\n",
       "    <div class='controls'>\n",
       "      <div class=\"form\" id=\"controls_Um40g1BL\">\n",
       "        <div style=\"padding-top: 5px\">\n",
       "    <div class=\"form-check\">\n",
       "    <label class=\"form-check-label\" for=\"radio_Um40g1BL_1\">\n",
       "      <input class=\"form-check-input\" type=\"radio\" name=\"radio_Um40g1BL\"\n",
       "              id=\"radio_Um40g1BL_1\" value=\"1\">\n",
       "      </input>\n",
       "      <span class=\"label-body px-1\">\n",
       "        Salto infinito\n",
       "      </span>\n",
       "    </label>\n",
       "</div>\n",
       "<div class=\"form-check\">\n",
       "    <label class=\"form-check-label\" for=\"radio_Um40g1BL_2\">\n",
       "      <input class=\"form-check-input\" type=\"radio\" name=\"radio_Um40g1BL\"\n",
       "              id=\"radio_Um40g1BL_2\" value=\"2\">\n",
       "      </input>\n",
       "      <span class=\"label-body px-1\">\n",
       "        Segunda especie\n",
       "      </span>\n",
       "    </label>\n",
       "</div>\n",
       "<div class=\"form-check\">\n",
       "    <label class=\"form-check-label\" for=\"radio_Um40g1BL_3\">\n",
       "      <input class=\"form-check-input\" type=\"radio\" name=\"radio_Um40g1BL\"\n",
       "              id=\"radio_Um40g1BL_3\" value=\"3\">\n",
       "      </input>\n",
       "      <span class=\"label-body px-1\">\n",
       "        Evitable\n",
       "      </span>\n",
       "    </label>\n",
       "</div>\n",
       "<div class=\"form-check\">\n",
       "    <label class=\"form-check-label\" for=\"radio_Um40g1BL_4\">\n",
       "      <input class=\"form-check-input\" type=\"radio\" name=\"radio_Um40g1BL\"\n",
       "              id=\"radio_Um40g1BL_4\" value=\"4\">\n",
       "      </input>\n",
       "      <span class=\"label-body px-1\">\n",
       "        Salto finito\n",
       "      </span>\n",
       "    </label>\n",
       "</div>\n",
       "<div class=\"form-check\">\n",
       "    <label class=\"form-check-label\" for=\"radio_Um40g1BL_5\">\n",
       "      <input class=\"form-check-input\" type=\"radio\" name=\"radio_Um40g1BL\"\n",
       "              id=\"radio_Um40g1BL_5\" value=\"5\">\n",
       "      </input>\n",
       "      <span class=\"label-body px-1\">\n",
       "        Es continua\n",
       "      </span>\n",
       "    </label>\n",
       "</div>\n",
       "\n",
       "    \n",
       "        </div>\n",
       "      </div>\n",
       "      <div id='Um40g1BL_message' style=\"padding-bottom: 15px\"></div>\n",
       "    </div>\n",
       "  </div>\n",
       "</form>\n",
       "\n",
       "<script text='text/javascript'>\n",
       "document.querySelectorAll('input[name=\"radio_Um40g1BL\"]').forEach(function(rb) {\n",
       "rb.addEventListener(\"change\", function() {\n",
       "    var correct = rb.value == 1;\n",
       "    var msgBox = document.getElementById('Um40g1BL_message');\n",
       "    \n",
       "    quizquestions_scorecard[\"Um40g1BL\"][\"attempts\"] += 1;\n",
       "\n",
       "  if(correct) {\n",
       "    msgBox.innerHTML = \"<div class='pluto-output admonition note alert alert-success'><span> 👍&nbsp; Correcto </span></div>\";\n",
       "    var explanation = document.getElementById(\"explanation_Um40g1BL\")\n",
       "    if (explanation != null) {\n",
       "       explanation.style.display = \"none\";\n",
       "    }\n",
       "      quizquestions_scorecard[\"Um40g1BL\"][\"correct\"] = true;\n",
       "  if (typeof score_summary !== 'undefined') {\n",
       "     score_summary()\n",
       "  }\n",
       "\n",
       "\n",
       "  } else {\n",
       "    msgBox.innerHTML = \"<div class='pluto-output admonition alert alert-danger'><span>👎&nbsp; Incorrecto </span></div>\";\n",
       "    var explanation = document.getElementById(\"explanation_Um40g1BL\")\n",
       "    if (explanation != null) {\n",
       "       explanation.style.display = \"block\";\n",
       "    }\n",
       "      quizquestions_scorecard[\"Um40g1BL\"][\"correct\"] = false;\n",
       "  if (typeof score_summary !== 'undefined') {\n",
       "     score_summary()\n",
       "  }\n",
       "\n",
       "  }\n",
       "\n",
       "})});\n",
       "\n",
       "</script>\n"
      ],
      "text/latex": [
       "${\\quad\\Box}$ Salto infinito\n",
       "\n",
       "${\\quad\\Box}$ Segunda especie\n",
       "\n",
       "${\\quad\\Box}$ Evitable\n",
       "\n",
       "${\\quad\\Box}$ Salto finito\n",
       "\n",
       "${\\quad\\Box}$ Es continua\n",
       "\n"
      ],
      "text/plain": [
       "QuizQuestions.Radioq((\"Salto infinito\", \"Segunda especie\", \"Evitable\", \"Salto finito\", \"Es continua\"), 1, [1, 2, 3, 4, 5], (\"Salto infinito\", \"Segunda especie\", \"Evitable\", \"Salto finito\", \"Es continua\"), \"\", \"\", \"\", false)"
      ]
     },
     "execution_count": 50,
     "metadata": {},
     "output_type": "execute_result"
    }
   ],
   "source": [
    "#| echo: false\n",
    "choices = (\"Evitable\", \"Salto finito\", \"Salto infinito\", \"Segunda especie\", \"Es continua\")\n",
    "answer = 3\n",
    "radioq(choices, answer)"
   ]
  },
  {
   "cell_type": "code",
   "execution_count": 51,
   "id": "a5afe55e",
   "metadata": {},
   "outputs": [
    {
     "data": {
      "text/html": [
       "<script>\n",
       "if (typeof quizquestions_scorecard === 'undefined') {\n",
       "   quizquestions_scorecard = {};\n",
       "}\n",
       "var ID = \"lZoGmlL4\"\n",
       "if (typeof quizquestions_scorecard[ID] === 'undefined') {\n",
       "      quizquestions_scorecard[ID] = {attempts: 0, correct: false};\n",
       "}\n",
       "</script>\n",
       "<form class=\"mx-2 my-3 mw-100\" name='WeaveQuestion' data-id='lZoGmlL4' data-controltype=''>\n",
       "  <div class='form-group '>\n",
       "    <div class='controls'>\n",
       "      <div class=\"form\" id=\"controls_lZoGmlL4\">\n",
       "        <div style=\"padding-top: 5px\">\n",
       "    </br>\n",
       "<div class=\"input-group\">\n",
       "    <input id=\"lZoGmlL4\" type=\"number\" class=\"form-control\" placeholder=\"Respuesta numérica\">\n",
       "</div>\n",
       "\n",
       "    \n",
       "        </div>\n",
       "      </div>\n",
       "      <div id='lZoGmlL4_message' style=\"padding-bottom: 15px\"></div>\n",
       "    </div>\n",
       "  </div>\n",
       "</form>\n",
       "\n",
       "<script text='text/javascript'>\n",
       "document.getElementById(\"lZoGmlL4\").addEventListener(\"change\", function() {\n",
       "  var correct = (Math.abs(this.value - 1.2926957193733988) <= 1.0e-15);\n",
       "  var msgBox = document.getElementById('lZoGmlL4_message');\n",
       "  \n",
       "    quizquestions_scorecard[\"lZoGmlL4\"][\"attempts\"] += 1;\n",
       "\n",
       "  if(correct) {\n",
       "    msgBox.innerHTML = \"<div class='pluto-output admonition note alert alert-success'><span> 👍&nbsp; Correcto </span></div>\";\n",
       "    var explanation = document.getElementById(\"explanation_lZoGmlL4\")\n",
       "    if (explanation != null) {\n",
       "       explanation.style.display = \"none\";\n",
       "    }\n",
       "      quizquestions_scorecard[\"lZoGmlL4\"][\"correct\"] = true;\n",
       "  if (typeof score_summary !== 'undefined') {\n",
       "     score_summary()\n",
       "  }\n",
       "\n",
       "\n",
       "  } else {\n",
       "    msgBox.innerHTML = \"<div class='pluto-output admonition alert alert-danger'><span>👎&nbsp; Incorrecto </span></div>\";\n",
       "    var explanation = document.getElementById(\"explanation_lZoGmlL4\")\n",
       "    if (explanation != null) {\n",
       "       explanation.style.display = \"block\";\n",
       "    }\n",
       "      quizquestions_scorecard[\"lZoGmlL4\"][\"correct\"] = false;\n",
       "  if (typeof score_summary !== 'undefined') {\n",
       "     score_summary()\n",
       "  }\n",
       "\n",
       "  }\n",
       "\n",
       "});\n",
       "\n",
       "</script>\n"
      ],
      "text/latex": [
       "\\vspace{18pt}"
      ],
      "text/plain": [
       "QuizQuestions.Numericq(1.2926957193733988, 1.0e-15, \"\", \"\", \"\", \"\", nothing)"
      ]
     },
     "execution_count": 51,
     "metadata": {},
     "output_type": "execute_result"
    }
   ],
   "source": [
    "#| echo: false\n",
    "f(x) = exp(-x)-cos(x)\n",
    "sol = raices_biseccion(f, 1, 2, 1e-15)\n",
    "numericq(sol, 1e-15)"
   ]
  }
 ],
 "metadata": {
  "kernelspec": {
   "display_name": "Julia 1.8.2",
   "language": "julia",
   "name": "julia-1.8"
  },
  "language_info": {
   "file_extension": ".jl",
   "mimetype": "application/julia",
   "name": "julia",
   "version": "1.8.5"
  }
 },
 "nbformat": 4,
 "nbformat_minor": 5
}