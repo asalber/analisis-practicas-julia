{
 "cells": [
  {
   "cell_type": "code",
   "execution_count": 1,
   "id": "8e00b0e1",
   "metadata": {},
   "outputs": [],
   "source": [
    "import IJulia\n",
    "\n",
    "# The julia kernel has built in support for Revise.jl, so this is the \n",
    "# recommended approach for long-running sessions:\n",
    "# https://github.com/JuliaLang/IJulia.jl/blob/9b10fa9b879574bbf720f5285029e07758e50a5e/src/kernel.jl#L46-L51\n",
    "\n",
    "# Users should enable revise within .julia/config/startup_ijulia.jl:\n",
    "# https://timholy.github.io/Revise.jl/stable/config/#Using-Revise-automatically-within-Jupyter/IJulia-1\n",
    "\n",
    "# clear console history\n",
    "IJulia.clear_history()\n",
    "\n",
    "fig_width = 5.5\n",
    "fig_height = 3.5\n",
    "fig_format = :pdf\n",
    "fig_dpi = 300\n",
    "\n",
    "# no retina format type, use svg for high quality type/marks\n",
    "if fig_format == :retina\n",
    "  fig_format = :svg\n",
    "elseif fig_format == :pdf\n",
    "  fig_dpi = 96\n",
    "  # Enable PDF support for IJulia\n",
    "  IJulia.register_mime(MIME(\"application/pdf\"))\n",
    "end\n",
    "\n",
    "# convert inches to pixels\n",
    "fig_width = fig_width * fig_dpi\n",
    "fig_height = fig_height * fig_dpi\n",
    "\n",
    "# Intialize Plots w/ default fig width/height\n",
    "try\n",
    "  import Plots\n",
    "\n",
    "  # Plots.jl doesn't support PDF output for versions < 1.28.1\n",
    "  # so use png (if the DPI remains the default of 300 then set to 96)\n",
    "  if (Plots._current_plots_version < v\"1.28.1\") & (fig_format == :pdf)\n",
    "    Plots.gr(size=(fig_width, fig_height), fmt = :png, dpi = fig_dpi)\n",
    "  else\n",
    "    Plots.gr(size=(fig_width, fig_height), fmt = fig_format, dpi = fig_dpi)\n",
    "  end\n",
    "catch e\n",
    "  # @warn \"Plots init\" exception=(e, catch_backtrace())\n",
    "end\n",
    "\n",
    "# Initialize CairoMakie with default fig width/height\n",
    "try\n",
    "  import CairoMakie\n",
    "  \n",
    "  CairoMakie.activate!(type = string(fig_format))\n",
    "  CairoMakie.update_theme!(resolution=(fig_width, fig_height))\n",
    "catch e\n",
    "    # @warn \"CairoMakie init\" exception=(e, catch_backtrace())\n",
    "end\n",
    "  \n",
    "# Set run_path if specified\n",
    "try\n",
    "  run_path = raw\"/run/media/alf/datos/misrepositorios/docencia/analisis-practicas-julia\"\n",
    "  if !isempty(run_path)\n",
    "    cd(run_path)\n",
    "  end\n",
    "catch e\n",
    "  @warn \"Run path init:\" exception=(e, catch_backtrace())\n",
    "end\n",
    "\n",
    "\n",
    "# emulate old Pkg.installed beahvior, see\n",
    "# https://discourse.julialang.org/t/how-to-use-pkg-dependencies-instead-of-pkg-installed/36416/9\n",
    "import Pkg\n",
    "function isinstalled(pkg::String)\n",
    "  any(x -> x.name == pkg && x.is_direct_dep, values(Pkg.dependencies()))\n",
    "end\n",
    "\n",
    "# ojs_define\n",
    "if isinstalled(\"JSON\") && isinstalled(\"DataFrames\")\n",
    "  import JSON, DataFrames\n",
    "  global function ojs_define(; kwargs...)\n",
    "    convert(x) = x\n",
    "    convert(x::DataFrames.AbstractDataFrame) = Tables.rows(x)\n",
    "    content = Dict(\"contents\" => [Dict(\"name\" => k, \"value\" => convert(v)) for (k, v) in kwargs])\n",
    "    tag = \"<script type='ojs-define'>$(JSON.json(content))</script>\"\n",
    "    IJulia.display(MIME(\"text/html\"), tag)\n",
    "  end\n",
    "elseif isinstalled(\"JSON\")\n",
    "  import JSON\n",
    "  global function ojs_define(; kwargs...)\n",
    "    content = Dict(\"contents\" => [Dict(\"name\" => k, \"value\" => v) for (k, v) in kwargs])\n",
    "    tag = \"<script type='ojs-define'>$(JSON.json(content))</script>\"\n",
    "    IJulia.display(MIME(\"text/html\"), tag)\n",
    "  end\n",
    "else\n",
    "  global function ojs_define(; kwargs...)\n",
    "    @warn \"JSON package not available. Please install the JSON.jl package to use ojs_define.\"\n",
    "  end\n",
    "end\n",
    "\n",
    "\n",
    "# don't return kernel dependencies (b/c Revise should take care of dependencies)\n",
    "nothing\n"
   ]
  },
  {
   "cell_type": "code",
   "execution_count": 2,
   "id": "4b4bab16",
   "metadata": {},
   "outputs": [],
   "source": [
    "using SymPy  # Para el cálculo simbólico de integrales.\n",
    "using QuadGK # Para el cálculo numérico de integrales.\n",
    "using Plots  # Para el dibujo de gráficas.\n",
    "#plotlyjs() # Para obtener gráficos interactivos.\n",
    "using LaTeXStrings  # Para usar código LaTeX en los gráficos."
   ]
  },
  {
   "cell_type": "code",
   "execution_count": 3,
   "id": "f21ca4a6",
   "metadata": {
    "md-indent": "    "
   },
   "outputs": [
    {
     "data": {
      "text/plain": [
       "0.2850000000000001"
      ]
     },
     "execution_count": 3,
     "metadata": {},
     "output_type": "execute_result"
    }
   ],
   "source": [
    "f(x) = x^2\n",
    "Δx = 1/10\n",
    "areas_inf = [f((i-1)*Δx)*Δx for i = 1:10]\n",
    "sum_inf = sum(areas_inf)"
   ]
  },
  {
   "cell_type": "code",
   "execution_count": 4,
   "id": "167dfd71",
   "metadata": {
    "md-indent": "    "
   },
   "outputs": [
    {
     "data": {
      "text/plain": [
       "0.3850000000000001"
      ]
     },
     "execution_count": 4,
     "metadata": {},
     "output_type": "execute_result"
    }
   ],
   "source": [
    "f(x) = x^2\n",
    "Δx = 1/10\n",
    "areas_sup = [f(i*Δx)*Δx for i = 1:10]\n",
    "sum_sup = sum(areas_sup)"
   ]
  },
  {
   "cell_type": "code",
   "execution_count": 5,
   "id": "688035f2",
   "metadata": {
    "md-indent": "    "
   },
   "outputs": [
    {
     "data": {
      "text/plain": [
       "0.10000000000000003"
      ]
     },
     "execution_count": 5,
     "metadata": {},
     "output_type": "execute_result"
    }
   ],
   "source": [
    "error = sum_sup - sum_inf"
   ]
  },
  {
   "cell_type": "code",
   "execution_count": 6,
   "id": "12b20963",
   "metadata": {
    "md-indent": "    "
   },
   "outputs": [
    {
     "name": "stdout",
     "output_type": "stream",
     "text": [
      "┌──────────────┬───────────┐\n",
      "│\u001b[1m Aproximación \u001b[0m│\u001b[1m     Error \u001b[0m│\n",
      "├──────────────┼───────────┤\n",
      "│        0.335 │       0.1 │\n",
      "│     0.334711 │ 0.0909091 │\n",
      "│     0.334491 │ 0.0833333 │\n",
      "│      0.33432 │ 0.0769231 │\n",
      "│     0.334184 │ 0.0714286 │\n",
      "│     0.334074 │ 0.0666667 │\n",
      "│     0.333984 │    0.0625 │\n",
      "│      0.33391 │ 0.0588235 │\n",
      "│     0.333848 │ 0.0555556 │\n",
      "│     0.333795 │ 0.0526316 │\n",
      "│      0.33375 │      0.05 │\n",
      "│     0.333711 │  0.047619 │\n",
      "│     0.333678 │ 0.0454545 │\n",
      "│     0.333648 │ 0.0434783 │\n",
      "│     0.333623 │ 0.0416667 │\n",
      "│       0.3336 │      0.04 │\n",
      "│      0.33358 │ 0.0384615 │\n",
      "│     0.333562 │  0.037037 │\n",
      "│     0.333546 │ 0.0357143 │\n",
      "│     0.333532 │ 0.0344828 │\n",
      "│     0.333519 │ 0.0333333 │\n",
      "│     0.333507 │ 0.0322581 │\n",
      "│     0.333496 │   0.03125 │\n",
      "│     0.333486 │  0.030303 │\n",
      "│     0.333478 │ 0.0294118 │\n",
      "│     0.333469 │ 0.0285714 │\n",
      "│     0.333462 │ 0.0277778 │\n",
      "│     0.333455 │  0.027027 │\n",
      "│     0.333449 │ 0.0263158 │\n",
      "│     0.333443 │  0.025641 │\n",
      "│     0.333438 │     0.025 │\n",
      "│     0.333432 │ 0.0243902 │\n",
      "│     0.333428 │ 0.0238095 │\n",
      "│     0.333423 │ 0.0232558 │\n",
      "│     0.333419 │ 0.0227273 │\n",
      "│     0.333416 │ 0.0222222 │\n",
      "│     0.333412 │ 0.0217391 │\n",
      "│     0.333409 │ 0.0212766 │\n",
      "│     0.333406 │ 0.0208333 │\n",
      "│     0.333403 │ 0.0204082 │\n",
      "│       0.3334 │      0.02 │\n",
      "│     0.333397 │ 0.0196078 │\n",
      "│     0.333395 │ 0.0192308 │\n",
      "│     0.333393 │ 0.0188679 │\n",
      "│      0.33339 │ 0.0185185 │\n",
      "│     0.333388 │ 0.0181818 │\n",
      "│     0.333386 │ 0.0178571 │\n",
      "│     0.333385 │ 0.0175439 │\n",
      "│     0.333383 │ 0.0172414 │\n",
      "│     0.333381 │ 0.0169492 │\n",
      "│      0.33338 │ 0.0166667 │\n",
      "│     0.333378 │ 0.0163934 │\n",
      "│     0.333377 │  0.016129 │\n",
      "│     0.333375 │  0.015873 │\n",
      "│     0.333374 │  0.015625 │\n",
      "│     0.333373 │ 0.0153846 │\n",
      "│     0.333372 │ 0.0151515 │\n",
      "│      0.33337 │ 0.0149254 │\n",
      "│     0.333369 │ 0.0147059 │\n",
      "│     0.333368 │ 0.0144928 │\n",
      "│     0.333367 │ 0.0142857 │\n",
      "│     0.333366 │ 0.0140845 │\n",
      "│     0.333365 │ 0.0138889 │\n",
      "│     0.333365 │ 0.0136986 │\n",
      "│     0.333364 │ 0.0135135 │\n",
      "│     0.333363 │ 0.0133333 │\n",
      "│     0.333362 │ 0.0131579 │\n",
      "│     0.333361 │  0.012987 │\n",
      "│     0.333361 │ 0.0128205 │\n",
      "│      0.33336 │ 0.0126582 │\n",
      "│     0.333359 │    0.0125 │\n",
      "│     0.333359 │ 0.0123457 │\n",
      "│     0.333358 │ 0.0121951 │\n",
      "│     0.333358 │ 0.0120482 │\n",
      "│     0.333357 │ 0.0119048 │\n",
      "│     0.333356 │ 0.0117647 │\n",
      "│     0.333356 │ 0.0116279 │\n",
      "│     0.333355 │ 0.0114943 │\n",
      "│     0.333355 │ 0.0113636 │\n",
      "│     0.333354 │  0.011236 │\n",
      "│     0.333354 │ 0.0111111 │\n",
      "│     0.333353 │  0.010989 │\n",
      "│     0.333353 │ 0.0108696 │\n",
      "│     0.333353 │ 0.0107527 │\n",
      "│     0.333352 │ 0.0106383 │\n",
      "│     0.333352 │ 0.0105263 │\n",
      "│     0.333351 │ 0.0104167 │\n",
      "│     0.333351 │ 0.0103093 │\n",
      "│     0.333351 │ 0.0102041 │\n",
      "│      0.33335 │  0.010101 │\n",
      "│      0.33335 │      0.01 │\n",
      "└──────────────┴───────────┘\n"
     ]
    }
   ],
   "source": [
    "using PrettyTables\n",
    "f(x) = x^2\n",
    "function area_inf(a, b, n)\n",
    "    Δx = (b-a)/n\n",
    "    return sum([f(a+(i-1)*Δx)*Δx for i = 1:n])\n",
    "end\n",
    "\n",
    "function area_sup(a, b, n)\n",
    "    Δx = (b-a)/n\n",
    "    return sum([f(a+i*Δx)*Δx for i = 1:n])\n",
    "end\n",
    "\n",
    "function area(a, b, n)\n",
    "    area = (area_inf(a, b, n) + area_sup(a, b, n)) / 2\n",
    "    error = area_sup(a, b, n) - area_inf(a, b, n)\n",
    "    return area, error\n",
    "end\n",
    "\n",
    "areas = [area(0, 1, n) for n=10:100]\n",
    "pretty_table(hcat(first.(areas), last.(areas)); header = [\"Aproximación\", \"Error\"])"
   ]
  },
  {
   "cell_type": "code",
   "execution_count": 7,
   "id": "d6a90b39",
   "metadata": {
    "md-indent": "    "
   },
   "outputs": [
    {
     "data": {
      "text/latex": [
       "$\\frac{x^{3} \\log{\\left(x \\right)}}{3} - \\frac{x^{3}}{9}$"
      ],
      "text/plain": [
       " 3           3\n",
       "x ⋅log(x)   x \n",
       "───────── - ──\n",
       "    3       9 "
      ]
     },
     "execution_count": 7,
     "metadata": {},
     "output_type": "execute_result"
    }
   ],
   "source": [
    "using SymPy\n",
    "@vars x real=true\n",
    "primitiva = integrate(x^2*ln(x))"
   ]
  },
  {
   "cell_type": "code",
   "execution_count": 8,
   "id": "31ebdde5",
   "metadata": {
    "md-indent": "    "
   },
   "outputs": [
    {
     "data": {
      "text/latex": [
       "$x^{2} \\log{\\left(x \\right)}$"
      ],
      "text/plain": [
       " 2       \n",
       "x ⋅log(x)"
      ]
     },
     "execution_count": 8,
     "metadata": {},
     "output_type": "execute_result"
    }
   ],
   "source": [
    "diff(primitiva)"
   ]
  },
  {
   "cell_type": "code",
   "execution_count": 9,
   "id": "a09e7499",
   "metadata": {
    "md-indent": "    "
   },
   "outputs": [
    {
     "data": {
      "text/latex": [
       "$\\log{\\left(x \\right)} \\log{\\left(\\log{\\left(x \\right)} \\right)} - \\log{\\left(x \\right)}$"
      ],
      "text/plain": [
       "log(x)⋅log(log(x)) - log(x)"
      ]
     },
     "execution_count": 9,
     "metadata": {},
     "output_type": "execute_result"
    }
   ],
   "source": [
    "integrate(ln(ln(x))/x)"
   ]
  },
  {
   "cell_type": "code",
   "execution_count": 10,
   "id": "aec5659e",
   "metadata": {
    "md-indent": "    "
   },
   "outputs": [
    {
     "data": {
      "text/latex": [
       "$\\frac{5 x + 2}{2 \\left(x^{2} + 1\\right)} + \\frac{5}{4 \\left(x + 1\\right)} + \\frac{9}{4 \\left(x - 1\\right)} - \\frac{6}{x}$"
      ],
      "text/plain": [
       " 5⋅x + 2         5           9       6\n",
       "────────── + ───────── + ───────── - ─\n",
       "  ⎛ 2    ⎞   4⋅(x + 1)   4⋅(x - 1)   x\n",
       "2⋅⎝x  + 1⎠                            "
      ]
     },
     "execution_count": 10,
     "metadata": {},
     "output_type": "execute_result"
    }
   ],
   "source": [
    "h(x) = (2x^3+x^2+6)/(x^5-x)\n",
    "# Descomposición en fracciones simples.\n",
    "apart(h(x))"
   ]
  },
  {
   "cell_type": "code",
   "execution_count": 11,
   "id": "54022396",
   "metadata": {
    "md-indent": "    "
   },
   "outputs": [
    {
     "data": {
      "text/latex": [
       "$- 6 \\log{\\left(x \\right)} + \\frac{9 \\log{\\left(x - 1 \\right)}}{4} + \\frac{5 \\log{\\left(x + 1 \\right)}}{4} + \\frac{5 \\log{\\left(x^{2} + 1 \\right)}}{4} + \\operatorname{atan}{\\left(x \\right)}$"
      ],
      "text/plain": [
       "                                               ⎛ 2    ⎞          \n",
       "            9⋅log(x - 1)   5⋅log(x + 1)   5⋅log⎝x  + 1⎠          \n",
       "-6⋅log(x) + ──────────── + ──────────── + ───────────── + atan(x)\n",
       "                 4              4               4                "
      ]
     },
     "execution_count": 11,
     "metadata": {},
     "output_type": "execute_result"
    }
   ],
   "source": [
    "integrate(h(x))"
   ]
  },
  {
   "cell_type": "code",
   "execution_count": 12,
   "id": "7e386103",
   "metadata": {
    "md-indent": "    "
   },
   "outputs": [
    {
     "data": {
      "text/latex": [
       "$\\begin{cases} \\frac{x^{a + 1}}{a + 1} & \\text{for}\\: a \\neq -1 \\\\\\log{\\left(x \\right)} & \\text{otherwise} \\end{cases}$"
      ],
      "text/plain": [
       "⎧ a + 1            \n",
       "⎪x                 \n",
       "⎪──────  for a ≠ -1\n",
       "⎨a + 1             \n",
       "⎪                  \n",
       "⎪log(x)  otherwise \n",
       "⎩                  "
      ]
     },
     "execution_count": 12,
     "metadata": {},
     "output_type": "execute_result"
    }
   ],
   "source": [
    "@vars a real=true\n",
    "integrate(x^a, x)"
   ]
  },
  {
   "cell_type": "code",
   "execution_count": 13,
   "id": "bb8698e0",
   "metadata": {
    "md-indent": "    "
   },
   "outputs": [
    {
     "data": {
      "text/latex": [
       "$\\frac{x \\sqrt{x^{2} \\log{\\left(x \\right)}^{2} + 1} \\log{\\left(x \\right)}}{2} + \\frac{\\operatorname{asinh}{\\left(x \\log{\\left(x \\right)} \\right)}}{2}$"
      ],
      "text/plain": [
       "     ________________                         \n",
       "    ╱  2    2                                 \n",
       "x⋅╲╱  x ⋅log (x) + 1 ⋅log(x)   asinh(x⋅log(x))\n",
       "──────────────────────────── + ───────────────\n",
       "             2                        2       "
      ]
     },
     "execution_count": 13,
     "metadata": {},
     "output_type": "execute_result"
    }
   ],
   "source": [
    "@vars x real=true\n",
    "j(x) = (1 + log(x)) * sqrt(1 + (x*log(x))^2 )\n",
    "# El cálculo directo de la integral no funciona.\n",
    "integrate(j(x))\n",
    "# Ayudamos a SymPy con la sustitución.\n",
    "u(x) = x*log(x)\n",
    "@vars y dy real=true\n",
    "# Definimos la nueva función con el cambio de variable.\n",
    "g(y) = j(x)(u(x) => y, diff(u(x), x) => 1)\n",
    "# Integramos la nueva función y deshacemos el cambio de variable.\n",
    "integrate(g(y))(y => u(x))"
   ]
  },
  {
   "cell_type": "code",
   "execution_count": 14,
   "id": "38c7f165",
   "metadata": {
    "md-indent": "    "
   },
   "outputs": [
    {
     "data": {
      "text/latex": [
       "$0.25$"
      ],
      "text/plain": [
       "0.250000000000000"
      ]
     },
     "execution_count": 14,
     "metadata": {},
     "output_type": "execute_result"
    }
   ],
   "source": [
    "using SymPy\n",
    "@vars x real=true\n",
    "integrate(x^3/x^2+x+1, -1/2, 0)"
   ]
  },
  {
   "cell_type": "code",
   "execution_count": 15,
   "id": "bba683fd",
   "metadata": {
    "md-indent": "    "
   },
   "outputs": [
    {
     "data": {
      "text/latex": [
       "$- 2 \\sqrt{3} + 4 \\operatorname{acosh}{\\left(2 \\right)}$"
      ],
      "text/plain": [
       "-2⋅√3 + 4⋅acosh(2)"
      ]
     },
     "execution_count": 15,
     "metadata": {},
     "output_type": "execute_result"
    }
   ],
   "source": [
    "integrate(sqrt(16-x^2)/x, 2, 4)"
   ]
  },
  {
   "cell_type": "code",
   "execution_count": 16,
   "id": "be6d2ae7",
   "metadata": {
    "md-indent": "    "
   },
   "outputs": [
    {
     "data": {
      "text/latex": [
       "$\\frac{\\sqrt{2} \\pi}{8}$"
      ],
      "text/plain": [
       "√2⋅π\n",
       "────\n",
       " 8  "
      ]
     },
     "execution_count": 16,
     "metadata": {},
     "output_type": "execute_result"
    }
   ],
   "source": [
    "integrate(1/(3+cos(2x)), 0, PI/2)"
   ]
  },
  {
   "cell_type": "code",
   "execution_count": 17,
   "id": "90235f17",
   "metadata": {},
   "outputs": [
    {
     "data": {
      "text/latex": [
       "$\\int_{0}^{1} x^{x}\\, dx$"
      ],
      "text/plain": [
       "1      \n",
       "⌠      \n",
       "⎮  x   \n",
       "⎮ x  dx\n",
       "⌡      \n",
       "0      "
      ]
     },
     "execution_count": 17,
     "metadata": {},
     "output_type": "execute_result"
    }
   ],
   "source": [
    "using SymPy\n",
    "@vars x real=true\n",
    "f(x) = x^x\n",
    "integrate(f(x), 0, 1)"
   ]
  },
  {
   "cell_type": "code",
   "execution_count": 18,
   "id": "ab351ab0",
   "metadata": {},
   "outputs": [
    {
     "data": {
      "text/plain": [
       "(0.783430510710741, 7.598588099878845e-11)"
      ]
     },
     "execution_count": 18,
     "metadata": {},
     "output_type": "execute_result"
    }
   ],
   "source": [
    "using QuadGK\n",
    "quadgk(f(x), 0, 1, rtol = 10^-10)"
   ]
  },
  {
   "cell_type": "code",
   "execution_count": 19,
   "id": "b60bb318",
   "metadata": {},
   "outputs": [
    {
     "data": {
      "application/pdf": "[encoded data removed]"
     },
     "execution_count": 19,
     "metadata": {},
     "output_type": "execute_result"
    }
   ],
   "source": [
    "using Plots, SymPy, LaTeXStrings\n",
    "@vars x real = true\n",
    "f(x) = x^2-7x+6\n",
    "plot(f, 2, 7, fillrange = 0, fillalpha = 0.3, label = L\"$f(x)=x^2-7x+6$\")"
   ]
  },
  {
   "cell_type": "code",
   "execution_count": 20,
   "id": "e8ace912",
   "metadata": {},
   "outputs": [
    {
     "data": {
      "text/latex": [
       "$\\frac{43}{2}$"
      ],
      "text/plain": [
       "43/2"
      ]
     },
     "execution_count": 20,
     "metadata": {},
     "output_type": "execute_result"
    }
   ],
   "source": [
    "# Calculamos primero las raíces de la función\n",
    "solve(f(x))\n",
    "# Descomponemos el intervalo de integración en los subintervalos [2,6] (función negativa) y [6,7] (función positiva) y calculamos las integrales por separado\n",
    "-integrate(f, 2, 6) + integrate(f, 6, 7)"
   ]
  },
  {
   "cell_type": "code",
   "execution_count": 21,
   "id": "e382349a",
   "metadata": {},
   "outputs": [
    {
     "data": {
      "text/latex": [
       "$\\frac{43}{2}$"
      ],
      "text/plain": [
       "43/2"
      ]
     },
     "execution_count": 21,
     "metadata": {},
     "output_type": "execute_result"
    }
   ],
   "source": [
    "integrate(abs(f(x)), 2, 7)"
   ]
  },
  {
   "cell_type": "code",
   "execution_count": 22,
   "id": "ce2de1ae",
   "metadata": {},
   "outputs": [
    {
     "data": {
      "text/latex": [
       "$\\frac{64}{3}$"
      ],
      "text/plain": [
       "64/3"
      ]
     },
     "execution_count": 22,
     "metadata": {},
     "output_type": "execute_result"
    }
   ],
   "source": [
    "using Plots, SymPy, LaTeXStrings\n",
    "@vars x real = true\n",
    "f(x) = -x^2+6x\n",
    "g(x) = x^2-2x\n",
    "# Calculamos primero los puntos de corte de la función.\n",
    "raices = solve(f(x)-g(x))\n",
    "# Descomponemos el intervalo de integración en los subintervalos [2,6] (función negativa) y [6,7] (función positiva) y calculamos las integrales por separado\n",
    "sol = integrate(f(x)-g(x), raices[1], raices[2])"
   ]
  },
  {
   "cell_type": "code",
   "execution_count": 23,
   "id": "2f657f43",
   "metadata": {},
   "outputs": [
    {
     "data": {
      "application/pdf": "[encoded data removed]"
     },
     "execution_count": 23,
     "metadata": {},
     "output_type": "execute_result"
    }
   ],
   "source": [
    "using Plots, SymPy, LaTeXStrings\n",
    "@vars x real = true\n",
    "f(x) = -x^2+6x\n",
    "g(x) = x^2-2x\n",
    "plot(f, -1, 5, label = L\"$f(x)=-x^2+6x$\")\n",
    "plot!(g, 0, 4, fillrange = f, fillalpha = 0.3, label = \"\")\n",
    "plot!(g, label = L\"$g(x)=x^2-2x$\")\n",
    "annotate!(2, 4, sol)"
   ]
  },
  {
   "cell_type": "code",
   "execution_count": 24,
   "id": "a820efe5",
   "metadata": {},
   "outputs": [
    {
     "data": {
      "application/pdf": "[encoded data removed]"
     },
     "execution_count": 24,
     "metadata": {},
     "output_type": "execute_result"
    }
   ],
   "source": [
    "using Plots, SymPy, LaTeXStrings\n",
    "@vars x real = true\n",
    "f(x) = exp(-x)\n",
    "plot(f(x), 0, 10, label = L\"$f(x)=e^{-x}$\")"
   ]
  },
  {
   "cell_type": "code",
   "execution_count": 25,
   "id": "3a02a6e1",
   "metadata": {},
   "outputs": [
    {
     "data": {
      "text/latex": [
       "$1$"
      ],
      "text/plain": [
       "1"
      ]
     },
     "execution_count": 25,
     "metadata": {},
     "output_type": "execute_result"
    }
   ],
   "source": [
    "integrate(f(x), 0, oo)"
   ]
  },
  {
   "cell_type": "code",
   "execution_count": 26,
   "id": "f3bc1587",
   "metadata": {},
   "outputs": [
    {
     "data": {
      "text/latex": [
       "$\\frac{1}{2}$"
      ],
      "text/plain": [
       "1/2"
      ]
     },
     "execution_count": 26,
     "metadata": {},
     "output_type": "execute_result"
    }
   ],
   "source": [
    "using SymPy\n",
    "@vars x real = true\n",
    "f(x) = sin(x)^2\n",
    "1/(2*PI) * integrate(f(x), 0, 2PI)"
   ]
  },
  {
   "cell_type": "code",
   "execution_count": 27,
   "id": "b8ba5224",
   "metadata": {},
   "outputs": [
    {
     "data": {
      "application/pdf": "[encoded data removed]"
     },
     "execution_count": 27,
     "metadata": {},
     "output_type": "execute_result"
    }
   ],
   "source": [
    "using SymPy, Plots\n",
    "@vars x real = true\n",
    "f(x) = sin(x)+2\n",
    "plot(f, 0, 2pi, ylim=(0,3), fillrange = 0, fillalpha = 0.3, label = \"\")"
   ]
  },
  {
   "cell_type": "code",
   "execution_count": 28,
   "id": "7e0eef53",
   "metadata": {},
   "outputs": [
    {
     "data": {
      "text/plain": [
       "88.82643960980422410690317029966353336734417982417697812151367494195434357891355"
      ]
     },
     "execution_count": 28,
     "metadata": {},
     "output_type": "execute_result"
    }
   ],
   "source": [
    "N(integrate(pi*f(x)^2, 0, 2pi))"
   ]
  },
  {
   "cell_type": "code",
   "execution_count": 29,
   "id": "58aa8007",
   "metadata": {},
   "outputs": [
    {
     "data": {
      "application/pdf": "[encoded data removed]"
     },
     "execution_count": 29,
     "metadata": {},
     "output_type": "execute_result"
    }
   ],
   "source": [
    "using SymPy, Plots\n",
    "@vars x real = true\n",
    "f(x) = sqrt(1-(x-2)^2)\n",
    "plot(f(x), 0, 4, fillrange = 0, fillalpha = 0.3, aspect_ratio = 1, label = \"\")\n",
    "plot!(-f(x), 0, 4, fillrange = 0, fillalpha = 0.3, aspect_ratio = 1, label = \"\")"
   ]
  },
  {
   "cell_type": "code",
   "execution_count": 30,
   "id": "93b41882",
   "metadata": {},
   "outputs": [
    {
     "data": {
      "text/latex": [
       "$4 \\pi^{2}$"
      ],
      "text/plain": [
       "   2\n",
       "4⋅π "
      ]
     },
     "execution_count": 30,
     "metadata": {},
     "output_type": "execute_result"
    }
   ],
   "source": [
    "2 * integrate(2PI*x*f(x), 1, 3)"
   ]
  },
  {
   "cell_type": "code",
   "execution_count": 31,
   "id": "c958dc87",
   "metadata": {},
   "outputs": [
    {
     "data": {
      "application/pdf": "[encoded data removed]"
     },
     "execution_count": 31,
     "metadata": {},
     "output_type": "execute_result"
    }
   ],
   "source": [
    "using SymPy, Plots\n",
    "@vars x real = true\n",
    "f(x) = sin(x/2)\n",
    "plot(f(x), 0, 100, aspect_ratio = 1, label = \"\")"
   ]
  },
  {
   "cell_type": "code",
   "execution_count": 32,
   "id": "a94dd333",
   "metadata": {},
   "outputs": [
    {
     "data": {
      "text/plain": [
       "(105.954416730336, 1.2200227161862642e-6)"
      ]
     },
     "execution_count": 32,
     "metadata": {},
     "output_type": "execute_result"
    }
   ],
   "source": [
    "using QuadGK\n",
    "quadgk(sqrt(1+diff(f(x))^2), 0, 100)"
   ]
  },
  {
   "cell_type": "code",
   "execution_count": 33,
   "id": "ebbe9f50",
   "metadata": {
    "md-indent": "    "
   },
   "outputs": [
    {
     "data": {
      "text/latex": [
       "$\\pi$"
      ],
      "text/plain": [
       "π"
      ]
     },
     "execution_count": 33,
     "metadata": {},
     "output_type": "execute_result"
    }
   ],
   "source": [
    "using SymPy\n",
    "@vars x real = true\n",
    "f(x) = 1/x\n",
    "integrate(PI*f(x)^2, 1, oo)"
   ]
  },
  {
   "cell_type": "code",
   "execution_count": 34,
   "id": "6e030383",
   "metadata": {
    "md-indent": "    "
   },
   "outputs": [
    {
     "data": {
      "text/latex": [
       "$\\infty$"
      ],
      "text/plain": [
       "∞"
      ]
     },
     "execution_count": 34,
     "metadata": {},
     "output_type": "execute_result"
    }
   ],
   "source": [
    "using SymPy\n",
    "@vars x real = true\n",
    "f(x) = 1/x\n",
    "integrate(2PI*f(x)*sqrt(1+diff(f(x))^2), 1, oo)"
   ]
  },
  {
   "cell_type": "code",
   "execution_count": 35,
   "id": "61f75774",
   "metadata": {},
   "outputs": [
    {
     "data": {
      "application/pdf": "[encoded data removed]"
     },
     "execution_count": 35,
     "metadata": {},
     "output_type": "execute_result"
    }
   ],
   "source": [
    "using SymPy, Plots\n",
    "@vars x real = true\n",
    "f(x) = x-1\n",
    "g(x) = (x-1)^2\n",
    "# Calculo de los puntos de corte.\n",
    "a, b = N(solve(f(x)-g(x)))\n",
    "plot(f(x), a, b, aspect_ratio = 1, label = \"\")\n",
    "plot!(g(x), a, b, fillrange = f, fillalpha = 0.3, aspect_ratio = 1, c = 1, label = \"\")"
   ]
  },
  {
   "cell_type": "code",
   "execution_count": 36,
   "id": "ff691590",
   "metadata": {},
   "outputs": [
    {
     "data": {
      "application/pdf": "[encoded data removed]"
     },
     "execution_count": 36,
     "metadata": {},
     "output_type": "execute_result"
    }
   ],
   "source": [
    "# Coordenada x del centroide.\n",
    "cx = integrate(x*(f(x)-g(x)), a, b) / integrate(f(x)-g(x), a, b)\n",
    "# Coordenada y del centroide\n",
    "cy = 1/2 * integrate(f(x)^2-g(x)^2, a, b) / integrate(f(x)-g(x), a, b)\n",
    "# Dibujamos el centroide\n",
    "scatter!((cx,cy), label = \"centroide\")"
   ]
  },
  {
   "cell_type": "code",
   "execution_count": 37,
   "id": "d19639df",
   "metadata": {},
   "outputs": [
    {
     "data": {
      "text/latex": [
       "$0.24 \\pi^{2}$"
      ],
      "text/plain": [
       "      2\n",
       "0.24⋅π "
      ]
     },
     "execution_count": 37,
     "metadata": {},
     "output_type": "execute_result"
    }
   ],
   "source": [
    "2*PI*cy*integrate(PI*(f(x)-g(x)^2), a, b)"
   ]
  },
  {
   "cell_type": "code",
   "execution_count": 38,
   "id": "36403164",
   "metadata": {},
   "outputs": [
    {
     "data": {
      "text/latex": [
       "$\\frac{9 \\pi^{2}}{10}$"
      ],
      "text/plain": [
       "   2\n",
       "9⋅π \n",
       "────\n",
       " 10 "
      ]
     },
     "execution_count": 38,
     "metadata": {},
     "output_type": "execute_result"
    }
   ],
   "source": [
    "2*PI*cx*integrate(PI*(f(x)-g(x)^2), a, b)"
   ]
  },
  {
   "cell_type": "code",
   "execution_count": 39,
   "id": "2394b560",
   "metadata": {
    "results": "hidden"
   },
   "outputs": [],
   "source": [
    "#| echo: false\n",
    "using QuizQuestions, SymPy\n",
    "nothing"
   ]
  },
  {
   "cell_type": "code",
   "execution_count": 40,
   "id": "2c16c31e",
   "metadata": {
    "hold": true
   },
   "outputs": [
    {
     "data": {
      "text/html": [
       "<script>\n",
       "if (typeof quizquestions_scorecard === 'undefined') {\n",
       "   quizquestions_scorecard = {};\n",
       "}\n",
       "var ID = \"SAWZoscc\"\n",
       "if (typeof quizquestions_scorecard[ID] === 'undefined') {\n",
       "      quizquestions_scorecard[ID] = {attempts: 0, correct: false};\n",
       "}\n",
       "</script>\n",
       "<form class=\"mx-2 my-3 mw-100\" name='WeaveQuestion' data-id='SAWZoscc' data-controltype=''>\n",
       "  <div class='form-group '>\n",
       "    <div class='controls'>\n",
       "      <div class=\"form\" id=\"controls_SAWZoscc\">\n",
       "        <div style=\"padding-top: 5px\">\n",
       "    </br>\n",
       "<div class=\"input-group\">\n",
       "    <input id=\"SAWZoscc\" type=\"number\" class=\"form-control\" placeholder=\"Respuesta numérica\">\n",
       "    <span  class=\"input-group-append\" href=\"#\" title=\"Introducir hasta 5 decimales\">&nbsp;🎁</span>\n",
       "</div>\n",
       "\n",
       "    \n",
       "        </div>\n",
       "      </div>\n",
       "      <div id='SAWZoscc_message' style=\"padding-bottom: 15px\"></div>\n",
       "    </div>\n",
       "  </div>\n",
       "</form>\n",
       "\n",
       "<script text='text/javascript'>\n",
       "document.getElementById(\"SAWZoscc\").addEventListener(\"change\", function() {\n",
       "  var correct = (Math.abs(this.value - 0.5965478754886948) <= 1.0e-5);\n",
       "  var msgBox = document.getElementById('SAWZoscc_message');\n",
       "  \n",
       "    quizquestions_scorecard[\"SAWZoscc\"][\"attempts\"] += 1;\n",
       "\n",
       "  if(correct) {\n",
       "    msgBox.innerHTML = \"<div class='pluto-output admonition note alert alert-success'><span> 👍&nbsp; Correcto </span></div>\";\n",
       "    var explanation = document.getElementById(\"explanation_SAWZoscc\")\n",
       "    if (explanation != null) {\n",
       "       explanation.style.display = \"none\";\n",
       "    }\n",
       "      quizquestions_scorecard[\"SAWZoscc\"][\"correct\"] = true;\n",
       "  if (typeof score_summary !== 'undefined') {\n",
       "     score_summary()\n",
       "  }\n",
       "\n",
       "\n",
       "  } else {\n",
       "    msgBox.innerHTML = \"<div class='pluto-output admonition alert alert-danger'><span>👎&nbsp; Incorrecto </span></div>\";\n",
       "    var explanation = document.getElementById(\"explanation_SAWZoscc\")\n",
       "    if (explanation != null) {\n",
       "       explanation.style.display = \"block\";\n",
       "    }\n",
       "      quizquestions_scorecard[\"SAWZoscc\"][\"correct\"] = false;\n",
       "  if (typeof score_summary !== 'undefined') {\n",
       "     score_summary()\n",
       "  }\n",
       "\n",
       "  }\n",
       "\n",
       "});\n",
       "\n",
       "</script>\n"
      ],
      "text/latex": [
       "\\vspace{18pt}*Hint: *\n",
       "\n",
       "Introducir hasta 5 decimales\n",
       "\n"
      ],
      "text/plain": [
       "QuizQuestions.Numericq(0.5965478754886948, 1.0e-5, \"\", \"\", \"Introducir hasta 5 decimales\", \"\", nothing)"
      ]
     },
     "execution_count": 40,
     "metadata": {},
     "output_type": "execute_result"
    }
   ],
   "source": [
    "#| echo: false\n",
    "f(x) = sqrt(log(x))\n",
    "Δx = 1/100\n",
    "areas_sup = [f(1+i*Δx)*Δx for i = 1:100]\n",
    "sol = sum_sup = sum(areas_sup)\n",
    "numericq(sol, 1e-5, hint=\"Introducir hasta 5 decimales\")"
   ]
  },
  {
   "cell_type": "code",
   "execution_count": 41,
   "id": "49b8f8d1",
   "metadata": {
    "hold": true
   },
   "outputs": [
    {
     "data": {
      "text/html": [
       "<script>\n",
       "if (typeof quizquestions_scorecard === 'undefined') {\n",
       "   quizquestions_scorecard = {};\n",
       "}\n",
       "var ID = \"pJJ3w97G\"\n",
       "if (typeof quizquestions_scorecard[ID] === 'undefined') {\n",
       "      quizquestions_scorecard[ID] = {attempts: 0, correct: false};\n",
       "}\n",
       "</script>\n",
       "<form class=\"mx-2 my-3 mw-100\" name='WeaveQuestion' data-id='pJJ3w97G' data-controltype=''>\n",
       "  <div class='form-group '>\n",
       "    <div class='controls'>\n",
       "      <div class=\"form\" id=\"controls_pJJ3w97G\">\n",
       "        <div style=\"padding-top: 5px\">\n",
       "    </br>\n",
       "<div class=\"input-group\">\n",
       "    <input id=\"pJJ3w97G\" type=\"number\" class=\"form-control\" placeholder=\"Respuesta numérica\">\n",
       "    <span  class=\"input-group-append\" href=\"#\" title=\"Introducir hasta 5 decimales\">&nbsp;🎁</span>\n",
       "</div>\n",
       "\n",
       "    \n",
       "        </div>\n",
       "      </div>\n",
       "      <div id='pJJ3w97G_message' style=\"padding-bottom: 15px\"></div>\n",
       "    </div>\n",
       "  </div>\n",
       "</form>\n",
       "\n",
       "<script text='text/javascript'>\n",
       "document.getElementById(\"pJJ3w97G\").addEventListener(\"change\", function() {\n",
       "  var correct = (Math.abs(this.value - 2.828427124746189986581074985903742114776176941671864896353359475981464956924204) <= 1.0e-5);\n",
       "  var msgBox = document.getElementById('pJJ3w97G_message');\n",
       "  \n",
       "    quizquestions_scorecard[\"pJJ3w97G\"][\"attempts\"] += 1;\n",
       "\n",
       "  if(correct) {\n",
       "    msgBox.innerHTML = \"<div class='pluto-output admonition note alert alert-success'><span> 👍&nbsp; Correcto </span></div>\";\n",
       "    var explanation = document.getElementById(\"explanation_pJJ3w97G\")\n",
       "    if (explanation != null) {\n",
       "       explanation.style.display = \"none\";\n",
       "    }\n",
       "      quizquestions_scorecard[\"pJJ3w97G\"][\"correct\"] = true;\n",
       "  if (typeof score_summary !== 'undefined') {\n",
       "     score_summary()\n",
       "  }\n",
       "\n",
       "\n",
       "  } else {\n",
       "    msgBox.innerHTML = \"<div class='pluto-output admonition alert alert-danger'><span>👎&nbsp; Incorrecto </span></div>\";\n",
       "    var explanation = document.getElementById(\"explanation_pJJ3w97G\")\n",
       "    if (explanation != null) {\n",
       "       explanation.style.display = \"block\";\n",
       "    }\n",
       "      quizquestions_scorecard[\"pJJ3w97G\"][\"correct\"] = false;\n",
       "  if (typeof score_summary !== 'undefined') {\n",
       "     score_summary()\n",
       "  }\n",
       "\n",
       "  }\n",
       "\n",
       "});\n",
       "\n",
       "</script>\n"
      ],
      "text/latex": [
       "\\vspace{18pt}*Hint: *\n",
       "\n",
       "Introducir hasta 5 decimales\n",
       "\n"
      ],
      "text/plain": [
       "QuizQuestions.Numericq(2.828427124746189986581074985903742114776176941671864896353359475981464956924204, 1.0e-5, \"\", \"\", \"Introducir hasta 5 decimales\", \"\", nothing)"
      ]
     },
     "execution_count": 41,
     "metadata": {},
     "output_type": "execute_result"
    }
   ],
   "source": [
    "#| echo: false\n",
    "@vars x real = true\n",
    "f(x) = sin(x)\n",
    "g(x) = cos(x)\n",
    "sol = N(integrate(abs(f(x)-g(x)), 0, pi))\n",
    "numericq(sol, 1e-5, hint=\"Introducir hasta 5 decimales\")"
   ]
  },
  {
   "cell_type": "code",
   "execution_count": 42,
   "id": "3f10bd8e",
   "metadata": {
    "hold": true
   },
   "outputs": [
    {
     "data": {
      "text/html": [
       "<script>\n",
       "if (typeof quizquestions_scorecard === 'undefined') {\n",
       "   quizquestions_scorecard = {};\n",
       "}\n",
       "var ID = \"pXtLEw1y\"\n",
       "if (typeof quizquestions_scorecard[ID] === 'undefined') {\n",
       "      quizquestions_scorecard[ID] = {attempts: 0, correct: false};\n",
       "}\n",
       "</script>\n",
       "<form class=\"mx-2 my-3 mw-100\" name='WeaveQuestion' data-id='pXtLEw1y' data-controltype=''>\n",
       "  <div class='form-group '>\n",
       "    <div class='controls'>\n",
       "      <div class=\"form\" id=\"controls_pXtLEw1y\">\n",
       "        <div style=\"padding-top: 5px\">\n",
       "    </br>\n",
       "<div class=\"input-group\">\n",
       "    <input id=\"pXtLEw1y\" type=\"number\" class=\"form-control\" placeholder=\"Respuesta numérica\">\n",
       "    <span  class=\"input-group-append\" href=\"#\" title=\"Introducir hasta 5 decimales\">&nbsp;🎁</span>\n",
       "</div>\n",
       "\n",
       "    \n",
       "        </div>\n",
       "      </div>\n",
       "      <div id='pXtLEw1y_message' style=\"padding-bottom: 15px\"></div>\n",
       "    </div>\n",
       "  </div>\n",
       "</form>\n",
       "\n",
       "<script text='text/javascript'>\n",
       "document.getElementById(\"pXtLEw1y\").addEventListener(\"change\", function() {\n",
       "  var correct = (Math.abs(this.value - 0.999999999999999986409302776619059759057679898798192459517020044702050192775919) <= 1.0e-5);\n",
       "  var msgBox = document.getElementById('pXtLEw1y_message');\n",
       "  \n",
       "    quizquestions_scorecard[\"pXtLEw1y\"][\"attempts\"] += 1;\n",
       "\n",
       "  if(correct) {\n",
       "    msgBox.innerHTML = \"<div class='pluto-output admonition note alert alert-success'><span> 👍&nbsp; Correcto </span></div>\";\n",
       "    var explanation = document.getElementById(\"explanation_pXtLEw1y\")\n",
       "    if (explanation != null) {\n",
       "       explanation.style.display = \"none\";\n",
       "    }\n",
       "      quizquestions_scorecard[\"pXtLEw1y\"][\"correct\"] = true;\n",
       "  if (typeof score_summary !== 'undefined') {\n",
       "     score_summary()\n",
       "  }\n",
       "\n",
       "\n",
       "  } else {\n",
       "    msgBox.innerHTML = \"<div class='pluto-output admonition alert alert-danger'><span>👎&nbsp; Incorrecto </span></div>\";\n",
       "    var explanation = document.getElementById(\"explanation_pXtLEw1y\")\n",
       "    if (explanation != null) {\n",
       "       explanation.style.display = \"block\";\n",
       "    }\n",
       "      quizquestions_scorecard[\"pXtLEw1y\"][\"correct\"] = false;\n",
       "  if (typeof score_summary !== 'undefined') {\n",
       "     score_summary()\n",
       "  }\n",
       "\n",
       "  }\n",
       "\n",
       "});\n",
       "\n",
       "</script>\n"
      ],
      "text/latex": [
       "\\vspace{18pt}*Hint: *\n",
       "\n",
       "Introducir hasta 5 decimales\n",
       "\n"
      ],
      "text/plain": [
       "QuizQuestions.Numericq(0.999999999999999986409302776619059759057679898798192459517020044702050192775919, 1.0e-5, \"\", \"\", \"Introducir hasta 5 decimales\", \"\", nothing)"
      ]
     },
     "execution_count": 42,
     "metadata": {},
     "output_type": "execute_result"
    }
   ],
   "source": [
    "#| echo: false\n",
    "using QuadGK\n",
    "@vars x real = true\n",
    "f(x) = exp(-1/2 * x^2)/sqrt(2*pi)\n",
    "sol = N(integrate(f(x), -oo, oo))\n",
    "numericq(sol, 1e-5, hint=\"Introducir hasta 5 decimales\")"
   ]
  },
  {
   "cell_type": "code",
   "execution_count": 43,
   "id": "26d0fc89",
   "metadata": {
    "hold": true
   },
   "outputs": [
    {
     "data": {
      "text/html": [
       "<script>\n",
       "if (typeof quizquestions_scorecard === 'undefined') {\n",
       "   quizquestions_scorecard = {};\n",
       "}\n",
       "var ID = \"Hk1IEDVn\"\n",
       "if (typeof quizquestions_scorecard[ID] === 'undefined') {\n",
       "      quizquestions_scorecard[ID] = {attempts: 0, correct: false};\n",
       "}\n",
       "</script>\n",
       "<form class=\"mx-2 my-3 mw-100\" name='WeaveQuestion' data-id='Hk1IEDVn' data-controltype=''>\n",
       "  <div class='form-group '>\n",
       "    <div class='controls'>\n",
       "      <div class=\"form\" id=\"controls_Hk1IEDVn\">\n",
       "        <div style=\"padding-top: 5px\">\n",
       "    </br>\n",
       "<div class=\"input-group\">\n",
       "    <input id=\"Hk1IEDVn\" type=\"number\" class=\"form-control\" placeholder=\"Respuesta numérica\">\n",
       "    <span  class=\"input-group-append\" href=\"#\" title=\"Introducir hasta 5 decimales\">&nbsp;🎁</span>\n",
       "</div>\n",
       "\n",
       "    \n",
       "        </div>\n",
       "      </div>\n",
       "      <div id='Hk1IEDVn_message' style=\"padding-bottom: 15px\"></div>\n",
       "    </div>\n",
       "  </div>\n",
       "</form>\n",
       "\n",
       "<script text='text/javascript'>\n",
       "document.getElementById(\"Hk1IEDVn\").addEventListener(\"change\", function() {\n",
       "  var correct = (Math.abs(this.value - 13.90662400696743681222462499568062378797049503798810312867680827917643712792353) <= 1.0e-5);\n",
       "  var msgBox = document.getElementById('Hk1IEDVn_message');\n",
       "  \n",
       "    quizquestions_scorecard[\"Hk1IEDVn\"][\"attempts\"] += 1;\n",
       "\n",
       "  if(correct) {\n",
       "    msgBox.innerHTML = \"<div class='pluto-output admonition note alert alert-success'><span> 👍&nbsp; Correcto </span></div>\";\n",
       "    var explanation = document.getElementById(\"explanation_Hk1IEDVn\")\n",
       "    if (explanation != null) {\n",
       "       explanation.style.display = \"none\";\n",
       "    }\n",
       "      quizquestions_scorecard[\"Hk1IEDVn\"][\"correct\"] = true;\n",
       "  if (typeof score_summary !== 'undefined') {\n",
       "     score_summary()\n",
       "  }\n",
       "\n",
       "\n",
       "  } else {\n",
       "    msgBox.innerHTML = \"<div class='pluto-output admonition alert alert-danger'><span>👎&nbsp; Incorrecto </span></div>\";\n",
       "    var explanation = document.getElementById(\"explanation_Hk1IEDVn\")\n",
       "    if (explanation != null) {\n",
       "       explanation.style.display = \"block\";\n",
       "    }\n",
       "      quizquestions_scorecard[\"Hk1IEDVn\"][\"correct\"] = false;\n",
       "  if (typeof score_summary !== 'undefined') {\n",
       "     score_summary()\n",
       "  }\n",
       "\n",
       "  }\n",
       "\n",
       "});\n",
       "\n",
       "</script>\n"
      ],
      "text/latex": [
       "\\vspace{18pt}*Hint: *\n",
       "\n",
       "Introducir hasta 5 decimales\n",
       "\n"
      ],
      "text/plain": [
       "QuizQuestions.Numericq(13.90662400696743681222462499568062378797049503798810312867680827917643712792353, 1.0e-5, \"\", \"\", \"Introducir hasta 5 decimales\", \"\", nothing)"
      ]
     },
     "execution_count": 43,
     "metadata": {},
     "output_type": "execute_result"
    }
   ],
   "source": [
    "#| echo: false\n",
    "@vars t real = true\n",
    "T(t) = 100t*exp(-t)\n",
    "sol = N(1/5 * integrate(T(t), 1, 5))\n",
    "numericq(sol, 1e-5, hint=\"Introducir hasta 5 decimales\")"
   ]
  },
  {
   "cell_type": "code",
   "execution_count": 44,
   "id": "41e42c5e",
   "metadata": {
    "hold": true
   },
   "outputs": [
    {
     "data": {
      "text/html": [
       "<script>\n",
       "if (typeof quizquestions_scorecard === 'undefined') {\n",
       "   quizquestions_scorecard = {};\n",
       "}\n",
       "var ID = \"lpwhYz6j\"\n",
       "if (typeof quizquestions_scorecard[ID] === 'undefined') {\n",
       "      quizquestions_scorecard[ID] = {attempts: 0, correct: false};\n",
       "}\n",
       "</script>\n",
       "<form class=\"mx-2 my-3 mw-100\" name='WeaveQuestion' data-id='lpwhYz6j' data-controltype=''>\n",
       "  <div class='form-group '>\n",
       "    <div class='controls'>\n",
       "      <div class=\"form\" id=\"controls_lpwhYz6j\">\n",
       "        <div style=\"padding-top: 5px\">\n",
       "    </br>\n",
       "<div class=\"input-group\">\n",
       "    <input id=\"lpwhYz6j\" type=\"number\" class=\"form-control\" placeholder=\"Respuesta numérica\">\n",
       "    <span  class=\"input-group-append\" href=\"#\" title=\"Introducir hasta 5 decimales\">&nbsp;🎁</span>\n",
       "</div>\n",
       "\n",
       "    \n",
       "        </div>\n",
       "      </div>\n",
       "      <div id='lpwhYz6j_message' style=\"padding-bottom: 15px\"></div>\n",
       "    </div>\n",
       "  </div>\n",
       "</form>\n",
       "\n",
       "<script text='text/javascript'>\n",
       "document.getElementById(\"lpwhYz6j\").addEventListener(\"change\", function() {\n",
       "  var correct = (Math.abs(this.value - 2.08438122197499) <= 1.0e-5);\n",
       "  var msgBox = document.getElementById('lpwhYz6j_message');\n",
       "  \n",
       "    quizquestions_scorecard[\"lpwhYz6j\"][\"attempts\"] += 1;\n",
       "\n",
       "  if(correct) {\n",
       "    msgBox.innerHTML = \"<div class='pluto-output admonition note alert alert-success'><span> 👍&nbsp; Correcto </span></div>\";\n",
       "    var explanation = document.getElementById(\"explanation_lpwhYz6j\")\n",
       "    if (explanation != null) {\n",
       "       explanation.style.display = \"none\";\n",
       "    }\n",
       "      quizquestions_scorecard[\"lpwhYz6j\"][\"correct\"] = true;\n",
       "  if (typeof score_summary !== 'undefined') {\n",
       "     score_summary()\n",
       "  }\n",
       "\n",
       "\n",
       "  } else {\n",
       "    msgBox.innerHTML = \"<div class='pluto-output admonition alert alert-danger'><span>👎&nbsp; Incorrecto </span></div>\";\n",
       "    var explanation = document.getElementById(\"explanation_lpwhYz6j\")\n",
       "    if (explanation != null) {\n",
       "       explanation.style.display = \"block\";\n",
       "    }\n",
       "      quizquestions_scorecard[\"lpwhYz6j\"][\"correct\"] = false;\n",
       "  if (typeof score_summary !== 'undefined') {\n",
       "     score_summary()\n",
       "  }\n",
       "\n",
       "  }\n",
       "\n",
       "});\n",
       "\n",
       "</script>\n"
      ],
      "text/latex": [
       "\\vspace{18pt}*Hint: *\n",
       "\n",
       "Introducir hasta 5 decimales\n",
       "\n"
      ],
      "text/plain": [
       "QuizQuestions.Numericq(2.08438122197499, 1.0e-5, \"\", \"\", \"Introducir hasta 5 decimales\", \"\", nothing)"
      ]
     },
     "execution_count": 44,
     "metadata": {},
     "output_type": "execute_result"
    }
   ],
   "source": [
    "#| echo: false\n",
    "@vars x real = true\n",
    "c(x) = 2cosh(x/2)\n",
    "sol = quadgk(sqrt(1+diff(c)^2), -1, 1)\n",
    "numericq(sol[1], 1e-5, hint=\"Introducir hasta 5 decimales\")"
   ]
  },
  {
   "cell_type": "code",
   "execution_count": 45,
   "id": "cc699b26",
   "metadata": {
    "hold": true
   },
   "outputs": [
    {
     "data": {
      "text/html": [
       "<script>\n",
       "if (typeof quizquestions_scorecard === 'undefined') {\n",
       "   quizquestions_scorecard = {};\n",
       "}\n",
       "var ID = \"AUkd0sUv\"\n",
       "if (typeof quizquestions_scorecard[ID] === 'undefined') {\n",
       "      quizquestions_scorecard[ID] = {attempts: 0, correct: false};\n",
       "}\n",
       "</script>\n",
       "<form class=\"mx-2 my-3 mw-100\" name='WeaveQuestion' data-id='AUkd0sUv' data-controltype=''>\n",
       "  <div class='form-group '>\n",
       "    <div class='controls'>\n",
       "      <div class=\"form\" id=\"controls_AUkd0sUv\">\n",
       "        <div style=\"padding-top: 5px\">\n",
       "    <div class=\"form-check\">\n",
       "    <label class=\"form-check-label\" for=\"radio_AUkd0sUv_1\">\n",
       "      <input class=\"form-check-input\" type=\"radio\" name=\"radio_AUkd0sUv\"\n",
       "              id=\"radio_AUkd0sUv_1\" value=\"1\">\n",
       "      </input>\n",
       "      <span class=\"label-body px-1\">\n",
       "        La media es mayor que la mediana.\n",
       "      </span>\n",
       "    </label>\n",
       "</div>\n",
       "<div class=\"form-check\">\n",
       "    <label class=\"form-check-label\" for=\"radio_AUkd0sUv_2\">\n",
       "      <input class=\"form-check-input\" type=\"radio\" name=\"radio_AUkd0sUv\"\n",
       "              id=\"radio_AUkd0sUv_2\" value=\"2\">\n",
       "      </input>\n",
       "      <span class=\"label-body px-1\">\n",
       "        La media es menor que la mediana\n",
       "      </span>\n",
       "    </label>\n",
       "</div>\n",
       "<div class=\"form-check\">\n",
       "    <label class=\"form-check-label\" for=\"radio_AUkd0sUv_3\">\n",
       "      <input class=\"form-check-input\" type=\"radio\" name=\"radio_AUkd0sUv\"\n",
       "              id=\"radio_AUkd0sUv_3\" value=\"3\">\n",
       "      </input>\n",
       "      <span class=\"label-body px-1\">\n",
       "        La media es igual que la mediana\n",
       "      </span>\n",
       "    </label>\n",
       "</div>\n",
       "\n",
       "    \n",
       "        </div>\n",
       "      </div>\n",
       "      <div id='AUkd0sUv_message' style=\"padding-bottom: 15px\"></div>\n",
       "    </div>\n",
       "  </div>\n",
       "</form>\n",
       "\n",
       "<script text='text/javascript'>\n",
       "document.querySelectorAll('input[name=\"radio_AUkd0sUv\"]').forEach(function(rb) {\n",
       "rb.addEventListener(\"change\", function() {\n",
       "    var correct = rb.value == 2;\n",
       "    var msgBox = document.getElementById('AUkd0sUv_message');\n",
       "    \n",
       "    quizquestions_scorecard[\"AUkd0sUv\"][\"attempts\"] += 1;\n",
       "\n",
       "  if(correct) {\n",
       "    msgBox.innerHTML = \"<div class='pluto-output admonition note alert alert-success'><span> 👍&nbsp; Correcto </span></div>\";\n",
       "    var explanation = document.getElementById(\"explanation_AUkd0sUv\")\n",
       "    if (explanation != null) {\n",
       "       explanation.style.display = \"none\";\n",
       "    }\n",
       "      quizquestions_scorecard[\"AUkd0sUv\"][\"correct\"] = true;\n",
       "  if (typeof score_summary !== 'undefined') {\n",
       "     score_summary()\n",
       "  }\n",
       "\n",
       "\n",
       "  } else {\n",
       "    msgBox.innerHTML = \"<div class='pluto-output admonition alert alert-danger'><span>👎&nbsp; Incorrecto </span></div>\";\n",
       "    var explanation = document.getElementById(\"explanation_AUkd0sUv\")\n",
       "    if (explanation != null) {\n",
       "       explanation.style.display = \"block\";\n",
       "    }\n",
       "      quizquestions_scorecard[\"AUkd0sUv\"][\"correct\"] = false;\n",
       "  if (typeof score_summary !== 'undefined') {\n",
       "     score_summary()\n",
       "  }\n",
       "\n",
       "  }\n",
       "\n",
       "})});\n",
       "\n",
       "</script>\n"
      ],
      "text/latex": [
       "${\\quad\\Box}$ La media es mayor que la mediana.\n",
       "\n",
       "${\\quad\\Box}$ La media es menor que la mediana\n",
       "\n",
       "${\\quad\\Box}$ La media es igual que la mediana\n",
       "\n"
      ],
      "text/plain": [
       "QuizQuestions.Radioq((\"La media es mayor que la mediana.\", \"La media es menor que la mediana\", \"La media es igual que la mediana\"), 2, [1, 2, 3], (\"La media es mayor que la mediana.\", \"La media es menor que la mediana\", \"La media es igual que la mediana\"), \"\", \"\", \"\", false)"
      ]
     },
     "execution_count": 45,
     "metadata": {},
     "output_type": "execute_result"
    }
   ],
   "source": [
    "#| echo: false\n",
    "choices = (\"La media es mayor que la mediana.\", \"La media es igual que la mediana\", \"La media es menor que la mediana\")\n",
    "answer = 3\n",
    "radioq(choices, answer)"
   ]
  }
 ],
 "metadata": {
  "kernelspec": {
   "display_name": "Julia 1.8.2",
   "language": "julia",
   "name": "julia-1.8"
  },
  "language_info": {
   "file_extension": ".jl",
   "mimetype": "application/julia",
   "name": "julia",
   "version": "1.8.5"
  }
 },
 "nbformat": 4,
 "nbformat_minor": 5
}