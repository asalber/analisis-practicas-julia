{
 "cells": [
  {
   "cell_type": "code",
   "execution_count": 1,
   "id": "754fdfa3",
   "metadata": {},
   "outputs": [],
   "source": [
    "import IJulia\n",
    "\n",
    "# The julia kernel has built in support for Revise.jl, so this is the \n",
    "# recommended approach for long-running sessions:\n",
    "# https://github.com/JuliaLang/IJulia.jl/blob/9b10fa9b879574bbf720f5285029e07758e50a5e/src/kernel.jl#L46-L51\n",
    "\n",
    "# Users should enable revise within .julia/config/startup_ijulia.jl:\n",
    "# https://timholy.github.io/Revise.jl/stable/config/#Using-Revise-automatically-within-Jupyter/IJulia-1\n",
    "\n",
    "# clear console history\n",
    "IJulia.clear_history()\n",
    "\n",
    "fig_width = 7\n",
    "fig_height = 5\n",
    "fig_format = :retina\n",
    "fig_dpi = 96\n",
    "\n",
    "# no retina format type, use svg for high quality type/marks\n",
    "if fig_format == :retina\n",
    "  fig_format = :svg\n",
    "elseif fig_format == :pdf\n",
    "  fig_dpi = 96\n",
    "  # Enable PDF support for IJulia\n",
    "  IJulia.register_mime(MIME(\"application/pdf\"))\n",
    "end\n",
    "\n",
    "# convert inches to pixels\n",
    "fig_width = fig_width * fig_dpi\n",
    "fig_height = fig_height * fig_dpi\n",
    "\n",
    "# Intialize Plots w/ default fig width/height\n",
    "try\n",
    "  import Plots\n",
    "\n",
    "  # Plots.jl doesn't support PDF output for versions < 1.28.1\n",
    "  # so use png (if the DPI remains the default of 300 then set to 96)\n",
    "  if (Plots._current_plots_version < v\"1.28.1\") & (fig_format == :pdf)\n",
    "    Plots.gr(size=(fig_width, fig_height), fmt = :png, dpi = fig_dpi)\n",
    "  else\n",
    "    Plots.gr(size=(fig_width, fig_height), fmt = fig_format, dpi = fig_dpi)\n",
    "  end\n",
    "catch e\n",
    "  # @warn \"Plots init\" exception=(e, catch_backtrace())\n",
    "end\n",
    "\n",
    "# Initialize CairoMakie with default fig width/height\n",
    "try\n",
    "  import CairoMakie\n",
    "  \n",
    "  CairoMakie.activate!(type = string(fig_format))\n",
    "  CairoMakie.update_theme!(resolution=(fig_width, fig_height))\n",
    "catch e\n",
    "    # @warn \"CairoMakie init\" exception=(e, catch_backtrace())\n",
    "end\n",
    "  \n",
    "# Set run_path if specified\n",
    "try\n",
    "  run_path = raw\"/run/media/alf/datos/misrepositorios/docencia/analisis-practicas-julia\"\n",
    "  if !isempty(run_path)\n",
    "    cd(run_path)\n",
    "  end\n",
    "catch e\n",
    "  @warn \"Run path init:\" exception=(e, catch_backtrace())\n",
    "end\n",
    "\n",
    "\n",
    "# emulate old Pkg.installed beahvior, see\n",
    "# https://discourse.julialang.org/t/how-to-use-pkg-dependencies-instead-of-pkg-installed/36416/9\n",
    "import Pkg\n",
    "function isinstalled(pkg::String)\n",
    "  any(x -> x.name == pkg && x.is_direct_dep, values(Pkg.dependencies()))\n",
    "end\n",
    "\n",
    "# ojs_define\n",
    "if isinstalled(\"JSON\") && isinstalled(\"DataFrames\")\n",
    "  import JSON, DataFrames\n",
    "  global function ojs_define(; kwargs...)\n",
    "    convert(x) = x\n",
    "    convert(x::DataFrames.AbstractDataFrame) = Tables.rows(x)\n",
    "    content = Dict(\"contents\" => [Dict(\"name\" => k, \"value\" => convert(v)) for (k, v) in kwargs])\n",
    "    tag = \"<script type='ojs-define'>$(JSON.json(content))</script>\"\n",
    "    IJulia.display(MIME(\"text/html\"), tag)\n",
    "  end\n",
    "elseif isinstalled(\"JSON\")\n",
    "  import JSON\n",
    "  global function ojs_define(; kwargs...)\n",
    "    content = Dict(\"contents\" => [Dict(\"name\" => k, \"value\" => v) for (k, v) in kwargs])\n",
    "    tag = \"<script type='ojs-define'>$(JSON.json(content))</script>\"\n",
    "    IJulia.display(MIME(\"text/html\"), tag)\n",
    "  end\n",
    "else\n",
    "  global function ojs_define(; kwargs...)\n",
    "    @warn \"JSON package not available. Please install the JSON.jl package to use ojs_define.\"\n",
    "  end\n",
    "end\n",
    "\n",
    "\n",
    "# don't return kernel dependencies (b/c Revise should take care of dependencies)\n",
    "nothing\n"
   ]
  },
  {
   "cell_type": "code",
   "execution_count": 2,
   "id": "6f1f2379",
   "metadata": {},
   "outputs": [],
   "source": [
    "using SymPy  # Para el cálculo simbólico de límites.\n",
    "using Plots  # Para el dibujo de gráficas.\n",
    "#plotlyjs() # Para obtener gráficos interactivos.\n",
    "using LaTeXStrings  # Para usar código LaTeX en los gráficos."
   ]
  },
  {
   "cell_type": "code",
   "execution_count": 3,
   "id": "ac921f49",
   "metadata": {
    "md-indent": "    "
   },
   "outputs": [
    {
     "data": {
      "text/plain": [
       "0.2850000000000001"
      ]
     },
     "execution_count": 3,
     "metadata": {},
     "output_type": "execute_result"
    }
   ],
   "source": [
    "f(x) = x^2\n",
    "Δx = 1/10\n",
    "areas_inf = [f((i-1)*Δx)*Δx for i = 1:10]\n",
    "sum_inf = sum(areas_inf)"
   ]
  },
  {
   "cell_type": "code",
   "execution_count": 4,
   "id": "c63b9c91",
   "metadata": {
    "md-indent": "    "
   },
   "outputs": [
    {
     "data": {
      "text/plain": [
       "0.3850000000000001"
      ]
     },
     "execution_count": 4,
     "metadata": {},
     "output_type": "execute_result"
    }
   ],
   "source": [
    "f(x) = x^2\n",
    "Δx = 1/10\n",
    "areas_sup = [f(i*Δx)*Δx for i = 1:10]\n",
    "sum_sup = sum(areas_sup)"
   ]
  },
  {
   "cell_type": "code",
   "execution_count": 5,
   "id": "368df49e",
   "metadata": {
    "md-indent": "    "
   },
   "outputs": [
    {
     "data": {
      "text/plain": [
       "0.10000000000000003"
      ]
     },
     "execution_count": 5,
     "metadata": {},
     "output_type": "execute_result"
    }
   ],
   "source": [
    "error = sum_sup - sum_inf"
   ]
  },
  {
   "cell_type": "code",
   "execution_count": 6,
   "id": "a27c329b",
   "metadata": {
    "md-indent": "    "
   },
   "outputs": [
    {
     "name": "stdout",
     "output_type": "stream",
     "text": [
      "┌──────────────┬───────────┐\n",
      "│\u001b[1m Aproximación \u001b[0m│\u001b[1m     Error \u001b[0m│\n",
      "├──────────────┼───────────┤\n",
      "│        0.335 │       0.1 │\n",
      "│     0.334711 │ 0.0909091 │\n",
      "│     0.334491 │ 0.0833333 │\n",
      "│      0.33432 │ 0.0769231 │\n",
      "│     0.334184 │ 0.0714286 │\n",
      "│     0.334074 │ 0.0666667 │\n",
      "│     0.333984 │    0.0625 │\n",
      "│      0.33391 │ 0.0588235 │\n",
      "│     0.333848 │ 0.0555556 │\n",
      "│     0.333795 │ 0.0526316 │\n",
      "│      0.33375 │      0.05 │\n",
      "│     0.333711 │  0.047619 │\n",
      "│     0.333678 │ 0.0454545 │\n",
      "│     0.333648 │ 0.0434783 │\n",
      "│     0.333623 │ 0.0416667 │\n",
      "│       0.3336 │      0.04 │\n",
      "│      0.33358 │ 0.0384615 │\n",
      "│     0.333562 │  0.037037 │\n",
      "│     0.333546 │ 0.0357143 │\n",
      "│     0.333532 │ 0.0344828 │\n",
      "│     0.333519 │ 0.0333333 │\n",
      "│     0.333507 │ 0.0322581 │\n",
      "│     0.333496 │   0.03125 │\n",
      "│     0.333486 │  0.030303 │\n",
      "│     0.333478 │ 0.0294118 │\n",
      "│     0.333469 │ 0.0285714 │\n",
      "│     0.333462 │ 0.0277778 │\n",
      "│     0.333455 │  0.027027 │\n",
      "│     0.333449 │ 0.0263158 │\n",
      "│     0.333443 │  0.025641 │\n",
      "│     0.333438 │     0.025 │\n",
      "│     0.333432 │ 0.0243902 │\n",
      "│     0.333428 │ 0.0238095 │\n",
      "│     0.333423 │ 0.0232558 │\n",
      "│     0.333419 │ 0.0227273 │\n",
      "│     0.333416 │ 0.0222222 │\n",
      "│     0.333412 │ 0.0217391 │\n",
      "│     0.333409 │ 0.0212766 │\n",
      "│     0.333406 │ 0.0208333 │\n",
      "│     0.333403 │ 0.0204082 │\n",
      "│       0.3334 │      0.02 │\n",
      "│     0.333397 │ 0.0196078 │\n",
      "│     0.333395 │ 0.0192308 │\n",
      "│     0.333393 │ 0.0188679 │\n",
      "│      0.33339 │ 0.0185185 │\n",
      "│     0.333388 │ 0.0181818 │\n",
      "│     0.333386 │ 0.0178571 │\n",
      "│     0.333385 │ 0.0175439 │\n",
      "│     0.333383 │ 0.0172414 │\n",
      "│     0.333381 │ 0.0169492 │\n",
      "│      0.33338 │ 0.0166667 │\n",
      "│     0.333378 │ 0.0163934 │\n",
      "│     0.333377 │  0.016129 │\n",
      "│     0.333375 │  0.015873 │\n",
      "│     0.333374 │  0.015625 │\n",
      "│     0.333373 │ 0.0153846 │\n",
      "│     0.333372 │ 0.0151515 │\n",
      "│      0.33337 │ 0.0149254 │\n",
      "│     0.333369 │ 0.0147059 │\n",
      "│     0.333368 │ 0.0144928 │\n",
      "│     0.333367 │ 0.0142857 │\n",
      "│     0.333366 │ 0.0140845 │\n",
      "│     0.333365 │ 0.0138889 │\n",
      "│     0.333365 │ 0.0136986 │\n",
      "│     0.333364 │ 0.0135135 │\n",
      "│     0.333363 │ 0.0133333 │\n",
      "│     0.333362 │ 0.0131579 │\n",
      "│     0.333361 │  0.012987 │\n",
      "│     0.333361 │ 0.0128205 │\n",
      "│      0.33336 │ 0.0126582 │\n",
      "│     0.333359 │    0.0125 │\n",
      "│     0.333359 │ 0.0123457 │\n",
      "│     0.333358 │ 0.0121951 │\n",
      "│     0.333358 │ 0.0120482 │\n",
      "│     0.333357 │ 0.0119048 │\n",
      "│     0.333356 │ 0.0117647 │\n",
      "│     0.333356 │ 0.0116279 │\n",
      "│     0.333355 │ 0.0114943 │\n",
      "│     0.333355 │ 0.0113636 │\n",
      "│     0.333354 │  0.011236 │\n",
      "│     0.333354 │ 0.0111111 │\n",
      "│     0.333353 │  0.010989 │\n",
      "│     0.333353 │ 0.0108696 │\n",
      "│     0.333353 │ 0.0107527 │\n",
      "│     0.333352 │ 0.0106383 │\n",
      "│     0.333352 │ 0.0105263 │\n",
      "│     0.333351 │ 0.0104167 │\n",
      "│     0.333351 │ 0.0103093 │\n",
      "│     0.333351 │ 0.0102041 │\n",
      "│      0.33335 │  0.010101 │\n",
      "│      0.33335 │      0.01 │\n",
      "└──────────────┴───────────┘\n"
     ]
    }
   ],
   "source": [
    "using PrettyTables\n",
    "f(x) = x^2\n",
    "function area_inf(a, b, n)\n",
    "    Δx = (b-a)/n\n",
    "    return sum([f(a+(i-1)*Δx)*Δx for i = 1:n])\n",
    "end\n",
    "\n",
    "function area_sup(a, b, n)\n",
    "    Δx = (b-a)/n\n",
    "    return sum([f(a+i*Δx)*Δx for i = 1:n])\n",
    "end\n",
    "\n",
    "function area(a, b, n)\n",
    "    area = (area_inf(a, b, n) + area_sup(a, b, n)) / 2\n",
    "    error = area_sup(a, b, n) - area_inf(a, b, n)\n",
    "    return area, error\n",
    "end\n",
    "\n",
    "areas = [area(0, 1, n) for n=10:100]\n",
    "pretty_table(hcat(first.(areas), last.(areas)); header = [\"Aproximación\", \"Error\"])"
   ]
  },
  {
   "cell_type": "code",
   "execution_count": 7,
   "id": "0297152b",
   "metadata": {
    "md-indent": "    "
   },
   "outputs": [
    {
     "data": {
      "text/latex": [
       "$\\frac{x^{3} \\log{\\left(x \\right)}}{3} - \\frac{x^{3}}{9}$"
      ],
      "text/plain": [
       " 3           3\n",
       "x ⋅log(x)   x \n",
       "───────── - ──\n",
       "    3       9 "
      ]
     },
     "execution_count": 7,
     "metadata": {},
     "output_type": "execute_result"
    }
   ],
   "source": [
    "using SymPy\n",
    "@vars x real=true\n",
    "integrate(x^2*ln(x))"
   ]
  },
  {
   "cell_type": "code",
   "execution_count": 8,
   "id": "34af3053",
   "metadata": {
    "md-indent": "    "
   },
   "outputs": [
    {
     "data": {
      "text/latex": [
       "$\\log{\\left(x \\right)} \\log{\\left(\\log{\\left(x \\right)} \\right)} - \\log{\\left(x \\right)}$"
      ],
      "text/plain": [
       "log(x)⋅log(log(x)) - log(x)"
      ]
     },
     "execution_count": 8,
     "metadata": {},
     "output_type": "execute_result"
    }
   ],
   "source": [
    "integrate(ln(ln(x))/x)"
   ]
  },
  {
   "cell_type": "code",
   "execution_count": 9,
   "id": "f8ad759a",
   "metadata": {
    "md-indent": "    "
   },
   "outputs": [
    {
     "data": {
      "text/latex": [
       "$\\log{\\left(x \\right)} - 3 \\log{\\left(x - 1 \\right)} + \\log{\\left(x^{2} + 1 \\right)} - 2 \\operatorname{atan}{\\left(x \\right)} - \\frac{5}{x - 1}$"
      ],
      "text/plain": [
       "                           ⎛ 2    ⎞                 5  \n",
       "log(x) - 3⋅log(x - 1) + log⎝x  + 1⎠ - 2⋅atan(x) - ─────\n",
       "                                                  x - 1"
      ]
     },
     "execution_count": 9,
     "metadata": {},
     "output_type": "execute_result"
    }
   ],
   "source": [
    "integrate((5x^2+4x+1)/(x^5-2x^4+2x^3-2x^2+x))"
   ]
  },
  {
   "cell_type": "code",
   "execution_count": 10,
   "id": "95d1178d",
   "metadata": {
    "md-indent": "    "
   },
   "outputs": [
    {
     "data": {
      "text/latex": [
       "$\\frac{4 x - 7}{3 x^{2} + 3 x + 3} + \\frac{8 \\sqrt{3} \\operatorname{atan}{\\left(\\frac{2 \\sqrt{3} x}{3} + \\frac{\\sqrt{3}}{3} \\right)}}{9}$"
      ],
      "text/plain": [
       "                          ⎛2⋅√3⋅x   √3⎞\n",
       "                 8⋅√3⋅atan⎜────── + ──⎟\n",
       "   4⋅x - 7                ⎝  3      3 ⎠\n",
       "────────────── + ──────────────────────\n",
       "   2                       9           \n",
       "3⋅x  + 3⋅x + 3                         "
      ]
     },
     "execution_count": 10,
     "metadata": {},
     "output_type": "execute_result"
    }
   ],
   "source": [
    "integrate((6x+5)/(x^2+x+1)^2)"
   ]
  },
  {
   "cell_type": "code",
   "execution_count": 11,
   "id": "db4cbf3b",
   "metadata": {
    "md-indent": "    "
   },
   "outputs": [
    {
     "data": {
      "text/latex": [
       "$0.25$"
      ],
      "text/plain": [
       "0.250000000000000"
      ]
     },
     "execution_count": 11,
     "metadata": {},
     "output_type": "execute_result"
    }
   ],
   "source": [
    "using SymPy\n",
    "@vars x real=true\n",
    "integrate(x^3/x^2+x+1, -1/2, 0)"
   ]
  },
  {
   "cell_type": "code",
   "execution_count": 12,
   "id": "91b4f55d",
   "metadata": {
    "md-indent": "    "
   },
   "outputs": [
    {
     "data": {
      "text/latex": [
       "$- 2 \\sqrt{3} + 4 \\operatorname{acosh}{\\left(2 \\right)}$"
      ],
      "text/plain": [
       "-2⋅√3 + 4⋅acosh(2)"
      ]
     },
     "execution_count": 12,
     "metadata": {},
     "output_type": "execute_result"
    }
   ],
   "source": [
    "integrate(sqrt(16-x^2)/x, 2, 4)"
   ]
  },
  {
   "cell_type": "code",
   "execution_count": 13,
   "id": "8e5f4b44",
   "metadata": {
    "md-indent": "    "
   },
   "outputs": [
    {
     "data": {
      "text/latex": [
       "$\\frac{\\sqrt{2} \\pi}{8}$"
      ],
      "text/plain": [
       "√2⋅π\n",
       "────\n",
       " 8  "
      ]
     },
     "execution_count": 13,
     "metadata": {},
     "output_type": "execute_result"
    }
   ],
   "source": [
    "integrate(1/(3+cos(2x)), 0, PI/2)"
   ]
  },
  {
   "cell_type": "code",
   "execution_count": 14,
   "id": "ea1eeda7",
   "metadata": {},
   "outputs": [
    {
     "data": {
      "text/plain": [
       "50-element Vector{Float64}:\n",
       " 0.5\n",
       " 0.75\n",
       " 0.875\n",
       " 0.9375\n",
       " 0.96875\n",
       " 0.984375\n",
       " 0.9921875\n",
       " 0.99609375\n",
       " 0.998046875\n",
       " 0.9990234375\n",
       " 0.99951171875\n",
       " 0.999755859375\n",
       " 0.9998779296875\n",
       " ⋮\n",
       " 0.999999999998181\n",
       " 0.9999999999990905\n",
       " 0.9999999999995453\n",
       " 0.9999999999997726\n",
       " 0.9999999999998863\n",
       " 0.9999999999999432\n",
       " 0.9999999999999716\n",
       " 0.9999999999999858\n",
       " 0.9999999999999929\n",
       " 0.9999999999999964\n",
       " 0.9999999999999982\n",
       " 0.9999999999999991"
      ]
     },
     "execution_count": 14,
     "metadata": {},
     "output_type": "execute_result"
    }
   ],
   "source": [
    "N = 50\n",
    "a(n) = 1/2^n\n",
    "an = [a(n) for n = 1:N]\n",
    "An = cumsum(an)"
   ]
  },
  {
   "cell_type": "code",
   "execution_count": 15,
   "id": "f2318ef4",
   "metadata": {},
   "outputs": [
    {
     "data": {
      "text/plain": [
       "50-element Vector{Float64}:\n",
       " 0.5\n",
       " 0.75\n",
       " 0.875\n",
       " 0.9375\n",
       " 0.96875\n",
       " 0.984375\n",
       " 0.9921875\n",
       " 0.99609375\n",
       " 0.998046875\n",
       " 0.9990234375\n",
       " 0.99951171875\n",
       " 0.999755859375\n",
       " 0.9998779296875\n",
       " ⋮\n",
       " 0.999999999998181\n",
       " 0.9999999999990905\n",
       " 0.9999999999995453\n",
       " 0.9999999999997726\n",
       " 0.9999999999998863\n",
       " 0.9999999999999432\n",
       " 0.9999999999999716\n",
       " 0.9999999999999858\n",
       " 0.9999999999999929\n",
       " 0.9999999999999964\n",
       " 0.9999999999999982\n",
       " 0.9999999999999991"
      ]
     },
     "execution_count": 15,
     "metadata": {},
     "output_type": "execute_result"
    }
   ],
   "source": [
    "N = 50\n",
    "a(n) = 1/2^n\n",
    "A(n) = sum(a, 1:n)\n",
    "An = [A(n) for n = 1:N]"
   ]
  },
  {
   "cell_type": "code",
   "execution_count": 16,
   "id": "31fdb22c",
   "metadata": {
    "results": "hidden"
   },
   "outputs": [],
   "source": [
    "#| echo: false\n",
    "using QuizQuestions\n",
    "nothing"
   ]
  },
  {
   "cell_type": "code",
   "execution_count": 17,
   "id": "aa2e52f5",
   "metadata": {
    "hold": true
   },
   "outputs": [
    {
     "data": {
      "text/html": [
       "<script>\n",
       "if (typeof quizquestions_scorecard === 'undefined') {\n",
       "   quizquestions_scorecard = {};\n",
       "}\n",
       "var ID = \"KqpqnM6K\"\n",
       "if (typeof quizquestions_scorecard[ID] === 'undefined') {\n",
       "      quizquestions_scorecard[ID] = {attempts: 0, correct: false};\n",
       "}\n",
       "</script>\n",
       "<form class=\"mx-2 my-3 mw-100\" name='WeaveQuestion' data-id='KqpqnM6K' data-controltype=''>\n",
       "  <div class='form-group '>\n",
       "    <div class='controls'>\n",
       "      <div class=\"form\" id=\"controls_KqpqnM6K\">\n",
       "        <div style=\"padding-top: 5px\">\n",
       "    </br>\n",
       "<div class=\"input-group\">\n",
       "    <input id=\"KqpqnM6K\" type=\"number\" class=\"form-control\" placeholder=\"Respuesta numérica\">\n",
       "    <span  class=\"input-group-append\" href=\"#\" title=\"Introducir hasta 20 decimales\">&nbsp;🎁</span>\n",
       "</div>\n",
       "\n",
       "    \n",
       "        </div>\n",
       "      </div>\n",
       "      <div id='KqpqnM6K_message' style=\"padding-bottom: 15px\"></div>\n",
       "    </div>\n",
       "  </div>\n",
       "</form>\n",
       "\n",
       "<script text='text/javascript'>\n",
       "document.getElementById(\"KqpqnM6K\").addEventListener(\"change\", function() {\n",
       "  var correct = (Math.abs(this.value - 0.6931471805599452923248950070631627496611873046174183751999313065846593137772644) <= 1.0e-20);\n",
       "  var msgBox = document.getElementById('KqpqnM6K_message');\n",
       "  \n",
       "    quizquestions_scorecard[\"KqpqnM6K\"][\"attempts\"] += 1;\n",
       "\n",
       "  if(correct) {\n",
       "    msgBox.innerHTML = \"<div class='pluto-output admonition note alert alert-success'><span> 👍&nbsp; Correcto </span></div>\";\n",
       "    var explanation = document.getElementById(\"explanation_KqpqnM6K\")\n",
       "    if (explanation != null) {\n",
       "       explanation.style.display = \"none\";\n",
       "    }\n",
       "      quizquestions_scorecard[\"KqpqnM6K\"][\"correct\"] = true;\n",
       "  if (typeof score_summary !== 'undefined') {\n",
       "     score_summary()\n",
       "  }\n",
       "\n",
       "\n",
       "  } else {\n",
       "    msgBox.innerHTML = \"<div class='pluto-output admonition alert alert-danger'><span>👎&nbsp; Incorrecto </span></div>\";\n",
       "    var explanation = document.getElementById(\"explanation_KqpqnM6K\")\n",
       "    if (explanation != null) {\n",
       "       explanation.style.display = \"block\";\n",
       "    }\n",
       "      quizquestions_scorecard[\"KqpqnM6K\"][\"correct\"] = false;\n",
       "  if (typeof score_summary !== 'undefined') {\n",
       "     score_summary()\n",
       "  }\n",
       "\n",
       "  }\n",
       "\n",
       "});\n",
       "\n",
       "</script>\n"
      ],
      "text/latex": [
       "\\vspace{18pt}*Hint: *\n",
       "\n",
       "Introducir hasta 20 decimales\n",
       "\n"
      ],
      "text/plain": [
       "QuizQuestions.Numericq(0.6931471805599452923248950070631627496611873046174183751999313065846593137772644, 1.0e-20, \"\", \"\", \"Introducir hasta 20 decimales\", \"\", nothing)"
      ]
     },
     "execution_count": 17,
     "metadata": {},
     "output_type": "execute_result"
    }
   ],
   "source": [
    "#| echo: false\n",
    "a(n) = 1/(big(n)*2^big(n))\n",
    "numericq(sum(a, 1:50), 1e-20, hint=\"Introducir hasta 20 decimales\")"
   ]
  },
  {
   "cell_type": "code",
   "execution_count": 18,
   "id": "0d014cc6",
   "metadata": {
    "hold": true
   },
   "outputs": [
    {
     "data": {
      "text/html": [
       "<script>\n",
       "if (typeof quizquestions_scorecard === 'undefined') {\n",
       "   quizquestions_scorecard = {};\n",
       "}\n",
       "var ID = \"XlOkRWdD\"\n",
       "if (typeof quizquestions_scorecard[ID] === 'undefined') {\n",
       "      quizquestions_scorecard[ID] = {attempts: 0, correct: false};\n",
       "}\n",
       "</script>\n",
       "<form class=\"mx-2 my-3 mw-100\" name='WeaveQuestion' data-id='XlOkRWdD' data-controltype=''>\n",
       "  <div class='form-group '>\n",
       "    <div class='controls'>\n",
       "      <div class=\"form\" id=\"controls_XlOkRWdD\">\n",
       "        <div style=\"padding-top: 5px\">\n",
       "    </br>\n",
       "<div class=\"input-group\">\n",
       "    <input id=\"XlOkRWdD\" type=\"number\" class=\"form-control\" placeholder=\"Respuesta numérica\">\n",
       "    <span  class=\"input-group-append\" href=\"#\" title=\"Introducir hasta 40 decimales\">&nbsp;🎁</span>\n",
       "</div>\n",
       "\n",
       "    \n",
       "        </div>\n",
       "      </div>\n",
       "      <div id='XlOkRWdD_message' style=\"padding-bottom: 15px\"></div>\n",
       "    </div>\n",
       "  </div>\n",
       "</form>\n",
       "\n",
       "<script text='text/javascript'>\n",
       "document.getElementById(\"XlOkRWdD\").addEventListener(\"change\", function() {\n",
       "  var correct = (Math.abs(this.value - 1.879853862175258533486306145070960038819872853086289619594759148401709391879149) <= 1.0e-40);\n",
       "  var msgBox = document.getElementById('XlOkRWdD_message');\n",
       "  \n",
       "    quizquestions_scorecard[\"XlOkRWdD\"][\"attempts\"] += 1;\n",
       "\n",
       "  if(correct) {\n",
       "    msgBox.innerHTML = \"<div class='pluto-output admonition note alert alert-success'><span> 👍&nbsp; Correcto </span></div>\";\n",
       "    var explanation = document.getElementById(\"explanation_XlOkRWdD\")\n",
       "    if (explanation != null) {\n",
       "       explanation.style.display = \"none\";\n",
       "    }\n",
       "      quizquestions_scorecard[\"XlOkRWdD\"][\"correct\"] = true;\n",
       "  if (typeof score_summary !== 'undefined') {\n",
       "     score_summary()\n",
       "  }\n",
       "\n",
       "\n",
       "  } else {\n",
       "    msgBox.innerHTML = \"<div class='pluto-output admonition alert alert-danger'><span>👎&nbsp; Incorrecto </span></div>\";\n",
       "    var explanation = document.getElementById(\"explanation_XlOkRWdD\")\n",
       "    if (explanation != null) {\n",
       "       explanation.style.display = \"block\";\n",
       "    }\n",
       "      quizquestions_scorecard[\"XlOkRWdD\"][\"correct\"] = false;\n",
       "  if (typeof score_summary !== 'undefined') {\n",
       "     score_summary()\n",
       "  }\n",
       "\n",
       "  }\n",
       "\n",
       "});\n",
       "\n",
       "</script>\n"
      ],
      "text/latex": [
       "\\vspace{18pt}*Hint: *\n",
       "\n",
       "Introducir hasta 40 decimales\n",
       "\n"
      ],
      "text/plain": [
       "QuizQuestions.Numericq(1.879853862175258533486306145070960038819872853086289619594759148401709391879149, 1.0e-40, \"\", \"\", \"Introducir hasta 40 decimales\", \"\", nothing)"
      ]
     },
     "execution_count": 18,
     "metadata": {},
     "output_type": "execute_result"
    }
   ],
   "source": [
    "#| echo: false\n",
    "a(n) = factorial(big(n))/big(n)^big(n)\n",
    "numericq(sum(a, 1:100), 1e-40, hint=\"Introducir hasta 40 decimales\")"
   ]
  }
 ],
 "metadata": {
  "kernelspec": {
   "display_name": "Julia 1.8.2",
   "language": "julia",
   "name": "julia-1.8"
  },
  "language_info": {
   "file_extension": ".jl",
   "mimetype": "application/julia",
   "name": "julia",
   "version": "1.8.5"
  }
 },
 "nbformat": 4,
 "nbformat_minor": 5
}