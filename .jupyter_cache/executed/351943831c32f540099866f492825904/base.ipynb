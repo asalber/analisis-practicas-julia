{
 "cells": [
  {
   "cell_type": "code",
   "execution_count": 1,
   "id": "9973202d",
   "metadata": {},
   "outputs": [],
   "source": [
    "import IJulia\n",
    "\n",
    "# The julia kernel has built in support for Revise.jl, so this is the \n",
    "# recommended approach for long-running sessions:\n",
    "# https://github.com/JuliaLang/IJulia.jl/blob/9b10fa9b879574bbf720f5285029e07758e50a5e/src/kernel.jl#L46-L51\n",
    "\n",
    "# Users should enable revise within .julia/config/startup_ijulia.jl:\n",
    "# https://timholy.github.io/Revise.jl/stable/config/#Using-Revise-automatically-within-Jupyter/IJulia-1\n",
    "\n",
    "# clear console history\n",
    "IJulia.clear_history()\n",
    "\n",
    "fig_width = 5.5\n",
    "fig_height = 3.5\n",
    "fig_format = :pdf\n",
    "fig_dpi = 300\n",
    "\n",
    "# no retina format type, use svg for high quality type/marks\n",
    "if fig_format == :retina\n",
    "  fig_format = :svg\n",
    "elseif fig_format == :pdf\n",
    "  fig_dpi = 96\n",
    "  # Enable PDF support for IJulia\n",
    "  IJulia.register_mime(MIME(\"application/pdf\"))\n",
    "end\n",
    "\n",
    "# convert inches to pixels\n",
    "fig_width = fig_width * fig_dpi\n",
    "fig_height = fig_height * fig_dpi\n",
    "\n",
    "# Intialize Plots w/ default fig width/height\n",
    "try\n",
    "  import Plots\n",
    "\n",
    "  # Plots.jl doesn't support PDF output for versions < 1.28.1\n",
    "  # so use png (if the DPI remains the default of 300 then set to 96)\n",
    "  if (Plots._current_plots_version < v\"1.28.1\") & (fig_format == :pdf)\n",
    "    Plots.gr(size=(fig_width, fig_height), fmt = :png, dpi = fig_dpi)\n",
    "  else\n",
    "    Plots.gr(size=(fig_width, fig_height), fmt = fig_format, dpi = fig_dpi)\n",
    "  end\n",
    "catch e\n",
    "  # @warn \"Plots init\" exception=(e, catch_backtrace())\n",
    "end\n",
    "\n",
    "# Initialize CairoMakie with default fig width/height\n",
    "try\n",
    "  import CairoMakie\n",
    "  \n",
    "  CairoMakie.activate!(type = string(fig_format))\n",
    "  CairoMakie.update_theme!(resolution=(fig_width, fig_height))\n",
    "catch e\n",
    "    # @warn \"CairoMakie init\" exception=(e, catch_backtrace())\n",
    "end\n",
    "  \n",
    "# Set run_path if specified\n",
    "try\n",
    "  run_path = raw\"/run/media/alf/datos/misrepositorios/docencia/analisis-practicas-julia\"\n",
    "  if !isempty(run_path)\n",
    "    cd(run_path)\n",
    "  end\n",
    "catch e\n",
    "  @warn \"Run path init:\" exception=(e, catch_backtrace())\n",
    "end\n",
    "\n",
    "\n",
    "# emulate old Pkg.installed beahvior, see\n",
    "# https://discourse.julialang.org/t/how-to-use-pkg-dependencies-instead-of-pkg-installed/36416/9\n",
    "import Pkg\n",
    "function isinstalled(pkg::String)\n",
    "  any(x -> x.name == pkg && x.is_direct_dep, values(Pkg.dependencies()))\n",
    "end\n",
    "\n",
    "# ojs_define\n",
    "if isinstalled(\"JSON\") && isinstalled(\"DataFrames\")\n",
    "  import JSON, DataFrames\n",
    "  global function ojs_define(; kwargs...)\n",
    "    convert(x) = x\n",
    "    convert(x::DataFrames.AbstractDataFrame) = Tables.rows(x)\n",
    "    content = Dict(\"contents\" => [Dict(\"name\" => k, \"value\" => convert(v)) for (k, v) in kwargs])\n",
    "    tag = \"<script type='ojs-define'>$(JSON.json(content))</script>\"\n",
    "    IJulia.display(MIME(\"text/html\"), tag)\n",
    "  end\n",
    "elseif isinstalled(\"JSON\")\n",
    "  import JSON\n",
    "  global function ojs_define(; kwargs...)\n",
    "    content = Dict(\"contents\" => [Dict(\"name\" => k, \"value\" => v) for (k, v) in kwargs])\n",
    "    tag = \"<script type='ojs-define'>$(JSON.json(content))</script>\"\n",
    "    IJulia.display(MIME(\"text/html\"), tag)\n",
    "  end\n",
    "else\n",
    "  global function ojs_define(; kwargs...)\n",
    "    @warn \"JSON package not available. Please install the JSON.jl package to use ojs_define.\"\n",
    "  end\n",
    "end\n",
    "\n",
    "\n",
    "# don't return kernel dependencies (b/c Revise should take care of dependencies)\n",
    "nothing\n"
   ]
  },
  {
   "cell_type": "code",
   "execution_count": 2,
   "id": "19053c06",
   "metadata": {},
   "outputs": [],
   "source": [
    "using SymPy  # Para el cálculo simbólico de límites.\n",
    "using Plots  # Para el dibujo de gráficas.\n",
    "#plotlyjs() # Para obtener gráficos interactivos.\n",
    "using LaTeXStrings  # Para usar código LaTeX en los gráficos."
   ]
  },
  {
   "cell_type": "code",
   "execution_count": 3,
   "id": "20b4536b",
   "metadata": {},
   "outputs": [
    {
     "name": "stdout",
     "output_type": "stream",
     "text": [
      "[3, 5, 7, 9, 11, 13, 15, 17, 19, 21]"
     ]
    }
   ],
   "source": [
    "x(n) = 2n + 1\n",
    "print([x(n) for n = 1:10])"
   ]
  },
  {
   "cell_type": "code",
   "execution_count": 4,
   "id": "6e82765c",
   "metadata": {},
   "outputs": [
    {
     "name": "stdout",
     "output_type": "stream",
     "text": [
      "[1.0, 0.5, 0.3333333333333333, 0.25, 0.2, 0.16666666666666666, 0.14285714285714285, 0.125, 0.1111111111111111, 0.1]"
     ]
    },
    {
     "name": "stdout",
     "output_type": "stream",
     "text": [
      "Rational{Int64}[1//1, 1//2, 1//3, 1//4, 1//5, 1//6, 1//7, 1//8, 1//9, 1//10]"
     ]
    }
   ],
   "source": [
    "# Como reales\n",
    "x(n) = 1 / n\n",
    "print([x(n) for n = 1:10])\n",
    "# Como racionales\n",
    "x(n) = 1//n\n",
    "print([x(n) for n = 1:10])"
   ]
  },
  {
   "cell_type": "code",
   "execution_count": 5,
   "id": "2070d382",
   "metadata": {},
   "outputs": [
    {
     "name": "stdout",
     "output_type": "stream",
     "text": [
      "[-1, 1, -1, 1, -1, 1, -1, 1, -1, 1]"
     ]
    }
   ],
   "source": [
    "x(n) = (-1)^n\n",
    "print([x(n) for n = 1:10])"
   ]
  },
  {
   "cell_type": "code",
   "execution_count": 6,
   "id": "69177dd1",
   "metadata": {},
   "outputs": [
    {
     "name": "stdout",
     "output_type": "stream",
     "text": [
      "[2.0, 2.25, 2.3703703703703702, 2.44140625, 2.4883199999999994, 2.5216263717421135, 2.546499697040712, 2.565784513950348, 2.581174791713198, 2.5937424601000023]"
     ]
    }
   ],
   "source": [
    "x(n) = (1 + 1 / n)^n\n",
    "print([x(n) for n = 1:10])"
   ]
  },
  {
   "cell_type": "code",
   "execution_count": 7,
   "id": "84e80ab9",
   "metadata": {},
   "outputs": [
    {
     "name": "stdout",
     "output_type": "stream",
     "text": [
      "Real[1, 1.4142135623730951, 1.5537739740300374, 1.5980531824786175, 1.6118477541252516, 1.616121206508117, 1.6174427985273905, 1.617851290609675, 1.6179775309347393, 1.6180165422314876]"
     ]
    }
   ],
   "source": [
    "x(n) = n == 1 ? 1 : sqrt(1+x(n-1))\n",
    "print([x(n) for n = 1:10])"
   ]
  },
  {
   "cell_type": "code",
   "execution_count": 8,
   "id": "ec059a8a",
   "metadata": {},
   "outputs": [
    {
     "data": {
      "application/pdf": "[encoded data removed]"
     },
     "execution_count": 8,
     "metadata": {},
     "output_type": "execute_result"
    }
   ],
   "source": [
    "using Plots\n",
    "x(n) = n / (4n + 2)\n",
    "scatter([x(n) for n = 1:50], legend=false)"
   ]
  },
  {
   "cell_type": "code",
   "execution_count": 9,
   "id": "635aa3eb",
   "metadata": {},
   "outputs": [
    {
     "data": {
      "application/pdf": "[encoded data removed]"
     },
     "execution_count": 9,
     "metadata": {},
     "output_type": "execute_result"
    }
   ],
   "source": [
    "using Plots\n",
    "x(n) = 2^n / (4n + 2)\n",
    "scatter([x(n) for n = 1:50], legend=false)"
   ]
  },
  {
   "cell_type": "code",
   "execution_count": 10,
   "id": "305b2585",
   "metadata": {},
   "outputs": [
    {
     "data": {
      "application/pdf": "[encoded data removed]"
     },
     "execution_count": 10,
     "metadata": {},
     "output_type": "execute_result"
    }
   ],
   "source": [
    "using Plots\n",
    "x(n) = (-1)^n / n\n",
    "scatter([x(n) for n = 1:50], legend=false)"
   ]
  },
  {
   "cell_type": "code",
   "execution_count": 11,
   "id": "c0d64d76",
   "metadata": {},
   "outputs": [
    {
     "data": {
      "application/pdf": "[encoded data removed]"
     },
     "execution_count": 11,
     "metadata": {},
     "output_type": "execute_result"
    }
   ],
   "source": [
    "using Plots\n",
    "x(n) = (1 + 1 / n)^n\n",
    "scatter([x(n) for n = 1:50], legend=false)"
   ]
  },
  {
   "cell_type": "code",
   "execution_count": 12,
   "id": "a1f096db",
   "metadata": {},
   "outputs": [
    {
     "data": {
      "application/pdf": "[encoded data removed]"
     },
     "execution_count": 12,
     "metadata": {},
     "output_type": "execute_result"
    }
   ],
   "source": [
    "using Plots\n",
    "x(n) =  n == 1 ? 0.5 : 3/(2+x(n-1))\n",
    "scatter([x(n) for n = 1:50], legend=false)"
   ]
  },
  {
   "cell_type": "code",
   "execution_count": 13,
   "id": "8ab01578",
   "metadata": {},
   "outputs": [
    {
     "data": {
      "text/latex": [
       "$0$"
      ],
      "text/plain": [
       "0"
      ]
     },
     "execution_count": 13,
     "metadata": {},
     "output_type": "execute_result"
    }
   ],
   "source": [
    "using SymPy\n",
    "@syms n::(integer, positive)  # Declaración de la variable simbólica n.\n",
    "x(n) = 1/n\n",
    "limit(x(n), n=>oo)"
   ]
  },
  {
   "cell_type": "code",
   "execution_count": 14,
   "id": "6f2502d3",
   "metadata": {},
   "outputs": [
    {
     "data": {
      "text/latex": [
       "$\\text{NaN}$"
      ],
      "text/plain": [
       "nan"
      ]
     },
     "execution_count": 14,
     "metadata": {},
     "output_type": "execute_result"
    }
   ],
   "source": [
    "@syms n::(integer, positive)\n",
    "x(n) = (-1)^n\n",
    "limit(x(n), n=>oo)"
   ]
  },
  {
   "cell_type": "code",
   "execution_count": 15,
   "id": "d6bf22b8",
   "metadata": {},
   "outputs": [
    {
     "data": {
      "text/latex": [
       "$e$"
      ],
      "text/plain": [
       "ℯ"
      ]
     },
     "execution_count": 15,
     "metadata": {},
     "output_type": "execute_result"
    }
   ],
   "source": [
    "@syms n::(integer, positive)\n",
    "x(n) = (1 + 1 / n)^n\n",
    "limit(x(n), n=>oo)"
   ]
  },
  {
   "cell_type": "code",
   "execution_count": 16,
   "id": "51d39b38",
   "metadata": {},
   "outputs": [
    {
     "name": "stdout",
     "output_type": "stream",
     "text": [
      "[2.938926261462366, 3.1395259764656687, 3.1415719827794755, 3.141592446881286, 3.141592651522708, 3.1415926535691225]"
     ]
    }
   ],
   "source": [
    "a(n) = n*sind(360/n)/2\n",
    "print([a(10^i) for i = 1:6])"
   ]
  },
  {
   "cell_type": "code",
   "execution_count": 17,
   "id": "6cb2ca98",
   "metadata": {},
   "outputs": [
    {
     "data": {
      "application/pdf": "[encoded data removed]"
     },
     "execution_count": 17,
     "metadata": {},
     "output_type": "execute_result"
    }
   ],
   "source": [
    "using Plots\n",
    "a(n) = n*sind(360/n)/2\n",
    "scatter([a(n) for n = 1:50], legend=false)"
   ]
  },
  {
   "cell_type": "code",
   "execution_count": 18,
   "id": "801e0260",
   "metadata": {},
   "outputs": [
    {
     "data": {
      "text/latex": [
       "$3.14159265358979$"
      ],
      "text/plain": [
       "3.14159265358979"
      ]
     },
     "execution_count": 18,
     "metadata": {},
     "output_type": "execute_result"
    }
   ],
   "source": [
    "using SymPy\n",
    "@syms n::(integer, positive)\n",
    "a(n) = n*sin(2pi/n)/2\n",
    "limit(a(n), n=>oo)"
   ]
  },
  {
   "cell_type": "code",
   "execution_count": 19,
   "id": "664af8de",
   "metadata": {},
   "outputs": [
    {
     "data": {
      "text/latex": [
       "$3.14159265358979 r^{2}$"
      ],
      "text/plain": [
       "                  2\n",
       "3.14159265358979⋅r "
      ]
     },
     "execution_count": 19,
     "metadata": {},
     "output_type": "execute_result"
    }
   ],
   "source": [
    "using SymPy\n",
    "@syms n::(integer, positive), r\n",
    "a(n) = n*r^2*sin(2pi/n)/2\n",
    "limit(a(n), n=>oo)"
   ]
  },
  {
   "cell_type": "code",
   "execution_count": 20,
   "id": "76d36d49",
   "metadata": {},
   "outputs": [
    {
     "data": {
      "application/pdf": "[encoded data removed]"
     },
     "execution_count": 20,
     "metadata": {},
     "output_type": "execute_result"
    }
   ],
   "source": [
    "using Plots\n",
    "x(n) =  n == 1 ? 1 : 1 + 1 / x(n-1)\n",
    "scatter([x(n) for n = 1:10], legend=false)"
   ]
  },
  {
   "cell_type": "code",
   "execution_count": 21,
   "id": "2bfb7f01",
   "metadata": {},
   "outputs": [
    {
     "data": {
      "application/pdf": "[encoded data removed]"
     },
     "execution_count": 21,
     "metadata": {},
     "output_type": "execute_result"
    }
   ],
   "source": [
    "using Plots, LaTeXStrings\n",
    "x(n) =  n == 1 ? 1 : 1 + 1 / x(n-1)\n",
    "n1 = 1:2:10\n",
    "n2 = 2:2:10\n",
    "scatter(n1, x.(n1), label=L\"$x_{2n-1}$\")\n",
    "scatter!(n2, x.(n2), label=L\"$x_{2n}$\")"
   ]
  },
  {
   "cell_type": "code",
   "execution_count": 22,
   "id": "2bf63787",
   "metadata": {
    "results": "hidden"
   },
   "outputs": [],
   "source": [
    "#| echo: false\n",
    "using QuizQuestions\n",
    "nothing"
   ]
  },
  {
   "cell_type": "code",
   "execution_count": 23,
   "id": "2ebf9287",
   "metadata": {
    "hold": true
   },
   "outputs": [
    {
     "data": {
      "text/html": [
       "<script>\n",
       "if (typeof quizquestions_scorecard === 'undefined') {\n",
       "   quizquestions_scorecard = {};\n",
       "}\n",
       "var ID = \"NjctHD1g\"\n",
       "if (typeof quizquestions_scorecard[ID] === 'undefined') {\n",
       "      quizquestions_scorecard[ID] = {attempts: 0, correct: false};\n",
       "}\n",
       "</script>\n",
       "<form class=\"mx-2 my-3 mw-100\" name='WeaveQuestion' data-id='NjctHD1g' data-controltype=''>\n",
       "  <div class='form-group '>\n",
       "    <div class='controls'>\n",
       "      <div class=\"form\" id=\"controls_NjctHD1g\">\n",
       "        <div style=\"padding-top: 5px\">\n",
       "    </br>\n",
       "<div class=\"input-group\">\n",
       "    <input id=\"NjctHD1g\" type=\"number\" class=\"form-control\" placeholder=\"Respuesta numérica\">\n",
       "    <span  class=\"input-group-append\" href=\"#\" title=\"Introducir hasta 5 decimales\">&nbsp;🎁</span>\n",
       "</div>\n",
       "\n",
       "    \n",
       "        </div>\n",
       "      </div>\n",
       "      <div id='NjctHD1g_message' style=\"padding-bottom: 15px\"></div>\n",
       "    </div>\n",
       "  </div>\n",
       "</form>\n",
       "\n",
       "<script text='text/javascript'>\n",
       "document.getElementById(\"NjctHD1g\").addEventListener(\"change\", function() {\n",
       "  var correct = (Math.abs(this.value - 0.5175292153589316) <= 1.0e-5);\n",
       "  var msgBox = document.getElementById('NjctHD1g_message');\n",
       "  \n",
       "    quizquestions_scorecard[\"NjctHD1g\"][\"attempts\"] += 1;\n",
       "\n",
       "  if(correct) {\n",
       "    msgBox.innerHTML = \"<div class='pluto-output admonition note alert alert-success'><span> 👍&nbsp; Correcto </span></div>\";\n",
       "    var explanation = document.getElementById(\"explanation_NjctHD1g\")\n",
       "    if (explanation != null) {\n",
       "       explanation.style.display = \"none\";\n",
       "    }\n",
       "      quizquestions_scorecard[\"NjctHD1g\"][\"correct\"] = true;\n",
       "  if (typeof score_summary !== 'undefined') {\n",
       "     score_summary()\n",
       "  }\n",
       "\n",
       "\n",
       "  } else {\n",
       "    msgBox.innerHTML = \"<div class='pluto-output admonition alert alert-danger'><span>👎&nbsp; Incorrecto </span></div>\";\n",
       "    var explanation = document.getElementById(\"explanation_NjctHD1g\")\n",
       "    if (explanation != null) {\n",
       "       explanation.style.display = \"block\";\n",
       "    }\n",
       "      quizquestions_scorecard[\"NjctHD1g\"][\"correct\"] = false;\n",
       "  if (typeof score_summary !== 'undefined') {\n",
       "     score_summary()\n",
       "  }\n",
       "\n",
       "  }\n",
       "\n",
       "});\n",
       "\n",
       "</script>\n"
      ],
      "text/latex": [
       "\\vspace{18pt}*Hint: *\n",
       "\n",
       "Introducir hasta 5 decimales\n",
       "\n"
      ],
      "text/plain": [
       "QuizQuestions.Numericq(0.5175292153589316, 1.0e-5, \"\", \"\", \"Introducir hasta 5 decimales\", \"\", nothing)"
      ]
     },
     "execution_count": 23,
     "metadata": {},
     "output_type": "execute_result"
    }
   ],
   "source": [
    "#| echo: false\n",
    "x(n)=(3n^2+n)/(6n^2-1)\n",
    "numericq(x(10), 1e-5, hint=\"Introducir hasta 5 decimales\")"
   ]
  },
  {
   "cell_type": "code",
   "execution_count": 24,
   "id": "e50153c0",
   "metadata": {
    "hold": true
   },
   "outputs": [
    {
     "data": {
      "text/html": [
       "<script>\n",
       "if (typeof quizquestions_scorecard === 'undefined') {\n",
       "   quizquestions_scorecard = {};\n",
       "}\n",
       "var ID = \"rcvXcrJL\"\n",
       "if (typeof quizquestions_scorecard[ID] === 'undefined') {\n",
       "      quizquestions_scorecard[ID] = {attempts: 0, correct: false};\n",
       "}\n",
       "</script>\n",
       "<form class=\"mx-2 my-3 mw-100\" name='WeaveQuestion' data-id='rcvXcrJL' data-controltype=''>\n",
       "  <div class='form-group '>\n",
       "    <div class='controls'>\n",
       "      <div class=\"form\" id=\"controls_rcvXcrJL\">\n",
       "        <div style=\"padding-top: 5px\">\n",
       "    <div class=\"form-check\">\n",
       "    <label class=\"form-check-label\" for=\"radio_rcvXcrJL_1\">\n",
       "      <input class=\"form-check-input\" type=\"radio\" name=\"radio_rcvXcrJL\"\n",
       "              id=\"radio_rcvXcrJL_1\" value=\"1\">\n",
       "      </input>\n",
       "      <span class=\"label-body px-1\">\n",
       "        0.5\n",
       "      </span>\n",
       "    </label>\n",
       "</div>\n",
       "<div class=\"form-check\">\n",
       "    <label class=\"form-check-label\" for=\"radio_rcvXcrJL_2\">\n",
       "      <input class=\"form-check-input\" type=\"radio\" name=\"radio_rcvXcrJL\"\n",
       "              id=\"radio_rcvXcrJL_2\" value=\"2\">\n",
       "      </input>\n",
       "      <span class=\"label-body px-1\">\n",
       "        1.5\n",
       "      </span>\n",
       "    </label>\n",
       "</div>\n",
       "<div class=\"form-check\">\n",
       "    <label class=\"form-check-label\" for=\"radio_rcvXcrJL_3\">\n",
       "      <input class=\"form-check-input\" type=\"radio\" name=\"radio_rcvXcrJL\"\n",
       "              id=\"radio_rcvXcrJL_3\" value=\"3\">\n",
       "      </input>\n",
       "      <span class=\"label-body px-1\">\n",
       "        0\n",
       "      </span>\n",
       "    </label>\n",
       "</div>\n",
       "<div class=\"form-check\">\n",
       "    <label class=\"form-check-label\" for=\"radio_rcvXcrJL_4\">\n",
       "      <input class=\"form-check-input\" type=\"radio\" name=\"radio_rcvXcrJL\"\n",
       "              id=\"radio_rcvXcrJL_4\" value=\"4\">\n",
       "      </input>\n",
       "      <span class=\"label-body px-1\">\n",
       "        No converge\n",
       "      </span>\n",
       "    </label>\n",
       "</div>\n",
       "<div class=\"form-check\">\n",
       "    <label class=\"form-check-label\" for=\"radio_rcvXcrJL_5\">\n",
       "      <input class=\"form-check-input\" type=\"radio\" name=\"radio_rcvXcrJL\"\n",
       "              id=\"radio_rcvXcrJL_5\" value=\"5\">\n",
       "      </input>\n",
       "      <span class=\"label-body px-1\">\n",
       "        1\n",
       "      </span>\n",
       "    </label>\n",
       "</div>\n",
       "\n",
       "    \n",
       "        </div>\n",
       "      </div>\n",
       "      <div id='rcvXcrJL_message' style=\"padding-bottom: 15px\"></div>\n",
       "    </div>\n",
       "  </div>\n",
       "</form>\n",
       "\n",
       "<script text='text/javascript'>\n",
       "document.querySelectorAll('input[name=\"radio_rcvXcrJL\"]').forEach(function(rb) {\n",
       "rb.addEventListener(\"change\", function() {\n",
       "    var correct = rb.value == 1;\n",
       "    var msgBox = document.getElementById('rcvXcrJL_message');\n",
       "    \n",
       "    quizquestions_scorecard[\"rcvXcrJL\"][\"attempts\"] += 1;\n",
       "\n",
       "  if(correct) {\n",
       "    msgBox.innerHTML = \"<div class='pluto-output admonition note alert alert-success'><span> 👍&nbsp; Correcto </span></div>\";\n",
       "    var explanation = document.getElementById(\"explanation_rcvXcrJL\")\n",
       "    if (explanation != null) {\n",
       "       explanation.style.display = \"none\";\n",
       "    }\n",
       "      quizquestions_scorecard[\"rcvXcrJL\"][\"correct\"] = true;\n",
       "  if (typeof score_summary !== 'undefined') {\n",
       "     score_summary()\n",
       "  }\n",
       "\n",
       "\n",
       "  } else {\n",
       "    msgBox.innerHTML = \"<div class='pluto-output admonition alert alert-danger'><span>👎&nbsp; Incorrecto </span></div>\";\n",
       "    var explanation = document.getElementById(\"explanation_rcvXcrJL\")\n",
       "    if (explanation != null) {\n",
       "       explanation.style.display = \"block\";\n",
       "    }\n",
       "      quizquestions_scorecard[\"rcvXcrJL\"][\"correct\"] = false;\n",
       "  if (typeof score_summary !== 'undefined') {\n",
       "     score_summary()\n",
       "  }\n",
       "\n",
       "  }\n",
       "\n",
       "})});\n",
       "\n",
       "</script>\n"
      ],
      "text/latex": [
       "${\\quad\\Box}$ 0.5\n",
       "\n",
       "${\\quad\\Box}$ 1.5\n",
       "\n",
       "${\\quad\\Box}$ 0\n",
       "\n",
       "${\\quad\\Box}$ No converge\n",
       "\n",
       "${\\quad\\Box}$ 1\n",
       "\n"
      ],
      "text/plain": [
       "QuizQuestions.Radioq((\"0.5\", \"1.5\", \"0\", \"No converge\", \"1\"), 1, [1, 2, 3, 4, 5], (\"0.5\", \"1.5\", \"0\", \"No converge\", \"1\"), \"\", \"\", \"\", false)"
      ]
     },
     "execution_count": 24,
     "metadata": {},
     "output_type": "execute_result"
    }
   ],
   "source": [
    "#| echo: false\n",
    "choices = (\"0\", \"0.5\", \"1\", \"1.5\", \"No converge\")\n",
    "answer = 2\n",
    "radioq(choices, answer)"
   ]
  },
  {
   "cell_type": "code",
   "execution_count": 25,
   "id": "54bb7f0b",
   "metadata": {},
   "outputs": [
    {
     "data": {
      "text/html": [
       "<script>\n",
       "if (typeof quizquestions_scorecard === 'undefined') {\n",
       "   quizquestions_scorecard = {};\n",
       "}\n",
       "var ID = \"WQSlU3cq\"\n",
       "if (typeof quizquestions_scorecard[ID] === 'undefined') {\n",
       "      quizquestions_scorecard[ID] = {attempts: 0, correct: false};\n",
       "}\n",
       "</script>\n",
       "<form class=\"mx-2 my-3 mw-100\" name='WeaveQuestion' data-id='WQSlU3cq' data-controltype=''>\n",
       "  <div class='form-group '>\n",
       "    <div class='controls'>\n",
       "      <div class=\"form\" id=\"controls_WQSlU3cq\">\n",
       "        <div style=\"padding-top: 5px\">\n",
       "    <div>\n",
       "<img  id=\"hotspot_WQSlU3cq\" src=\"data:image/gif;base64,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\"/>\n",
       "</div>\n",
       "\n",
       "    \n",
       "        </div>\n",
       "      </div>\n",
       "      <div id='WQSlU3cq_message' style=\"padding-bottom: 15px\"></div>\n",
       "    </div>\n",
       "  </div>\n",
       "</form>\n",
       "\n",
       "<script text='text/javascript'>\n",
       "  document.getElementById(\"hotspot_WQSlU3cq\").addEventListener(\"click\", function(e) {\n",
       "      var u = e.offsetX;\n",
       "      var v = e.offsetY;\n",
       "      var w = this.offsetWidth;\n",
       "      var h = this.offsetHeight\n",
       "\n",
       "      var x = u/w;\n",
       "      var y = (h-v)/h\n",
       "\n",
       "      var correct = (x >= 0.0 && x <= 0.5 && y >= 0.0 && y <= 0.5);\n",
       "      var msgBox = document.getElementById('WQSlU3cq_message');\n",
       "      \n",
       "    quizquestions_scorecard[\"WQSlU3cq\"][\"attempts\"] += 1;\n",
       "\n",
       "  if(correct) {\n",
       "    msgBox.innerHTML = \"<div class='pluto-output admonition note alert alert-success'><span> 👍&nbsp; Correcto </span></div>\";\n",
       "    var explanation = document.getElementById(\"explanation_WQSlU3cq\")\n",
       "    if (explanation != null) {\n",
       "       explanation.style.display = \"none\";\n",
       "    }\n",
       "      quizquestions_scorecard[\"WQSlU3cq\"][\"correct\"] = true;\n",
       "  if (typeof score_summary !== 'undefined') {\n",
       "     score_summary()\n",
       "  }\n",
       "\n",
       "\n",
       "  } else {\n",
       "    msgBox.innerHTML = \"<div class='pluto-output admonition alert alert-danger'><span>👎&nbsp; Incorrecto </span></div>\";\n",
       "    var explanation = document.getElementById(\"explanation_WQSlU3cq\")\n",
       "    if (explanation != null) {\n",
       "       explanation.style.display = \"block\";\n",
       "    }\n",
       "      quizquestions_scorecard[\"WQSlU3cq\"][\"correct\"] = false;\n",
       "  if (typeof score_summary !== 'undefined') {\n",
       "     score_summary()\n",
       "  }\n",
       "\n",
       "  }\n",
       "\n",
       "\n",
       "  })\n",
       "\n",
       "</script>\n"
      ],
      "text/latex": [
       "insert image here\n"
      ],
      "text/plain": [
       "QuizQuestions.HotspotQ(\"img/sucesiones/graficas-sucesiones.png\", (0, 0.5), (0, 0.5), \"\", \"\", \"\", nothing)"
      ]
     },
     "execution_count": 25,
     "metadata": {},
     "output_type": "execute_result"
    }
   ],
   "source": [
    "#| echo: false\n",
    "using Plots\n",
    "x(n) = n==1 ? 3 : sqrt(2x(n-1))\n",
    "y(n) = n==1 ? 3 : 1 + 3/x(n-1)\n",
    "p1 = scatter([sqrt(n) for n=1:50], legend=false)\n",
    "p2 = scatter([(1+2/n)^n for n=1:50], legend=false)\n",
    "p3 = scatter([x(n) for n=1:50], legend=false)\n",
    "p4 = scatter([y(n) for n=1:50], legend=false)\n",
    "l = @layout [a b; c d]\n",
    "p = plot(p1, p2, p3, p4, layout=l)\n",
    "imgfile = \"img/sucesiones/graficas-sucesiones.png\"\n",
    "savefig(p, imgfile)\n",
    "hotspotq(imgfile, (0,1/2), (0, 1/2))"
   ]
  },
  {
   "cell_type": "code",
   "execution_count": 26,
   "id": "bcb0e490",
   "metadata": {},
   "outputs": [
    {
     "data": {
      "text/html": [
       "<script>\n",
       "if (typeof quizquestions_scorecard === 'undefined') {\n",
       "   quizquestions_scorecard = {};\n",
       "}\n",
       "var ID = \"AxdyWODf\"\n",
       "if (typeof quizquestions_scorecard[ID] === 'undefined') {\n",
       "      quizquestions_scorecard[ID] = {attempts: 0, correct: false};\n",
       "}\n",
       "</script>\n",
       "<form class=\"mx-2 my-3 mw-100\" name='WeaveQuestion' data-id='AxdyWODf' data-controltype=''>\n",
       "  <div class='form-group '>\n",
       "    <div class='controls'>\n",
       "      <div class=\"form\" id=\"controls_AxdyWODf\">\n",
       "        <div style=\"padding-top: 5px\">\n",
       "    <div class=\"form-check\">\n",
       "    <label class=\"form-check-label\" for=\"radio_AxdyWODf_1\">\n",
       "      <input class=\"form-check-input\" type=\"radio\" name=\"radio_AxdyWODf\"\n",
       "              id=\"radio_AxdyWODf_1\" value=\"1\">\n",
       "      </input>\n",
       "      <span class=\"label-body px-1\">\n",
       "        Si\n",
       "      </span>\n",
       "    </label>\n",
       "</div>\n",
       "<div class=\"form-check\">\n",
       "    <label class=\"form-check-label\" for=\"radio_AxdyWODf_2\">\n",
       "      <input class=\"form-check-input\" type=\"radio\" name=\"radio_AxdyWODf\"\n",
       "              id=\"radio_AxdyWODf_2\" value=\"2\">\n",
       "      </input>\n",
       "      <span class=\"label-body px-1\">\n",
       "        No\n",
       "      </span>\n",
       "    </label>\n",
       "</div>\n",
       "\n",
       "    \n",
       "        </div>\n",
       "      </div>\n",
       "      <div id='AxdyWODf_message' style=\"padding-bottom: 15px\"></div>\n",
       "    </div>\n",
       "  </div>\n",
       "</form>\n",
       "\n",
       "<script text='text/javascript'>\n",
       "document.querySelectorAll('input[name=\"radio_AxdyWODf\"]').forEach(function(rb) {\n",
       "rb.addEventListener(\"change\", function() {\n",
       "    var correct = rb.value == 1;\n",
       "    var msgBox = document.getElementById('AxdyWODf_message');\n",
       "    \n",
       "    quizquestions_scorecard[\"AxdyWODf\"][\"attempts\"] += 1;\n",
       "\n",
       "  if(correct) {\n",
       "    msgBox.innerHTML = \"<div class='pluto-output admonition note alert alert-success'><span> 👍&nbsp; Correcto </span></div>\";\n",
       "    var explanation = document.getElementById(\"explanation_AxdyWODf\")\n",
       "    if (explanation != null) {\n",
       "       explanation.style.display = \"none\";\n",
       "    }\n",
       "      quizquestions_scorecard[\"AxdyWODf\"][\"correct\"] = true;\n",
       "  if (typeof score_summary !== 'undefined') {\n",
       "     score_summary()\n",
       "  }\n",
       "\n",
       "\n",
       "  } else {\n",
       "    msgBox.innerHTML = \"<div class='pluto-output admonition alert alert-danger'><span>👎&nbsp; Incorrecto </span></div>\";\n",
       "    var explanation = document.getElementById(\"explanation_AxdyWODf\")\n",
       "    if (explanation != null) {\n",
       "       explanation.style.display = \"block\";\n",
       "    }\n",
       "      quizquestions_scorecard[\"AxdyWODf\"][\"correct\"] = false;\n",
       "  if (typeof score_summary !== 'undefined') {\n",
       "     score_summary()\n",
       "  }\n",
       "\n",
       "  }\n",
       "\n",
       "})});\n",
       "\n",
       "</script>\n"
      ],
      "text/latex": [
       "${\\quad\\Box}$ Si\n",
       "\n",
       "${\\quad\\Box}$ No\n",
       "\n"
      ],
      "text/plain": [
       "QuizQuestions.Radioq([\"Si\", \"No\"], 1, [1, 2], [\"Si\", \"No\"], \"\", \"\", \"\", false)"
      ]
     },
     "execution_count": 26,
     "metadata": {},
     "output_type": "execute_result"
    }
   ],
   "source": [
    "#| echo: false\n",
    "yesnoq(\"yes\")"
   ]
  },
  {
   "cell_type": "code",
   "execution_count": 27,
   "id": "a1843cce",
   "metadata": {},
   "outputs": [
    {
     "data": {
      "text/html": [
       "<script>\n",
       "if (typeof quizquestions_scorecard === 'undefined') {\n",
       "   quizquestions_scorecard = {};\n",
       "}\n",
       "var ID = \"CQ6e2QTV\"\n",
       "if (typeof quizquestions_scorecard[ID] === 'undefined') {\n",
       "      quizquestions_scorecard[ID] = {attempts: 0, correct: false};\n",
       "}\n",
       "</script>\n",
       "<form class=\"mx-2 my-3 mw-100\" name='WeaveQuestion' data-id='CQ6e2QTV' data-controltype=''>\n",
       "  <div class='form-group '>\n",
       "    <div class='controls'>\n",
       "      <div class=\"form\" id=\"controls_CQ6e2QTV\">\n",
       "        <div style=\"padding-top: 5px\">\n",
       "    <div class=\"form-check\">\n",
       "    <label class=\"form-check-label\" for=\"radio_CQ6e2QTV_1\">\n",
       "      <input class=\"form-check-input\" type=\"radio\" name=\"radio_CQ6e2QTV\"\n",
       "              id=\"radio_CQ6e2QTV_1\" value=\"1\">\n",
       "      </input>\n",
       "      <span class=\"label-body px-1\">\n",
       "        Si\n",
       "      </span>\n",
       "    </label>\n",
       "</div>\n",
       "<div class=\"form-check\">\n",
       "    <label class=\"form-check-label\" for=\"radio_CQ6e2QTV_2\">\n",
       "      <input class=\"form-check-input\" type=\"radio\" name=\"radio_CQ6e2QTV\"\n",
       "              id=\"radio_CQ6e2QTV_2\" value=\"2\">\n",
       "      </input>\n",
       "      <span class=\"label-body px-1\">\n",
       "        No\n",
       "      </span>\n",
       "    </label>\n",
       "</div>\n",
       "\n",
       "    \n",
       "        </div>\n",
       "      </div>\n",
       "      <div id='CQ6e2QTV_message' style=\"padding-bottom: 15px\"></div>\n",
       "    </div>\n",
       "  </div>\n",
       "</form>\n",
       "\n",
       "<script text='text/javascript'>\n",
       "document.querySelectorAll('input[name=\"radio_CQ6e2QTV\"]').forEach(function(rb) {\n",
       "rb.addEventListener(\"change\", function() {\n",
       "    var correct = rb.value == 2;\n",
       "    var msgBox = document.getElementById('CQ6e2QTV_message');\n",
       "    \n",
       "    quizquestions_scorecard[\"CQ6e2QTV\"][\"attempts\"] += 1;\n",
       "\n",
       "  if(correct) {\n",
       "    msgBox.innerHTML = \"<div class='pluto-output admonition note alert alert-success'><span> 👍&nbsp; Correcto </span></div>\";\n",
       "    var explanation = document.getElementById(\"explanation_CQ6e2QTV\")\n",
       "    if (explanation != null) {\n",
       "       explanation.style.display = \"none\";\n",
       "    }\n",
       "      quizquestions_scorecard[\"CQ6e2QTV\"][\"correct\"] = true;\n",
       "  if (typeof score_summary !== 'undefined') {\n",
       "     score_summary()\n",
       "  }\n",
       "\n",
       "\n",
       "  } else {\n",
       "    msgBox.innerHTML = \"<div class='pluto-output admonition alert alert-danger'><span>👎&nbsp; Incorrecto </span></div>\";\n",
       "    var explanation = document.getElementById(\"explanation_CQ6e2QTV\")\n",
       "    if (explanation != null) {\n",
       "       explanation.style.display = \"block\";\n",
       "    }\n",
       "      quizquestions_scorecard[\"CQ6e2QTV\"][\"correct\"] = false;\n",
       "  if (typeof score_summary !== 'undefined') {\n",
       "     score_summary()\n",
       "  }\n",
       "\n",
       "  }\n",
       "\n",
       "})});\n",
       "\n",
       "</script>\n"
      ],
      "text/latex": [
       "${\\quad\\Box}$ Si\n",
       "\n",
       "${\\quad\\Box}$ No\n",
       "\n"
      ],
      "text/plain": [
       "QuizQuestions.Radioq([\"Si\", \"No\"], 2, [1, 2], [\"Si\", \"No\"], \"\", \"\", \"\", false)"
      ]
     },
     "execution_count": 27,
     "metadata": {},
     "output_type": "execute_result"
    }
   ],
   "source": [
    "#| echo: false\n",
    "yesnoq(\"no\")"
   ]
  },
  {
   "cell_type": "code",
   "execution_count": 28,
   "id": "f632ce6c",
   "metadata": {},
   "outputs": [
    {
     "data": {
      "text/html": [
       "<script>\n",
       "if (typeof quizquestions_scorecard === 'undefined') {\n",
       "   quizquestions_scorecard = {};\n",
       "}\n",
       "var ID = \"zC5sOSFh\"\n",
       "if (typeof quizquestions_scorecard[ID] === 'undefined') {\n",
       "      quizquestions_scorecard[ID] = {attempts: 0, correct: false};\n",
       "}\n",
       "</script>\n",
       "<form class=\"mx-2 my-3 mw-100\" name='WeaveQuestion' data-id='zC5sOSFh' data-controltype=''>\n",
       "  <div class='form-group '>\n",
       "    <div class='controls'>\n",
       "      <div class=\"form\" id=\"controls_zC5sOSFh\">\n",
       "        <div style=\"padding-top: 5px\">\n",
       "    <div class=\"form-check\">\n",
       "    <label class=\"form-check-label\" for=\"radio_zC5sOSFh_1\">\n",
       "      <input class=\"form-check-input\" type=\"radio\" name=\"radio_zC5sOSFh\"\n",
       "              id=\"radio_zC5sOSFh_1\" value=\"1\">\n",
       "      </input>\n",
       "      <span class=\"label-body px-1\">\n",
       "        Si\n",
       "      </span>\n",
       "    </label>\n",
       "</div>\n",
       "<div class=\"form-check\">\n",
       "    <label class=\"form-check-label\" for=\"radio_zC5sOSFh_2\">\n",
       "      <input class=\"form-check-input\" type=\"radio\" name=\"radio_zC5sOSFh\"\n",
       "              id=\"radio_zC5sOSFh_2\" value=\"2\">\n",
       "      </input>\n",
       "      <span class=\"label-body px-1\">\n",
       "        No\n",
       "      </span>\n",
       "    </label>\n",
       "</div>\n",
       "\n",
       "    \n",
       "        </div>\n",
       "      </div>\n",
       "      <div id='zC5sOSFh_message' style=\"padding-bottom: 15px\"></div>\n",
       "    </div>\n",
       "  </div>\n",
       "</form>\n",
       "\n",
       "<script text='text/javascript'>\n",
       "document.querySelectorAll('input[name=\"radio_zC5sOSFh\"]').forEach(function(rb) {\n",
       "rb.addEventListener(\"change\", function() {\n",
       "    var correct = rb.value == 1;\n",
       "    var msgBox = document.getElementById('zC5sOSFh_message');\n",
       "    \n",
       "    quizquestions_scorecard[\"zC5sOSFh\"][\"attempts\"] += 1;\n",
       "\n",
       "  if(correct) {\n",
       "    msgBox.innerHTML = \"<div class='pluto-output admonition note alert alert-success'><span> 👍&nbsp; Correcto </span></div>\";\n",
       "    var explanation = document.getElementById(\"explanation_zC5sOSFh\")\n",
       "    if (explanation != null) {\n",
       "       explanation.style.display = \"none\";\n",
       "    }\n",
       "      quizquestions_scorecard[\"zC5sOSFh\"][\"correct\"] = true;\n",
       "  if (typeof score_summary !== 'undefined') {\n",
       "     score_summary()\n",
       "  }\n",
       "\n",
       "\n",
       "  } else {\n",
       "    msgBox.innerHTML = \"<div class='pluto-output admonition alert alert-danger'><span>👎&nbsp; Incorrecto </span></div>\";\n",
       "    var explanation = document.getElementById(\"explanation_zC5sOSFh\")\n",
       "    if (explanation != null) {\n",
       "       explanation.style.display = \"block\";\n",
       "    }\n",
       "      quizquestions_scorecard[\"zC5sOSFh\"][\"correct\"] = false;\n",
       "  if (typeof score_summary !== 'undefined') {\n",
       "     score_summary()\n",
       "  }\n",
       "\n",
       "  }\n",
       "\n",
       "})});\n",
       "\n",
       "</script>\n"
      ],
      "text/latex": [
       "${\\quad\\Box}$ Si\n",
       "\n",
       "${\\quad\\Box}$ No\n",
       "\n"
      ],
      "text/plain": [
       "QuizQuestions.Radioq([\"Si\", \"No\"], 1, [1, 2], [\"Si\", \"No\"], \"\", \"\", \"\", false)"
      ]
     },
     "execution_count": 28,
     "metadata": {},
     "output_type": "execute_result"
    }
   ],
   "source": [
    "#| echo: false\n",
    "yesnoq(\"yes\")"
   ]
  },
  {
   "cell_type": "code",
   "execution_count": 29,
   "id": "c6a78b76",
   "metadata": {},
   "outputs": [
    {
     "data": {
      "text/html": [
       "<script>\n",
       "if (typeof quizquestions_scorecard === 'undefined') {\n",
       "   quizquestions_scorecard = {};\n",
       "}\n",
       "var ID = \"bwf46Ygb\"\n",
       "if (typeof quizquestions_scorecard[ID] === 'undefined') {\n",
       "      quizquestions_scorecard[ID] = {attempts: 0, correct: false};\n",
       "}\n",
       "</script>\n",
       "<form class=\"mx-2 my-3 mw-100\" name='WeaveQuestion' data-id='bwf46Ygb' data-controltype=''>\n",
       "  <div class='form-group '>\n",
       "    <div class='controls'>\n",
       "      <div class=\"form\" id=\"controls_bwf46Ygb\">\n",
       "        <div style=\"padding-top: 5px\">\n",
       "    </br>\n",
       "<div class=\"input-group\">\n",
       "    <input id=\"bwf46Ygb\" type=\"number\" class=\"form-control\" placeholder=\"Respuesta numérica\">\n",
       "    <span  class=\"input-group-append\" href=\"#\" title=\"Introducir hasta 5 decimales\">&nbsp;🎁</span>\n",
       "</div>\n",
       "\n",
       "    \n",
       "        </div>\n",
       "      </div>\n",
       "      <div id='bwf46Ygb_message' style=\"padding-bottom: 15px\"></div>\n",
       "    </div>\n",
       "  </div>\n",
       "</form>\n",
       "\n",
       "<script text='text/javascript'>\n",
       "document.getElementById(\"bwf46Ygb\").addEventListener(\"change\", function() {\n",
       "  var correct = (Math.abs(this.value - 7.38905609893065) <= 1.0e-5);\n",
       "  var msgBox = document.getElementById('bwf46Ygb_message');\n",
       "  \n",
       "    quizquestions_scorecard[\"bwf46Ygb\"][\"attempts\"] += 1;\n",
       "\n",
       "  if(correct) {\n",
       "    msgBox.innerHTML = \"<div class='pluto-output admonition note alert alert-success'><span> 👍&nbsp; Correcto </span></div>\";\n",
       "    var explanation = document.getElementById(\"explanation_bwf46Ygb\")\n",
       "    if (explanation != null) {\n",
       "       explanation.style.display = \"none\";\n",
       "    }\n",
       "      quizquestions_scorecard[\"bwf46Ygb\"][\"correct\"] = true;\n",
       "  if (typeof score_summary !== 'undefined') {\n",
       "     score_summary()\n",
       "  }\n",
       "\n",
       "\n",
       "  } else {\n",
       "    msgBox.innerHTML = \"<div class='pluto-output admonition alert alert-danger'><span>👎&nbsp; Incorrecto </span></div>\";\n",
       "    var explanation = document.getElementById(\"explanation_bwf46Ygb\")\n",
       "    if (explanation != null) {\n",
       "       explanation.style.display = \"block\";\n",
       "    }\n",
       "      quizquestions_scorecard[\"bwf46Ygb\"][\"correct\"] = false;\n",
       "  if (typeof score_summary !== 'undefined') {\n",
       "     score_summary()\n",
       "  }\n",
       "\n",
       "  }\n",
       "\n",
       "});\n",
       "\n",
       "</script>\n"
      ],
      "text/latex": [
       "\\vspace{18pt}*Hint: *\n",
       "\n",
       "Introducir hasta 5 decimales\n",
       "\n"
      ],
      "text/plain": [
       "QuizQuestions.Numericq(7.38905609893065, 1.0e-5, \"\", \"\", \"Introducir hasta 5 decimales\", \"\", nothing)"
      ]
     },
     "execution_count": 29,
     "metadata": {},
     "output_type": "execute_result"
    }
   ],
   "source": [
    "#| echo: false\n",
    "numericq(exp(2), 1e-5, hint=\"Introducir hasta 5 decimales\")"
   ]
  }
 ],
 "metadata": {
  "kernelspec": {
   "display_name": "Julia 1.8.2",
   "language": "julia",
   "name": "julia-1.8"
  },
  "language_info": {
   "file_extension": ".jl",
   "mimetype": "application/julia",
   "name": "julia",
   "version": "1.8.5"
  }
 },
 "nbformat": 4,
 "nbformat_minor": 5
}