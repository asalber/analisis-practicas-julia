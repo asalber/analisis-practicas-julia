{
 "cells": [
  {
   "cell_type": "code",
   "execution_count": 1,
   "id": "fdd5960d",
   "metadata": {},
   "outputs": [],
   "source": [
    "import IJulia\n",
    "\n",
    "# The julia kernel has built in support for Revise.jl, so this is the \n",
    "# recommended approach for long-running sessions:\n",
    "# https://github.com/JuliaLang/IJulia.jl/blob/9b10fa9b879574bbf720f5285029e07758e50a5e/src/kernel.jl#L46-L51\n",
    "\n",
    "# Users should enable revise within .julia/config/startup_ijulia.jl:\n",
    "# https://timholy.github.io/Revise.jl/stable/config/#Using-Revise-automatically-within-Jupyter/IJulia-1\n",
    "\n",
    "# clear console history\n",
    "IJulia.clear_history()\n",
    "\n",
    "fig_width = 5.5\n",
    "fig_height = 3.5\n",
    "fig_format = :pdf\n",
    "fig_dpi = 300\n",
    "\n",
    "# no retina format type, use svg for high quality type/marks\n",
    "if fig_format == :retina\n",
    "  fig_format = :svg\n",
    "elseif fig_format == :pdf\n",
    "  fig_dpi = 96\n",
    "  # Enable PDF support for IJulia\n",
    "  IJulia.register_mime(MIME(\"application/pdf\"))\n",
    "end\n",
    "\n",
    "# convert inches to pixels\n",
    "fig_width = fig_width * fig_dpi\n",
    "fig_height = fig_height * fig_dpi\n",
    "\n",
    "# Intialize Plots w/ default fig width/height\n",
    "try\n",
    "  import Plots\n",
    "\n",
    "  # Plots.jl doesn't support PDF output for versions < 1.28.1\n",
    "  # so use png (if the DPI remains the default of 300 then set to 96)\n",
    "  if (Plots._current_plots_version < v\"1.28.1\") & (fig_format == :pdf)\n",
    "    Plots.gr(size=(fig_width, fig_height), fmt = :png, dpi = fig_dpi)\n",
    "  else\n",
    "    Plots.gr(size=(fig_width, fig_height), fmt = fig_format, dpi = fig_dpi)\n",
    "  end\n",
    "catch e\n",
    "  # @warn \"Plots init\" exception=(e, catch_backtrace())\n",
    "end\n",
    "\n",
    "# Initialize CairoMakie with default fig width/height\n",
    "try\n",
    "  import CairoMakie\n",
    "  \n",
    "  CairoMakie.activate!(type = string(fig_format))\n",
    "  CairoMakie.update_theme!(resolution=(fig_width, fig_height))\n",
    "catch e\n",
    "    # @warn \"CairoMakie init\" exception=(e, catch_backtrace())\n",
    "end\n",
    "  \n",
    "# Set run_path if specified\n",
    "try\n",
    "  run_path = raw\"/run/media/alf/datos/misrepositorios/docencia/analisis-practicas-julia\"\n",
    "  if !isempty(run_path)\n",
    "    cd(run_path)\n",
    "  end\n",
    "catch e\n",
    "  @warn \"Run path init:\" exception=(e, catch_backtrace())\n",
    "end\n",
    "\n",
    "\n",
    "# emulate old Pkg.installed beahvior, see\n",
    "# https://discourse.julialang.org/t/how-to-use-pkg-dependencies-instead-of-pkg-installed/36416/9\n",
    "import Pkg\n",
    "function isinstalled(pkg::String)\n",
    "  any(x -> x.name == pkg && x.is_direct_dep, values(Pkg.dependencies()))\n",
    "end\n",
    "\n",
    "# ojs_define\n",
    "if isinstalled(\"JSON\") && isinstalled(\"DataFrames\")\n",
    "  import JSON, DataFrames\n",
    "  global function ojs_define(; kwargs...)\n",
    "    convert(x) = x\n",
    "    convert(x::DataFrames.AbstractDataFrame) = Tables.rows(x)\n",
    "    content = Dict(\"contents\" => [Dict(\"name\" => k, \"value\" => convert(v)) for (k, v) in kwargs])\n",
    "    tag = \"<script type='ojs-define'>$(JSON.json(content))</script>\"\n",
    "    IJulia.display(MIME(\"text/html\"), tag)\n",
    "  end\n",
    "elseif isinstalled(\"JSON\")\n",
    "  import JSON\n",
    "  global function ojs_define(; kwargs...)\n",
    "    content = Dict(\"contents\" => [Dict(\"name\" => k, \"value\" => v) for (k, v) in kwargs])\n",
    "    tag = \"<script type='ojs-define'>$(JSON.json(content))</script>\"\n",
    "    IJulia.display(MIME(\"text/html\"), tag)\n",
    "  end\n",
    "else\n",
    "  global function ojs_define(; kwargs...)\n",
    "    @warn \"JSON package not available. Please install the JSON.jl package to use ojs_define.\"\n",
    "  end\n",
    "end\n",
    "\n",
    "\n",
    "# don't return kernel dependencies (b/c Revise should take care of dependencies)\n",
    "nothing\n"
   ]
  },
  {
   "cell_type": "code",
   "execution_count": 2,
   "id": "a4f37730",
   "metadata": {},
   "outputs": [],
   "source": [
    "using SymPy  # Para el cálculo simbólico de límites.\n",
    "using Plots  # Para el dibujo de gráficas.\n",
    "#plotlyjs() # Para obtener gráficos interactivos.\n",
    "using MTH229 # Para restringir la gráfica de una función a su dominio.\n",
    "using LaTeXStrings  # Para usar código LaTeX en los gráficos."
   ]
  },
  {
   "cell_type": "code",
   "execution_count": 3,
   "id": "fd6f41a1",
   "metadata": {},
   "outputs": [
    {
     "name": "stdout",
     "output_type": "stream",
     "text": [
      "[9.610000000000001, 9.302499999999998, 9.20111111111111, 9.150625, 9.1204, 9.100277777777777, 9.085918367346938, 9.075156250000001, 9.06679012345679, 9.060099999999998]"
     ]
    }
   ],
   "source": [
    "f(x) = x^2\n",
    "a = 3\n",
    "print([f(a+1/10i) for i = 1:10])"
   ]
  },
  {
   "cell_type": "code",
   "execution_count": 4,
   "id": "b5bc9ea6",
   "metadata": {},
   "outputs": [
    {
     "name": "stdout",
     "output_type": "stream",
     "text": [
      "[8.41, 8.7025, 8.801111111111112, 8.850625, 8.8804, 8.900277777777777, 8.914489795918367, 8.925156249999999, 8.933456790123458, 8.940100000000001]"
     ]
    }
   ],
   "source": [
    "print([f(a-1/10i) for i = 1:10])"
   ]
  },
  {
   "cell_type": "code",
   "execution_count": 5,
   "id": "5c47b3af",
   "metadata": {},
   "outputs": [
    {
     "data": {
      "application/pdf": "[encoded data removed]"
     },
     "execution_count": 5,
     "metadata": {},
     "output_type": "execute_result"
    }
   ],
   "source": [
    "xd = [a+1/10i for i=1:10]\n",
    "scatter(xd, f.(xd), label=\"Aproximación por la derecha\")\n",
    "xi = [a-1/10i for i=1:10]\n",
    "scatter!(xi, f.(xi), label=\"Aproximación por la izquierda\", legend=:topleft)"
   ]
  },
  {
   "cell_type": "code",
   "execution_count": 6,
   "id": "50a91396",
   "metadata": {},
   "outputs": [
    {
     "name": "stdout",
     "output_type": "stream",
     "text": [
      "Límite por la izquierda: 9\n",
      "Límite por la derecha: 9\n"
     ]
    }
   ],
   "source": [
    "@vars x real=true\n",
    "li = limit(f(x), x=>3, dir=\"-\")\n",
    "println(\"Límite por la izquierda: \", li)\n",
    "ld = limit(f(x), x=>3, dir=\"+\")\n",
    "println(\"Límite por la derecha: \", ld)"
   ]
  },
  {
   "cell_type": "code",
   "execution_count": 7,
   "id": "1b24e424",
   "metadata": {},
   "outputs": [
    {
     "name": "stdout",
     "output_type": "stream",
     "text": [
      "[2.5937424601000023, 2.7048138294215285, 2.7169239322355936, 2.7181459268249255, 2.718268237192297, 2.7182804690957534, 2.7182816941320813, 2.7182817983473577, 2.71828205201156, 2.7182820532347876]"
     ]
    }
   ],
   "source": [
    "g(x) = (1+x)^(1/x)\n",
    "a = 0\n",
    "print([g(a+1/10^i) for i = 1:10])"
   ]
  },
  {
   "cell_type": "code",
   "execution_count": 8,
   "id": "5ca34f39",
   "metadata": {},
   "outputs": [
    {
     "name": "stdout",
     "output_type": "stream",
     "text": [
      "[2.867971990792441, 2.7319990264290284, 2.7196422164428524, 2.71841775501015, 2.718295419980405, 2.7182831876793716, 2.7182819629423656, 2.7182818557091664, 2.7182817529399266, 2.718282053506616]"
     ]
    }
   ],
   "source": [
    "print([g(a-1/10^i) for i = 1:10])"
   ]
  },
  {
   "cell_type": "code",
   "execution_count": 9,
   "id": "224860e5",
   "metadata": {},
   "outputs": [
    {
     "name": "stdout",
     "output_type": "stream",
     "text": [
      "Límite por la izquierda: E\n",
      "Límite por la derecha: E\n"
     ]
    }
   ],
   "source": [
    "@vars x real=true\n",
    "li = limit(g(x), x=>0, dir=\"-\")\n",
    "println(\"Límite por la izquierda: \", li)\n",
    "ld = limit(g(x), x=>0, dir=\"+\")\n",
    "println(\"Límite por la derecha: \", ld)"
   ]
  },
  {
   "cell_type": "code",
   "execution_count": 10,
   "id": "897a4200",
   "metadata": {},
   "outputs": [
    {
     "data": {
      "application/pdf": "[encoded data removed]"
     },
     "execution_count": 10,
     "metadata": {},
     "output_type": "execute_result"
    }
   ],
   "source": [
    "using Plots\n",
    "f(x) = (1+2/x)^(x/2)\n",
    "plot(f, xlims=(-10,10), ylims=(0,6))"
   ]
  },
  {
   "cell_type": "code",
   "execution_count": 11,
   "id": "0321e101",
   "metadata": {},
   "outputs": [
    {
     "name": "stdout",
     "output_type": "stream",
     "text": [
      "Límite por la izquieda en -2: oo\n",
      "Límite por la izquieda en -2: "
     ]
    },
    {
     "name": "stdout",
     "output_type": "stream",
     "text": [
      "-oo\n",
      "Límite en -∞: E\n",
      "Límite en ∞: E\n",
      "Límite en 2: 2\n",
      "Límite en 0: "
     ]
    },
    {
     "name": "stdout",
     "output_type": "stream",
     "text": [
      "1\n"
     ]
    }
   ],
   "source": [
    "using SymPy\n",
    "@vars x real=true\n",
    "println(\"Límite por la izquieda en -2: \", limit(f(x), x=>-2, dir=\"-\"))\n",
    "println(\"Límite por la izquieda en -2: \", limit(f(x), x=>-2, dir=\"+\"))\n",
    "println(\"Límite en -∞: \", limit(f(x), x=>-oo))\n",
    "println(\"Límite en ∞: \", limit(f(x), x=>oo))\n",
    "println(\"Límite en 2: \", limit(f(x), x=>2))\n",
    "println(\"Límite en 0: \", limit(f(x), x=>0))"
   ]
  },
  {
   "cell_type": "code",
   "execution_count": 12,
   "id": "4c96e70a",
   "metadata": {},
   "outputs": [
    {
     "data": {
      "text/latex": [
       "$\\left\\langle -1, 1\\right\\rangle$"
      ],
      "text/plain": [
       "<-1, 1>"
      ]
     },
     "execution_count": 12,
     "metadata": {},
     "output_type": "execute_result"
    }
   ],
   "source": [
    "using SymPy\n",
    "@vars x real=true\n",
    "limit(sin(1/x), x=>0)"
   ]
  },
  {
   "cell_type": "code",
   "execution_count": 13,
   "id": "34ba6f23",
   "metadata": {},
   "outputs": [
    {
     "data": {
      "text/latex": [
       "$0$"
      ],
      "text/plain": [
       "0"
      ]
     },
     "execution_count": 13,
     "metadata": {},
     "output_type": "execute_result"
    }
   ],
   "source": [
    "limit(x*sin(1/x), x=>0)"
   ]
  },
  {
   "cell_type": "code",
   "execution_count": 14,
   "id": "95a947f8",
   "metadata": {},
   "outputs": [
    {
     "data": {
      "text/latex": [
       "$0$"
      ],
      "text/plain": [
       "0"
      ]
     },
     "execution_count": 14,
     "metadata": {},
     "output_type": "execute_result"
    }
   ],
   "source": [
    "limit(ℯ^(-x)*sin(x), x=>oo)"
   ]
  },
  {
   "cell_type": "code",
   "execution_count": 15,
   "id": "bf943499",
   "metadata": {},
   "outputs": [
    {
     "data": {
      "text/latex": [
       "$\\cos{\\left(a \\right)}$"
      ],
      "text/plain": [
       "cos(a)"
      ]
     },
     "execution_count": 15,
     "metadata": {},
     "output_type": "execute_result"
    }
   ],
   "source": [
    "@vars a real=true\n",
    "limit((sin(x)-sin(a))/(x-a), x=>a)"
   ]
  },
  {
   "cell_type": "code",
   "execution_count": 16,
   "id": "f27e0b88",
   "metadata": {},
   "outputs": [
    {
     "data": {
      "text/plain": [
       "NaN"
      ]
     },
     "execution_count": 16,
     "metadata": {},
     "output_type": "execute_result"
    }
   ],
   "source": [
    "f(x)=sin(x)/x\n",
    "f(0)"
   ]
  },
  {
   "cell_type": "code",
   "execution_count": 17,
   "id": "d76d5843",
   "metadata": {},
   "outputs": [
    {
     "data": {
      "text/latex": [
       "$1$"
      ],
      "text/plain": [
       "1"
      ]
     },
     "execution_count": 17,
     "metadata": {},
     "output_type": "execute_result"
    }
   ],
   "source": [
    "@vars x real=true\n",
    "f(x)=sin(x)/x\n",
    "limit(f(x), x=>0)"
   ]
  },
  {
   "cell_type": "code",
   "execution_count": 18,
   "id": "cdf8d0f6",
   "metadata": {},
   "outputs": [
    {
     "data": {
      "application/pdf": "[encoded data removed]"
     },
     "execution_count": 18,
     "metadata": {},
     "output_type": "execute_result"
    }
   ],
   "source": [
    "using Plots\n",
    "plot(f)"
   ]
  },
  {
   "cell_type": "code",
   "execution_count": 19,
   "id": "9bdbaf18",
   "metadata": {},
   "outputs": [
    {
     "data": {
      "text/plain": [
       "Inf"
      ]
     },
     "execution_count": 19,
     "metadata": {},
     "output_type": "execute_result"
    }
   ],
   "source": [
    "g(x)=cos(x)/(x-pi/2)\n",
    "g(pi/2)"
   ]
  },
  {
   "cell_type": "code",
   "execution_count": 20,
   "id": "99e63b0e",
   "metadata": {},
   "outputs": [
    {
     "data": {
      "text/latex": [
       "$\\infty$"
      ],
      "text/plain": [
       "∞"
      ]
     },
     "execution_count": 20,
     "metadata": {},
     "output_type": "execute_result"
    }
   ],
   "source": [
    "limit(g(x), x=>pi/2)"
   ]
  },
  {
   "cell_type": "code",
   "execution_count": 21,
   "id": "efc1ff7b",
   "metadata": {},
   "outputs": [
    {
     "data": {
      "application/pdf": "[encoded data removed]"
     },
     "execution_count": 21,
     "metadata": {},
     "output_type": "execute_result"
    }
   ],
   "source": [
    "using Plots\n",
    "plot(g)"
   ]
  },
  {
   "cell_type": "code",
   "execution_count": 22,
   "id": "339acbe7",
   "metadata": {},
   "outputs": [
    {
     "data": {
      "text/latex": [
       "$-1$"
      ],
      "text/plain": [
       "-1"
      ]
     },
     "execution_count": 22,
     "metadata": {},
     "output_type": "execute_result"
    }
   ],
   "source": [
    "g(x)=cos(x)/(x-Sym(pi)/2)\n",
    "limit(g(x), x=>Sym(pi)/2)"
   ]
  },
  {
   "cell_type": "code",
   "execution_count": 23,
   "id": "d9448006",
   "metadata": {},
   "outputs": [
    {
     "data": {
      "application/pdf": "[encoded data removed]"
     },
     "execution_count": 23,
     "metadata": {},
     "output_type": "execute_result"
    }
   ],
   "source": [
    "using Plots, MTH229, LaTeXStrings\n",
    "@vars x real=true\n",
    "g1(x) = x/(x-2)\n",
    "g2(x) = x^2/(2x-6)\n",
    "g(x) = x<=0 ? g1(x) : g2(x)\n",
    "plot(rangeclamp(g), xlims=(-5,10), ylims=(-5,10), xticks=-5:10, label = L\"g(x)\", legend=:topleft)"
   ]
  },
  {
   "cell_type": "code",
   "execution_count": 24,
   "id": "96de4d7b",
   "metadata": {},
   "outputs": [
    {
     "name": "stdout",
     "output_type": "stream",
     "text": [
      "Puntos fuera del dominio de la rama negativa: Sym[2]\n",
      "Puntos fuera del dominio de la rama positiva: Sym[3]\n"
     ]
    }
   ],
   "source": [
    "println(\"Puntos fuera del dominio de la rama negativa: \", solve(x-2))\n",
    "println(\"Puntos fuera del dominio de la rama positiva: \", solve(2x-6))"
   ]
  },
  {
   "cell_type": "code",
   "execution_count": 25,
   "id": "c8ba96a3",
   "metadata": {},
   "outputs": [
    {
     "name": "stdout",
     "output_type": "stream",
     "text": [
      "Límte en 3 por la izquierda: -oo\n",
      "Límte en 3 por la derecha: oo\n"
     ]
    }
   ],
   "source": [
    "println(\"Límte en 3 por la izquierda: \", limit(g(x), x=>3, dir=\"-\"))\n",
    "println(\"Límte en 3 por la derecha: \", limit(g(x), x=>3, dir=\"+\"))"
   ]
  },
  {
   "cell_type": "code",
   "execution_count": 26,
   "id": "b0e8180e",
   "metadata": {},
   "outputs": [
    {
     "data": {
      "application/pdf": "[encoded data removed]"
     },
     "execution_count": 26,
     "metadata": {},
     "output_type": "execute_result"
    }
   ],
   "source": [
    "vline!([3], label = L\"Asíntota vertical $x=3$\")"
   ]
  },
  {
   "cell_type": "code",
   "execution_count": 27,
   "id": "e48ecfe9",
   "metadata": {},
   "outputs": [
    {
     "name": "stdout",
     "output_type": "stream",
     "text": [
      "Límite en -∞: 1\n",
      "Límite en ∞: oo\n"
     ]
    }
   ],
   "source": [
    "println(\"Límite en -∞: \", limit(g1(x), x=>-oo))\n",
    "println(\"Límite en ∞: \", limit(g2(x), x=>oo))"
   ]
  },
  {
   "cell_type": "code",
   "execution_count": 28,
   "id": "a8d44619",
   "metadata": {},
   "outputs": [
    {
     "data": {
      "application/pdf": "[encoded data removed]"
     },
     "execution_count": 28,
     "metadata": {},
     "output_type": "execute_result"
    }
   ],
   "source": [
    "hline!([1], label = L\"Asíntota horizontal $y=1$\")"
   ]
  },
  {
   "cell_type": "code",
   "execution_count": 29,
   "id": "42c04b0e",
   "metadata": {},
   "outputs": [
    {
     "data": {
      "text/latex": [
       "$\\frac{1}{2}$"
      ],
      "text/plain": [
       "1/2"
      ]
     },
     "execution_count": 29,
     "metadata": {},
     "output_type": "execute_result"
    }
   ],
   "source": [
    "limit(g2(x)/x, x=>oo)"
   ]
  },
  {
   "cell_type": "code",
   "execution_count": 30,
   "id": "fe2ae0a4",
   "metadata": {},
   "outputs": [
    {
     "data": {
      "text/latex": [
       "$\\frac{3}{2}$"
      ],
      "text/plain": [
       "3/2"
      ]
     },
     "execution_count": 30,
     "metadata": {},
     "output_type": "execute_result"
    }
   ],
   "source": [
    "limit(g2(x)-x/2, x=>oo)"
   ]
  },
  {
   "cell_type": "code",
   "execution_count": 31,
   "id": "2cd2863a",
   "metadata": {},
   "outputs": [
    {
     "data": {
      "application/pdf": "[encoded data removed]"
     },
     "execution_count": 31,
     "metadata": {},
     "output_type": "execute_result"
    }
   ],
   "source": [
    "plot!(3/2+x/2, label = L\"Asíntota oblicua $y=\\frac{3}{2}+\\frac{1}{2}x$\")"
   ]
  },
  {
   "cell_type": "code",
   "execution_count": 32,
   "id": "7fd92008",
   "metadata": {},
   "outputs": [
    {
     "data": {
      "text/latex": [
       "$\\left[ \\begin{array}{r}3\\end{array} \\right]$\n"
      ],
      "text/plain": [
       "1-element Vector{Sym}:\n",
       " 3"
      ]
     },
     "execution_count": 32,
     "metadata": {},
     "output_type": "execute_result"
    }
   ],
   "source": [
    "@vars x a real=true\n",
    "h1(x) = (2x^2-2x)/(3x^2+x)\n",
    "h2(x) = (tan(x)-a*x)/x \n",
    "l1 = limit(h1(x), x=>0, dir=\"-\")\n",
    "l2 = limit(h2(x),x=>0, dir=\"+\")\n",
    "solve(Eq(l1,l2))"
   ]
  },
  {
   "cell_type": "code",
   "execution_count": 33,
   "id": "162eeb7e",
   "metadata": {},
   "outputs": [
    {
     "data": {
      "application/pdf": "[encoded data removed]"
     },
     "execution_count": 33,
     "metadata": {},
     "output_type": "execute_result"
    }
   ],
   "source": [
    "using Plots, MTH229, LaTeXStrings\n",
    "@syms x::real\n",
    "f1(x) = (x+1)/(x^2-1)\n",
    "f2(x) = 1/exp(1/(x^2-1))\n",
    "plot(f1, -4, 0, ylim=(-2,8), legend=false)\n",
    "plot!(rangeclamp(f2), 0, 4)"
   ]
  },
  {
   "cell_type": "code",
   "execution_count": 34,
   "id": "f1321348",
   "metadata": {},
   "outputs": [
    {
     "data": {
      "text/latex": [
       "$\\left[ \\begin{array}{r}-1\\\\1\\end{array} \\right]$\n"
      ],
      "text/plain": [
       "2-element Vector{Sym}:\n",
       " -1\n",
       "  1"
      ]
     },
     "execution_count": 34,
     "metadata": {},
     "output_type": "execute_result"
    }
   ],
   "source": [
    "solve(x^2-1)"
   ]
  },
  {
   "cell_type": "code",
   "execution_count": 35,
   "id": "645619a2",
   "metadata": {},
   "outputs": [
    {
     "name": "stdout",
     "output_type": "stream",
     "text": [
      "Límite en -1 por la izquierda: -1/2\n",
      "Límite en -1 por la derecha: -1/2\n"
     ]
    }
   ],
   "source": [
    "println(\"Límite en -1 por la izquierda: \", limit(f1(x), x=> -1, dir=\"-\"))\n",
    "println(\"Límite en -1 por la derecha: \", limit(f1(x), x=> -1, dir=\"+\"))"
   ]
  },
  {
   "cell_type": "code",
   "execution_count": 36,
   "id": "c8a24165",
   "metadata": {},
   "outputs": [
    {
     "name": "stdout",
     "output_type": "stream",
     "text": [
      "Límite en 1 por la izquierda: oo\n",
      "Límite en 1 por la derecha: "
     ]
    },
    {
     "name": "stdout",
     "output_type": "stream",
     "text": [
      "0\n"
     ]
    }
   ],
   "source": [
    "println(\"Límite en 1 por la izquierda: \", limit(f2(x), x=>1, dir=\"-\"))\n",
    "println(\"Límite en 1 por la derecha: \", limit(f2(x), x=>1, dir=\"+\"))"
   ]
  },
  {
   "cell_type": "code",
   "execution_count": 37,
   "id": "ee753af9",
   "metadata": {},
   "outputs": [
    {
     "name": "stdout",
     "output_type": "stream",
     "text": [
      "Límite en 1 por la izquierda: -1\n",
      "Límite en 1 por la derecha: E\n"
     ]
    }
   ],
   "source": [
    "println(\"Límite en 1 por la izquierda: \", limit(f1(x), x=>0, dir=\"-\"))\n",
    "println(\"Límite en 1 por la derecha: \", limit(f2(x), x=>0, dir=\"+\"))"
   ]
  },
  {
   "cell_type": "code",
   "execution_count": 38,
   "id": "19891abd",
   "metadata": {},
   "outputs": [
    {
     "name": "stdout",
     "output_type": "stream",
     "text": [
      "0.6496996753558051"
     ]
    }
   ],
   "source": [
    "function raices_biseccion(f, a, b, error=1e-10)\n",
    "  if f(a) == 0 return(a) end\n",
    "  if f(b) == 0 return(b) end\n",
    "  if f(a) * f(b) > 0 error(\"Las imágenes de los extremos del intervalo no tienen signo distinto.\") end\n",
    "  c = (a+b)/2\n",
    "  while abs(b-a) > error\n",
    "    if f(c) == 0 return(c) end\n",
    "    if f(a) * f(c) < 0\n",
    "       b = c\n",
    "    else\n",
    "       a = c\n",
    "    end\n",
    "    c = (a+b)/2\n",
    "  end\n",
    "  c\n",
    "end\n",
    "\n",
    "f(x)=x^5+3x^4-2x^3+6x-4\n",
    "print(raices_biseccion(f, 0, 1))"
   ]
  },
  {
   "cell_type": "code",
   "execution_count": 39,
   "id": "68403525",
   "metadata": {
    "results": "hidden"
   },
   "outputs": [],
   "source": [
    "#| echo: false\n",
    "using QuizQuestions\n",
    "nothing"
   ]
  },
  {
   "cell_type": "code",
   "execution_count": 40,
   "id": "4ccd17b2",
   "metadata": {
    "hold": true
   },
   "outputs": [
    {
     "data": {
      "text/html": [
       "<script>\n",
       "if (typeof quizquestions_scorecard === 'undefined') {\n",
       "   quizquestions_scorecard = {};\n",
       "}\n",
       "var ID = \"XCVDuJwE\"\n",
       "if (typeof quizquestions_scorecard[ID] === 'undefined') {\n",
       "      quizquestions_scorecard[ID] = {attempts: 0, correct: false};\n",
       "}\n",
       "</script>\n",
       "<form class=\"mx-2 my-3 mw-100\" name='WeaveQuestion' data-id='XCVDuJwE' data-controltype=''>\n",
       "  <div class='form-group '>\n",
       "    <div class='controls'>\n",
       "      <div class=\"form\" id=\"controls_XCVDuJwE\">\n",
       "        <div style=\"padding-top: 5px\">\n",
       "    </br>\n",
       "<div class=\"input-group\">\n",
       "    <input id=\"XCVDuJwE\" type=\"number\" class=\"form-control\" placeholder=\"Respuesta numérica\">\n",
       "    <span  class=\"input-group-append\" href=\"#\" title=\"Introducir hasta 10 decimales\">&nbsp;🎁</span>\n",
       "</div>\n",
       "\n",
       "    \n",
       "        </div>\n",
       "      </div>\n",
       "      <div id='XCVDuJwE_message' style=\"padding-bottom: 15px\"></div>\n",
       "    </div>\n",
       "  </div>\n",
       "</form>\n",
       "\n",
       "<script text='text/javascript'>\n",
       "document.getElementById(\"XCVDuJwE\").addEventListener(\"change\", function() {\n",
       "  var correct = (Math.abs(this.value - 2.6130352902246763) <= 1.0e-10);\n",
       "  var msgBox = document.getElementById('XCVDuJwE_message');\n",
       "  \n",
       "    quizquestions_scorecard[\"XCVDuJwE\"][\"attempts\"] += 1;\n",
       "\n",
       "  if(correct) {\n",
       "    msgBox.innerHTML = \"<div class='pluto-output admonition note alert alert-success'><span> 👍&nbsp; Correcto </span></div>\";\n",
       "    var explanation = document.getElementById(\"explanation_XCVDuJwE\")\n",
       "    if (explanation != null) {\n",
       "       explanation.style.display = \"none\";\n",
       "    }\n",
       "      quizquestions_scorecard[\"XCVDuJwE\"][\"correct\"] = true;\n",
       "  if (typeof score_summary !== 'undefined') {\n",
       "     score_summary()\n",
       "  }\n",
       "\n",
       "\n",
       "  } else {\n",
       "    msgBox.innerHTML = \"<div class='pluto-output admonition alert alert-danger'><span>👎&nbsp; Incorrecto </span></div>\";\n",
       "    var explanation = document.getElementById(\"explanation_XCVDuJwE\")\n",
       "    if (explanation != null) {\n",
       "       explanation.style.display = \"block\";\n",
       "    }\n",
       "      quizquestions_scorecard[\"XCVDuJwE\"][\"correct\"] = false;\n",
       "  if (typeof score_summary !== 'undefined') {\n",
       "     score_summary()\n",
       "  }\n",
       "\n",
       "  }\n",
       "\n",
       "});\n",
       "\n",
       "</script>\n"
      ],
      "text/latex": [
       "\\vspace{18pt}*Hint: *\n",
       "\n",
       "Introducir hasta 10 decimales\n",
       "\n"
      ],
      "text/plain": [
       "QuizQuestions.Numericq(2.6130352902246763, 1.0e-10, \"\", \"\", \"Introducir hasta 10 decimales\", \"\", nothing)"
      ]
     },
     "execution_count": 40,
     "metadata": {},
     "output_type": "execute_result"
    }
   ],
   "source": [
    "#| echo: false\n",
    "f(x) = (1+1/x)^x\n",
    "numericq(f(12), 1e-10, hint=\"Introducir hasta 10 decimales\")"
   ]
  },
  {
   "cell_type": "code",
   "execution_count": 41,
   "id": "aac3a393",
   "metadata": {
    "hold": true
   },
   "outputs": [
    {
     "data": {
      "text/html": [
       "<script>\n",
       "if (typeof quizquestions_scorecard === 'undefined') {\n",
       "   quizquestions_scorecard = {};\n",
       "}\n",
       "var ID = \"zZiJQisb\"\n",
       "if (typeof quizquestions_scorecard[ID] === 'undefined') {\n",
       "      quizquestions_scorecard[ID] = {attempts: 0, correct: false};\n",
       "}\n",
       "</script>\n",
       "<form class=\"mx-2 my-3 mw-100\" name='WeaveQuestion' data-id='zZiJQisb' data-controltype=''>\n",
       "  <div class='form-group '>\n",
       "    <div class='controls'>\n",
       "      <div class=\"form\" id=\"controls_zZiJQisb\">\n",
       "        <div style=\"padding-top: 5px\">\n",
       "    </br>\n",
       "<div class=\"input-group\">\n",
       "    <input id=\"zZiJQisb\" type=\"number\" class=\"form-control\" placeholder=\"Respuesta numérica\">\n",
       "    <span  class=\"input-group-append\" href=\"#\" title=\"Introducir hasta 10 decimales\">&nbsp;🎁</span>\n",
       "</div>\n",
       "\n",
       "    \n",
       "        </div>\n",
       "      </div>\n",
       "      <div id='zZiJQisb_message' style=\"padding-bottom: 15px\"></div>\n",
       "    </div>\n",
       "  </div>\n",
       "</form>\n",
       "\n",
       "<script text='text/javascript'>\n",
       "document.getElementById(\"zZiJQisb\").addEventListener(\"change\", function() {\n",
       "  var correct = (Math.abs(this.value - 2.7145674820219727) <= 1.0e-10);\n",
       "  var msgBox = document.getElementById('zZiJQisb_message');\n",
       "  \n",
       "    quizquestions_scorecard[\"zZiJQisb\"][\"attempts\"] += 1;\n",
       "\n",
       "  if(correct) {\n",
       "    msgBox.innerHTML = \"<div class='pluto-output admonition note alert alert-success'><span> 👍&nbsp; Correcto </span></div>\";\n",
       "    var explanation = document.getElementById(\"explanation_zZiJQisb\")\n",
       "    if (explanation != null) {\n",
       "       explanation.style.display = \"none\";\n",
       "    }\n",
       "      quizquestions_scorecard[\"zZiJQisb\"][\"correct\"] = true;\n",
       "  if (typeof score_summary !== 'undefined') {\n",
       "     score_summary()\n",
       "  }\n",
       "\n",
       "\n",
       "  } else {\n",
       "    msgBox.innerHTML = \"<div class='pluto-output admonition alert alert-danger'><span>👎&nbsp; Incorrecto </span></div>\";\n",
       "    var explanation = document.getElementById(\"explanation_zZiJQisb\")\n",
       "    if (explanation != null) {\n",
       "       explanation.style.display = \"block\";\n",
       "    }\n",
       "      quizquestions_scorecard[\"zZiJQisb\"][\"correct\"] = false;\n",
       "  if (typeof score_summary !== 'undefined') {\n",
       "     score_summary()\n",
       "  }\n",
       "\n",
       "  }\n",
       "\n",
       "});\n",
       "\n",
       "</script>\n"
      ],
      "text/latex": [
       "\\vspace{18pt}*Hint: *\n",
       "\n",
       "Introducir hasta 10 decimales\n",
       "\n"
      ],
      "text/plain": [
       "QuizQuestions.Numericq(2.7145674820219727, 1.0e-10, \"\", \"\", \"Introducir hasta 10 decimales\", \"\", nothing)"
      ]
     },
     "execution_count": 41,
     "metadata": {},
     "output_type": "execute_result"
    }
   ],
   "source": [
    "#| echo: false\n",
    "f(x) = (1+1/x)^x\n",
    "numericq(f(365), 1e-10, hint=\"Introducir hasta 10 decimales\")"
   ]
  },
  {
   "cell_type": "code",
   "execution_count": 42,
   "id": "1c4a93bb",
   "metadata": {},
   "outputs": [
    {
     "data": {
      "text/html": [
       "<script>\n",
       "if (typeof quizquestions_scorecard === 'undefined') {\n",
       "   quizquestions_scorecard = {};\n",
       "}\n",
       "var ID = \"zj3ceAXm\"\n",
       "if (typeof quizquestions_scorecard[ID] === 'undefined') {\n",
       "      quizquestions_scorecard[ID] = {attempts: 0, correct: false};\n",
       "}\n",
       "</script>\n",
       "<form class=\"mx-2 my-3 mw-100\" name='WeaveQuestion' data-id='zj3ceAXm' data-controltype=''>\n",
       "  <div class='form-group '>\n",
       "    <div class='controls'>\n",
       "      <div class=\"form\" id=\"controls_zj3ceAXm\">\n",
       "        <div style=\"padding-top: 5px\">\n",
       "    <div class=\"form-check\">\n",
       "    <label class=\"form-check-label\" for=\"radio_zj3ceAXm_1\">\n",
       "      <input class=\"form-check-input\" type=\"radio\" name=\"radio_zj3ceAXm\"\n",
       "              id=\"radio_zj3ceAXm_1\" value=\"1\">\n",
       "      </input>\n",
       "      <span class=\"label-body px-1\">\n",
       "        e\n",
       "      </span>\n",
       "    </label>\n",
       "</div>\n",
       "<div class=\"form-check\">\n",
       "    <label class=\"form-check-label\" for=\"radio_zj3ceAXm_2\">\n",
       "      <input class=\"form-check-input\" type=\"radio\" name=\"radio_zj3ceAXm\"\n",
       "              id=\"radio_zj3ceAXm_2\" value=\"2\">\n",
       "      </input>\n",
       "      <span class=\"label-body px-1\">\n",
       "        \\(e^{-1}\\)\n",
       "      </span>\n",
       "    </label>\n",
       "</div>\n",
       "<div class=\"form-check\">\n",
       "    <label class=\"form-check-label\" for=\"radio_zj3ceAXm_3\">\n",
       "      <input class=\"form-check-input\" type=\"radio\" name=\"radio_zj3ceAXm\"\n",
       "              id=\"radio_zj3ceAXm_3\" value=\"3\">\n",
       "      </input>\n",
       "      <span class=\"label-body px-1\">\n",
       "        3\n",
       "      </span>\n",
       "    </label>\n",
       "</div>\n",
       "<div class=\"form-check\">\n",
       "    <label class=\"form-check-label\" for=\"radio_zj3ceAXm_4\">\n",
       "      <input class=\"form-check-input\" type=\"radio\" name=\"radio_zj3ceAXm\"\n",
       "              id=\"radio_zj3ceAXm_4\" value=\"4\">\n",
       "      </input>\n",
       "      <span class=\"label-body px-1\">\n",
       "        2.7182818284590\n",
       "      </span>\n",
       "    </label>\n",
       "</div>\n",
       "<div class=\"form-check\">\n",
       "    <label class=\"form-check-label\" for=\"radio_zj3ceAXm_5\">\n",
       "      <input class=\"form-check-input\" type=\"radio\" name=\"radio_zj3ceAXm\"\n",
       "              id=\"radio_zj3ceAXm_5\" value=\"5\">\n",
       "      </input>\n",
       "      <span class=\"label-body px-1\">\n",
       "        \\(e^2\\)\n",
       "      </span>\n",
       "    </label>\n",
       "</div>\n",
       "\n",
       "    \n",
       "        </div>\n",
       "      </div>\n",
       "      <div id='zj3ceAXm_message' style=\"padding-bottom: 15px\"></div>\n",
       "    </div>\n",
       "  </div>\n",
       "</form>\n",
       "\n",
       "<script text='text/javascript'>\n",
       "document.querySelectorAll('input[name=\"radio_zj3ceAXm\"]').forEach(function(rb) {\n",
       "rb.addEventListener(\"change\", function() {\n",
       "    var correct = rb.value == 1;\n",
       "    var msgBox = document.getElementById('zj3ceAXm_message');\n",
       "    \n",
       "    quizquestions_scorecard[\"zj3ceAXm\"][\"attempts\"] += 1;\n",
       "\n",
       "  if(correct) {\n",
       "    msgBox.innerHTML = \"<div class='pluto-output admonition note alert alert-success'><span> 👍&nbsp; Correcto </span></div>\";\n",
       "    var explanation = document.getElementById(\"explanation_zj3ceAXm\")\n",
       "    if (explanation != null) {\n",
       "       explanation.style.display = \"none\";\n",
       "    }\n",
       "      quizquestions_scorecard[\"zj3ceAXm\"][\"correct\"] = true;\n",
       "  if (typeof score_summary !== 'undefined') {\n",
       "     score_summary()\n",
       "  }\n",
       "\n",
       "\n",
       "  } else {\n",
       "    msgBox.innerHTML = \"<div class='pluto-output admonition alert alert-danger'><span>👎&nbsp; Incorrecto </span></div>\";\n",
       "    var explanation = document.getElementById(\"explanation_zj3ceAXm\")\n",
       "    if (explanation != null) {\n",
       "       explanation.style.display = \"block\";\n",
       "    }\n",
       "      quizquestions_scorecard[\"zj3ceAXm\"][\"correct\"] = false;\n",
       "  if (typeof score_summary !== 'undefined') {\n",
       "     score_summary()\n",
       "  }\n",
       "\n",
       "  }\n",
       "\n",
       "})});\n",
       "\n",
       "</script>\n"
      ],
      "text/latex": [
       "${\\quad\\Box}$ e\n",
       "\n",
       "${\\quad\\Box}$ $$e^{-1}$$\n",
       "${\\quad\\Box}$ 3\n",
       "\n",
       "${\\quad\\Box}$ 2.7182818284590\n",
       "\n",
       "${\\quad\\Box}$ $$e^2$$\n"
      ],
      "text/plain": [
       "QuizQuestions.Radioq((\"e\", L\"$e^{-1}$\", \"3\", \"2.7182818284590\", L\"$e^2$\"), 1, [1, 2, 3, 4, 5], (\"e\", L\"$e^{-1}$\", \"3\", \"2.7182818284590\", L\"$e^2$\"), \"\", \"\", \"\", false)"
      ]
     },
     "execution_count": 42,
     "metadata": {},
     "output_type": "execute_result"
    }
   ],
   "source": [
    "#| echo: false\n",
    "choices = (\"3\", \"2.7182818284590\", \"e\", L\"e^2\", L\"e^{-1}\")\n",
    "answer = 3\n",
    "radioq(choices, answer)"
   ]
  },
  {
   "cell_type": "code",
   "execution_count": 43,
   "id": "1433b278",
   "metadata": {},
   "outputs": [
    {
     "data": {
      "text/html": [
       "<script>\n",
       "if (typeof quizquestions_scorecard === 'undefined') {\n",
       "   quizquestions_scorecard = {};\n",
       "}\n",
       "var ID = \"fsEgfwvq\"\n",
       "if (typeof quizquestions_scorecard[ID] === 'undefined') {\n",
       "      quizquestions_scorecard[ID] = {attempts: 0, correct: false};\n",
       "}\n",
       "</script>\n",
       "<form class=\"mx-2 my-3 mw-100\" name='WeaveQuestion' data-id='fsEgfwvq' data-controltype=''>\n",
       "  <div class='form-group '>\n",
       "    <div class='controls'>\n",
       "      <div class=\"form\" id=\"controls_fsEgfwvq\">\n",
       "        <div style=\"padding-top: 5px\">\n",
       "    </br>\n",
       "<div class=\"input-group\">\n",
       "    <input id=\"fsEgfwvq\" type=\"number\" class=\"form-control\" placeholder=\"Respuesta numérica\">\n",
       "</div>\n",
       "\n",
       "    \n",
       "        </div>\n",
       "      </div>\n",
       "      <div id='fsEgfwvq_message' style=\"padding-bottom: 15px\"></div>\n",
       "    </div>\n",
       "  </div>\n",
       "</form>\n",
       "\n",
       "<script text='text/javascript'>\n",
       "document.getElementById(\"fsEgfwvq\").addEventListener(\"change\", function() {\n",
       "  var correct = (Math.abs(this.value - 0) <= 1.0e-5);\n",
       "  var msgBox = document.getElementById('fsEgfwvq_message');\n",
       "  \n",
       "    quizquestions_scorecard[\"fsEgfwvq\"][\"attempts\"] += 1;\n",
       "\n",
       "  if(correct) {\n",
       "    msgBox.innerHTML = \"<div class='pluto-output admonition note alert alert-success'><span> 👍&nbsp; Correcto </span></div>\";\n",
       "    var explanation = document.getElementById(\"explanation_fsEgfwvq\")\n",
       "    if (explanation != null) {\n",
       "       explanation.style.display = \"none\";\n",
       "    }\n",
       "      quizquestions_scorecard[\"fsEgfwvq\"][\"correct\"] = true;\n",
       "  if (typeof score_summary !== 'undefined') {\n",
       "     score_summary()\n",
       "  }\n",
       "\n",
       "\n",
       "  } else {\n",
       "    msgBox.innerHTML = \"<div class='pluto-output admonition alert alert-danger'><span>👎&nbsp; Incorrecto </span></div>\";\n",
       "    var explanation = document.getElementById(\"explanation_fsEgfwvq\")\n",
       "    if (explanation != null) {\n",
       "       explanation.style.display = \"block\";\n",
       "    }\n",
       "      quizquestions_scorecard[\"fsEgfwvq\"][\"correct\"] = false;\n",
       "  if (typeof score_summary !== 'undefined') {\n",
       "     score_summary()\n",
       "  }\n",
       "\n",
       "  }\n",
       "\n",
       "});\n",
       "\n",
       "</script>\n"
      ],
      "text/latex": [
       "\\vspace{18pt}"
      ],
      "text/plain": [
       "QuizQuestions.Numericq(0, 1.0e-5, \"\", \"\", \"\", \"\", nothing)"
      ]
     },
     "execution_count": 43,
     "metadata": {},
     "output_type": "execute_result"
    }
   ],
   "source": [
    "#| echo: false\n",
    "@syms x::real\n",
    "f(x) = (sin(x)-cos(x))/(tan(x))\n",
    "l = limit(f(x), x=>Sym(pi)/4)\n",
    "numericq(l, 1e-5)"
   ]
  },
  {
   "cell_type": "code",
   "execution_count": 44,
   "id": "62897c56",
   "metadata": {},
   "outputs": [
    {
     "data": {
      "text/html": [
       "<script>\n",
       "if (typeof quizquestions_scorecard === 'undefined') {\n",
       "   quizquestions_scorecard = {};\n",
       "}\n",
       "var ID = \"IWn7a1ml\"\n",
       "if (typeof quizquestions_scorecard[ID] === 'undefined') {\n",
       "      quizquestions_scorecard[ID] = {attempts: 0, correct: false};\n",
       "}\n",
       "</script>\n",
       "<form class=\"mx-2 my-3 mw-100\" name='WeaveQuestion' data-id='IWn7a1ml' data-controltype=''>\n",
       "  <div class='form-group '>\n",
       "    <div class='controls'>\n",
       "      <div class=\"form\" id=\"controls_IWn7a1ml\">\n",
       "        <div style=\"padding-top: 5px\">\n",
       "    </br>\n",
       "<div class=\"input-group\">\n",
       "    <input id=\"IWn7a1ml\" type=\"number\" class=\"form-control\" placeholder=\"Respuesta numérica\">\n",
       "</div>\n",
       "\n",
       "    \n",
       "        </div>\n",
       "      </div>\n",
       "      <div id='IWn7a1ml_message' style=\"padding-bottom: 15px\"></div>\n",
       "    </div>\n",
       "  </div>\n",
       "</form>\n",
       "\n",
       "<script text='text/javascript'>\n",
       "document.getElementById(\"IWn7a1ml\").addEventListener(\"change\", function() {\n",
       "  var correct = (Math.abs(this.value - -3/2) <= 0.001);\n",
       "  var msgBox = document.getElementById('IWn7a1ml_message');\n",
       "  \n",
       "    quizquestions_scorecard[\"IWn7a1ml\"][\"attempts\"] += 1;\n",
       "\n",
       "  if(correct) {\n",
       "    msgBox.innerHTML = \"<div class='pluto-output admonition note alert alert-success'><span> 👍&nbsp; Correcto </span></div>\";\n",
       "    var explanation = document.getElementById(\"explanation_IWn7a1ml\")\n",
       "    if (explanation != null) {\n",
       "       explanation.style.display = \"none\";\n",
       "    }\n",
       "      quizquestions_scorecard[\"IWn7a1ml\"][\"correct\"] = true;\n",
       "  if (typeof score_summary !== 'undefined') {\n",
       "     score_summary()\n",
       "  }\n",
       "\n",
       "\n",
       "  } else {\n",
       "    msgBox.innerHTML = \"<div class='pluto-output admonition alert alert-danger'><span>👎&nbsp; Incorrecto </span></div>\";\n",
       "    var explanation = document.getElementById(\"explanation_IWn7a1ml\")\n",
       "    if (explanation != null) {\n",
       "       explanation.style.display = \"block\";\n",
       "    }\n",
       "      quizquestions_scorecard[\"IWn7a1ml\"][\"correct\"] = false;\n",
       "  if (typeof score_summary !== 'undefined') {\n",
       "     score_summary()\n",
       "  }\n",
       "\n",
       "  }\n",
       "\n",
       "});\n",
       "\n",
       "</script>\n"
      ],
      "text/latex": [
       "\\vspace{18pt}"
      ],
      "text/plain": [
       "QuizQuestions.Numericq(-3/2, 0.001, \"\", \"\", \"\", \"\", nothing)"
      ]
     },
     "execution_count": 44,
     "metadata": {},
     "output_type": "execute_result"
    }
   ],
   "source": [
    "#| echo: false\n",
    "@syms x::real\n",
    "f(x) = sqrt(x^2+x+1)-sqrt(x^2-2x-1)\n",
    "l = limit(f(x), x=>-oo)\n",
    "numericq(l)"
   ]
  },
  {
   "cell_type": "code",
   "execution_count": 45,
   "id": "c67068ad",
   "metadata": {},
   "outputs": [
    {
     "data": {
      "text/html": [
       "<script>\n",
       "if (typeof quizquestions_scorecard === 'undefined') {\n",
       "   quizquestions_scorecard = {};\n",
       "}\n",
       "var ID = \"YjlHd76v\"\n",
       "if (typeof quizquestions_scorecard[ID] === 'undefined') {\n",
       "      quizquestions_scorecard[ID] = {attempts: 0, correct: false};\n",
       "}\n",
       "</script>\n",
       "<form class=\"mx-2 my-3 mw-100\" name='WeaveQuestion' data-id='YjlHd76v' data-controltype=''>\n",
       "  <div class='form-group '>\n",
       "    <div class='controls'>\n",
       "      <div class=\"form\" id=\"controls_YjlHd76v\">\n",
       "        <div style=\"padding-top: 5px\">\n",
       "    <div class=\"form-check\">\n",
       "    <label class=\"form-check-label\" for=\"radio_YjlHd76v_1\">\n",
       "      <input class=\"form-check-input\" type=\"radio\" name=\"radio_YjlHd76v\"\n",
       "              id=\"radio_YjlHd76v_1\" value=\"1\">\n",
       "      </input>\n",
       "      <span class=\"label-body px-1\">\n",
       "        NaN\n",
       "      </span>\n",
       "    </label>\n",
       "</div>\n",
       "<div class=\"form-check\">\n",
       "    <label class=\"form-check-label\" for=\"radio_YjlHd76v_2\">\n",
       "      <input class=\"form-check-input\" type=\"radio\" name=\"radio_YjlHd76v\"\n",
       "              id=\"radio_YjlHd76v_2\" value=\"2\">\n",
       "      </input>\n",
       "      <span class=\"label-body px-1\">\n",
       "        \\(-\\infty\\)\n",
       "      </span>\n",
       "    </label>\n",
       "</div>\n",
       "<div class=\"form-check\">\n",
       "    <label class=\"form-check-label\" for=\"radio_YjlHd76v_3\">\n",
       "      <input class=\"form-check-input\" type=\"radio\" name=\"radio_YjlHd76v\"\n",
       "              id=\"radio_YjlHd76v_3\" value=\"3\">\n",
       "      </input>\n",
       "      <span class=\"label-body px-1\">\n",
       "        0\n",
       "      </span>\n",
       "    </label>\n",
       "</div>\n",
       "<div class=\"form-check\">\n",
       "    <label class=\"form-check-label\" for=\"radio_YjlHd76v_4\">\n",
       "      <input class=\"form-check-input\" type=\"radio\" name=\"radio_YjlHd76v\"\n",
       "              id=\"radio_YjlHd76v_4\" value=\"4\">\n",
       "      </input>\n",
       "      <span class=\"label-body px-1\">\n",
       "        \\(1\\)\n",
       "      </span>\n",
       "    </label>\n",
       "</div>\n",
       "<div class=\"form-check\">\n",
       "    <label class=\"form-check-label\" for=\"radio_YjlHd76v_5\">\n",
       "      <input class=\"form-check-input\" type=\"radio\" name=\"radio_YjlHd76v\"\n",
       "              id=\"radio_YjlHd76v_5\" value=\"5\">\n",
       "      </input>\n",
       "      <span class=\"label-body px-1\">\n",
       "        \\(\\infty\\)\n",
       "      </span>\n",
       "    </label>\n",
       "</div>\n",
       "\n",
       "    \n",
       "        </div>\n",
       "      </div>\n",
       "      <div id='YjlHd76v_message' style=\"padding-bottom: 15px\"></div>\n",
       "    </div>\n",
       "  </div>\n",
       "</form>\n",
       "\n",
       "<script text='text/javascript'>\n",
       "document.querySelectorAll('input[name=\"radio_YjlHd76v\"]').forEach(function(rb) {\n",
       "rb.addEventListener(\"change\", function() {\n",
       "    var correct = rb.value == 2;\n",
       "    var msgBox = document.getElementById('YjlHd76v_message');\n",
       "    \n",
       "    quizquestions_scorecard[\"YjlHd76v\"][\"attempts\"] += 1;\n",
       "\n",
       "  if(correct) {\n",
       "    msgBox.innerHTML = \"<div class='pluto-output admonition note alert alert-success'><span> 👍&nbsp; Correcto </span></div>\";\n",
       "    var explanation = document.getElementById(\"explanation_YjlHd76v\")\n",
       "    if (explanation != null) {\n",
       "       explanation.style.display = \"none\";\n",
       "    }\n",
       "      quizquestions_scorecard[\"YjlHd76v\"][\"correct\"] = true;\n",
       "  if (typeof score_summary !== 'undefined') {\n",
       "     score_summary()\n",
       "  }\n",
       "\n",
       "\n",
       "  } else {\n",
       "    msgBox.innerHTML = \"<div class='pluto-output admonition alert alert-danger'><span>👎&nbsp; Incorrecto </span></div>\";\n",
       "    var explanation = document.getElementById(\"explanation_YjlHd76v\")\n",
       "    if (explanation != null) {\n",
       "       explanation.style.display = \"block\";\n",
       "    }\n",
       "      quizquestions_scorecard[\"YjlHd76v\"][\"correct\"] = false;\n",
       "  if (typeof score_summary !== 'undefined') {\n",
       "     score_summary()\n",
       "  }\n",
       "\n",
       "  }\n",
       "\n",
       "})});\n",
       "\n",
       "</script>\n"
      ],
      "text/latex": [
       "${\\quad\\Box}$ NaN\n",
       "\n",
       "${\\quad\\Box}$ $$-\\infty$$\n",
       "${\\quad\\Box}$ 0\n",
       "\n",
       "${\\quad\\Box}$ $$1$$\n",
       "${\\quad\\Box}$ $$\\infty$$\n"
      ],
      "text/plain": [
       "QuizQuestions.Radioq((\"NaN\", L\"$-\\infty$\", \"0\", L\"$1$\", L\"$\\infty$\"), 2, [1, 2, 3, 4, 5], (\"NaN\", L\"$-\\infty$\", \"0\", L\"$1$\", L\"$\\infty$\"), \"\", \"\", \"\", false)"
      ]
     },
     "execution_count": 45,
     "metadata": {},
     "output_type": "execute_result"
    }
   ],
   "source": [
    "#| echo: false\n",
    "choices = (L\"$\\infty$\", L\"$-\\infty$\", L\"1\", \"0\", \"NaN\")\n",
    "answer = 2\n",
    "radioq(choices, answer)"
   ]
  },
  {
   "cell_type": "code",
   "execution_count": 46,
   "id": "04db0552",
   "metadata": {},
   "outputs": [
    {
     "data": {
      "text/html": [
       "<script>\n",
       "if (typeof quizquestions_scorecard === 'undefined') {\n",
       "   quizquestions_scorecard = {};\n",
       "}\n",
       "var ID = \"Y1stppe7\"\n",
       "if (typeof quizquestions_scorecard[ID] === 'undefined') {\n",
       "      quizquestions_scorecard[ID] = {attempts: 0, correct: false};\n",
       "}\n",
       "</script>\n",
       "<form class=\"mx-2 my-3 mw-100\" name='WeaveQuestion' data-id='Y1stppe7' data-controltype=''>\n",
       "  <div class='form-group '>\n",
       "    <div class='controls'>\n",
       "      <div class=\"form\" id=\"controls_Y1stppe7\">\n",
       "        <div style=\"padding-top: 5px\">\n",
       "    <div class=\"form-check\">\n",
       "    <label class=\"form-check-label\" for=\"radio_Y1stppe7_1\">\n",
       "      <input class=\"form-check-input\" type=\"radio\" name=\"radio_Y1stppe7\"\n",
       "              id=\"radio_Y1stppe7_1\" value=\"1\">\n",
       "      </input>\n",
       "      <span class=\"label-body px-1\">\n",
       "        \\(e^a\\)\n",
       "      </span>\n",
       "    </label>\n",
       "</div>\n",
       "<div class=\"form-check\">\n",
       "    <label class=\"form-check-label\" for=\"radio_Y1stppe7_2\">\n",
       "      <input class=\"form-check-input\" type=\"radio\" name=\"radio_Y1stppe7\"\n",
       "              id=\"radio_Y1stppe7_2\" value=\"2\">\n",
       "      </input>\n",
       "      <span class=\"label-body px-1\">\n",
       "        Las otras opciones son falsas.\n",
       "      </span>\n",
       "    </label>\n",
       "</div>\n",
       "<div class=\"form-check\">\n",
       "    <label class=\"form-check-label\" for=\"radio_Y1stppe7_3\">\n",
       "      <input class=\"form-check-input\" type=\"radio\" name=\"radio_Y1stppe7\"\n",
       "              id=\"radio_Y1stppe7_3\" value=\"3\">\n",
       "      </input>\n",
       "      <span class=\"label-body px-1\">\n",
       "        \\(\\sqrt{a}\\)\n",
       "      </span>\n",
       "    </label>\n",
       "</div>\n",
       "<div class=\"form-check\">\n",
       "    <label class=\"form-check-label\" for=\"radio_Y1stppe7_4\">\n",
       "      <input class=\"form-check-input\" type=\"radio\" name=\"radio_Y1stppe7\"\n",
       "              id=\"radio_Y1stppe7_4\" value=\"4\">\n",
       "      </input>\n",
       "      <span class=\"label-body px-1\">\n",
       "        \\(\\ln(a)\\)\n",
       "      </span>\n",
       "    </label>\n",
       "</div>\n",
       "<div class=\"form-check\">\n",
       "    <label class=\"form-check-label\" for=\"radio_Y1stppe7_5\">\n",
       "      <input class=\"form-check-input\" type=\"radio\" name=\"radio_Y1stppe7\"\n",
       "              id=\"radio_Y1stppe7_5\" value=\"5\">\n",
       "      </input>\n",
       "      <span class=\"label-body px-1\">\n",
       "        \\(1/a\\)\n",
       "      </span>\n",
       "    </label>\n",
       "</div>\n",
       "\n",
       "    \n",
       "        </div>\n",
       "      </div>\n",
       "      <div id='Y1stppe7_message' style=\"padding-bottom: 15px\"></div>\n",
       "    </div>\n",
       "  </div>\n",
       "</form>\n",
       "\n",
       "<script text='text/javascript'>\n",
       "document.querySelectorAll('input[name=\"radio_Y1stppe7\"]').forEach(function(rb) {\n",
       "rb.addEventListener(\"change\", function() {\n",
       "    var correct = rb.value == 4;\n",
       "    var msgBox = document.getElementById('Y1stppe7_message');\n",
       "    \n",
       "    quizquestions_scorecard[\"Y1stppe7\"][\"attempts\"] += 1;\n",
       "\n",
       "  if(correct) {\n",
       "    msgBox.innerHTML = \"<div class='pluto-output admonition note alert alert-success'><span> 👍&nbsp; Correcto </span></div>\";\n",
       "    var explanation = document.getElementById(\"explanation_Y1stppe7\")\n",
       "    if (explanation != null) {\n",
       "       explanation.style.display = \"none\";\n",
       "    }\n",
       "      quizquestions_scorecard[\"Y1stppe7\"][\"correct\"] = true;\n",
       "  if (typeof score_summary !== 'undefined') {\n",
       "     score_summary()\n",
       "  }\n",
       "\n",
       "\n",
       "  } else {\n",
       "    msgBox.innerHTML = \"<div class='pluto-output admonition alert alert-danger'><span>👎&nbsp; Incorrecto </span></div>\";\n",
       "    var explanation = document.getElementById(\"explanation_Y1stppe7\")\n",
       "    if (explanation != null) {\n",
       "       explanation.style.display = \"block\";\n",
       "    }\n",
       "      quizquestions_scorecard[\"Y1stppe7\"][\"correct\"] = false;\n",
       "  if (typeof score_summary !== 'undefined') {\n",
       "     score_summary()\n",
       "  }\n",
       "\n",
       "  }\n",
       "\n",
       "})});\n",
       "\n",
       "</script>\n"
      ],
      "text/latex": [
       "${\\quad\\Box}$ $$e^a$$\n",
       "${\\quad\\Box}$ Las otras opciones son falsas.\n",
       "\n",
       "${\\quad\\Box}$ $$\\sqrt{a}$$\n",
       "${\\quad\\Box}$ $$\\ln(a)$$\n",
       "${\\quad\\Box}$ $$1/a$$\n"
      ],
      "text/plain": [
       "QuizQuestions.Radioq((L\"$e^a$\", \"Las otras opciones son falsas.\", L\"$\\sqrt{a}$\", L\"$\\ln(a)$\", L\"$1/a$\"), 4, [1, 2, 3, 4, 5], (L\"$e^a$\", \"Las otras opciones son falsas.\", L\"$\\sqrt{a}$\", L\"$\\ln(a)$\", L\"$1/a$\"), \"\", \"\", \"\", false)"
      ]
     },
     "execution_count": 46,
     "metadata": {},
     "output_type": "execute_result"
    }
   ],
   "source": [
    "#| echo: false\n",
    "choices = (L\"1/a\", L\"e^a\", L\"$\\sqrt{a}$\", L\"\\ln(a)\", \"Las otras opciones son falsas.\")\n",
    "answer = 4\n",
    "radioq(choices, answer)"
   ]
  },
  {
   "cell_type": "code",
   "execution_count": 47,
   "id": "8b91e88a",
   "metadata": {},
   "outputs": [
    {
     "data": {
      "text/html": [
       "<script>\n",
       "if (typeof quizquestions_scorecard === 'undefined') {\n",
       "   quizquestions_scorecard = {};\n",
       "}\n",
       "var ID = \"UhJqo2Rn\"\n",
       "if (typeof quizquestions_scorecard[ID] === 'undefined') {\n",
       "      quizquestions_scorecard[ID] = {attempts: 0, correct: false};\n",
       "}\n",
       "</script>\n",
       "<form class=\"mx-2 my-3 mw-100\" name='WeaveQuestion' data-id='UhJqo2Rn' data-controltype=''>\n",
       "  <div class='form-group '>\n",
       "    <div class='controls'>\n",
       "      <div class=\"form\" id=\"controls_UhJqo2Rn\">\n",
       "        <div style=\"padding-top: 5px\">\n",
       "    <div class=\"form-check\">\n",
       "  <label>\n",
       "    <input class=\"form-check-input\" type=\"checkbox\" name=\"check_UhJqo2Rn\"\n",
       "              id=\"check_UhJqo2Rn_1\" value=\"1\">\n",
       "      <span class=\"label-body\">\n",
       "        \\(y=\\frac{x-1}{3}\\)\n",
       "      </span>\n",
       "    </input>\n",
       "  </label>\n",
       "</div>\n",
       "<div class=\"form-check\">\n",
       "  <label>\n",
       "    <input class=\"form-check-input\" type=\"checkbox\" name=\"check_UhJqo2Rn\"\n",
       "              id=\"check_UhJqo2Rn_2\" value=\"2\">\n",
       "      <span class=\"label-body\">\n",
       "        \\(y=1\\)\n",
       "      </span>\n",
       "    </input>\n",
       "  </label>\n",
       "</div>\n",
       "<div class=\"form-check\">\n",
       "  <label>\n",
       "    <input class=\"form-check-input\" type=\"checkbox\" name=\"check_UhJqo2Rn\"\n",
       "              id=\"check_UhJqo2Rn_3\" value=\"3\">\n",
       "      <span class=\"label-body\">\n",
       "        \\(y=\\frac{1}{3}+\\frac{1}{3}x\\)\n",
       "      </span>\n",
       "    </input>\n",
       "  </label>\n",
       "</div>\n",
       "<div class=\"form-check\">\n",
       "  <label>\n",
       "    <input class=\"form-check-input\" type=\"checkbox\" name=\"check_UhJqo2Rn\"\n",
       "              id=\"check_UhJqo2Rn_4\" value=\"4\">\n",
       "      <span class=\"label-body\">\n",
       "        \\(y=3x+1\\)\n",
       "      </span>\n",
       "    </input>\n",
       "  </label>\n",
       "</div>\n",
       "<div class=\"form-check\">\n",
       "  <label>\n",
       "    <input class=\"form-check-input\" type=\"checkbox\" name=\"check_UhJqo2Rn\"\n",
       "              id=\"check_UhJqo2Rn_5\" value=\"5\">\n",
       "      <span class=\"label-body\">\n",
       "        \\(x=-1\\)\n",
       "      </span>\n",
       "    </input>\n",
       "  </label>\n",
       "</div>\n",
       "\n",
       "    \n",
       "        </div>\n",
       "      </div>\n",
       "      <div id='UhJqo2Rn_message' style=\"padding-bottom: 15px\"></div>\n",
       "    </div>\n",
       "  </div>\n",
       "</form>\n",
       "\n",
       "<script text='text/javascript'>\n",
       "document.querySelectorAll('input[name=\"check_UhJqo2Rn\"]').forEach(function(rb) {\n",
       "rb.addEventListener(\"change\", function() {\n",
       "    var choice_buttons = document.getElementsByName(\"check_UhJqo2Rn\");\n",
       "    var selected = [];\n",
       "    for (var i=0; i < choice_buttons.length; i++) {\n",
       "        if (choice_buttons[i].checked) {\n",
       "           selected.push(i+1)\n",
       "        }\n",
       "    }\n",
       "    var a = selected;\n",
       "    var b = [1, 5];\n",
       "    // https://stackoverflow.com/questions/7837456/how-to-compare-arrays-in-javascript\n",
       "    var  correct =  (a.length === b.length && a.find((v,i) => v !== b[i]) === undefined)\n",
       "    var msgBox = document.getElementById('UhJqo2Rn_message');\n",
       "    \n",
       "    quizquestions_scorecard[\"UhJqo2Rn\"][\"attempts\"] += 1;\n",
       "\n",
       "  if(correct) {\n",
       "    msgBox.innerHTML = \"<div class='pluto-output admonition note alert alert-success'><span> 👍&nbsp; Correcto </span></div>\";\n",
       "    var explanation = document.getElementById(\"explanation_UhJqo2Rn\")\n",
       "    if (explanation != null) {\n",
       "       explanation.style.display = \"none\";\n",
       "    }\n",
       "      quizquestions_scorecard[\"UhJqo2Rn\"][\"correct\"] = true;\n",
       "  if (typeof score_summary !== 'undefined') {\n",
       "     score_summary()\n",
       "  }\n",
       "\n",
       "\n",
       "  } else {\n",
       "    msgBox.innerHTML = \"<div class='pluto-output admonition alert alert-danger'><span>👎&nbsp; Todavía no es correcto </span></div>\";\n",
       "    var explanation = document.getElementById(\"explanation_UhJqo2Rn\")\n",
       "    if (explanation != null) {\n",
       "       explanation.style.display = \"block\";\n",
       "    }\n",
       "      quizquestions_scorecard[\"UhJqo2Rn\"][\"correct\"] = false;\n",
       "  if (typeof score_summary !== 'undefined') {\n",
       "     score_summary()\n",
       "  }\n",
       "\n",
       "  }\n",
       "\n",
       "})});\n",
       "\n",
       "</script>\n"
      ],
      "text/latex": [
       "${\\quad\\Box}$ $$y=\\frac{x-1}{3}$$\n",
       "${\\quad\\Box}$ $$y=1$$\n",
       "${\\quad\\Box}$ $$y=\\frac{1}{3}+\\frac{1}{3}x$$\n",
       "${\\quad\\Box}$ $$y=3x+1$$\n",
       "${\\quad\\Box}$ $$x=-1$$\n",
       "(\\emph{Select one or more})\n",
       "\n",
       "\n"
      ],
      "text/plain": [
       "QuizQuestions.Multiq((L\"$y=\\frac{x-1}{3}$\", L\"$y=1$\", L\"$y=\\frac{1}{3}+\\frac{1}{3}x$\", L\"$y=3x+1$\", L\"$x=-1$\"), [1, 5], [1, 2, 3, 4, 5], (L\"$y=\\frac{x-1}{3}$\", L\"$y=1$\", L\"$y=\\frac{1}{3}+\\frac{1}{3}x$\", L\"$y=3x+1$\", L\"$x=-1$\"), \"\", \"\", \"\", false)"
      ]
     },
     "execution_count": 47,
     "metadata": {},
     "output_type": "execute_result"
    }
   ],
   "source": [
    "#| echo: false\n",
    "choices = (L\"$x=-1$\", L\"$y=1$\", L\"$y=3x+1$\", L\"$y=\\frac{1}{3}+\\frac{1}{3}x$\", L\"$y=\\frac{x-1}{3}$\")\n",
    "answers = [1,5]\n",
    "multiq(choices, answers)"
   ]
  },
  {
   "cell_type": "code",
   "execution_count": 48,
   "id": "03e783e3",
   "metadata": {},
   "outputs": [
    {
     "data": {
      "text/html": [
       "<script>\n",
       "if (typeof quizquestions_scorecard === 'undefined') {\n",
       "   quizquestions_scorecard = {};\n",
       "}\n",
       "var ID = \"Vg02RYwb\"\n",
       "if (typeof quizquestions_scorecard[ID] === 'undefined') {\n",
       "      quizquestions_scorecard[ID] = {attempts: 0, correct: false};\n",
       "}\n",
       "</script>\n",
       "<form class=\"mx-2 my-3 mw-100\" name='WeaveQuestion' data-id='Vg02RYwb' data-controltype=''>\n",
       "  <div class='form-group '>\n",
       "    <div class='controls'>\n",
       "      <div class=\"form\" id=\"controls_Vg02RYwb\">\n",
       "        <div style=\"padding-top: 5px\">\n",
       "    </br>\n",
       "<div class=\"input-group\">\n",
       "    <input id=\"Vg02RYwb\" type=\"number\" class=\"form-control\" placeholder=\"Respuesta numérica\">\n",
       "</div>\n",
       "\n",
       "    \n",
       "        </div>\n",
       "      </div>\n",
       "      <div id='Vg02RYwb_message' style=\"padding-bottom: 15px\"></div>\n",
       "    </div>\n",
       "  </div>\n",
       "</form>\n",
       "\n",
       "<script text='text/javascript'>\n",
       "document.getElementById(\"Vg02RYwb\").addEventListener(\"change\", function() {\n",
       "  var correct = (Math.abs(this.value - 2) <= 0.001);\n",
       "  var msgBox = document.getElementById('Vg02RYwb_message');\n",
       "  \n",
       "    quizquestions_scorecard[\"Vg02RYwb\"][\"attempts\"] += 1;\n",
       "\n",
       "  if(correct) {\n",
       "    msgBox.innerHTML = \"<div class='pluto-output admonition note alert alert-success'><span> 👍&nbsp; Correcto </span></div>\";\n",
       "    var explanation = document.getElementById(\"explanation_Vg02RYwb\")\n",
       "    if (explanation != null) {\n",
       "       explanation.style.display = \"none\";\n",
       "    }\n",
       "      quizquestions_scorecard[\"Vg02RYwb\"][\"correct\"] = true;\n",
       "  if (typeof score_summary !== 'undefined') {\n",
       "     score_summary()\n",
       "  }\n",
       "\n",
       "\n",
       "  } else {\n",
       "    msgBox.innerHTML = \"<div class='pluto-output admonition alert alert-danger'><span>👎&nbsp; Incorrecto </span></div>\";\n",
       "    var explanation = document.getElementById(\"explanation_Vg02RYwb\")\n",
       "    if (explanation != null) {\n",
       "       explanation.style.display = \"block\";\n",
       "    }\n",
       "      quizquestions_scorecard[\"Vg02RYwb\"][\"correct\"] = false;\n",
       "  if (typeof score_summary !== 'undefined') {\n",
       "     score_summary()\n",
       "  }\n",
       "\n",
       "  }\n",
       "\n",
       "});\n",
       "\n",
       "</script>\n"
      ],
      "text/latex": [
       "\\vspace{18pt}"
      ],
      "text/plain": [
       "QuizQuestions.Numericq(2, 0.001, \"\", \"\", \"\", \"\", nothing)"
      ]
     },
     "execution_count": 48,
     "metadata": {},
     "output_type": "execute_result"
    }
   ],
   "source": [
    "#| echo: false\n",
    "@syms x::real\n",
    "f(x) = (exp(x)-exp(-x))/x\n",
    "l = limit(f(x), x=>0)\n",
    "numericq(l)"
   ]
  },
  {
   "cell_type": "code",
   "execution_count": 49,
   "id": "1bf04397",
   "metadata": {},
   "outputs": [
    {
     "data": {
      "text/html": [
       "<script>\n",
       "if (typeof quizquestions_scorecard === 'undefined') {\n",
       "   quizquestions_scorecard = {};\n",
       "}\n",
       "var ID = \"vkryYG96\"\n",
       "if (typeof quizquestions_scorecard[ID] === 'undefined') {\n",
       "      quizquestions_scorecard[ID] = {attempts: 0, correct: false};\n",
       "}\n",
       "</script>\n",
       "<form class=\"mx-2 my-3 mw-100\" name='WeaveQuestion' data-id='vkryYG96' data-controltype=''>\n",
       "  <div class='form-group '>\n",
       "    <div class='controls'>\n",
       "      <div class=\"form\" id=\"controls_vkryYG96\">\n",
       "        <div style=\"padding-top: 5px\">\n",
       "    <div class=\"form-check\">\n",
       "    <label class=\"form-check-label\" for=\"radio_vkryYG96_1\">\n",
       "      <input class=\"form-check-input\" type=\"radio\" name=\"radio_vkryYG96\"\n",
       "              id=\"radio_vkryYG96_1\" value=\"1\">\n",
       "      </input>\n",
       "      <span class=\"label-body px-1\">\n",
       "        \\(-2\\)\n",
       "      </span>\n",
       "    </label>\n",
       "</div>\n",
       "<div class=\"form-check\">\n",
       "    <label class=\"form-check-label\" for=\"radio_vkryYG96_2\">\n",
       "      <input class=\"form-check-input\" type=\"radio\" name=\"radio_vkryYG96\"\n",
       "              id=\"radio_vkryYG96_2\" value=\"2\">\n",
       "      </input>\n",
       "      <span class=\"label-body px-1\">\n",
       "        No hay ningún valor de de \\(a\\) que haga la función continua\n",
       "      </span>\n",
       "    </label>\n",
       "</div>\n",
       "<div class=\"form-check\">\n",
       "    <label class=\"form-check-label\" for=\"radio_vkryYG96_3\">\n",
       "      <input class=\"form-check-input\" type=\"radio\" name=\"radio_vkryYG96\"\n",
       "              id=\"radio_vkryYG96_3\" value=\"3\">\n",
       "      </input>\n",
       "      <span class=\"label-body px-1\">\n",
       "        \\(-2 - \\frac{\\sqrt{2}}{2}\\)\n",
       "      </span>\n",
       "    </label>\n",
       "</div>\n",
       "<div class=\"form-check\">\n",
       "    <label class=\"form-check-label\" for=\"radio_vkryYG96_4\">\n",
       "      <input class=\"form-check-input\" type=\"radio\" name=\"radio_vkryYG96\"\n",
       "              id=\"radio_vkryYG96_4\" value=\"4\">\n",
       "      </input>\n",
       "      <span class=\"label-body px-1\">\n",
       "        \\(-2+\\frac{\\sqrt{2}}{2}\\)\n",
       "      </span>\n",
       "    </label>\n",
       "</div>\n",
       "<div class=\"form-check\">\n",
       "    <label class=\"form-check-label\" for=\"radio_vkryYG96_5\">\n",
       "      <input class=\"form-check-input\" type=\"radio\" name=\"radio_vkryYG96\"\n",
       "              id=\"radio_vkryYG96_5\" value=\"5\">\n",
       "      </input>\n",
       "      <span class=\"label-body px-1\">\n",
       "        \\(2-\\sqrt{2}\\)\n",
       "      </span>\n",
       "    </label>\n",
       "</div>\n",
       "\n",
       "    \n",
       "        </div>\n",
       "      </div>\n",
       "      <div id='vkryYG96_message' style=\"padding-bottom: 15px\"></div>\n",
       "    </div>\n",
       "  </div>\n",
       "</form>\n",
       "\n",
       "<script text='text/javascript'>\n",
       "document.querySelectorAll('input[name=\"radio_vkryYG96\"]').forEach(function(rb) {\n",
       "rb.addEventListener(\"change\", function() {\n",
       "    var correct = rb.value == 3;\n",
       "    var msgBox = document.getElementById('vkryYG96_message');\n",
       "    \n",
       "    quizquestions_scorecard[\"vkryYG96\"][\"attempts\"] += 1;\n",
       "\n",
       "  if(correct) {\n",
       "    msgBox.innerHTML = \"<div class='pluto-output admonition note alert alert-success'><span> 👍&nbsp; Correcto </span></div>\";\n",
       "    var explanation = document.getElementById(\"explanation_vkryYG96\")\n",
       "    if (explanation != null) {\n",
       "       explanation.style.display = \"none\";\n",
       "    }\n",
       "      quizquestions_scorecard[\"vkryYG96\"][\"correct\"] = true;\n",
       "  if (typeof score_summary !== 'undefined') {\n",
       "     score_summary()\n",
       "  }\n",
       "\n",
       "\n",
       "  } else {\n",
       "    msgBox.innerHTML = \"<div class='pluto-output admonition alert alert-danger'><span>👎&nbsp; Incorrecto </span></div>\";\n",
       "    var explanation = document.getElementById(\"explanation_vkryYG96\")\n",
       "    if (explanation != null) {\n",
       "       explanation.style.display = \"block\";\n",
       "    }\n",
       "      quizquestions_scorecard[\"vkryYG96\"][\"correct\"] = false;\n",
       "  if (typeof score_summary !== 'undefined') {\n",
       "     score_summary()\n",
       "  }\n",
       "\n",
       "  }\n",
       "\n",
       "})});\n",
       "\n",
       "</script>\n"
      ],
      "text/latex": [
       "${\\quad\\Box}$ $$-2$$\n",
       "${\\quad\\Box}$ No hay ningún valor de de $a$ que haga la función continua\n",
       "\n",
       "${\\quad\\Box}$ $$-2 - \\frac{\\sqrt{2}}{2}$$\n",
       "${\\quad\\Box}$ $$-2+\\frac{\\sqrt{2}}{2}$$\n",
       "${\\quad\\Box}$ $$2-\\sqrt{2}$$\n"
      ],
      "text/plain": [
       "QuizQuestions.Radioq((L\"$-2$\", L\"No hay ningún valor de de $a$ que haga la función continua\", L\"$-2 - \\frac{\\sqrt{2}}{2}$\", L\"$-2+\\frac{\\sqrt{2}}{2}$\", L\"$2-\\sqrt{2}$\"), 3, [1, 2, 3, 4, 5], (L\"$-2$\", L\"No hay ningún valor de de $a$ que haga la función continua\", L\"$-2 - \\frac{\\sqrt{2}}{2}$\", L\"$-2+\\frac{\\sqrt{2}}{2}$\", L\"$2-\\sqrt{2}$\"), \"\", \"\", \"\", false)"
      ]
     },
     "execution_count": 49,
     "metadata": {},
     "output_type": "execute_result"
    }
   ],
   "source": [
    "#| echo: false\n",
    "using Latexify\n",
    "@vars a real=true\n",
    "h1(x) = x^3-x-2\n",
    "h2(x) = cos(x-Sym(pi)/4)+a \n",
    "l1 = limit(h1(x), x=>0, dir=\"-\")\n",
    "l2 = limit(h2(x),x=>0, dir=\"+\")\n",
    "sol=solve(Eq(l1,l2))\n",
    "choices = (latexify(sol[1]), L\"$2-\\sqrt{2}$\", L\"$-2$\", L\"$-2+\\frac{\\sqrt{2}}{2}$\", L\"No hay ningún valor de de $a$ que haga la función continua\")\n",
    "answer = 1\n",
    "radioq(choices, answer)"
   ]
  },
  {
   "cell_type": "code",
   "execution_count": 50,
   "id": "ad738bc4",
   "metadata": {},
   "outputs": [
    {
     "data": {
      "text/html": [
       "<script>\n",
       "if (typeof quizquestions_scorecard === 'undefined') {\n",
       "   quizquestions_scorecard = {};\n",
       "}\n",
       "var ID = \"wbJYCCRx\"\n",
       "if (typeof quizquestions_scorecard[ID] === 'undefined') {\n",
       "      quizquestions_scorecard[ID] = {attempts: 0, correct: false};\n",
       "}\n",
       "</script>\n",
       "<form class=\"mx-2 my-3 mw-100\" name='WeaveQuestion' data-id='wbJYCCRx' data-controltype=''>\n",
       "  <div class='form-group '>\n",
       "    <div class='controls'>\n",
       "      <div class=\"form\" id=\"controls_wbJYCCRx\">\n",
       "        <div style=\"padding-top: 5px\">\n",
       "    <div class=\"form-check\">\n",
       "    <label class=\"form-check-label\" for=\"radio_wbJYCCRx_1\">\n",
       "      <input class=\"form-check-input\" type=\"radio\" name=\"radio_wbJYCCRx\"\n",
       "              id=\"radio_wbJYCCRx_1\" value=\"1\">\n",
       "      </input>\n",
       "      <span class=\"label-body px-1\">\n",
       "        Segunda especie\n",
       "      </span>\n",
       "    </label>\n",
       "</div>\n",
       "<div class=\"form-check\">\n",
       "    <label class=\"form-check-label\" for=\"radio_wbJYCCRx_2\">\n",
       "      <input class=\"form-check-input\" type=\"radio\" name=\"radio_wbJYCCRx\"\n",
       "              id=\"radio_wbJYCCRx_2\" value=\"2\">\n",
       "      </input>\n",
       "      <span class=\"label-body px-1\">\n",
       "        Salto finito\n",
       "      </span>\n",
       "    </label>\n",
       "</div>\n",
       "<div class=\"form-check\">\n",
       "    <label class=\"form-check-label\" for=\"radio_wbJYCCRx_3\">\n",
       "      <input class=\"form-check-input\" type=\"radio\" name=\"radio_wbJYCCRx\"\n",
       "              id=\"radio_wbJYCCRx_3\" value=\"3\">\n",
       "      </input>\n",
       "      <span class=\"label-body px-1\">\n",
       "        Es continua\n",
       "      </span>\n",
       "    </label>\n",
       "</div>\n",
       "<div class=\"form-check\">\n",
       "    <label class=\"form-check-label\" for=\"radio_wbJYCCRx_4\">\n",
       "      <input class=\"form-check-input\" type=\"radio\" name=\"radio_wbJYCCRx\"\n",
       "              id=\"radio_wbJYCCRx_4\" value=\"4\">\n",
       "      </input>\n",
       "      <span class=\"label-body px-1\">\n",
       "        Salto infinito\n",
       "      </span>\n",
       "    </label>\n",
       "</div>\n",
       "<div class=\"form-check\">\n",
       "    <label class=\"form-check-label\" for=\"radio_wbJYCCRx_5\">\n",
       "      <input class=\"form-check-input\" type=\"radio\" name=\"radio_wbJYCCRx\"\n",
       "              id=\"radio_wbJYCCRx_5\" value=\"5\">\n",
       "      </input>\n",
       "      <span class=\"label-body px-1\">\n",
       "        Evitable\n",
       "      </span>\n",
       "    </label>\n",
       "</div>\n",
       "\n",
       "    \n",
       "        </div>\n",
       "      </div>\n",
       "      <div id='wbJYCCRx_message' style=\"padding-bottom: 15px\"></div>\n",
       "    </div>\n",
       "  </div>\n",
       "</form>\n",
       "\n",
       "<script text='text/javascript'>\n",
       "document.querySelectorAll('input[name=\"radio_wbJYCCRx\"]').forEach(function(rb) {\n",
       "rb.addEventListener(\"change\", function() {\n",
       "    var correct = rb.value == 4;\n",
       "    var msgBox = document.getElementById('wbJYCCRx_message');\n",
       "    \n",
       "    quizquestions_scorecard[\"wbJYCCRx\"][\"attempts\"] += 1;\n",
       "\n",
       "  if(correct) {\n",
       "    msgBox.innerHTML = \"<div class='pluto-output admonition note alert alert-success'><span> 👍&nbsp; Correcto </span></div>\";\n",
       "    var explanation = document.getElementById(\"explanation_wbJYCCRx\")\n",
       "    if (explanation != null) {\n",
       "       explanation.style.display = \"none\";\n",
       "    }\n",
       "      quizquestions_scorecard[\"wbJYCCRx\"][\"correct\"] = true;\n",
       "  if (typeof score_summary !== 'undefined') {\n",
       "     score_summary()\n",
       "  }\n",
       "\n",
       "\n",
       "  } else {\n",
       "    msgBox.innerHTML = \"<div class='pluto-output admonition alert alert-danger'><span>👎&nbsp; Incorrecto </span></div>\";\n",
       "    var explanation = document.getElementById(\"explanation_wbJYCCRx\")\n",
       "    if (explanation != null) {\n",
       "       explanation.style.display = \"block\";\n",
       "    }\n",
       "      quizquestions_scorecard[\"wbJYCCRx\"][\"correct\"] = false;\n",
       "  if (typeof score_summary !== 'undefined') {\n",
       "     score_summary()\n",
       "  }\n",
       "\n",
       "  }\n",
       "\n",
       "})});\n",
       "\n",
       "</script>\n"
      ],
      "text/latex": [
       "${\\quad\\Box}$ Segunda especie\n",
       "\n",
       "${\\quad\\Box}$ Salto finito\n",
       "\n",
       "${\\quad\\Box}$ Es continua\n",
       "\n",
       "${\\quad\\Box}$ Salto infinito\n",
       "\n",
       "${\\quad\\Box}$ Evitable\n",
       "\n"
      ],
      "text/plain": [
       "QuizQuestions.Radioq((\"Segunda especie\", \"Salto finito\", \"Es continua\", \"Salto infinito\", \"Evitable\"), 4, [1, 2, 3, 4, 5], (\"Segunda especie\", \"Salto finito\", \"Es continua\", \"Salto infinito\", \"Evitable\"), \"\", \"\", \"\", false)"
      ]
     },
     "execution_count": 50,
     "metadata": {},
     "output_type": "execute_result"
    }
   ],
   "source": [
    "#| echo: false\n",
    "choices = (\"Evitable\", \"Salto finito\", \"Salto infinito\", \"Segunda especie\", \"Es continua\")\n",
    "answer = 3\n",
    "radioq(choices, answer)"
   ]
  },
  {
   "cell_type": "code",
   "execution_count": 51,
   "id": "223832d3",
   "metadata": {},
   "outputs": [
    {
     "data": {
      "text/html": [
       "<script>\n",
       "if (typeof quizquestions_scorecard === 'undefined') {\n",
       "   quizquestions_scorecard = {};\n",
       "}\n",
       "var ID = \"EgOq8Hjw\"\n",
       "if (typeof quizquestions_scorecard[ID] === 'undefined') {\n",
       "      quizquestions_scorecard[ID] = {attempts: 0, correct: false};\n",
       "}\n",
       "</script>\n",
       "<form class=\"mx-2 my-3 mw-100\" name='WeaveQuestion' data-id='EgOq8Hjw' data-controltype=''>\n",
       "  <div class='form-group '>\n",
       "    <div class='controls'>\n",
       "      <div class=\"form\" id=\"controls_EgOq8Hjw\">\n",
       "        <div style=\"padding-top: 5px\">\n",
       "    </br>\n",
       "<div class=\"input-group\">\n",
       "    <input id=\"EgOq8Hjw\" type=\"number\" class=\"form-control\" placeholder=\"Respuesta numérica\">\n",
       "</div>\n",
       "\n",
       "    \n",
       "        </div>\n",
       "      </div>\n",
       "      <div id='EgOq8Hjw_message' style=\"padding-bottom: 15px\"></div>\n",
       "    </div>\n",
       "  </div>\n",
       "</form>\n",
       "\n",
       "<script text='text/javascript'>\n",
       "document.getElementById(\"EgOq8Hjw\").addEventListener(\"change\", function() {\n",
       "  var correct = (Math.abs(this.value - 1.2926957193733988) <= 1.0e-15);\n",
       "  var msgBox = document.getElementById('EgOq8Hjw_message');\n",
       "  \n",
       "    quizquestions_scorecard[\"EgOq8Hjw\"][\"attempts\"] += 1;\n",
       "\n",
       "  if(correct) {\n",
       "    msgBox.innerHTML = \"<div class='pluto-output admonition note alert alert-success'><span> 👍&nbsp; Correcto </span></div>\";\n",
       "    var explanation = document.getElementById(\"explanation_EgOq8Hjw\")\n",
       "    if (explanation != null) {\n",
       "       explanation.style.display = \"none\";\n",
       "    }\n",
       "      quizquestions_scorecard[\"EgOq8Hjw\"][\"correct\"] = true;\n",
       "  if (typeof score_summary !== 'undefined') {\n",
       "     score_summary()\n",
       "  }\n",
       "\n",
       "\n",
       "  } else {\n",
       "    msgBox.innerHTML = \"<div class='pluto-output admonition alert alert-danger'><span>👎&nbsp; Incorrecto </span></div>\";\n",
       "    var explanation = document.getElementById(\"explanation_EgOq8Hjw\")\n",
       "    if (explanation != null) {\n",
       "       explanation.style.display = \"block\";\n",
       "    }\n",
       "      quizquestions_scorecard[\"EgOq8Hjw\"][\"correct\"] = false;\n",
       "  if (typeof score_summary !== 'undefined') {\n",
       "     score_summary()\n",
       "  }\n",
       "\n",
       "  }\n",
       "\n",
       "});\n",
       "\n",
       "</script>\n"
      ],
      "text/latex": [
       "\\vspace{18pt}"
      ],
      "text/plain": [
       "QuizQuestions.Numericq(1.2926957193733988, 1.0e-15, \"\", \"\", \"\", \"\", nothing)"
      ]
     },
     "execution_count": 51,
     "metadata": {},
     "output_type": "execute_result"
    }
   ],
   "source": [
    "#| echo: false\n",
    "f(x) = exp(-x)-cos(x)\n",
    "sol = raices_biseccion(f, 1, 2, 1e-15)\n",
    "numericq(sol, 1e-15)"
   ]
  }
 ],
 "metadata": {
  "kernelspec": {
   "display_name": "Julia 1.8.2",
   "language": "julia",
   "name": "julia-1.8"
  },
  "language_info": {
   "file_extension": ".jl",
   "mimetype": "application/julia",
   "name": "julia",
   "version": "1.8.5"
  }
 },
 "nbformat": 4,
 "nbformat_minor": 5
}