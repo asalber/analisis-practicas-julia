{
 "cells": [
  {
   "cell_type": "code",
   "execution_count": 1,
   "id": "6829dab9",
   "metadata": {},
   "outputs": [],
   "source": [
    "import IJulia\n",
    "\n",
    "# The julia kernel has built in support for Revise.jl, so this is the \n",
    "# recommended approach for long-running sessions:\n",
    "# https://github.com/JuliaLang/IJulia.jl/blob/9b10fa9b879574bbf720f5285029e07758e50a5e/src/kernel.jl#L46-L51\n",
    "\n",
    "# Users should enable revise within .julia/config/startup_ijulia.jl:\n",
    "# https://timholy.github.io/Revise.jl/stable/config/#Using-Revise-automatically-within-Jupyter/IJulia-1\n",
    "\n",
    "# clear console history\n",
    "IJulia.clear_history()\n",
    "\n",
    "fig_width = 7\n",
    "fig_height = 5\n",
    "fig_format = :retina\n",
    "fig_dpi = 96\n",
    "\n",
    "# no retina format type, use svg for high quality type/marks\n",
    "if fig_format == :retina\n",
    "  fig_format = :svg\n",
    "elseif fig_format == :pdf\n",
    "  fig_dpi = 96\n",
    "  # Enable PDF support for IJulia\n",
    "  IJulia.register_mime(MIME(\"application/pdf\"))\n",
    "end\n",
    "\n",
    "# convert inches to pixels\n",
    "fig_width = fig_width * fig_dpi\n",
    "fig_height = fig_height * fig_dpi\n",
    "\n",
    "# Intialize Plots w/ default fig width/height\n",
    "try\n",
    "  import Plots\n",
    "\n",
    "  # Plots.jl doesn't support PDF output for versions < 1.28.1\n",
    "  # so use png (if the DPI remains the default of 300 then set to 96)\n",
    "  if (Plots._current_plots_version < v\"1.28.1\") & (fig_format == :pdf)\n",
    "    Plots.gr(size=(fig_width, fig_height), fmt = :png, dpi = fig_dpi)\n",
    "  else\n",
    "    Plots.gr(size=(fig_width, fig_height), fmt = fig_format, dpi = fig_dpi)\n",
    "  end\n",
    "catch e\n",
    "  # @warn \"Plots init\" exception=(e, catch_backtrace())\n",
    "end\n",
    "\n",
    "# Initialize CairoMakie with default fig width/height\n",
    "try\n",
    "  import CairoMakie\n",
    "  \n",
    "  CairoMakie.activate!(type = string(fig_format))\n",
    "  CairoMakie.update_theme!(resolution=(fig_width, fig_height))\n",
    "catch e\n",
    "    # @warn \"CairoMakie init\" exception=(e, catch_backtrace())\n",
    "end\n",
    "  \n",
    "# Set run_path if specified\n",
    "try\n",
    "  run_path = raw\"/run/media/alf/datos/misrepositorios/docencia/analisis-practicas-julia\"\n",
    "  if !isempty(run_path)\n",
    "    cd(run_path)\n",
    "  end\n",
    "catch e\n",
    "  @warn \"Run path init:\" exception=(e, catch_backtrace())\n",
    "end\n",
    "\n",
    "\n",
    "# emulate old Pkg.installed beahvior, see\n",
    "# https://discourse.julialang.org/t/how-to-use-pkg-dependencies-instead-of-pkg-installed/36416/9\n",
    "import Pkg\n",
    "function isinstalled(pkg::String)\n",
    "  any(x -> x.name == pkg && x.is_direct_dep, values(Pkg.dependencies()))\n",
    "end\n",
    "\n",
    "# ojs_define\n",
    "if isinstalled(\"JSON\") && isinstalled(\"DataFrames\")\n",
    "  import JSON, DataFrames\n",
    "  global function ojs_define(; kwargs...)\n",
    "    convert(x) = x\n",
    "    convert(x::DataFrames.AbstractDataFrame) = Tables.rows(x)\n",
    "    content = Dict(\"contents\" => [Dict(\"name\" => k, \"value\" => convert(v)) for (k, v) in kwargs])\n",
    "    tag = \"<script type='ojs-define'>$(JSON.json(content))</script>\"\n",
    "    IJulia.display(MIME(\"text/html\"), tag)\n",
    "  end\n",
    "elseif isinstalled(\"JSON\")\n",
    "  import JSON\n",
    "  global function ojs_define(; kwargs...)\n",
    "    content = Dict(\"contents\" => [Dict(\"name\" => k, \"value\" => v) for (k, v) in kwargs])\n",
    "    tag = \"<script type='ojs-define'>$(JSON.json(content))</script>\"\n",
    "    IJulia.display(MIME(\"text/html\"), tag)\n",
    "  end\n",
    "else\n",
    "  global function ojs_define(; kwargs...)\n",
    "    @warn \"JSON package not available. Please install the JSON.jl package to use ojs_define.\"\n",
    "  end\n",
    "end\n",
    "\n",
    "\n",
    "# don't return kernel dependencies (b/c Revise should take care of dependencies)\n",
    "nothing\n"
   ]
  },
  {
   "cell_type": "code",
   "execution_count": 2,
   "id": "56b56fe4",
   "metadata": {},
   "outputs": [],
   "source": [
    "using SymPy  # Para el cálculo simbólico de límites.\n",
    "using Plots  # Para el dibujo de gráficas.\n",
    "#plotlyjs() # Para obtener gráficos interactivos.\n",
    "using LaTeXStrings  # Para usar código LaTeX en los gráficos."
   ]
  },
  {
   "cell_type": "code",
   "execution_count": 3,
   "id": "2b7f5a03",
   "metadata": {
    "md-indent": "    "
   },
   "outputs": [
    {
     "data": {
      "text/plain": [
       "0.2850000000000001"
      ]
     },
     "execution_count": 3,
     "metadata": {},
     "output_type": "execute_result"
    }
   ],
   "source": [
    "f(x) = x^2\n",
    "Δx = 1/10\n",
    "areas_inf = [f((i-1)*Δx)*Δx for i = 1:10]\n",
    "sum_inf = sum(areas_inf)"
   ]
  },
  {
   "cell_type": "code",
   "execution_count": 4,
   "id": "1da4d35a",
   "metadata": {
    "md-indent": "    "
   },
   "outputs": [
    {
     "data": {
      "text/plain": [
       "0.3850000000000001"
      ]
     },
     "execution_count": 4,
     "metadata": {},
     "output_type": "execute_result"
    }
   ],
   "source": [
    "f(x) = x^2\n",
    "Δx = 1/10\n",
    "areas_sup = [f(i*Δx)*Δx for i = 1:10]\n",
    "sum_sup = sum(areas_sup)"
   ]
  },
  {
   "cell_type": "code",
   "execution_count": 5,
   "id": "a0447b20",
   "metadata": {
    "md-indent": "    "
   },
   "outputs": [
    {
     "data": {
      "text/plain": [
       "0.10000000000000003"
      ]
     },
     "execution_count": 5,
     "metadata": {},
     "output_type": "execute_result"
    }
   ],
   "source": [
    "error = sum_sup - sum_inf"
   ]
  },
  {
   "cell_type": "code",
   "execution_count": 6,
   "id": "b2507f62",
   "metadata": {
    "md-indent": "    "
   },
   "outputs": [
    {
     "data": {
      "text/html": [
       "<table>\n",
       "  <thead>\n",
       "    <tr class = \"header headerLastRow\">\n",
       "      <th style = \"text-align: right;\">Aproximación</th>\n",
       "      <th style = \"text-align: right;\">Error</th>\n",
       "    </tr>\n",
       "  </thead>\n",
       "  <tbody>\n",
       "    <tr>\n",
       "      <td style = \"text-align: right;\">0.335</td>\n",
       "      <td style = \"text-align: right;\">0.1</td>\n",
       "    </tr>\n",
       "    <tr>\n",
       "      <td style = \"text-align: right;\">0.334711</td>\n",
       "      <td style = \"text-align: right;\">0.0909091</td>\n",
       "    </tr>\n",
       "    <tr>\n",
       "      <td style = \"text-align: right;\">0.334491</td>\n",
       "      <td style = \"text-align: right;\">0.0833333</td>\n",
       "    </tr>\n",
       "    <tr>\n",
       "      <td style = \"text-align: right;\">0.33432</td>\n",
       "      <td style = \"text-align: right;\">0.0769231</td>\n",
       "    </tr>\n",
       "    <tr>\n",
       "      <td style = \"text-align: right;\">0.334184</td>\n",
       "      <td style = \"text-align: right;\">0.0714286</td>\n",
       "    </tr>\n",
       "    <tr>\n",
       "      <td style = \"text-align: right;\">0.334074</td>\n",
       "      <td style = \"text-align: right;\">0.0666667</td>\n",
       "    </tr>\n",
       "    <tr>\n",
       "      <td style = \"text-align: right;\">0.333984</td>\n",
       "      <td style = \"text-align: right;\">0.0625</td>\n",
       "    </tr>\n",
       "    <tr>\n",
       "      <td style = \"text-align: right;\">0.33391</td>\n",
       "      <td style = \"text-align: right;\">0.0588235</td>\n",
       "    </tr>\n",
       "    <tr>\n",
       "      <td style = \"text-align: right;\">0.333848</td>\n",
       "      <td style = \"text-align: right;\">0.0555556</td>\n",
       "    </tr>\n",
       "    <tr>\n",
       "      <td style = \"text-align: right;\">0.333795</td>\n",
       "      <td style = \"text-align: right;\">0.0526316</td>\n",
       "    </tr>\n",
       "    <tr>\n",
       "      <td style = \"text-align: right;\">0.33375</td>\n",
       "      <td style = \"text-align: right;\">0.05</td>\n",
       "    </tr>\n",
       "    <tr>\n",
       "      <td style = \"text-align: right;\">0.333711</td>\n",
       "      <td style = \"text-align: right;\">0.047619</td>\n",
       "    </tr>\n",
       "    <tr>\n",
       "      <td style = \"text-align: right;\">0.333678</td>\n",
       "      <td style = \"text-align: right;\">0.0454545</td>\n",
       "    </tr>\n",
       "    <tr>\n",
       "      <td style = \"text-align: right;\">0.333648</td>\n",
       "      <td style = \"text-align: right;\">0.0434783</td>\n",
       "    </tr>\n",
       "    <tr>\n",
       "      <td style = \"text-align: right;\">0.333623</td>\n",
       "      <td style = \"text-align: right;\">0.0416667</td>\n",
       "    </tr>\n",
       "    <tr>\n",
       "      <td style = \"text-align: right;\">0.3336</td>\n",
       "      <td style = \"text-align: right;\">0.04</td>\n",
       "    </tr>\n",
       "    <tr>\n",
       "      <td style = \"text-align: right;\">0.33358</td>\n",
       "      <td style = \"text-align: right;\">0.0384615</td>\n",
       "    </tr>\n",
       "    <tr>\n",
       "      <td style = \"text-align: right;\">0.333562</td>\n",
       "      <td style = \"text-align: right;\">0.037037</td>\n",
       "    </tr>\n",
       "    <tr>\n",
       "      <td style = \"text-align: right;\">0.333546</td>\n",
       "      <td style = \"text-align: right;\">0.0357143</td>\n",
       "    </tr>\n",
       "    <tr>\n",
       "      <td style = \"text-align: right;\">0.333532</td>\n",
       "      <td style = \"text-align: right;\">0.0344828</td>\n",
       "    </tr>\n",
       "    <tr>\n",
       "      <td style = \"text-align: right;\">0.333519</td>\n",
       "      <td style = \"text-align: right;\">0.0333333</td>\n",
       "    </tr>\n",
       "    <tr>\n",
       "      <td style = \"text-align: right;\">0.333507</td>\n",
       "      <td style = \"text-align: right;\">0.0322581</td>\n",
       "    </tr>\n",
       "    <tr>\n",
       "      <td style = \"text-align: right;\">0.333496</td>\n",
       "      <td style = \"text-align: right;\">0.03125</td>\n",
       "    </tr>\n",
       "    <tr>\n",
       "      <td style = \"text-align: right;\">0.333486</td>\n",
       "      <td style = \"text-align: right;\">0.030303</td>\n",
       "    </tr>\n",
       "    <tr>\n",
       "      <td style = \"text-align: right;\">0.333478</td>\n",
       "      <td style = \"text-align: right;\">0.0294118</td>\n",
       "    </tr>\n",
       "    <tr>\n",
       "      <td style = \"text-align: right;\">0.333469</td>\n",
       "      <td style = \"text-align: right;\">0.0285714</td>\n",
       "    </tr>\n",
       "    <tr>\n",
       "      <td style = \"text-align: right;\">0.333462</td>\n",
       "      <td style = \"text-align: right;\">0.0277778</td>\n",
       "    </tr>\n",
       "    <tr>\n",
       "      <td style = \"text-align: right;\">0.333455</td>\n",
       "      <td style = \"text-align: right;\">0.027027</td>\n",
       "    </tr>\n",
       "    <tr>\n",
       "      <td style = \"text-align: right;\">0.333449</td>\n",
       "      <td style = \"text-align: right;\">0.0263158</td>\n",
       "    </tr>\n",
       "    <tr>\n",
       "      <td style = \"text-align: right;\">0.333443</td>\n",
       "      <td style = \"text-align: right;\">0.025641</td>\n",
       "    </tr>\n",
       "    <tr>\n",
       "      <td style = \"text-align: right;\">0.333438</td>\n",
       "      <td style = \"text-align: right;\">0.025</td>\n",
       "    </tr>\n",
       "    <tr>\n",
       "      <td style = \"text-align: right;\">0.333432</td>\n",
       "      <td style = \"text-align: right;\">0.0243902</td>\n",
       "    </tr>\n",
       "    <tr>\n",
       "      <td style = \"text-align: right;\">0.333428</td>\n",
       "      <td style = \"text-align: right;\">0.0238095</td>\n",
       "    </tr>\n",
       "    <tr>\n",
       "      <td style = \"text-align: right;\">0.333423</td>\n",
       "      <td style = \"text-align: right;\">0.0232558</td>\n",
       "    </tr>\n",
       "    <tr>\n",
       "      <td style = \"text-align: right;\">0.333419</td>\n",
       "      <td style = \"text-align: right;\">0.0227273</td>\n",
       "    </tr>\n",
       "    <tr>\n",
       "      <td style = \"text-align: right;\">0.333416</td>\n",
       "      <td style = \"text-align: right;\">0.0222222</td>\n",
       "    </tr>\n",
       "    <tr>\n",
       "      <td style = \"text-align: right;\">0.333412</td>\n",
       "      <td style = \"text-align: right;\">0.0217391</td>\n",
       "    </tr>\n",
       "    <tr>\n",
       "      <td style = \"text-align: right;\">0.333409</td>\n",
       "      <td style = \"text-align: right;\">0.0212766</td>\n",
       "    </tr>\n",
       "    <tr>\n",
       "      <td style = \"text-align: right;\">0.333406</td>\n",
       "      <td style = \"text-align: right;\">0.0208333</td>\n",
       "    </tr>\n",
       "    <tr>\n",
       "      <td style = \"text-align: right;\">0.333403</td>\n",
       "      <td style = \"text-align: right;\">0.0204082</td>\n",
       "    </tr>\n",
       "    <tr>\n",
       "      <td style = \"text-align: right;\">0.3334</td>\n",
       "      <td style = \"text-align: right;\">0.02</td>\n",
       "    </tr>\n",
       "    <tr>\n",
       "      <td style = \"text-align: right;\">0.333397</td>\n",
       "      <td style = \"text-align: right;\">0.0196078</td>\n",
       "    </tr>\n",
       "    <tr>\n",
       "      <td style = \"text-align: right;\">0.333395</td>\n",
       "      <td style = \"text-align: right;\">0.0192308</td>\n",
       "    </tr>\n",
       "    <tr>\n",
       "      <td style = \"text-align: right;\">0.333393</td>\n",
       "      <td style = \"text-align: right;\">0.0188679</td>\n",
       "    </tr>\n",
       "    <tr>\n",
       "      <td style = \"text-align: right;\">0.33339</td>\n",
       "      <td style = \"text-align: right;\">0.0185185</td>\n",
       "    </tr>\n",
       "    <tr>\n",
       "      <td style = \"text-align: right;\">0.333388</td>\n",
       "      <td style = \"text-align: right;\">0.0181818</td>\n",
       "    </tr>\n",
       "    <tr>\n",
       "      <td style = \"text-align: right;\">0.333386</td>\n",
       "      <td style = \"text-align: right;\">0.0178571</td>\n",
       "    </tr>\n",
       "    <tr>\n",
       "      <td style = \"text-align: right;\">0.333385</td>\n",
       "      <td style = \"text-align: right;\">0.0175439</td>\n",
       "    </tr>\n",
       "    <tr>\n",
       "      <td style = \"text-align: right;\">0.333383</td>\n",
       "      <td style = \"text-align: right;\">0.0172414</td>\n",
       "    </tr>\n",
       "    <tr>\n",
       "      <td style = \"text-align: right;\">0.333381</td>\n",
       "      <td style = \"text-align: right;\">0.0169492</td>\n",
       "    </tr>\n",
       "    <tr>\n",
       "      <td style = \"text-align: right;\">0.33338</td>\n",
       "      <td style = \"text-align: right;\">0.0166667</td>\n",
       "    </tr>\n",
       "    <tr>\n",
       "      <td style = \"text-align: right;\">0.333378</td>\n",
       "      <td style = \"text-align: right;\">0.0163934</td>\n",
       "    </tr>\n",
       "    <tr>\n",
       "      <td style = \"text-align: right;\">0.333377</td>\n",
       "      <td style = \"text-align: right;\">0.016129</td>\n",
       "    </tr>\n",
       "    <tr>\n",
       "      <td style = \"text-align: right;\">0.333375</td>\n",
       "      <td style = \"text-align: right;\">0.015873</td>\n",
       "    </tr>\n",
       "    <tr>\n",
       "      <td style = \"text-align: right;\">0.333374</td>\n",
       "      <td style = \"text-align: right;\">0.015625</td>\n",
       "    </tr>\n",
       "    <tr>\n",
       "      <td style = \"text-align: right;\">0.333373</td>\n",
       "      <td style = \"text-align: right;\">0.0153846</td>\n",
       "    </tr>\n",
       "    <tr>\n",
       "      <td style = \"text-align: right;\">0.333372</td>\n",
       "      <td style = \"text-align: right;\">0.0151515</td>\n",
       "    </tr>\n",
       "    <tr>\n",
       "      <td style = \"text-align: right;\">0.33337</td>\n",
       "      <td style = \"text-align: right;\">0.0149254</td>\n",
       "    </tr>\n",
       "    <tr>\n",
       "      <td style = \"text-align: right;\">0.333369</td>\n",
       "      <td style = \"text-align: right;\">0.0147059</td>\n",
       "    </tr>\n",
       "    <tr>\n",
       "      <td style = \"text-align: right;\">0.333368</td>\n",
       "      <td style = \"text-align: right;\">0.0144928</td>\n",
       "    </tr>\n",
       "    <tr>\n",
       "      <td style = \"text-align: right;\">0.333367</td>\n",
       "      <td style = \"text-align: right;\">0.0142857</td>\n",
       "    </tr>\n",
       "    <tr>\n",
       "      <td style = \"text-align: right;\">0.333366</td>\n",
       "      <td style = \"text-align: right;\">0.0140845</td>\n",
       "    </tr>\n",
       "    <tr>\n",
       "      <td style = \"text-align: right;\">0.333365</td>\n",
       "      <td style = \"text-align: right;\">0.0138889</td>\n",
       "    </tr>\n",
       "    <tr>\n",
       "      <td style = \"text-align: right;\">0.333365</td>\n",
       "      <td style = \"text-align: right;\">0.0136986</td>\n",
       "    </tr>\n",
       "    <tr>\n",
       "      <td style = \"text-align: right;\">0.333364</td>\n",
       "      <td style = \"text-align: right;\">0.0135135</td>\n",
       "    </tr>\n",
       "    <tr>\n",
       "      <td style = \"text-align: right;\">0.333363</td>\n",
       "      <td style = \"text-align: right;\">0.0133333</td>\n",
       "    </tr>\n",
       "    <tr>\n",
       "      <td style = \"text-align: right;\">0.333362</td>\n",
       "      <td style = \"text-align: right;\">0.0131579</td>\n",
       "    </tr>\n",
       "    <tr>\n",
       "      <td style = \"text-align: right;\">0.333361</td>\n",
       "      <td style = \"text-align: right;\">0.012987</td>\n",
       "    </tr>\n",
       "    <tr>\n",
       "      <td style = \"text-align: right;\">0.333361</td>\n",
       "      <td style = \"text-align: right;\">0.0128205</td>\n",
       "    </tr>\n",
       "    <tr>\n",
       "      <td style = \"text-align: right;\">0.33336</td>\n",
       "      <td style = \"text-align: right;\">0.0126582</td>\n",
       "    </tr>\n",
       "    <tr>\n",
       "      <td style = \"text-align: right;\">0.333359</td>\n",
       "      <td style = \"text-align: right;\">0.0125</td>\n",
       "    </tr>\n",
       "    <tr>\n",
       "      <td style = \"text-align: right;\">0.333359</td>\n",
       "      <td style = \"text-align: right;\">0.0123457</td>\n",
       "    </tr>\n",
       "    <tr>\n",
       "      <td style = \"text-align: right;\">0.333358</td>\n",
       "      <td style = \"text-align: right;\">0.0121951</td>\n",
       "    </tr>\n",
       "    <tr>\n",
       "      <td style = \"text-align: right;\">0.333358</td>\n",
       "      <td style = \"text-align: right;\">0.0120482</td>\n",
       "    </tr>\n",
       "    <tr>\n",
       "      <td style = \"text-align: right;\">0.333357</td>\n",
       "      <td style = \"text-align: right;\">0.0119048</td>\n",
       "    </tr>\n",
       "    <tr>\n",
       "      <td style = \"text-align: right;\">0.333356</td>\n",
       "      <td style = \"text-align: right;\">0.0117647</td>\n",
       "    </tr>\n",
       "    <tr>\n",
       "      <td style = \"text-align: right;\">0.333356</td>\n",
       "      <td style = \"text-align: right;\">0.0116279</td>\n",
       "    </tr>\n",
       "    <tr>\n",
       "      <td style = \"text-align: right;\">0.333355</td>\n",
       "      <td style = \"text-align: right;\">0.0114943</td>\n",
       "    </tr>\n",
       "    <tr>\n",
       "      <td style = \"text-align: right;\">0.333355</td>\n",
       "      <td style = \"text-align: right;\">0.0113636</td>\n",
       "    </tr>\n",
       "    <tr>\n",
       "      <td style = \"text-align: right;\">0.333354</td>\n",
       "      <td style = \"text-align: right;\">0.011236</td>\n",
       "    </tr>\n",
       "    <tr>\n",
       "      <td style = \"text-align: right;\">0.333354</td>\n",
       "      <td style = \"text-align: right;\">0.0111111</td>\n",
       "    </tr>\n",
       "    <tr>\n",
       "      <td style = \"text-align: right;\">0.333353</td>\n",
       "      <td style = \"text-align: right;\">0.010989</td>\n",
       "    </tr>\n",
       "    <tr>\n",
       "      <td style = \"text-align: right;\">0.333353</td>\n",
       "      <td style = \"text-align: right;\">0.0108696</td>\n",
       "    </tr>\n",
       "    <tr>\n",
       "      <td style = \"text-align: right;\">0.333353</td>\n",
       "      <td style = \"text-align: right;\">0.0107527</td>\n",
       "    </tr>\n",
       "    <tr>\n",
       "      <td style = \"text-align: right;\">0.333352</td>\n",
       "      <td style = \"text-align: right;\">0.0106383</td>\n",
       "    </tr>\n",
       "    <tr>\n",
       "      <td style = \"text-align: right;\">0.333352</td>\n",
       "      <td style = \"text-align: right;\">0.0105263</td>\n",
       "    </tr>\n",
       "    <tr>\n",
       "      <td style = \"text-align: right;\">0.333351</td>\n",
       "      <td style = \"text-align: right;\">0.0104167</td>\n",
       "    </tr>\n",
       "    <tr>\n",
       "      <td style = \"text-align: right;\">0.333351</td>\n",
       "      <td style = \"text-align: right;\">0.0103093</td>\n",
       "    </tr>\n",
       "    <tr>\n",
       "      <td style = \"text-align: right;\">0.333351</td>\n",
       "      <td style = \"text-align: right;\">0.0102041</td>\n",
       "    </tr>\n",
       "    <tr>\n",
       "      <td style = \"text-align: right;\">0.33335</td>\n",
       "      <td style = \"text-align: right;\">0.010101</td>\n",
       "    </tr>\n",
       "    <tr>\n",
       "      <td style = \"text-align: right;\">0.33335</td>\n",
       "      <td style = \"text-align: right;\">0.01</td>\n",
       "    </tr>\n",
       "  </tbody>\n",
       "</table>\n"
      ]
     },
     "metadata": {},
     "output_type": "display_data"
    }
   ],
   "source": [
    "using PrettyTables\n",
    "f(x) = x^2\n",
    "function area_inf(a, b, n)\n",
    "    Δx = (b-a)/n\n",
    "    return sum([f(a+(i-1)*Δx)*Δx for i = 1:n])\n",
    "end\n",
    "\n",
    "function area_sup(a, b, n)\n",
    "    Δx = (b-a)/n\n",
    "    return sum([f(a+i*Δx)*Δx for i = 1:n])\n",
    "end\n",
    "\n",
    "function area(a, b, n)\n",
    "    area = (area_inf(a, b, n) + area_sup(a, b, n)) / 2\n",
    "    error = area_sup(a, b, n) - area_inf(a, b, n)\n",
    "    return area, error\n",
    "end\n",
    "\n",
    "areas = [area(0, 1, n) for n=10:100]\n",
    "pretty_table(hcat(first.(areas), last.(areas)); header = [\"Aproximación\", \"Error\"], backend = Val(:html))"
   ]
  },
  {
   "cell_type": "code",
   "execution_count": 7,
   "id": "bfc12830",
   "metadata": {
    "md-indent": "    "
   },
   "outputs": [
    {
     "data": {
      "text/latex": [
       "$\\frac{x^{3} \\log{\\left(x \\right)}}{3} - \\frac{x^{3}}{9}$"
      ],
      "text/plain": [
       " 3           3\n",
       "x ⋅log(x)   x \n",
       "───────── - ──\n",
       "    3       9 "
      ]
     },
     "execution_count": 7,
     "metadata": {},
     "output_type": "execute_result"
    }
   ],
   "source": [
    "using SymPy\n",
    "@vars x real=true\n",
    "integrate(x^2*ln(x))"
   ]
  },
  {
   "cell_type": "code",
   "execution_count": 8,
   "id": "72ff416c",
   "metadata": {
    "md-indent": "    "
   },
   "outputs": [
    {
     "data": {
      "text/latex": [
       "$\\log{\\left(x \\right)} \\log{\\left(\\log{\\left(x \\right)} \\right)} - \\log{\\left(x \\right)}$"
      ],
      "text/plain": [
       "log(x)⋅log(log(x)) - log(x)"
      ]
     },
     "execution_count": 8,
     "metadata": {},
     "output_type": "execute_result"
    }
   ],
   "source": [
    "integrate(ln(ln(x))/x)"
   ]
  },
  {
   "cell_type": "code",
   "execution_count": 9,
   "id": "f2f94ce3",
   "metadata": {},
   "outputs": [
    {
     "data": {
      "text/latex": [
       "$\\log{\\left(x \\right)} - 3 \\log{\\left(x - 1 \\right)} + \\log{\\left(x^{2} + 1 \\right)} - 2 \\operatorname{atan}{\\left(x \\right)} - \\frac{5}{x - 1}$"
      ],
      "text/plain": [
       "                           ⎛ 2    ⎞                 5  \n",
       "log(x) - 3⋅log(x - 1) + log⎝x  + 1⎠ - 2⋅atan(x) - ─────\n",
       "                                                  x - 1"
      ]
     },
     "execution_count": 9,
     "metadata": {},
     "output_type": "execute_result"
    }
   ],
   "source": [
    "integrate((5x^2+4x+1)/(x^5-2x^4+2x^3-2x^2+x))"
   ]
  },
  {
   "cell_type": "code",
   "execution_count": 10,
   "id": "b9a2dc0b",
   "metadata": {
    "md-indent": "    "
   },
   "outputs": [
    {
     "data": {
      "text/latex": [
       "$\\frac{4 x - 7}{3 x^{2} + 3 x + 3} + \\frac{8 \\sqrt{3} \\operatorname{atan}{\\left(\\frac{2 \\sqrt{3} x}{3} + \\frac{\\sqrt{3}}{3} \\right)}}{9}$"
      ],
      "text/plain": [
       "                          ⎛2⋅√3⋅x   √3⎞\n",
       "                 8⋅√3⋅atan⎜────── + ──⎟\n",
       "   4⋅x - 7                ⎝  3      3 ⎠\n",
       "────────────── + ──────────────────────\n",
       "   2                       9           \n",
       "3⋅x  + 3⋅x + 3                         "
      ]
     },
     "execution_count": 10,
     "metadata": {},
     "output_type": "execute_result"
    }
   ],
   "source": [
    "integrate((6x+5)/(x^2+x+1)^2)"
   ]
  },
  {
   "cell_type": "code",
   "execution_count": 11,
   "id": "4d524b29",
   "metadata": {
    "md-indent": "    "
   },
   "outputs": [
    {
     "data": {
      "text/latex": [
       "$0.25$"
      ],
      "text/plain": [
       "0.250000000000000"
      ]
     },
     "execution_count": 11,
     "metadata": {},
     "output_type": "execute_result"
    }
   ],
   "source": [
    "using SymPy\n",
    "@vars x real=true\n",
    "integrate(x^3/x^2+x+1, -1/2, 0)"
   ]
  },
  {
   "cell_type": "code",
   "execution_count": 12,
   "id": "58fbe3ff",
   "metadata": {
    "md-indent": "    "
   },
   "outputs": [
    {
     "data": {
      "text/latex": [
       "$- 2 \\sqrt{3} + 4 \\operatorname{acosh}{\\left(2 \\right)}$"
      ],
      "text/plain": [
       "-2⋅√3 + 4⋅acosh(2)"
      ]
     },
     "execution_count": 12,
     "metadata": {},
     "output_type": "execute_result"
    }
   ],
   "source": [
    "integrate(sqrt(16-x^2)/x, 2, 4)"
   ]
  },
  {
   "cell_type": "code",
   "execution_count": 13,
   "id": "efd10dc5",
   "metadata": {
    "md-indent": "    "
   },
   "outputs": [
    {
     "data": {
      "text/latex": [
       "$\\frac{\\sqrt{2} \\pi}{8}$"
      ],
      "text/plain": [
       "√2⋅π\n",
       "────\n",
       " 8  "
      ]
     },
     "execution_count": 13,
     "metadata": {},
     "output_type": "execute_result"
    }
   ],
   "source": [
    "integrate(1/(3+cos(2x)), 0, PI/2)"
   ]
  },
  {
   "cell_type": "code",
   "execution_count": 14,
   "id": "8b8d516b",
   "metadata": {},
   "outputs": [
    {
     "data": {
      "text/plain": [
       "50-element Vector{Float64}:\n",
       " 0.5\n",
       " 0.75\n",
       " 0.875\n",
       " 0.9375\n",
       " 0.96875\n",
       " 0.984375\n",
       " 0.9921875\n",
       " 0.99609375\n",
       " 0.998046875\n",
       " 0.9990234375\n",
       " 0.99951171875\n",
       " 0.999755859375\n",
       " 0.9998779296875\n",
       " ⋮\n",
       " 0.999999999998181\n",
       " 0.9999999999990905\n",
       " 0.9999999999995453\n",
       " 0.9999999999997726\n",
       " 0.9999999999998863\n",
       " 0.9999999999999432\n",
       " 0.9999999999999716\n",
       " 0.9999999999999858\n",
       " 0.9999999999999929\n",
       " 0.9999999999999964\n",
       " 0.9999999999999982\n",
       " 0.9999999999999991"
      ]
     },
     "execution_count": 14,
     "metadata": {},
     "output_type": "execute_result"
    }
   ],
   "source": [
    "N = 50\n",
    "a(n) = 1/2^n\n",
    "an = [a(n) for n = 1:N]\n",
    "An = cumsum(an)"
   ]
  },
  {
   "cell_type": "code",
   "execution_count": 15,
   "id": "657e9791",
   "metadata": {},
   "outputs": [
    {
     "data": {
      "text/plain": [
       "50-element Vector{Float64}:\n",
       " 0.5\n",
       " 0.75\n",
       " 0.875\n",
       " 0.9375\n",
       " 0.96875\n",
       " 0.984375\n",
       " 0.9921875\n",
       " 0.99609375\n",
       " 0.998046875\n",
       " 0.9990234375\n",
       " 0.99951171875\n",
       " 0.999755859375\n",
       " 0.9998779296875\n",
       " ⋮\n",
       " 0.999999999998181\n",
       " 0.9999999999990905\n",
       " 0.9999999999995453\n",
       " 0.9999999999997726\n",
       " 0.9999999999998863\n",
       " 0.9999999999999432\n",
       " 0.9999999999999716\n",
       " 0.9999999999999858\n",
       " 0.9999999999999929\n",
       " 0.9999999999999964\n",
       " 0.9999999999999982\n",
       " 0.9999999999999991"
      ]
     },
     "execution_count": 15,
     "metadata": {},
     "output_type": "execute_result"
    }
   ],
   "source": [
    "N = 50\n",
    "a(n) = 1/2^n\n",
    "A(n) = sum(a, 1:n)\n",
    "An = [A(n) for n = 1:N]"
   ]
  },
  {
   "cell_type": "code",
   "execution_count": 16,
   "id": "2aa3a05b",
   "metadata": {
    "results": "hidden"
   },
   "outputs": [],
   "source": [
    "#| echo: false\n",
    "using QuizQuestions\n",
    "nothing"
   ]
  },
  {
   "cell_type": "code",
   "execution_count": 17,
   "id": "d1540a90",
   "metadata": {
    "hold": true
   },
   "outputs": [
    {
     "data": {
      "text/html": [
       "<script>\n",
       "if (typeof quizquestions_scorecard === 'undefined') {\n",
       "   quizquestions_scorecard = {};\n",
       "}\n",
       "var ID = \"dQXCZyHN\"\n",
       "if (typeof quizquestions_scorecard[ID] === 'undefined') {\n",
       "      quizquestions_scorecard[ID] = {attempts: 0, correct: false};\n",
       "}\n",
       "</script>\n",
       "<form class=\"mx-2 my-3 mw-100\" name='WeaveQuestion' data-id='dQXCZyHN' data-controltype=''>\n",
       "  <div class='form-group '>\n",
       "    <div class='controls'>\n",
       "      <div class=\"form\" id=\"controls_dQXCZyHN\">\n",
       "        <div style=\"padding-top: 5px\">\n",
       "    </br>\n",
       "<div class=\"input-group\">\n",
       "    <input id=\"dQXCZyHN\" type=\"number\" class=\"form-control\" placeholder=\"Respuesta numérica\">\n",
       "    <span  class=\"input-group-append\" href=\"#\" title=\"Introducir hasta 20 decimales\">&nbsp;🎁</span>\n",
       "</div>\n",
       "\n",
       "    \n",
       "        </div>\n",
       "      </div>\n",
       "      <div id='dQXCZyHN_message' style=\"padding-bottom: 15px\"></div>\n",
       "    </div>\n",
       "  </div>\n",
       "</form>\n",
       "\n",
       "<script text='text/javascript'>\n",
       "document.getElementById(\"dQXCZyHN\").addEventListener(\"change\", function() {\n",
       "  var correct = (Math.abs(this.value - 0.6931471805599452923248950070631627496611873046174183751999313065846593137772644) <= 1.0e-20);\n",
       "  var msgBox = document.getElementById('dQXCZyHN_message');\n",
       "  \n",
       "    quizquestions_scorecard[\"dQXCZyHN\"][\"attempts\"] += 1;\n",
       "\n",
       "  if(correct) {\n",
       "    msgBox.innerHTML = \"<div class='pluto-output admonition note alert alert-success'><span> 👍&nbsp; Correcto </span></div>\";\n",
       "    var explanation = document.getElementById(\"explanation_dQXCZyHN\")\n",
       "    if (explanation != null) {\n",
       "       explanation.style.display = \"none\";\n",
       "    }\n",
       "      quizquestions_scorecard[\"dQXCZyHN\"][\"correct\"] = true;\n",
       "  if (typeof score_summary !== 'undefined') {\n",
       "     score_summary()\n",
       "  }\n",
       "\n",
       "\n",
       "  } else {\n",
       "    msgBox.innerHTML = \"<div class='pluto-output admonition alert alert-danger'><span>👎&nbsp; Incorrecto </span></div>\";\n",
       "    var explanation = document.getElementById(\"explanation_dQXCZyHN\")\n",
       "    if (explanation != null) {\n",
       "       explanation.style.display = \"block\";\n",
       "    }\n",
       "      quizquestions_scorecard[\"dQXCZyHN\"][\"correct\"] = false;\n",
       "  if (typeof score_summary !== 'undefined') {\n",
       "     score_summary()\n",
       "  }\n",
       "\n",
       "  }\n",
       "\n",
       "});\n",
       "\n",
       "</script>\n"
      ],
      "text/latex": [
       "\\vspace{18pt}*Hint: *\n",
       "\n",
       "Introducir hasta 20 decimales\n",
       "\n"
      ],
      "text/plain": [
       "QuizQuestions.Numericq(0.6931471805599452923248950070631627496611873046174183751999313065846593137772644, 1.0e-20, \"\", \"\", \"Introducir hasta 20 decimales\", \"\", nothing)"
      ]
     },
     "execution_count": 17,
     "metadata": {},
     "output_type": "execute_result"
    }
   ],
   "source": [
    "#| echo: false\n",
    "a(n) = 1/(big(n)*2^big(n))\n",
    "numericq(sum(a, 1:50), 1e-20, hint=\"Introducir hasta 20 decimales\")"
   ]
  },
  {
   "cell_type": "code",
   "execution_count": 18,
   "id": "07fbe364",
   "metadata": {
    "hold": true
   },
   "outputs": [
    {
     "data": {
      "text/html": [
       "<script>\n",
       "if (typeof quizquestions_scorecard === 'undefined') {\n",
       "   quizquestions_scorecard = {};\n",
       "}\n",
       "var ID = \"SWcF2kf4\"\n",
       "if (typeof quizquestions_scorecard[ID] === 'undefined') {\n",
       "      quizquestions_scorecard[ID] = {attempts: 0, correct: false};\n",
       "}\n",
       "</script>\n",
       "<form class=\"mx-2 my-3 mw-100\" name='WeaveQuestion' data-id='SWcF2kf4' data-controltype=''>\n",
       "  <div class='form-group '>\n",
       "    <div class='controls'>\n",
       "      <div class=\"form\" id=\"controls_SWcF2kf4\">\n",
       "        <div style=\"padding-top: 5px\">\n",
       "    </br>\n",
       "<div class=\"input-group\">\n",
       "    <input id=\"SWcF2kf4\" type=\"number\" class=\"form-control\" placeholder=\"Respuesta numérica\">\n",
       "    <span  class=\"input-group-append\" href=\"#\" title=\"Introducir hasta 40 decimales\">&nbsp;🎁</span>\n",
       "</div>\n",
       "\n",
       "    \n",
       "        </div>\n",
       "      </div>\n",
       "      <div id='SWcF2kf4_message' style=\"padding-bottom: 15px\"></div>\n",
       "    </div>\n",
       "  </div>\n",
       "</form>\n",
       "\n",
       "<script text='text/javascript'>\n",
       "document.getElementById(\"SWcF2kf4\").addEventListener(\"change\", function() {\n",
       "  var correct = (Math.abs(this.value - 1.879853862175258533486306145070960038819872853086289619594759148401709391879149) <= 1.0e-40);\n",
       "  var msgBox = document.getElementById('SWcF2kf4_message');\n",
       "  \n",
       "    quizquestions_scorecard[\"SWcF2kf4\"][\"attempts\"] += 1;\n",
       "\n",
       "  if(correct) {\n",
       "    msgBox.innerHTML = \"<div class='pluto-output admonition note alert alert-success'><span> 👍&nbsp; Correcto </span></div>\";\n",
       "    var explanation = document.getElementById(\"explanation_SWcF2kf4\")\n",
       "    if (explanation != null) {\n",
       "       explanation.style.display = \"none\";\n",
       "    }\n",
       "      quizquestions_scorecard[\"SWcF2kf4\"][\"correct\"] = true;\n",
       "  if (typeof score_summary !== 'undefined') {\n",
       "     score_summary()\n",
       "  }\n",
       "\n",
       "\n",
       "  } else {\n",
       "    msgBox.innerHTML = \"<div class='pluto-output admonition alert alert-danger'><span>👎&nbsp; Incorrecto </span></div>\";\n",
       "    var explanation = document.getElementById(\"explanation_SWcF2kf4\")\n",
       "    if (explanation != null) {\n",
       "       explanation.style.display = \"block\";\n",
       "    }\n",
       "      quizquestions_scorecard[\"SWcF2kf4\"][\"correct\"] = false;\n",
       "  if (typeof score_summary !== 'undefined') {\n",
       "     score_summary()\n",
       "  }\n",
       "\n",
       "  }\n",
       "\n",
       "});\n",
       "\n",
       "</script>\n"
      ],
      "text/latex": [
       "\\vspace{18pt}*Hint: *\n",
       "\n",
       "Introducir hasta 40 decimales\n",
       "\n"
      ],
      "text/plain": [
       "QuizQuestions.Numericq(1.879853862175258533486306145070960038819872853086289619594759148401709391879149, 1.0e-40, \"\", \"\", \"Introducir hasta 40 decimales\", \"\", nothing)"
      ]
     },
     "execution_count": 18,
     "metadata": {},
     "output_type": "execute_result"
    }
   ],
   "source": [
    "#| echo: false\n",
    "a(n) = factorial(big(n))/big(n)^big(n)\n",
    "numericq(sum(a, 1:100), 1e-40, hint=\"Introducir hasta 40 decimales\")"
   ]
  }
 ],
 "metadata": {
  "kernelspec": {
   "display_name": "Julia 1.8.2",
   "language": "julia",
   "name": "julia-1.8"
  },
  "language_info": {
   "file_extension": ".jl",
   "mimetype": "application/julia",
   "name": "julia",
   "version": "1.8.5"
  }
 },
 "nbformat": 4,
 "nbformat_minor": 5
}