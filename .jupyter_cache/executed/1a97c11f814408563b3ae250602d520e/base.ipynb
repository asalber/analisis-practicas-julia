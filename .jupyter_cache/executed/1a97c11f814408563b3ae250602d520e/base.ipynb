{
 "cells": [
  {
   "cell_type": "code",
   "execution_count": 1,
   "id": "a014319c",
   "metadata": {},
   "outputs": [],
   "source": [
    "import IJulia\n",
    "\n",
    "# The julia kernel has built in support for Revise.jl, so this is the \n",
    "# recommended approach for long-running sessions:\n",
    "# https://github.com/JuliaLang/IJulia.jl/blob/9b10fa9b879574bbf720f5285029e07758e50a5e/src/kernel.jl#L46-L51\n",
    "\n",
    "# Users should enable revise within .julia/config/startup_ijulia.jl:\n",
    "# https://timholy.github.io/Revise.jl/stable/config/#Using-Revise-automatically-within-Jupyter/IJulia-1\n",
    "\n",
    "# clear console history\n",
    "IJulia.clear_history()\n",
    "\n",
    "fig_width = 7\n",
    "fig_height = 5\n",
    "fig_format = :retina\n",
    "fig_dpi = 96\n",
    "\n",
    "# no retina format type, use svg for high quality type/marks\n",
    "if fig_format == :retina\n",
    "  fig_format = :svg\n",
    "elseif fig_format == :pdf\n",
    "  fig_dpi = 96\n",
    "  # Enable PDF support for IJulia\n",
    "  IJulia.register_mime(MIME(\"application/pdf\"))\n",
    "end\n",
    "\n",
    "# convert inches to pixels\n",
    "fig_width = fig_width * fig_dpi\n",
    "fig_height = fig_height * fig_dpi\n",
    "\n",
    "# Intialize Plots w/ default fig width/height\n",
    "try\n",
    "  import Plots\n",
    "\n",
    "  # Plots.jl doesn't support PDF output for versions < 1.28.1\n",
    "  # so use png (if the DPI remains the default of 300 then set to 96)\n",
    "  if (Plots._current_plots_version < v\"1.28.1\") & (fig_format == :pdf)\n",
    "    Plots.gr(size=(fig_width, fig_height), fmt = :png, dpi = fig_dpi)\n",
    "  else\n",
    "    Plots.gr(size=(fig_width, fig_height), fmt = fig_format, dpi = fig_dpi)\n",
    "  end\n",
    "catch e\n",
    "  # @warn \"Plots init\" exception=(e, catch_backtrace())\n",
    "end\n",
    "\n",
    "# Initialize CairoMakie with default fig width/height\n",
    "try\n",
    "  import CairoMakie\n",
    "  \n",
    "  CairoMakie.activate!(type = string(fig_format))\n",
    "  CairoMakie.update_theme!(resolution=(fig_width, fig_height))\n",
    "catch e\n",
    "    # @warn \"CairoMakie init\" exception=(e, catch_backtrace())\n",
    "end\n",
    "  \n",
    "# Set run_path if specified\n",
    "try\n",
    "  run_path = raw\"/run/media/alf/datos/misrepositorios/docencia/analisis-practicas-julia\"\n",
    "  if !isempty(run_path)\n",
    "    cd(run_path)\n",
    "  end\n",
    "catch e\n",
    "  @warn \"Run path init:\" exception=(e, catch_backtrace())\n",
    "end\n",
    "\n",
    "\n",
    "# emulate old Pkg.installed beahvior, see\n",
    "# https://discourse.julialang.org/t/how-to-use-pkg-dependencies-instead-of-pkg-installed/36416/9\n",
    "import Pkg\n",
    "function isinstalled(pkg::String)\n",
    "  any(x -> x.name == pkg && x.is_direct_dep, values(Pkg.dependencies()))\n",
    "end\n",
    "\n",
    "# ojs_define\n",
    "if isinstalled(\"JSON\") && isinstalled(\"DataFrames\")\n",
    "  import JSON, DataFrames\n",
    "  global function ojs_define(; kwargs...)\n",
    "    convert(x) = x\n",
    "    convert(x::DataFrames.AbstractDataFrame) = Tables.rows(x)\n",
    "    content = Dict(\"contents\" => [Dict(\"name\" => k, \"value\" => convert(v)) for (k, v) in kwargs])\n",
    "    tag = \"<script type='ojs-define'>$(JSON.json(content))</script>\"\n",
    "    IJulia.display(MIME(\"text/html\"), tag)\n",
    "  end\n",
    "elseif isinstalled(\"JSON\")\n",
    "  import JSON\n",
    "  global function ojs_define(; kwargs...)\n",
    "    content = Dict(\"contents\" => [Dict(\"name\" => k, \"value\" => v) for (k, v) in kwargs])\n",
    "    tag = \"<script type='ojs-define'>$(JSON.json(content))</script>\"\n",
    "    IJulia.display(MIME(\"text/html\"), tag)\n",
    "  end\n",
    "else\n",
    "  global function ojs_define(; kwargs...)\n",
    "    @warn \"JSON package not available. Please install the JSON.jl package to use ojs_define.\"\n",
    "  end\n",
    "end\n",
    "\n",
    "\n",
    "# don't return kernel dependencies (b/c Revise should take care of dependencies)\n",
    "nothing\n"
   ]
  },
  {
   "cell_type": "code",
   "execution_count": 2,
   "id": "e01ea037",
   "metadata": {},
   "outputs": [],
   "source": [
    "using SymPy  # Para el cálculo simbólico.\n",
    "using Plots  # Para el dibujo de gráficas.\n",
    "using Makie, GLMakie # Para el dibujo de gráficas en 3d.\n",
    "using HCubature # Para el cálculo numérico de integrales múltiples.\n",
    "using LaTeXStrings  # Para usar código LaTeX en los gráficos.\n",
    "using LinearAlgebra # Para el módulo y el producto escalar de vectores."
   ]
  },
  {
   "cell_type": "code",
   "execution_count": 3,
   "id": "edd695de",
   "metadata": {
    "md-indent": "    "
   },
   "outputs": [
    {
     "data": {
      "text/plain": [
       "(50.0, 7.105427357601002e-15)"
      ]
     },
     "execution_count": 3,
     "metadata": {},
     "output_type": "execute_result"
    }
   ],
   "source": [
    "using HCubature\n",
    "f(x, y) = 10\n",
    "f(v) = f(v...)\n",
    "hcubature(f, [0,0], [1,5])"
   ]
  },
  {
   "cell_type": "code",
   "execution_count": 4,
   "id": "e90b04f2",
   "metadata": {
    "md-indent": "    "
   },
   "outputs": [
    {
     "data": {
      "text/plain": [
       "(25.0, 3.552713678800501e-15)"
      ]
     },
     "execution_count": 4,
     "metadata": {},
     "output_type": "execute_result"
    }
   ],
   "source": [
    "f(x, y) = 10x\n",
    "f(v) = f(v...)\n",
    "hcubature(f, [0,0], [1,5])"
   ]
  },
  {
   "cell_type": "code",
   "execution_count": 5,
   "id": "c5af1e81",
   "metadata": {
    "md-indent": "    "
   },
   "outputs": [
    {
     "data": {
      "text/plain": [
       "f (generic function with 2 methods)"
      ]
     },
     "execution_count": 5,
     "metadata": {},
     "output_type": "execute_result"
    }
   ],
   "source": [
    "f(x, y) = x^2+y^2<1 ? 10 : 0\n",
    "f(v) = f(v...)\n",
    "#hcubature(f, [-1,-1], [1,1])"
   ]
  },
  {
   "cell_type": "code",
   "execution_count": 6,
   "id": "d2a7ab0d",
   "metadata": {
    "md-indent": "    "
   },
   "outputs": [
    {
     "data": {
      "text/plain": [
       "(2.0943951101375893, 3.12087277156216e-8)"
      ]
     },
     "execution_count": 6,
     "metadata": {},
     "output_type": "execute_result"
    }
   ],
   "source": [
    "f(x, y) = x^2+y^2<1 ? sqrt(1-x^2-y^2) : 0\n",
    "f(v) = f(v...)\n",
    "hcubature(f, [-1,-1], [1,1])"
   ]
  },
  {
   "cell_type": "code",
   "execution_count": 7,
   "id": "af5bdc15",
   "metadata": {
    "md-indent": "    "
   },
   "outputs": [
    {
     "data": {
      "text/latex": [
       "$3$"
      ],
      "text/plain": [
       "3"
      ]
     },
     "execution_count": 7,
     "metadata": {},
     "output_type": "execute_result"
    }
   ],
   "source": [
    "using SymPy\n",
    "@syms x y\n",
    "f(x, y) = x + y\n",
    "integrate(f(x,y), (y, 0, 2), (x, 0, 1))"
   ]
  },
  {
   "cell_type": "code",
   "execution_count": 8,
   "id": "89976d8f",
   "metadata": {
    "md-indent": "    "
   },
   "outputs": [
    {
     "data": {
      "text/latex": [
       "$3$"
      ],
      "text/plain": [
       "3"
      ]
     },
     "execution_count": 8,
     "metadata": {},
     "output_type": "execute_result"
    }
   ],
   "source": [
    "integrate(f(x,y), (x, 0, 1), (y, 0, 2))"
   ]
  },
  {
   "cell_type": "code",
   "execution_count": 9,
   "id": "d078878c",
   "metadata": {
    "md-indent": "    "
   },
   "outputs": [
    {
     "data": {
      "text/latex": [
       "$\\frac{9}{2}$"
      ],
      "text/plain": [
       "9/2"
      ]
     },
     "execution_count": 9,
     "metadata": {},
     "output_type": "execute_result"
    }
   ],
   "source": [
    "@syms z\n",
    "f(x, y, z) = x * y * z\n",
    "integrate(f(x,y,z), (z, 0, 3), (y, 0, 2), (x, 0, 1))"
   ]
  },
  {
   "cell_type": "code",
   "execution_count": 10,
   "id": "3649f054",
   "metadata": {
    "md-indent": "    "
   },
   "outputs": [
    {
     "data": {
      "text/latex": [
       "$\\frac{9}{2}$"
      ],
      "text/plain": [
       "9/2"
      ]
     },
     "execution_count": 10,
     "metadata": {},
     "output_type": "execute_result"
    }
   ],
   "source": [
    "@syms z\n",
    "f(x, y, z) = x * y * z\n",
    "integrate(f(x,y,z), (y, 0, 2), (x, 0, 1), (z, 0, 3))"
   ]
  },
  {
   "cell_type": "code",
   "execution_count": 11,
   "id": "958cf3f9",
   "metadata": {
    "md-indent": "    "
   },
   "outputs": [
    {
     "data": {
      "text/latex": [
       "$- e^{2} + \\frac{1}{3} + \\frac{2 e^{3}}{3}$"
      ],
      "text/plain": [
       "              3\n",
       "   2   1   2⋅ℯ \n",
       "- ℯ  + ─ + ────\n",
       "       3    3  "
      ]
     },
     "execution_count": 11,
     "metadata": {},
     "output_type": "execute_result"
    }
   ],
   "source": [
    "using SymPy\n",
    "@syms x y\n",
    "f(x, y) = exp(x+y)\n",
    "integrate(f(x,y), (y, 0, x/2), (x, 0, 2))"
   ]
  },
  {
   "cell_type": "code",
   "execution_count": 12,
   "id": "5a743d44",
   "metadata": {
    "md-indent": "    "
   },
   "outputs": [
    {
     "data": {
      "text/latex": [
       "$- e^{2} + \\frac{1}{3} + \\frac{2 e^{3}}{3}$"
      ],
      "text/plain": [
       "              3\n",
       "   2   1   2⋅ℯ \n",
       "- ℯ  + ─ + ────\n",
       "       3    3  "
      ]
     },
     "execution_count": 12,
     "metadata": {},
     "output_type": "execute_result"
    }
   ],
   "source": [
    "integrate(f(x,y), (x, 2y, 2), (y, 0, 1))"
   ]
  },
  {
   "cell_type": "code",
   "execution_count": 13,
   "id": "31dfce1a",
   "metadata": {
    "md-indent": "    "
   },
   "outputs": [
    {
     "data": {
      "text/latex": [
       "$\\frac{1}{40}$"
      ],
      "text/plain": [
       "1/40"
      ]
     },
     "execution_count": 13,
     "metadata": {},
     "output_type": "execute_result"
    }
   ],
   "source": [
    "using SymPy\n",
    "@syms x y\n",
    "f(x, y) = x^2*y\n",
    "integrate(f(x,y), (y, x, sqrt(x)), (x, 0, 1))"
   ]
  },
  {
   "cell_type": "code",
   "execution_count": 14,
   "id": "0aea3dad",
   "metadata": {
    "md-indent": "    "
   },
   "outputs": [
    {
     "data": {
      "text/latex": [
       "$- \\frac{\\sqrt{2} \\sqrt{\\pi} \\left(- \\frac{\\sqrt{2} \\sin{\\left(1 \\right)} \\Gamma\\left(\\frac{1}{4}\\right)}{8 \\sqrt{\\pi} \\Gamma\\left(\\frac{5}{4}\\right)} + \\frac{C\\left(\\frac{\\sqrt{2}}{\\sqrt{\\pi}}\\right) \\Gamma\\left(\\frac{1}{4}\\right)}{4 \\Gamma\\left(\\frac{5}{4}\\right)}\\right) \\Gamma\\left(\\frac{1}{4}\\right)}{8 \\Gamma\\left(\\frac{5}{4}\\right)} + \\frac{\\sqrt{2} \\sqrt{\\pi} C\\left(\\frac{\\sqrt{2}}{\\sqrt{\\pi}}\\right) \\Gamma\\left(\\frac{1}{4}\\right)}{8 \\Gamma\\left(\\frac{5}{4}\\right)}$"
      ],
      "text/plain": [
       "        ⎛                      ⎛√2⎞       ⎞                            \n",
       "        ⎜                     C⎜──⎟⋅Γ(1/4)⎟                            \n",
       "        ⎜  √2⋅sin(1)⋅Γ(1/4)    ⎝√π⎠       ⎟                 ⎛√2⎞       \n",
       "  √2⋅√π⋅⎜- ──────────────── + ────────────⎟⋅Γ(1/4)   √2⋅√π⋅C⎜──⎟⋅Γ(1/4)\n",
       "        ⎝    8⋅√π⋅Γ(5/4)        4⋅Γ(5/4)  ⎠                 ⎝√π⎠       \n",
       "- ──────────────────────────────────────────────── + ──────────────────\n",
       "                      8⋅Γ(5/4)                            8⋅Γ(5/4)     "
      ]
     },
     "execution_count": 14,
     "metadata": {},
     "output_type": "execute_result"
    }
   ],
   "source": [
    "f(x, y) = cos(x^2)\n",
    "integrate(f(x,y), (x, y, 1), (y, 0, 1))"
   ]
  },
  {
   "cell_type": "code",
   "execution_count": 15,
   "id": "53de22ae",
   "metadata": {
    "md-indent": "    "
   },
   "outputs": [
    {
     "data": {
      "text/latex": [
       "$\\frac{\\sin{\\left(1 \\right)}}{2}$"
      ],
      "text/plain": [
       "sin(1)\n",
       "──────\n",
       "  2   "
      ]
     },
     "execution_count": 15,
     "metadata": {},
     "output_type": "execute_result"
    }
   ],
   "source": [
    "integrate(f(x,y), (y, 0, x), (x, 0, 1))"
   ]
  },
  {
   "cell_type": "code",
   "execution_count": 16,
   "id": "bddc9f7b",
   "metadata": {},
   "outputs": [
    {
     "data": {
      "text/latex": [
       "$6$"
      ],
      "text/plain": [
       "6"
      ]
     },
     "execution_count": 16,
     "metadata": {},
     "output_type": "execute_result"
    }
   ],
   "source": [
    "using SymPy\n",
    "@syms x y z\n",
    "f(x, y) = solve(x+2y+3z-6, z)[1]\n",
    "g(x) = solve(f(x,y), y)\n",
    "integrate(f(x,y), (y, 0, g(x)), (x, 0, 6))"
   ]
  },
  {
   "cell_type": "code",
   "execution_count": 17,
   "id": "f7747eab",
   "metadata": {},
   "outputs": [
    {
     "data": {
      "text/plain": [
       "(1.0, 0.0)"
      ]
     },
     "execution_count": 17,
     "metadata": {},
     "output_type": "execute_result"
    }
   ],
   "source": [
    "using HCubature\n",
    "f(x, y) = abs(x*y)\n",
    "f(v) = f(v...)\n",
    "hcubature(f, [-1,-1], [1,1])"
   ]
  },
  {
   "cell_type": "code",
   "execution_count": 18,
   "id": "44207642",
   "metadata": {
    "md-indent": "    "
   },
   "outputs": [
    {
     "data": {
      "text/latex": [
       "$\\frac{460 \\sqrt{15}}{729}$"
      ],
      "text/plain": [
       "460⋅√15\n",
       "───────\n",
       "  729  "
      ]
     },
     "execution_count": 18,
     "metadata": {},
     "output_type": "execute_result"
    }
   ],
   "source": [
    "using SymPy\n",
    "@syms x y\n",
    "d(x,y) = x^2 * y^2\n",
    "g(x) = 2 - x^2\n",
    "h(x) = -3 + 2x^2\n",
    "sol = solve(g(x)-h(x), x)\n",
    "m = integrate(d(x,y), (y, h(x), g(x)), (x, sol[1], sol[2]))"
   ]
  },
  {
   "cell_type": "code",
   "execution_count": 19,
   "id": "157afffa",
   "metadata": {},
   "outputs": [
    {
     "data": {
      "text/latex": [
       "$0$"
      ],
      "text/plain": [
       "0"
      ]
     },
     "execution_count": 19,
     "metadata": {},
     "output_type": "execute_result"
    }
   ],
   "source": [
    "# Momento con respecto a y\n",
    "my = integrate(x*d(x,y), (y, h(x), g(x)), (x, sol[1], sol[2]))\n",
    "# Centro de masas en x.\n",
    "my / m"
   ]
  },
  {
   "cell_type": "code",
   "execution_count": 20,
   "id": "abbe51db",
   "metadata": {},
   "outputs": [
    {
     "data": {
      "text/latex": [
       "$- \\frac{4159}{5313}$"
      ],
      "text/plain": [
       "-4159 \n",
       "──────\n",
       " 5313 "
      ]
     },
     "execution_count": 20,
     "metadata": {},
     "output_type": "execute_result"
    }
   ],
   "source": [
    "# Momento con respecto a x\n",
    "mx = integrate(y*d(x,y), (y, h(x), g(x)), (x, sol[1], sol[2]))\n",
    "# Centro de masas en y.\n",
    "mx / m"
   ]
  }
 ],
 "metadata": {
  "kernelspec": {
   "display_name": "Julia 1.9.2",
   "language": "julia",
   "name": "julia-1.9"
  },
  "language_info": {
   "file_extension": ".jl",
   "mimetype": "application/julia",
   "name": "julia",
   "version": "1.9.3"
  }
 },
 "nbformat": 4,
 "nbformat_minor": 5
}