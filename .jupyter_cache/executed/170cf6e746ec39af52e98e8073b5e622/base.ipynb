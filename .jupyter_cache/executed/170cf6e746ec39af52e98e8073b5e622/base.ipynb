{
 "cells": [
  {
   "cell_type": "code",
   "execution_count": 1,
   "id": "dbd81bb1",
   "metadata": {},
   "outputs": [],
   "source": [
    "import IJulia\n",
    "\n",
    "# The julia kernel has built in support for Revise.jl, so this is the \n",
    "# recommended approach for long-running sessions:\n",
    "# https://github.com/JuliaLang/IJulia.jl/blob/9b10fa9b879574bbf720f5285029e07758e50a5e/src/kernel.jl#L46-L51\n",
    "\n",
    "# Users should enable revise within .julia/config/startup_ijulia.jl:\n",
    "# https://timholy.github.io/Revise.jl/stable/config/#Using-Revise-automatically-within-Jupyter/IJulia-1\n",
    "\n",
    "# clear console history\n",
    "IJulia.clear_history()\n",
    "\n",
    "fig_width = 7\n",
    "fig_height = 5\n",
    "fig_format = :retina\n",
    "fig_dpi = 96\n",
    "\n",
    "# no retina format type, use svg for high quality type/marks\n",
    "if fig_format == :retina\n",
    "  fig_format = :svg\n",
    "elseif fig_format == :pdf\n",
    "  fig_dpi = 96\n",
    "  # Enable PDF support for IJulia\n",
    "  IJulia.register_mime(MIME(\"application/pdf\"))\n",
    "end\n",
    "\n",
    "# convert inches to pixels\n",
    "fig_width = fig_width * fig_dpi\n",
    "fig_height = fig_height * fig_dpi\n",
    "\n",
    "# Intialize Plots w/ default fig width/height\n",
    "try\n",
    "  import Plots\n",
    "\n",
    "  # Plots.jl doesn't support PDF output for versions < 1.28.1\n",
    "  # so use png (if the DPI remains the default of 300 then set to 96)\n",
    "  if (Plots._current_plots_version < v\"1.28.1\") & (fig_format == :pdf)\n",
    "    Plots.gr(size=(fig_width, fig_height), fmt = :png, dpi = fig_dpi)\n",
    "  else\n",
    "    Plots.gr(size=(fig_width, fig_height), fmt = fig_format, dpi = fig_dpi)\n",
    "  end\n",
    "catch e\n",
    "  # @warn \"Plots init\" exception=(e, catch_backtrace())\n",
    "end\n",
    "\n",
    "# Initialize CairoMakie with default fig width/height\n",
    "try\n",
    "  import CairoMakie\n",
    "  \n",
    "  CairoMakie.activate!(type = string(fig_format))\n",
    "  CairoMakie.update_theme!(resolution=(fig_width, fig_height))\n",
    "catch e\n",
    "    # @warn \"CairoMakie init\" exception=(e, catch_backtrace())\n",
    "end\n",
    "  \n",
    "# Set run_path if specified\n",
    "try\n",
    "  run_path = raw\"/run/media/alf/datos/misrepositorios/docencia/analisis-practicas-julia\"\n",
    "  if !isempty(run_path)\n",
    "    cd(run_path)\n",
    "  end\n",
    "catch e\n",
    "  @warn \"Run path init:\" exception=(e, catch_backtrace())\n",
    "end\n",
    "\n",
    "\n",
    "# emulate old Pkg.installed beahvior, see\n",
    "# https://discourse.julialang.org/t/how-to-use-pkg-dependencies-instead-of-pkg-installed/36416/9\n",
    "import Pkg\n",
    "function isinstalled(pkg::String)\n",
    "  any(x -> x.name == pkg && x.is_direct_dep, values(Pkg.dependencies()))\n",
    "end\n",
    "\n",
    "# ojs_define\n",
    "if isinstalled(\"JSON\") && isinstalled(\"DataFrames\")\n",
    "  import JSON, DataFrames\n",
    "  global function ojs_define(; kwargs...)\n",
    "    convert(x) = x\n",
    "    convert(x::DataFrames.AbstractDataFrame) = Tables.rows(x)\n",
    "    content = Dict(\"contents\" => [Dict(\"name\" => k, \"value\" => convert(v)) for (k, v) in kwargs])\n",
    "    tag = \"<script type='ojs-define'>$(JSON.json(content))</script>\"\n",
    "    IJulia.display(MIME(\"text/html\"), tag)\n",
    "  end\n",
    "elseif isinstalled(\"JSON\")\n",
    "  import JSON\n",
    "  global function ojs_define(; kwargs...)\n",
    "    content = Dict(\"contents\" => [Dict(\"name\" => k, \"value\" => v) for (k, v) in kwargs])\n",
    "    tag = \"<script type='ojs-define'>$(JSON.json(content))</script>\"\n",
    "    IJulia.display(MIME(\"text/html\"), tag)\n",
    "  end\n",
    "else\n",
    "  global function ojs_define(; kwargs...)\n",
    "    @warn \"JSON package not available. Please install the JSON.jl package to use ojs_define.\"\n",
    "  end\n",
    "end\n",
    "\n",
    "\n",
    "# don't return kernel dependencies (b/c Revise should take care of dependencies)\n",
    "nothing\n"
   ]
  },
  {
   "cell_type": "code",
   "execution_count": 2,
   "id": "b35ff37f",
   "metadata": {},
   "outputs": [],
   "source": [
    "using SymPy  # Para el cálculo simbólico de integrales.\n",
    "using QuadGK # Para el cálculo numérico de integrales.\n",
    "using Plots  # Para el dibujo de gráficas.\n",
    "#plotlyjs() # Para obtener gráficos interactivos.\n",
    "using LaTeXStrings  # Para usar código LaTeX en los gráficos."
   ]
  },
  {
   "cell_type": "code",
   "execution_count": 3,
   "id": "8ff7ce1b",
   "metadata": {
    "md-indent": "    "
   },
   "outputs": [
    {
     "data": {
      "text/plain": [
       "0.2850000000000001"
      ]
     },
     "execution_count": 3,
     "metadata": {},
     "output_type": "execute_result"
    }
   ],
   "source": [
    "f(x) = x^2\n",
    "Δx = 1/10\n",
    "areas_inf = [f((i-1)*Δx)*Δx for i = 1:10]\n",
    "sum_inf = sum(areas_inf)"
   ]
  },
  {
   "cell_type": "code",
   "execution_count": 4,
   "id": "08fc3e37",
   "metadata": {
    "md-indent": "    "
   },
   "outputs": [
    {
     "data": {
      "text/plain": [
       "0.3850000000000001"
      ]
     },
     "execution_count": 4,
     "metadata": {},
     "output_type": "execute_result"
    }
   ],
   "source": [
    "f(x) = x^2\n",
    "Δx = 1/10\n",
    "areas_sup = [f(i*Δx)*Δx for i = 1:10]\n",
    "sum_sup = sum(areas_sup)"
   ]
  },
  {
   "cell_type": "code",
   "execution_count": 5,
   "id": "7e2518f6",
   "metadata": {
    "md-indent": "    "
   },
   "outputs": [
    {
     "data": {
      "text/plain": [
       "0.10000000000000003"
      ]
     },
     "execution_count": 5,
     "metadata": {},
     "output_type": "execute_result"
    }
   ],
   "source": [
    "error = sum_sup - sum_inf"
   ]
  },
  {
   "cell_type": "code",
   "execution_count": 6,
   "id": "583fba7c",
   "metadata": {
    "md-indent": "    "
   },
   "outputs": [
    {
     "name": "stdout",
     "output_type": "stream",
     "text": [
      "┌──────────────┬───────────┐\n",
      "│\u001b[1m Aproximación \u001b[0m│\u001b[1m     Error \u001b[0m│\n",
      "├──────────────┼───────────┤\n",
      "│        0.335 │       0.1 │\n",
      "│     0.334711 │ 0.0909091 │\n",
      "│     0.334491 │ 0.0833333 │\n",
      "│      0.33432 │ 0.0769231 │\n",
      "│     0.334184 │ 0.0714286 │\n",
      "│     0.334074 │ 0.0666667 │\n",
      "│     0.333984 │    0.0625 │\n",
      "│      0.33391 │ 0.0588235 │\n",
      "│     0.333848 │ 0.0555556 │\n",
      "│     0.333795 │ 0.0526316 │\n",
      "│      0.33375 │      0.05 │\n",
      "│     0.333711 │  0.047619 │\n",
      "│     0.333678 │ 0.0454545 │\n",
      "│     0.333648 │ 0.0434783 │\n",
      "│     0.333623 │ 0.0416667 │\n",
      "│       0.3336 │      0.04 │\n",
      "│      0.33358 │ 0.0384615 │\n",
      "│     0.333562 │  0.037037 │\n",
      "│     0.333546 │ 0.0357143 │\n",
      "│     0.333532 │ 0.0344828 │\n",
      "│     0.333519 │ 0.0333333 │\n",
      "│     0.333507 │ 0.0322581 │\n",
      "│     0.333496 │   0.03125 │\n",
      "│     0.333486 │  0.030303 │\n",
      "│     0.333478 │ 0.0294118 │\n",
      "│     0.333469 │ 0.0285714 │\n",
      "│     0.333462 │ 0.0277778 │\n",
      "│     0.333455 │  0.027027 │\n",
      "│     0.333449 │ 0.0263158 │\n",
      "│     0.333443 │  0.025641 │\n",
      "│     0.333438 │     0.025 │\n",
      "│     0.333432 │ 0.0243902 │\n",
      "│     0.333428 │ 0.0238095 │\n",
      "│     0.333423 │ 0.0232558 │\n",
      "│     0.333419 │ 0.0227273 │\n",
      "│     0.333416 │ 0.0222222 │\n",
      "│     0.333412 │ 0.0217391 │\n",
      "│     0.333409 │ 0.0212766 │\n",
      "│     0.333406 │ 0.0208333 │\n",
      "│     0.333403 │ 0.0204082 │\n",
      "│       0.3334 │      0.02 │\n",
      "│     0.333397 │ 0.0196078 │\n",
      "│     0.333395 │ 0.0192308 │\n",
      "│     0.333393 │ 0.0188679 │\n",
      "│      0.33339 │ 0.0185185 │\n",
      "│     0.333388 │ 0.0181818 │\n",
      "│     0.333386 │ 0.0178571 │\n",
      "│     0.333385 │ 0.0175439 │\n",
      "│     0.333383 │ 0.0172414 │\n",
      "│     0.333381 │ 0.0169492 │\n",
      "│      0.33338 │ 0.0166667 │\n",
      "│     0.333378 │ 0.0163934 │\n",
      "│     0.333377 │  0.016129 │\n",
      "│     0.333375 │  0.015873 │\n",
      "│     0.333374 │  0.015625 │\n",
      "│     0.333373 │ 0.0153846 │\n",
      "│     0.333372 │ 0.0151515 │\n",
      "│      0.33337 │ 0.0149254 │\n",
      "│     0.333369 │ 0.0147059 │\n",
      "│     0.333368 │ 0.0144928 │\n",
      "│     0.333367 │ 0.0142857 │\n",
      "│     0.333366 │ 0.0140845 │\n",
      "│     0.333365 │ 0.0138889 │\n",
      "│     0.333365 │ 0.0136986 │\n",
      "│     0.333364 │ 0.0135135 │\n",
      "│     0.333363 │ 0.0133333 │\n",
      "│     0.333362 │ 0.0131579 │\n",
      "│     0.333361 │  0.012987 │\n",
      "│     0.333361 │ 0.0128205 │\n",
      "│      0.33336 │ 0.0126582 │\n",
      "│     0.333359 │    0.0125 │\n",
      "│     0.333359 │ 0.0123457 │\n",
      "│     0.333358 │ 0.0121951 │\n",
      "│     0.333358 │ 0.0120482 │\n",
      "│     0.333357 │ 0.0119048 │\n",
      "│     0.333356 │ 0.0117647 │\n",
      "│     0.333356 │ 0.0116279 │\n",
      "│     0.333355 │ 0.0114943 │\n",
      "│     0.333355 │ 0.0113636 │\n",
      "│     0.333354 │  0.011236 │\n",
      "│     0.333354 │ 0.0111111 │\n",
      "│     0.333353 │  0.010989 │\n",
      "│     0.333353 │ 0.0108696 │\n",
      "│     0.333353 │ 0.0107527 │\n",
      "│     0.333352 │ 0.0106383 │\n",
      "│     0.333352 │ 0.0105263 │\n",
      "│     0.333351 │ 0.0104167 │\n",
      "│     0.333351 │ 0.0103093 │\n",
      "│     0.333351 │ 0.0102041 │\n",
      "│      0.33335 │  0.010101 │\n",
      "│      0.33335 │      0.01 │\n",
      "└──────────────┴───────────┘\n"
     ]
    }
   ],
   "source": [
    "using PrettyTables\n",
    "f(x) = x^2\n",
    "function area_inf(a, b, n)\n",
    "    Δx = (b-a)/n\n",
    "    return sum([f(a+(i-1)*Δx)*Δx for i = 1:n])\n",
    "end\n",
    "\n",
    "function area_sup(a, b, n)\n",
    "    Δx = (b-a)/n\n",
    "    return sum([f(a+i*Δx)*Δx for i = 1:n])\n",
    "end\n",
    "\n",
    "function area(a, b, n)\n",
    "    area = (area_inf(a, b, n) + area_sup(a, b, n)) / 2\n",
    "    error = area_sup(a, b, n) - area_inf(a, b, n)\n",
    "    return area, error\n",
    "end\n",
    "\n",
    "areas = [area(0, 1, n) for n=10:100]\n",
    "pretty_table(hcat(first.(areas), last.(areas)); header = [\"Aproximación\", \"Error\"])"
   ]
  },
  {
   "cell_type": "code",
   "execution_count": 7,
   "id": "8b422802",
   "metadata": {
    "md-indent": "    "
   },
   "outputs": [
    {
     "data": {
      "text/latex": [
       "$\\frac{x^{3} \\log{\\left(x \\right)}}{3} - \\frac{x^{3}}{9}$"
      ],
      "text/plain": [
       " 3           3\n",
       "x ⋅log(x)   x \n",
       "───────── - ──\n",
       "    3       9 "
      ]
     },
     "execution_count": 7,
     "metadata": {},
     "output_type": "execute_result"
    }
   ],
   "source": [
    "using SymPy\n",
    "@vars x real=true\n",
    "primitiva = integrate(x^2*ln(x))"
   ]
  },
  {
   "cell_type": "code",
   "execution_count": 8,
   "id": "5524dcfa",
   "metadata": {
    "md-indent": "    "
   },
   "outputs": [
    {
     "data": {
      "text/latex": [
       "$x^{2} \\log{\\left(x \\right)}$"
      ],
      "text/plain": [
       " 2       \n",
       "x ⋅log(x)"
      ]
     },
     "execution_count": 8,
     "metadata": {},
     "output_type": "execute_result"
    }
   ],
   "source": [
    "diff(primitiva)"
   ]
  },
  {
   "cell_type": "code",
   "execution_count": 9,
   "id": "d501d40e",
   "metadata": {
    "md-indent": "    "
   },
   "outputs": [
    {
     "data": {
      "text/latex": [
       "$\\log{\\left(x \\right)} \\log{\\left(\\log{\\left(x \\right)} \\right)} - \\log{\\left(x \\right)}$"
      ],
      "text/plain": [
       "log(x)⋅log(log(x)) - log(x)"
      ]
     },
     "execution_count": 9,
     "metadata": {},
     "output_type": "execute_result"
    }
   ],
   "source": [
    "integrate(ln(ln(x))/x)"
   ]
  },
  {
   "cell_type": "code",
   "execution_count": 10,
   "id": "8979b22d",
   "metadata": {
    "md-indent": "    "
   },
   "outputs": [
    {
     "data": {
      "text/latex": [
       "$\\frac{5 x + 2}{2 \\left(x^{2} + 1\\right)} + \\frac{5}{4 \\left(x + 1\\right)} + \\frac{9}{4 \\left(x - 1\\right)} - \\frac{6}{x}$"
      ],
      "text/plain": [
       " 5⋅x + 2         5           9       6\n",
       "────────── + ───────── + ───────── - ─\n",
       "  ⎛ 2    ⎞   4⋅(x + 1)   4⋅(x - 1)   x\n",
       "2⋅⎝x  + 1⎠                            "
      ]
     },
     "execution_count": 10,
     "metadata": {},
     "output_type": "execute_result"
    }
   ],
   "source": [
    "h(x) = (2x^3+x^2+6)/(x^5-x)\n",
    "# Descomposición en fracciones simples.\n",
    "apart(h(x))"
   ]
  },
  {
   "cell_type": "code",
   "execution_count": 11,
   "id": "9467eca9",
   "metadata": {
    "md-indent": "    "
   },
   "outputs": [
    {
     "data": {
      "text/latex": [
       "$- 6 \\log{\\left(x \\right)} + \\frac{9 \\log{\\left(x - 1 \\right)}}{4} + \\frac{5 \\log{\\left(x + 1 \\right)}}{4} + \\frac{5 \\log{\\left(x^{2} + 1 \\right)}}{4} + \\operatorname{atan}{\\left(x \\right)}$"
      ],
      "text/plain": [
       "                                               ⎛ 2    ⎞          \n",
       "            9⋅log(x - 1)   5⋅log(x + 1)   5⋅log⎝x  + 1⎠          \n",
       "-6⋅log(x) + ──────────── + ──────────── + ───────────── + atan(x)\n",
       "                 4              4               4                "
      ]
     },
     "execution_count": 11,
     "metadata": {},
     "output_type": "execute_result"
    }
   ],
   "source": [
    "integrate(h(x))"
   ]
  },
  {
   "cell_type": "code",
   "execution_count": 12,
   "id": "796781b4",
   "metadata": {
    "md-indent": "    "
   },
   "outputs": [
    {
     "data": {
      "text/latex": [
       "$\\begin{cases} \\frac{x^{a + 1}}{a + 1} & \\text{for}\\: a \\neq -1 \\\\\\log{\\left(x \\right)} & \\text{otherwise} \\end{cases}$"
      ],
      "text/plain": [
       "⎧ a + 1            \n",
       "⎪x                 \n",
       "⎪──────  for a ≠ -1\n",
       "⎨a + 1             \n",
       "⎪                  \n",
       "⎪log(x)  otherwise \n",
       "⎩                  "
      ]
     },
     "execution_count": 12,
     "metadata": {},
     "output_type": "execute_result"
    }
   ],
   "source": [
    "@vars a real=true\n",
    "integrate(x^a, x)"
   ]
  },
  {
   "cell_type": "code",
   "execution_count": 13,
   "id": "8e0f244b",
   "metadata": {
    "md-indent": "    "
   },
   "outputs": [
    {
     "data": {
      "text/latex": [
       "$\\frac{x \\sqrt{x^{2} \\log{\\left(x \\right)}^{2} + 1} \\log{\\left(x \\right)}}{2} + \\frac{\\operatorname{asinh}{\\left(x \\log{\\left(x \\right)} \\right)}}{2}$"
      ],
      "text/plain": [
       "     ________________                         \n",
       "    ╱  2    2                                 \n",
       "x⋅╲╱  x ⋅log (x) + 1 ⋅log(x)   asinh(x⋅log(x))\n",
       "──────────────────────────── + ───────────────\n",
       "             2                        2       "
      ]
     },
     "execution_count": 13,
     "metadata": {},
     "output_type": "execute_result"
    }
   ],
   "source": [
    "@vars x real=true\n",
    "j(x) = (1 + log(x)) * sqrt(1 + (x*log(x))^2 )\n",
    "# El cálculo directo de la integral no funciona.\n",
    "integrate(j(x))\n",
    "# Ayudamos a SymPy con la sustitución.\n",
    "u(x) = x*log(x)\n",
    "@vars y dy real=true\n",
    "# Definimos la nueva función con el cambio de variable.\n",
    "g(y) = j(x)(u(x) => y, diff(u(x), x) => 1)\n",
    "# Integramos la nueva función y deshacemos el cambio de variable.\n",
    "integrate(g(y))(y => u(x))"
   ]
  },
  {
   "cell_type": "code",
   "execution_count": 14,
   "id": "a37c30c3",
   "metadata": {
    "md-indent": "    "
   },
   "outputs": [
    {
     "data": {
      "text/latex": [
       "$0.25$"
      ],
      "text/plain": [
       "0.250000000000000"
      ]
     },
     "execution_count": 14,
     "metadata": {},
     "output_type": "execute_result"
    }
   ],
   "source": [
    "using SymPy\n",
    "@vars x real=true\n",
    "integrate(x^3/x^2+x+1, -1/2, 0)"
   ]
  },
  {
   "cell_type": "code",
   "execution_count": 15,
   "id": "a78720ff",
   "metadata": {
    "md-indent": "    "
   },
   "outputs": [
    {
     "data": {
      "text/latex": [
       "$- 2 \\sqrt{3} + 4 \\operatorname{acosh}{\\left(2 \\right)}$"
      ],
      "text/plain": [
       "-2⋅√3 + 4⋅acosh(2)"
      ]
     },
     "execution_count": 15,
     "metadata": {},
     "output_type": "execute_result"
    }
   ],
   "source": [
    "integrate(sqrt(16-x^2)/x, 2, 4)"
   ]
  },
  {
   "cell_type": "code",
   "execution_count": 16,
   "id": "081e8365",
   "metadata": {
    "md-indent": "    "
   },
   "outputs": [
    {
     "data": {
      "text/latex": [
       "$\\frac{\\sqrt{2} \\pi}{8}$"
      ],
      "text/plain": [
       "√2⋅π\n",
       "────\n",
       " 8  "
      ]
     },
     "execution_count": 16,
     "metadata": {},
     "output_type": "execute_result"
    }
   ],
   "source": [
    "integrate(1/(3+cos(2x)), 0, PI/2)"
   ]
  },
  {
   "cell_type": "code",
   "execution_count": 17,
   "id": "7e6465cb",
   "metadata": {},
   "outputs": [
    {
     "data": {
      "text/latex": [
       "$\\int_{0}^{1} x^{x}\\, dx$"
      ],
      "text/plain": [
       "1      \n",
       "⌠      \n",
       "⎮  x   \n",
       "⎮ x  dx\n",
       "⌡      \n",
       "0      "
      ]
     },
     "execution_count": 17,
     "metadata": {},
     "output_type": "execute_result"
    }
   ],
   "source": [
    "using SymPy\n",
    "@vars x real=true\n",
    "f(x) = x^x\n",
    "integrate(f(x), 0, 1)"
   ]
  },
  {
   "cell_type": "code",
   "execution_count": 18,
   "id": "7d297169",
   "metadata": {},
   "outputs": [
    {
     "data": {
      "text/plain": [
       "(0.783430510710741, 7.598588099878845e-11)"
      ]
     },
     "execution_count": 18,
     "metadata": {},
     "output_type": "execute_result"
    }
   ],
   "source": [
    "using QuadGK\n",
    "quadgk(f(x), 0, 1, rtol = 10^-10)"
   ]
  },
  {
   "cell_type": "code",
   "execution_count": 19,
   "id": "e12aee42",
   "metadata": {},
   "outputs": [
    {
     "data": {
      "image/svg+xml": [
       "<?xml version=\"1.0\" encoding=\"utf-8\"?>\n",
       "<svg xmlns=\"http://www.w3.org/2000/svg\" xmlns:xlink=\"http://www.w3.org/1999/xlink\" width=\"672\" height=\"480\" viewBox=\"0 0 2688 1920\">\n",
       "<defs>\n",
       "  <clipPath id=\"clip250\">\n",
       "    <rect x=\"0\" y=\"0\" width=\"2688\" height=\"1920\"/>\n",
       "  </clipPath>\n",
       "</defs>\n",
       "<path clip-path=\"url(#clip250)\" d=\"\n",
       "M0 1920 L2688 1920 L2688 0 L0 0  Z\n",
       "  \" fill=\"#ffffff\" fill-rule=\"evenodd\" fill-opacity=\"1\"/>\n",
       "<defs>\n",
       "  <clipPath id=\"clip251\">\n",
       "    <rect x=\"537\" y=\"0\" width=\"1883\" height=\"1883\"/>\n",
       "  </clipPath>\n",
       "</defs>\n",
       "<path clip-path=\"url(#clip250)\" d=\"\n",
       "M196.816 1800.78 L2640.76 1800.78 L2640.76 47.2441 L196.816 47.2441  Z\n",
       "  \" fill=\"#ffffff\" fill-rule=\"evenodd\" fill-opacity=\"1\"/>\n",
       "<defs>\n",
       "  <clipPath id=\"clip252\">\n",
       "    <rect x=\"196\" y=\"47\" width=\"2445\" height=\"1755\"/>\n",
       "  </clipPath>\n",
       "</defs>\n",
       "<polyline clip-path=\"url(#clip252)\" style=\"stroke:#000000; stroke-linecap:round; stroke-linejoin:round; stroke-width:2; stroke-opacity:0.1; fill:none\" points=\"\n",
       "  265.984,1800.78 265.984,47.2441 \n",
       "  \"/>\n",
       "<polyline clip-path=\"url(#clip252)\" style=\"stroke:#000000; stroke-linecap:round; stroke-linejoin:round; stroke-width:2; stroke-opacity:0.1; fill:none\" points=\"\n",
       "  727.105,1800.78 727.105,47.2441 \n",
       "  \"/>\n",
       "<polyline clip-path=\"url(#clip252)\" style=\"stroke:#000000; stroke-linecap:round; stroke-linejoin:round; stroke-width:2; stroke-opacity:0.1; fill:none\" points=\"\n",
       "  1188.23,1800.78 1188.23,47.2441 \n",
       "  \"/>\n",
       "<polyline clip-path=\"url(#clip252)\" style=\"stroke:#000000; stroke-linecap:round; stroke-linejoin:round; stroke-width:2; stroke-opacity:0.1; fill:none\" points=\"\n",
       "  1649.35,1800.78 1649.35,47.2441 \n",
       "  \"/>\n",
       "<polyline clip-path=\"url(#clip252)\" style=\"stroke:#000000; stroke-linecap:round; stroke-linejoin:round; stroke-width:2; stroke-opacity:0.1; fill:none\" points=\"\n",
       "  2110.47,1800.78 2110.47,47.2441 \n",
       "  \"/>\n",
       "<polyline clip-path=\"url(#clip252)\" style=\"stroke:#000000; stroke-linecap:round; stroke-linejoin:round; stroke-width:2; stroke-opacity:0.1; fill:none\" points=\"\n",
       "  2571.59,1800.78 2571.59,47.2441 \n",
       "  \"/>\n",
       "<polyline clip-path=\"url(#clip250)\" style=\"stroke:#000000; stroke-linecap:round; stroke-linejoin:round; stroke-width:4; stroke-opacity:1; fill:none\" points=\"\n",
       "  196.816,1800.78 2640.76,1800.78 \n",
       "  \"/>\n",
       "<polyline clip-path=\"url(#clip250)\" style=\"stroke:#000000; stroke-linecap:round; stroke-linejoin:round; stroke-width:4; stroke-opacity:1; fill:none\" points=\"\n",
       "  265.984,1800.78 265.984,1781.88 \n",
       "  \"/>\n",
       "<polyline clip-path=\"url(#clip250)\" style=\"stroke:#000000; stroke-linecap:round; stroke-linejoin:round; stroke-width:4; stroke-opacity:1; fill:none\" points=\"\n",
       "  727.105,1800.78 727.105,1781.88 \n",
       "  \"/>\n",
       "<polyline clip-path=\"url(#clip250)\" style=\"stroke:#000000; stroke-linecap:round; stroke-linejoin:round; stroke-width:4; stroke-opacity:1; fill:none\" points=\"\n",
       "  1188.23,1800.78 1188.23,1781.88 \n",
       "  \"/>\n",
       "<polyline clip-path=\"url(#clip250)\" style=\"stroke:#000000; stroke-linecap:round; stroke-linejoin:round; stroke-width:4; stroke-opacity:1; fill:none\" points=\"\n",
       "  1649.35,1800.78 1649.35,1781.88 \n",
       "  \"/>\n",
       "<polyline clip-path=\"url(#clip250)\" style=\"stroke:#000000; stroke-linecap:round; stroke-linejoin:round; stroke-width:4; stroke-opacity:1; fill:none\" points=\"\n",
       "  2110.47,1800.78 2110.47,1781.88 \n",
       "  \"/>\n",
       "<polyline clip-path=\"url(#clip250)\" style=\"stroke:#000000; stroke-linecap:round; stroke-linejoin:round; stroke-width:4; stroke-opacity:1; fill:none\" points=\"\n",
       "  2571.59,1800.78 2571.59,1781.88 \n",
       "  \"/>\n",
       "<path clip-path=\"url(#clip250)\" d=\"M260.637 1861.55 L276.956 1861.55 L276.956 1865.48 L255.012 1865.48 L255.012 1861.55 Q257.674 1858.79 262.257 1854.16 Q266.864 1849.51 268.044 1848.17 Q270.29 1845.65 271.169 1843.91 Q272.072 1842.15 272.072 1840.46 Q272.072 1837.71 270.128 1835.97 Q268.206 1834.23 265.104 1834.23 Q262.905 1834.23 260.452 1835 Q258.021 1835.76 255.243 1837.31 L255.243 1832.59 Q258.067 1831.46 260.521 1830.88 Q262.975 1830.3 265.012 1830.3 Q270.382 1830.3 273.577 1832.98 Q276.771 1835.67 276.771 1840.16 Q276.771 1842.29 275.961 1844.21 Q275.174 1846.11 273.067 1848.7 Q272.489 1849.37 269.387 1852.59 Q266.285 1855.78 260.637 1861.55 Z\" fill=\"#000000\" fill-rule=\"evenodd\" fill-opacity=\"1\" /><path clip-path=\"url(#clip250)\" d=\"M731.353 1846.85 Q734.709 1847.57 736.584 1849.84 Q738.482 1852.1 738.482 1855.44 Q738.482 1860.55 734.964 1863.35 Q731.445 1866.15 724.964 1866.15 Q722.788 1866.15 720.473 1865.71 Q718.181 1865.3 715.728 1864.44 L715.728 1859.93 Q717.672 1861.06 719.987 1861.64 Q722.302 1862.22 724.825 1862.22 Q729.223 1862.22 731.515 1860.48 Q733.829 1858.75 733.829 1855.44 Q733.829 1852.38 731.677 1850.67 Q729.547 1848.93 725.728 1848.93 L721.7 1848.93 L721.7 1845.09 L725.913 1845.09 Q729.362 1845.09 731.19 1843.72 Q733.019 1842.34 733.019 1839.74 Q733.019 1837.08 731.121 1835.67 Q729.246 1834.23 725.728 1834.23 Q723.806 1834.23 721.607 1834.65 Q719.408 1835.07 716.769 1835.95 L716.769 1831.78 Q719.431 1831.04 721.746 1830.67 Q724.084 1830.3 726.144 1830.3 Q731.468 1830.3 734.57 1832.73 Q737.672 1835.14 737.672 1839.26 Q737.672 1842.13 736.028 1844.12 Q734.385 1846.09 731.353 1846.85 Z\" fill=\"#000000\" fill-rule=\"evenodd\" fill-opacity=\"1\" /><path clip-path=\"url(#clip250)\" d=\"M1191.23 1835 L1179.43 1853.45 L1191.23 1853.45 L1191.23 1835 M1190.01 1830.92 L1195.89 1830.92 L1195.89 1853.45 L1200.82 1853.45 L1200.82 1857.34 L1195.89 1857.34 L1195.89 1865.48 L1191.23 1865.48 L1191.23 1857.34 L1175.63 1857.34 L1175.63 1852.82 L1190.01 1830.92 Z\" fill=\"#000000\" fill-rule=\"evenodd\" fill-opacity=\"1\" /><path clip-path=\"url(#clip250)\" d=\"M1639.62 1830.92 L1657.98 1830.92 L1657.98 1834.86 L1643.91 1834.86 L1643.91 1843.33 Q1644.93 1842.98 1645.94 1842.82 Q1646.96 1842.64 1647.98 1842.64 Q1653.77 1842.64 1657.15 1845.81 Q1660.53 1848.98 1660.53 1854.4 Q1660.53 1859.97 1657.05 1863.08 Q1653.58 1866.15 1647.26 1866.15 Q1645.09 1866.15 1642.82 1865.78 Q1640.57 1865.41 1638.17 1864.67 L1638.17 1859.97 Q1640.25 1861.11 1642.47 1861.66 Q1644.69 1862.22 1647.17 1862.22 Q1651.18 1862.22 1653.51 1860.11 Q1655.85 1858.01 1655.85 1854.4 Q1655.85 1850.78 1653.51 1848.68 Q1651.18 1846.57 1647.17 1846.57 Q1645.3 1846.57 1643.42 1846.99 Q1641.57 1847.4 1639.62 1848.28 L1639.62 1830.92 Z\" fill=\"#000000\" fill-rule=\"evenodd\" fill-opacity=\"1\" /><path clip-path=\"url(#clip250)\" d=\"M2110.87 1846.34 Q2107.72 1846.34 2105.87 1848.49 Q2104.04 1850.65 2104.04 1854.4 Q2104.04 1858.12 2105.87 1860.3 Q2107.72 1862.45 2110.87 1862.45 Q2114.02 1862.45 2115.85 1860.3 Q2117.7 1858.12 2117.7 1854.4 Q2117.7 1850.65 2115.85 1848.49 Q2114.02 1846.34 2110.87 1846.34 M2120.15 1831.69 L2120.15 1835.95 Q2118.4 1835.11 2116.59 1834.67 Q2114.81 1834.23 2113.05 1834.23 Q2108.42 1834.23 2105.96 1837.36 Q2103.53 1840.48 2103.19 1846.8 Q2104.55 1844.79 2106.61 1843.72 Q2108.67 1842.64 2111.15 1842.64 Q2116.36 1842.64 2119.37 1845.81 Q2122.4 1848.96 2122.4 1854.4 Q2122.4 1859.72 2119.25 1862.94 Q2116.1 1866.15 2110.87 1866.15 Q2104.88 1866.15 2101.71 1861.57 Q2098.53 1856.96 2098.53 1848.24 Q2098.53 1840.04 2102.42 1835.18 Q2106.31 1830.3 2112.86 1830.3 Q2114.62 1830.3 2116.4 1830.65 Q2118.21 1830.99 2120.15 1831.69 Z\" fill=\"#000000\" fill-rule=\"evenodd\" fill-opacity=\"1\" /><path clip-path=\"url(#clip250)\" d=\"M2560.48 1830.92 L2582.7 1830.92 L2582.7 1832.91 L2570.15 1865.48 L2565.27 1865.48 L2577.07 1834.86 L2560.48 1834.86 L2560.48 1830.92 Z\" fill=\"#000000\" fill-rule=\"evenodd\" fill-opacity=\"1\" /><polyline clip-path=\"url(#clip252)\" style=\"stroke:#000000; stroke-linecap:round; stroke-linejoin:round; stroke-width:2; stroke-opacity:0.1; fill:none\" points=\"\n",
       "  196.816,1582.36 2640.76,1582.36 \n",
       "  \"/>\n",
       "<polyline clip-path=\"url(#clip252)\" style=\"stroke:#000000; stroke-linecap:round; stroke-linejoin:round; stroke-width:2; stroke-opacity:0.1; fill:none\" points=\"\n",
       "  196.816,1244.75 2640.76,1244.75 \n",
       "  \"/>\n",
       "<polyline clip-path=\"url(#clip252)\" style=\"stroke:#000000; stroke-linecap:round; stroke-linejoin:round; stroke-width:2; stroke-opacity:0.1; fill:none\" points=\"\n",
       "  196.816,907.138 2640.76,907.138 \n",
       "  \"/>\n",
       "<polyline clip-path=\"url(#clip252)\" style=\"stroke:#000000; stroke-linecap:round; stroke-linejoin:round; stroke-width:2; stroke-opacity:0.1; fill:none\" points=\"\n",
       "  196.816,569.527 2640.76,569.527 \n",
       "  \"/>\n",
       "<polyline clip-path=\"url(#clip252)\" style=\"stroke:#000000; stroke-linecap:round; stroke-linejoin:round; stroke-width:2; stroke-opacity:0.1; fill:none\" points=\"\n",
       "  196.816,231.917 2640.76,231.917 \n",
       "  \"/>\n",
       "<polyline clip-path=\"url(#clip250)\" style=\"stroke:#000000; stroke-linecap:round; stroke-linejoin:round; stroke-width:4; stroke-opacity:1; fill:none\" points=\"\n",
       "  196.816,1800.78 196.816,47.2441 \n",
       "  \"/>\n",
       "<polyline clip-path=\"url(#clip250)\" style=\"stroke:#000000; stroke-linecap:round; stroke-linejoin:round; stroke-width:4; stroke-opacity:1; fill:none\" points=\"\n",
       "  196.816,1582.36 215.714,1582.36 \n",
       "  \"/>\n",
       "<polyline clip-path=\"url(#clip250)\" style=\"stroke:#000000; stroke-linecap:round; stroke-linejoin:round; stroke-width:4; stroke-opacity:1; fill:none\" points=\"\n",
       "  196.816,1244.75 215.714,1244.75 \n",
       "  \"/>\n",
       "<polyline clip-path=\"url(#clip250)\" style=\"stroke:#000000; stroke-linecap:round; stroke-linejoin:round; stroke-width:4; stroke-opacity:1; fill:none\" points=\"\n",
       "  196.816,907.138 215.714,907.138 \n",
       "  \"/>\n",
       "<polyline clip-path=\"url(#clip250)\" style=\"stroke:#000000; stroke-linecap:round; stroke-linejoin:round; stroke-width:4; stroke-opacity:1; fill:none\" points=\"\n",
       "  196.816,569.527 215.714,569.527 \n",
       "  \"/>\n",
       "<polyline clip-path=\"url(#clip250)\" style=\"stroke:#000000; stroke-linecap:round; stroke-linejoin:round; stroke-width:4; stroke-opacity:1; fill:none\" points=\"\n",
       "  196.816,231.917 215.714,231.917 \n",
       "  \"/>\n",
       "<path clip-path=\"url(#clip250)\" d=\"M49.5521 1582.81 L79.2279 1582.81 L79.2279 1586.75 L49.5521 1586.75 L49.5521 1582.81 Z\" fill=\"#000000\" fill-rule=\"evenodd\" fill-opacity=\"1\" /><path clip-path=\"url(#clip250)\" d=\"M89.3667 1565.08 L107.723 1565.08 L107.723 1569.01 L93.6491 1569.01 L93.6491 1577.49 Q94.6676 1577.14 95.6861 1576.98 Q96.7047 1576.79 97.7232 1576.79 Q103.51 1576.79 106.89 1579.96 Q110.269 1583.14 110.269 1588.55 Q110.269 1594.13 106.797 1597.23 Q103.325 1600.31 97.0056 1600.31 Q94.8297 1600.31 92.5612 1599.94 Q90.3158 1599.57 87.9084 1598.83 L87.9084 1594.13 Q89.9917 1595.26 92.2139 1595.82 Q94.4361 1596.38 96.913 1596.38 Q100.918 1596.38 103.256 1594.27 Q105.593 1592.16 105.593 1588.55 Q105.593 1584.94 103.256 1582.83 Q100.918 1580.73 96.913 1580.73 Q95.038 1580.73 93.163 1581.14 Q91.3112 1581.56 89.3667 1582.44 L89.3667 1565.08 Z\" fill=\"#000000\" fill-rule=\"evenodd\" fill-opacity=\"1\" /><path clip-path=\"url(#clip250)\" d=\"M119.482 1593.76 L124.367 1593.76 L124.367 1599.64 L119.482 1599.64 L119.482 1593.76 Z\" fill=\"#000000\" fill-rule=\"evenodd\" fill-opacity=\"1\" /><path clip-path=\"url(#clip250)\" d=\"M144.552 1568.16 Q140.941 1568.16 139.112 1571.72 Q137.306 1575.26 137.306 1582.39 Q137.306 1589.5 139.112 1593.07 Q140.941 1596.61 144.552 1596.61 Q148.186 1596.61 149.991 1593.07 Q151.82 1589.5 151.82 1582.39 Q151.82 1575.26 149.991 1571.72 Q148.186 1568.16 144.552 1568.16 M144.552 1564.45 Q150.362 1564.45 153.417 1569.06 Q156.496 1573.64 156.496 1582.39 Q156.496 1591.12 153.417 1595.73 Q150.362 1600.31 144.552 1600.31 Q138.741 1600.31 135.663 1595.73 Q132.607 1591.12 132.607 1582.39 Q132.607 1573.64 135.663 1569.06 Q138.741 1564.45 144.552 1564.45 Z\" fill=\"#000000\" fill-rule=\"evenodd\" fill-opacity=\"1\" /><path clip-path=\"url(#clip250)\" d=\"M50.5475 1245.2 L80.2233 1245.2 L80.2233 1249.14 L50.5475 1249.14 L50.5475 1245.2 Z\" fill=\"#000000\" fill-rule=\"evenodd\" fill-opacity=\"1\" /><path clip-path=\"url(#clip250)\" d=\"M94.3436 1258.09 L110.663 1258.09 L110.663 1262.03 L88.7186 1262.03 L88.7186 1258.09 Q91.3806 1255.34 95.9639 1250.71 Q100.57 1246.06 101.751 1244.71 Q103.996 1242.19 104.876 1240.45 Q105.779 1238.7 105.779 1237.01 Q105.779 1234.25 103.834 1232.52 Q101.913 1230.78 98.8111 1230.78 Q96.6121 1230.78 94.1584 1231.54 Q91.7278 1232.31 88.9501 1233.86 L88.9501 1229.14 Q91.7741 1228 94.2278 1227.42 Q96.6815 1226.84 98.7185 1226.84 Q104.089 1226.84 107.283 1229.53 Q110.478 1232.21 110.478 1236.7 Q110.478 1238.83 109.668 1240.76 Q108.881 1242.65 106.774 1245.25 Q106.195 1245.92 103.094 1249.14 Q99.9917 1252.33 94.3436 1258.09 Z\" fill=\"#000000\" fill-rule=\"evenodd\" fill-opacity=\"1\" /><path clip-path=\"url(#clip250)\" d=\"M120.478 1256.15 L125.362 1256.15 L125.362 1262.03 L120.478 1262.03 L120.478 1256.15 Z\" fill=\"#000000\" fill-rule=\"evenodd\" fill-opacity=\"1\" /><path clip-path=\"url(#clip250)\" d=\"M135.593 1227.47 L153.95 1227.47 L153.95 1231.4 L139.876 1231.4 L139.876 1239.88 Q140.894 1239.53 141.913 1239.37 Q142.931 1239.18 143.95 1239.18 Q149.737 1239.18 153.116 1242.35 Q156.496 1245.52 156.496 1250.94 Q156.496 1256.52 153.024 1259.62 Q149.552 1262.7 143.232 1262.7 Q141.056 1262.7 138.788 1262.33 Q136.542 1261.96 134.135 1261.22 L134.135 1256.52 Q136.218 1257.65 138.441 1258.21 Q140.663 1258.77 143.14 1258.77 Q147.144 1258.77 149.482 1256.66 Q151.82 1254.55 151.82 1250.94 Q151.82 1247.33 149.482 1245.22 Q147.144 1243.12 143.14 1243.12 Q141.265 1243.12 139.39 1243.53 Q137.538 1243.95 135.593 1244.83 L135.593 1227.47 Z\" fill=\"#000000\" fill-rule=\"evenodd\" fill-opacity=\"1\" /><path clip-path=\"url(#clip250)\" d=\"M99.3204 892.937 Q95.7093 892.937 93.8806 896.502 Q92.075 900.043 92.075 907.173 Q92.075 914.279 93.8806 917.844 Q95.7093 921.386 99.3204 921.386 Q102.955 921.386 104.76 917.844 Q106.589 914.279 106.589 907.173 Q106.589 900.043 104.76 896.502 Q102.955 892.937 99.3204 892.937 M99.3204 889.233 Q105.131 889.233 108.186 893.84 Q111.265 898.423 111.265 907.173 Q111.265 915.9 108.186 920.506 Q105.131 925.089 99.3204 925.089 Q93.5102 925.089 90.4315 920.506 Q87.376 915.9 87.376 907.173 Q87.376 898.423 90.4315 893.84 Q93.5102 889.233 99.3204 889.233 Z\" fill=\"#000000\" fill-rule=\"evenodd\" fill-opacity=\"1\" /><path clip-path=\"url(#clip250)\" d=\"M119.482 918.539 L124.367 918.539 L124.367 924.418 L119.482 924.418 L119.482 918.539 Z\" fill=\"#000000\" fill-rule=\"evenodd\" fill-opacity=\"1\" /><path clip-path=\"url(#clip250)\" d=\"M144.552 892.937 Q140.941 892.937 139.112 896.502 Q137.306 900.043 137.306 907.173 Q137.306 914.279 139.112 917.844 Q140.941 921.386 144.552 921.386 Q148.186 921.386 149.991 917.844 Q151.82 914.279 151.82 907.173 Q151.82 900.043 149.991 896.502 Q148.186 892.937 144.552 892.937 M144.552 889.233 Q150.362 889.233 153.417 893.84 Q156.496 898.423 156.496 907.173 Q156.496 915.9 153.417 920.506 Q150.362 925.089 144.552 925.089 Q138.741 925.089 135.663 920.506 Q132.607 915.9 132.607 907.173 Q132.607 898.423 135.663 893.84 Q138.741 889.233 144.552 889.233 Z\" fill=\"#000000\" fill-rule=\"evenodd\" fill-opacity=\"1\" /><path clip-path=\"url(#clip250)\" d=\"M94.3436 582.872 L110.663 582.872 L110.663 586.807 L88.7186 586.807 L88.7186 582.872 Q91.3806 580.118 95.9639 575.488 Q100.57 570.835 101.751 569.493 Q103.996 566.97 104.876 565.233 Q105.779 563.474 105.779 561.784 Q105.779 559.03 103.834 557.294 Q101.913 555.558 98.8111 555.558 Q96.6121 555.558 94.1584 556.322 Q91.7278 557.085 88.9501 558.636 L88.9501 553.914 Q91.7741 552.78 94.2278 552.201 Q96.6815 551.622 98.7185 551.622 Q104.089 551.622 107.283 554.308 Q110.478 556.993 110.478 561.484 Q110.478 563.613 109.668 565.534 Q108.881 567.433 106.774 570.025 Q106.195 570.696 103.094 573.914 Q99.9917 577.108 94.3436 582.872 Z\" fill=\"#000000\" fill-rule=\"evenodd\" fill-opacity=\"1\" /><path clip-path=\"url(#clip250)\" d=\"M120.478 580.928 L125.362 580.928 L125.362 586.807 L120.478 586.807 L120.478 580.928 Z\" fill=\"#000000\" fill-rule=\"evenodd\" fill-opacity=\"1\" /><path clip-path=\"url(#clip250)\" d=\"M135.593 552.247 L153.95 552.247 L153.95 556.183 L139.876 556.183 L139.876 564.655 Q140.894 564.308 141.913 564.146 Q142.931 563.96 143.95 563.96 Q149.737 563.96 153.116 567.132 Q156.496 570.303 156.496 575.72 Q156.496 581.298 153.024 584.4 Q149.552 587.479 143.232 587.479 Q141.056 587.479 138.788 587.108 Q136.542 586.738 134.135 585.997 L134.135 581.298 Q136.218 582.432 138.441 582.988 Q140.663 583.544 143.14 583.544 Q147.144 583.544 149.482 581.437 Q151.82 579.331 151.82 575.72 Q151.82 572.108 149.482 570.002 Q147.144 567.896 143.14 567.896 Q141.265 567.896 139.39 568.312 Q137.538 568.729 135.593 569.608 L135.593 552.247 Z\" fill=\"#000000\" fill-rule=\"evenodd\" fill-opacity=\"1\" /><path clip-path=\"url(#clip250)\" d=\"M89.3667 214.637 L107.723 214.637 L107.723 218.572 L93.6491 218.572 L93.6491 227.044 Q94.6676 226.697 95.6861 226.535 Q96.7047 226.35 97.7232 226.35 Q103.51 226.35 106.89 229.521 Q110.269 232.692 110.269 238.109 Q110.269 243.688 106.797 246.789 Q103.325 249.868 97.0056 249.868 Q94.8297 249.868 92.5612 249.498 Q90.3158 249.127 87.9084 248.387 L87.9084 243.688 Q89.9917 244.822 92.2139 245.377 Q94.4361 245.933 96.913 245.933 Q100.918 245.933 103.256 243.826 Q105.593 241.72 105.593 238.109 Q105.593 234.498 103.256 232.391 Q100.918 230.285 96.913 230.285 Q95.038 230.285 93.163 230.701 Q91.3112 231.118 89.3667 231.998 L89.3667 214.637 Z\" fill=\"#000000\" fill-rule=\"evenodd\" fill-opacity=\"1\" /><path clip-path=\"url(#clip250)\" d=\"M119.482 243.317 L124.367 243.317 L124.367 249.197 L119.482 249.197 L119.482 243.317 Z\" fill=\"#000000\" fill-rule=\"evenodd\" fill-opacity=\"1\" /><path clip-path=\"url(#clip250)\" d=\"M144.552 217.715 Q140.941 217.715 139.112 221.28 Q137.306 224.822 137.306 231.951 Q137.306 239.058 139.112 242.623 Q140.941 246.164 144.552 246.164 Q148.186 246.164 149.991 242.623 Q151.82 239.058 151.82 231.951 Q151.82 224.822 149.991 221.28 Q148.186 217.715 144.552 217.715 M144.552 214.012 Q150.362 214.012 153.417 218.618 Q156.496 223.202 156.496 231.951 Q156.496 240.678 153.417 245.285 Q150.362 249.868 144.552 249.868 Q138.741 249.868 135.663 245.285 Q132.607 240.678 132.607 231.951 Q132.607 223.202 135.663 218.618 Q138.741 214.012 144.552 214.012 Z\" fill=\"#000000\" fill-rule=\"evenodd\" fill-opacity=\"1\" /><path clip-path=\"url(#clip252)\" d=\"\n",
       "M265.984 1447.32 L269.737 1450.6 L273.489 1453.87 L277.242 1457.13 L280.995 1460.36 L315.694 1489.42 L350.393 1516.95 L385.092 1542.95 L419.791 1567.42 L461.496 1594.81 \n",
       "  L503.201 1619.99 L538.463 1639.56 L573.724 1657.54 L612.028 1675.29 L650.331 1691.18 L685.644 1704.17 L720.956 1715.58 L758.815 1726.05 L796.674 1734.7 L840.537 1742.45 \n",
       "  L884.4 1747.76 L923.381 1750.42 L962.361 1751.15 L996.543 1750.2 L1030.73 1747.77 L1067.99 1743.43 L1105.26 1737.33 L1142.75 1729.41 L1180.24 1719.7 L1221.69 1706.89 \n",
       "  L1263.14 1691.9 L1302.58 1675.61 L1342.01 1657.34 L1383.02 1636.26 L1424.03 1613.03 L1458.55 1591.83 L1493.06 1569.11 L1535.21 1539.32 L1577.35 1507.28 L1615.96 1475.94 \n",
       "  L1654.56 1442.71 L1690.22 1410.34 L1725.87 1376.36 L1761.99 1340.29 L1798.11 1302.56 L1838.59 1258.31 L1879.07 1211.97 L1915.75 1168.19 L1952.43 1122.7 L1994.42 1068.51 \n",
       "  L2036.42 1012.09 L2075.3 957.846 L2114.19 901.685 L2152.52 844.435 L2190.86 785.32 L2228.08 726.137 L2265.3 665.195 L2303.45 600.895 L2341.61 534.745 L2383.41 460.148 \n",
       "  L2425.22 383.33 L2485.94 267.786 L2546.67 147.558 L2559.13 122.314 L2571.59 96.8724 L2571.59 907.138 L2559.13 907.138 L2546.67 907.138 L2485.94 907.138 L2425.22 907.138 \n",
       "  L2383.41 907.138 L2341.61 907.138 L2303.45 907.138 L2265.3 907.138 L2228.08 907.138 L2190.86 907.138 L2152.52 907.138 L2114.19 907.138 L2075.3 907.138 L2036.42 907.138 \n",
       "  L1994.42 907.138 L1952.43 907.138 L1915.75 907.138 L1879.07 907.138 L1838.59 907.138 L1798.11 907.138 L1761.99 907.138 L1725.87 907.138 L1690.22 907.138 L1654.56 907.138 \n",
       "  L1615.96 907.138 L1577.35 907.138 L1535.21 907.138 L1493.06 907.138 L1458.55 907.138 L1424.03 907.138 L1383.02 907.138 L1342.01 907.138 L1302.58 907.138 L1263.14 907.138 \n",
       "  L1221.69 907.138 L1180.24 907.138 L1142.75 907.138 L1105.26 907.138 L1067.99 907.138 L1030.73 907.138 L996.543 907.138 L962.361 907.138 L923.381 907.138 L884.4 907.138 \n",
       "  L840.537 907.138 L796.674 907.138 L758.815 907.138 L720.956 907.138 L685.644 907.138 L650.331 907.138 L612.028 907.138 L573.724 907.138 L538.463 907.138 L503.201 907.138 \n",
       "  L461.496 907.138 L419.791 907.138 L385.092 907.138 L350.393 907.138 L315.694 907.138 L280.995 907.138 L277.242 907.138 L273.489 907.138 L269.737 907.138 L265.984 907.138 \n",
       "   Z\n",
       "  \" fill=\"#009af9\" fill-rule=\"evenodd\" fill-opacity=\"0.3\"/>\n",
       "<polyline clip-path=\"url(#clip252)\" style=\"stroke:#009af9; stroke-linecap:round; stroke-linejoin:round; stroke-width:4; stroke-opacity:1; fill:none\" points=\"\n",
       "  265.984,1447.32 269.737,1450.6 273.489,1453.87 277.242,1457.13 280.995,1460.36 315.694,1489.42 350.393,1516.95 385.092,1542.95 419.791,1567.42 461.496,1594.81 \n",
       "  503.201,1619.99 538.463,1639.56 573.724,1657.54 612.028,1675.29 650.331,1691.18 685.644,1704.17 720.956,1715.58 758.815,1726.05 796.674,1734.7 840.537,1742.45 \n",
       "  884.4,1747.76 923.381,1750.42 962.361,1751.15 996.543,1750.2 1030.73,1747.77 1067.99,1743.43 1105.26,1737.33 1142.75,1729.41 1180.24,1719.7 1221.69,1706.89 \n",
       "  1263.14,1691.9 1302.58,1675.61 1342.01,1657.34 1383.02,1636.26 1424.03,1613.03 1458.55,1591.83 1493.06,1569.11 1535.21,1539.32 1577.35,1507.28 1615.96,1475.94 \n",
       "  1654.56,1442.71 1690.22,1410.34 1725.87,1376.36 1761.99,1340.29 1798.11,1302.56 1838.59,1258.31 1879.07,1211.97 1915.75,1168.19 1952.43,1122.7 1994.42,1068.51 \n",
       "  2036.42,1012.09 2075.3,957.846 2114.19,901.685 2152.52,844.435 2190.86,785.32 2228.08,726.137 2265.3,665.195 2303.45,600.895 2341.61,534.745 2383.41,460.148 \n",
       "  2425.22,383.33 2485.94,267.786 2546.67,147.558 2559.13,122.314 2571.59,96.8724 \n",
       "  \"/>\n",
       "<path clip-path=\"url(#clip250)\" d=\"\n",
       "M278.281 209.375 L925.812 209.375 L925.812 105.695 L278.281 105.695  Z\n",
       "  \" fill=\"#ffffff\" fill-rule=\"evenodd\" fill-opacity=\"1\"/>\n",
       "<polyline clip-path=\"url(#clip250)\" style=\"stroke:#000000; stroke-linecap:round; stroke-linejoin:round; stroke-width:4; stroke-opacity:1; fill:none\" points=\"\n",
       "  278.281,209.375 925.812,209.375 925.812,105.695 278.281,105.695 278.281,209.375 \n",
       "  \"/>\n",
       "<path clip-path=\"url(#clip250)\" d=\"\n",
       "M305.436 178.271 L468.365 178.271 L468.365 136.799 L305.436 136.799 L305.436 178.271  Z\n",
       "  \" fill=\"#009af9\" fill-rule=\"evenodd\" fill-opacity=\"0.3\"/>\n",
       "<polyline clip-path=\"url(#clip250)\" style=\"stroke:#009af9; stroke-linecap:round; stroke-linejoin:round; stroke-width:4; stroke-opacity:1; fill:none\" points=\"\n",
       "  305.436,136.799 468.365,136.799 \n",
       "  \"/>\n",
       "<path clip-path=\"url(#clip250)\" d=\"M519.434 139.326 Q519.434 140.615 518.614 141.411 Q517.818 142.207 516.811 142.207 Q516.085 142.207 515.546 141.762 Q515.031 141.317 515.031 140.544 Q515.031 139.748 515.64 138.905 Q516.249 138.062 517.631 137.944 Q516.717 137.078 515.265 137.078 Q514.539 137.078 513.93 137.546 Q513.344 137.991 513.016 138.717 Q512.665 139.467 511.869 143.706 Q511.611 145.088 511.377 146.423 Q511.143 147.758 510.861 149.164 L514.843 149.164 Q515.359 149.164 515.569 149.187 Q515.78 149.211 515.944 149.328 Q516.132 149.445 516.132 149.703 Q516.132 150.358 515.827 150.522 Q515.546 150.663 514.703 150.663 L510.58 150.663 L507.699 165.864 Q507.629 166.309 507.325 167.714 Q507.044 169.096 506.364 171.368 Q505.685 173.664 505.006 175.022 Q504.631 175.795 504.139 176.521 Q503.671 177.271 502.992 178.02 Q502.312 178.77 501.422 179.215 Q500.532 179.683 499.595 179.683 Q498.003 179.683 496.761 178.793 Q495.52 177.903 495.52 176.381 Q495.52 175.092 496.316 174.296 Q497.136 173.5 498.143 173.5 Q498.869 173.5 499.384 173.945 Q499.923 174.39 499.923 175.163 Q499.923 175.491 499.806 175.865 Q499.689 176.24 499.431 176.662 Q499.174 177.107 498.612 177.411 Q498.049 177.716 497.276 177.763 Q498.19 178.629 499.595 178.629 Q500.04 178.629 500.438 178.442 Q500.837 178.278 501.165 177.856 Q501.516 177.435 501.774 177.013 Q502.031 176.615 502.289 175.842 Q502.546 175.092 502.71 174.53 Q502.874 173.968 503.085 172.961 Q503.319 171.954 503.437 171.345 Q503.554 170.759 503.764 169.612 L507.348 150.663 L504.186 150.663 Q503.624 150.663 503.39 150.639 Q503.179 150.616 503.015 150.499 Q502.851 150.358 502.851 150.077 Q502.851 149.632 503.038 149.445 Q503.249 149.234 503.483 149.211 Q503.718 149.164 504.28 149.164 L507.606 149.164 Q508.73 143.238 509.175 141.645 Q509.69 139.959 510.487 138.788 Q511.283 137.593 512.173 137.031 Q513.063 136.469 513.789 136.258 Q514.539 136.024 515.265 136.024 Q516.904 136.024 518.169 136.914 Q519.434 137.78 519.434 139.326 Z\" fill=\"#000000\" fill-rule=\"evenodd\" fill-opacity=\"1\" /><path clip-path=\"url(#clip250)\" d=\"M525.893 157.854 Q525.893 149.749 528.914 143.214 Q530.203 140.474 532.006 138.179 Q533.81 135.883 535.004 134.876 Q536.199 133.869 536.527 133.869 Q536.995 133.869 537.018 134.337 Q537.018 134.572 536.386 135.157 Q528.657 143.027 528.68 157.854 Q528.68 172.727 536.199 180.292 Q537.018 181.112 537.018 181.37 Q537.018 181.838 536.527 181.838 Q536.199 181.838 535.051 180.878 Q533.903 179.917 532.123 177.716 Q530.343 175.514 529.055 172.82 Q525.893 166.286 525.893 157.854 Z\" fill=\"#000000\" fill-rule=\"evenodd\" fill-opacity=\"1\" /><path clip-path=\"url(#clip250)\" d=\"M564.556 151.811 Q564.556 153.122 563.736 153.872 Q562.917 154.598 561.98 154.598 Q561.09 154.598 560.621 154.083 Q560.153 153.567 560.153 152.911 Q560.153 152.021 560.808 151.248 Q561.464 150.475 562.448 150.311 Q561.488 149.703 560.059 149.703 Q559.122 149.703 558.302 150.194 Q557.506 150.686 557.014 151.319 Q556.546 151.951 556.124 152.865 Q555.726 153.755 555.562 154.293 Q555.421 154.809 555.304 155.371 L553.665 161.929 Q552.868 165.044 552.868 166.145 Q552.868 167.504 553.524 168.417 Q554.18 169.307 555.492 169.307 Q556.007 169.307 556.592 169.167 Q557.178 169.003 557.928 168.581 Q558.7 168.136 559.38 167.48 Q560.082 166.801 560.762 165.653 Q561.441 164.506 561.886 163.03 Q562.026 162.515 562.495 162.515 Q563.08 162.515 563.08 162.983 Q563.08 163.381 562.753 164.224 Q562.448 165.044 561.769 166.122 Q561.113 167.176 560.246 168.136 Q559.38 169.073 558.091 169.729 Q556.803 170.385 555.398 170.385 Q553.384 170.385 552.048 169.307 Q550.713 168.23 550.222 166.731 Q550.104 166.941 549.94 167.223 Q549.777 167.504 549.285 168.136 Q548.816 168.745 548.277 169.213 Q547.739 169.658 546.896 170.01 Q546.076 170.385 545.186 170.385 Q544.061 170.385 543.054 170.057 Q542.071 169.729 541.368 168.979 Q540.665 168.23 540.665 167.199 Q540.665 166.051 541.438 165.255 Q542.234 164.435 543.312 164.435 Q543.991 164.435 544.53 164.833 Q545.092 165.232 545.092 166.098 Q545.092 167.059 544.436 167.785 Q543.78 168.511 542.843 168.698 Q543.804 169.307 545.233 169.307 Q546.778 169.307 547.996 167.949 Q549.214 166.59 549.8 164.318 Q551.252 158.861 551.814 156.425 Q552.376 153.965 552.376 152.911 Q552.376 151.928 552.119 151.248 Q551.861 150.569 551.416 150.265 Q550.994 149.937 550.596 149.82 Q550.222 149.703 549.8 149.703 Q549.097 149.703 548.301 149.984 Q547.528 150.265 546.591 150.92 Q545.678 151.553 544.811 152.865 Q543.944 154.176 543.359 155.98 Q543.242 156.518 542.726 156.518 Q542.164 156.495 542.164 156.027 Q542.164 155.628 542.469 154.809 Q542.797 153.965 543.452 152.911 Q544.132 151.857 544.998 150.92 Q545.888 149.96 547.177 149.304 Q548.488 148.649 549.894 148.649 Q550.526 148.649 551.135 148.789 Q551.767 148.906 552.517 149.257 Q553.29 149.609 553.969 150.382 Q554.648 151.155 555.07 152.279 Q555.351 151.74 555.726 151.225 Q556.124 150.71 556.733 150.077 Q557.365 149.421 558.232 149.047 Q559.122 148.649 560.106 148.649 Q561.066 148.649 562.003 148.906 Q562.94 149.14 563.736 149.913 Q564.556 150.663 564.556 151.811 Z\" fill=\"#000000\" fill-rule=\"evenodd\" fill-opacity=\"1\" /><path clip-path=\"url(#clip250)\" d=\"M569.176 181.37 Q569.176 181.135 569.785 180.55 Q577.514 172.68 577.514 157.854 Q577.514 142.98 570.089 135.462 Q569.176 134.595 569.176 134.337 Q569.176 133.869 569.644 133.869 Q569.972 133.869 571.12 134.829 Q572.291 135.79 574.048 137.991 Q575.828 140.193 577.139 142.887 Q580.301 149.421 580.301 157.854 Q580.301 165.958 577.28 172.493 Q575.992 175.233 574.188 177.528 Q572.385 179.824 571.19 180.831 Q569.996 181.838 569.644 181.838 Q569.176 181.838 569.176 181.37 Z\" fill=\"#000000\" fill-rule=\"evenodd\" fill-opacity=\"1\" /><path clip-path=\"url(#clip250)\" d=\"M600.908 162.561 Q600.954 161.976 601.868 161.976 L631.263 161.976 Q632.645 161.976 632.668 162.515 Q632.668 163.1 631.357 163.077 L602.196 163.077 Q600.908 163.1 600.908 162.561 M600.908 153.192 Q600.908 152.607 601.915 152.63 L631.216 152.63 Q632.645 152.63 632.668 153.192 Q632.668 153.731 631.45 153.731 L601.868 153.731 Q600.908 153.731 600.908 153.192 Z\" fill=\"#000000\" fill-rule=\"evenodd\" fill-opacity=\"1\" /><path clip-path=\"url(#clip250)\" d=\"M675.067 151.811 Q675.067 153.122 674.247 153.872 Q673.427 154.598 672.49 154.598 Q671.6 154.598 671.132 154.083 Q670.663 153.567 670.663 152.911 Q670.663 152.021 671.319 151.248 Q671.975 150.475 672.959 150.311 Q671.998 149.703 670.569 149.703 Q669.633 149.703 668.813 150.194 Q668.016 150.686 667.525 151.319 Q667.056 151.951 666.634 152.865 Q666.236 153.755 666.072 154.293 Q665.932 154.809 665.815 155.371 L664.175 161.929 Q663.379 165.044 663.379 166.145 Q663.379 167.504 664.035 168.417 Q664.69 169.307 666.002 169.307 Q666.517 169.307 667.103 169.167 Q667.688 169.003 668.438 168.581 Q669.211 168.136 669.89 167.48 Q670.593 166.801 671.272 165.653 Q671.951 164.506 672.396 163.03 Q672.537 162.515 673.005 162.515 Q673.591 162.515 673.591 162.983 Q673.591 163.381 673.263 164.224 Q672.959 165.044 672.279 166.122 Q671.623 167.176 670.757 168.136 Q669.89 169.073 668.602 169.729 Q667.314 170.385 665.908 170.385 Q663.894 170.385 662.559 169.307 Q661.224 168.23 660.732 166.731 Q660.615 166.941 660.451 167.223 Q660.287 167.504 659.795 168.136 Q659.327 168.745 658.788 169.213 Q658.249 169.658 657.406 170.01 Q656.586 170.385 655.696 170.385 Q654.572 170.385 653.565 170.057 Q652.581 169.729 651.878 168.979 Q651.176 168.23 651.176 167.199 Q651.176 166.051 651.949 165.255 Q652.745 164.435 653.822 164.435 Q654.502 164.435 655.04 164.833 Q655.603 165.232 655.603 166.098 Q655.603 167.059 654.947 167.785 Q654.291 168.511 653.354 168.698 Q654.314 169.307 655.743 169.307 Q657.289 169.307 658.507 167.949 Q659.725 166.59 660.31 164.318 Q661.763 158.861 662.325 156.425 Q662.887 153.965 662.887 152.911 Q662.887 151.928 662.629 151.248 Q662.372 150.569 661.927 150.265 Q661.505 149.937 661.107 149.82 Q660.732 149.703 660.31 149.703 Q659.608 149.703 658.811 149.984 Q658.038 150.265 657.102 150.92 Q656.188 151.553 655.321 152.865 Q654.455 154.176 653.869 155.98 Q653.752 156.518 653.237 156.518 Q652.675 156.495 652.675 156.027 Q652.675 155.628 652.979 154.809 Q653.307 153.965 653.963 152.911 Q654.642 151.857 655.509 150.92 Q656.399 149.96 657.687 149.304 Q658.999 148.649 660.404 148.649 Q661.037 148.649 661.645 148.789 Q662.278 148.906 663.027 149.257 Q663.8 149.609 664.48 150.382 Q665.159 151.155 665.58 152.279 Q665.862 151.74 666.236 151.225 Q666.634 150.71 667.243 150.077 Q667.876 149.421 668.742 149.047 Q669.633 148.649 670.616 148.649 Q671.577 148.649 672.514 148.906 Q673.45 149.14 674.247 149.913 Q675.067 150.663 675.067 151.811 Z\" fill=\"#000000\" fill-rule=\"evenodd\" fill-opacity=\"1\" /><path clip-path=\"url(#clip250)\" d=\"M679.956 155.49 Q679.956 154.884 680.005 154.703 Q680.07 154.523 680.333 154.244 L686.776 147.063 Q690.301 143.095 690.301 139.636 Q690.301 137.389 689.121 135.783 Q687.957 134.176 685.809 134.176 Q684.333 134.176 683.087 135.078 Q681.841 135.979 681.267 137.586 Q681.366 137.553 681.71 137.553 Q682.546 137.553 683.005 138.078 Q683.481 138.603 683.481 139.308 Q683.481 140.209 682.89 140.652 Q682.317 141.078 681.743 141.078 Q681.513 141.078 681.202 141.029 Q680.907 140.98 680.431 140.521 Q679.956 140.045 679.956 139.209 Q679.956 136.865 681.726 134.996 Q683.514 133.126 686.235 133.126 Q689.318 133.126 691.334 134.963 Q693.367 136.783 693.367 139.636 Q693.367 140.636 693.056 141.554 Q692.761 142.456 692.351 143.161 Q691.957 143.866 690.875 144.997 Q689.793 146.128 688.924 146.932 Q688.055 147.735 686.104 149.44 L682.546 152.9 L688.596 152.9 Q691.547 152.9 691.777 152.637 Q692.105 152.162 692.515 149.653 L693.367 149.653 L692.416 155.49 L679.956 155.49 Z\" fill=\"#000000\" fill-rule=\"evenodd\" fill-opacity=\"1\" /><path clip-path=\"url(#clip250)\" d=\"M743.333 157.174 Q743.614 157.455 743.614 157.854 Q743.614 158.252 743.333 158.533 Q743.052 158.814 742.654 158.814 L712.626 158.814 Q712.228 158.814 711.947 158.533 Q711.666 158.252 711.666 157.854 Q711.666 157.455 711.947 157.174 Q712.228 156.893 712.626 156.893 L742.654 156.893 Q743.052 156.893 743.333 157.174 Z\" fill=\"#000000\" fill-rule=\"evenodd\" fill-opacity=\"1\" /><path clip-path=\"url(#clip250)\" d=\"M761.934 147.29 L763.504 137.429 L764.698 137.429 Q764.839 138.015 765.073 138.272 Q765.33 138.53 766.689 138.741 Q768.071 138.952 770.858 138.952 L782.499 138.952 Q782.499 140.052 782.078 140.638 L775.589 149.749 Q773.528 152.63 772.615 157.947 Q772.076 161.507 772.1 165.817 L772.1 168.253 Q772.1 170.9 769.874 170.9 Q767.673 170.9 767.673 168.253 Q767.673 159.095 773.575 150.218 Q774.208 149.304 776.526 146.049 Q778.869 142.793 778.962 142.652 L769.031 142.652 Q764.675 142.652 764.323 142.933 Q763.855 143.355 763.129 147.29 L761.934 147.29 Z\" fill=\"#000000\" fill-rule=\"evenodd\" fill-opacity=\"1\" /><path clip-path=\"url(#clip250)\" d=\"M808.045 151.811 Q808.045 153.122 807.226 153.872 Q806.406 154.598 805.469 154.598 Q804.579 154.598 804.11 154.083 Q803.642 153.567 803.642 152.911 Q803.642 152.021 804.298 151.248 Q804.954 150.475 805.937 150.311 Q804.977 149.703 803.548 149.703 Q802.611 149.703 801.792 150.194 Q800.995 150.686 800.503 151.319 Q800.035 151.951 799.613 152.865 Q799.215 153.755 799.051 154.293 Q798.911 154.809 798.793 155.371 L797.154 161.929 Q796.358 165.044 796.358 166.145 Q796.358 167.504 797.013 168.417 Q797.669 169.307 798.981 169.307 Q799.496 169.307 800.082 169.167 Q800.667 169.003 801.417 168.581 Q802.19 168.136 802.869 167.48 Q803.572 166.801 804.251 165.653 Q804.93 164.506 805.375 163.03 Q805.516 162.515 805.984 162.515 Q806.57 162.515 806.57 162.983 Q806.57 163.381 806.242 164.224 Q805.937 165.044 805.258 166.122 Q804.602 167.176 803.736 168.136 Q802.869 169.073 801.581 169.729 Q800.293 170.385 798.887 170.385 Q796.873 170.385 795.538 169.307 Q794.203 168.23 793.711 166.731 Q793.594 166.941 793.43 167.223 Q793.266 167.504 792.774 168.136 Q792.305 168.745 791.767 169.213 Q791.228 169.658 790.385 170.01 Q789.565 170.385 788.675 170.385 Q787.551 170.385 786.544 170.057 Q785.56 169.729 784.857 168.979 Q784.154 168.23 784.154 167.199 Q784.154 166.051 784.927 165.255 Q785.724 164.435 786.801 164.435 Q787.48 164.435 788.019 164.833 Q788.581 165.232 788.581 166.098 Q788.581 167.059 787.925 167.785 Q787.27 168.511 786.333 168.698 Q787.293 169.307 788.722 169.307 Q790.268 169.307 791.486 167.949 Q792.704 166.59 793.289 164.318 Q794.741 158.861 795.304 156.425 Q795.866 153.965 795.866 152.911 Q795.866 151.928 795.608 151.248 Q795.35 150.569 794.905 150.265 Q794.484 149.937 794.086 149.82 Q793.711 149.703 793.289 149.703 Q792.587 149.703 791.79 149.984 Q791.017 150.265 790.08 150.92 Q789.167 151.553 788.3 152.865 Q787.434 154.176 786.848 155.98 Q786.731 156.518 786.216 156.518 Q785.653 156.495 785.653 156.027 Q785.653 155.628 785.958 154.809 Q786.286 153.965 786.942 152.911 Q787.621 151.857 788.488 150.92 Q789.378 149.96 790.666 149.304 Q791.978 148.649 793.383 148.649 Q794.015 148.649 794.624 148.789 Q795.257 148.906 796.006 149.257 Q796.779 149.609 797.458 150.382 Q798.138 151.155 798.559 152.279 Q798.84 151.74 799.215 151.225 Q799.613 150.71 800.222 150.077 Q800.855 149.421 801.721 149.047 Q802.611 148.649 803.595 148.649 Q804.555 148.649 805.492 148.906 Q806.429 149.14 807.226 149.913 Q808.045 150.663 808.045 151.811 Z\" fill=\"#000000\" fill-rule=\"evenodd\" fill-opacity=\"1\" /><path clip-path=\"url(#clip250)\" d=\"M825.733 158.439 Q824.632 158.439 824.632 157.854 Q824.632 157.268 825.78 157.268 Q825.921 157.268 826.155 157.291 Q826.413 157.315 826.459 157.315 L839.974 157.315 L839.974 143.753 Q839.974 143.706 839.951 143.496 Q839.927 143.261 839.927 143.121 Q839.927 141.973 840.489 141.973 Q841.075 141.973 841.075 143.121 L841.075 157.315 L854.613 157.315 Q854.66 157.315 854.894 157.291 Q855.128 157.268 855.269 157.268 Q856.37 157.268 856.37 157.854 Q856.393 158.439 855.222 158.439 Q855.082 158.439 854.871 158.416 Q854.66 158.392 854.613 158.392 L841.075 158.392 L841.075 172.633 Q841.075 173.734 840.489 173.734 Q839.927 173.734 839.927 172.586 Q839.927 172.446 839.951 172.211 Q839.974 172.001 839.974 171.954 L839.974 158.392 L826.459 158.392 Q826.413 158.392 826.131 158.416 Q825.874 158.439 825.733 158.439 Z\" fill=\"#000000\" fill-rule=\"evenodd\" fill-opacity=\"1\" /><path clip-path=\"url(#clip250)\" d=\"M874.901 154.691 Q874.901 147.149 878.742 142.535 Q882.583 137.898 887.525 137.898 Q890.406 137.898 891.999 139.373 Q893.615 140.825 893.615 143.074 Q893.615 144.315 892.889 144.854 Q892.163 145.393 891.413 145.393 Q890.547 145.393 889.867 144.807 Q889.188 144.222 889.188 143.168 Q889.188 141.013 891.835 141.013 Q890.594 139.092 887.619 139.092 Q886.705 139.092 885.769 139.373 Q884.832 139.631 883.614 140.521 Q882.396 141.411 881.459 142.816 Q880.522 144.222 879.866 146.868 Q879.21 149.515 879.21 152.958 L879.21 154.106 Q881.178 149.351 885.206 149.375 Q889.235 149.375 892.022 152.443 Q894.81 155.511 894.81 160.055 Q894.81 164.716 891.905 167.808 Q889.001 170.9 884.925 170.9 Q883.098 170.9 881.435 170.127 Q879.796 169.377 878.25 167.644 Q876.728 165.911 875.814 162.585 Q874.901 159.259 874.901 154.691 M879.304 159.001 Q879.304 163.709 880.171 165.958 Q880.311 166.332 880.616 166.848 Q880.944 167.363 881.482 168.042 Q882.044 168.698 882.958 169.143 Q883.871 169.565 884.925 169.565 Q888.134 169.565 889.68 166.45 Q890.5 164.716 890.5 160.008 Q890.5 155.207 889.633 153.45 Q888.158 150.475 885.16 150.475 Q883.145 150.475 881.74 151.857 Q880.358 153.239 879.819 155.09 Q879.304 156.94 879.304 159.001 Z\" fill=\"#000000\" fill-rule=\"evenodd\" fill-opacity=\"1\" /></svg>\n"
      ]
     },
     "execution_count": 19,
     "metadata": {},
     "output_type": "execute_result"
    }
   ],
   "source": [
    "using Plots, SymPy, LaTeXStrings\n",
    "@vars x real = true\n",
    "f(x) = x^2-7x+6\n",
    "plot(f, 2, 7, fillrange = 0, fillalpha = 0.3, label = L\"$f(x)=x^2-7x+6$\")"
   ]
  },
  {
   "cell_type": "code",
   "execution_count": 20,
   "id": "261e5109",
   "metadata": {},
   "outputs": [
    {
     "data": {
      "text/latex": [
       "$\\frac{43}{2}$"
      ],
      "text/plain": [
       "43/2"
      ]
     },
     "execution_count": 20,
     "metadata": {},
     "output_type": "execute_result"
    }
   ],
   "source": [
    "# Calculamos primero las raíces de la función\n",
    "solve(f(x))\n",
    "# Descomponemos el intervalo de integración en los subintervalos [2,6] (función negativa) y [6,7] (función positiva) y calculamos las integrales por separado\n",
    "-integrate(f, 2, 6) + integrate(f, 6, 7)"
   ]
  },
  {
   "cell_type": "code",
   "execution_count": 21,
   "id": "43340c55",
   "metadata": {},
   "outputs": [
    {
     "data": {
      "text/latex": [
       "$\\frac{43}{2}$"
      ],
      "text/plain": [
       "43/2"
      ]
     },
     "execution_count": 21,
     "metadata": {},
     "output_type": "execute_result"
    }
   ],
   "source": [
    "integrate(abs(f(x)), 2, 7)"
   ]
  },
  {
   "cell_type": "code",
   "execution_count": 22,
   "id": "160bc4b4",
   "metadata": {},
   "outputs": [
    {
     "data": {
      "text/latex": [
       "$\\frac{64}{3}$"
      ],
      "text/plain": [
       "64/3"
      ]
     },
     "execution_count": 22,
     "metadata": {},
     "output_type": "execute_result"
    }
   ],
   "source": [
    "using Plots, SymPy, LaTeXStrings\n",
    "@vars x real = true\n",
    "f(x) = -x^2+6x\n",
    "g(x) = x^2-2x\n",
    "# Calculamos primero los puntos de corte de la función.\n",
    "raices = solve(f(x)-g(x))\n",
    "# Descomponemos el intervalo de integración en los subintervalos [2,6] (función negativa) y [6,7] (función positiva) y calculamos las integrales por separado\n",
    "sol = integrate(f(x)-g(x), raices[1], raices[2])"
   ]
  },
  {
   "cell_type": "code",
   "execution_count": 23,
   "id": "ab5a1806",
   "metadata": {},
   "outputs": [
    {
     "data": {
      "image/svg+xml": [
       "<?xml version=\"1.0\" encoding=\"utf-8\"?>\n",
       "<svg xmlns=\"http://www.w3.org/2000/svg\" xmlns:xlink=\"http://www.w3.org/1999/xlink\" width=\"672\" height=\"480\" viewBox=\"0 0 2688 1920\">\n",
       "<defs>\n",
       "  <clipPath id=\"clip290\">\n",
       "    <rect x=\"0\" y=\"0\" width=\"2688\" height=\"1920\"/>\n",
       "  </clipPath>\n",
       "</defs>\n",
       "<path clip-path=\"url(#clip290)\" d=\"\n",
       "M0 1920 L2688 1920 L2688 0 L0 0  Z\n",
       "  \" fill=\"#ffffff\" fill-rule=\"evenodd\" fill-opacity=\"1\"/>\n",
       "<defs>\n",
       "  <clipPath id=\"clip291\">\n",
       "    <rect x=\"537\" y=\"0\" width=\"1883\" height=\"1883\"/>\n",
       "  </clipPath>\n",
       "</defs>\n",
       "<defs>\n",
       "  <clipPath id=\"clip292\">\n",
       "    <rect x=\"196\" y=\"47\" width=\"2445\" height=\"1755\"/>\n",
       "  </clipPath>\n",
       "</defs>\n",
       "<path clip-path=\"url(#clip290)\" d=\"\n",
       "M150.589 1800.78 L2640.76 1800.78 L2640.76 47.2441 L150.589 47.2441  Z\n",
       "  \" fill=\"#ffffff\" fill-rule=\"evenodd\" fill-opacity=\"1\"/>\n",
       "<defs>\n",
       "  <clipPath id=\"clip293\">\n",
       "    <rect x=\"150\" y=\"47\" width=\"2491\" height=\"1755\"/>\n",
       "  </clipPath>\n",
       "</defs>\n",
       "<polyline clip-path=\"url(#clip293)\" style=\"stroke:#000000; stroke-linecap:round; stroke-linejoin:round; stroke-width:2; stroke-opacity:0.1; fill:none\" points=\"\n",
       "  221.066,1800.78 221.066,47.2441 \n",
       "  \"/>\n",
       "<polyline clip-path=\"url(#clip293)\" style=\"stroke:#000000; stroke-linecap:round; stroke-linejoin:round; stroke-width:2; stroke-opacity:0.1; fill:none\" points=\"\n",
       "  612.601,1800.78 612.601,47.2441 \n",
       "  \"/>\n",
       "<polyline clip-path=\"url(#clip293)\" style=\"stroke:#000000; stroke-linecap:round; stroke-linejoin:round; stroke-width:2; stroke-opacity:0.1; fill:none\" points=\"\n",
       "  1004.14,1800.78 1004.14,47.2441 \n",
       "  \"/>\n",
       "<polyline clip-path=\"url(#clip293)\" style=\"stroke:#000000; stroke-linecap:round; stroke-linejoin:round; stroke-width:2; stroke-opacity:0.1; fill:none\" points=\"\n",
       "  1395.67,1800.78 1395.67,47.2441 \n",
       "  \"/>\n",
       "<polyline clip-path=\"url(#clip293)\" style=\"stroke:#000000; stroke-linecap:round; stroke-linejoin:round; stroke-width:2; stroke-opacity:0.1; fill:none\" points=\"\n",
       "  1787.21,1800.78 1787.21,47.2441 \n",
       "  \"/>\n",
       "<polyline clip-path=\"url(#clip293)\" style=\"stroke:#000000; stroke-linecap:round; stroke-linejoin:round; stroke-width:2; stroke-opacity:0.1; fill:none\" points=\"\n",
       "  2178.74,1800.78 2178.74,47.2441 \n",
       "  \"/>\n",
       "<polyline clip-path=\"url(#clip293)\" style=\"stroke:#000000; stroke-linecap:round; stroke-linejoin:round; stroke-width:2; stroke-opacity:0.1; fill:none\" points=\"\n",
       "  2570.28,1800.78 2570.28,47.2441 \n",
       "  \"/>\n",
       "<polyline clip-path=\"url(#clip290)\" style=\"stroke:#000000; stroke-linecap:round; stroke-linejoin:round; stroke-width:4; stroke-opacity:1; fill:none\" points=\"\n",
       "  150.589,1800.78 2640.76,1800.78 \n",
       "  \"/>\n",
       "<polyline clip-path=\"url(#clip290)\" style=\"stroke:#000000; stroke-linecap:round; stroke-linejoin:round; stroke-width:4; stroke-opacity:1; fill:none\" points=\"\n",
       "  221.066,1800.78 221.066,1781.88 \n",
       "  \"/>\n",
       "<polyline clip-path=\"url(#clip290)\" style=\"stroke:#000000; stroke-linecap:round; stroke-linejoin:round; stroke-width:4; stroke-opacity:1; fill:none\" points=\"\n",
       "  612.601,1800.78 612.601,1781.88 \n",
       "  \"/>\n",
       "<polyline clip-path=\"url(#clip290)\" style=\"stroke:#000000; stroke-linecap:round; stroke-linejoin:round; stroke-width:4; stroke-opacity:1; fill:none\" points=\"\n",
       "  1004.14,1800.78 1004.14,1781.88 \n",
       "  \"/>\n",
       "<polyline clip-path=\"url(#clip290)\" style=\"stroke:#000000; stroke-linecap:round; stroke-linejoin:round; stroke-width:4; stroke-opacity:1; fill:none\" points=\"\n",
       "  1395.67,1800.78 1395.67,1781.88 \n",
       "  \"/>\n",
       "<polyline clip-path=\"url(#clip290)\" style=\"stroke:#000000; stroke-linecap:round; stroke-linejoin:round; stroke-width:4; stroke-opacity:1; fill:none\" points=\"\n",
       "  1787.21,1800.78 1787.21,1781.88 \n",
       "  \"/>\n",
       "<polyline clip-path=\"url(#clip290)\" style=\"stroke:#000000; stroke-linecap:round; stroke-linejoin:round; stroke-width:4; stroke-opacity:1; fill:none\" points=\"\n",
       "  2178.74,1800.78 2178.74,1781.88 \n",
       "  \"/>\n",
       "<polyline clip-path=\"url(#clip290)\" style=\"stroke:#000000; stroke-linecap:round; stroke-linejoin:round; stroke-width:4; stroke-opacity:1; fill:none\" points=\"\n",
       "  2570.28,1800.78 2570.28,1781.88 \n",
       "  \"/>\n",
       "<path clip-path=\"url(#clip290)\" d=\"M190.823 1848.65 L220.499 1848.65 L220.499 1852.59 L190.823 1852.59 L190.823 1848.65 Z\" fill=\"#000000\" fill-rule=\"evenodd\" fill-opacity=\"1\" /><path clip-path=\"url(#clip290)\" d=\"M231.401 1861.55 L239.04 1861.55 L239.04 1835.18 L230.73 1836.85 L230.73 1832.59 L238.994 1830.92 L243.67 1830.92 L243.67 1861.55 L251.309 1861.55 L251.309 1865.48 L231.401 1865.48 L231.401 1861.55 Z\" fill=\"#000000\" fill-rule=\"evenodd\" fill-opacity=\"1\" /><path clip-path=\"url(#clip290)\" d=\"M612.601 1834 Q608.99 1834 607.162 1837.57 Q605.356 1841.11 605.356 1848.24 Q605.356 1855.34 607.162 1858.91 Q608.99 1862.45 612.601 1862.45 Q616.236 1862.45 618.041 1858.91 Q619.87 1855.34 619.87 1848.24 Q619.87 1841.11 618.041 1837.57 Q616.236 1834 612.601 1834 M612.601 1830.3 Q618.412 1830.3 621.467 1834.9 Q624.546 1839.49 624.546 1848.24 Q624.546 1856.96 621.467 1861.57 Q618.412 1866.15 612.601 1866.15 Q606.791 1866.15 603.713 1861.57 Q600.657 1856.96 600.657 1848.24 Q600.657 1839.49 603.713 1834.9 Q606.791 1830.3 612.601 1830.3 Z\" fill=\"#000000\" fill-rule=\"evenodd\" fill-opacity=\"1\" /><path clip-path=\"url(#clip290)\" d=\"M994.519 1861.55 L1002.16 1861.55 L1002.16 1835.18 L993.848 1836.85 L993.848 1832.59 L1002.11 1830.92 L1006.79 1830.92 L1006.79 1861.55 L1014.43 1861.55 L1014.43 1865.48 L994.519 1865.48 L994.519 1861.55 Z\" fill=\"#000000\" fill-rule=\"evenodd\" fill-opacity=\"1\" /><path clip-path=\"url(#clip290)\" d=\"M1390.33 1861.55 L1406.64 1861.55 L1406.64 1865.48 L1384.7 1865.48 L1384.7 1861.55 Q1387.36 1858.79 1391.95 1854.16 Q1396.55 1849.51 1397.73 1848.17 Q1399.98 1845.65 1400.86 1843.91 Q1401.76 1842.15 1401.76 1840.46 Q1401.76 1837.71 1399.82 1835.97 Q1397.89 1834.23 1394.79 1834.23 Q1392.59 1834.23 1390.14 1835 Q1387.71 1835.76 1384.93 1837.31 L1384.93 1832.59 Q1387.76 1831.46 1390.21 1830.88 Q1392.66 1830.3 1394.7 1830.3 Q1400.07 1830.3 1403.27 1832.98 Q1406.46 1835.67 1406.46 1840.16 Q1406.46 1842.29 1405.65 1844.21 Q1404.86 1846.11 1402.76 1848.7 Q1402.18 1849.37 1399.08 1852.59 Q1395.97 1855.78 1390.33 1861.55 Z\" fill=\"#000000\" fill-rule=\"evenodd\" fill-opacity=\"1\" /><path clip-path=\"url(#clip290)\" d=\"M1791.46 1846.85 Q1794.81 1847.57 1796.69 1849.84 Q1798.59 1852.1 1798.59 1855.44 Q1798.59 1860.55 1795.07 1863.35 Q1791.55 1866.15 1785.07 1866.15 Q1782.89 1866.15 1780.58 1865.71 Q1778.28 1865.3 1775.83 1864.44 L1775.83 1859.93 Q1777.78 1861.06 1780.09 1861.64 Q1782.41 1862.22 1784.93 1862.22 Q1789.33 1862.22 1791.62 1860.48 Q1793.93 1858.75 1793.93 1855.44 Q1793.93 1852.38 1791.78 1850.67 Q1789.65 1848.93 1785.83 1848.93 L1781.8 1848.93 L1781.8 1845.09 L1786.02 1845.09 Q1789.47 1845.09 1791.29 1843.72 Q1793.12 1842.34 1793.12 1839.74 Q1793.12 1837.08 1791.22 1835.67 Q1789.35 1834.23 1785.83 1834.23 Q1783.91 1834.23 1781.71 1834.65 Q1779.51 1835.07 1776.87 1835.95 L1776.87 1831.78 Q1779.53 1831.04 1781.85 1830.67 Q1784.19 1830.3 1786.25 1830.3 Q1791.57 1830.3 1794.67 1832.73 Q1797.78 1835.14 1797.78 1839.26 Q1797.78 1842.13 1796.13 1844.12 Q1794.49 1846.09 1791.46 1846.85 Z\" fill=\"#000000\" fill-rule=\"evenodd\" fill-opacity=\"1\" /><path clip-path=\"url(#clip290)\" d=\"M2181.75 1835 L2169.95 1853.45 L2181.75 1853.45 L2181.75 1835 M2180.53 1830.92 L2186.41 1830.92 L2186.41 1853.45 L2191.34 1853.45 L2191.34 1857.34 L2186.41 1857.34 L2186.41 1865.48 L2181.75 1865.48 L2181.75 1857.34 L2166.15 1857.34 L2166.15 1852.82 L2180.53 1830.92 Z\" fill=\"#000000\" fill-rule=\"evenodd\" fill-opacity=\"1\" /><path clip-path=\"url(#clip290)\" d=\"M2560.56 1830.92 L2578.91 1830.92 L2578.91 1834.86 L2564.84 1834.86 L2564.84 1843.33 Q2565.86 1842.98 2566.88 1842.82 Q2567.9 1842.64 2568.91 1842.64 Q2574.7 1842.64 2578.08 1845.81 Q2581.46 1848.98 2581.46 1854.4 Q2581.46 1859.97 2577.99 1863.08 Q2574.52 1866.15 2568.2 1866.15 Q2566.02 1866.15 2563.75 1865.78 Q2561.51 1865.41 2559.1 1864.67 L2559.1 1859.97 Q2561.18 1861.11 2563.4 1861.66 Q2565.63 1862.22 2568.1 1862.22 Q2572.11 1862.22 2574.45 1860.11 Q2576.78 1858.01 2576.78 1854.4 Q2576.78 1850.78 2574.45 1848.68 Q2572.11 1846.57 2568.1 1846.57 Q2566.23 1846.57 2564.35 1846.99 Q2562.5 1847.4 2560.56 1848.28 L2560.56 1830.92 Z\" fill=\"#000000\" fill-rule=\"evenodd\" fill-opacity=\"1\" /><polyline clip-path=\"url(#clip293)\" style=\"stroke:#000000; stroke-linecap:round; stroke-linejoin:round; stroke-width:2; stroke-opacity:0.1; fill:none\" points=\"\n",
       "  150.589,1600.76 2640.76,1600.76 \n",
       "  \"/>\n",
       "<polyline clip-path=\"url(#clip293)\" style=\"stroke:#000000; stroke-linecap:round; stroke-linejoin:round; stroke-width:2; stroke-opacity:0.1; fill:none\" points=\"\n",
       "  150.589,1224.79 2640.76,1224.79 \n",
       "  \"/>\n",
       "<polyline clip-path=\"url(#clip293)\" style=\"stroke:#000000; stroke-linecap:round; stroke-linejoin:round; stroke-width:2; stroke-opacity:0.1; fill:none\" points=\"\n",
       "  150.589,848.817 2640.76,848.817 \n",
       "  \"/>\n",
       "<polyline clip-path=\"url(#clip293)\" style=\"stroke:#000000; stroke-linecap:round; stroke-linejoin:round; stroke-width:2; stroke-opacity:0.1; fill:none\" points=\"\n",
       "  150.589,472.845 2640.76,472.845 \n",
       "  \"/>\n",
       "<polyline clip-path=\"url(#clip293)\" style=\"stroke:#000000; stroke-linecap:round; stroke-linejoin:round; stroke-width:2; stroke-opacity:0.1; fill:none\" points=\"\n",
       "  150.589,96.8724 2640.76,96.8724 \n",
       "  \"/>\n",
       "<polyline clip-path=\"url(#clip290)\" style=\"stroke:#000000; stroke-linecap:round; stroke-linejoin:round; stroke-width:4; stroke-opacity:1; fill:none\" points=\"\n",
       "  150.589,1800.78 150.589,47.2441 \n",
       "  \"/>\n",
       "<polyline clip-path=\"url(#clip290)\" style=\"stroke:#000000; stroke-linecap:round; stroke-linejoin:round; stroke-width:4; stroke-opacity:1; fill:none\" points=\"\n",
       "  150.589,1600.76 169.487,1600.76 \n",
       "  \"/>\n",
       "<polyline clip-path=\"url(#clip290)\" style=\"stroke:#000000; stroke-linecap:round; stroke-linejoin:round; stroke-width:4; stroke-opacity:1; fill:none\" points=\"\n",
       "  150.589,1224.79 169.487,1224.79 \n",
       "  \"/>\n",
       "<polyline clip-path=\"url(#clip290)\" style=\"stroke:#000000; stroke-linecap:round; stroke-linejoin:round; stroke-width:4; stroke-opacity:1; fill:none\" points=\"\n",
       "  150.589,848.817 169.487,848.817 \n",
       "  \"/>\n",
       "<polyline clip-path=\"url(#clip290)\" style=\"stroke:#000000; stroke-linecap:round; stroke-linejoin:round; stroke-width:4; stroke-opacity:1; fill:none\" points=\"\n",
       "  150.589,472.845 169.487,472.845 \n",
       "  \"/>\n",
       "<polyline clip-path=\"url(#clip290)\" style=\"stroke:#000000; stroke-linecap:round; stroke-linejoin:round; stroke-width:4; stroke-opacity:1; fill:none\" points=\"\n",
       "  150.589,96.8724 169.487,96.8724 \n",
       "  \"/>\n",
       "<path clip-path=\"url(#clip290)\" d=\"M49.5521 1601.21 L79.2279 1601.21 L79.2279 1605.15 L49.5521 1605.15 L49.5521 1601.21 Z\" fill=\"#000000\" fill-rule=\"evenodd\" fill-opacity=\"1\" /><path clip-path=\"url(#clip290)\" d=\"M89.3667 1583.48 L107.723 1583.48 L107.723 1587.42 L93.6491 1587.42 L93.6491 1595.89 Q94.6676 1595.54 95.6861 1595.38 Q96.7047 1595.19 97.7232 1595.19 Q103.51 1595.19 106.89 1598.37 Q110.269 1601.54 110.269 1606.95 Q110.269 1612.53 106.797 1615.63 Q103.325 1618.71 97.0056 1618.71 Q94.8297 1618.71 92.5612 1618.34 Q90.3158 1617.97 87.9084 1617.23 L87.9084 1612.53 Q89.9917 1613.67 92.2139 1614.22 Q94.4361 1614.78 96.913 1614.78 Q100.918 1614.78 103.256 1612.67 Q105.593 1610.57 105.593 1606.95 Q105.593 1603.34 103.256 1601.24 Q100.918 1599.13 96.913 1599.13 Q95.038 1599.13 93.163 1599.55 Q91.3112 1599.96 89.3667 1600.84 L89.3667 1583.48 Z\" fill=\"#000000\" fill-rule=\"evenodd\" fill-opacity=\"1\" /><path clip-path=\"url(#clip290)\" d=\"M98.325 1210.59 Q94.7139 1210.59 92.8852 1214.15 Q91.0797 1217.69 91.0797 1224.82 Q91.0797 1231.93 92.8852 1235.5 Q94.7139 1239.04 98.325 1239.04 Q101.959 1239.04 103.765 1235.5 Q105.593 1231.93 105.593 1224.82 Q105.593 1217.69 103.765 1214.15 Q101.959 1210.59 98.325 1210.59 M98.325 1206.88 Q104.135 1206.88 107.191 1211.49 Q110.269 1216.07 110.269 1224.82 Q110.269 1233.55 107.191 1238.16 Q104.135 1242.74 98.325 1242.74 Q92.5149 1242.74 89.4362 1238.16 Q86.3806 1233.55 86.3806 1224.82 Q86.3806 1216.07 89.4362 1211.49 Q92.5149 1206.88 98.325 1206.88 Z\" fill=\"#000000\" fill-rule=\"evenodd\" fill-opacity=\"1\" /><path clip-path=\"url(#clip290)\" d=\"M89.3667 831.537 L107.723 831.537 L107.723 835.472 L93.6491 835.472 L93.6491 843.945 Q94.6676 843.597 95.6861 843.435 Q96.7047 843.25 97.7232 843.25 Q103.51 843.25 106.89 846.421 Q110.269 849.593 110.269 855.009 Q110.269 860.588 106.797 863.69 Q103.325 866.769 97.0056 866.769 Q94.8297 866.769 92.5612 866.398 Q90.3158 866.028 87.9084 865.287 L87.9084 860.588 Q89.9917 861.722 92.2139 862.278 Q94.4361 862.833 96.913 862.833 Q100.918 862.833 103.256 860.727 Q105.593 858.62 105.593 855.009 Q105.593 851.398 103.256 849.292 Q100.918 847.185 96.913 847.185 Q95.038 847.185 93.163 847.602 Q91.3112 848.019 89.3667 848.898 L89.3667 831.537 Z\" fill=\"#000000\" fill-rule=\"evenodd\" fill-opacity=\"1\" /><path clip-path=\"url(#clip290)\" d=\"M58.9734 486.19 L66.6122 486.19 L66.6122 459.824 L58.3021 461.491 L58.3021 457.231 L66.5659 455.565 L71.2418 455.565 L71.2418 486.19 L78.8807 486.19 L78.8807 490.125 L58.9734 490.125 L58.9734 486.19 Z\" fill=\"#000000\" fill-rule=\"evenodd\" fill-opacity=\"1\" /><path clip-path=\"url(#clip290)\" d=\"M98.325 458.644 Q94.7139 458.644 92.8852 462.208 Q91.0797 465.75 91.0797 472.88 Q91.0797 479.986 92.8852 483.551 Q94.7139 487.092 98.325 487.092 Q101.959 487.092 103.765 483.551 Q105.593 479.986 105.593 472.88 Q105.593 465.75 103.765 462.208 Q101.959 458.644 98.325 458.644 M98.325 454.94 Q104.135 454.94 107.191 459.546 Q110.269 464.13 110.269 472.88 Q110.269 481.606 107.191 486.213 Q104.135 490.796 98.325 490.796 Q92.5149 490.796 89.4362 486.213 Q86.3806 481.606 86.3806 472.88 Q86.3806 464.13 89.4362 459.546 Q92.5149 454.94 98.325 454.94 Z\" fill=\"#000000\" fill-rule=\"evenodd\" fill-opacity=\"1\" /><path clip-path=\"url(#clip290)\" d=\"M59.9687 110.217 L67.6076 110.217 L67.6076 83.8517 L59.2974 85.5183 L59.2974 81.2591 L67.5613 79.5924 L72.2372 79.5924 L72.2372 110.217 L79.876 110.217 L79.876 114.152 L59.9687 114.152 L59.9687 110.217 Z\" fill=\"#000000\" fill-rule=\"evenodd\" fill-opacity=\"1\" /><path clip-path=\"url(#clip290)\" d=\"M89.3667 79.5924 L107.723 79.5924 L107.723 83.5276 L93.6491 83.5276 L93.6491 91.9998 Q94.6676 91.6526 95.6861 91.4905 Q96.7047 91.3053 97.7232 91.3053 Q103.51 91.3053 106.89 94.4766 Q110.269 97.6479 110.269 103.065 Q110.269 108.643 106.797 111.745 Q103.325 114.824 97.0056 114.824 Q94.8297 114.824 92.5612 114.453 Q90.3158 114.083 87.9084 113.342 L87.9084 108.643 Q89.9917 109.777 92.2139 110.333 Q94.4361 110.889 96.913 110.889 Q100.918 110.889 103.256 108.782 Q105.593 106.676 105.593 103.065 Q105.593 99.4535 103.256 97.347 Q100.918 95.2405 96.913 95.2405 Q95.038 95.2405 93.163 95.6572 Q91.3112 96.0738 89.3667 96.9535 L89.3667 79.5924 Z\" fill=\"#000000\" fill-rule=\"evenodd\" fill-opacity=\"1\" /><polyline clip-path=\"url(#clip293)\" style=\"stroke:#009af9; stroke-linecap:round; stroke-linejoin:round; stroke-width:4; stroke-opacity:1; fill:none\" points=\"\n",
       "  221.066,1751.15 224.889,1745.28 228.713,1739.43 232.537,1733.59 236.36,1727.77 271.716,1674.59 307.071,1622.64 342.426,1571.92 377.782,1522.42 420.276,1464.55 \n",
       "  462.77,1408.45 498.698,1362.4 534.627,1317.62 573.655,1270.41 612.683,1224.7 648.663,1183.87 684.644,1144.32 723.219,1103.33 761.794,1063.79 806.486,1019.81 \n",
       "  851.179,977.795 890.897,942.098 930.615,907.949 965.443,879.276 1000.27,851.793 1038.25,823.186 1076.22,795.993 1114.42,770.066 1152.61,745.57 1194.85,720.153 \n",
       "  1237.08,696.486 1277.27,675.591 1317.45,656.281 1359.23,637.882 1401.01,621.197 1436.18,608.478 1471.36,596.973 1514.3,584.573 1557.24,573.981 1596.57,565.865 \n",
       "  1635.91,559.268 1672.24,554.523 1708.57,551.073 1745.37,548.898 1782.17,548.052 1823.42,548.682 1864.66,550.982 1902.03,554.506 1939.41,559.401 1982.2,566.688 \n",
       "  2024.99,575.772 2064.61,585.783 2104.23,597.335 2143.29,610.231 2182.35,624.624 2220.27,640.03 2258.2,656.847 2297.07,675.552 2335.95,695.739 2378.55,719.559 \n",
       "  2421.14,745.158 2483.02,785.516 2544.89,829.63 2557.59,839.145 2570.28,848.817 \n",
       "  \"/>\n",
       "<path clip-path=\"url(#clip293)\" d=\"\n",
       "M612.601 1224.79 L617.7 1226.74 L622.798 1228.66 L669.938 1245.2 L717.079 1259.57 L745.408 1267.15 L773.738 1273.95 L797.69 1279.08 L821.642 1283.65 L847.661 1287.97 \n",
       "  L873.679 1291.64 L897.666 1294.42 L921.653 1296.65 L947.37 1298.4 L973.087 1299.51 L1002.88 1299.98 L1032.68 1299.58 L1059.16 1298.5 L1085.63 1296.73 L1108.85 1294.61 \n",
       "  L1132.07 1291.96 L1157.39 1288.46 L1182.7 1284.34 L1208.17 1279.56 L1233.63 1274.15 L1261.79 1267.42 L1289.95 1259.92 L1316.73 1252.05 L1343.52 1243.49 L1371.38 1233.83 \n",
       "  L1399.23 1223.42 L1422.68 1214.06 L1446.13 1204.16 L1474.76 1191.35 L1503.38 1177.73 L1529.61 1164.55 L1555.83 1150.69 L1580.05 1137.3 L1604.27 1123.32 L1628.8 1108.58 \n",
       "  L1653.34 1093.25 L1680.83 1075.37 L1708.33 1056.75 L1733.25 1039.23 L1758.16 1021.11 L1786.69 999.606 L1815.21 977.307 L1841.63 955.948 L1868.04 933.905 L1894.08 911.504 \n",
       "  L1920.12 888.437 L1945.4 865.404 L1970.69 841.744 L1996.61 816.839 L2022.52 791.275 L2050.92 762.51 L2079.32 732.954 L2120.57 688.61 L2161.82 642.596 L2170.28 632.95 \n",
       "  L2178.74 623.234 L2178.74 623.234 L2170.28 620.018 L2161.82 616.873 L2120.57 602.548 L2079.32 589.893 L2050.92 582.151 L2022.52 575.2 L1996.61 569.547 L1970.69 564.552 \n",
       "  L1945.4 560.315 L1920.12 556.705 L1894.08 553.642 L1868.04 551.244 L1841.63 549.492 L1815.21 548.424 L1786.69 548.039 L1758.16 548.453 L1733.25 549.468 L1708.33 551.091 \n",
       "  L1680.83 553.59 L1653.34 556.83 L1628.8 560.347 L1604.27 564.455 L1580.05 569.089 L1555.83 574.299 L1529.61 580.589 L1503.38 587.553 L1474.76 595.926 L1446.13 605.102 \n",
       "  L1422.68 613.218 L1399.23 621.872 L1371.38 632.855 L1343.52 644.598 L1316.73 656.61 L1289.95 669.327 L1261.79 683.45 L1233.63 698.352 L1208.17 712.499 L1182.7 727.283 \n",
       "  L1157.39 742.61 L1132.07 758.565 L1108.85 773.753 L1085.63 789.469 L1059.16 808.037 L1032.68 827.292 L1002.88 849.782 L973.087 873.143 L947.37 894.006 L921.653 915.518 \n",
       "  L897.666 936.168 L873.679 957.383 L847.661 981.032 L821.642 1005.35 L797.69 1028.32 L773.738 1051.85 L745.408 1080.41 L717.079 1109.75 L669.938 1160.33 L622.798 1213.09 \n",
       "  L617.7 1218.93 L612.601 1224.79  Z\n",
       "  \" fill=\"#e26f46\" fill-rule=\"evenodd\" fill-opacity=\"0.3\"/>\n",
       "<polyline clip-path=\"url(#clip293)\" style=\"stroke:#e26f46; stroke-linecap:round; stroke-linejoin:round; stroke-width:4; stroke-opacity:1; fill:none\" points=\"\n",
       "  612.601,1224.79 617.7,1226.74 622.798,1228.66 669.938,1245.2 717.079,1259.57 745.408,1267.15 773.738,1273.95 797.69,1279.08 821.642,1283.65 847.661,1287.97 \n",
       "  873.679,1291.64 897.666,1294.42 921.653,1296.65 947.37,1298.4 973.087,1299.51 1002.88,1299.98 1032.68,1299.58 1059.16,1298.5 1085.63,1296.73 1108.85,1294.61 \n",
       "  1132.07,1291.96 1157.39,1288.46 1182.7,1284.34 1208.17,1279.56 1233.63,1274.15 1261.79,1267.42 1289.95,1259.92 1316.73,1252.05 1343.52,1243.49 1371.38,1233.83 \n",
       "  1399.23,1223.42 1422.68,1214.06 1446.13,1204.16 1474.76,1191.35 1503.38,1177.73 1529.61,1164.55 1555.83,1150.69 1580.05,1137.3 1604.27,1123.32 1628.8,1108.58 \n",
       "  1653.34,1093.25 1680.83,1075.37 1708.33,1056.75 1733.25,1039.23 1758.16,1021.11 1786.69,999.606 1815.21,977.307 1841.63,955.948 1868.04,933.905 1894.08,911.504 \n",
       "  1920.12,888.437 1945.4,865.404 1970.69,841.744 1996.61,816.839 2022.52,791.275 2050.92,762.51 2079.32,732.954 2120.57,688.61 2161.82,642.596 2170.28,632.95 \n",
       "  2178.74,623.234 \n",
       "  \"/>\n",
       "<polyline clip-path=\"url(#clip293)\" style=\"stroke:#3da44d; stroke-linecap:round; stroke-linejoin:round; stroke-width:4; stroke-opacity:1; fill:none\" points=\"\n",
       "  221.066,999.206 224.889,1002.14 228.713,1005.05 232.537,1007.95 236.36,1010.84 271.716,1036.86 307.071,1061.65 342.426,1085.21 377.782,1107.55 420.276,1132.77 \n",
       "  462.77,1156.23 498.698,1174.68 534.627,1191.86 573.655,1209.09 612.683,1224.82 648.663,1238 684.644,1249.92 723.219,1261.28 761.794,1271.18 806.486,1280.82 \n",
       "  851.179,1288.51 890.897,1293.69 930.615,1297.33 965.443,1299.25 1000.27,1299.98 1038.25,1299.41 1076.22,1297.44 1114.42,1294.02 1152.61,1289.17 1194.85,1282.14 \n",
       "  1237.08,1273.37 1277.27,1263.39 1317.45,1251.83 1359.23,1238.14 1401.01,1222.72 1436.18,1208.42 1471.36,1192.91 1514.3,1172.32 1557.24,1149.93 1596.57,1127.83 \n",
       "  1635.91,1104.21 1672.24,1081.04 1708.57,1056.58 1745.37,1030.49 1782.17,1003.06 1823.42,970.749 1864.66,936.766 1902.03,904.531 1939.41,870.926 1982.2,830.768 \n",
       "  2024.99,788.813 2064.61,748.365 2104.23,706.378 2143.29,663.475 2182.35,619.076 2220.27,574.536 2258.2,528.585 2297.07,480.015 2335.95,429.962 2378.55,373.422 \n",
       "  2421.14,315.101 2483.02,227.21 2544.89,135.562 2557.59,116.296 2570.28,96.8724 \n",
       "  \"/>\n",
       "<path clip-path=\"url(#clip290)\" d=\"\n",
       "M233.595 261.215 L862.76 261.215 L862.76 105.695 L233.595 105.695  Z\n",
       "  \" fill=\"#ffffff\" fill-rule=\"evenodd\" fill-opacity=\"1\"/>\n",
       "<polyline clip-path=\"url(#clip290)\" style=\"stroke:#000000; stroke-linecap:round; stroke-linejoin:round; stroke-width:4; stroke-opacity:1; fill:none\" points=\"\n",
       "  233.595,261.215 862.76,261.215 862.76,105.695 233.595,105.695 233.595,261.215 \n",
       "  \"/>\n",
       "<polyline clip-path=\"url(#clip290)\" style=\"stroke:#009af9; stroke-linecap:round; stroke-linejoin:round; stroke-width:4; stroke-opacity:1; fill:none\" points=\"\n",
       "  261.263,157.535 427.275,157.535 \n",
       "  \"/>\n",
       "<path clip-path=\"url(#clip290)\" d=\"M478.857 139.326 Q478.857 140.615 478.038 141.411 Q477.241 142.207 476.234 142.207 Q475.508 142.207 474.969 141.762 Q474.454 141.317 474.454 140.544 Q474.454 139.748 475.063 138.905 Q475.672 138.062 477.054 137.944 Q476.14 137.078 474.688 137.078 Q473.962 137.078 473.353 137.546 Q472.768 137.991 472.44 138.717 Q472.088 139.467 471.292 143.706 Q471.034 145.088 470.8 146.423 Q470.566 147.758 470.285 149.164 L474.267 149.164 Q474.782 149.164 474.993 149.187 Q475.203 149.211 475.367 149.328 Q475.555 149.445 475.555 149.703 Q475.555 150.358 475.25 150.522 Q474.969 150.663 474.126 150.663 L470.004 150.663 L467.123 165.864 Q467.052 166.309 466.748 167.714 Q466.467 169.096 465.788 171.368 Q465.108 173.664 464.429 175.022 Q464.054 175.795 463.563 176.521 Q463.094 177.271 462.415 178.02 Q461.736 178.77 460.846 179.215 Q459.955 179.683 459.019 179.683 Q457.426 179.683 456.184 178.793 Q454.943 177.903 454.943 176.381 Q454.943 175.092 455.739 174.296 Q456.559 173.5 457.566 173.5 Q458.292 173.5 458.808 173.945 Q459.346 174.39 459.346 175.163 Q459.346 175.491 459.229 175.865 Q459.112 176.24 458.855 176.662 Q458.597 177.107 458.035 177.411 Q457.473 177.716 456.7 177.763 Q457.613 178.629 459.019 178.629 Q459.464 178.629 459.862 178.442 Q460.26 178.278 460.588 177.856 Q460.939 177.435 461.197 177.013 Q461.455 176.615 461.712 175.842 Q461.97 175.092 462.134 174.53 Q462.298 173.968 462.509 172.961 Q462.743 171.954 462.86 171.345 Q462.977 170.759 463.188 169.612 L466.771 150.663 L463.609 150.663 Q463.047 150.663 462.813 150.639 Q462.602 150.616 462.438 150.499 Q462.274 150.358 462.274 150.077 Q462.274 149.632 462.462 149.445 Q462.672 149.234 462.907 149.211 Q463.141 149.164 463.703 149.164 L467.029 149.164 Q468.153 143.238 468.598 141.645 Q469.114 139.959 469.91 138.788 Q470.706 137.593 471.596 137.031 Q472.486 136.469 473.213 136.258 Q473.962 136.024 474.688 136.024 Q476.328 136.024 477.593 136.914 Q478.857 137.78 478.857 139.326 Z\" fill=\"#000000\" fill-rule=\"evenodd\" fill-opacity=\"1\" /><path clip-path=\"url(#clip290)\" d=\"M485.316 157.854 Q485.316 149.749 488.338 143.214 Q489.626 140.474 491.429 138.179 Q493.233 135.883 494.427 134.876 Q495.622 133.869 495.95 133.869 Q496.418 133.869 496.442 134.337 Q496.442 134.572 495.809 135.157 Q488.08 143.027 488.103 157.854 Q488.103 172.727 495.622 180.292 Q496.442 181.112 496.442 181.37 Q496.442 181.838 495.95 181.838 Q495.622 181.838 494.474 180.878 Q493.327 179.917 491.547 177.716 Q489.766 175.514 488.478 172.82 Q485.316 166.286 485.316 157.854 Z\" fill=\"#000000\" fill-rule=\"evenodd\" fill-opacity=\"1\" /><path clip-path=\"url(#clip290)\" d=\"M523.979 151.811 Q523.979 153.122 523.16 153.872 Q522.34 154.598 521.403 154.598 Q520.513 154.598 520.044 154.083 Q519.576 153.567 519.576 152.911 Q519.576 152.021 520.232 151.248 Q520.888 150.475 521.871 150.311 Q520.911 149.703 519.482 149.703 Q518.545 149.703 517.726 150.194 Q516.929 150.686 516.437 151.319 Q515.969 151.951 515.547 152.865 Q515.149 153.755 514.985 154.293 Q514.845 154.809 514.728 155.371 L513.088 161.929 Q512.292 165.044 512.292 166.145 Q512.292 167.504 512.947 168.417 Q513.603 169.307 514.915 169.307 Q515.43 169.307 516.016 169.167 Q516.601 169.003 517.351 168.581 Q518.124 168.136 518.803 167.48 Q519.506 166.801 520.185 165.653 Q520.864 164.506 521.309 163.03 Q521.45 162.515 521.918 162.515 Q522.504 162.515 522.504 162.983 Q522.504 163.381 522.176 164.224 Q521.871 165.044 521.192 166.122 Q520.536 167.176 519.67 168.136 Q518.803 169.073 517.515 169.729 Q516.227 170.385 514.821 170.385 Q512.807 170.385 511.472 169.307 Q510.137 168.23 509.645 166.731 Q509.528 166.941 509.364 167.223 Q509.2 167.504 508.708 168.136 Q508.24 168.745 507.701 169.213 Q507.162 169.658 506.319 170.01 Q505.499 170.385 504.609 170.385 Q503.485 170.385 502.478 170.057 Q501.494 169.729 500.791 168.979 Q500.089 168.23 500.089 167.199 Q500.089 166.051 500.861 165.255 Q501.658 164.435 502.735 164.435 Q503.414 164.435 503.953 164.833 Q504.515 165.232 504.515 166.098 Q504.515 167.059 503.86 167.785 Q503.204 168.511 502.267 168.698 Q503.227 169.307 504.656 169.307 Q506.202 169.307 507.42 167.949 Q508.638 166.59 509.223 164.318 Q510.675 158.861 511.238 156.425 Q511.8 153.965 511.8 152.911 Q511.8 151.928 511.542 151.248 Q511.284 150.569 510.839 150.265 Q510.418 149.937 510.02 149.82 Q509.645 149.703 509.223 149.703 Q508.521 149.703 507.724 149.984 Q506.951 150.265 506.014 150.92 Q505.101 151.553 504.234 152.865 Q503.368 154.176 502.782 155.98 Q502.665 156.518 502.15 156.518 Q501.588 156.495 501.588 156.027 Q501.588 155.628 501.892 154.809 Q502.22 153.965 502.876 152.911 Q503.555 151.857 504.422 150.92 Q505.312 149.96 506.6 149.304 Q507.912 148.649 509.317 148.649 Q509.949 148.649 510.558 148.789 Q511.191 148.906 511.94 149.257 Q512.713 149.609 513.392 150.382 Q514.072 151.155 514.493 152.279 Q514.774 151.74 515.149 151.225 Q515.547 150.71 516.156 150.077 Q516.789 149.421 517.655 149.047 Q518.545 148.649 519.529 148.649 Q520.489 148.649 521.426 148.906 Q522.363 149.14 523.16 149.913 Q523.979 150.663 523.979 151.811 Z\" fill=\"#000000\" fill-rule=\"evenodd\" fill-opacity=\"1\" /><path clip-path=\"url(#clip290)\" d=\"M528.599 181.37 Q528.599 181.135 529.208 180.55 Q536.937 172.68 536.937 157.854 Q536.937 142.98 529.513 135.462 Q528.599 134.595 528.599 134.337 Q528.599 133.869 529.068 133.869 Q529.395 133.869 530.543 134.829 Q531.714 135.79 533.471 137.991 Q535.251 140.193 536.563 142.887 Q539.725 149.421 539.725 157.854 Q539.725 165.958 536.703 172.493 Q535.415 175.233 533.611 177.528 Q531.808 179.824 530.613 180.831 Q529.419 181.838 529.068 181.838 Q528.599 181.838 528.599 181.37 Z\" fill=\"#000000\" fill-rule=\"evenodd\" fill-opacity=\"1\" /><path clip-path=\"url(#clip290)\" d=\"M560.331 162.561 Q560.378 161.976 561.291 161.976 L590.686 161.976 Q592.068 161.976 592.092 162.515 Q592.092 163.1 590.78 163.077 L561.619 163.077 Q560.331 163.1 560.331 162.561 M560.331 153.192 Q560.331 152.607 561.338 152.63 L590.639 152.63 Q592.068 152.63 592.092 153.192 Q592.092 153.731 590.874 153.731 L561.291 153.731 Q560.331 153.731 560.331 153.192 Z\" fill=\"#000000\" fill-rule=\"evenodd\" fill-opacity=\"1\" /><path clip-path=\"url(#clip290)\" d=\"M655.578 157.174 Q655.859 157.455 655.859 157.854 Q655.859 158.252 655.578 158.533 Q655.296 158.814 654.898 158.814 L624.871 158.814 Q624.473 158.814 624.191 158.533 Q623.91 158.252 623.91 157.854 Q623.91 157.455 624.191 157.174 Q624.473 156.893 624.871 156.893 L654.898 156.893 Q655.296 156.893 655.578 157.174 Z\" fill=\"#000000\" fill-rule=\"evenodd\" fill-opacity=\"1\" /><path clip-path=\"url(#clip290)\" d=\"M698.069 151.811 Q698.069 153.122 697.25 153.872 Q696.43 154.598 695.493 154.598 Q694.603 154.598 694.134 154.083 Q693.666 153.567 693.666 152.911 Q693.666 152.021 694.322 151.248 Q694.978 150.475 695.961 150.311 Q695.001 149.703 693.572 149.703 Q692.635 149.703 691.816 150.194 Q691.019 150.686 690.527 151.319 Q690.059 151.951 689.637 152.865 Q689.239 153.755 689.075 154.293 Q688.935 154.809 688.818 155.371 L687.178 161.929 Q686.382 165.044 686.382 166.145 Q686.382 167.504 687.037 168.417 Q687.693 169.307 689.005 169.307 Q689.52 169.307 690.106 169.167 Q690.691 169.003 691.441 168.581 Q692.214 168.136 692.893 167.48 Q693.596 166.801 694.275 165.653 Q694.954 164.506 695.399 163.03 Q695.54 162.515 696.008 162.515 Q696.594 162.515 696.594 162.983 Q696.594 163.381 696.266 164.224 Q695.961 165.044 695.282 166.122 Q694.626 167.176 693.76 168.136 Q692.893 169.073 691.605 169.729 Q690.317 170.385 688.911 170.385 Q686.897 170.385 685.562 169.307 Q684.227 168.23 683.735 166.731 Q683.618 166.941 683.454 167.223 Q683.29 167.504 682.798 168.136 Q682.33 168.745 681.791 169.213 Q681.252 169.658 680.409 170.01 Q679.589 170.385 678.699 170.385 Q677.575 170.385 676.568 170.057 Q675.584 169.729 674.881 168.979 Q674.179 168.23 674.179 167.199 Q674.179 166.051 674.951 165.255 Q675.748 164.435 676.825 164.435 Q677.505 164.435 678.043 164.833 Q678.605 165.232 678.605 166.098 Q678.605 167.059 677.95 167.785 Q677.294 168.511 676.357 168.698 Q677.317 169.307 678.746 169.307 Q680.292 169.307 681.51 167.949 Q682.728 166.59 683.313 164.318 Q684.765 158.861 685.328 156.425 Q685.89 153.965 685.89 152.911 Q685.89 151.928 685.632 151.248 Q685.374 150.569 684.929 150.265 Q684.508 149.937 684.11 149.82 Q683.735 149.703 683.313 149.703 Q682.611 149.703 681.814 149.984 Q681.041 150.265 680.104 150.92 Q679.191 151.553 678.324 152.865 Q677.458 154.176 676.872 155.98 Q676.755 156.518 676.24 156.518 Q675.678 156.495 675.678 156.027 Q675.678 155.628 675.982 154.809 Q676.31 153.965 676.966 152.911 Q677.645 151.857 678.512 150.92 Q679.402 149.96 680.69 149.304 Q682.002 148.649 683.407 148.649 Q684.039 148.649 684.648 148.789 Q685.281 148.906 686.03 149.257 Q686.803 149.609 687.482 150.382 Q688.162 151.155 688.583 152.279 Q688.864 151.74 689.239 151.225 Q689.637 150.71 690.246 150.077 Q690.879 149.421 691.745 149.047 Q692.635 148.649 693.619 148.649 Q694.579 148.649 695.516 148.906 Q696.453 149.14 697.25 149.913 Q698.069 150.663 698.069 151.811 Z\" fill=\"#000000\" fill-rule=\"evenodd\" fill-opacity=\"1\" /><path clip-path=\"url(#clip290)\" d=\"M702.959 155.49 Q702.959 154.884 703.008 154.703 Q703.073 154.523 703.336 154.244 L709.779 147.063 Q713.304 143.095 713.304 139.636 Q713.304 137.389 712.124 135.783 Q710.96 134.176 708.812 134.176 Q707.336 134.176 706.09 135.078 Q704.844 135.979 704.27 137.586 Q704.369 137.553 704.713 137.553 Q705.549 137.553 706.008 138.078 Q706.484 138.603 706.484 139.308 Q706.484 140.209 705.893 140.652 Q705.32 141.078 704.746 141.078 Q704.516 141.078 704.205 141.029 Q703.909 140.98 703.434 140.521 Q702.959 140.045 702.959 139.209 Q702.959 136.865 704.729 134.996 Q706.516 133.126 709.238 133.126 Q712.32 133.126 714.337 134.963 Q716.37 136.783 716.37 139.636 Q716.37 140.636 716.059 141.554 Q715.764 142.456 715.354 143.161 Q714.96 143.866 713.878 144.997 Q712.796 146.128 711.927 146.932 Q711.058 147.735 709.107 149.44 L705.549 152.9 L711.599 152.9 Q714.55 152.9 714.78 152.637 Q715.108 152.162 715.518 149.653 L716.37 149.653 L715.419 155.49 L702.959 155.49 Z\" fill=\"#000000\" fill-rule=\"evenodd\" fill-opacity=\"1\" /><path clip-path=\"url(#clip290)\" d=\"M735.77 158.439 Q734.669 158.439 734.669 157.854 Q734.669 157.268 735.817 157.268 Q735.957 157.268 736.191 157.291 Q736.449 157.315 736.496 157.315 L750.011 157.315 L750.011 143.753 Q750.011 143.706 749.987 143.496 Q749.964 143.261 749.964 143.121 Q749.964 141.973 750.526 141.973 Q751.111 141.973 751.111 143.121 L751.111 157.315 L764.65 157.315 Q764.696 157.315 764.931 157.291 Q765.165 157.268 765.305 157.268 Q766.406 157.268 766.406 157.854 Q766.43 158.439 765.259 158.439 Q765.118 158.439 764.907 158.416 Q764.696 158.392 764.65 158.392 L751.111 158.392 L751.111 172.633 Q751.111 173.734 750.526 173.734 Q749.964 173.734 749.964 172.586 Q749.964 172.446 749.987 172.211 Q750.011 172.001 750.011 171.954 L750.011 158.392 L736.496 158.392 Q736.449 158.392 736.168 158.416 Q735.91 158.439 735.77 158.439 Z\" fill=\"#000000\" fill-rule=\"evenodd\" fill-opacity=\"1\" /><path clip-path=\"url(#clip290)\" d=\"M784.937 154.691 Q784.937 147.149 788.778 142.535 Q792.62 137.898 797.562 137.898 Q800.443 137.898 802.035 139.373 Q803.652 140.825 803.652 143.074 Q803.652 144.315 802.925 144.854 Q802.199 145.393 801.45 145.393 Q800.583 145.393 799.904 144.807 Q799.225 144.222 799.225 143.168 Q799.225 141.013 801.871 141.013 Q800.63 139.092 797.655 139.092 Q796.742 139.092 795.805 139.373 Q794.868 139.631 793.65 140.521 Q792.432 141.411 791.495 142.816 Q790.558 144.222 789.903 146.868 Q789.247 149.515 789.247 152.958 L789.247 154.106 Q791.214 149.351 795.243 149.375 Q799.272 149.375 802.059 152.443 Q804.846 155.511 804.846 160.055 Q804.846 164.716 801.942 167.808 Q799.037 170.9 794.962 170.9 Q793.135 170.9 791.472 170.127 Q789.832 169.377 788.286 167.644 Q786.764 165.911 785.851 162.585 Q784.937 159.259 784.937 154.691 M789.34 159.001 Q789.34 163.709 790.207 165.958 Q790.348 166.332 790.652 166.848 Q790.98 167.363 791.519 168.042 Q792.081 168.698 792.994 169.143 Q793.908 169.565 794.962 169.565 Q798.171 169.565 799.717 166.45 Q800.536 164.716 800.536 160.008 Q800.536 155.207 799.67 153.45 Q798.194 150.475 795.196 150.475 Q793.182 150.475 791.776 151.857 Q790.394 153.239 789.856 155.09 Q789.34 156.94 789.34 159.001 Z\" fill=\"#000000\" fill-rule=\"evenodd\" fill-opacity=\"1\" /><path clip-path=\"url(#clip290)\" d=\"M831.816 151.811 Q831.816 153.122 830.996 153.872 Q830.177 154.598 829.24 154.598 Q828.35 154.598 827.881 154.083 Q827.413 153.567 827.413 152.911 Q827.413 152.021 828.069 151.248 Q828.724 150.475 829.708 150.311 Q828.748 149.703 827.319 149.703 Q826.382 149.703 825.562 150.194 Q824.766 150.686 824.274 151.319 Q823.806 151.951 823.384 152.865 Q822.986 153.755 822.822 154.293 Q822.681 154.809 822.564 155.371 L820.925 161.929 Q820.128 165.044 820.128 166.145 Q820.128 167.504 820.784 168.417 Q821.44 169.307 822.752 169.307 Q823.267 169.307 823.853 169.167 Q824.438 169.003 825.188 168.581 Q825.961 168.136 826.64 167.48 Q827.343 166.801 828.022 165.653 Q828.701 164.506 829.146 163.03 Q829.287 162.515 829.755 162.515 Q830.341 162.515 830.341 162.983 Q830.341 163.381 830.013 164.224 Q829.708 165.044 829.029 166.122 Q828.373 167.176 827.506 168.136 Q826.64 169.073 825.352 169.729 Q824.063 170.385 822.658 170.385 Q820.644 170.385 819.309 169.307 Q817.974 168.23 817.482 166.731 Q817.365 166.941 817.201 167.223 Q817.037 167.504 816.545 168.136 Q816.076 168.745 815.538 169.213 Q814.999 169.658 814.156 170.01 Q813.336 170.385 812.446 170.385 Q811.322 170.385 810.314 170.057 Q809.331 169.729 808.628 168.979 Q807.925 168.23 807.925 167.199 Q807.925 166.051 808.698 165.255 Q809.495 164.435 810.572 164.435 Q811.251 164.435 811.79 164.833 Q812.352 165.232 812.352 166.098 Q812.352 167.059 811.696 167.785 Q811.04 168.511 810.104 168.698 Q811.064 169.307 812.493 169.307 Q814.039 169.307 815.257 167.949 Q816.474 166.59 817.06 164.318 Q818.512 158.861 819.074 156.425 Q819.637 153.965 819.637 152.911 Q819.637 151.928 819.379 151.248 Q819.121 150.569 818.676 150.265 Q818.255 149.937 817.856 149.82 Q817.482 149.703 817.06 149.703 Q816.357 149.703 815.561 149.984 Q814.788 150.265 813.851 150.92 Q812.938 151.553 812.071 152.865 Q811.204 154.176 810.619 155.98 Q810.502 156.518 809.986 156.518 Q809.424 156.495 809.424 156.027 Q809.424 155.628 809.729 154.809 Q810.057 153.965 810.713 152.911 Q811.392 151.857 812.258 150.92 Q813.149 149.96 814.437 149.304 Q815.748 148.649 817.154 148.649 Q817.786 148.649 818.395 148.789 Q819.028 148.906 819.777 149.257 Q820.55 149.609 821.229 150.382 Q821.909 151.155 822.33 152.279 Q822.611 151.74 822.986 151.225 Q823.384 150.71 823.993 150.077 Q824.626 149.421 825.492 149.047 Q826.382 148.649 827.366 148.649 Q828.326 148.649 829.263 148.906 Q830.2 149.14 830.996 149.913 Q831.816 150.663 831.816 151.811 Z\" fill=\"#000000\" fill-rule=\"evenodd\" fill-opacity=\"1\" /><polyline clip-path=\"url(#clip290)\" style=\"stroke:#3da44d; stroke-linecap:round; stroke-linejoin:round; stroke-width:4; stroke-opacity:1; fill:none\" points=\"\n",
       "  261.263,209.375 427.275,209.375 \n",
       "  \"/>\n",
       "<path clip-path=\"url(#clip290)\" d=\"M476.96 202.737 Q476.96 202.76 476.82 203.604 L471.479 224.895 Q471.198 226.019 470.402 227.143 Q469.629 228.291 468.388 229.275 Q467.17 230.282 465.296 230.891 Q463.445 231.523 461.314 231.523 Q457.918 231.523 456.419 230.797 Q454.943 230.094 454.943 228.595 Q454.943 227.284 455.763 226.534 Q456.583 225.808 457.52 225.808 Q458.41 225.808 458.878 226.323 Q459.346 226.839 459.346 227.495 Q459.346 228.221 458.855 228.947 Q458.363 229.696 457.379 229.977 Q458.948 230.469 461.22 230.469 Q466.022 230.469 468.083 225.387 Q468.13 225.316 468.13 225.293 L469.723 218.945 L469.652 218.899 Q469.254 219.367 468.622 219.906 Q468.013 220.421 466.701 221.053 Q465.389 221.686 464.101 221.686 Q461.408 221.686 459.557 219.625 Q457.73 217.54 457.73 214.097 Q457.73 211.591 458.738 209.085 Q459.768 206.555 461.361 204.705 Q462.977 202.831 465.038 201.66 Q467.123 200.489 469.137 200.489 Q470.542 200.489 471.737 201.332 Q472.932 202.151 473.587 203.51 Q473.704 202.386 474.337 201.917 Q474.993 201.449 475.555 201.449 Q476.187 201.449 476.562 201.8 Q476.96 202.128 476.96 202.737 M473.025 205.665 Q473.025 205.524 472.932 205.15 Q472.838 204.751 472.557 204.119 Q472.299 203.487 471.901 202.924 Q471.503 202.362 470.777 201.964 Q470.074 201.543 469.184 201.543 Q467.732 201.543 466.28 202.76 Q464.827 203.955 463.82 205.805 Q462.883 207.586 461.993 211.029 Q461.127 214.472 461.127 216.228 Q461.127 217.962 461.876 219.297 Q462.626 220.632 464.242 220.632 Q466.116 220.632 468.13 218.899 Q470.215 217.095 470.566 215.549 L472.885 206.391 Q473.025 205.829 473.025 205.665 Z\" fill=\"#000000\" fill-rule=\"evenodd\" fill-opacity=\"1\" /><path clip-path=\"url(#clip290)\" d=\"M483.538 209.694 Q483.538 201.589 486.559 195.054 Q487.847 192.314 489.651 190.019 Q491.455 187.723 492.649 186.716 Q493.844 185.709 494.172 185.709 Q494.64 185.709 494.663 186.177 Q494.663 186.412 494.031 186.997 Q486.302 194.867 486.325 209.694 Q486.325 224.567 493.844 232.132 Q494.663 232.952 494.663 233.21 Q494.663 233.678 494.172 233.678 Q493.844 233.678 492.696 232.718 Q491.548 231.757 489.768 229.556 Q487.988 227.354 486.7 224.66 Q483.538 218.126 483.538 209.694 Z\" fill=\"#000000\" fill-rule=\"evenodd\" fill-opacity=\"1\" /><path clip-path=\"url(#clip290)\" d=\"M522.201 203.651 Q522.201 204.962 521.381 205.712 Q520.561 206.438 519.625 206.438 Q518.734 206.438 518.266 205.923 Q517.798 205.407 517.798 204.751 Q517.798 203.861 518.453 203.088 Q519.109 202.315 520.093 202.151 Q519.133 201.543 517.704 201.543 Q516.767 201.543 515.947 202.034 Q515.151 202.526 514.659 203.159 Q514.191 203.791 513.769 204.705 Q513.371 205.595 513.207 206.133 Q513.066 206.649 512.949 207.211 L511.31 213.769 Q510.513 216.884 510.513 217.985 Q510.513 219.344 511.169 220.257 Q511.825 221.147 513.137 221.147 Q513.652 221.147 514.237 221.007 Q514.823 220.843 515.572 220.421 Q516.345 219.976 517.025 219.32 Q517.727 218.641 518.407 217.493 Q519.086 216.346 519.531 214.87 Q519.671 214.355 520.14 214.355 Q520.725 214.355 520.725 214.823 Q520.725 215.221 520.397 216.064 Q520.093 216.884 519.414 217.962 Q518.758 219.016 517.891 219.976 Q517.025 220.913 515.736 221.569 Q514.448 222.225 513.043 222.225 Q511.029 222.225 509.693 221.147 Q508.358 220.07 507.866 218.571 Q507.749 218.781 507.585 219.063 Q507.421 219.344 506.93 219.976 Q506.461 220.585 505.922 221.053 Q505.384 221.498 504.54 221.85 Q503.721 222.225 502.831 222.225 Q501.706 222.225 500.699 221.897 Q499.715 221.569 499.013 220.819 Q498.31 220.07 498.31 219.039 Q498.31 217.891 499.083 217.095 Q499.879 216.275 500.957 216.275 Q501.636 216.275 502.175 216.673 Q502.737 217.072 502.737 217.938 Q502.737 218.899 502.081 219.625 Q501.425 220.351 500.488 220.538 Q501.449 221.147 502.878 221.147 Q504.423 221.147 505.641 219.789 Q506.859 218.43 507.445 216.158 Q508.897 210.701 509.459 208.265 Q510.021 205.805 510.021 204.751 Q510.021 203.768 509.764 203.088 Q509.506 202.409 509.061 202.105 Q508.639 201.777 508.241 201.66 Q507.866 201.543 507.445 201.543 Q506.742 201.543 505.946 201.824 Q505.173 202.105 504.236 202.76 Q503.323 203.393 502.456 204.705 Q501.589 206.016 501.004 207.82 Q500.887 208.358 500.371 208.358 Q499.809 208.335 499.809 207.867 Q499.809 207.468 500.114 206.649 Q500.442 205.805 501.097 204.751 Q501.777 203.697 502.643 202.76 Q503.533 201.8 504.822 201.144 Q506.133 200.489 507.539 200.489 Q508.171 200.489 508.78 200.629 Q509.412 200.746 510.162 201.097 Q510.935 201.449 511.614 202.222 Q512.293 202.995 512.715 204.119 Q512.996 203.58 513.371 203.065 Q513.769 202.55 514.378 201.917 Q515.01 201.261 515.877 200.887 Q516.767 200.489 517.751 200.489 Q518.711 200.489 519.648 200.746 Q520.585 200.98 521.381 201.753 Q522.201 202.503 522.201 203.651 Z\" fill=\"#000000\" fill-rule=\"evenodd\" fill-opacity=\"1\" /><path clip-path=\"url(#clip290)\" d=\"M526.821 233.21 Q526.821 232.975 527.43 232.39 Q535.159 224.52 535.159 209.694 Q535.159 194.82 527.734 187.302 Q526.821 186.435 526.821 186.177 Q526.821 185.709 527.289 185.709 Q527.617 185.709 528.765 186.669 Q529.936 187.63 531.693 189.831 Q533.473 192.033 534.784 194.727 Q537.946 201.261 537.946 209.694 Q537.946 217.798 534.925 224.333 Q533.637 227.073 531.833 229.368 Q530.03 231.664 528.835 232.671 Q527.64 233.678 527.289 233.678 Q526.821 233.678 526.821 233.21 Z\" fill=\"#000000\" fill-rule=\"evenodd\" fill-opacity=\"1\" /><path clip-path=\"url(#clip290)\" d=\"M558.552 214.401 Q558.599 213.816 559.513 213.816 L588.908 213.816 Q590.29 213.816 590.313 214.355 Q590.313 214.94 589.002 214.917 L559.841 214.917 Q558.552 214.94 558.552 214.401 M558.552 205.032 Q558.552 204.447 559.56 204.47 L588.861 204.47 Q590.29 204.47 590.313 205.032 Q590.313 205.571 589.095 205.571 L559.513 205.571 Q558.552 205.571 558.552 205.032 Z\" fill=\"#000000\" fill-rule=\"evenodd\" fill-opacity=\"1\" /><path clip-path=\"url(#clip290)\" d=\"M632.711 203.651 Q632.711 204.962 631.892 205.712 Q631.072 206.438 630.135 206.438 Q629.245 206.438 628.777 205.923 Q628.308 205.407 628.308 204.751 Q628.308 203.861 628.964 203.088 Q629.62 202.315 630.603 202.151 Q629.643 201.543 628.214 201.543 Q627.277 201.543 626.458 202.034 Q625.661 202.526 625.169 203.159 Q624.701 203.791 624.279 204.705 Q623.881 205.595 623.717 206.133 Q623.577 206.649 623.46 207.211 L621.82 213.769 Q621.024 216.884 621.024 217.985 Q621.024 219.344 621.68 220.257 Q622.335 221.147 623.647 221.147 Q624.162 221.147 624.748 221.007 Q625.333 220.843 626.083 220.421 Q626.856 219.976 627.535 219.32 Q628.238 218.641 628.917 217.493 Q629.596 216.346 630.041 214.87 Q630.182 214.355 630.65 214.355 Q631.236 214.355 631.236 214.823 Q631.236 215.221 630.908 216.064 Q630.603 216.884 629.924 217.962 Q629.268 219.016 628.402 219.976 Q627.535 220.913 626.247 221.569 Q624.959 222.225 623.553 222.225 Q621.539 222.225 620.204 221.147 Q618.869 220.07 618.377 218.571 Q618.26 218.781 618.096 219.063 Q617.932 219.344 617.44 219.976 Q616.972 220.585 616.433 221.053 Q615.894 221.498 615.051 221.85 Q614.231 222.225 613.341 222.225 Q612.217 222.225 611.21 221.897 Q610.226 221.569 609.523 220.819 Q608.821 220.07 608.821 219.039 Q608.821 217.891 609.594 217.095 Q610.39 216.275 611.467 216.275 Q612.147 216.275 612.685 216.673 Q613.247 217.072 613.247 217.938 Q613.247 218.899 612.592 219.625 Q611.936 220.351 610.999 220.538 Q611.959 221.147 613.388 221.147 Q614.934 221.147 616.152 219.789 Q617.37 218.43 617.955 216.158 Q619.408 210.701 619.97 208.265 Q620.532 205.805 620.532 204.751 Q620.532 203.768 620.274 203.088 Q620.017 202.409 619.572 202.105 Q619.15 201.777 618.752 201.66 Q618.377 201.543 617.955 201.543 Q617.253 201.543 616.456 201.824 Q615.683 202.105 614.746 202.76 Q613.833 203.393 612.966 204.705 Q612.1 206.016 611.514 207.82 Q611.397 208.358 610.882 208.358 Q610.32 208.335 610.32 207.867 Q610.32 207.468 610.624 206.649 Q610.952 205.805 611.608 204.751 Q612.287 203.697 613.154 202.76 Q614.044 201.8 615.332 201.144 Q616.644 200.489 618.049 200.489 Q618.681 200.489 619.29 200.629 Q619.923 200.746 620.672 201.097 Q621.445 201.449 622.125 202.222 Q622.804 202.995 623.225 204.119 Q623.506 203.58 623.881 203.065 Q624.279 202.55 624.888 201.917 Q625.521 201.261 626.387 200.887 Q627.277 200.489 628.261 200.489 Q629.222 200.489 630.158 200.746 Q631.095 200.98 631.892 201.753 Q632.711 202.503 632.711 203.651 Z\" fill=\"#000000\" fill-rule=\"evenodd\" fill-opacity=\"1\" /><path clip-path=\"url(#clip290)\" d=\"M637.601 207.33 Q637.601 206.724 637.65 206.543 Q637.715 206.363 637.978 206.084 L644.421 198.903 Q647.946 194.935 647.946 191.476 Q647.946 189.229 646.766 187.623 Q645.602 186.016 643.454 186.016 Q641.978 186.016 640.732 186.918 Q639.486 187.819 638.912 189.426 Q639.011 189.393 639.355 189.393 Q640.191 189.393 640.65 189.918 Q641.126 190.443 641.126 191.148 Q641.126 192.049 640.535 192.492 Q639.962 192.918 639.388 192.918 Q639.158 192.918 638.847 192.869 Q638.552 192.82 638.076 192.361 Q637.601 191.885 637.601 191.049 Q637.601 188.705 639.371 186.836 Q641.158 184.966 643.88 184.966 Q646.963 184.966 648.979 186.803 Q651.012 188.623 651.012 191.476 Q651.012 192.476 650.701 193.394 Q650.406 194.296 649.996 195.001 Q649.602 195.706 648.52 196.837 Q647.438 197.968 646.569 198.772 Q645.7 199.575 643.749 201.28 L640.191 204.74 L646.241 204.74 Q649.192 204.74 649.422 204.477 Q649.75 204.002 650.16 201.493 L651.012 201.493 L650.061 207.33 L637.601 207.33 Z\" fill=\"#000000\" fill-rule=\"evenodd\" fill-opacity=\"1\" /><path clip-path=\"url(#clip290)\" d=\"M700.978 209.014 Q701.259 209.295 701.259 209.694 Q701.259 210.092 700.978 210.373 Q700.697 210.654 700.299 210.654 L670.271 210.654 Q669.873 210.654 669.592 210.373 Q669.311 210.092 669.311 209.694 Q669.311 209.295 669.592 209.014 Q669.873 208.733 670.271 208.733 L700.299 208.733 Q700.697 208.733 700.978 209.014 Z\" fill=\"#000000\" fill-rule=\"evenodd\" fill-opacity=\"1\" /><path clip-path=\"url(#clip290)\" d=\"M719.579 221.686 Q719.579 220.819 719.649 220.562 Q719.743 220.304 720.118 219.906 L729.323 209.647 Q734.359 203.978 734.359 199.036 Q734.359 195.827 732.672 193.532 Q731.009 191.237 727.941 191.237 Q725.833 191.237 724.053 192.525 Q722.273 193.813 721.453 196.109 Q721.593 196.062 722.085 196.062 Q723.28 196.062 723.936 196.811 Q724.615 197.561 724.615 198.568 Q724.615 199.856 723.772 200.489 Q722.952 201.097 722.132 201.097 Q721.804 201.097 721.359 201.027 Q720.938 200.957 720.258 200.301 Q719.579 199.622 719.579 198.427 Q719.579 195.078 722.109 192.408 Q724.662 189.738 728.55 189.738 Q732.953 189.738 735.834 192.361 Q738.739 194.961 738.739 199.036 Q738.739 200.465 738.294 201.777 Q737.872 203.065 737.287 204.072 Q736.724 205.079 735.178 206.695 Q733.633 208.312 732.391 209.459 Q731.15 210.607 728.363 213.043 L723.28 217.985 L731.923 217.985 Q736.139 217.985 736.467 217.61 Q736.935 216.931 737.521 213.347 L738.739 213.347 L737.38 221.686 L719.579 221.686 Z\" fill=\"#000000\" fill-rule=\"evenodd\" fill-opacity=\"1\" /><path clip-path=\"url(#clip290)\" d=\"M766.458 203.651 Q766.458 204.962 765.638 205.712 Q764.819 206.438 763.882 206.438 Q762.992 206.438 762.523 205.923 Q762.055 205.407 762.055 204.751 Q762.055 203.861 762.711 203.088 Q763.367 202.315 764.35 202.151 Q763.39 201.543 761.961 201.543 Q761.024 201.543 760.204 202.034 Q759.408 202.526 758.916 203.159 Q758.448 203.791 758.026 204.705 Q757.628 205.595 757.464 206.133 Q757.324 206.649 757.206 207.211 L755.567 213.769 Q754.77 216.884 754.77 217.985 Q754.77 219.344 755.426 220.257 Q756.082 221.147 757.394 221.147 Q757.909 221.147 758.495 221.007 Q759.08 220.843 759.83 220.421 Q760.603 219.976 761.282 219.32 Q761.985 218.641 762.664 217.493 Q763.343 216.346 763.788 214.87 Q763.929 214.355 764.397 214.355 Q764.983 214.355 764.983 214.823 Q764.983 215.221 764.655 216.064 Q764.35 216.884 763.671 217.962 Q763.015 219.016 762.149 219.976 Q761.282 220.913 759.994 221.569 Q758.705 222.225 757.3 222.225 Q755.286 222.225 753.951 221.147 Q752.616 220.07 752.124 218.571 Q752.007 218.781 751.843 219.063 Q751.679 219.344 751.187 219.976 Q750.718 220.585 750.18 221.053 Q749.641 221.498 748.798 221.85 Q747.978 222.225 747.088 222.225 Q745.964 222.225 744.956 221.897 Q743.973 221.569 743.27 220.819 Q742.567 220.07 742.567 219.039 Q742.567 217.891 743.34 217.095 Q744.137 216.275 745.214 216.275 Q745.893 216.275 746.432 216.673 Q746.994 217.072 746.994 217.938 Q746.994 218.899 746.338 219.625 Q745.683 220.351 744.746 220.538 Q745.706 221.147 747.135 221.147 Q748.681 221.147 749.899 219.789 Q751.117 218.43 751.702 216.158 Q753.154 210.701 753.716 208.265 Q754.279 205.805 754.279 204.751 Q754.279 203.768 754.021 203.088 Q753.763 202.409 753.318 202.105 Q752.897 201.777 752.499 201.66 Q752.124 201.543 751.702 201.543 Q750.999 201.543 750.203 201.824 Q749.43 202.105 748.493 202.76 Q747.58 203.393 746.713 204.705 Q745.847 206.016 745.261 207.82 Q745.144 208.358 744.629 208.358 Q744.066 208.335 744.066 207.867 Q744.066 207.468 744.371 206.649 Q744.699 205.805 745.355 204.751 Q746.034 203.697 746.901 202.76 Q747.791 201.8 749.079 201.144 Q750.39 200.489 751.796 200.489 Q752.428 200.489 753.037 200.629 Q753.67 200.746 754.419 201.097 Q755.192 201.449 755.871 202.222 Q756.551 202.995 756.972 204.119 Q757.253 203.58 757.628 203.065 Q758.026 202.55 758.635 201.917 Q759.268 201.261 760.134 200.887 Q761.024 200.489 762.008 200.489 Q762.968 200.489 763.905 200.746 Q764.842 200.98 765.638 201.753 Q766.458 202.503 766.458 203.651 Z\" fill=\"#000000\" fill-rule=\"evenodd\" fill-opacity=\"1\" /><path clip-path=\"url(#clip290)\" d=\"M1330.33 920.751 Q1324.82 920.751 1321.58 924.518 Q1318.38 928.285 1318.38 934.848 Q1318.38 941.37 1321.58 945.178 Q1324.82 948.945 1330.33 948.945 Q1335.84 948.945 1339.04 945.178 Q1342.28 941.37 1342.28 934.848 Q1342.28 928.285 1339.04 924.518 Q1335.84 920.751 1330.33 920.751 M1346.58 895.108 L1346.58 902.562 Q1343.5 901.104 1340.34 900.334 Q1337.22 899.564 1334.14 899.564 Q1326.04 899.564 1321.74 905.033 Q1317.49 910.502 1316.88 921.561 Q1319.27 918.037 1322.88 916.173 Q1326.48 914.269 1330.82 914.269 Q1339.93 914.269 1345.2 919.819 Q1350.51 925.328 1350.51 934.848 Q1350.51 944.165 1345 949.796 Q1339.49 955.426 1330.33 955.426 Q1319.84 955.426 1314.29 947.406 Q1308.74 939.344 1308.74 924.072 Q1308.74 909.732 1315.55 901.225 Q1322.35 892.678 1333.82 892.678 Q1336.89 892.678 1340.01 893.286 Q1343.17 893.893 1346.58 895.108 Z\" fill=\"#000000\" fill-rule=\"evenodd\" fill-opacity=\"1\" /><path clip-path=\"url(#clip290)\" d=\"M1387.08 900.901 L1366.43 933.187 L1387.08 933.187 L1387.08 900.901 M1384.94 893.772 L1395.23 893.772 L1395.23 933.187 L1403.86 933.187 L1403.86 939.993 L1395.23 939.993 L1395.23 954.252 L1387.08 954.252 L1387.08 939.993 L1359.78 939.993 L1359.78 932.093 L1384.94 893.772 Z\" fill=\"#000000\" fill-rule=\"evenodd\" fill-opacity=\"1\" /><path clip-path=\"url(#clip290)\" d=\"M1429.58 893.772 L1436.47 893.772 L1415.4 961.948 L1408.51 961.948 L1429.58 893.772 Z\" fill=\"#000000\" fill-rule=\"evenodd\" fill-opacity=\"1\" /><path clip-path=\"url(#clip290)\" d=\"M1470.13 921.642 Q1476 922.898 1479.28 926.868 Q1482.61 930.837 1482.61 936.671 Q1482.61 945.623 1476.45 950.525 Q1470.29 955.426 1458.95 955.426 Q1455.14 955.426 1451.09 954.657 Q1447.08 953.928 1442.78 952.429 L1442.78 944.53 Q1446.19 946.514 1450.24 947.527 Q1454.29 948.54 1458.7 948.54 Q1466.4 948.54 1470.41 945.502 Q1474.46 942.464 1474.46 936.671 Q1474.46 931.324 1470.7 928.326 Q1466.97 925.288 1460.28 925.288 L1453.24 925.288 L1453.24 918.563 L1460.61 918.563 Q1466.64 918.563 1469.84 916.173 Q1473.04 913.743 1473.04 909.206 Q1473.04 904.547 1469.72 902.076 Q1466.44 899.564 1460.28 899.564 Q1456.92 899.564 1453.07 900.294 Q1449.23 901.023 1444.61 902.562 L1444.61 895.271 Q1449.27 893.974 1453.32 893.326 Q1457.41 892.678 1461.01 892.678 Q1470.33 892.678 1475.76 896.931 Q1481.19 901.144 1481.19 908.355 Q1481.19 913.378 1478.31 916.862 Q1475.43 920.305 1470.13 921.642 Z\" fill=\"#000000\" fill-rule=\"evenodd\" fill-opacity=\"1\" /></svg>\n"
      ]
     },
     "execution_count": 23,
     "metadata": {},
     "output_type": "execute_result"
    }
   ],
   "source": [
    "using Plots, SymPy, LaTeXStrings\n",
    "@vars x real = true\n",
    "f(x) = -x^2+6x\n",
    "g(x) = x^2-2x\n",
    "plot(f, -1, 5, label = L\"$f(x)=-x^2+6x$\")\n",
    "plot!(g, 0, 4, fillrange = f, fillalpha = 0.3, label = \"\")\n",
    "plot!(g, label = L\"$g(x)=x^2-2x$\")\n",
    "annotate!(2, 4, sol)"
   ]
  },
  {
   "cell_type": "code",
   "execution_count": 24,
   "id": "dbe0c580",
   "metadata": {},
   "outputs": [
    {
     "data": {
      "image/svg+xml": [
       "<?xml version=\"1.0\" encoding=\"utf-8\"?>\n",
       "<svg xmlns=\"http://www.w3.org/2000/svg\" xmlns:xlink=\"http://www.w3.org/1999/xlink\" width=\"672\" height=\"480\" viewBox=\"0 0 2688 1920\">\n",
       "<defs>\n",
       "  <clipPath id=\"clip330\">\n",
       "    <rect x=\"0\" y=\"0\" width=\"2688\" height=\"1920\"/>\n",
       "  </clipPath>\n",
       "</defs>\n",
       "<path clip-path=\"url(#clip330)\" d=\"\n",
       "M0 1920 L2688 1920 L2688 0 L0 0  Z\n",
       "  \" fill=\"#ffffff\" fill-rule=\"evenodd\" fill-opacity=\"1\"/>\n",
       "<defs>\n",
       "  <clipPath id=\"clip331\">\n",
       "    <rect x=\"537\" y=\"0\" width=\"1883\" height=\"1883\"/>\n",
       "  </clipPath>\n",
       "</defs>\n",
       "<defs>\n",
       "  <clipPath id=\"clip332\">\n",
       "    <rect x=\"150\" y=\"47\" width=\"2491\" height=\"1755\"/>\n",
       "  </clipPath>\n",
       "</defs>\n",
       "<path clip-path=\"url(#clip330)\" d=\"\n",
       "M189.154 1800.78 L2640.76 1800.78 L2640.76 47.2441 L189.154 47.2441  Z\n",
       "  \" fill=\"#ffffff\" fill-rule=\"evenodd\" fill-opacity=\"1\"/>\n",
       "<defs>\n",
       "  <clipPath id=\"clip333\">\n",
       "    <rect x=\"189\" y=\"47\" width=\"2453\" height=\"1755\"/>\n",
       "  </clipPath>\n",
       "</defs>\n",
       "<polyline clip-path=\"url(#clip333)\" style=\"stroke:#000000; stroke-linecap:round; stroke-linejoin:round; stroke-width:2; stroke-opacity:0.1; fill:none\" points=\"\n",
       "  258.539,1800.78 258.539,47.2441 \n",
       "  \"/>\n",
       "<polyline clip-path=\"url(#clip333)\" style=\"stroke:#000000; stroke-linecap:round; stroke-linejoin:round; stroke-width:2; stroke-opacity:0.1; fill:none\" points=\"\n",
       "  836.747,1800.78 836.747,47.2441 \n",
       "  \"/>\n",
       "<polyline clip-path=\"url(#clip333)\" style=\"stroke:#000000; stroke-linecap:round; stroke-linejoin:round; stroke-width:2; stroke-opacity:0.1; fill:none\" points=\"\n",
       "  1414.95,1800.78 1414.95,47.2441 \n",
       "  \"/>\n",
       "<polyline clip-path=\"url(#clip333)\" style=\"stroke:#000000; stroke-linecap:round; stroke-linejoin:round; stroke-width:2; stroke-opacity:0.1; fill:none\" points=\"\n",
       "  1993.16,1800.78 1993.16,47.2441 \n",
       "  \"/>\n",
       "<polyline clip-path=\"url(#clip333)\" style=\"stroke:#000000; stroke-linecap:round; stroke-linejoin:round; stroke-width:2; stroke-opacity:0.1; fill:none\" points=\"\n",
       "  2571.37,1800.78 2571.37,47.2441 \n",
       "  \"/>\n",
       "<polyline clip-path=\"url(#clip330)\" style=\"stroke:#000000; stroke-linecap:round; stroke-linejoin:round; stroke-width:4; stroke-opacity:1; fill:none\" points=\"\n",
       "  189.154,1800.78 2640.76,1800.78 \n",
       "  \"/>\n",
       "<polyline clip-path=\"url(#clip330)\" style=\"stroke:#000000; stroke-linecap:round; stroke-linejoin:round; stroke-width:4; stroke-opacity:1; fill:none\" points=\"\n",
       "  258.539,1800.78 258.539,1781.88 \n",
       "  \"/>\n",
       "<polyline clip-path=\"url(#clip330)\" style=\"stroke:#000000; stroke-linecap:round; stroke-linejoin:round; stroke-width:4; stroke-opacity:1; fill:none\" points=\"\n",
       "  836.747,1800.78 836.747,1781.88 \n",
       "  \"/>\n",
       "<polyline clip-path=\"url(#clip330)\" style=\"stroke:#000000; stroke-linecap:round; stroke-linejoin:round; stroke-width:4; stroke-opacity:1; fill:none\" points=\"\n",
       "  1414.95,1800.78 1414.95,1781.88 \n",
       "  \"/>\n",
       "<polyline clip-path=\"url(#clip330)\" style=\"stroke:#000000; stroke-linecap:round; stroke-linejoin:round; stroke-width:4; stroke-opacity:1; fill:none\" points=\"\n",
       "  1993.16,1800.78 1993.16,1781.88 \n",
       "  \"/>\n",
       "<polyline clip-path=\"url(#clip330)\" style=\"stroke:#000000; stroke-linecap:round; stroke-linejoin:round; stroke-width:4; stroke-opacity:1; fill:none\" points=\"\n",
       "  2571.37,1800.78 2571.37,1781.88 \n",
       "  \"/>\n",
       "<path clip-path=\"url(#clip330)\" d=\"M235.923 1834 Q232.312 1834 230.484 1837.57 Q228.678 1841.11 228.678 1848.24 Q228.678 1855.34 230.484 1858.91 Q232.312 1862.45 235.923 1862.45 Q239.558 1862.45 241.363 1858.91 Q243.192 1855.34 243.192 1848.24 Q243.192 1841.11 241.363 1837.57 Q239.558 1834 235.923 1834 M235.923 1830.3 Q241.733 1830.3 244.789 1834.9 Q247.868 1839.49 247.868 1848.24 Q247.868 1856.96 244.789 1861.57 Q241.733 1866.15 235.923 1866.15 Q230.113 1866.15 227.035 1861.57 Q223.979 1856.96 223.979 1848.24 Q223.979 1839.49 227.035 1834.9 Q230.113 1830.3 235.923 1830.3 Z\" fill=\"#000000\" fill-rule=\"evenodd\" fill-opacity=\"1\" /><path clip-path=\"url(#clip330)\" d=\"M256.085 1859.6 L260.97 1859.6 L260.97 1865.48 L256.085 1865.48 L256.085 1859.6 Z\" fill=\"#000000\" fill-rule=\"evenodd\" fill-opacity=\"1\" /><path clip-path=\"url(#clip330)\" d=\"M281.155 1834 Q277.543 1834 275.715 1837.57 Q273.909 1841.11 273.909 1848.24 Q273.909 1855.34 275.715 1858.91 Q277.543 1862.45 281.155 1862.45 Q284.789 1862.45 286.594 1858.91 Q288.423 1855.34 288.423 1848.24 Q288.423 1841.11 286.594 1837.57 Q284.789 1834 281.155 1834 M281.155 1830.3 Q286.965 1830.3 290.02 1834.9 Q293.099 1839.49 293.099 1848.24 Q293.099 1856.96 290.02 1861.57 Q286.965 1866.15 281.155 1866.15 Q275.344 1866.15 272.266 1861.57 Q269.21 1856.96 269.21 1848.24 Q269.21 1839.49 272.266 1834.9 Q275.344 1830.3 281.155 1830.3 Z\" fill=\"#000000\" fill-rule=\"evenodd\" fill-opacity=\"1\" /><path clip-path=\"url(#clip330)\" d=\"M808.483 1861.55 L824.803 1861.55 L824.803 1865.48 L802.858 1865.48 L802.858 1861.55 Q805.52 1858.79 810.104 1854.16 Q814.71 1849.51 815.891 1848.17 Q818.136 1845.65 819.016 1843.91 Q819.918 1842.15 819.918 1840.46 Q819.918 1837.71 817.974 1835.97 Q816.053 1834.23 812.951 1834.23 Q810.752 1834.23 808.298 1835 Q805.867 1835.76 803.09 1837.31 L803.09 1832.59 Q805.914 1831.46 808.367 1830.88 Q810.821 1830.3 812.858 1830.3 Q818.229 1830.3 821.423 1832.98 Q824.617 1835.67 824.617 1840.16 Q824.617 1842.29 823.807 1844.21 Q823.02 1846.11 820.914 1848.7 Q820.335 1849.37 817.233 1852.59 Q814.131 1855.78 808.483 1861.55 Z\" fill=\"#000000\" fill-rule=\"evenodd\" fill-opacity=\"1\" /><path clip-path=\"url(#clip330)\" d=\"M834.617 1859.6 L839.502 1859.6 L839.502 1865.48 L834.617 1865.48 L834.617 1859.6 Z\" fill=\"#000000\" fill-rule=\"evenodd\" fill-opacity=\"1\" /><path clip-path=\"url(#clip330)\" d=\"M849.733 1830.92 L868.089 1830.92 L868.089 1834.86 L854.015 1834.86 L854.015 1843.33 Q855.034 1842.98 856.052 1842.82 Q857.071 1842.64 858.089 1842.64 Q863.876 1842.64 867.256 1845.81 Q870.636 1848.98 870.636 1854.4 Q870.636 1859.97 867.163 1863.08 Q863.691 1866.15 857.372 1866.15 Q855.196 1866.15 852.927 1865.78 Q850.682 1865.41 848.275 1864.67 L848.275 1859.97 Q850.358 1861.11 852.58 1861.66 Q854.802 1862.22 857.279 1862.22 Q861.284 1862.22 863.622 1860.11 Q865.96 1858.01 865.96 1854.4 Q865.96 1850.78 863.622 1848.68 Q861.284 1846.57 857.279 1846.57 Q855.404 1846.57 853.529 1846.99 Q851.677 1847.4 849.733 1848.28 L849.733 1830.92 Z\" fill=\"#000000\" fill-rule=\"evenodd\" fill-opacity=\"1\" /><path clip-path=\"url(#clip330)\" d=\"M1382.12 1830.92 L1400.48 1830.92 L1400.48 1834.86 L1386.4 1834.86 L1386.4 1843.33 Q1387.42 1842.98 1388.44 1842.82 Q1389.46 1842.64 1390.48 1842.64 Q1396.26 1842.64 1399.64 1845.81 Q1403.02 1848.98 1403.02 1854.4 Q1403.02 1859.97 1399.55 1863.08 Q1396.08 1866.15 1389.76 1866.15 Q1387.58 1866.15 1385.31 1865.78 Q1383.07 1865.41 1380.66 1864.67 L1380.66 1859.97 Q1382.74 1861.11 1384.97 1861.66 Q1387.19 1862.22 1389.67 1862.22 Q1393.67 1862.22 1396.01 1860.11 Q1398.35 1858.01 1398.35 1854.4 Q1398.35 1850.78 1396.01 1848.68 Q1393.67 1846.57 1389.67 1846.57 Q1387.79 1846.57 1385.92 1846.99 Q1384.06 1847.4 1382.12 1848.28 L1382.12 1830.92 Z\" fill=\"#000000\" fill-rule=\"evenodd\" fill-opacity=\"1\" /><path clip-path=\"url(#clip330)\" d=\"M1412.24 1859.6 L1417.12 1859.6 L1417.12 1865.48 L1412.24 1865.48 L1412.24 1859.6 Z\" fill=\"#000000\" fill-rule=\"evenodd\" fill-opacity=\"1\" /><path clip-path=\"url(#clip330)\" d=\"M1437.3 1834 Q1433.69 1834 1431.86 1837.57 Q1430.06 1841.11 1430.06 1848.24 Q1430.06 1855.34 1431.86 1858.91 Q1433.69 1862.45 1437.3 1862.45 Q1440.94 1862.45 1442.74 1858.91 Q1444.57 1855.34 1444.57 1848.24 Q1444.57 1841.11 1442.74 1837.57 Q1440.94 1834 1437.3 1834 M1437.3 1830.3 Q1443.11 1830.3 1446.17 1834.9 Q1449.25 1839.49 1449.25 1848.24 Q1449.25 1856.96 1446.17 1861.57 Q1443.11 1866.15 1437.3 1866.15 Q1431.49 1866.15 1428.42 1861.57 Q1425.36 1856.96 1425.36 1848.24 Q1425.36 1839.49 1428.42 1834.9 Q1431.49 1830.3 1437.3 1830.3 Z\" fill=\"#000000\" fill-rule=\"evenodd\" fill-opacity=\"1\" /><path clip-path=\"url(#clip330)\" d=\"M1959.48 1830.92 L1981.7 1830.92 L1981.7 1832.91 L1969.16 1865.48 L1964.27 1865.48 L1976.08 1834.86 L1959.48 1834.86 L1959.48 1830.92 Z\" fill=\"#000000\" fill-rule=\"evenodd\" fill-opacity=\"1\" /><path clip-path=\"url(#clip330)\" d=\"M1990.82 1859.6 L1995.71 1859.6 L1995.71 1865.48 L1990.82 1865.48 L1990.82 1859.6 Z\" fill=\"#000000\" fill-rule=\"evenodd\" fill-opacity=\"1\" /><path clip-path=\"url(#clip330)\" d=\"M2005.94 1830.92 L2024.3 1830.92 L2024.3 1834.86 L2010.22 1834.86 L2010.22 1843.33 Q2011.24 1842.98 2012.26 1842.82 Q2013.28 1842.64 2014.3 1842.64 Q2020.08 1842.64 2023.46 1845.81 Q2026.84 1848.98 2026.84 1854.4 Q2026.84 1859.97 2023.37 1863.08 Q2019.9 1866.15 2013.58 1866.15 Q2011.4 1866.15 2009.14 1865.78 Q2006.89 1865.41 2004.48 1864.67 L2004.48 1859.97 Q2006.57 1861.11 2008.79 1861.66 Q2011.01 1862.22 2013.49 1862.22 Q2017.49 1862.22 2019.83 1860.11 Q2022.17 1858.01 2022.17 1854.4 Q2022.17 1850.78 2019.83 1848.68 Q2017.49 1846.57 2013.49 1846.57 Q2011.61 1846.57 2009.74 1846.99 Q2007.89 1847.4 2005.94 1848.28 L2005.94 1830.92 Z\" fill=\"#000000\" fill-rule=\"evenodd\" fill-opacity=\"1\" /><path clip-path=\"url(#clip330)\" d=\"M2523.44 1861.55 L2531.08 1861.55 L2531.08 1835.18 L2522.77 1836.85 L2522.77 1832.59 L2531.04 1830.92 L2535.71 1830.92 L2535.71 1861.55 L2543.35 1861.55 L2543.35 1865.48 L2523.44 1865.48 L2523.44 1861.55 Z\" fill=\"#000000\" fill-rule=\"evenodd\" fill-opacity=\"1\" /><path clip-path=\"url(#clip330)\" d=\"M2562.79 1834 Q2559.18 1834 2557.35 1837.57 Q2555.55 1841.11 2555.55 1848.24 Q2555.55 1855.34 2557.35 1858.91 Q2559.18 1862.45 2562.79 1862.45 Q2566.43 1862.45 2568.23 1858.91 Q2570.06 1855.34 2570.06 1848.24 Q2570.06 1841.11 2568.23 1837.57 Q2566.43 1834 2562.79 1834 M2562.79 1830.3 Q2568.6 1830.3 2571.66 1834.9 Q2574.74 1839.49 2574.74 1848.24 Q2574.74 1856.96 2571.66 1861.57 Q2568.6 1866.15 2562.79 1866.15 Q2556.98 1866.15 2553.91 1861.57 Q2550.85 1856.96 2550.85 1848.24 Q2550.85 1839.49 2553.91 1834.9 Q2556.98 1830.3 2562.79 1830.3 Z\" fill=\"#000000\" fill-rule=\"evenodd\" fill-opacity=\"1\" /><path clip-path=\"url(#clip330)\" d=\"M2582.96 1859.6 L2587.84 1859.6 L2587.84 1865.48 L2582.96 1865.48 L2582.96 1859.6 Z\" fill=\"#000000\" fill-rule=\"evenodd\" fill-opacity=\"1\" /><path clip-path=\"url(#clip330)\" d=\"M2608.03 1834 Q2604.41 1834 2602.59 1837.57 Q2600.78 1841.11 2600.78 1848.24 Q2600.78 1855.34 2602.59 1858.91 Q2604.41 1862.45 2608.03 1862.45 Q2611.66 1862.45 2613.47 1858.91 Q2615.29 1855.34 2615.29 1848.24 Q2615.29 1841.11 2613.47 1837.57 Q2611.66 1834 2608.03 1834 M2608.03 1830.3 Q2613.84 1830.3 2616.89 1834.9 Q2619.97 1839.49 2619.97 1848.24 Q2619.97 1856.96 2616.89 1861.57 Q2613.84 1866.15 2608.03 1866.15 Q2602.22 1866.15 2599.14 1861.57 Q2596.08 1856.96 2596.08 1848.24 Q2596.08 1839.49 2599.14 1834.9 Q2602.22 1830.3 2608.03 1830.3 Z\" fill=\"#000000\" fill-rule=\"evenodd\" fill-opacity=\"1\" /><polyline clip-path=\"url(#clip333)\" style=\"stroke:#000000; stroke-linecap:round; stroke-linejoin:round; stroke-width:2; stroke-opacity:0.1; fill:none\" points=\"\n",
       "  189.154,1751.23 2640.76,1751.23 \n",
       "  \"/>\n",
       "<polyline clip-path=\"url(#clip333)\" style=\"stroke:#000000; stroke-linecap:round; stroke-linejoin:round; stroke-width:2; stroke-opacity:0.1; fill:none\" points=\"\n",
       "  189.154,1337.64 2640.76,1337.64 \n",
       "  \"/>\n",
       "<polyline clip-path=\"url(#clip333)\" style=\"stroke:#000000; stroke-linecap:round; stroke-linejoin:round; stroke-width:2; stroke-opacity:0.1; fill:none\" points=\"\n",
       "  189.154,924.049 2640.76,924.049 \n",
       "  \"/>\n",
       "<polyline clip-path=\"url(#clip333)\" style=\"stroke:#000000; stroke-linecap:round; stroke-linejoin:round; stroke-width:2; stroke-opacity:0.1; fill:none\" points=\"\n",
       "  189.154,510.461 2640.76,510.461 \n",
       "  \"/>\n",
       "<polyline clip-path=\"url(#clip333)\" style=\"stroke:#000000; stroke-linecap:round; stroke-linejoin:round; stroke-width:2; stroke-opacity:0.1; fill:none\" points=\"\n",
       "  189.154,96.8724 2640.76,96.8724 \n",
       "  \"/>\n",
       "<polyline clip-path=\"url(#clip330)\" style=\"stroke:#000000; stroke-linecap:round; stroke-linejoin:round; stroke-width:4; stroke-opacity:1; fill:none\" points=\"\n",
       "  189.154,1800.78 189.154,47.2441 \n",
       "  \"/>\n",
       "<polyline clip-path=\"url(#clip330)\" style=\"stroke:#000000; stroke-linecap:round; stroke-linejoin:round; stroke-width:4; stroke-opacity:1; fill:none\" points=\"\n",
       "  189.154,1751.23 208.052,1751.23 \n",
       "  \"/>\n",
       "<polyline clip-path=\"url(#clip330)\" style=\"stroke:#000000; stroke-linecap:round; stroke-linejoin:round; stroke-width:4; stroke-opacity:1; fill:none\" points=\"\n",
       "  189.154,1337.64 208.052,1337.64 \n",
       "  \"/>\n",
       "<polyline clip-path=\"url(#clip330)\" style=\"stroke:#000000; stroke-linecap:round; stroke-linejoin:round; stroke-width:4; stroke-opacity:1; fill:none\" points=\"\n",
       "  189.154,924.049 208.052,924.049 \n",
       "  \"/>\n",
       "<polyline clip-path=\"url(#clip330)\" style=\"stroke:#000000; stroke-linecap:round; stroke-linejoin:round; stroke-width:4; stroke-opacity:1; fill:none\" points=\"\n",
       "  189.154,510.461 208.052,510.461 \n",
       "  \"/>\n",
       "<polyline clip-path=\"url(#clip330)\" style=\"stroke:#000000; stroke-linecap:round; stroke-linejoin:round; stroke-width:4; stroke-opacity:1; fill:none\" points=\"\n",
       "  189.154,96.8724 208.052,96.8724 \n",
       "  \"/>\n",
       "<path clip-path=\"url(#clip330)\" d=\"M61.4965 1737.02 Q57.8854 1737.02 56.0567 1740.59 Q54.2512 1744.13 54.2512 1751.26 Q54.2512 1758.37 56.0567 1761.93 Q57.8854 1765.47 61.4965 1765.47 Q65.1307 1765.47 66.9363 1761.93 Q68.765 1758.37 68.765 1751.26 Q68.765 1744.13 66.9363 1740.59 Q65.1307 1737.02 61.4965 1737.02 M61.4965 1733.32 Q67.3067 1733.32 70.3622 1737.93 Q73.4409 1742.51 73.4409 1751.26 Q73.4409 1759.99 70.3622 1764.59 Q67.3067 1769.18 61.4965 1769.18 Q55.6864 1769.18 52.6077 1764.59 Q49.5521 1759.99 49.5521 1751.26 Q49.5521 1742.51 52.6077 1737.93 Q55.6864 1733.32 61.4965 1733.32 Z\" fill=\"#000000\" fill-rule=\"evenodd\" fill-opacity=\"1\" /><path clip-path=\"url(#clip330)\" d=\"M81.6584 1762.63 L86.5427 1762.63 L86.5427 1768.51 L81.6584 1768.51 L81.6584 1762.63 Z\" fill=\"#000000\" fill-rule=\"evenodd\" fill-opacity=\"1\" /><path clip-path=\"url(#clip330)\" d=\"M106.728 1737.02 Q103.117 1737.02 101.288 1740.59 Q99.4824 1744.13 99.4824 1751.26 Q99.4824 1758.37 101.288 1761.93 Q103.117 1765.47 106.728 1765.47 Q110.362 1765.47 112.168 1761.93 Q113.996 1758.37 113.996 1751.26 Q113.996 1744.13 112.168 1740.59 Q110.362 1737.02 106.728 1737.02 M106.728 1733.32 Q112.538 1733.32 115.593 1737.93 Q118.672 1742.51 118.672 1751.26 Q118.672 1759.99 115.593 1764.59 Q112.538 1769.18 106.728 1769.18 Q100.918 1769.18 97.8389 1764.59 Q94.7834 1759.99 94.7834 1751.26 Q94.7834 1742.51 97.8389 1737.93 Q100.918 1733.32 106.728 1733.32 Z\" fill=\"#000000\" fill-rule=\"evenodd\" fill-opacity=\"1\" /><path clip-path=\"url(#clip330)\" d=\"M136.89 1737.02 Q133.279 1737.02 131.45 1740.59 Q129.644 1744.13 129.644 1751.26 Q129.644 1758.37 131.45 1761.93 Q133.279 1765.47 136.89 1765.47 Q140.524 1765.47 142.329 1761.93 Q144.158 1758.37 144.158 1751.26 Q144.158 1744.13 142.329 1740.59 Q140.524 1737.02 136.89 1737.02 M136.89 1733.32 Q142.7 1733.32 145.755 1737.93 Q148.834 1742.51 148.834 1751.26 Q148.834 1759.99 145.755 1764.59 Q142.7 1769.18 136.89 1769.18 Q131.079 1769.18 128.001 1764.59 Q124.945 1759.99 124.945 1751.26 Q124.945 1742.51 128.001 1737.93 Q131.079 1733.32 136.89 1733.32 Z\" fill=\"#000000\" fill-rule=\"evenodd\" fill-opacity=\"1\" /><path clip-path=\"url(#clip330)\" d=\"M62.4919 1323.44 Q58.8808 1323.44 57.0521 1327 Q55.2465 1330.54 55.2465 1337.67 Q55.2465 1344.78 57.0521 1348.34 Q58.8808 1351.89 62.4919 1351.89 Q66.1261 1351.89 67.9317 1348.34 Q69.7604 1344.78 69.7604 1337.67 Q69.7604 1330.54 67.9317 1327 Q66.1261 1323.44 62.4919 1323.44 M62.4919 1319.73 Q68.302 1319.73 71.3576 1324.34 Q74.4363 1328.92 74.4363 1337.67 Q74.4363 1346.4 71.3576 1351.01 Q68.302 1355.59 62.4919 1355.59 Q56.6817 1355.59 53.603 1351.01 Q50.5475 1346.4 50.5475 1337.67 Q50.5475 1328.92 53.603 1324.34 Q56.6817 1319.73 62.4919 1319.73 Z\" fill=\"#000000\" fill-rule=\"evenodd\" fill-opacity=\"1\" /><path clip-path=\"url(#clip330)\" d=\"M82.6538 1349.04 L87.538 1349.04 L87.538 1354.92 L82.6538 1354.92 L82.6538 1349.04 Z\" fill=\"#000000\" fill-rule=\"evenodd\" fill-opacity=\"1\" /><path clip-path=\"url(#clip330)\" d=\"M101.751 1350.98 L118.07 1350.98 L118.07 1354.92 L96.126 1354.92 L96.126 1350.98 Q98.788 1348.23 103.371 1343.6 Q107.978 1338.95 109.158 1337.6 Q111.404 1335.08 112.283 1333.34 Q113.186 1331.58 113.186 1329.89 Q113.186 1327.14 111.242 1325.4 Q109.32 1323.67 106.218 1323.67 Q104.019 1323.67 101.566 1324.43 Q99.1352 1325.2 96.3574 1326.75 L96.3574 1322.02 Q99.1815 1320.89 101.635 1320.31 Q104.089 1319.73 106.126 1319.73 Q111.496 1319.73 114.691 1322.42 Q117.885 1325.1 117.885 1329.59 Q117.885 1331.72 117.075 1333.64 Q116.288 1335.54 114.181 1338.14 Q113.603 1338.81 110.501 1342.02 Q107.399 1345.22 101.751 1350.98 Z\" fill=\"#000000\" fill-rule=\"evenodd\" fill-opacity=\"1\" /><path clip-path=\"url(#clip330)\" d=\"M127.931 1320.36 L146.288 1320.36 L146.288 1324.29 L132.214 1324.29 L132.214 1332.76 Q133.232 1332.42 134.251 1332.26 Q135.269 1332.07 136.288 1332.07 Q142.075 1332.07 145.454 1335.24 Q148.834 1338.41 148.834 1343.83 Q148.834 1349.41 145.362 1352.51 Q141.89 1355.59 135.57 1355.59 Q133.394 1355.59 131.126 1355.22 Q128.88 1354.85 126.473 1354.11 L126.473 1349.41 Q128.556 1350.54 130.779 1351.1 Q133.001 1351.65 135.478 1351.65 Q139.482 1351.65 141.82 1349.55 Q144.158 1347.44 144.158 1343.83 Q144.158 1340.22 141.82 1338.11 Q139.482 1336.01 135.478 1336.01 Q133.603 1336.01 131.728 1336.42 Q129.876 1336.84 127.931 1337.72 L127.931 1320.36 Z\" fill=\"#000000\" fill-rule=\"evenodd\" fill-opacity=\"1\" /><path clip-path=\"url(#clip330)\" d=\"M61.4965 909.848 Q57.8854 909.848 56.0567 913.413 Q54.2512 916.954 54.2512 924.084 Q54.2512 931.19 56.0567 934.755 Q57.8854 938.297 61.4965 938.297 Q65.1307 938.297 66.9363 934.755 Q68.765 931.19 68.765 924.084 Q68.765 916.954 66.9363 913.413 Q65.1307 909.848 61.4965 909.848 M61.4965 906.144 Q67.3067 906.144 70.3622 910.751 Q73.4409 915.334 73.4409 924.084 Q73.4409 932.811 70.3622 937.417 Q67.3067 942.001 61.4965 942.001 Q55.6864 942.001 52.6077 937.417 Q49.5521 932.811 49.5521 924.084 Q49.5521 915.334 52.6077 910.751 Q55.6864 906.144 61.4965 906.144 Z\" fill=\"#000000\" fill-rule=\"evenodd\" fill-opacity=\"1\" /><path clip-path=\"url(#clip330)\" d=\"M81.6584 935.45 L86.5427 935.45 L86.5427 941.329 L81.6584 941.329 L81.6584 935.45 Z\" fill=\"#000000\" fill-rule=\"evenodd\" fill-opacity=\"1\" /><path clip-path=\"url(#clip330)\" d=\"M96.7741 906.769 L115.13 906.769 L115.13 910.704 L101.056 910.704 L101.056 919.177 Q102.075 918.829 103.094 918.667 Q104.112 918.482 105.131 918.482 Q110.918 918.482 114.297 921.653 Q117.677 924.825 117.677 930.241 Q117.677 935.82 114.205 938.922 Q110.732 942.001 104.413 942.001 Q102.237 942.001 99.9685 941.63 Q97.7232 941.26 95.3158 940.519 L95.3158 935.82 Q97.3991 936.954 99.6213 937.51 Q101.844 938.065 104.32 938.065 Q108.325 938.065 110.663 935.959 Q113.001 933.852 113.001 930.241 Q113.001 926.63 110.663 924.524 Q108.325 922.417 104.32 922.417 Q102.445 922.417 100.57 922.834 Q98.7185 923.251 96.7741 924.13 L96.7741 906.769 Z\" fill=\"#000000\" fill-rule=\"evenodd\" fill-opacity=\"1\" /><path clip-path=\"url(#clip330)\" d=\"M136.89 909.848 Q133.279 909.848 131.45 913.413 Q129.644 916.954 129.644 924.084 Q129.644 931.19 131.45 934.755 Q133.279 938.297 136.89 938.297 Q140.524 938.297 142.329 934.755 Q144.158 931.19 144.158 924.084 Q144.158 916.954 142.329 913.413 Q140.524 909.848 136.89 909.848 M136.89 906.144 Q142.7 906.144 145.755 910.751 Q148.834 915.334 148.834 924.084 Q148.834 932.811 145.755 937.417 Q142.7 942.001 136.89 942.001 Q131.079 942.001 128.001 937.417 Q124.945 932.811 124.945 924.084 Q124.945 915.334 128.001 910.751 Q131.079 906.144 136.89 906.144 Z\" fill=\"#000000\" fill-rule=\"evenodd\" fill-opacity=\"1\" /><path clip-path=\"url(#clip330)\" d=\"M62.4919 496.26 Q58.8808 496.26 57.0521 499.824 Q55.2465 503.366 55.2465 510.496 Q55.2465 517.602 57.0521 521.167 Q58.8808 524.708 62.4919 524.708 Q66.1261 524.708 67.9317 521.167 Q69.7604 517.602 69.7604 510.496 Q69.7604 503.366 67.9317 499.824 Q66.1261 496.26 62.4919 496.26 M62.4919 492.556 Q68.302 492.556 71.3576 497.162 Q74.4363 501.746 74.4363 510.496 Q74.4363 519.222 71.3576 523.829 Q68.302 528.412 62.4919 528.412 Q56.6817 528.412 53.603 523.829 Q50.5475 519.222 50.5475 510.496 Q50.5475 501.746 53.603 497.162 Q56.6817 492.556 62.4919 492.556 Z\" fill=\"#000000\" fill-rule=\"evenodd\" fill-opacity=\"1\" /><path clip-path=\"url(#clip330)\" d=\"M82.6538 521.861 L87.538 521.861 L87.538 527.741 L82.6538 527.741 L82.6538 521.861 Z\" fill=\"#000000\" fill-rule=\"evenodd\" fill-opacity=\"1\" /><path clip-path=\"url(#clip330)\" d=\"M96.5426 493.181 L118.765 493.181 L118.765 495.172 L106.218 527.741 L101.334 527.741 L113.14 497.116 L96.5426 497.116 L96.5426 493.181 Z\" fill=\"#000000\" fill-rule=\"evenodd\" fill-opacity=\"1\" /><path clip-path=\"url(#clip330)\" d=\"M127.931 493.181 L146.288 493.181 L146.288 497.116 L132.214 497.116 L132.214 505.588 Q133.232 505.241 134.251 505.079 Q135.269 504.894 136.288 504.894 Q142.075 504.894 145.454 508.065 Q148.834 511.236 148.834 516.653 Q148.834 522.232 145.362 525.333 Q141.89 528.412 135.57 528.412 Q133.394 528.412 131.126 528.042 Q128.88 527.671 126.473 526.931 L126.473 522.232 Q128.556 523.366 130.779 523.921 Q133.001 524.477 135.478 524.477 Q139.482 524.477 141.82 522.371 Q144.158 520.264 144.158 516.653 Q144.158 513.042 141.82 510.935 Q139.482 508.829 135.478 508.829 Q133.603 508.829 131.728 509.246 Q129.876 509.662 127.931 510.542 L127.931 493.181 Z\" fill=\"#000000\" fill-rule=\"evenodd\" fill-opacity=\"1\" /><path clip-path=\"url(#clip330)\" d=\"M52.3067 110.217 L59.9456 110.217 L59.9456 83.8517 L51.6354 85.5183 L51.6354 81.2591 L59.8993 79.5924 L64.5752 79.5924 L64.5752 110.217 L72.214 110.217 L72.214 114.152 L52.3067 114.152 L52.3067 110.217 Z\" fill=\"#000000\" fill-rule=\"evenodd\" fill-opacity=\"1\" /><path clip-path=\"url(#clip330)\" d=\"M81.6584 108.273 L86.5427 108.273 L86.5427 114.152 L81.6584 114.152 L81.6584 108.273 Z\" fill=\"#000000\" fill-rule=\"evenodd\" fill-opacity=\"1\" /><path clip-path=\"url(#clip330)\" d=\"M106.728 82.6711 Q103.117 82.6711 101.288 86.2359 Q99.4824 89.7776 99.4824 96.9072 Q99.4824 104.014 101.288 107.578 Q103.117 111.12 106.728 111.12 Q110.362 111.12 112.168 107.578 Q113.996 104.014 113.996 96.9072 Q113.996 89.7776 112.168 86.2359 Q110.362 82.6711 106.728 82.6711 M106.728 78.9675 Q112.538 78.9675 115.593 83.5739 Q118.672 88.1572 118.672 96.9072 Q118.672 105.634 115.593 110.24 Q112.538 114.824 106.728 114.824 Q100.918 114.824 97.8389 110.24 Q94.7834 105.634 94.7834 96.9072 Q94.7834 88.1572 97.8389 83.5739 Q100.918 78.9675 106.728 78.9675 Z\" fill=\"#000000\" fill-rule=\"evenodd\" fill-opacity=\"1\" /><path clip-path=\"url(#clip330)\" d=\"M136.89 82.6711 Q133.279 82.6711 131.45 86.2359 Q129.644 89.7776 129.644 96.9072 Q129.644 104.014 131.45 107.578 Q133.279 111.12 136.89 111.12 Q140.524 111.12 142.329 107.578 Q144.158 104.014 144.158 96.9072 Q144.158 89.7776 142.329 86.2359 Q140.524 82.6711 136.89 82.6711 M136.89 78.9675 Q142.7 78.9675 145.755 83.5739 Q148.834 88.1572 148.834 96.9072 Q148.834 105.634 145.755 110.24 Q142.7 114.824 136.89 114.824 Q131.079 114.824 128.001 110.24 Q124.945 105.634 124.945 96.9072 Q124.945 88.1572 128.001 83.5739 Q131.079 78.9675 136.89 78.9675 Z\" fill=\"#000000\" fill-rule=\"evenodd\" fill-opacity=\"1\" /><polyline clip-path=\"url(#clip333)\" style=\"stroke:#009af9; stroke-linecap:round; stroke-linejoin:round; stroke-width:4; stroke-opacity:1; fill:none\" points=\"\n",
       "  258.539,96.8724 262.303,123.581 266.068,149.859 269.832,175.713 273.597,201.149 282.299,258.386 291.001,313.51 299.703,366.599 308.405,417.727 317.106,466.967 \n",
       "  325.808,514.389 334.51,560.06 343.212,604.045 351.914,646.405 360.616,687.201 369.318,726.491 378.02,764.33 386.722,800.772 395.424,835.868 404.126,869.668 \n",
       "  412.828,902.22 423.287,939.758 433.746,975.637 444.205,1009.93 454.664,1042.71 465.123,1074.03 475.582,1103.97 486.041,1132.59 496.5,1159.94 514.186,1203.47 \n",
       "  531.872,1243.8 549.558,1281.15 567.244,1315.76 586.455,1350.47 605.667,1382.41 624.879,1411.81 644.091,1438.87 661.803,1461.89 679.514,1483.22 697.226,1502.98 \n",
       "  714.938,1521.28 733.926,1539.41 752.915,1556.1 771.904,1571.48 790.893,1585.65 812.893,1600.67 834.893,1614.34 856.894,1626.76 878.894,1638.05 917.997,1655.66 \n",
       "  957.099,1670.52 991.389,1681.64 1025.68,1691.23 1063.06,1700.18 1100.45,1707.8 1138.05,1714.32 1175.66,1719.86 1258.82,1729.33 1337.94,1735.67 1420.21,1740.33 \n",
       "  1489.47,1743.15 1574.02,1745.62 1651.47,1747.22 1723.01,1748.28 1795.47,1749.08 1876.68,1749.71 1950.27,1750.12 2034.52,1750.46 2112.53,1750.68 2189.45,1750.83 \n",
       "  2264.12,1750.94 2340.67,1751.02 2424.54,1751.08 2546.38,1751.14 2571.37,1751.15 \n",
       "  \"/>\n",
       "<path clip-path=\"url(#clip330)\" d=\"\n",
       "M2084.84 209.375 L2559.04 209.375 L2559.04 105.695 L2084.84 105.695  Z\n",
       "  \" fill=\"#ffffff\" fill-rule=\"evenodd\" fill-opacity=\"1\"/>\n",
       "<polyline clip-path=\"url(#clip330)\" style=\"stroke:#000000; stroke-linecap:round; stroke-linejoin:round; stroke-width:4; stroke-opacity:1; fill:none\" points=\"\n",
       "  2084.84,209.375 2559.04,209.375 2559.04,105.695 2084.84,105.695 2084.84,209.375 \n",
       "  \"/>\n",
       "<polyline clip-path=\"url(#clip330)\" style=\"stroke:#009af9; stroke-linecap:round; stroke-linejoin:round; stroke-width:4; stroke-opacity:1; fill:none\" points=\"\n",
       "  2112.08,157.535 2275.52,157.535 \n",
       "  \"/>\n",
       "<path clip-path=\"url(#clip330)\" d=\"M2326.68 138.89 Q2326.68 140.178 2325.86 140.974 Q2325.06 141.771 2324.05 141.771 Q2323.33 141.771 2322.79 141.326 Q2322.27 140.88 2322.27 140.108 Q2322.27 139.311 2322.88 138.468 Q2323.49 137.625 2324.87 137.508 Q2323.96 136.641 2322.51 136.641 Q2321.78 136.641 2321.17 137.109 Q2320.59 137.554 2320.26 138.281 Q2319.91 139.03 2319.11 143.27 Q2318.85 144.651 2318.62 145.987 Q2318.38 147.322 2318.1 148.727 L2322.08 148.727 Q2322.6 148.727 2322.81 148.75 Q2323.02 148.774 2323.19 148.891 Q2323.37 149.008 2323.37 149.266 Q2323.37 149.922 2323.07 150.086 Q2322.79 150.226 2321.94 150.226 L2317.82 150.226 L2314.94 165.427 Q2314.87 165.872 2314.57 167.278 Q2314.28 168.659 2313.61 170.931 Q2312.93 173.227 2312.25 174.585 Q2311.87 175.358 2311.38 176.084 Q2310.91 176.834 2310.23 177.583 Q2309.55 178.333 2308.66 178.778 Q2307.77 179.246 2306.84 179.246 Q2305.24 179.246 2304 178.356 Q2302.76 177.466 2302.76 175.944 Q2302.76 174.656 2303.56 173.859 Q2304.38 173.063 2305.38 173.063 Q2306.11 173.063 2306.63 173.508 Q2307.16 173.953 2307.16 174.726 Q2307.16 175.054 2307.05 175.429 Q2306.93 175.803 2306.67 176.225 Q2306.42 176.67 2305.85 176.974 Q2305.29 177.279 2304.52 177.326 Q2305.43 178.192 2306.84 178.192 Q2307.28 178.192 2307.68 178.005 Q2308.08 177.841 2308.41 177.419 Q2308.76 176.998 2309.01 176.576 Q2309.27 176.178 2309.53 175.405 Q2309.79 174.656 2309.95 174.094 Q2310.12 173.531 2310.33 172.524 Q2310.56 171.517 2310.68 170.908 Q2310.8 170.322 2311.01 169.175 L2314.59 150.226 L2311.43 150.226 Q2310.87 150.226 2310.63 150.203 Q2310.42 150.179 2310.26 150.062 Q2310.09 149.922 2310.09 149.64 Q2310.09 149.195 2310.28 149.008 Q2310.49 148.797 2310.72 148.774 Q2310.96 148.727 2311.52 148.727 L2314.85 148.727 Q2315.97 142.801 2316.42 141.208 Q2316.93 139.522 2317.73 138.351 Q2318.52 137.156 2319.41 136.594 Q2320.3 136.032 2321.03 135.821 Q2321.78 135.587 2322.51 135.587 Q2324.15 135.587 2325.41 136.477 Q2326.68 137.344 2326.68 138.89 Z\" fill=\"#000000\" fill-rule=\"evenodd\" fill-opacity=\"1\" /><path clip-path=\"url(#clip330)\" d=\"M2333.13 157.417 Q2333.13 149.313 2336.16 142.778 Q2337.44 140.037 2339.25 137.742 Q2341.05 135.446 2342.25 134.439 Q2343.44 133.432 2343.77 133.432 Q2344.24 133.432 2344.26 133.901 Q2344.26 134.135 2343.63 134.72 Q2335.9 142.59 2335.92 157.417 Q2335.92 172.29 2343.44 179.855 Q2344.26 180.675 2344.26 180.933 Q2344.26 181.401 2343.77 181.401 Q2343.44 181.401 2342.29 180.441 Q2341.14 179.481 2339.36 177.279 Q2337.58 175.077 2336.3 172.384 Q2333.13 165.849 2333.13 157.417 Z\" fill=\"#000000\" fill-rule=\"evenodd\" fill-opacity=\"1\" /><path clip-path=\"url(#clip330)\" d=\"M2371.8 151.374 Q2371.8 152.685 2370.98 153.435 Q2370.16 154.161 2369.22 154.161 Q2368.33 154.161 2367.86 153.646 Q2367.39 153.13 2367.39 152.475 Q2367.39 151.585 2368.05 150.812 Q2368.71 150.039 2369.69 149.875 Q2368.73 149.266 2367.3 149.266 Q2366.36 149.266 2365.54 149.758 Q2364.75 150.249 2364.26 150.882 Q2363.79 151.514 2363.37 152.428 Q2362.97 153.318 2362.8 153.857 Q2362.66 154.372 2362.55 154.934 L2360.91 161.492 Q2360.11 164.607 2360.11 165.708 Q2360.11 167.067 2360.77 167.98 Q2361.42 168.87 2362.73 168.87 Q2363.25 168.87 2363.83 168.73 Q2364.42 168.566 2365.17 168.144 Q2365.94 167.699 2366.62 167.043 Q2367.32 166.364 2368 165.216 Q2368.68 164.069 2369.13 162.593 Q2369.27 162.078 2369.74 162.078 Q2370.32 162.078 2370.32 162.546 Q2370.32 162.944 2369.99 163.788 Q2369.69 164.607 2369.01 165.685 Q2368.35 166.739 2367.49 167.699 Q2366.62 168.636 2365.33 169.292 Q2364.04 169.948 2362.64 169.948 Q2360.62 169.948 2359.29 168.87 Q2357.95 167.793 2357.46 166.294 Q2357.35 166.505 2357.18 166.786 Q2357.02 167.067 2356.53 167.699 Q2356.06 168.308 2355.52 168.777 Q2354.98 169.222 2354.14 169.573 Q2353.32 169.948 2352.43 169.948 Q2351.3 169.948 2350.3 169.62 Q2349.31 169.292 2348.61 168.542 Q2347.91 167.793 2347.91 166.762 Q2347.91 165.615 2348.68 164.818 Q2349.48 163.998 2350.55 163.998 Q2351.23 163.998 2351.77 164.397 Q2352.33 164.795 2352.33 165.661 Q2352.33 166.622 2351.68 167.348 Q2351.02 168.074 2350.08 168.261 Q2351.05 168.87 2352.47 168.87 Q2354.02 168.87 2355.24 167.512 Q2356.46 166.153 2357.04 163.881 Q2358.49 158.424 2359.06 155.988 Q2359.62 153.529 2359.62 152.475 Q2359.62 151.491 2359.36 150.812 Q2359.1 150.132 2358.66 149.828 Q2358.24 149.5 2357.84 149.383 Q2357.46 149.266 2357.04 149.266 Q2356.34 149.266 2355.54 149.547 Q2354.77 149.828 2353.83 150.484 Q2352.92 151.116 2352.05 152.428 Q2351.19 153.739 2350.6 155.543 Q2350.48 156.082 2349.97 156.082 Q2349.41 156.058 2349.41 155.59 Q2349.41 155.192 2349.71 154.372 Q2350.04 153.529 2350.69 152.475 Q2351.37 151.421 2352.24 150.484 Q2353.13 149.523 2354.42 148.868 Q2355.73 148.212 2357.13 148.212 Q2357.77 148.212 2358.38 148.352 Q2359.01 148.469 2359.76 148.821 Q2360.53 149.172 2361.21 149.945 Q2361.89 150.718 2362.31 151.842 Q2362.59 151.303 2362.97 150.788 Q2363.37 150.273 2363.97 149.64 Q2364.61 148.985 2365.47 148.61 Q2366.36 148.212 2367.35 148.212 Q2368.31 148.212 2369.24 148.469 Q2370.18 148.704 2370.98 149.477 Q2371.8 150.226 2371.8 151.374 Z\" fill=\"#000000\" fill-rule=\"evenodd\" fill-opacity=\"1\" /><path clip-path=\"url(#clip330)\" d=\"M2376.42 180.933 Q2376.42 180.699 2377.03 180.113 Q2384.76 172.243 2384.76 157.417 Q2384.76 142.543 2377.33 135.025 Q2376.42 134.158 2376.42 133.901 Q2376.42 133.432 2376.89 133.432 Q2377.21 133.432 2378.36 134.392 Q2379.53 135.353 2381.29 137.554 Q2383.07 139.756 2384.38 142.45 Q2387.54 148.985 2387.54 157.417 Q2387.54 165.521 2384.52 172.056 Q2383.23 174.796 2381.43 177.092 Q2379.63 179.387 2378.43 180.394 Q2377.24 181.401 2376.89 181.401 Q2376.42 181.401 2376.42 180.933 Z\" fill=\"#000000\" fill-rule=\"evenodd\" fill-opacity=\"1\" /><path clip-path=\"url(#clip330)\" d=\"M2408.15 162.125 Q2408.2 161.539 2409.11 161.539 L2438.5 161.539 Q2439.89 161.539 2439.91 162.078 Q2439.91 162.663 2438.6 162.64 L2409.44 162.64 Q2408.15 162.663 2408.15 162.125 M2408.15 152.756 Q2408.15 152.17 2409.16 152.194 L2438.46 152.194 Q2439.89 152.194 2439.91 152.756 Q2439.91 153.294 2438.69 153.294 L2409.11 153.294 Q2408.15 153.294 2408.15 152.756 Z\" fill=\"#000000\" fill-rule=\"evenodd\" fill-opacity=\"1\" /><path clip-path=\"url(#clip330)\" d=\"M2476.66 163.858 Q2476.85 164.069 2476.85 164.28 Q2476.85 164.49 2476.38 165.099 Q2475.94 165.708 2474.98 166.528 Q2474.02 167.348 2472.77 168.121 Q2471.53 168.894 2469.71 169.409 Q2467.88 169.948 2465.96 169.948 Q2462.52 169.948 2460.45 167.488 Q2458.42 165.029 2458.42 161.258 Q2458.42 158.845 2459.21 156.714 Q2460.01 154.559 2461.3 153.037 Q2462.61 151.514 2464.25 150.413 Q2465.91 149.289 2467.65 148.75 Q2469.38 148.212 2470.99 148.212 Q2473.36 148.212 2474.74 149.406 Q2476.12 150.601 2476.12 152.287 Q2476.12 152.685 2476.01 153.177 Q2475.91 153.669 2475.59 154.442 Q2475.28 155.215 2474.48 155.988 Q2473.69 156.737 2472.52 157.229 Q2469.92 158.33 2465.19 158.33 L2462.63 158.33 Q2461.88 161.352 2461.88 163.319 Q2461.88 164.092 2462.02 164.888 Q2462.16 165.661 2462.54 166.645 Q2462.94 167.629 2463.83 168.261 Q2464.74 168.87 2466.05 168.87 Q2466.47 168.87 2466.92 168.847 Q2467.39 168.823 2468.56 168.566 Q2469.75 168.308 2470.81 167.863 Q2471.86 167.418 2473.2 166.458 Q2474.56 165.474 2475.63 164.139 Q2476.01 163.647 2476.26 163.647 Q2476.48 163.647 2476.66 163.858 M2474.53 152.287 Q2474.53 150.999 2473.57 150.132 Q2472.63 149.266 2470.99 149.266 Q2470.48 149.266 2469.85 149.383 Q2469.21 149.5 2468.16 149.992 Q2467.13 150.484 2466.22 151.303 Q2465.3 152.1 2464.39 153.669 Q2463.48 155.215 2462.94 157.276 L2464.91 157.276 Q2465.58 157.276 2466.08 157.276 Q2466.57 157.253 2467.65 157.159 Q2468.75 157.065 2469.54 156.901 Q2470.34 156.714 2471.35 156.339 Q2472.35 155.965 2472.99 155.473 Q2473.64 154.957 2474.09 154.138 Q2474.53 153.318 2474.53 152.287 Z\" fill=\"#000000\" fill-rule=\"evenodd\" fill-opacity=\"1\" /><path clip-path=\"url(#clip330)\" d=\"M2503.96 143.581 Q2504.15 143.778 2504.15 144.057 Q2504.15 144.336 2503.96 144.532 Q2503.76 144.729 2503.48 144.729 L2482.46 144.729 Q2482.18 144.729 2481.99 144.532 Q2481.79 144.336 2481.79 144.057 Q2481.79 143.778 2481.99 143.581 Q2482.18 143.385 2482.46 143.385 L2503.48 143.385 Q2503.76 143.385 2503.96 143.581 Z\" fill=\"#000000\" fill-rule=\"evenodd\" fill-opacity=\"1\" /><path clip-path=\"url(#clip330)\" d=\"M2524.38 139.827 Q2524.38 140.745 2523.81 141.27 Q2523.24 141.778 2522.58 141.778 Q2521.96 141.778 2521.63 141.417 Q2521.3 141.056 2521.3 140.597 Q2521.3 139.974 2521.76 139.433 Q2522.22 138.892 2522.91 138.777 Q2522.24 138.351 2521.23 138.351 Q2520.58 138.351 2520.01 138.696 Q2519.45 139.04 2519.1 139.483 Q2518.78 139.925 2518.48 140.565 Q2518.2 141.188 2518.09 141.565 Q2517.99 141.925 2517.91 142.319 L2516.76 146.91 Q2516.2 149.09 2516.2 149.861 Q2516.2 150.812 2516.66 151.451 Q2517.12 152.074 2518.04 152.074 Q2518.4 152.074 2518.81 151.976 Q2519.22 151.861 2519.74 151.566 Q2520.28 151.255 2520.76 150.796 Q2521.25 150.32 2521.73 149.517 Q2522.2 148.713 2522.51 147.68 Q2522.61 147.32 2522.94 147.32 Q2523.35 147.32 2523.35 147.648 Q2523.35 147.926 2523.12 148.517 Q2522.91 149.09 2522.43 149.845 Q2521.97 150.582 2521.37 151.255 Q2520.76 151.91 2519.86 152.37 Q2518.96 152.829 2517.97 152.829 Q2516.56 152.829 2515.63 152.074 Q2514.69 151.32 2514.35 150.271 Q2514.27 150.418 2514.15 150.615 Q2514.04 150.812 2513.69 151.255 Q2513.36 151.681 2512.99 152.009 Q2512.61 152.32 2512.02 152.566 Q2511.45 152.829 2510.82 152.829 Q2510.04 152.829 2509.33 152.599 Q2508.64 152.37 2508.15 151.845 Q2507.66 151.32 2507.66 150.599 Q2507.66 149.795 2508.2 149.238 Q2508.76 148.664 2509.51 148.664 Q2509.99 148.664 2510.36 148.943 Q2510.76 149.222 2510.76 149.828 Q2510.76 150.5 2510.3 151.009 Q2509.84 151.517 2509.18 151.648 Q2509.86 152.074 2510.86 152.074 Q2511.94 152.074 2512.79 151.123 Q2513.64 150.173 2514.05 148.582 Q2515.07 144.762 2515.46 143.057 Q2515.86 141.335 2515.86 140.597 Q2515.86 139.909 2515.68 139.433 Q2515.5 138.958 2515.18 138.745 Q2514.89 138.515 2514.61 138.433 Q2514.35 138.351 2514.05 138.351 Q2513.56 138.351 2513 138.548 Q2512.46 138.745 2511.81 139.204 Q2511.17 139.646 2510.56 140.565 Q2509.95 141.483 2509.54 142.745 Q2509.46 143.122 2509.1 143.122 Q2508.71 143.106 2508.71 142.778 Q2508.71 142.499 2508.92 141.925 Q2509.15 141.335 2509.61 140.597 Q2510.09 139.86 2510.69 139.204 Q2511.32 138.532 2512.22 138.072 Q2513.14 137.613 2514.12 137.613 Q2514.56 137.613 2514.99 137.712 Q2515.43 137.794 2515.96 138.04 Q2516.5 138.286 2516.97 138.827 Q2517.45 139.368 2517.74 140.155 Q2517.94 139.778 2518.2 139.417 Q2518.48 139.056 2518.91 138.614 Q2519.35 138.154 2519.96 137.892 Q2520.58 137.613 2521.27 137.613 Q2521.94 137.613 2522.6 137.794 Q2523.25 137.958 2523.81 138.499 Q2524.38 139.023 2524.38 139.827 Z\" fill=\"#000000\" fill-rule=\"evenodd\" fill-opacity=\"1\" /></svg>\n"
      ]
     },
     "execution_count": 24,
     "metadata": {},
     "output_type": "execute_result"
    }
   ],
   "source": [
    "using Plots, SymPy, LaTeXStrings\n",
    "@vars x real = true\n",
    "f(x) = exp(-x)\n",
    "plot(f(x), 0, 10, label = L\"$f(x)=e^{-x}$\")"
   ]
  },
  {
   "cell_type": "code",
   "execution_count": 25,
   "id": "972bbf1d",
   "metadata": {},
   "outputs": [
    {
     "data": {
      "text/latex": [
       "$1$"
      ],
      "text/plain": [
       "1"
      ]
     },
     "execution_count": 25,
     "metadata": {},
     "output_type": "execute_result"
    }
   ],
   "source": [
    "integrate(f(x), 0, oo)"
   ]
  },
  {
   "cell_type": "code",
   "execution_count": 26,
   "id": "cc4a4e32",
   "metadata": {},
   "outputs": [
    {
     "data": {
      "text/latex": [
       "$\\frac{1}{2}$"
      ],
      "text/plain": [
       "1/2"
      ]
     },
     "execution_count": 26,
     "metadata": {},
     "output_type": "execute_result"
    }
   ],
   "source": [
    "using SymPy\n",
    "@vars x real = true\n",
    "f(x) = sin(x)^2\n",
    "1/(2*PI) * integrate(f(x), 0, 2PI)"
   ]
  },
  {
   "cell_type": "code",
   "execution_count": 27,
   "id": "e2baa73a",
   "metadata": {},
   "outputs": [
    {
     "data": {
      "image/svg+xml": [
       "<?xml version=\"1.0\" encoding=\"utf-8\"?>\n",
       "<svg xmlns=\"http://www.w3.org/2000/svg\" xmlns:xlink=\"http://www.w3.org/1999/xlink\" width=\"672\" height=\"480\" viewBox=\"0 0 2688 1920\">\n",
       "<defs>\n",
       "  <clipPath id=\"clip370\">\n",
       "    <rect x=\"0\" y=\"0\" width=\"2688\" height=\"1920\"/>\n",
       "  </clipPath>\n",
       "</defs>\n",
       "<path clip-path=\"url(#clip370)\" d=\"\n",
       "M0 1920 L2688 1920 L2688 0 L0 0  Z\n",
       "  \" fill=\"#ffffff\" fill-rule=\"evenodd\" fill-opacity=\"1\"/>\n",
       "<defs>\n",
       "  <clipPath id=\"clip371\">\n",
       "    <rect x=\"537\" y=\"0\" width=\"1883\" height=\"1883\"/>\n",
       "  </clipPath>\n",
       "</defs>\n",
       "<path clip-path=\"url(#clip370)\" d=\"\n",
       "M113.761 1800.78 L2640.76 1800.78 L2640.76 47.2441 L113.761 47.2441  Z\n",
       "  \" fill=\"#ffffff\" fill-rule=\"evenodd\" fill-opacity=\"1\"/>\n",
       "<defs>\n",
       "  <clipPath id=\"clip372\">\n",
       "    <rect x=\"113\" y=\"47\" width=\"2528\" height=\"1755\"/>\n",
       "  </clipPath>\n",
       "</defs>\n",
       "<polyline clip-path=\"url(#clip372)\" style=\"stroke:#000000; stroke-linecap:round; stroke-linejoin:round; stroke-width:2; stroke-opacity:0.1; fill:none\" points=\"\n",
       "  185.28,1800.78 185.28,47.2441 \n",
       "  \"/>\n",
       "<polyline clip-path=\"url(#clip372)\" style=\"stroke:#000000; stroke-linecap:round; stroke-linejoin:round; stroke-width:2; stroke-opacity:0.1; fill:none\" points=\"\n",
       "  564.698,1800.78 564.698,47.2441 \n",
       "  \"/>\n",
       "<polyline clip-path=\"url(#clip372)\" style=\"stroke:#000000; stroke-linecap:round; stroke-linejoin:round; stroke-width:2; stroke-opacity:0.1; fill:none\" points=\"\n",
       "  944.117,1800.78 944.117,47.2441 \n",
       "  \"/>\n",
       "<polyline clip-path=\"url(#clip372)\" style=\"stroke:#000000; stroke-linecap:round; stroke-linejoin:round; stroke-width:2; stroke-opacity:0.1; fill:none\" points=\"\n",
       "  1323.54,1800.78 1323.54,47.2441 \n",
       "  \"/>\n",
       "<polyline clip-path=\"url(#clip372)\" style=\"stroke:#000000; stroke-linecap:round; stroke-linejoin:round; stroke-width:2; stroke-opacity:0.1; fill:none\" points=\"\n",
       "  1702.95,1800.78 1702.95,47.2441 \n",
       "  \"/>\n",
       "<polyline clip-path=\"url(#clip372)\" style=\"stroke:#000000; stroke-linecap:round; stroke-linejoin:round; stroke-width:2; stroke-opacity:0.1; fill:none\" points=\"\n",
       "  2082.37,1800.78 2082.37,47.2441 \n",
       "  \"/>\n",
       "<polyline clip-path=\"url(#clip372)\" style=\"stroke:#000000; stroke-linecap:round; stroke-linejoin:round; stroke-width:2; stroke-opacity:0.1; fill:none\" points=\"\n",
       "  2461.79,1800.78 2461.79,47.2441 \n",
       "  \"/>\n",
       "<polyline clip-path=\"url(#clip370)\" style=\"stroke:#000000; stroke-linecap:round; stroke-linejoin:round; stroke-width:4; stroke-opacity:1; fill:none\" points=\"\n",
       "  113.761,1800.78 2640.76,1800.78 \n",
       "  \"/>\n",
       "<polyline clip-path=\"url(#clip370)\" style=\"stroke:#000000; stroke-linecap:round; stroke-linejoin:round; stroke-width:4; stroke-opacity:1; fill:none\" points=\"\n",
       "  185.28,1800.78 185.28,1781.88 \n",
       "  \"/>\n",
       "<polyline clip-path=\"url(#clip370)\" style=\"stroke:#000000; stroke-linecap:round; stroke-linejoin:round; stroke-width:4; stroke-opacity:1; fill:none\" points=\"\n",
       "  564.698,1800.78 564.698,1781.88 \n",
       "  \"/>\n",
       "<polyline clip-path=\"url(#clip370)\" style=\"stroke:#000000; stroke-linecap:round; stroke-linejoin:round; stroke-width:4; stroke-opacity:1; fill:none\" points=\"\n",
       "  944.117,1800.78 944.117,1781.88 \n",
       "  \"/>\n",
       "<polyline clip-path=\"url(#clip370)\" style=\"stroke:#000000; stroke-linecap:round; stroke-linejoin:round; stroke-width:4; stroke-opacity:1; fill:none\" points=\"\n",
       "  1323.54,1800.78 1323.54,1781.88 \n",
       "  \"/>\n",
       "<polyline clip-path=\"url(#clip370)\" style=\"stroke:#000000; stroke-linecap:round; stroke-linejoin:round; stroke-width:4; stroke-opacity:1; fill:none\" points=\"\n",
       "  1702.95,1800.78 1702.95,1781.88 \n",
       "  \"/>\n",
       "<polyline clip-path=\"url(#clip370)\" style=\"stroke:#000000; stroke-linecap:round; stroke-linejoin:round; stroke-width:4; stroke-opacity:1; fill:none\" points=\"\n",
       "  2082.37,1800.78 2082.37,1781.88 \n",
       "  \"/>\n",
       "<polyline clip-path=\"url(#clip370)\" style=\"stroke:#000000; stroke-linecap:round; stroke-linejoin:round; stroke-width:4; stroke-opacity:1; fill:none\" points=\"\n",
       "  2461.79,1800.78 2461.79,1781.88 \n",
       "  \"/>\n",
       "<path clip-path=\"url(#clip370)\" d=\"M185.28 1834 Q181.669 1834 179.84 1837.57 Q178.034 1841.11 178.034 1848.24 Q178.034 1855.34 179.84 1858.91 Q181.669 1862.45 185.28 1862.45 Q188.914 1862.45 190.719 1858.91 Q192.548 1855.34 192.548 1848.24 Q192.548 1841.11 190.719 1837.57 Q188.914 1834 185.28 1834 M185.28 1830.3 Q191.09 1830.3 194.145 1834.9 Q197.224 1839.49 197.224 1848.24 Q197.224 1856.96 194.145 1861.57 Q191.09 1866.15 185.28 1866.15 Q179.469 1866.15 176.391 1861.57 Q173.335 1856.96 173.335 1848.24 Q173.335 1839.49 176.391 1834.9 Q179.469 1830.3 185.28 1830.3 Z\" fill=\"#000000\" fill-rule=\"evenodd\" fill-opacity=\"1\" /><path clip-path=\"url(#clip370)\" d=\"M555.08 1861.55 L562.719 1861.55 L562.719 1835.18 L554.409 1836.85 L554.409 1832.59 L562.673 1830.92 L567.349 1830.92 L567.349 1861.55 L574.988 1861.55 L574.988 1865.48 L555.08 1865.48 L555.08 1861.55 Z\" fill=\"#000000\" fill-rule=\"evenodd\" fill-opacity=\"1\" /><path clip-path=\"url(#clip370)\" d=\"M938.77 1861.55 L955.089 1861.55 L955.089 1865.48 L933.145 1865.48 L933.145 1861.55 Q935.807 1858.79 940.39 1854.16 Q944.996 1849.51 946.177 1848.17 Q948.422 1845.65 949.302 1843.91 Q950.205 1842.15 950.205 1840.46 Q950.205 1837.71 948.26 1835.97 Q946.339 1834.23 943.237 1834.23 Q941.038 1834.23 938.584 1835 Q936.154 1835.76 933.376 1837.31 L933.376 1832.59 Q936.2 1831.46 938.654 1830.88 Q941.108 1830.3 943.145 1830.3 Q948.515 1830.3 951.709 1832.98 Q954.904 1835.67 954.904 1840.16 Q954.904 1842.29 954.094 1844.21 Q953.307 1846.11 951.2 1848.7 Q950.621 1849.37 947.52 1852.59 Q944.418 1855.78 938.77 1861.55 Z\" fill=\"#000000\" fill-rule=\"evenodd\" fill-opacity=\"1\" /><path clip-path=\"url(#clip370)\" d=\"M1327.78 1846.85 Q1331.14 1847.57 1333.01 1849.84 Q1334.91 1852.1 1334.91 1855.44 Q1334.91 1860.55 1331.39 1863.35 Q1327.88 1866.15 1321.39 1866.15 Q1319.22 1866.15 1316.9 1865.71 Q1314.61 1865.3 1312.16 1864.44 L1312.16 1859.93 Q1314.1 1861.06 1316.42 1861.64 Q1318.73 1862.22 1321.26 1862.22 Q1325.65 1862.22 1327.95 1860.48 Q1330.26 1858.75 1330.26 1855.44 Q1330.26 1852.38 1328.11 1850.67 Q1325.98 1848.93 1322.16 1848.93 L1318.13 1848.93 L1318.13 1845.09 L1322.34 1845.09 Q1325.79 1845.09 1327.62 1843.72 Q1329.45 1842.34 1329.45 1839.74 Q1329.45 1837.08 1327.55 1835.67 Q1325.68 1834.23 1322.16 1834.23 Q1320.24 1834.23 1318.04 1834.65 Q1315.84 1835.07 1313.2 1835.95 L1313.2 1831.78 Q1315.86 1831.04 1318.18 1830.67 Q1320.51 1830.3 1322.57 1830.3 Q1327.9 1830.3 1331 1832.73 Q1334.1 1835.14 1334.1 1839.26 Q1334.1 1842.13 1332.46 1844.12 Q1330.82 1846.09 1327.78 1846.85 Z\" fill=\"#000000\" fill-rule=\"evenodd\" fill-opacity=\"1\" /><path clip-path=\"url(#clip370)\" d=\"M1705.96 1835 L1694.16 1853.45 L1705.96 1853.45 L1705.96 1835 M1704.74 1830.92 L1710.62 1830.92 L1710.62 1853.45 L1715.55 1853.45 L1715.55 1857.34 L1710.62 1857.34 L1710.62 1865.48 L1705.96 1865.48 L1705.96 1857.34 L1690.36 1857.34 L1690.36 1852.82 L1704.74 1830.92 Z\" fill=\"#000000\" fill-rule=\"evenodd\" fill-opacity=\"1\" /><path clip-path=\"url(#clip370)\" d=\"M2072.65 1830.92 L2091.01 1830.92 L2091.01 1834.86 L2076.93 1834.86 L2076.93 1843.33 Q2077.95 1842.98 2078.97 1842.82 Q2079.99 1842.64 2081.01 1842.64 Q2086.79 1842.64 2090.17 1845.81 Q2093.55 1848.98 2093.55 1854.4 Q2093.55 1859.97 2090.08 1863.08 Q2086.61 1866.15 2080.29 1866.15 Q2078.11 1866.15 2075.85 1865.78 Q2073.6 1865.41 2071.19 1864.67 L2071.19 1859.97 Q2073.28 1861.11 2075.5 1861.66 Q2077.72 1862.22 2080.2 1862.22 Q2084.2 1862.22 2086.54 1860.11 Q2088.88 1858.01 2088.88 1854.4 Q2088.88 1850.78 2086.54 1848.68 Q2084.2 1846.57 2080.2 1846.57 Q2078.32 1846.57 2076.45 1846.99 Q2074.6 1847.4 2072.65 1848.28 L2072.65 1830.92 Z\" fill=\"#000000\" fill-rule=\"evenodd\" fill-opacity=\"1\" /><path clip-path=\"url(#clip370)\" d=\"M2462.2 1846.34 Q2459.05 1846.34 2457.2 1848.49 Q2455.37 1850.65 2455.37 1854.4 Q2455.37 1858.12 2457.2 1860.3 Q2459.05 1862.45 2462.2 1862.45 Q2465.34 1862.45 2467.17 1860.3 Q2469.03 1858.12 2469.03 1854.4 Q2469.03 1850.65 2467.17 1848.49 Q2465.34 1846.34 2462.2 1846.34 M2471.48 1831.69 L2471.48 1835.95 Q2469.72 1835.11 2467.91 1834.67 Q2466.13 1834.23 2464.37 1834.23 Q2459.74 1834.23 2457.29 1837.36 Q2454.86 1840.48 2454.51 1846.8 Q2455.88 1844.79 2457.94 1843.72 Q2460 1842.64 2462.47 1842.64 Q2467.68 1842.64 2470.69 1845.81 Q2473.72 1848.96 2473.72 1854.4 Q2473.72 1859.72 2470.58 1862.94 Q2467.43 1866.15 2462.2 1866.15 Q2456.2 1866.15 2453.03 1861.57 Q2449.86 1856.96 2449.86 1848.24 Q2449.86 1840.04 2453.75 1835.18 Q2457.64 1830.3 2464.19 1830.3 Q2465.95 1830.3 2467.73 1830.65 Q2469.53 1830.99 2471.48 1831.69 Z\" fill=\"#000000\" fill-rule=\"evenodd\" fill-opacity=\"1\" /><polyline clip-path=\"url(#clip372)\" style=\"stroke:#000000; stroke-linecap:round; stroke-linejoin:round; stroke-width:2; stroke-opacity:0.1; fill:none\" points=\"\n",
       "  113.761,1800.78 2640.76,1800.78 \n",
       "  \"/>\n",
       "<polyline clip-path=\"url(#clip372)\" style=\"stroke:#000000; stroke-linecap:round; stroke-linejoin:round; stroke-width:2; stroke-opacity:0.1; fill:none\" points=\"\n",
       "  113.761,1216.27 2640.76,1216.27 \n",
       "  \"/>\n",
       "<polyline clip-path=\"url(#clip372)\" style=\"stroke:#000000; stroke-linecap:round; stroke-linejoin:round; stroke-width:2; stroke-opacity:0.1; fill:none\" points=\"\n",
       "  113.761,631.756 2640.76,631.756 \n",
       "  \"/>\n",
       "<polyline clip-path=\"url(#clip372)\" style=\"stroke:#000000; stroke-linecap:round; stroke-linejoin:round; stroke-width:2; stroke-opacity:0.1; fill:none\" points=\"\n",
       "  113.761,47.2441 2640.76,47.2441 \n",
       "  \"/>\n",
       "<polyline clip-path=\"url(#clip370)\" style=\"stroke:#000000; stroke-linecap:round; stroke-linejoin:round; stroke-width:4; stroke-opacity:1; fill:none\" points=\"\n",
       "  113.761,1800.78 113.761,47.2441 \n",
       "  \"/>\n",
       "<polyline clip-path=\"url(#clip370)\" style=\"stroke:#000000; stroke-linecap:round; stroke-linejoin:round; stroke-width:4; stroke-opacity:1; fill:none\" points=\"\n",
       "  113.761,1800.78 132.659,1800.78 \n",
       "  \"/>\n",
       "<polyline clip-path=\"url(#clip370)\" style=\"stroke:#000000; stroke-linecap:round; stroke-linejoin:round; stroke-width:4; stroke-opacity:1; fill:none\" points=\"\n",
       "  113.761,1216.27 132.659,1216.27 \n",
       "  \"/>\n",
       "<polyline clip-path=\"url(#clip370)\" style=\"stroke:#000000; stroke-linecap:round; stroke-linejoin:round; stroke-width:4; stroke-opacity:1; fill:none\" points=\"\n",
       "  113.761,631.756 132.659,631.756 \n",
       "  \"/>\n",
       "<polyline clip-path=\"url(#clip370)\" style=\"stroke:#000000; stroke-linecap:round; stroke-linejoin:round; stroke-width:4; stroke-opacity:1; fill:none\" points=\"\n",
       "  113.761,47.2441 132.659,47.2441 \n",
       "  \"/>\n",
       "<path clip-path=\"url(#clip370)\" d=\"M61.4965 1786.58 Q57.8854 1786.58 56.0567 1790.14 Q54.2512 1793.68 54.2512 1800.81 Q54.2512 1807.92 56.0567 1811.49 Q57.8854 1815.03 61.4965 1815.03 Q65.1307 1815.03 66.9363 1811.49 Q68.765 1807.92 68.765 1800.81 Q68.765 1793.68 66.9363 1790.14 Q65.1307 1786.58 61.4965 1786.58 M61.4965 1782.87 Q67.3067 1782.87 70.3622 1787.48 Q73.4409 1792.06 73.4409 1800.81 Q73.4409 1809.54 70.3622 1814.15 Q67.3067 1818.73 61.4965 1818.73 Q55.6864 1818.73 52.6077 1814.15 Q49.5521 1809.54 49.5521 1800.81 Q49.5521 1792.06 52.6077 1787.48 Q55.6864 1782.87 61.4965 1782.87 Z\" fill=\"#000000\" fill-rule=\"evenodd\" fill-opacity=\"1\" /><path clip-path=\"url(#clip370)\" d=\"M53.5336 1229.61 L61.1724 1229.61 L61.1724 1203.25 L52.8623 1204.91 L52.8623 1200.65 L61.1261 1198.99 L65.802 1198.99 L65.802 1229.61 L73.4409 1229.61 L73.4409 1233.55 L53.5336 1233.55 L53.5336 1229.61 Z\" fill=\"#000000\" fill-rule=\"evenodd\" fill-opacity=\"1\" /><path clip-path=\"url(#clip370)\" d=\"M57.1215 645.101 L73.4409 645.101 L73.4409 649.036 L51.4966 649.036 L51.4966 645.101 Q54.1586 642.346 58.7419 637.716 Q63.3483 633.064 64.5289 631.721 Q66.7743 629.198 67.6539 627.462 Q68.5567 625.703 68.5567 624.013 Q68.5567 621.258 66.6122 619.522 Q64.6909 617.786 61.5891 617.786 Q59.39 617.786 56.9363 618.55 Q54.5058 619.314 51.728 620.865 L51.728 616.142 Q54.5521 615.008 57.0058 614.43 Q59.4595 613.851 61.4965 613.851 Q66.8668 613.851 70.0613 616.536 Q73.2557 619.221 73.2557 623.712 Q73.2557 625.842 72.4455 627.763 Q71.6585 629.661 69.552 632.254 Q68.9733 632.925 65.8715 636.142 Q62.7696 639.337 57.1215 645.101 Z\" fill=\"#000000\" fill-rule=\"evenodd\" fill-opacity=\"1\" /><path clip-path=\"url(#clip370)\" d=\"M66.3113 45.8899 Q69.6678 46.6075 71.5427 48.876 Q73.4409 51.1445 73.4409 54.4779 Q73.4409 59.5936 69.9224 62.3945 Q66.4039 65.1954 59.9224 65.1954 Q57.7465 65.1954 55.4317 64.7556 Q53.1401 64.3389 50.6864 63.4824 L50.6864 58.9686 Q52.6308 60.1028 54.9456 60.6815 Q57.2604 61.2602 59.7836 61.2602 Q64.1817 61.2602 66.4733 59.5241 Q68.7881 57.788 68.7881 54.4779 Q68.7881 51.4223 66.6354 49.7094 Q64.5057 47.9733 60.6863 47.9733 L56.6586 47.9733 L56.6586 44.1307 L60.8715 44.1307 Q64.3206 44.1307 66.1493 42.765 Q67.978 41.3761 67.978 38.7835 Q67.978 36.1215 66.0798 34.7094 Q64.2048 33.2743 60.6863 33.2743 Q58.765 33.2743 56.566 33.6909 Q54.3669 34.1076 51.728 34.9872 L51.728 30.8206 Q54.3901 30.0798 56.7049 29.7095 Q59.0428 29.3391 61.103 29.3391 Q66.427 29.3391 69.5289 31.7696 Q72.6307 34.177 72.6307 38.2974 Q72.6307 41.1677 70.9872 43.1585 Q69.3437 45.1261 66.3113 45.8899 Z\" fill=\"#000000\" fill-rule=\"evenodd\" fill-opacity=\"1\" /><path clip-path=\"url(#clip372)\" d=\"\n",
       "M185.28 631.756 L193.04 619.801 L200.8 607.852 L236.679 552.815 L272.557 498.484 L308.435 445.343 L344.313 393.868 L365.875 363.928 L387.436 334.852 L408.997 306.735 \n",
       "  L430.559 279.667 L448.788 257.665 L467.018 236.526 L485.248 216.299 L503.478 197.032 L523.28 177.24 L543.083 158.686 L562.886 141.42 L582.688 125.49 L600.945 112.025 \n",
       "  L619.201 99.7619 L637.457 88.7307 L655.714 78.9565 L675.286 69.8994 L694.859 62.3371 L714.432 56.2897 L734.005 51.7734 L756.681 48.471 L779.358 47.2515 L802.035 48.1193 \n",
       "  L824.712 51.0714 L844.865 55.4356 L865.017 61.4253 L885.17 69.0236 L905.322 78.2091 L922.994 87.5497 L940.666 98.0707 L958.338 109.749 L976.01 122.56 L995.277 137.785 \n",
       "  L1014.54 154.283 L1033.81 172.012 L1053.08 190.926 L1072.46 211.1 L1091.84 232.371 L1111.22 254.683 L1130.61 277.98 L1152.03 304.809 L1173.46 332.681 L1194.89 361.506 \n",
       "  L1216.32 391.193 L1257.1 449.725 L1297.88 510.357 L1382.68 640.104 L1454.06 749.268 L1497.64 814.108 L1541.21 876.547 L1561.17 904.116 L1581.13 930.933 L1601.09 956.922 \n",
       "  L1621.05 982.011 L1639.48 1004.32 L1657.92 1025.76 L1676.35 1046.26 L1694.78 1065.79 L1713.46 1084.52 L1732.13 1102.16 L1750.8 1118.66 L1769.47 1133.97 L1790.4 1149.7 \n",
       "  L1811.33 1163.84 L1832.25 1176.37 L1853.18 1187.24 L1872.14 1195.64 L1891.11 1202.62 L1910.07 1208.18 L1929.03 1212.3 L1950.74 1215.24 L1972.46 1216.27 L1994.17 1215.38 \n",
       "  L2015.88 1212.58 L2035.98 1208.3 L2056.08 1202.39 L2076.19 1194.89 L2096.29 1185.8 L2116.11 1175.32 L2135.93 1163.36 L2155.75 1149.94 L2175.57 1135.12 L2194.81 1119.41 \n",
       "  L2214.05 1102.45 L2233.29 1084.27 L2252.54 1064.93 L2272.26 1043.95 L2291.99 1021.86 L2311.72 998.713 L2331.44 974.574 L2353.05 947.065 L2374.67 918.534 L2396.28 889.073 \n",
       "  L2417.89 858.776 L2480.68 766.943 L2543.47 671.415 L2556.36 651.597 L2569.24 631.756 L2569.24 1800.78 L2556.36 1800.78 L2543.47 1800.78 L2480.68 1800.78 L2417.89 1800.78 \n",
       "  L2396.28 1800.78 L2374.67 1800.78 L2353.05 1800.78 L2331.44 1800.78 L2311.72 1800.78 L2291.99 1800.78 L2272.26 1800.78 L2252.54 1800.78 L2233.29 1800.78 L2214.05 1800.78 \n",
       "  L2194.81 1800.78 L2175.57 1800.78 L2155.75 1800.78 L2135.93 1800.78 L2116.11 1800.78 L2096.29 1800.78 L2076.19 1800.78 L2056.08 1800.78 L2035.98 1800.78 L2015.88 1800.78 \n",
       "  L1994.17 1800.78 L1972.46 1800.78 L1950.74 1800.78 L1929.03 1800.78 L1910.07 1800.78 L1891.11 1800.78 L1872.14 1800.78 L1853.18 1800.78 L1832.25 1800.78 L1811.33 1800.78 \n",
       "  L1790.4 1800.78 L1769.47 1800.78 L1750.8 1800.78 L1732.13 1800.78 L1713.46 1800.78 L1694.78 1800.78 L1676.35 1800.78 L1657.92 1800.78 L1639.48 1800.78 L1621.05 1800.78 \n",
       "  L1601.09 1800.78 L1581.13 1800.78 L1561.17 1800.78 L1541.21 1800.78 L1497.64 1800.78 L1454.06 1800.78 L1382.68 1800.78 L1297.88 1800.78 L1257.1 1800.78 L1216.32 1800.78 \n",
       "  L1194.89 1800.78 L1173.46 1800.78 L1152.03 1800.78 L1130.61 1800.78 L1111.22 1800.78 L1091.84 1800.78 L1072.46 1800.78 L1053.08 1800.78 L1033.81 1800.78 L1014.54 1800.78 \n",
       "  L995.277 1800.78 L976.01 1800.78 L958.338 1800.78 L940.666 1800.78 L922.994 1800.78 L905.322 1800.78 L885.17 1800.78 L865.017 1800.78 L844.865 1800.78 L824.712 1800.78 \n",
       "  L802.035 1800.78 L779.358 1800.78 L756.681 1800.78 L734.005 1800.78 L714.432 1800.78 L694.859 1800.78 L675.286 1800.78 L655.714 1800.78 L637.457 1800.78 L619.201 1800.78 \n",
       "  L600.945 1800.78 L582.688 1800.78 L562.886 1800.78 L543.083 1800.78 L523.28 1800.78 L503.478 1800.78 L485.248 1800.78 L467.018 1800.78 L448.788 1800.78 L430.559 1800.78 \n",
       "  L408.997 1800.78 L387.436 1800.78 L365.875 1800.78 L344.313 1800.78 L308.435 1800.78 L272.557 1800.78 L236.679 1800.78 L200.8 1800.78 L193.04 1800.78 L185.28 1800.78 \n",
       "   Z\n",
       "  \" fill=\"#009af9\" fill-rule=\"evenodd\" fill-opacity=\"0.3\"/>\n",
       "<polyline clip-path=\"url(#clip372)\" style=\"stroke:#009af9; stroke-linecap:round; stroke-linejoin:round; stroke-width:4; stroke-opacity:1; fill:none\" points=\"\n",
       "  185.28,631.756 193.04,619.801 200.8,607.852 236.679,552.815 272.557,498.484 308.435,445.343 344.313,393.868 365.875,363.928 387.436,334.852 408.997,306.735 \n",
       "  430.559,279.667 448.788,257.665 467.018,236.526 485.248,216.299 503.478,197.032 523.28,177.24 543.083,158.686 562.886,141.42 582.688,125.49 600.945,112.025 \n",
       "  619.201,99.7619 637.457,88.7307 655.714,78.9565 675.286,69.8994 694.859,62.3371 714.432,56.2897 734.005,51.7734 756.681,48.471 779.358,47.2515 802.035,48.1193 \n",
       "  824.712,51.0714 844.865,55.4356 865.017,61.4253 885.17,69.0236 905.322,78.2091 922.994,87.5497 940.666,98.0707 958.338,109.749 976.01,122.56 995.277,137.785 \n",
       "  1014.54,154.283 1033.81,172.012 1053.08,190.926 1072.46,211.1 1091.84,232.371 1111.22,254.683 1130.61,277.98 1152.03,304.809 1173.46,332.681 1194.89,361.506 \n",
       "  1216.32,391.193 1257.1,449.725 1297.88,510.357 1382.68,640.104 1454.06,749.268 1497.64,814.108 1541.21,876.547 1561.17,904.116 1581.13,930.933 1601.09,956.922 \n",
       "  1621.05,982.011 1639.48,1004.32 1657.92,1025.76 1676.35,1046.26 1694.78,1065.79 1713.46,1084.52 1732.13,1102.16 1750.8,1118.66 1769.47,1133.97 1790.4,1149.7 \n",
       "  1811.33,1163.84 1832.25,1176.37 1853.18,1187.24 1872.14,1195.64 1891.11,1202.62 1910.07,1208.18 1929.03,1212.3 1950.74,1215.24 1972.46,1216.27 1994.17,1215.38 \n",
       "  2015.88,1212.58 2035.98,1208.3 2056.08,1202.39 2076.19,1194.89 2096.29,1185.8 2116.11,1175.32 2135.93,1163.36 2155.75,1149.94 2175.57,1135.12 2194.81,1119.41 \n",
       "  2214.05,1102.45 2233.29,1084.27 2252.54,1064.93 2272.26,1043.95 2291.99,1021.86 2311.72,998.713 2331.44,974.574 2353.05,947.065 2374.67,918.534 2396.28,889.073 \n",
       "  2417.89,858.776 2480.68,766.943 2543.47,671.415 2556.36,651.597 2569.24,631.756 \n",
       "  \"/>\n",
       "</svg>\n"
      ]
     },
     "execution_count": 27,
     "metadata": {},
     "output_type": "execute_result"
    }
   ],
   "source": [
    "using SymPy, Plots\n",
    "@vars x real = true\n",
    "f(x) = sin(x)+2\n",
    "plot(f, 0, 2pi, ylim=(0,3), fillrange = 0, fillalpha = 0.3, label = \"\")"
   ]
  },
  {
   "cell_type": "code",
   "execution_count": 28,
   "id": "c7dee858",
   "metadata": {},
   "outputs": [
    {
     "data": {
      "text/plain": [
       "88.82643960980422410690317029966353336734417982417697812151367494195434357891355"
      ]
     },
     "execution_count": 28,
     "metadata": {},
     "output_type": "execute_result"
    }
   ],
   "source": [
    "N(integrate(pi*f(x)^2, 0, 2pi))"
   ]
  },
  {
   "cell_type": "code",
   "execution_count": 29,
   "id": "96ba491f",
   "metadata": {},
   "outputs": [
    {
     "data": {
      "image/svg+xml": [
       "<?xml version=\"1.0\" encoding=\"utf-8\"?>\n",
       "<svg xmlns=\"http://www.w3.org/2000/svg\" xmlns:xlink=\"http://www.w3.org/1999/xlink\" width=\"672\" height=\"480\" viewBox=\"0 0 2688 1920\">\n",
       "<defs>\n",
       "  <clipPath id=\"clip410\">\n",
       "    <rect x=\"0\" y=\"0\" width=\"2688\" height=\"1920\"/>\n",
       "  </clipPath>\n",
       "</defs>\n",
       "<path clip-path=\"url(#clip410)\" d=\"\n",
       "M0 1920 L2688 1920 L2688 0 L0 0  Z\n",
       "  \" fill=\"#ffffff\" fill-rule=\"evenodd\" fill-opacity=\"1\"/>\n",
       "<defs>\n",
       "  <clipPath id=\"clip411\">\n",
       "    <rect x=\"537\" y=\"0\" width=\"1883\" height=\"1883\"/>\n",
       "  </clipPath>\n",
       "</defs>\n",
       "<path clip-path=\"url(#clip410)\" d=\"\n",
       "M196.816 1800.78 L2640.76 1800.78 L2640.76 47.2441 L196.816 47.2441  Z\n",
       "  \" fill=\"#ffffff\" fill-rule=\"evenodd\" fill-opacity=\"1\"/>\n",
       "<defs>\n",
       "  <clipPath id=\"clip412\">\n",
       "    <rect x=\"196\" y=\"47\" width=\"2445\" height=\"1755\"/>\n",
       "  </clipPath>\n",
       "</defs>\n",
       "<polyline clip-path=\"url(#clip412)\" style=\"stroke:#000000; stroke-linecap:round; stroke-linejoin:round; stroke-width:2; stroke-opacity:0.1; fill:none\" points=\"\n",
       "  265.984,1800.78 265.984,47.2441 \n",
       "  \"/>\n",
       "<polyline clip-path=\"url(#clip412)\" style=\"stroke:#000000; stroke-linecap:round; stroke-linejoin:round; stroke-width:2; stroke-opacity:0.1; fill:none\" points=\"\n",
       "  842.385,1800.78 842.385,47.2441 \n",
       "  \"/>\n",
       "<polyline clip-path=\"url(#clip412)\" style=\"stroke:#000000; stroke-linecap:round; stroke-linejoin:round; stroke-width:2; stroke-opacity:0.1; fill:none\" points=\"\n",
       "  1418.79,1800.78 1418.79,47.2441 \n",
       "  \"/>\n",
       "<polyline clip-path=\"url(#clip412)\" style=\"stroke:#000000; stroke-linecap:round; stroke-linejoin:round; stroke-width:2; stroke-opacity:0.1; fill:none\" points=\"\n",
       "  1995.19,1800.78 1995.19,47.2441 \n",
       "  \"/>\n",
       "<polyline clip-path=\"url(#clip412)\" style=\"stroke:#000000; stroke-linecap:round; stroke-linejoin:round; stroke-width:2; stroke-opacity:0.1; fill:none\" points=\"\n",
       "  2571.59,1800.78 2571.59,47.2441 \n",
       "  \"/>\n",
       "<polyline clip-path=\"url(#clip410)\" style=\"stroke:#000000; stroke-linecap:round; stroke-linejoin:round; stroke-width:4; stroke-opacity:1; fill:none\" points=\"\n",
       "  196.816,1800.78 2640.76,1800.78 \n",
       "  \"/>\n",
       "<polyline clip-path=\"url(#clip410)\" style=\"stroke:#000000; stroke-linecap:round; stroke-linejoin:round; stroke-width:4; stroke-opacity:1; fill:none\" points=\"\n",
       "  265.984,1800.78 265.984,1781.88 \n",
       "  \"/>\n",
       "<polyline clip-path=\"url(#clip410)\" style=\"stroke:#000000; stroke-linecap:round; stroke-linejoin:round; stroke-width:4; stroke-opacity:1; fill:none\" points=\"\n",
       "  842.385,1800.78 842.385,1781.88 \n",
       "  \"/>\n",
       "<polyline clip-path=\"url(#clip410)\" style=\"stroke:#000000; stroke-linecap:round; stroke-linejoin:round; stroke-width:4; stroke-opacity:1; fill:none\" points=\"\n",
       "  1418.79,1800.78 1418.79,1781.88 \n",
       "  \"/>\n",
       "<polyline clip-path=\"url(#clip410)\" style=\"stroke:#000000; stroke-linecap:round; stroke-linejoin:round; stroke-width:4; stroke-opacity:1; fill:none\" points=\"\n",
       "  1995.19,1800.78 1995.19,1781.88 \n",
       "  \"/>\n",
       "<polyline clip-path=\"url(#clip410)\" style=\"stroke:#000000; stroke-linecap:round; stroke-linejoin:round; stroke-width:4; stroke-opacity:1; fill:none\" points=\"\n",
       "  2571.59,1800.78 2571.59,1781.88 \n",
       "  \"/>\n",
       "<path clip-path=\"url(#clip410)\" d=\"M265.984 1834 Q262.373 1834 260.544 1837.57 Q258.739 1841.11 258.739 1848.24 Q258.739 1855.34 260.544 1858.91 Q262.373 1862.45 265.984 1862.45 Q269.618 1862.45 271.424 1858.91 Q273.253 1855.34 273.253 1848.24 Q273.253 1841.11 271.424 1837.57 Q269.618 1834 265.984 1834 M265.984 1830.3 Q271.794 1830.3 274.85 1834.9 Q277.928 1839.49 277.928 1848.24 Q277.928 1856.96 274.85 1861.57 Q271.794 1866.15 265.984 1866.15 Q260.174 1866.15 257.095 1861.57 Q254.04 1856.96 254.04 1848.24 Q254.04 1839.49 257.095 1834.9 Q260.174 1830.3 265.984 1830.3 Z\" fill=\"#000000\" fill-rule=\"evenodd\" fill-opacity=\"1\" /><path clip-path=\"url(#clip410)\" d=\"M832.767 1861.55 L840.406 1861.55 L840.406 1835.18 L832.096 1836.85 L832.096 1832.59 L840.36 1830.92 L845.035 1830.92 L845.035 1861.55 L852.674 1861.55 L852.674 1865.48 L832.767 1865.48 L832.767 1861.55 Z\" fill=\"#000000\" fill-rule=\"evenodd\" fill-opacity=\"1\" /><path clip-path=\"url(#clip410)\" d=\"M1413.44 1861.55 L1429.76 1861.55 L1429.76 1865.48 L1407.81 1865.48 L1407.81 1861.55 Q1410.48 1858.79 1415.06 1854.16 Q1419.67 1849.51 1420.85 1848.17 Q1423.09 1845.65 1423.97 1843.91 Q1424.87 1842.15 1424.87 1840.46 Q1424.87 1837.71 1422.93 1835.97 Q1421.01 1834.23 1417.91 1834.23 Q1415.71 1834.23 1413.25 1835 Q1410.82 1835.76 1408.05 1837.31 L1408.05 1832.59 Q1410.87 1831.46 1413.32 1830.88 Q1415.78 1830.3 1417.81 1830.3 Q1423.18 1830.3 1426.38 1832.98 Q1429.57 1835.67 1429.57 1840.16 Q1429.57 1842.29 1428.76 1844.21 Q1427.98 1846.11 1425.87 1848.7 Q1425.29 1849.37 1422.19 1852.59 Q1419.09 1855.78 1413.44 1861.55 Z\" fill=\"#000000\" fill-rule=\"evenodd\" fill-opacity=\"1\" /><path clip-path=\"url(#clip410)\" d=\"M1999.43 1846.85 Q2002.79 1847.57 2004.67 1849.84 Q2006.56 1852.1 2006.56 1855.44 Q2006.56 1860.55 2003.05 1863.35 Q1999.53 1866.15 1993.05 1866.15 Q1990.87 1866.15 1988.55 1865.71 Q1986.26 1865.3 1983.81 1864.44 L1983.81 1859.93 Q1985.75 1861.06 1988.07 1861.64 Q1990.38 1862.22 1992.91 1862.22 Q1997.3 1862.22 1999.6 1860.48 Q2001.91 1858.75 2001.91 1855.44 Q2001.91 1852.38 1999.76 1850.67 Q1997.63 1848.93 1993.81 1848.93 L1989.78 1848.93 L1989.78 1845.09 L1993.99 1845.09 Q1997.44 1845.09 1999.27 1843.72 Q2001.1 1842.34 2001.1 1839.74 Q2001.1 1837.08 1999.2 1835.67 Q1997.33 1834.23 1993.81 1834.23 Q1991.89 1834.23 1989.69 1834.65 Q1987.49 1835.07 1984.85 1835.95 L1984.85 1831.78 Q1987.51 1831.04 1989.83 1830.67 Q1992.17 1830.3 1994.23 1830.3 Q1999.55 1830.3 2002.65 1832.73 Q2005.75 1835.14 2005.75 1839.26 Q2005.75 1842.13 2004.11 1844.12 Q2002.47 1846.09 1999.43 1846.85 Z\" fill=\"#000000\" fill-rule=\"evenodd\" fill-opacity=\"1\" /><path clip-path=\"url(#clip410)\" d=\"M2574.6 1835 L2562.79 1853.45 L2574.6 1853.45 L2574.6 1835 M2573.37 1830.92 L2579.25 1830.92 L2579.25 1853.45 L2584.18 1853.45 L2584.18 1857.34 L2579.25 1857.34 L2579.25 1865.48 L2574.6 1865.48 L2574.6 1857.34 L2559 1857.34 L2559 1852.82 L2573.37 1830.92 Z\" fill=\"#000000\" fill-rule=\"evenodd\" fill-opacity=\"1\" /><polyline clip-path=\"url(#clip412)\" style=\"stroke:#000000; stroke-linecap:round; stroke-linejoin:round; stroke-width:2; stroke-opacity:0.1; fill:none\" points=\"\n",
       "  196.816,1788.61 2640.76,1788.61 \n",
       "  \"/>\n",
       "<polyline clip-path=\"url(#clip412)\" style=\"stroke:#000000; stroke-linecap:round; stroke-linejoin:round; stroke-width:2; stroke-opacity:0.1; fill:none\" points=\"\n",
       "  196.816,1500.41 2640.76,1500.41 \n",
       "  \"/>\n",
       "<polyline clip-path=\"url(#clip412)\" style=\"stroke:#000000; stroke-linecap:round; stroke-linejoin:round; stroke-width:2; stroke-opacity:0.1; fill:none\" points=\"\n",
       "  196.816,1212.21 2640.76,1212.21 \n",
       "  \"/>\n",
       "<polyline clip-path=\"url(#clip412)\" style=\"stroke:#000000; stroke-linecap:round; stroke-linejoin:round; stroke-width:2; stroke-opacity:0.1; fill:none\" points=\"\n",
       "  196.816,924.012 2640.76,924.012 \n",
       "  \"/>\n",
       "<polyline clip-path=\"url(#clip412)\" style=\"stroke:#000000; stroke-linecap:round; stroke-linejoin:round; stroke-width:2; stroke-opacity:0.1; fill:none\" points=\"\n",
       "  196.816,635.811 2640.76,635.811 \n",
       "  \"/>\n",
       "<polyline clip-path=\"url(#clip412)\" style=\"stroke:#000000; stroke-linecap:round; stroke-linejoin:round; stroke-width:2; stroke-opacity:0.1; fill:none\" points=\"\n",
       "  196.816,347.611 2640.76,347.611 \n",
       "  \"/>\n",
       "<polyline clip-path=\"url(#clip412)\" style=\"stroke:#000000; stroke-linecap:round; stroke-linejoin:round; stroke-width:2; stroke-opacity:0.1; fill:none\" points=\"\n",
       "  196.816,59.4103 2640.76,59.4103 \n",
       "  \"/>\n",
       "<polyline clip-path=\"url(#clip410)\" style=\"stroke:#000000; stroke-linecap:round; stroke-linejoin:round; stroke-width:4; stroke-opacity:1; fill:none\" points=\"\n",
       "  196.816,1800.78 196.816,47.2441 \n",
       "  \"/>\n",
       "<polyline clip-path=\"url(#clip410)\" style=\"stroke:#000000; stroke-linecap:round; stroke-linejoin:round; stroke-width:4; stroke-opacity:1; fill:none\" points=\"\n",
       "  196.816,1788.61 215.714,1788.61 \n",
       "  \"/>\n",
       "<polyline clip-path=\"url(#clip410)\" style=\"stroke:#000000; stroke-linecap:round; stroke-linejoin:round; stroke-width:4; stroke-opacity:1; fill:none\" points=\"\n",
       "  196.816,1500.41 215.714,1500.41 \n",
       "  \"/>\n",
       "<polyline clip-path=\"url(#clip410)\" style=\"stroke:#000000; stroke-linecap:round; stroke-linejoin:round; stroke-width:4; stroke-opacity:1; fill:none\" points=\"\n",
       "  196.816,1212.21 215.714,1212.21 \n",
       "  \"/>\n",
       "<polyline clip-path=\"url(#clip410)\" style=\"stroke:#000000; stroke-linecap:round; stroke-linejoin:round; stroke-width:4; stroke-opacity:1; fill:none\" points=\"\n",
       "  196.816,924.012 215.714,924.012 \n",
       "  \"/>\n",
       "<polyline clip-path=\"url(#clip410)\" style=\"stroke:#000000; stroke-linecap:round; stroke-linejoin:round; stroke-width:4; stroke-opacity:1; fill:none\" points=\"\n",
       "  196.816,635.811 215.714,635.811 \n",
       "  \"/>\n",
       "<polyline clip-path=\"url(#clip410)\" style=\"stroke:#000000; stroke-linecap:round; stroke-linejoin:round; stroke-width:4; stroke-opacity:1; fill:none\" points=\"\n",
       "  196.816,347.611 215.714,347.611 \n",
       "  \"/>\n",
       "<polyline clip-path=\"url(#clip410)\" style=\"stroke:#000000; stroke-linecap:round; stroke-linejoin:round; stroke-width:4; stroke-opacity:1; fill:none\" points=\"\n",
       "  196.816,59.4103 215.714,59.4103 \n",
       "  \"/>\n",
       "<path clip-path=\"url(#clip410)\" d=\"M50.5475 1789.06 L80.2233 1789.06 L80.2233 1793 L50.5475 1793 L50.5475 1789.06 Z\" fill=\"#000000\" fill-rule=\"evenodd\" fill-opacity=\"1\" /><path clip-path=\"url(#clip410)\" d=\"M91.126 1801.96 L98.7648 1801.96 L98.7648 1775.59 L90.4547 1777.26 L90.4547 1773 L98.7185 1771.33 L103.394 1771.33 L103.394 1801.96 L111.033 1801.96 L111.033 1805.89 L91.126 1805.89 L91.126 1801.96 Z\" fill=\"#000000\" fill-rule=\"evenodd\" fill-opacity=\"1\" /><path clip-path=\"url(#clip410)\" d=\"M120.478 1800.01 L125.362 1800.01 L125.362 1805.89 L120.478 1805.89 L120.478 1800.01 Z\" fill=\"#000000\" fill-rule=\"evenodd\" fill-opacity=\"1\" /><path clip-path=\"url(#clip410)\" d=\"M135.593 1771.33 L153.95 1771.33 L153.95 1775.27 L139.876 1775.27 L139.876 1783.74 Q140.894 1783.39 141.913 1783.23 Q142.931 1783.05 143.95 1783.05 Q149.737 1783.05 153.116 1786.22 Q156.496 1789.39 156.496 1794.81 Q156.496 1800.38 153.024 1803.49 Q149.552 1806.56 143.232 1806.56 Q141.056 1806.56 138.788 1806.19 Q136.542 1805.82 134.135 1805.08 L134.135 1800.38 Q136.218 1801.52 138.441 1802.07 Q140.663 1802.63 143.14 1802.63 Q147.144 1802.63 149.482 1800.52 Q151.82 1798.42 151.82 1794.81 Q151.82 1791.19 149.482 1789.09 Q147.144 1786.98 143.14 1786.98 Q141.265 1786.98 139.39 1787.4 Q137.538 1787.81 135.593 1788.69 L135.593 1771.33 Z\" fill=\"#000000\" fill-rule=\"evenodd\" fill-opacity=\"1\" /><path clip-path=\"url(#clip410)\" d=\"M49.5521 1500.86 L79.2279 1500.86 L79.2279 1504.8 L49.5521 1504.8 L49.5521 1500.86 Z\" fill=\"#000000\" fill-rule=\"evenodd\" fill-opacity=\"1\" /><path clip-path=\"url(#clip410)\" d=\"M90.1306 1513.76 L97.7695 1513.76 L97.7695 1487.39 L89.4593 1489.06 L89.4593 1484.8 L97.7232 1483.13 L102.399 1483.13 L102.399 1513.76 L110.038 1513.76 L110.038 1517.69 L90.1306 1517.69 L90.1306 1513.76 Z\" fill=\"#000000\" fill-rule=\"evenodd\" fill-opacity=\"1\" /><path clip-path=\"url(#clip410)\" d=\"M119.482 1511.81 L124.367 1511.81 L124.367 1517.69 L119.482 1517.69 L119.482 1511.81 Z\" fill=\"#000000\" fill-rule=\"evenodd\" fill-opacity=\"1\" /><path clip-path=\"url(#clip410)\" d=\"M144.552 1486.21 Q140.941 1486.21 139.112 1489.78 Q137.306 1493.32 137.306 1500.45 Q137.306 1507.55 139.112 1511.12 Q140.941 1514.66 144.552 1514.66 Q148.186 1514.66 149.991 1511.12 Q151.82 1507.55 151.82 1500.45 Q151.82 1493.32 149.991 1489.78 Q148.186 1486.21 144.552 1486.21 M144.552 1482.51 Q150.362 1482.51 153.417 1487.11 Q156.496 1491.7 156.496 1500.45 Q156.496 1509.17 153.417 1513.78 Q150.362 1518.36 144.552 1518.36 Q138.741 1518.36 135.663 1513.78 Q132.607 1509.17 132.607 1500.45 Q132.607 1491.7 135.663 1487.11 Q138.741 1482.51 144.552 1482.51 Z\" fill=\"#000000\" fill-rule=\"evenodd\" fill-opacity=\"1\" /><path clip-path=\"url(#clip410)\" d=\"M50.5475 1212.66 L80.2233 1212.66 L80.2233 1216.6 L50.5475 1216.6 L50.5475 1212.66 Z\" fill=\"#000000\" fill-rule=\"evenodd\" fill-opacity=\"1\" /><path clip-path=\"url(#clip410)\" d=\"M100.316 1198.01 Q96.7047 1198.01 94.876 1201.58 Q93.0704 1205.12 93.0704 1212.25 Q93.0704 1219.35 94.876 1222.92 Q96.7047 1226.46 100.316 1226.46 Q103.95 1226.46 105.756 1222.92 Q107.584 1219.35 107.584 1212.25 Q107.584 1205.12 105.756 1201.58 Q103.95 1198.01 100.316 1198.01 M100.316 1194.31 Q106.126 1194.31 109.181 1198.91 Q112.26 1203.5 112.26 1212.25 Q112.26 1220.97 109.181 1225.58 Q106.126 1230.16 100.316 1230.16 Q94.5056 1230.16 91.4269 1225.58 Q88.3714 1220.97 88.3714 1212.25 Q88.3714 1203.5 91.4269 1198.91 Q94.5056 1194.31 100.316 1194.31 Z\" fill=\"#000000\" fill-rule=\"evenodd\" fill-opacity=\"1\" /><path clip-path=\"url(#clip410)\" d=\"M120.478 1223.61 L125.362 1223.61 L125.362 1229.49 L120.478 1229.49 L120.478 1223.61 Z\" fill=\"#000000\" fill-rule=\"evenodd\" fill-opacity=\"1\" /><path clip-path=\"url(#clip410)\" d=\"M135.593 1194.93 L153.95 1194.93 L153.95 1198.87 L139.876 1198.87 L139.876 1207.34 Q140.894 1206.99 141.913 1206.83 Q142.931 1206.65 143.95 1206.65 Q149.737 1206.65 153.116 1209.82 Q156.496 1212.99 156.496 1218.4 Q156.496 1223.98 153.024 1227.08 Q149.552 1230.16 143.232 1230.16 Q141.056 1230.16 138.788 1229.79 Q136.542 1229.42 134.135 1228.68 L134.135 1223.98 Q136.218 1225.12 138.441 1225.67 Q140.663 1226.23 143.14 1226.23 Q147.144 1226.23 149.482 1224.12 Q151.82 1222.02 151.82 1218.4 Q151.82 1214.79 149.482 1212.69 Q147.144 1210.58 143.14 1210.58 Q141.265 1210.58 139.39 1211 Q137.538 1211.41 135.593 1212.29 L135.593 1194.93 Z\" fill=\"#000000\" fill-rule=\"evenodd\" fill-opacity=\"1\" /><path clip-path=\"url(#clip410)\" d=\"M99.3204 909.81 Q95.7093 909.81 93.8806 913.375 Q92.075 916.917 92.075 924.046 Q92.075 931.153 93.8806 934.718 Q95.7093 938.259 99.3204 938.259 Q102.955 938.259 104.76 934.718 Q106.589 931.153 106.589 924.046 Q106.589 916.917 104.76 913.375 Q102.955 909.81 99.3204 909.81 M99.3204 906.107 Q105.131 906.107 108.186 910.713 Q111.265 915.296 111.265 924.046 Q111.265 932.773 108.186 937.38 Q105.131 941.963 99.3204 941.963 Q93.5102 941.963 90.4315 937.38 Q87.376 932.773 87.376 924.046 Q87.376 915.296 90.4315 910.713 Q93.5102 906.107 99.3204 906.107 Z\" fill=\"#000000\" fill-rule=\"evenodd\" fill-opacity=\"1\" /><path clip-path=\"url(#clip410)\" d=\"M119.482 935.412 L124.367 935.412 L124.367 941.292 L119.482 941.292 L119.482 935.412 Z\" fill=\"#000000\" fill-rule=\"evenodd\" fill-opacity=\"1\" /><path clip-path=\"url(#clip410)\" d=\"M144.552 909.81 Q140.941 909.81 139.112 913.375 Q137.306 916.917 137.306 924.046 Q137.306 931.153 139.112 934.718 Q140.941 938.259 144.552 938.259 Q148.186 938.259 149.991 934.718 Q151.82 931.153 151.82 924.046 Q151.82 916.917 149.991 913.375 Q148.186 909.81 144.552 909.81 M144.552 906.107 Q150.362 906.107 153.417 910.713 Q156.496 915.296 156.496 924.046 Q156.496 932.773 153.417 937.38 Q150.362 941.963 144.552 941.963 Q138.741 941.963 135.663 937.38 Q132.607 932.773 132.607 924.046 Q132.607 915.296 135.663 910.713 Q138.741 906.107 144.552 906.107 Z\" fill=\"#000000\" fill-rule=\"evenodd\" fill-opacity=\"1\" /><path clip-path=\"url(#clip410)\" d=\"M100.316 621.61 Q96.7047 621.61 94.876 625.175 Q93.0704 628.716 93.0704 635.846 Q93.0704 642.952 94.876 646.517 Q96.7047 650.059 100.316 650.059 Q103.95 650.059 105.756 646.517 Q107.584 642.952 107.584 635.846 Q107.584 628.716 105.756 625.175 Q103.95 621.61 100.316 621.61 M100.316 617.906 Q106.126 617.906 109.181 622.513 Q112.26 627.096 112.26 635.846 Q112.26 644.573 109.181 649.179 Q106.126 653.763 100.316 653.763 Q94.5056 653.763 91.4269 649.179 Q88.3714 644.573 88.3714 635.846 Q88.3714 627.096 91.4269 622.513 Q94.5056 617.906 100.316 617.906 Z\" fill=\"#000000\" fill-rule=\"evenodd\" fill-opacity=\"1\" /><path clip-path=\"url(#clip410)\" d=\"M120.478 647.212 L125.362 647.212 L125.362 653.091 L120.478 653.091 L120.478 647.212 Z\" fill=\"#000000\" fill-rule=\"evenodd\" fill-opacity=\"1\" /><path clip-path=\"url(#clip410)\" d=\"M135.593 618.531 L153.95 618.531 L153.95 622.466 L139.876 622.466 L139.876 630.939 Q140.894 630.591 141.913 630.429 Q142.931 630.244 143.95 630.244 Q149.737 630.244 153.116 633.415 Q156.496 636.587 156.496 642.003 Q156.496 647.582 153.024 650.684 Q149.552 653.763 143.232 653.763 Q141.056 653.763 138.788 653.392 Q136.542 653.022 134.135 652.281 L134.135 647.582 Q136.218 648.716 138.441 649.272 Q140.663 649.827 143.14 649.827 Q147.144 649.827 149.482 647.721 Q151.82 645.614 151.82 642.003 Q151.82 638.392 149.482 636.286 Q147.144 634.179 143.14 634.179 Q141.265 634.179 139.39 634.596 Q137.538 635.013 135.593 635.892 L135.593 618.531 Z\" fill=\"#000000\" fill-rule=\"evenodd\" fill-opacity=\"1\" /><path clip-path=\"url(#clip410)\" d=\"M90.1306 360.956 L97.7695 360.956 L97.7695 334.59 L89.4593 336.257 L89.4593 331.997 L97.7232 330.331 L102.399 330.331 L102.399 360.956 L110.038 360.956 L110.038 364.891 L90.1306 364.891 L90.1306 360.956 Z\" fill=\"#000000\" fill-rule=\"evenodd\" fill-opacity=\"1\" /><path clip-path=\"url(#clip410)\" d=\"M119.482 359.011 L124.367 359.011 L124.367 364.891 L119.482 364.891 L119.482 359.011 Z\" fill=\"#000000\" fill-rule=\"evenodd\" fill-opacity=\"1\" /><path clip-path=\"url(#clip410)\" d=\"M144.552 333.409 Q140.941 333.409 139.112 336.974 Q137.306 340.516 137.306 347.645 Q137.306 354.752 139.112 358.317 Q140.941 361.858 144.552 361.858 Q148.186 361.858 149.991 358.317 Q151.82 354.752 151.82 347.645 Q151.82 340.516 149.991 336.974 Q148.186 333.409 144.552 333.409 M144.552 329.706 Q150.362 329.706 153.417 334.312 Q156.496 338.896 156.496 347.645 Q156.496 356.372 153.417 360.979 Q150.362 365.562 144.552 365.562 Q138.741 365.562 135.663 360.979 Q132.607 356.372 132.607 347.645 Q132.607 338.896 135.663 334.312 Q138.741 329.706 144.552 329.706 Z\" fill=\"#000000\" fill-rule=\"evenodd\" fill-opacity=\"1\" /><path clip-path=\"url(#clip410)\" d=\"M91.126 72.7552 L98.7648 72.7552 L98.7648 46.3896 L90.4547 48.0562 L90.4547 43.797 L98.7185 42.1303 L103.394 42.1303 L103.394 72.7552 L111.033 72.7552 L111.033 76.6903 L91.126 76.6903 L91.126 72.7552 Z\" fill=\"#000000\" fill-rule=\"evenodd\" fill-opacity=\"1\" /><path clip-path=\"url(#clip410)\" d=\"M120.478 70.8107 L125.362 70.8107 L125.362 76.6903 L120.478 76.6903 L120.478 70.8107 Z\" fill=\"#000000\" fill-rule=\"evenodd\" fill-opacity=\"1\" /><path clip-path=\"url(#clip410)\" d=\"M135.593 42.1303 L153.95 42.1303 L153.95 46.0655 L139.876 46.0655 L139.876 54.5377 Q140.894 54.1904 141.913 54.0284 Q142.931 53.8432 143.95 53.8432 Q149.737 53.8432 153.116 57.0145 Q156.496 60.1858 156.496 65.6024 Q156.496 71.1811 153.024 74.2829 Q149.552 77.3616 143.232 77.3616 Q141.056 77.3616 138.788 76.9912 Q136.542 76.6209 134.135 75.8801 L134.135 71.1811 Q136.218 72.3153 138.441 72.8709 Q140.663 73.4264 143.14 73.4264 Q147.144 73.4264 149.482 71.32 Q151.82 69.2135 151.82 65.6024 Q151.82 61.9913 149.482 59.8849 Q147.144 57.7784 143.14 57.7784 Q141.265 57.7784 139.39 58.195 Q137.538 58.6117 135.593 59.4913 L135.593 42.1303 Z\" fill=\"#000000\" fill-rule=\"evenodd\" fill-opacity=\"1\" /><path clip-path=\"url(#clip412)\" d=\"\n",
       "M842.593 908.519 L843.279 891.928 L843.964 881.377 L844.649 872.97 L845.335 865.773 L846.02 859.38 L846.705 853.571 L847.391 848.212 L848.076 843.213 L848.762 838.512 \n",
       "  L850.132 829.826 L851.503 821.894 L852.874 814.552 L854.244 807.689 L855.615 801.225 L856.986 795.098 L859.727 783.685 L862.469 773.183 L863.839 768.216 L865.21 763.413 \n",
       "  L866.581 758.761 L867.952 754.248 L870.693 745.596 L873.435 737.384 L876.176 729.557 L878.917 722.071 L881.659 714.888 L884.4 707.979 L889.273 696.297 L894.145 685.285 \n",
       "  L899.018 674.855 L903.891 664.935 L908.763 655.47 L913.636 646.413 L918.508 637.725 L923.381 629.373 L933.126 613.573 L942.871 598.83 L952.616 585.008 L962.361 571.997 \n",
       "  L970.907 561.186 L979.452 550.884 L987.998 541.05 L996.543 531.648 L1013.63 514.023 L1030.73 497.811 L1033.05 495.702 L1035.38 493.615 L1037.71 491.552 L1040.04 489.51 \n",
       "  L1044.7 485.493 L1049.36 481.561 L1058.68 473.946 L1067.99 466.647 L1077.31 459.649 L1086.63 452.94 L1095.94 446.506 L1105.26 440.338 L1114.63 434.39 L1124.01 428.691 \n",
       "  L1133.38 423.232 L1142.75 418.005 L1161.5 408.221 L1180.24 399.289 L1190.6 394.701 L1200.96 390.353 L1211.33 386.24 L1221.69 382.356 L1242.41 375.258 L1263.14 369.023 \n",
       "  L1282.86 363.867 L1302.58 359.447 L1322.3 355.744 L1342.01 352.746 L1362.52 350.364 L1383.02 348.721 L1403.52 347.813 L1424.03 347.635 L1441.29 348.05 L1458.55 348.984 \n",
       "  L1475.81 350.438 L1493.06 352.417 L1514.14 355.552 L1535.21 359.491 L1556.28 364.25 L1577.35 369.85 L1596.65 375.741 L1615.96 382.383 L1635.26 389.805 L1654.56 398.039 \n",
       "  L1672.39 406.399 L1690.22 415.521 L1708.05 425.447 L1725.87 436.226 L1734.9 442.029 L1743.93 448.073 L1752.96 454.369 L1761.99 460.927 L1771.02 467.757 L1780.05 474.873 \n",
       "  L1784.57 478.542 L1789.08 482.288 L1793.6 486.112 L1798.11 490.017 L1808.23 499.074 L1818.35 508.575 L1828.47 518.551 L1838.59 529.038 L1848.71 540.077 L1858.83 551.719 \n",
       "  L1868.95 564.021 L1879.07 577.053 L1888.24 589.565 L1897.41 602.825 L1906.58 616.93 L1915.75 632.003 L1924.92 648.202 L1934.09 665.74 L1938.67 675.098 L1943.26 684.91 \n",
       "  L1945.55 690.004 L1947.84 695.234 L1948.99 697.903 L1950.13 700.61 L1951.28 703.356 L1952.43 706.143 L1957.67 719.471 L1962.92 733.876 L1965.55 741.561 L1968.17 749.624 \n",
       "  L1970.8 758.12 L1973.42 767.118 L1976.05 776.712 L1978.67 787.027 L1981.3 798.239 L1983.92 810.614 L1985.23 817.363 L1986.55 824.586 L1987.86 832.395 L1989.17 840.956 \n",
       "  L1989.83 845.595 L1990.48 850.531 L1991.14 855.831 L1991.8 861.585 L1992.45 867.934 L1993.11 875.11 L1993.76 883.549 L1994.42 894.31 L1995.08 912.772 L1995.08 924.012 \n",
       "  L1994.42 924.012 L1993.76 924.012 L1993.11 924.012 L1992.45 924.012 L1991.8 924.012 L1991.14 924.012 L1990.48 924.012 L1989.83 924.012 L1989.17 924.012 L1987.86 924.012 \n",
       "  L1986.55 924.012 L1985.23 924.012 L1983.92 924.012 L1981.3 924.012 L1978.67 924.012 L1976.05 924.012 L1973.42 924.012 L1970.8 924.012 L1968.17 924.012 L1965.55 924.012 \n",
       "  L1962.92 924.012 L1957.67 924.012 L1952.43 924.012 L1951.28 924.012 L1950.13 924.012 L1948.99 924.012 L1947.84 924.012 L1945.55 924.012 L1943.26 924.012 L1938.67 924.012 \n",
       "  L1934.09 924.012 L1924.92 924.012 L1915.75 924.012 L1906.58 924.012 L1897.41 924.012 L1888.24 924.012 L1879.07 924.012 L1868.95 924.012 L1858.83 924.012 L1848.71 924.012 \n",
       "  L1838.59 924.012 L1828.47 924.012 L1818.35 924.012 L1808.23 924.012 L1798.11 924.012 L1793.6 924.012 L1789.08 924.012 L1784.57 924.012 L1780.05 924.012 L1771.02 924.012 \n",
       "  L1761.99 924.012 L1752.96 924.012 L1743.93 924.012 L1734.9 924.012 L1725.87 924.012 L1708.05 924.012 L1690.22 924.012 L1672.39 924.012 L1654.56 924.012 L1635.26 924.012 \n",
       "  L1615.96 924.012 L1596.65 924.012 L1577.35 924.012 L1556.28 924.012 L1535.21 924.012 L1514.14 924.012 L1493.06 924.012 L1475.81 924.012 L1458.55 924.012 L1441.29 924.012 \n",
       "  L1424.03 924.012 L1403.52 924.012 L1383.02 924.012 L1362.52 924.012 L1342.01 924.012 L1322.3 924.012 L1302.58 924.012 L1282.86 924.012 L1263.14 924.012 L1242.41 924.012 \n",
       "  L1221.69 924.012 L1211.33 924.012 L1200.96 924.012 L1190.6 924.012 L1180.24 924.012 L1161.5 924.012 L1142.75 924.012 L1133.38 924.012 L1124.01 924.012 L1114.63 924.012 \n",
       "  L1105.26 924.012 L1095.94 924.012 L1086.63 924.012 L1077.31 924.012 L1067.99 924.012 L1058.68 924.012 L1049.36 924.012 L1044.7 924.012 L1040.04 924.012 L1037.71 924.012 \n",
       "  L1035.38 924.012 L1033.05 924.012 L1030.73 924.012 L1013.63 924.012 L996.543 924.012 L987.998 924.012 L979.452 924.012 L970.907 924.012 L962.361 924.012 L952.616 924.012 \n",
       "  L942.871 924.012 L933.126 924.012 L923.381 924.012 L918.508 924.012 L913.636 924.012 L908.763 924.012 L903.891 924.012 L899.018 924.012 L894.145 924.012 L889.273 924.012 \n",
       "  L884.4 924.012 L881.659 924.012 L878.917 924.012 L876.176 924.012 L873.435 924.012 L870.693 924.012 L867.952 924.012 L866.581 924.012 L865.21 924.012 L863.839 924.012 \n",
       "  L862.469 924.012 L859.727 924.012 L856.986 924.012 L855.615 924.012 L854.244 924.012 L852.874 924.012 L851.503 924.012 L850.132 924.012 L848.762 924.012 L848.076 924.012 \n",
       "  L847.391 924.012 L846.705 924.012 L846.02 924.012 L845.335 924.012 L844.649 924.012 L843.964 924.012 L843.279 924.012 L842.593 924.012  Z\n",
       "  \" fill=\"#009af9\" fill-rule=\"evenodd\" fill-opacity=\"0.3\"/>\n",
       "<polyline clip-path=\"url(#clip412)\" style=\"stroke:#009af9; stroke-linecap:round; stroke-linejoin:round; stroke-width:4; stroke-opacity:1; fill:none\" points=\"\n",
       "  842.593,908.519 843.279,891.928 843.964,881.377 844.649,872.97 845.335,865.773 846.02,859.38 846.705,853.571 847.391,848.212 848.076,843.213 848.762,838.512 \n",
       "  850.132,829.826 851.503,821.894 852.874,814.552 854.244,807.689 855.615,801.225 856.986,795.098 859.727,783.685 862.469,773.183 863.839,768.216 865.21,763.413 \n",
       "  866.581,758.761 867.952,754.248 870.693,745.596 873.435,737.384 876.176,729.557 878.917,722.071 881.659,714.888 884.4,707.979 889.273,696.297 894.145,685.285 \n",
       "  899.018,674.855 903.891,664.935 908.763,655.47 913.636,646.413 918.508,637.725 923.381,629.373 933.126,613.573 942.871,598.83 952.616,585.008 962.361,571.997 \n",
       "  970.907,561.186 979.452,550.884 987.998,541.05 996.543,531.648 1013.63,514.023 1030.73,497.811 1033.05,495.702 1035.38,493.615 1037.71,491.552 1040.04,489.51 \n",
       "  1044.7,485.493 1049.36,481.561 1058.68,473.946 1067.99,466.647 1077.31,459.649 1086.63,452.94 1095.94,446.506 1105.26,440.338 1114.63,434.39 1124.01,428.691 \n",
       "  1133.38,423.232 1142.75,418.005 1161.5,408.221 1180.24,399.289 1190.6,394.701 1200.96,390.353 1211.33,386.24 1221.69,382.356 1242.41,375.258 1263.14,369.023 \n",
       "  1282.86,363.867 1302.58,359.447 1322.3,355.744 1342.01,352.746 1362.52,350.364 1383.02,348.721 1403.52,347.813 1424.03,347.635 1441.29,348.05 1458.55,348.984 \n",
       "  1475.81,350.438 1493.06,352.417 1514.14,355.552 1535.21,359.491 1556.28,364.25 1577.35,369.85 1596.65,375.741 1615.96,382.383 1635.26,389.805 1654.56,398.039 \n",
       "  1672.39,406.399 1690.22,415.521 1708.05,425.447 1725.87,436.226 1734.9,442.029 1743.93,448.073 1752.96,454.369 1761.99,460.927 1771.02,467.757 1780.05,474.873 \n",
       "  1784.57,478.542 1789.08,482.288 1793.6,486.112 1798.11,490.017 1808.23,499.074 1818.35,508.575 1828.47,518.551 1838.59,529.038 1848.71,540.077 1858.83,551.719 \n",
       "  1868.95,564.021 1879.07,577.053 1888.24,589.565 1897.41,602.825 1906.58,616.93 1915.75,632.003 1924.92,648.202 1934.09,665.74 1938.67,675.098 1943.26,684.91 \n",
       "  1945.55,690.004 1947.84,695.234 1948.99,697.903 1950.13,700.61 1951.28,703.356 1952.43,706.143 1957.67,719.471 1962.92,733.876 1965.55,741.561 1968.17,749.624 \n",
       "  1970.8,758.12 1973.42,767.118 1976.05,776.712 1978.67,787.027 1981.3,798.239 1983.92,810.614 1985.23,817.363 1986.55,824.586 1987.86,832.395 1989.17,840.956 \n",
       "  1989.83,845.595 1990.48,850.531 1991.14,855.831 1991.8,861.585 1992.45,867.934 1993.11,875.11 1993.76,883.549 1994.42,894.31 1995.08,912.772 \n",
       "  \"/>\n",
       "<path clip-path=\"url(#clip412)\" d=\"\n",
       "M842.593 939.505 L843.279 956.095 L843.964 966.647 L844.649 975.053 L845.335 982.25 L846.02 988.644 L846.705 994.453 L847.391 999.812 L848.076 1004.81 L848.762 1009.51 \n",
       "  L850.132 1018.2 L851.503 1026.13 L852.874 1033.47 L854.244 1040.33 L855.615 1046.8 L856.986 1052.93 L859.727 1064.34 L862.469 1074.84 L863.839 1079.81 L865.21 1084.61 \n",
       "  L866.581 1089.26 L867.952 1093.78 L870.693 1102.43 L873.435 1110.64 L876.176 1118.47 L878.917 1125.95 L881.659 1133.13 L884.4 1140.04 L889.273 1151.73 L894.145 1162.74 \n",
       "  L899.018 1173.17 L903.891 1183.09 L908.763 1192.55 L913.636 1201.61 L918.508 1210.3 L923.381 1218.65 L933.126 1234.45 L942.871 1249.19 L952.616 1263.02 L962.361 1276.03 \n",
       "  L970.907 1286.84 L979.452 1297.14 L987.998 1306.97 L996.543 1316.38 L1013.63 1334 L1030.73 1350.21 L1033.05 1352.32 L1035.38 1354.41 L1037.71 1356.47 L1040.04 1358.51 \n",
       "  L1044.7 1362.53 L1049.36 1366.46 L1058.68 1374.08 L1067.99 1381.38 L1077.31 1388.37 L1086.63 1395.08 L1095.94 1401.52 L1105.26 1407.69 L1114.63 1413.63 L1124.01 1419.33 \n",
       "  L1133.38 1424.79 L1142.75 1430.02 L1161.5 1439.8 L1180.24 1448.73 L1190.6 1453.32 L1200.96 1457.67 L1211.33 1461.78 L1221.69 1465.67 L1242.41 1472.77 L1263.14 1479 \n",
       "  L1282.86 1484.16 L1302.58 1488.58 L1322.3 1492.28 L1342.01 1495.28 L1362.52 1497.66 L1383.02 1499.3 L1403.52 1500.21 L1424.03 1500.39 L1441.29 1499.97 L1458.55 1499.04 \n",
       "  L1475.81 1497.59 L1493.06 1495.61 L1514.14 1492.47 L1535.21 1488.53 L1556.28 1483.77 L1577.35 1478.17 L1596.65 1472.28 L1615.96 1465.64 L1635.26 1458.22 L1654.56 1449.98 \n",
       "  L1672.39 1441.62 L1690.22 1432.5 L1708.05 1422.58 L1725.87 1411.8 L1734.9 1405.99 L1743.93 1399.95 L1752.96 1393.65 L1761.99 1387.1 L1771.02 1380.27 L1780.05 1373.15 \n",
       "  L1784.57 1369.48 L1789.08 1365.74 L1793.6 1361.91 L1798.11 1358.01 L1808.23 1348.95 L1818.35 1339.45 L1828.47 1329.47 L1838.59 1318.99 L1848.71 1307.95 L1858.83 1296.3 \n",
       "  L1868.95 1284 L1879.07 1270.97 L1888.24 1258.46 L1897.41 1245.2 L1906.58 1231.09 L1915.75 1216.02 L1924.92 1199.82 L1934.09 1182.28 L1938.67 1172.93 L1943.26 1163.11 \n",
       "  L1945.55 1158.02 L1947.84 1152.79 L1948.99 1150.12 L1950.13 1147.41 L1951.28 1144.67 L1952.43 1141.88 L1957.67 1128.55 L1962.92 1114.15 L1965.55 1106.46 L1968.17 1098.4 \n",
       "  L1970.8 1089.9 L1973.42 1080.9 L1976.05 1071.31 L1978.67 1061 L1981.3 1049.78 L1983.92 1037.41 L1985.23 1030.66 L1986.55 1023.44 L1987.86 1015.63 L1989.17 1007.07 \n",
       "  L1989.83 1002.43 L1990.48 997.492 L1991.14 992.193 L1991.8 986.438 L1992.45 980.089 L1993.11 972.913 L1993.76 964.474 L1994.42 953.713 L1995.08 935.251 L1995.08 924.012 \n",
       "  L1994.42 924.012 L1993.76 924.012 L1993.11 924.012 L1992.45 924.012 L1991.8 924.012 L1991.14 924.012 L1990.48 924.012 L1989.83 924.012 L1989.17 924.012 L1987.86 924.012 \n",
       "  L1986.55 924.012 L1985.23 924.012 L1983.92 924.012 L1981.3 924.012 L1978.67 924.012 L1976.05 924.012 L1973.42 924.012 L1970.8 924.012 L1968.17 924.012 L1965.55 924.012 \n",
       "  L1962.92 924.012 L1957.67 924.012 L1952.43 924.012 L1951.28 924.012 L1950.13 924.012 L1948.99 924.012 L1947.84 924.012 L1945.55 924.012 L1943.26 924.012 L1938.67 924.012 \n",
       "  L1934.09 924.012 L1924.92 924.012 L1915.75 924.012 L1906.58 924.012 L1897.41 924.012 L1888.24 924.012 L1879.07 924.012 L1868.95 924.012 L1858.83 924.012 L1848.71 924.012 \n",
       "  L1838.59 924.012 L1828.47 924.012 L1818.35 924.012 L1808.23 924.012 L1798.11 924.012 L1793.6 924.012 L1789.08 924.012 L1784.57 924.012 L1780.05 924.012 L1771.02 924.012 \n",
       "  L1761.99 924.012 L1752.96 924.012 L1743.93 924.012 L1734.9 924.012 L1725.87 924.012 L1708.05 924.012 L1690.22 924.012 L1672.39 924.012 L1654.56 924.012 L1635.26 924.012 \n",
       "  L1615.96 924.012 L1596.65 924.012 L1577.35 924.012 L1556.28 924.012 L1535.21 924.012 L1514.14 924.012 L1493.06 924.012 L1475.81 924.012 L1458.55 924.012 L1441.29 924.012 \n",
       "  L1424.03 924.012 L1403.52 924.012 L1383.02 924.012 L1362.52 924.012 L1342.01 924.012 L1322.3 924.012 L1302.58 924.012 L1282.86 924.012 L1263.14 924.012 L1242.41 924.012 \n",
       "  L1221.69 924.012 L1211.33 924.012 L1200.96 924.012 L1190.6 924.012 L1180.24 924.012 L1161.5 924.012 L1142.75 924.012 L1133.38 924.012 L1124.01 924.012 L1114.63 924.012 \n",
       "  L1105.26 924.012 L1095.94 924.012 L1086.63 924.012 L1077.31 924.012 L1067.99 924.012 L1058.68 924.012 L1049.36 924.012 L1044.7 924.012 L1040.04 924.012 L1037.71 924.012 \n",
       "  L1035.38 924.012 L1033.05 924.012 L1030.73 924.012 L1013.63 924.012 L996.543 924.012 L987.998 924.012 L979.452 924.012 L970.907 924.012 L962.361 924.012 L952.616 924.012 \n",
       "  L942.871 924.012 L933.126 924.012 L923.381 924.012 L918.508 924.012 L913.636 924.012 L908.763 924.012 L903.891 924.012 L899.018 924.012 L894.145 924.012 L889.273 924.012 \n",
       "  L884.4 924.012 L881.659 924.012 L878.917 924.012 L876.176 924.012 L873.435 924.012 L870.693 924.012 L867.952 924.012 L866.581 924.012 L865.21 924.012 L863.839 924.012 \n",
       "  L862.469 924.012 L859.727 924.012 L856.986 924.012 L855.615 924.012 L854.244 924.012 L852.874 924.012 L851.503 924.012 L850.132 924.012 L848.762 924.012 L848.076 924.012 \n",
       "  L847.391 924.012 L846.705 924.012 L846.02 924.012 L845.335 924.012 L844.649 924.012 L843.964 924.012 L843.279 924.012 L842.593 924.012  Z\n",
       "  \" fill=\"#e26f46\" fill-rule=\"evenodd\" fill-opacity=\"0.3\"/>\n",
       "<polyline clip-path=\"url(#clip412)\" style=\"stroke:#e26f46; stroke-linecap:round; stroke-linejoin:round; stroke-width:4; stroke-opacity:1; fill:none\" points=\"\n",
       "  842.593,939.505 843.279,956.095 843.964,966.647 844.649,975.053 845.335,982.25 846.02,988.644 846.705,994.453 847.391,999.812 848.076,1004.81 848.762,1009.51 \n",
       "  850.132,1018.2 851.503,1026.13 852.874,1033.47 854.244,1040.33 855.615,1046.8 856.986,1052.93 859.727,1064.34 862.469,1074.84 863.839,1079.81 865.21,1084.61 \n",
       "  866.581,1089.26 867.952,1093.78 870.693,1102.43 873.435,1110.64 876.176,1118.47 878.917,1125.95 881.659,1133.13 884.4,1140.04 889.273,1151.73 894.145,1162.74 \n",
       "  899.018,1173.17 903.891,1183.09 908.763,1192.55 913.636,1201.61 918.508,1210.3 923.381,1218.65 933.126,1234.45 942.871,1249.19 952.616,1263.02 962.361,1276.03 \n",
       "  970.907,1286.84 979.452,1297.14 987.998,1306.97 996.543,1316.38 1013.63,1334 1030.73,1350.21 1033.05,1352.32 1035.38,1354.41 1037.71,1356.47 1040.04,1358.51 \n",
       "  1044.7,1362.53 1049.36,1366.46 1058.68,1374.08 1067.99,1381.38 1077.31,1388.37 1086.63,1395.08 1095.94,1401.52 1105.26,1407.69 1114.63,1413.63 1124.01,1419.33 \n",
       "  1133.38,1424.79 1142.75,1430.02 1161.5,1439.8 1180.24,1448.73 1190.6,1453.32 1200.96,1457.67 1211.33,1461.78 1221.69,1465.67 1242.41,1472.77 1263.14,1479 \n",
       "  1282.86,1484.16 1302.58,1488.58 1322.3,1492.28 1342.01,1495.28 1362.52,1497.66 1383.02,1499.3 1403.52,1500.21 1424.03,1500.39 1441.29,1499.97 1458.55,1499.04 \n",
       "  1475.81,1497.59 1493.06,1495.61 1514.14,1492.47 1535.21,1488.53 1556.28,1483.77 1577.35,1478.17 1596.65,1472.28 1615.96,1465.64 1635.26,1458.22 1654.56,1449.98 \n",
       "  1672.39,1441.62 1690.22,1432.5 1708.05,1422.58 1725.87,1411.8 1734.9,1405.99 1743.93,1399.95 1752.96,1393.65 1761.99,1387.1 1771.02,1380.27 1780.05,1373.15 \n",
       "  1784.57,1369.48 1789.08,1365.74 1793.6,1361.91 1798.11,1358.01 1808.23,1348.95 1818.35,1339.45 1828.47,1329.47 1838.59,1318.99 1848.71,1307.95 1858.83,1296.3 \n",
       "  1868.95,1284 1879.07,1270.97 1888.24,1258.46 1897.41,1245.2 1906.58,1231.09 1915.75,1216.02 1924.92,1199.82 1934.09,1182.28 1938.67,1172.93 1943.26,1163.11 \n",
       "  1945.55,1158.02 1947.84,1152.79 1948.99,1150.12 1950.13,1147.41 1951.28,1144.67 1952.43,1141.88 1957.67,1128.55 1962.92,1114.15 1965.55,1106.46 1968.17,1098.4 \n",
       "  1970.8,1089.9 1973.42,1080.9 1976.05,1071.31 1978.67,1061 1981.3,1049.78 1983.92,1037.41 1985.23,1030.66 1986.55,1023.44 1987.86,1015.63 1989.17,1007.07 \n",
       "  1989.83,1002.43 1990.48,997.492 1991.14,992.193 1991.8,986.438 1992.45,980.089 1993.11,972.913 1993.76,964.474 1994.42,953.713 1995.08,935.251 \n",
       "  \"/>\n",
       "</svg>\n"
      ]
     },
     "execution_count": 29,
     "metadata": {},
     "output_type": "execute_result"
    }
   ],
   "source": [
    "using SymPy, Plots\n",
    "@vars x real = true\n",
    "f(x) = sqrt(1-(x-2)^2)\n",
    "plot(f(x), 0, 4, fillrange = 0, fillalpha = 0.3, aspect_ratio = 1, label = \"\")\n",
    "plot!(-f(x), 0, 4, fillrange = 0, fillalpha = 0.3, aspect_ratio = 1, label = \"\")"
   ]
  },
  {
   "cell_type": "code",
   "execution_count": 30,
   "id": "e2795f6e",
   "metadata": {},
   "outputs": [
    {
     "data": {
      "text/latex": [
       "$4 \\pi^{2}$"
      ],
      "text/plain": [
       "   2\n",
       "4⋅π "
      ]
     },
     "execution_count": 30,
     "metadata": {},
     "output_type": "execute_result"
    }
   ],
   "source": [
    "2 * integrate(2PI*x*f(x), 1, 3)"
   ]
  },
  {
   "cell_type": "code",
   "execution_count": 31,
   "id": "edf3749d",
   "metadata": {},
   "outputs": [
    {
     "data": {
      "image/svg+xml": [
       "<?xml version=\"1.0\" encoding=\"utf-8\"?>\n",
       "<svg xmlns=\"http://www.w3.org/2000/svg\" xmlns:xlink=\"http://www.w3.org/1999/xlink\" width=\"672\" height=\"480\" viewBox=\"0 0 2688 1920\">\n",
       "<defs>\n",
       "  <clipPath id=\"clip450\">\n",
       "    <rect x=\"0\" y=\"0\" width=\"2688\" height=\"1920\"/>\n",
       "  </clipPath>\n",
       "</defs>\n",
       "<path clip-path=\"url(#clip450)\" d=\"\n",
       "M0 1920 L2688 1920 L2688 0 L0 0  Z\n",
       "  \" fill=\"#ffffff\" fill-rule=\"evenodd\" fill-opacity=\"1\"/>\n",
       "<defs>\n",
       "  <clipPath id=\"clip451\">\n",
       "    <rect x=\"537\" y=\"0\" width=\"1883\" height=\"1883\"/>\n",
       "  </clipPath>\n",
       "</defs>\n",
       "<path clip-path=\"url(#clip450)\" d=\"\n",
       "M196.816 1800.78 L2640.76 1800.78 L2640.76 47.2441 L196.816 47.2441  Z\n",
       "  \" fill=\"#ffffff\" fill-rule=\"evenodd\" fill-opacity=\"1\"/>\n",
       "<defs>\n",
       "  <clipPath id=\"clip452\">\n",
       "    <rect x=\"196\" y=\"47\" width=\"2445\" height=\"1755\"/>\n",
       "  </clipPath>\n",
       "</defs>\n",
       "<polyline clip-path=\"url(#clip452)\" style=\"stroke:#000000; stroke-linecap:round; stroke-linejoin:round; stroke-width:2; stroke-opacity:0.1; fill:none\" points=\"\n",
       "  265.984,1800.78 265.984,47.2441 \n",
       "  \"/>\n",
       "<polyline clip-path=\"url(#clip452)\" style=\"stroke:#000000; stroke-linecap:round; stroke-linejoin:round; stroke-width:2; stroke-opacity:0.1; fill:none\" points=\"\n",
       "  842.385,1800.78 842.385,47.2441 \n",
       "  \"/>\n",
       "<polyline clip-path=\"url(#clip452)\" style=\"stroke:#000000; stroke-linecap:round; stroke-linejoin:round; stroke-width:2; stroke-opacity:0.1; fill:none\" points=\"\n",
       "  1418.79,1800.78 1418.79,47.2441 \n",
       "  \"/>\n",
       "<polyline clip-path=\"url(#clip452)\" style=\"stroke:#000000; stroke-linecap:round; stroke-linejoin:round; stroke-width:2; stroke-opacity:0.1; fill:none\" points=\"\n",
       "  1995.19,1800.78 1995.19,47.2441 \n",
       "  \"/>\n",
       "<polyline clip-path=\"url(#clip452)\" style=\"stroke:#000000; stroke-linecap:round; stroke-linejoin:round; stroke-width:2; stroke-opacity:0.1; fill:none\" points=\"\n",
       "  2571.59,1800.78 2571.59,47.2441 \n",
       "  \"/>\n",
       "<polyline clip-path=\"url(#clip450)\" style=\"stroke:#000000; stroke-linecap:round; stroke-linejoin:round; stroke-width:4; stroke-opacity:1; fill:none\" points=\"\n",
       "  196.816,1800.78 2640.76,1800.78 \n",
       "  \"/>\n",
       "<polyline clip-path=\"url(#clip450)\" style=\"stroke:#000000; stroke-linecap:round; stroke-linejoin:round; stroke-width:4; stroke-opacity:1; fill:none\" points=\"\n",
       "  265.984,1800.78 265.984,1781.88 \n",
       "  \"/>\n",
       "<polyline clip-path=\"url(#clip450)\" style=\"stroke:#000000; stroke-linecap:round; stroke-linejoin:round; stroke-width:4; stroke-opacity:1; fill:none\" points=\"\n",
       "  842.385,1800.78 842.385,1781.88 \n",
       "  \"/>\n",
       "<polyline clip-path=\"url(#clip450)\" style=\"stroke:#000000; stroke-linecap:round; stroke-linejoin:round; stroke-width:4; stroke-opacity:1; fill:none\" points=\"\n",
       "  1418.79,1800.78 1418.79,1781.88 \n",
       "  \"/>\n",
       "<polyline clip-path=\"url(#clip450)\" style=\"stroke:#000000; stroke-linecap:round; stroke-linejoin:round; stroke-width:4; stroke-opacity:1; fill:none\" points=\"\n",
       "  1995.19,1800.78 1995.19,1781.88 \n",
       "  \"/>\n",
       "<polyline clip-path=\"url(#clip450)\" style=\"stroke:#000000; stroke-linecap:round; stroke-linejoin:round; stroke-width:4; stroke-opacity:1; fill:none\" points=\"\n",
       "  2571.59,1800.78 2571.59,1781.88 \n",
       "  \"/>\n",
       "<path clip-path=\"url(#clip450)\" d=\"M265.984 1834 Q262.373 1834 260.544 1837.57 Q258.739 1841.11 258.739 1848.24 Q258.739 1855.34 260.544 1858.91 Q262.373 1862.45 265.984 1862.45 Q269.618 1862.45 271.424 1858.91 Q273.253 1855.34 273.253 1848.24 Q273.253 1841.11 271.424 1837.57 Q269.618 1834 265.984 1834 M265.984 1830.3 Q271.794 1830.3 274.85 1834.9 Q277.928 1839.49 277.928 1848.24 Q277.928 1856.96 274.85 1861.57 Q271.794 1866.15 265.984 1866.15 Q260.174 1866.15 257.095 1861.57 Q254.04 1856.96 254.04 1848.24 Q254.04 1839.49 257.095 1834.9 Q260.174 1830.3 265.984 1830.3 Z\" fill=\"#000000\" fill-rule=\"evenodd\" fill-opacity=\"1\" /><path clip-path=\"url(#clip450)\" d=\"M821.656 1861.55 L837.975 1861.55 L837.975 1865.48 L816.031 1865.48 L816.031 1861.55 Q818.693 1858.79 823.276 1854.16 Q827.883 1849.51 829.063 1848.17 Q831.309 1845.65 832.188 1843.91 Q833.091 1842.15 833.091 1840.46 Q833.091 1837.71 831.147 1835.97 Q829.225 1834.23 826.124 1834.23 Q823.924 1834.23 821.471 1835 Q819.04 1835.76 816.262 1837.31 L816.262 1832.59 Q819.087 1831.46 821.54 1830.88 Q823.994 1830.3 826.031 1830.3 Q831.401 1830.3 834.596 1832.98 Q837.79 1835.67 837.79 1840.16 Q837.79 1842.29 836.98 1844.21 Q836.193 1846.11 834.086 1848.7 Q833.508 1849.37 830.406 1852.59 Q827.304 1855.78 821.656 1861.55 Z\" fill=\"#000000\" fill-rule=\"evenodd\" fill-opacity=\"1\" /><path clip-path=\"url(#clip450)\" d=\"M847.836 1830.92 L866.193 1830.92 L866.193 1834.86 L852.119 1834.86 L852.119 1843.33 Q853.137 1842.98 854.156 1842.82 Q855.174 1842.64 856.193 1842.64 Q861.98 1842.64 865.359 1845.81 Q868.739 1848.98 868.739 1854.4 Q868.739 1859.97 865.267 1863.08 Q861.795 1866.15 855.475 1866.15 Q853.299 1866.15 851.031 1865.78 Q848.785 1865.41 846.378 1864.67 L846.378 1859.97 Q848.461 1861.11 850.684 1861.66 Q852.906 1862.22 855.383 1862.22 Q859.387 1862.22 861.725 1860.11 Q864.063 1858.01 864.063 1854.4 Q864.063 1850.78 861.725 1848.68 Q859.387 1846.57 855.383 1846.57 Q853.508 1846.57 851.633 1846.99 Q849.781 1847.4 847.836 1848.28 L847.836 1830.92 Z\" fill=\"#000000\" fill-rule=\"evenodd\" fill-opacity=\"1\" /><path clip-path=\"url(#clip450)\" d=\"M1393.49 1830.92 L1411.84 1830.92 L1411.84 1834.86 L1397.77 1834.86 L1397.77 1843.33 Q1398.79 1842.98 1399.8 1842.82 Q1400.82 1842.64 1401.84 1842.64 Q1407.63 1842.64 1411.01 1845.81 Q1414.39 1848.98 1414.39 1854.4 Q1414.39 1859.97 1410.92 1863.08 Q1407.44 1866.15 1401.12 1866.15 Q1398.95 1866.15 1396.68 1865.78 Q1394.43 1865.41 1392.03 1864.67 L1392.03 1859.97 Q1394.11 1861.11 1396.33 1861.66 Q1398.55 1862.22 1401.03 1862.22 Q1405.04 1862.22 1407.37 1860.11 Q1409.71 1858.01 1409.71 1854.4 Q1409.71 1850.78 1407.37 1848.68 Q1405.04 1846.57 1401.03 1846.57 Q1399.16 1846.57 1397.28 1846.99 Q1395.43 1847.4 1393.49 1848.28 L1393.49 1830.92 Z\" fill=\"#000000\" fill-rule=\"evenodd\" fill-opacity=\"1\" /><path clip-path=\"url(#clip450)\" d=\"M1433.6 1834 Q1429.99 1834 1428.16 1837.57 Q1426.36 1841.11 1426.36 1848.24 Q1426.36 1855.34 1428.16 1858.91 Q1429.99 1862.45 1433.6 1862.45 Q1437.23 1862.45 1439.04 1858.91 Q1440.87 1855.34 1440.87 1848.24 Q1440.87 1841.11 1439.04 1837.57 Q1437.23 1834 1433.6 1834 M1433.6 1830.3 Q1439.41 1830.3 1442.47 1834.9 Q1445.55 1839.49 1445.55 1848.24 Q1445.55 1856.96 1442.47 1861.57 Q1439.41 1866.15 1433.6 1866.15 Q1427.79 1866.15 1424.71 1861.57 Q1421.66 1856.96 1421.66 1848.24 Q1421.66 1839.49 1424.71 1834.9 Q1427.79 1830.3 1433.6 1830.3 Z\" fill=\"#000000\" fill-rule=\"evenodd\" fill-opacity=\"1\" /><path clip-path=\"url(#clip450)\" d=\"M1969.04 1830.92 L1991.26 1830.92 L1991.26 1832.91 L1978.72 1865.48 L1973.83 1865.48 L1985.64 1834.86 L1969.04 1834.86 L1969.04 1830.92 Z\" fill=\"#000000\" fill-rule=\"evenodd\" fill-opacity=\"1\" /><path clip-path=\"url(#clip450)\" d=\"M2000.43 1830.92 L2018.79 1830.92 L2018.79 1834.86 L2004.71 1834.86 L2004.71 1843.33 Q2005.73 1842.98 2006.75 1842.82 Q2007.77 1842.64 2008.79 1842.64 Q2014.57 1842.64 2017.95 1845.81 Q2021.33 1848.98 2021.33 1854.4 Q2021.33 1859.97 2017.86 1863.08 Q2014.39 1866.15 2008.07 1866.15 Q2005.89 1866.15 2003.62 1865.78 Q2001.38 1865.41 1998.97 1864.67 L1998.97 1859.97 Q2001.05 1861.11 2003.28 1861.66 Q2005.5 1862.22 2007.98 1862.22 Q2011.98 1862.22 2014.32 1860.11 Q2016.66 1858.01 2016.66 1854.4 Q2016.66 1850.78 2014.32 1848.68 Q2011.98 1846.57 2007.98 1846.57 Q2006.1 1846.57 2004.23 1846.99 Q2002.37 1847.4 2000.43 1848.28 L2000.43 1830.92 Z\" fill=\"#000000\" fill-rule=\"evenodd\" fill-opacity=\"1\" /><path clip-path=\"url(#clip450)\" d=\"M2531.19 1861.55 L2538.83 1861.55 L2538.83 1835.18 L2530.52 1836.85 L2530.52 1832.59 L2538.79 1830.92 L2543.46 1830.92 L2543.46 1861.55 L2551.1 1861.55 L2551.1 1865.48 L2531.19 1865.48 L2531.19 1861.55 Z\" fill=\"#000000\" fill-rule=\"evenodd\" fill-opacity=\"1\" /><path clip-path=\"url(#clip450)\" d=\"M2570.55 1834 Q2566.94 1834 2565.11 1837.57 Q2563.3 1841.11 2563.3 1848.24 Q2563.3 1855.34 2565.11 1858.91 Q2566.94 1862.45 2570.55 1862.45 Q2574.18 1862.45 2575.99 1858.91 Q2577.81 1855.34 2577.81 1848.24 Q2577.81 1841.11 2575.99 1837.57 Q2574.18 1834 2570.55 1834 M2570.55 1830.3 Q2576.36 1830.3 2579.41 1834.9 Q2582.49 1839.49 2582.49 1848.24 Q2582.49 1856.96 2579.41 1861.57 Q2576.36 1866.15 2570.55 1866.15 Q2564.74 1866.15 2561.66 1861.57 Q2558.6 1856.96 2558.6 1848.24 Q2558.6 1839.49 2561.66 1834.9 Q2564.74 1830.3 2570.55 1830.3 Z\" fill=\"#000000\" fill-rule=\"evenodd\" fill-opacity=\"1\" /><path clip-path=\"url(#clip450)\" d=\"M2600.71 1834 Q2597.1 1834 2595.27 1837.57 Q2593.46 1841.11 2593.46 1848.24 Q2593.46 1855.34 2595.27 1858.91 Q2597.1 1862.45 2600.71 1862.45 Q2604.34 1862.45 2606.15 1858.91 Q2607.98 1855.34 2607.98 1848.24 Q2607.98 1841.11 2606.15 1837.57 Q2604.34 1834 2600.71 1834 M2600.71 1830.3 Q2606.52 1830.3 2609.57 1834.9 Q2612.65 1839.49 2612.65 1848.24 Q2612.65 1856.96 2609.57 1861.57 Q2606.52 1866.15 2600.71 1866.15 Q2594.9 1866.15 2591.82 1861.57 Q2588.76 1856.96 2588.76 1848.24 Q2588.76 1839.49 2591.82 1834.9 Q2594.9 1830.3 2600.71 1830.3 Z\" fill=\"#000000\" fill-rule=\"evenodd\" fill-opacity=\"1\" /><polyline clip-path=\"url(#clip452)\" style=\"stroke:#000000; stroke-linecap:round; stroke-linejoin:round; stroke-width:2; stroke-opacity:0.1; fill:none\" points=\"\n",
       "  196.816,1615.69 2640.76,1615.69 \n",
       "  \"/>\n",
       "<polyline clip-path=\"url(#clip452)\" style=\"stroke:#000000; stroke-linecap:round; stroke-linejoin:round; stroke-width:2; stroke-opacity:0.1; fill:none\" points=\"\n",
       "  196.816,1385.13 2640.76,1385.13 \n",
       "  \"/>\n",
       "<polyline clip-path=\"url(#clip452)\" style=\"stroke:#000000; stroke-linecap:round; stroke-linejoin:round; stroke-width:2; stroke-opacity:0.1; fill:none\" points=\"\n",
       "  196.816,1154.57 2640.76,1154.57 \n",
       "  \"/>\n",
       "<polyline clip-path=\"url(#clip452)\" style=\"stroke:#000000; stroke-linecap:round; stroke-linejoin:round; stroke-width:2; stroke-opacity:0.1; fill:none\" points=\"\n",
       "  196.816,924.012 2640.76,924.012 \n",
       "  \"/>\n",
       "<polyline clip-path=\"url(#clip452)\" style=\"stroke:#000000; stroke-linecap:round; stroke-linejoin:round; stroke-width:2; stroke-opacity:0.1; fill:none\" points=\"\n",
       "  196.816,693.451 2640.76,693.451 \n",
       "  \"/>\n",
       "<polyline clip-path=\"url(#clip452)\" style=\"stroke:#000000; stroke-linecap:round; stroke-linejoin:round; stroke-width:2; stroke-opacity:0.1; fill:none\" points=\"\n",
       "  196.816,462.891 2640.76,462.891 \n",
       "  \"/>\n",
       "<polyline clip-path=\"url(#clip452)\" style=\"stroke:#000000; stroke-linecap:round; stroke-linejoin:round; stroke-width:2; stroke-opacity:0.1; fill:none\" points=\"\n",
       "  196.816,232.33 2640.76,232.33 \n",
       "  \"/>\n",
       "<polyline clip-path=\"url(#clip450)\" style=\"stroke:#000000; stroke-linecap:round; stroke-linejoin:round; stroke-width:4; stroke-opacity:1; fill:none\" points=\"\n",
       "  196.816,1800.78 196.816,47.2441 \n",
       "  \"/>\n",
       "<polyline clip-path=\"url(#clip450)\" style=\"stroke:#000000; stroke-linecap:round; stroke-linejoin:round; stroke-width:4; stroke-opacity:1; fill:none\" points=\"\n",
       "  196.816,1615.69 215.714,1615.69 \n",
       "  \"/>\n",
       "<polyline clip-path=\"url(#clip450)\" style=\"stroke:#000000; stroke-linecap:round; stroke-linejoin:round; stroke-width:4; stroke-opacity:1; fill:none\" points=\"\n",
       "  196.816,1385.13 215.714,1385.13 \n",
       "  \"/>\n",
       "<polyline clip-path=\"url(#clip450)\" style=\"stroke:#000000; stroke-linecap:round; stroke-linejoin:round; stroke-width:4; stroke-opacity:1; fill:none\" points=\"\n",
       "  196.816,1154.57 215.714,1154.57 \n",
       "  \"/>\n",
       "<polyline clip-path=\"url(#clip450)\" style=\"stroke:#000000; stroke-linecap:round; stroke-linejoin:round; stroke-width:4; stroke-opacity:1; fill:none\" points=\"\n",
       "  196.816,924.012 215.714,924.012 \n",
       "  \"/>\n",
       "<polyline clip-path=\"url(#clip450)\" style=\"stroke:#000000; stroke-linecap:round; stroke-linejoin:round; stroke-width:4; stroke-opacity:1; fill:none\" points=\"\n",
       "  196.816,693.451 215.714,693.451 \n",
       "  \"/>\n",
       "<polyline clip-path=\"url(#clip450)\" style=\"stroke:#000000; stroke-linecap:round; stroke-linejoin:round; stroke-width:4; stroke-opacity:1; fill:none\" points=\"\n",
       "  196.816,462.891 215.714,462.891 \n",
       "  \"/>\n",
       "<polyline clip-path=\"url(#clip450)\" style=\"stroke:#000000; stroke-linecap:round; stroke-linejoin:round; stroke-width:4; stroke-opacity:1; fill:none\" points=\"\n",
       "  196.816,232.33 215.714,232.33 \n",
       "  \"/>\n",
       "<path clip-path=\"url(#clip450)\" d=\"M64.6215 1616.14 L94.2973 1616.14 L94.2973 1620.08 L64.6215 1620.08 L64.6215 1616.14 Z\" fill=\"#000000\" fill-rule=\"evenodd\" fill-opacity=\"1\" /><path clip-path=\"url(#clip450)\" d=\"M118.556 1614.34 Q121.913 1615.06 123.788 1617.32 Q125.686 1619.59 125.686 1622.93 Q125.686 1628.04 122.167 1630.84 Q118.649 1633.64 112.168 1633.64 Q109.992 1633.64 107.677 1633.2 Q105.385 1632.79 102.931 1631.93 L102.931 1627.42 Q104.876 1628.55 107.191 1629.13 Q109.506 1629.71 112.029 1629.71 Q116.427 1629.71 118.718 1627.97 Q121.033 1626.24 121.033 1622.93 Q121.033 1619.87 118.88 1618.16 Q116.751 1616.42 112.931 1616.42 L108.904 1616.42 L108.904 1612.58 L113.117 1612.58 Q116.566 1612.58 118.394 1611.21 Q120.223 1609.82 120.223 1607.23 Q120.223 1604.57 118.325 1603.16 Q116.45 1601.72 112.931 1601.72 Q111.01 1601.72 108.811 1602.14 Q106.612 1602.56 103.973 1603.44 L103.973 1599.27 Q106.635 1598.53 108.95 1598.16 Q111.288 1597.79 113.348 1597.79 Q118.672 1597.79 121.774 1600.22 Q124.876 1602.63 124.876 1606.75 Q124.876 1609.62 123.232 1611.61 Q121.589 1613.57 118.556 1614.34 Z\" fill=\"#000000\" fill-rule=\"evenodd\" fill-opacity=\"1\" /><path clip-path=\"url(#clip450)\" d=\"M144.552 1601.49 Q140.941 1601.49 139.112 1605.06 Q137.306 1608.6 137.306 1615.73 Q137.306 1622.83 139.112 1626.4 Q140.941 1629.94 144.552 1629.94 Q148.186 1629.94 149.991 1626.4 Q151.82 1622.83 151.82 1615.73 Q151.82 1608.6 149.991 1605.06 Q148.186 1601.49 144.552 1601.49 M144.552 1597.79 Q150.362 1597.79 153.417 1602.39 Q156.496 1606.98 156.496 1615.73 Q156.496 1624.45 153.417 1629.06 Q150.362 1633.64 144.552 1633.64 Q138.741 1633.64 135.663 1629.06 Q132.607 1624.45 132.607 1615.73 Q132.607 1606.98 135.663 1602.39 Q138.741 1597.79 144.552 1597.79 Z\" fill=\"#000000\" fill-rule=\"evenodd\" fill-opacity=\"1\" /><path clip-path=\"url(#clip450)\" d=\"M64.6215 1385.58 L94.2973 1385.58 L94.2973 1389.52 L64.6215 1389.52 L64.6215 1385.58 Z\" fill=\"#000000\" fill-rule=\"evenodd\" fill-opacity=\"1\" /><path clip-path=\"url(#clip450)\" d=\"M108.418 1398.48 L124.737 1398.48 L124.737 1402.41 L102.793 1402.41 L102.793 1398.48 Q105.455 1395.72 110.038 1391.09 Q114.644 1386.44 115.825 1385.1 Q118.07 1382.57 118.95 1380.84 Q119.853 1379.08 119.853 1377.39 Q119.853 1374.63 117.908 1372.9 Q115.987 1371.16 112.885 1371.16 Q110.686 1371.16 108.232 1371.93 Q105.802 1372.69 103.024 1374.24 L103.024 1369.52 Q105.848 1368.38 108.302 1367.81 Q110.756 1367.23 112.793 1367.23 Q118.163 1367.23 121.357 1369.91 Q124.552 1372.6 124.552 1377.09 Q124.552 1379.22 123.742 1381.14 Q122.955 1383.04 120.848 1385.63 Q120.269 1386.3 117.168 1389.52 Q114.066 1392.71 108.418 1398.48 Z\" fill=\"#000000\" fill-rule=\"evenodd\" fill-opacity=\"1\" /><path clip-path=\"url(#clip450)\" d=\"M144.552 1370.93 Q140.941 1370.93 139.112 1374.5 Q137.306 1378.04 137.306 1385.17 Q137.306 1392.27 139.112 1395.84 Q140.941 1399.38 144.552 1399.38 Q148.186 1399.38 149.991 1395.84 Q151.82 1392.27 151.82 1385.17 Q151.82 1378.04 149.991 1374.5 Q148.186 1370.93 144.552 1370.93 M144.552 1367.23 Q150.362 1367.23 153.417 1371.83 Q156.496 1376.42 156.496 1385.17 Q156.496 1393.89 153.417 1398.5 Q150.362 1403.08 144.552 1403.08 Q138.741 1403.08 135.663 1398.5 Q132.607 1393.89 132.607 1385.17 Q132.607 1376.42 135.663 1371.83 Q138.741 1367.23 144.552 1367.23 Z\" fill=\"#000000\" fill-rule=\"evenodd\" fill-opacity=\"1\" /><path clip-path=\"url(#clip450)\" d=\"M64.6215 1155.02 L94.2973 1155.02 L94.2973 1158.96 L64.6215 1158.96 L64.6215 1155.02 Z\" fill=\"#000000\" fill-rule=\"evenodd\" fill-opacity=\"1\" /><path clip-path=\"url(#clip450)\" d=\"M105.2 1167.92 L112.839 1167.92 L112.839 1141.55 L104.529 1143.22 L104.529 1138.96 L112.793 1137.29 L117.468 1137.29 L117.468 1167.92 L125.107 1167.92 L125.107 1171.85 L105.2 1171.85 L105.2 1167.92 Z\" fill=\"#000000\" fill-rule=\"evenodd\" fill-opacity=\"1\" /><path clip-path=\"url(#clip450)\" d=\"M144.552 1140.37 Q140.941 1140.37 139.112 1143.94 Q137.306 1147.48 137.306 1154.61 Q137.306 1161.71 139.112 1165.28 Q140.941 1168.82 144.552 1168.82 Q148.186 1168.82 149.991 1165.28 Q151.82 1161.71 151.82 1154.61 Q151.82 1147.48 149.991 1143.94 Q148.186 1140.37 144.552 1140.37 M144.552 1136.67 Q150.362 1136.67 153.417 1141.27 Q156.496 1145.86 156.496 1154.61 Q156.496 1163.33 153.417 1167.94 Q150.362 1172.52 144.552 1172.52 Q138.741 1172.52 135.663 1167.94 Q132.607 1163.33 132.607 1154.61 Q132.607 1145.86 135.663 1141.27 Q138.741 1136.67 144.552 1136.67 Z\" fill=\"#000000\" fill-rule=\"evenodd\" fill-opacity=\"1\" /><path clip-path=\"url(#clip450)\" d=\"M144.552 909.81 Q140.941 909.81 139.112 913.375 Q137.306 916.917 137.306 924.046 Q137.306 931.153 139.112 934.717 Q140.941 938.259 144.552 938.259 Q148.186 938.259 149.991 934.717 Q151.82 931.153 151.82 924.046 Q151.82 916.917 149.991 913.375 Q148.186 909.81 144.552 909.81 M144.552 906.107 Q150.362 906.107 153.417 910.713 Q156.496 915.296 156.496 924.046 Q156.496 932.773 153.417 937.38 Q150.362 941.963 144.552 941.963 Q138.741 941.963 135.663 937.38 Q132.607 932.773 132.607 924.046 Q132.607 915.296 135.663 910.713 Q138.741 906.107 144.552 906.107 Z\" fill=\"#000000\" fill-rule=\"evenodd\" fill-opacity=\"1\" /><path clip-path=\"url(#clip450)\" d=\"M105.2 706.796 L112.839 706.796 L112.839 680.43 L104.529 682.097 L104.529 677.838 L112.793 676.171 L117.468 676.171 L117.468 706.796 L125.107 706.796 L125.107 710.731 L105.2 710.731 L105.2 706.796 Z\" fill=\"#000000\" fill-rule=\"evenodd\" fill-opacity=\"1\" /><path clip-path=\"url(#clip450)\" d=\"M144.552 679.25 Q140.941 679.25 139.112 682.815 Q137.306 686.356 137.306 693.486 Q137.306 700.592 139.112 704.157 Q140.941 707.699 144.552 707.699 Q148.186 707.699 149.991 704.157 Q151.82 700.592 151.82 693.486 Q151.82 686.356 149.991 682.815 Q148.186 679.25 144.552 679.25 M144.552 675.546 Q150.362 675.546 153.417 680.153 Q156.496 684.736 156.496 693.486 Q156.496 702.213 153.417 706.819 Q150.362 711.402 144.552 711.402 Q138.741 711.402 135.663 706.819 Q132.607 702.213 132.607 693.486 Q132.607 684.736 135.663 680.153 Q138.741 675.546 144.552 675.546 Z\" fill=\"#000000\" fill-rule=\"evenodd\" fill-opacity=\"1\" /><path clip-path=\"url(#clip450)\" d=\"M108.418 476.236 L124.737 476.236 L124.737 480.171 L102.793 480.171 L102.793 476.236 Q105.455 473.481 110.038 468.851 Q114.644 464.199 115.825 462.856 Q118.07 460.333 118.95 458.597 Q119.853 456.838 119.853 455.148 Q119.853 452.393 117.908 450.657 Q115.987 448.921 112.885 448.921 Q110.686 448.921 108.232 449.685 Q105.802 450.449 103.024 452 L103.024 447.277 Q105.848 446.143 108.302 445.564 Q110.756 444.986 112.793 444.986 Q118.163 444.986 121.357 447.671 Q124.552 450.356 124.552 454.847 Q124.552 456.976 123.742 458.898 Q122.955 460.796 120.848 463.388 Q120.269 464.06 117.168 467.277 Q114.066 470.472 108.418 476.236 Z\" fill=\"#000000\" fill-rule=\"evenodd\" fill-opacity=\"1\" /><path clip-path=\"url(#clip450)\" d=\"M144.552 448.689 Q140.941 448.689 139.112 452.254 Q137.306 455.796 137.306 462.926 Q137.306 470.032 139.112 473.597 Q140.941 477.138 144.552 477.138 Q148.186 477.138 149.991 473.597 Q151.82 470.032 151.82 462.926 Q151.82 455.796 149.991 452.254 Q148.186 448.689 144.552 448.689 M144.552 444.986 Q150.362 444.986 153.417 449.592 Q156.496 454.176 156.496 462.926 Q156.496 471.652 153.417 476.259 Q150.362 480.842 144.552 480.842 Q138.741 480.842 135.663 476.259 Q132.607 471.652 132.607 462.926 Q132.607 454.176 135.663 449.592 Q138.741 444.986 144.552 444.986 Z\" fill=\"#000000\" fill-rule=\"evenodd\" fill-opacity=\"1\" /><path clip-path=\"url(#clip450)\" d=\"M118.556 230.976 Q121.913 231.694 123.788 233.962 Q125.686 236.231 125.686 239.564 Q125.686 244.68 122.167 247.481 Q118.649 250.282 112.168 250.282 Q109.992 250.282 107.677 249.842 Q105.385 249.425 102.931 248.569 L102.931 244.055 Q104.876 245.189 107.191 245.768 Q109.506 246.347 112.029 246.347 Q116.427 246.347 118.718 244.61 Q121.033 242.874 121.033 239.564 Q121.033 236.509 118.88 234.796 Q116.751 233.06 112.931 233.06 L108.904 233.06 L108.904 229.217 L113.117 229.217 Q116.566 229.217 118.394 227.851 Q120.223 226.462 120.223 223.87 Q120.223 221.208 118.325 219.796 Q116.45 218.361 112.931 218.361 Q111.01 218.361 108.811 218.777 Q106.612 219.194 103.973 220.074 L103.973 215.907 Q106.635 215.166 108.95 214.796 Q111.288 214.425 113.348 214.425 Q118.672 214.425 121.774 216.856 Q124.876 219.263 124.876 223.384 Q124.876 226.254 123.232 228.245 Q121.589 230.212 118.556 230.976 Z\" fill=\"#000000\" fill-rule=\"evenodd\" fill-opacity=\"1\" /><path clip-path=\"url(#clip450)\" d=\"M144.552 218.129 Q140.941 218.129 139.112 221.694 Q137.306 225.236 137.306 232.365 Q137.306 239.472 139.112 243.036 Q140.941 246.578 144.552 246.578 Q148.186 246.578 149.991 243.036 Q151.82 239.472 151.82 232.365 Q151.82 225.236 149.991 221.694 Q148.186 218.129 144.552 218.129 M144.552 214.425 Q150.362 214.425 153.417 219.032 Q156.496 223.615 156.496 232.365 Q156.496 241.092 153.417 245.698 Q150.362 250.282 144.552 250.282 Q138.741 250.282 135.663 245.698 Q132.607 241.092 132.607 232.365 Q132.607 223.615 135.663 219.032 Q138.741 214.425 144.552 214.425 Z\" fill=\"#000000\" fill-rule=\"evenodd\" fill-opacity=\"1\" /><polyline clip-path=\"url(#clip452)\" style=\"stroke:#009af9; stroke-linecap:round; stroke-linejoin:round; stroke-width:4; stroke-opacity:1; fill:none\" points=\"\n",
       "  265.984,924.012 269.737,922.137 273.489,920.275 277.242,918.438 280.995,916.638 285.332,914.619 289.67,912.683 291.838,911.751 294.007,910.847 296.176,909.971 \n",
       "  298.344,909.127 300.513,908.316 302.682,907.539 304.85,906.799 307.019,906.097 309.188,905.434 311.356,904.813 313.525,904.234 315.694,903.699 317.863,903.208 \n",
       "  320.031,902.764 322.2,902.367 324.369,902.017 326.537,901.716 328.706,901.465 330.875,901.263 333.043,901.112 335.212,901.011 337.381,900.961 339.549,900.962 \n",
       "  341.718,901.015 343.887,901.118 346.055,901.271 348.224,901.475 350.393,901.729 352.562,902.032 354.73,902.383 356.899,902.783 359.068,903.229 361.236,903.722 \n",
       "  363.405,904.259 365.574,904.84 367.742,905.463 369.911,906.127 372.08,906.831 374.248,907.573 376.417,908.351 378.586,909.164 380.754,910.01 382.923,910.886 \n",
       "  385.092,911.792 389.429,913.682 393.767,915.664 398.104,917.72 402.441,919.831 411.116,924.145 419.791,928.454 425.004,930.978 430.217,933.413 432.824,934.588 \n",
       "  435.43,935.728 438.037,936.831 440.643,937.893 443.25,938.911 445.857,939.882 448.463,940.801 451.07,941.667 453.676,942.477 456.283,943.227 458.89,943.916 \n",
       "  461.496,944.542 464.103,945.102 466.709,945.594 469.316,946.018 471.922,946.371 474.529,946.653 477.136,946.863 479.742,947 482.349,947.063 484.955,947.052 \n",
       "  487.562,946.968 490.168,946.811 492.775,946.581 495.382,946.278 497.988,945.905 500.595,945.462 503.201,944.95 505.405,944.465 507.609,943.933 509.813,943.356 \n",
       "  512.017,942.734 514.221,942.07 516.424,941.364 518.628,940.619 520.832,939.836 525.24,938.164 529.647,936.362 531.851,935.418 534.055,934.448 536.259,933.453 \n",
       "  538.463,932.438 542.87,930.351 547.278,928.206 551.686,926.024 556.093,923.822 560.501,921.623 564.909,919.445 569.316,917.309 573.724,915.234 576.118,914.14 \n",
       "  578.512,913.072 580.906,912.033 583.3,911.027 585.694,910.056 588.088,909.122 590.482,908.229 592.876,907.378 595.27,906.572 597.664,905.813 600.058,905.103 \n",
       "  602.452,904.444 604.846,903.837 607.24,903.285 609.634,902.789 612.028,902.35 614.422,901.969 616.816,901.648 619.21,901.387 621.604,901.187 623.998,901.049 \n",
       "  626.391,900.972 628.785,900.958 631.179,901.005 633.573,901.115 635.967,901.286 638.361,901.519 640.755,901.812 643.149,902.165 645.543,902.577 647.937,903.046 \n",
       "  650.331,903.572 652.538,904.106 654.745,904.686 656.952,905.31 659.159,905.976 661.366,906.684 663.573,907.431 665.781,908.217 667.988,909.039 670.195,909.895 \n",
       "  672.402,910.783 674.609,911.702 676.816,912.648 681.23,914.618 685.644,916.673 694.472,920.966 703.3,925.371 707.714,927.564 712.128,929.725 716.542,931.834 \n",
       "  720.956,933.871 725.689,935.955 730.421,937.912 732.787,938.837 735.153,939.723 737.52,940.568 739.886,941.369 742.252,942.125 744.618,942.833 746.984,943.491 \n",
       "  749.351,944.098 751.717,944.652 754.083,945.152 756.449,945.596 758.815,945.983 761.181,946.313 763.548,946.584 765.914,946.795 768.28,946.946 770.646,947.037 \n",
       "  773.012,947.068 775.378,947.037 777.745,946.946 780.111,946.795 782.477,946.584 784.843,946.313 787.209,945.984 789.576,945.596 791.942,945.152 794.308,944.652 \n",
       "  796.674,944.098 799.415,943.39 802.157,942.614 804.898,941.772 807.64,940.867 810.381,939.902 813.123,938.882 815.864,937.808 818.606,936.686 821.347,935.52 \n",
       "  824.089,934.312 826.83,933.069 829.571,931.793 835.054,929.163 840.537,926.461 846.02,923.724 851.503,920.992 856.986,918.301 862.469,915.692 865.21,914.429 \n",
       "  867.952,913.2 870.693,912.009 873.435,910.861 876.176,909.759 878.917,908.707 881.659,907.709 884.4,906.77 886.837,905.985 889.273,905.251 891.709,904.57 \n",
       "  894.145,903.942 896.582,903.371 899.018,902.857 901.454,902.403 903.891,902.008 906.327,901.675 908.763,901.404 911.199,901.197 913.636,901.053 916.072,900.973 \n",
       "  918.508,900.958 920.944,901.006 923.381,901.119 925.817,901.296 928.253,901.537 930.69,901.84 933.126,902.205 935.562,902.63 937.998,903.116 940.435,903.659 \n",
       "  942.871,904.26 945.307,904.916 947.743,905.624 950.18,906.385 952.616,907.194 955.052,908.051 957.489,908.951 959.925,909.894 962.361,910.877 966.634,912.686 \n",
       "  970.907,914.593 975.179,916.581 979.452,918.632 987.998,922.856 996.543,927.118 1000.82,929.219 1005.09,931.275 1009.36,933.268 1013.63,935.182 1017.91,937.001 \n",
       "  1022.18,938.708 1024.32,939.515 1026.45,940.288 1028.59,941.027 1030.73,941.729 1033.05,942.452 1035.38,943.127 1037.71,943.754 1040.04,944.33 1042.37,944.854 \n",
       "  1044.7,945.325 1047.03,945.742 1049.36,946.103 1051.69,946.408 1054.02,946.656 1056.35,946.846 1058.68,946.978 1061.01,947.051 1063.34,947.066 1065.66,947.021 \n",
       "  1067.99,946.918 1070.32,946.757 1072.65,946.537 1074.98,946.26 1077.31,945.927 1079.64,945.537 1081.97,945.093 1084.3,944.594 1086.63,944.043 1088.96,943.441 \n",
       "  1091.29,942.79 1093.62,942.091 1095.94,941.345 1098.27,940.555 1100.6,939.723 1102.93,938.851 1105.26,937.942 1109.95,936.006 1114.63,933.946 1119.32,931.784 \n",
       "  1124.01,929.542 1133.38,924.91 1142.75,920.241 1147.44,917.953 1152.12,915.728 1156.81,913.587 1161.5,911.555 1163.84,910.586 1166.18,909.651 1168.52,908.753 \n",
       "  1170.87,907.895 1173.21,907.078 1175.55,906.306 1177.9,905.578 1180.24,904.899 1182.83,904.205 1185.42,903.573 1188.01,903.006 1190.6,902.506 1193.19,902.073 \n",
       "  1195.78,901.709 1198.37,901.416 1200.96,901.194 1203.56,901.045 1206.15,900.967 1208.74,900.962 1211.33,901.03 1213.92,901.171 1216.51,901.384 1219.1,901.668 \n",
       "  1221.69,902.022 1224.28,902.446 1226.87,902.938 1229.46,903.496 1232.05,904.12 1234.64,904.805 1237.23,905.552 1239.82,906.357 1242.41,907.217 1245,908.131 \n",
       "  1247.6,909.094 1250.19,910.105 1252.78,911.16 1255.37,912.255 1257.96,913.387 1260.55,914.553 1263.14,915.748 1268.07,918.092 1273,920.504 1277.93,922.955 \n",
       "  1282.86,925.419 1287.79,927.866 1292.72,930.27 1297.65,932.602 1302.58,934.836 1305.04,935.908 1307.51,936.946 1309.97,937.948 1312.44,938.909 1314.9,939.828 \n",
       "  1317.37,940.702 1319.83,941.528 1322.3,942.304 1324.76,943.027 1327.23,943.697 1329.69,944.31 1332.16,944.865 1334.62,945.361 1337.08,945.795 1339.55,946.168 \n",
       "  1342.01,946.477 1344.58,946.73 1347.14,946.913 1349.7,947.026 1352.27,947.067 1354.83,947.038 1357.39,946.937 1359.95,946.765 1362.52,946.523 1365.08,946.211 \n",
       "  1367.64,945.831 1370.21,945.384 1372.77,944.87 1375.33,944.292 1377.9,943.652 1380.46,942.951 1383.02,942.191 1385.58,941.375 1388.15,940.506 1390.71,939.585 \n",
       "  1393.27,938.617 1395.84,937.603 1398.4,936.548 1400.96,935.453 1403.52,934.324 1408.65,931.973 1413.78,929.523 1418.9,927.006 1424.03,924.451 1432.66,920.155 \n",
       "  1441.29,915.993 1445.6,914.008 1449.92,912.111 1452.07,911.2 1454.23,910.318 1456.39,909.465 1458.55,908.645 1460.7,907.858 1462.86,907.106 1465.02,906.391 \n",
       "  1467.18,905.715 1469.33,905.079 1471.49,904.484 1473.65,903.932 1475.81,903.424 1477.96,902.961 1480.12,902.544 1482.28,902.175 1484.43,901.852 1486.59,901.579 \n",
       "  1488.75,901.354 1490.91,901.179 1493.06,901.055 1495.7,900.97 1498.33,900.961 1500.97,901.027 1503.6,901.168 1506.23,901.383 1508.87,901.672 1511.5,902.034 \n",
       "  1514.14,902.468 1516.77,902.972 1519.4,903.545 1522.04,904.184 1524.67,904.889 1527.31,905.655 1529.94,906.481 1532.57,907.365 1535.21,908.303 1537.84,909.292 \n",
       "  1540.48,910.329 1543.11,911.411 1545.74,912.534 1548.38,913.694 1551.01,914.888 1553.65,916.111 1556.28,917.361 1566.82,922.534 1577.35,927.784 1582.18,930.139 \n",
       "  1587,932.428 1591.83,934.624 1596.65,936.704 1599.07,937.693 1601.48,938.645 1603.89,939.557 1606.31,940.426 1608.72,941.251 1611.13,942.028 1613.54,942.756 \n",
       "  1615.96,943.432 1618.37,944.055 1620.78,944.624 1623.2,945.136 1625.61,945.59 1628.02,945.985 1630.43,946.32 1632.85,946.594 1635.26,946.807 1637.67,946.956 \n",
       "  1640.09,947.043 1642.5,947.067 1644.91,947.028 1647.32,946.926 1649.74,946.761 1652.15,946.533 1654.56,946.245 1656.79,945.924 1659.02,945.552 1661.25,945.129 \n",
       "  1663.48,944.658 1665.71,944.138 1667.93,943.571 1670.16,942.958 1672.39,942.301 1674.62,941.602 1676.85,940.861 1679.08,940.082 1681.3,939.264 1683.53,938.411 \n",
       "  1685.76,937.524 1687.99,936.606 1690.22,935.658 1694.68,933.684 1699.13,931.619 1703.59,929.483 1708.05,927.296 1716.96,922.851 1725.87,918.449 1730.39,916.288 \n",
       "  1734.9,914.202 1739.42,912.209 1743.93,910.33 1746.19,909.438 1748.45,908.581 1750.7,907.761 1752.96,906.98 1755.22,906.24 1757.48,905.543 1759.73,904.889 \n",
       "  1761.99,904.282 1764.25,903.722 1766.51,903.21 1768.76,902.749 1771.02,902.338 1773.28,901.979 1775.54,901.673 1777.79,901.421 1780.05,901.222 1782.31,901.078 \n",
       "  1784.57,900.99 1786.82,900.956 1789.08,900.977 1791.34,901.054 1793.6,901.186 1795.85,901.372 1798.11,901.613 1800.64,901.947 1803.17,902.346 1805.7,902.812 \n",
       "  1808.23,903.34 1810.76,903.932 1813.29,904.583 1815.82,905.293 1818.35,906.059 1820.88,906.88 1823.41,907.752 1825.94,908.672 1828.47,909.639 1831,910.65 \n",
       "  1833.53,911.7 1836.06,912.788 1838.59,913.909 1843.65,916.239 1848.71,918.663 1853.77,921.151 1858.83,923.674 1863.89,926.2 1868.95,928.7 1874.01,931.144 \n",
       "  1879.07,933.502 1881.36,934.535 1883.65,935.541 1885.94,936.519 1888.24,937.466 1890.53,938.38 1892.82,939.258 1895.11,940.099 1897.41,940.9 1899.7,941.659 \n",
       "  1901.99,942.375 1904.28,943.045 1906.58,943.668 1908.87,944.242 1911.16,944.767 1913.45,945.24 1915.75,945.661 1918.04,946.028 1920.33,946.341 1922.62,946.599 \n",
       "  1924.92,946.801 1927.21,946.947 1929.5,947.035 1931.79,947.067 1934.09,947.043 1936.38,946.961 1938.67,946.822 1940.96,946.627 1943.26,946.376 1945.55,946.07 \n",
       "  1947.84,945.71 1950.13,945.295 1952.43,944.829 1955.05,944.231 1957.67,943.568 1960.3,942.842 1962.92,942.054 1965.55,941.208 1968.17,940.307 1970.8,939.353 \n",
       "  1973.42,938.349 1976.05,937.298 1978.67,936.205 1981.3,935.072 1983.92,933.903 1989.17,931.473 1994.42,928.947 2004.92,923.736 2015.42,918.539 2020.67,916.03 \n",
       "  2025.92,913.625 2028.54,912.47 2031.17,911.354 2033.79,910.278 2036.42,909.247 2038.85,908.334 2041.28,907.465 2043.71,906.643 2046.14,905.868 2048.57,905.144 \n",
       "  2051,904.472 2053.43,903.854 2055.86,903.293 2058.29,902.789 2060.72,902.343 2063.15,901.958 2065.58,901.635 2068.01,901.373 2070.44,901.174 2072.87,901.039 \n",
       "  2075.3,900.968 2077.73,900.96 2080.16,901.017 2082.59,901.137 2085.02,901.321 2087.45,901.568 2089.88,901.877 2092.31,902.248 2094.74,902.679 2097.17,903.169 \n",
       "  2099.6,903.718 2102.03,904.322 2104.46,904.981 2106.89,905.694 2109.32,906.457 2111.76,907.268 2114.19,908.127 2116.58,909.016 2118.98,909.946 2121.37,910.914 \n",
       "  2123.77,911.917 2126.17,912.952 2128.56,914.018 2130.96,915.111 2133.35,916.227 2142.94,920.873 2152.52,925.654 2157.31,928.03 2162.1,930.364 2166.9,932.629 \n",
       "  2171.69,934.8 2174.08,935.844 2176.48,936.856 2178.88,937.833 2181.27,938.773 2183.67,939.673 2186.06,940.53 2188.46,941.343 2190.86,942.11 2193.18,942.807 \n",
       "  2195.51,943.456 2197.83,944.056 2200.16,944.605 2202.49,945.102 2204.81,945.545 2207.14,945.933 2209.47,946.265 2211.79,946.541 2214.12,946.759 2216.45,946.92 \n",
       "  2218.77,947.022 2221.1,947.066 2223.42,947.051 2225.75,946.977 2228.08,946.845 2230.4,946.655 2232.73,946.407 2235.06,946.102 2237.38,945.741 2239.71,945.325 \n",
       "  2242.03,944.855 2244.36,944.331 2246.69,943.756 2249.01,943.131 2251.34,942.456 2253.67,941.735 2255.99,940.969 2258.32,940.16 2260.64,939.31 2262.97,938.42 \n",
       "  2265.3,937.494 2270.07,935.491 2274.84,933.365 2279.61,931.14 2284.37,928.838 2293.91,924.104 2303.45,919.367 2308.22,917.06 2312.99,914.827 2317.76,912.693 \n",
       "  2322.53,910.679 2324.92,909.725 2327.3,908.809 2329.68,907.933 2332.07,907.1 2334.45,906.313 2336.84,905.573 2339.22,904.882 2341.61,904.242 2344.22,903.602 \n",
       "  2346.83,903.027 2349.45,902.52 2352.06,902.082 2354.67,901.714 2357.29,901.417 2359.9,901.194 2362.51,901.043 2365.12,900.966 2367.74,900.963 2370.35,901.034 \n",
       "  2372.96,901.179 2375.57,901.397 2378.19,901.688 2380.8,902.05 2383.41,902.483 2386.03,902.985 2388.64,903.555 2391.25,904.19 2393.86,904.888 2396.48,905.648 \n",
       "  2399.09,906.467 2401.7,907.343 2404.31,908.272 2406.93,909.251 2409.54,910.278 2412.15,911.348 2414.77,912.46 2417.38,913.608 2419.99,914.79 2422.6,916.002 \n",
       "  2425.22,917.239 2432.81,920.942 2440.4,924.728 2447.99,928.495 2455.58,932.141 2459.38,933.887 2463.17,935.567 2466.97,937.168 2470.76,938.68 2474.56,940.093 \n",
       "  2478.35,941.397 2480.25,942.005 2482.15,942.583 2484.05,943.129 2485.94,943.643 2487.84,944.124 2489.74,944.571 2491.64,944.983 2493.53,945.359 2495.43,945.7 \n",
       "  2497.33,946.003 2499.23,946.269 2501.13,946.498 2503.02,946.688 2504.92,946.841 2506.82,946.954 2508.72,947.029 2510.61,947.064 2512.51,947.061 2514.41,947.018 \n",
       "  2516.31,946.937 2518.21,946.817 2520.1,946.658 2522,946.461 2523.9,946.225 2525.8,945.953 2527.69,945.643 2529.59,945.296 2531.49,944.913 2533.39,944.495 \n",
       "  2535.28,944.042 2537.18,943.556 2539.08,943.036 2540.98,942.484 2542.88,941.901 2544.77,941.287 2546.67,940.644 2549.79,939.529 2552.9,938.342 2556.01,937.091 \n",
       "  2559.13,935.779 2562.24,934.415 2565.36,933.002 2568.47,931.549 2571.59,930.061 \n",
       "  \"/>\n",
       "</svg>\n"
      ]
     },
     "execution_count": 31,
     "metadata": {},
     "output_type": "execute_result"
    }
   ],
   "source": [
    "using SymPy, Plots\n",
    "@vars x real = true\n",
    "f(x) = sin(x/2)\n",
    "plot(f(x), 0, 100, aspect_ratio = 1, label = \"\")"
   ]
  },
  {
   "cell_type": "code",
   "execution_count": 32,
   "id": "487a4585",
   "metadata": {},
   "outputs": [
    {
     "data": {
      "text/plain": [
       "(10.5659170593762, 5.20308427454097e-8)"
      ]
     },
     "execution_count": 32,
     "metadata": {},
     "output_type": "execute_result"
    }
   ],
   "source": [
    "using QuadGK\n",
    "quadgk(sqrt(1+diff(f(x))^2), 0, 10)"
   ]
  },
  {
   "cell_type": "code",
   "execution_count": 33,
   "id": "ed677420",
   "metadata": {
    "results": "hidden"
   },
   "outputs": [],
   "source": [
    "#| echo: false\n",
    "using QuizQuestions, SymPy\n",
    "nothing"
   ]
  },
  {
   "cell_type": "code",
   "execution_count": 34,
   "id": "f2c4c082",
   "metadata": {
    "hold": true
   },
   "outputs": [
    {
     "data": {
      "text/html": [
       "<script>\n",
       "if (typeof quizquestions_scorecard === 'undefined') {\n",
       "   quizquestions_scorecard = {};\n",
       "}\n",
       "var ID = \"scbtAeKT\"\n",
       "if (typeof quizquestions_scorecard[ID] === 'undefined') {\n",
       "      quizquestions_scorecard[ID] = {attempts: 0, correct: false};\n",
       "}\n",
       "</script>\n",
       "<form class=\"mx-2 my-3 mw-100\" name='WeaveQuestion' data-id='scbtAeKT' data-controltype=''>\n",
       "  <div class='form-group '>\n",
       "    <div class='controls'>\n",
       "      <div class=\"form\" id=\"controls_scbtAeKT\">\n",
       "        <div style=\"padding-top: 5px\">\n",
       "    </br>\n",
       "<div class=\"input-group\">\n",
       "    <input id=\"scbtAeKT\" type=\"number\" class=\"form-control\" placeholder=\"Respuesta numérica\">\n",
       "    <span  class=\"input-group-append\" href=\"#\" title=\"Introducir hasta 5 decimales\">&nbsp;🎁</span>\n",
       "</div>\n",
       "\n",
       "    \n",
       "        </div>\n",
       "      </div>\n",
       "      <div id='scbtAeKT_message' style=\"padding-bottom: 15px\"></div>\n",
       "    </div>\n",
       "  </div>\n",
       "</form>\n",
       "\n",
       "<script text='text/javascript'>\n",
       "document.getElementById(\"scbtAeKT\").addEventListener(\"change\", function() {\n",
       "  var correct = (Math.abs(this.value - 2.828427124746189986581074985903742114776176941671864896353359475981464956924204) <= 1.0e-5);\n",
       "  var msgBox = document.getElementById('scbtAeKT_message');\n",
       "  \n",
       "    quizquestions_scorecard[\"scbtAeKT\"][\"attempts\"] += 1;\n",
       "\n",
       "  if(correct) {\n",
       "    msgBox.innerHTML = \"<div class='pluto-output admonition note alert alert-success'><span> 👍&nbsp; Correcto </span></div>\";\n",
       "    var explanation = document.getElementById(\"explanation_scbtAeKT\")\n",
       "    if (explanation != null) {\n",
       "       explanation.style.display = \"none\";\n",
       "    }\n",
       "      quizquestions_scorecard[\"scbtAeKT\"][\"correct\"] = true;\n",
       "  if (typeof score_summary !== 'undefined') {\n",
       "     score_summary()\n",
       "  }\n",
       "\n",
       "\n",
       "  } else {\n",
       "    msgBox.innerHTML = \"<div class='pluto-output admonition alert alert-danger'><span>👎&nbsp; Incorrecto </span></div>\";\n",
       "    var explanation = document.getElementById(\"explanation_scbtAeKT\")\n",
       "    if (explanation != null) {\n",
       "       explanation.style.display = \"block\";\n",
       "    }\n",
       "      quizquestions_scorecard[\"scbtAeKT\"][\"correct\"] = false;\n",
       "  if (typeof score_summary !== 'undefined') {\n",
       "     score_summary()\n",
       "  }\n",
       "\n",
       "  }\n",
       "\n",
       "});\n",
       "\n",
       "</script>\n"
      ],
      "text/latex": [
       "\\vspace{18pt}*Hint: *\n",
       "\n",
       "Introducir hasta 5 decimales\n",
       "\n"
      ],
      "text/plain": [
       "QuizQuestions.Numericq(2.828427124746189986581074985903742114776176941671864896353359475981464956924204, 1.0e-5, \"\", \"\", \"Introducir hasta 5 decimales\", \"\", nothing)"
      ]
     },
     "execution_count": 34,
     "metadata": {},
     "output_type": "execute_result"
    }
   ],
   "source": [
    "#| echo: false\n",
    "@vars x real = true\n",
    "f(x) = sin(x)\n",
    "g(x) = cos(x)\n",
    "sol = N(integrate(abs(f(x)-g(x)), 0, pi))\n",
    "numericq(sol, 1e-5, hint=\"Introducir hasta 5 decimales\")"
   ]
  },
  {
   "cell_type": "code",
   "execution_count": 35,
   "id": "7bfa9c2e",
   "metadata": {
    "hold": true
   },
   "outputs": [
    {
     "data": {
      "text/html": [
       "<script>\n",
       "if (typeof quizquestions_scorecard === 'undefined') {\n",
       "   quizquestions_scorecard = {};\n",
       "}\n",
       "var ID = \"Q0M5vnIT\"\n",
       "if (typeof quizquestions_scorecard[ID] === 'undefined') {\n",
       "      quizquestions_scorecard[ID] = {attempts: 0, correct: false};\n",
       "}\n",
       "</script>\n",
       "<form class=\"mx-2 my-3 mw-100\" name='WeaveQuestion' data-id='Q0M5vnIT' data-controltype=''>\n",
       "  <div class='form-group '>\n",
       "    <div class='controls'>\n",
       "      <div class=\"form\" id=\"controls_Q0M5vnIT\">\n",
       "        <div style=\"padding-top: 5px\">\n",
       "    </br>\n",
       "<div class=\"input-group\">\n",
       "    <input id=\"Q0M5vnIT\" type=\"number\" class=\"form-control\" placeholder=\"Respuesta numérica\">\n",
       "    <span  class=\"input-group-append\" href=\"#\" title=\"Introducir hasta 5 decimales\">&nbsp;🎁</span>\n",
       "</div>\n",
       "\n",
       "    \n",
       "        </div>\n",
       "      </div>\n",
       "      <div id='Q0M5vnIT_message' style=\"padding-bottom: 15px\"></div>\n",
       "    </div>\n",
       "  </div>\n",
       "</form>\n",
       "\n",
       "<script text='text/javascript'>\n",
       "document.getElementById(\"Q0M5vnIT\").addEventListener(\"change\", function() {\n",
       "  var correct = (Math.abs(this.value - 0.999999999999999986409302776619059759057679898798192459517020044702050192775919) <= 1.0e-5);\n",
       "  var msgBox = document.getElementById('Q0M5vnIT_message');\n",
       "  \n",
       "    quizquestions_scorecard[\"Q0M5vnIT\"][\"attempts\"] += 1;\n",
       "\n",
       "  if(correct) {\n",
       "    msgBox.innerHTML = \"<div class='pluto-output admonition note alert alert-success'><span> 👍&nbsp; Correcto </span></div>\";\n",
       "    var explanation = document.getElementById(\"explanation_Q0M5vnIT\")\n",
       "    if (explanation != null) {\n",
       "       explanation.style.display = \"none\";\n",
       "    }\n",
       "      quizquestions_scorecard[\"Q0M5vnIT\"][\"correct\"] = true;\n",
       "  if (typeof score_summary !== 'undefined') {\n",
       "     score_summary()\n",
       "  }\n",
       "\n",
       "\n",
       "  } else {\n",
       "    msgBox.innerHTML = \"<div class='pluto-output admonition alert alert-danger'><span>👎&nbsp; Incorrecto </span></div>\";\n",
       "    var explanation = document.getElementById(\"explanation_Q0M5vnIT\")\n",
       "    if (explanation != null) {\n",
       "       explanation.style.display = \"block\";\n",
       "    }\n",
       "      quizquestions_scorecard[\"Q0M5vnIT\"][\"correct\"] = false;\n",
       "  if (typeof score_summary !== 'undefined') {\n",
       "     score_summary()\n",
       "  }\n",
       "\n",
       "  }\n",
       "\n",
       "});\n",
       "\n",
       "</script>\n"
      ],
      "text/latex": [
       "\\vspace{18pt}*Hint: *\n",
       "\n",
       "Introducir hasta 5 decimales\n",
       "\n"
      ],
      "text/plain": [
       "QuizQuestions.Numericq(0.999999999999999986409302776619059759057679898798192459517020044702050192775919, 1.0e-5, \"\", \"\", \"Introducir hasta 5 decimales\", \"\", nothing)"
      ]
     },
     "execution_count": 35,
     "metadata": {},
     "output_type": "execute_result"
    }
   ],
   "source": [
    "#| echo: false\n",
    "using QuadGK\n",
    "@vars x real = true\n",
    "f(x) = exp(-1/2 * x^2)/sqrt(2*pi)\n",
    "sol = N(integrate(f(x), -oo, oo))\n",
    "numericq(sol, 1e-5, hint=\"Introducir hasta 5 decimales\")"
   ]
  },
  {
   "cell_type": "code",
   "execution_count": 36,
   "id": "8879c472",
   "metadata": {
    "hold": true
   },
   "outputs": [
    {
     "data": {
      "text/html": [
       "<script>\n",
       "if (typeof quizquestions_scorecard === 'undefined') {\n",
       "   quizquestions_scorecard = {};\n",
       "}\n",
       "var ID = \"qFClNuez\"\n",
       "if (typeof quizquestions_scorecard[ID] === 'undefined') {\n",
       "      quizquestions_scorecard[ID] = {attempts: 0, correct: false};\n",
       "}\n",
       "</script>\n",
       "<form class=\"mx-2 my-3 mw-100\" name='WeaveQuestion' data-id='qFClNuez' data-controltype=''>\n",
       "  <div class='form-group '>\n",
       "    <div class='controls'>\n",
       "      <div class=\"form\" id=\"controls_qFClNuez\">\n",
       "        <div style=\"padding-top: 5px\">\n",
       "    </br>\n",
       "<div class=\"input-group\">\n",
       "    <input id=\"qFClNuez\" type=\"number\" class=\"form-control\" placeholder=\"Respuesta numérica\">\n",
       "    <span  class=\"input-group-append\" href=\"#\" title=\"Introducir hasta 5 decimales\">&nbsp;🎁</span>\n",
       "</div>\n",
       "\n",
       "    \n",
       "        </div>\n",
       "      </div>\n",
       "      <div id='qFClNuez_message' style=\"padding-bottom: 15px\"></div>\n",
       "    </div>\n",
       "  </div>\n",
       "</form>\n",
       "\n",
       "<script text='text/javascript'>\n",
       "document.getElementById(\"qFClNuez\").addEventListener(\"change\", function() {\n",
       "  var correct = (Math.abs(this.value - 13.90662400696743681222462499568062378797049503798810312867680827917643712792353) <= 1.0e-5);\n",
       "  var msgBox = document.getElementById('qFClNuez_message');\n",
       "  \n",
       "    quizquestions_scorecard[\"qFClNuez\"][\"attempts\"] += 1;\n",
       "\n",
       "  if(correct) {\n",
       "    msgBox.innerHTML = \"<div class='pluto-output admonition note alert alert-success'><span> 👍&nbsp; Correcto </span></div>\";\n",
       "    var explanation = document.getElementById(\"explanation_qFClNuez\")\n",
       "    if (explanation != null) {\n",
       "       explanation.style.display = \"none\";\n",
       "    }\n",
       "      quizquestions_scorecard[\"qFClNuez\"][\"correct\"] = true;\n",
       "  if (typeof score_summary !== 'undefined') {\n",
       "     score_summary()\n",
       "  }\n",
       "\n",
       "\n",
       "  } else {\n",
       "    msgBox.innerHTML = \"<div class='pluto-output admonition alert alert-danger'><span>👎&nbsp; Incorrecto </span></div>\";\n",
       "    var explanation = document.getElementById(\"explanation_qFClNuez\")\n",
       "    if (explanation != null) {\n",
       "       explanation.style.display = \"block\";\n",
       "    }\n",
       "      quizquestions_scorecard[\"qFClNuez\"][\"correct\"] = false;\n",
       "  if (typeof score_summary !== 'undefined') {\n",
       "     score_summary()\n",
       "  }\n",
       "\n",
       "  }\n",
       "\n",
       "});\n",
       "\n",
       "</script>\n"
      ],
      "text/latex": [
       "\\vspace{18pt}*Hint: *\n",
       "\n",
       "Introducir hasta 5 decimales\n",
       "\n"
      ],
      "text/plain": [
       "QuizQuestions.Numericq(13.90662400696743681222462499568062378797049503798810312867680827917643712792353, 1.0e-5, \"\", \"\", \"Introducir hasta 5 decimales\", \"\", nothing)"
      ]
     },
     "execution_count": 36,
     "metadata": {},
     "output_type": "execute_result"
    }
   ],
   "source": [
    "#| echo: false\n",
    "@vars t real = true\n",
    "T(t) = 100t*exp(-t)\n",
    "sol = N(1/5 * integrate(T(t), 1, 5))\n",
    "numericq(sol, 1e-5, hint=\"Introducir hasta 5 decimales\")"
   ]
  }
 ],
 "metadata": {
  "kernelspec": {
   "display_name": "Julia 1.8.2",
   "language": "julia",
   "name": "julia-1.8"
  },
  "language_info": {
   "file_extension": ".jl",
   "mimetype": "application/julia",
   "name": "julia",
   "version": "1.8.5"
  }
 },
 "nbformat": 4,
 "nbformat_minor": 5
}